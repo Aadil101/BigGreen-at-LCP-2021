{
 "metadata": {
  "language_info": {
   "codemirror_mode": {
    "name": "ipython",
    "version": 3
   },
   "file_extension": ".py",
   "mimetype": "text/x-python",
   "name": "python",
   "nbconvert_exporter": "python",
   "pygments_lexer": "ipython3",
   "version": "3.6.8-final"
  },
  "orig_nbformat": 2,
  "kernelspec": {
   "name": "python36864bitvenv3629473cfa3d5f438ab84660e2a004d579",
   "display_name": "Python 3.6.8 64-bit ('venv3.6')",
   "language": "python"
  }
 },
 "nbformat": 4,
 "nbformat_minor": 2,
 "cells": [
  {
   "source": [
    "Imports"
   ],
   "cell_type": "markdown",
   "metadata": {}
  },
  {
   "cell_type": "code",
   "execution_count": 7,
   "metadata": {},
   "outputs": [],
   "source": [
    "import numpy as np\n",
    "import pandas as pd\n",
    "pd.set_option('display.max_rows', 60)\n",
    "from sklearn.linear_model import LinearRegression, Lasso, Ridge, ElasticNet\n",
    "from sklearn.metrics import mean_absolute_error, make_scorer\n",
    "from sklearn.metrics.pairwise import cosine_similarity\n",
    "from sklearn.model_selection import train_test_split, cross_validate, StratifiedShuffleSplit\n",
    "from sklearn.metrics import ndcg_score, make_scorer, mean_squared_error\n",
    "from sklearn.preprocessing import StandardScaler, LabelEncoder, KBinsDiscretizer\n",
    "from sklearn.preprocessing import PowerTransformer, QuantileTransformer, PolynomialFeatures\n",
    "from sklearn.feature_extraction.text import TfidfVectorizer, CountVectorizer\n",
    "from sklearn.feature_selection import SelectKBest, mutual_info_regression\n",
    "from sklearn.feature_selection import f_regression, SelectFromModel, RFECV\n",
    "from sklearn.decomposition import PCA\n",
    "from sklearn.utils.class_weight import compute_class_weight, compute_sample_weight\n",
    "from sklearn.compose import TransformedTargetRegressor\n",
    "from sklearn.neighbors import KNeighborsRegressor\n",
    "from sklearn.tree import DecisionTreeRegressor\n",
    "from sklearn.ensemble import RandomForestRegressor\n",
    "import nltk\n",
    "from nltk.corpus import wordnet as wn\n",
    "from nltk.stem import PorterStemmer, WordNetLemmatizer\n",
    "from nltk.tokenize import word_tokenize, sent_tokenize\n",
    "from nltk import pos_tag\n",
    "from nltk.wsd import lesk\n",
    "import csv\n",
    "import matplotlib.pyplot as plt\n",
    "from tqdm import tqdm\n",
    "from itertools import combinations\n",
    "import pickle5 as pkl\n",
    "import json\n",
    "import matplotlib.pyplot as plt\n",
    "import os\n",
    "import ast\n",
    "import inspect\n",
    "from utils import *\n",
    "import re\n",
    "from scipy.stats import rankdata, pearsonr, spearmanr, stats\n",
    "from imblearn.over_sampling import SMOTE\n",
    "import smogn\n",
    "import seaborn as sns\n",
    "from statsmodels.stats.outliers_influence import variance_inflation_factor\n",
    "from statsmodels.distributions.empirical_distribution import ECDF\n",
    "from collections import Counter\n",
    "import random\n",
    "from scipy import stats\n",
    "from functools import partial\n",
    "import statsmodels.api as sm\n",
    "import math\n",
    "from mlxtend.feature_selection import SequentialFeatureSelector"
   ]
  },
  {
   "source": [
    "# Incoming from macbook"
   ],
   "cell_type": "markdown",
   "metadata": {}
  },
  {
   "cell_type": "code",
   "execution_count": 9,
   "metadata": {},
   "outputs": [],
   "source": [
    "job = 'pickle'\n",
    "path = './data/'+job\n",
    "if not os.path.isdir(path): os.mkdir(path)\n",
    "if not os.path.isdir(path+'/macbook/'): os.mkdir(path+'/macbook/')\n",
    "if not os.path.isdir(path+'/colab/'): os.mkdir(path+'/colab/')"
   ]
  },
  {
   "source": [
    "# Feature selection"
   ],
   "cell_type": "markdown",
   "metadata": {}
  },
  {
   "cell_type": "code",
   "execution_count": 10,
   "metadata": {},
   "outputs": [],
   "source": [
    "multi_train = pd.read_csv('./data/'+job+'/multi_train_j.tsv', sep='\\t', index_col=0)\n",
    "X = load_features_stacked(job, 'multi_train')\n",
    "y = multi_train['complexity'].to_numpy()\n",
    "multi_trial = pd.read_csv('./data/'+job+'/multi_trial_j.tsv', sep='\\t', index_col=0)\n",
    "X_trial = load_features_stacked(job, 'multi_trial')\n",
    "y_trial = multi_trial['complexity'].to_numpy()"
   ]
  },
  {
   "cell_type": "code",
   "execution_count": 11,
   "metadata": {},
   "outputs": [],
   "source": [
    "multi_train_feature_name_2_idx = load_feature_name_2_idx(job, 'multi_train')\n",
    "multi_train_feature_idx_2_name = {value:key for key, value in multi_train_feature_name_2_idx.items()}\n",
    "multi_trial_feature_name_2_idx = load_feature_name_2_idx(job, 'multi_trial')\n",
    "multi_trial_feature_idx_2_name = {value:key for key, value in multi_trial_feature_name_2_idx.items()}\n",
    "feature_names, mi = get_sorted_mi('./data/'+job+'/multi_train_mi.txt')"
   ]
  },
  {
   "cell_type": "code",
   "execution_count": 9,
   "metadata": {},
   "outputs": [],
   "source": [
    "picks = feature_names[:100]"
   ]
  },
  {
   "cell_type": "code",
   "execution_count": 10,
   "metadata": {},
   "outputs": [
    {
     "output_type": "stream",
     "name": "stdout",
     "text": [
      "0.07824707310344041 0.004555014752566767\n0.7718454409667899 0.021300673250222103\n0.7776542404104144 0.02016503811026951\nCPU times: user 2.1 s, sys: 6.64 s, total: 8.74 s\nWall time: 313 ms\n"
     ]
    }
   ],
   "source": [
    "%%time\n",
    "n_splits = 5\n",
    "test_size = 0.1\n",
    "scoring = {'MAE':make_scorer(MAE), 'pearson':make_scorer(pearson), 'spearman':make_scorer(spearman)}\n",
    "col_idx = np.array([multi_train_feature_name_2_idx[pick] for pick in picks])\n",
    "X_picks= X[:, col_idx]\n",
    "custom_cv = custom_cv_folds(multi_train, n_splits=n_splits, test_size=test_size)\n",
    "model = LinearRegression()\n",
    "scores = cross_validate(model, X_picks.astype(float), y, cv=custom_cv, scoring=scoring)\n",
    "print(np.mean(scores['test_MAE']), np.std(scores['test_MAE']))\n",
    "print(np.mean(scores['test_pearson']), np.std(scores['test_pearson']))\n",
    "print(np.mean(scores['test_spearman']), np.std(scores['test_spearman']))"
   ]
  },
  {
   "cell_type": "code",
   "execution_count": 11,
   "metadata": {},
   "outputs": [
    {
     "output_type": "execute_result",
     "data": {
      "text/plain": [
       "(0.08846834320196961, 0.7226971241416329, 0.7034281448948495)"
      ]
     },
     "metadata": {},
     "execution_count": 11
    }
   ],
   "source": [
    "model = model.fit(X_picks, y)\n",
    "col_trial_idx = np.array([multi_trial_feature_name_2_idx[pick] for pick in picks])\n",
    "X_trial_picks = X_trial[:, col_trial_idx]\n",
    "y_trial_pred = model.predict(X_trial_picks)\n",
    "MAE(y_trial_pred, y_trial), pearson(y_trial_pred, y_trial), spearman(y_trial_pred, y_trial)"
   ]
  },
  {
   "cell_type": "code",
   "execution_count": null,
   "metadata": {},
   "outputs": [],
   "source": [
    "test_MAEs, test_pearsons, test_spearmans = [], [], []"
   ]
  },
  {
   "cell_type": "code",
   "execution_count": null,
   "metadata": {},
   "outputs": [],
   "source": [
    "n_splits = 5\n",
    "test_size = 0.1\n",
    "for i in tqdm(range(401, 500+1)):\n",
    "    picks = feature_names[:i]\n",
    "    col_idx = np.array([multi_train_feature_name_2_idx[pick] for pick in picks])\n",
    "    X_picks= X[:, col_idx]\n",
    "    custom_cv = custom_cv_folds(multi_train, n_splits=n_splits, test_size=test_size)\n",
    "    model = LinearRegression()\n",
    "    scores = cross_validate(model, X_picks, y, cv=custom_cv, scoring=scoring)\n",
    "    test_MAEs.append(np.mean(scores['test_MAE']))\n",
    "    test_pearsons.append(np.mean(scores['test_pearson']))\n",
    "    test_spearmans.append(np.mean(scores['test_spearman']))"
   ]
  },
  {
   "cell_type": "code",
   "execution_count": null,
   "metadata": {},
   "outputs": [],
   "source": [
    "plt.scatter(range(1, 500), test_pearsons[1:]); plt.plot(range(1, 500), test_pearsons[1:]);"
   ]
  },
  {
   "cell_type": "code",
   "execution_count": null,
   "metadata": {},
   "outputs": [],
   "source": [
    "best_picks = []\n",
    "best_pearson = 0\n",
    "for pick in tqdm(feature_names):\n",
    "    #if pick.startswith(('glove_word', 'glove_context', 'infersent_embeddings', 'elmo_word')):\n",
    "    #    continue\n",
    "    if pick.startswith(('glove_context', 'infersent_embeddings')):\n",
    "        continue\n",
    "    best_picks.append(pick)\n",
    "    col_idx = np.array([multi_train_feature_name_2_idx[pick] for pick in best_picks])\n",
    "    X_picks= X[:, col_idx]\n",
    "    custom_cv = custom_cv_folds(multi_train, n_splits=n_splits, test_size=test_size)\n",
    "    model = LinearRegression()\n",
    "    scores = cross_validate(model, X_picks, y, cv=custom_cv, scoring=scoring)\n",
    "    t, p = stats.ttest_1samp(scores['test_pearson'], best_pearson)\n",
    "    #t > 0, p/2 > 0.05 : inconclusive, #t > 0, p/2 < 0.05 : new best pearson\n",
    "    #t < 0, p/2 > 0.05 : inconclusive, #t < 0, p/2 < 0.05 : remove\n",
    "    if t > 0 and p/2 < 0.05:\n",
    "        best_pearson = np.mean(scores['test_pearson'])\n",
    "    elif t < 0 and p/2 < 0.05:\n",
    "        del best_picks[-1]\n",
    "    '''\n",
    "    #t > 0, p/2 > 0.05 : remove, #t > 0, p/2 < 0.05 : add, new best pearson \n",
    "    #t < 0, p/2 > 0.05 : remove, #t < 0, p/2 < 0.05 : remove\n",
    "    if t > 0 and p/2 < 0.05:\n",
    "        best_pearson = np.mean(scores['test_pearson'])\n",
    "    else:\n",
    "        del best_picks[-1]\n",
    "    '''"
   ]
  },
  {
   "source": [
    "# Playground"
   ],
   "cell_type": "markdown",
   "metadata": {}
  },
  {
   "cell_type": "code",
   "execution_count": 12,
   "metadata": {},
   "outputs": [],
   "source": [
    "#multi_train_mini_idx, multi_dev_mini_idx = next(custom_cv_folds(multi_train, n_splits=1, test_size=0.1))\n",
    "multi_train_mini_idx, multi_dev_mini_idx = np.load('./data/'+job+'/multi_train_mini_idx.npy'), np.load('./data/'+job+'/multi_dev_mini_idx.npy')\n",
    "multi_train_mini = multi_train.iloc[multi_train_mini_idx]\n",
    "multi_dev_mini = multi_train.iloc[multi_dev_mini_idx]\n",
    "#np.save('./data/pickle/multi_train_mini_idx', multi_train_mini_idx)\n",
    "#np.save('./data/pickle/multi_dev_mini_idx', multi_dev_mini_idx)\n",
    "#preprocess_for_bert(multi_train_mini, './data/'+job+'/colab/multi_train_bert.tsv', do_round=False)\n",
    "#preprocess_for_bert(multi_dev_mini, './data/'+job+'/colab/multi_dev_bert.tsv', do_round=False)"
   ]
  },
  {
   "cell_type": "code",
   "execution_count": 13,
   "metadata": {},
   "outputs": [],
   "source": [
    "X_train_mini = X[multi_train_mini_idx, :]\n",
    "X_dev_mini = X[multi_dev_mini_idx, :]\n",
    "y_train_mini = y[np.array(multi_train_mini_idx)]\n",
    "y_dev_mini = y[np.array(multi_dev_mini_idx)]"
   ]
  },
  {
   "source": [
    "## Filter method: K-best by pearson\n",
    "Assumptions of pearson:\n",
    "- Both variables should be normally distributed.\n",
    "- A straight-line relationship between the two variables.\n",
    "- Data is equally distributed around the regression line."
   ],
   "cell_type": "markdown",
   "metadata": {}
  },
  {
   "cell_type": "code",
   "execution_count": 15,
   "metadata": {},
   "outputs": [],
   "source": [
    "k_lst, pearson_lst = [], []"
   ]
  },
  {
   "source": [
    "for k in tqdm(range(1,300+1)):\n",
    "    k_lst.append(k)\n",
    "    skb = SelectKBest(score_func=f_regression, k=k)\n",
    "    skb.fit(X_train_mini, y_train_mini)\n",
    "    col_idx = skb.get_support(indices=True)\n",
    "    X_train_mini_picks = X_train_mini[:, col_idx]\n",
    "    X_dev_mini_picks = X_dev_mini[:, col_idx]\n",
    "    picks = [multi_train_feature_idx_2_name[support] for support in col_idx]\n",
    "    model = LinearRegression()\n",
    "    model = model.fit(X_train_mini_picks, y_train_mini)\n",
    "    y_dev_mini_pred = model.predict(X_dev_mini_picks)\n",
    "    pearson_lst.append(pearson(y_dev_mini_pred, y_dev_mini))"
   ],
   "cell_type": "code",
   "metadata": {},
   "execution_count": null,
   "outputs": []
  },
  {
   "cell_type": "code",
   "execution_count": 19,
   "metadata": {},
   "outputs": [
    {
     "output_type": "execute_result",
     "data": {
      "text/plain": [
       "Text(0, 0.5, 'pearson')"
      ]
     },
     "metadata": {},
     "execution_count": 19
    },
    {
     "output_type": "display_data",
     "data": {
      "text/plain": "<Figure size 432x288 with 1 Axes>",
      "image/svg+xml": "<?xml version=\"1.0\" encoding=\"utf-8\" standalone=\"no\"?>\n<!DOCTYPE svg PUBLIC \"-//W3C//DTD SVG 1.1//EN\"\n  \"http://www.w3.org/Graphics/SVG/1.1/DTD/svg11.dtd\">\n<!-- Created with matplotlib (https://matplotlib.org/) -->\n<svg height=\"277.314375pt\" version=\"1.1\" viewBox=\"0 0 392.14375 277.314375\" width=\"392.14375pt\" xmlns=\"http://www.w3.org/2000/svg\" xmlns:xlink=\"http://www.w3.org/1999/xlink\">\n <metadata>\n  <rdf:RDF xmlns:cc=\"http://creativecommons.org/ns#\" xmlns:dc=\"http://purl.org/dc/elements/1.1/\" xmlns:rdf=\"http://www.w3.org/1999/02/22-rdf-syntax-ns#\">\n   <cc:Work>\n    <dc:type rdf:resource=\"http://purl.org/dc/dcmitype/StillImage\"/>\n    <dc:date>2021-01-11T16:43:10.962911</dc:date>\n    <dc:format>image/svg+xml</dc:format>\n    <dc:creator>\n     <cc:Agent>\n      <dc:title>Matplotlib v3.3.3, https://matplotlib.org/</dc:title>\n     </cc:Agent>\n    </dc:creator>\n   </cc:Work>\n  </rdf:RDF>\n </metadata>\n <defs>\n  <style type=\"text/css\">*{stroke-linecap:butt;stroke-linejoin:round;}</style>\n </defs>\n <g id=\"figure_1\">\n  <g id=\"patch_1\">\n   <path d=\"M 0 277.314375 \nL 392.14375 277.314375 \nL 392.14375 0 \nL 0 0 \nz\n\" style=\"fill:none;\"/>\n  </g>\n  <g id=\"axes_1\">\n   <g id=\"patch_2\">\n    <path d=\"M 50.14375 239.758125 \nL 384.94375 239.758125 \nL 384.94375 22.318125 \nL 50.14375 22.318125 \nz\n\" style=\"fill:#ffffff;\"/>\n   </g>\n   <g id=\"matplotlib.axis_1\">\n    <g id=\"xtick_1\">\n     <g id=\"line2d_1\">\n      <defs>\n       <path d=\"M 0 0 \nL 0 3.5 \n\" id=\"mbc58cf05b8\" style=\"stroke:#000000;stroke-width:0.8;\"/>\n      </defs>\n      <g>\n       <use style=\"stroke:#000000;stroke-width:0.8;\" x=\"64.343993\" xlink:href=\"#mbc58cf05b8\" y=\"239.758125\"/>\n      </g>\n     </g>\n     <g id=\"text_1\">\n      <!-- 0 -->\n      <g transform=\"translate(61.162743 254.356562)scale(0.1 -0.1)\">\n       <defs>\n        <path d=\"M 31.78125 66.40625 \nQ 24.171875 66.40625 20.328125 58.90625 \nQ 16.5 51.421875 16.5 36.375 \nQ 16.5 21.390625 20.328125 13.890625 \nQ 24.171875 6.390625 31.78125 6.390625 \nQ 39.453125 6.390625 43.28125 13.890625 \nQ 47.125 21.390625 47.125 36.375 \nQ 47.125 51.421875 43.28125 58.90625 \nQ 39.453125 66.40625 31.78125 66.40625 \nz\nM 31.78125 74.21875 \nQ 44.046875 74.21875 50.515625 64.515625 \nQ 56.984375 54.828125 56.984375 36.375 \nQ 56.984375 17.96875 50.515625 8.265625 \nQ 44.046875 -1.421875 31.78125 -1.421875 \nQ 19.53125 -1.421875 13.0625 8.265625 \nQ 6.59375 17.96875 6.59375 36.375 \nQ 6.59375 54.828125 13.0625 64.515625 \nQ 19.53125 74.21875 31.78125 74.21875 \nz\n\" id=\"DejaVuSans-48\"/>\n       </defs>\n       <use xlink:href=\"#DejaVuSans-48\"/>\n      </g>\n     </g>\n    </g>\n    <g id=\"xtick_2\">\n     <g id=\"line2d_2\">\n      <g>\n       <use style=\"stroke:#000000;stroke-width:0.8;\" x=\"115.240922\" xlink:href=\"#mbc58cf05b8\" y=\"239.758125\"/>\n      </g>\n     </g>\n     <g id=\"text_2\">\n      <!-- 50 -->\n      <g transform=\"translate(108.878422 254.356562)scale(0.1 -0.1)\">\n       <defs>\n        <path d=\"M 10.796875 72.90625 \nL 49.515625 72.90625 \nL 49.515625 64.59375 \nL 19.828125 64.59375 \nL 19.828125 46.734375 \nQ 21.96875 47.46875 24.109375 47.828125 \nQ 26.265625 48.1875 28.421875 48.1875 \nQ 40.625 48.1875 47.75 41.5 \nQ 54.890625 34.8125 54.890625 23.390625 \nQ 54.890625 11.625 47.5625 5.09375 \nQ 40.234375 -1.421875 26.90625 -1.421875 \nQ 22.3125 -1.421875 17.546875 -0.640625 \nQ 12.796875 0.140625 7.71875 1.703125 \nL 7.71875 11.625 \nQ 12.109375 9.234375 16.796875 8.0625 \nQ 21.484375 6.890625 26.703125 6.890625 \nQ 35.15625 6.890625 40.078125 11.328125 \nQ 45.015625 15.765625 45.015625 23.390625 \nQ 45.015625 31 40.078125 35.4375 \nQ 35.15625 39.890625 26.703125 39.890625 \nQ 22.75 39.890625 18.8125 39.015625 \nQ 14.890625 38.140625 10.796875 36.28125 \nz\n\" id=\"DejaVuSans-53\"/>\n       </defs>\n       <use xlink:href=\"#DejaVuSans-53\"/>\n       <use x=\"63.623047\" xlink:href=\"#DejaVuSans-48\"/>\n      </g>\n     </g>\n    </g>\n    <g id=\"xtick_3\">\n     <g id=\"line2d_3\">\n      <g>\n       <use style=\"stroke:#000000;stroke-width:0.8;\" x=\"166.137852\" xlink:href=\"#mbc58cf05b8\" y=\"239.758125\"/>\n      </g>\n     </g>\n     <g id=\"text_3\">\n      <!-- 100 -->\n      <g transform=\"translate(156.594102 254.356562)scale(0.1 -0.1)\">\n       <defs>\n        <path d=\"M 12.40625 8.296875 \nL 28.515625 8.296875 \nL 28.515625 63.921875 \nL 10.984375 60.40625 \nL 10.984375 69.390625 \nL 28.421875 72.90625 \nL 38.28125 72.90625 \nL 38.28125 8.296875 \nL 54.390625 8.296875 \nL 54.390625 0 \nL 12.40625 0 \nz\n\" id=\"DejaVuSans-49\"/>\n       </defs>\n       <use xlink:href=\"#DejaVuSans-49\"/>\n       <use x=\"63.623047\" xlink:href=\"#DejaVuSans-48\"/>\n       <use x=\"127.246094\" xlink:href=\"#DejaVuSans-48\"/>\n      </g>\n     </g>\n    </g>\n    <g id=\"xtick_4\">\n     <g id=\"line2d_4\">\n      <g>\n       <use style=\"stroke:#000000;stroke-width:0.8;\" x=\"217.034781\" xlink:href=\"#mbc58cf05b8\" y=\"239.758125\"/>\n      </g>\n     </g>\n     <g id=\"text_4\">\n      <!-- 150 -->\n      <g transform=\"translate(207.491031 254.356562)scale(0.1 -0.1)\">\n       <use xlink:href=\"#DejaVuSans-49\"/>\n       <use x=\"63.623047\" xlink:href=\"#DejaVuSans-53\"/>\n       <use x=\"127.246094\" xlink:href=\"#DejaVuSans-48\"/>\n      </g>\n     </g>\n    </g>\n    <g id=\"xtick_5\">\n     <g id=\"line2d_5\">\n      <g>\n       <use style=\"stroke:#000000;stroke-width:0.8;\" x=\"267.93171\" xlink:href=\"#mbc58cf05b8\" y=\"239.758125\"/>\n      </g>\n     </g>\n     <g id=\"text_5\">\n      <!-- 200 -->\n      <g transform=\"translate(258.38796 254.356562)scale(0.1 -0.1)\">\n       <defs>\n        <path d=\"M 19.1875 8.296875 \nL 53.609375 8.296875 \nL 53.609375 0 \nL 7.328125 0 \nL 7.328125 8.296875 \nQ 12.9375 14.109375 22.625 23.890625 \nQ 32.328125 33.6875 34.8125 36.53125 \nQ 39.546875 41.84375 41.421875 45.53125 \nQ 43.3125 49.21875 43.3125 52.78125 \nQ 43.3125 58.59375 39.234375 62.25 \nQ 35.15625 65.921875 28.609375 65.921875 \nQ 23.96875 65.921875 18.8125 64.3125 \nQ 13.671875 62.703125 7.8125 59.421875 \nL 7.8125 69.390625 \nQ 13.765625 71.78125 18.9375 73 \nQ 24.125 74.21875 28.421875 74.21875 \nQ 39.75 74.21875 46.484375 68.546875 \nQ 53.21875 62.890625 53.21875 53.421875 \nQ 53.21875 48.921875 51.53125 44.890625 \nQ 49.859375 40.875 45.40625 35.40625 \nQ 44.1875 33.984375 37.640625 27.21875 \nQ 31.109375 20.453125 19.1875 8.296875 \nz\n\" id=\"DejaVuSans-50\"/>\n       </defs>\n       <use xlink:href=\"#DejaVuSans-50\"/>\n       <use x=\"63.623047\" xlink:href=\"#DejaVuSans-48\"/>\n       <use x=\"127.246094\" xlink:href=\"#DejaVuSans-48\"/>\n      </g>\n     </g>\n    </g>\n    <g id=\"xtick_6\">\n     <g id=\"line2d_6\">\n      <g>\n       <use style=\"stroke:#000000;stroke-width:0.8;\" x=\"318.828639\" xlink:href=\"#mbc58cf05b8\" y=\"239.758125\"/>\n      </g>\n     </g>\n     <g id=\"text_6\">\n      <!-- 250 -->\n      <g transform=\"translate(309.284889 254.356562)scale(0.1 -0.1)\">\n       <use xlink:href=\"#DejaVuSans-50\"/>\n       <use x=\"63.623047\" xlink:href=\"#DejaVuSans-53\"/>\n       <use x=\"127.246094\" xlink:href=\"#DejaVuSans-48\"/>\n      </g>\n     </g>\n    </g>\n    <g id=\"xtick_7\">\n     <g id=\"line2d_7\">\n      <g>\n       <use style=\"stroke:#000000;stroke-width:0.8;\" x=\"369.725568\" xlink:href=\"#mbc58cf05b8\" y=\"239.758125\"/>\n      </g>\n     </g>\n     <g id=\"text_7\">\n      <!-- 300 -->\n      <g transform=\"translate(360.181818 254.356562)scale(0.1 -0.1)\">\n       <defs>\n        <path d=\"M 40.578125 39.3125 \nQ 47.65625 37.796875 51.625 33 \nQ 55.609375 28.21875 55.609375 21.1875 \nQ 55.609375 10.40625 48.1875 4.484375 \nQ 40.765625 -1.421875 27.09375 -1.421875 \nQ 22.515625 -1.421875 17.65625 -0.515625 \nQ 12.796875 0.390625 7.625 2.203125 \nL 7.625 11.71875 \nQ 11.71875 9.328125 16.59375 8.109375 \nQ 21.484375 6.890625 26.8125 6.890625 \nQ 36.078125 6.890625 40.9375 10.546875 \nQ 45.796875 14.203125 45.796875 21.1875 \nQ 45.796875 27.640625 41.28125 31.265625 \nQ 36.765625 34.90625 28.71875 34.90625 \nL 20.21875 34.90625 \nL 20.21875 43.015625 \nL 29.109375 43.015625 \nQ 36.375 43.015625 40.234375 45.921875 \nQ 44.09375 48.828125 44.09375 54.296875 \nQ 44.09375 59.90625 40.109375 62.90625 \nQ 36.140625 65.921875 28.71875 65.921875 \nQ 24.65625 65.921875 20.015625 65.03125 \nQ 15.375 64.15625 9.8125 62.3125 \nL 9.8125 71.09375 \nQ 15.4375 72.65625 20.34375 73.4375 \nQ 25.25 74.21875 29.59375 74.21875 \nQ 40.828125 74.21875 47.359375 69.109375 \nQ 53.90625 64.015625 53.90625 55.328125 \nQ 53.90625 49.265625 50.4375 45.09375 \nQ 46.96875 40.921875 40.578125 39.3125 \nz\n\" id=\"DejaVuSans-51\"/>\n       </defs>\n       <use xlink:href=\"#DejaVuSans-51\"/>\n       <use x=\"63.623047\" xlink:href=\"#DejaVuSans-48\"/>\n       <use x=\"127.246094\" xlink:href=\"#DejaVuSans-48\"/>\n      </g>\n     </g>\n    </g>\n    <g id=\"text_8\">\n     <!-- k -->\n     <g transform=\"translate(214.648438 268.034687)scale(0.1 -0.1)\">\n      <defs>\n       <path d=\"M 9.078125 75.984375 \nL 18.109375 75.984375 \nL 18.109375 31.109375 \nL 44.921875 54.6875 \nL 56.390625 54.6875 \nL 27.390625 29.109375 \nL 57.625 0 \nL 45.90625 0 \nL 18.109375 26.703125 \nL 18.109375 0 \nL 9.078125 0 \nz\n\" id=\"DejaVuSans-107\"/>\n      </defs>\n      <use xlink:href=\"#DejaVuSans-107\"/>\n     </g>\n    </g>\n   </g>\n   <g id=\"matplotlib.axis_2\">\n    <g id=\"ytick_1\">\n     <g id=\"line2d_8\">\n      <defs>\n       <path d=\"M 0 0 \nL -3.5 0 \n\" id=\"m213f5154c1\" style=\"stroke:#000000;stroke-width:0.8;\"/>\n      </defs>\n      <g>\n       <use style=\"stroke:#000000;stroke-width:0.8;\" x=\"50.14375\" xlink:href=\"#m213f5154c1\" y=\"227.030189\"/>\n      </g>\n     </g>\n     <g id=\"text_9\">\n      <!-- 0.64 -->\n      <g transform=\"translate(20.878125 230.829408)scale(0.1 -0.1)\">\n       <defs>\n        <path d=\"M 10.6875 12.40625 \nL 21 12.40625 \nL 21 0 \nL 10.6875 0 \nz\n\" id=\"DejaVuSans-46\"/>\n        <path d=\"M 33.015625 40.375 \nQ 26.375 40.375 22.484375 35.828125 \nQ 18.609375 31.296875 18.609375 23.390625 \nQ 18.609375 15.53125 22.484375 10.953125 \nQ 26.375 6.390625 33.015625 6.390625 \nQ 39.65625 6.390625 43.53125 10.953125 \nQ 47.40625 15.53125 47.40625 23.390625 \nQ 47.40625 31.296875 43.53125 35.828125 \nQ 39.65625 40.375 33.015625 40.375 \nz\nM 52.59375 71.296875 \nL 52.59375 62.3125 \nQ 48.875 64.0625 45.09375 64.984375 \nQ 41.3125 65.921875 37.59375 65.921875 \nQ 27.828125 65.921875 22.671875 59.328125 \nQ 17.53125 52.734375 16.796875 39.40625 \nQ 19.671875 43.65625 24.015625 45.921875 \nQ 28.375 48.1875 33.59375 48.1875 \nQ 44.578125 48.1875 50.953125 41.515625 \nQ 57.328125 34.859375 57.328125 23.390625 \nQ 57.328125 12.15625 50.6875 5.359375 \nQ 44.046875 -1.421875 33.015625 -1.421875 \nQ 20.359375 -1.421875 13.671875 8.265625 \nQ 6.984375 17.96875 6.984375 36.375 \nQ 6.984375 53.65625 15.1875 63.9375 \nQ 23.390625 74.21875 37.203125 74.21875 \nQ 40.921875 74.21875 44.703125 73.484375 \nQ 48.484375 72.75 52.59375 71.296875 \nz\n\" id=\"DejaVuSans-54\"/>\n        <path d=\"M 37.796875 64.3125 \nL 12.890625 25.390625 \nL 37.796875 25.390625 \nz\nM 35.203125 72.90625 \nL 47.609375 72.90625 \nL 47.609375 25.390625 \nL 58.015625 25.390625 \nL 58.015625 17.1875 \nL 47.609375 17.1875 \nL 47.609375 0 \nL 37.796875 0 \nL 37.796875 17.1875 \nL 4.890625 17.1875 \nL 4.890625 26.703125 \nz\n\" id=\"DejaVuSans-52\"/>\n       </defs>\n       <use xlink:href=\"#DejaVuSans-48\"/>\n       <use x=\"63.623047\" xlink:href=\"#DejaVuSans-46\"/>\n       <use x=\"95.410156\" xlink:href=\"#DejaVuSans-54\"/>\n       <use x=\"159.033203\" xlink:href=\"#DejaVuSans-52\"/>\n      </g>\n     </g>\n    </g>\n    <g id=\"ytick_2\">\n     <g id=\"line2d_9\">\n      <g>\n       <use style=\"stroke:#000000;stroke-width:0.8;\" x=\"50.14375\" xlink:href=\"#m213f5154c1\" y=\"200.483071\"/>\n      </g>\n     </g>\n     <g id=\"text_10\">\n      <!-- 0.66 -->\n      <g transform=\"translate(20.878125 204.28229)scale(0.1 -0.1)\">\n       <use xlink:href=\"#DejaVuSans-48\"/>\n       <use x=\"63.623047\" xlink:href=\"#DejaVuSans-46\"/>\n       <use x=\"95.410156\" xlink:href=\"#DejaVuSans-54\"/>\n       <use x=\"159.033203\" xlink:href=\"#DejaVuSans-54\"/>\n      </g>\n     </g>\n    </g>\n    <g id=\"ytick_3\">\n     <g id=\"line2d_10\">\n      <g>\n       <use style=\"stroke:#000000;stroke-width:0.8;\" x=\"50.14375\" xlink:href=\"#m213f5154c1\" y=\"173.935954\"/>\n      </g>\n     </g>\n     <g id=\"text_11\">\n      <!-- 0.68 -->\n      <g transform=\"translate(20.878125 177.735172)scale(0.1 -0.1)\">\n       <defs>\n        <path d=\"M 31.78125 34.625 \nQ 24.75 34.625 20.71875 30.859375 \nQ 16.703125 27.09375 16.703125 20.515625 \nQ 16.703125 13.921875 20.71875 10.15625 \nQ 24.75 6.390625 31.78125 6.390625 \nQ 38.8125 6.390625 42.859375 10.171875 \nQ 46.921875 13.96875 46.921875 20.515625 \nQ 46.921875 27.09375 42.890625 30.859375 \nQ 38.875 34.625 31.78125 34.625 \nz\nM 21.921875 38.8125 \nQ 15.578125 40.375 12.03125 44.71875 \nQ 8.5 49.078125 8.5 55.328125 \nQ 8.5 64.0625 14.71875 69.140625 \nQ 20.953125 74.21875 31.78125 74.21875 \nQ 42.671875 74.21875 48.875 69.140625 \nQ 55.078125 64.0625 55.078125 55.328125 \nQ 55.078125 49.078125 51.53125 44.71875 \nQ 48 40.375 41.703125 38.8125 \nQ 48.828125 37.15625 52.796875 32.3125 \nQ 56.78125 27.484375 56.78125 20.515625 \nQ 56.78125 9.90625 50.3125 4.234375 \nQ 43.84375 -1.421875 31.78125 -1.421875 \nQ 19.734375 -1.421875 13.25 4.234375 \nQ 6.78125 9.90625 6.78125 20.515625 \nQ 6.78125 27.484375 10.78125 32.3125 \nQ 14.796875 37.15625 21.921875 38.8125 \nz\nM 18.3125 54.390625 \nQ 18.3125 48.734375 21.84375 45.5625 \nQ 25.390625 42.390625 31.78125 42.390625 \nQ 38.140625 42.390625 41.71875 45.5625 \nQ 45.3125 48.734375 45.3125 54.390625 \nQ 45.3125 60.0625 41.71875 63.234375 \nQ 38.140625 66.40625 31.78125 66.40625 \nQ 25.390625 66.40625 21.84375 63.234375 \nQ 18.3125 60.0625 18.3125 54.390625 \nz\n\" id=\"DejaVuSans-56\"/>\n       </defs>\n       <use xlink:href=\"#DejaVuSans-48\"/>\n       <use x=\"63.623047\" xlink:href=\"#DejaVuSans-46\"/>\n       <use x=\"95.410156\" xlink:href=\"#DejaVuSans-54\"/>\n       <use x=\"159.033203\" xlink:href=\"#DejaVuSans-56\"/>\n      </g>\n     </g>\n    </g>\n    <g id=\"ytick_4\">\n     <g id=\"line2d_11\">\n      <g>\n       <use style=\"stroke:#000000;stroke-width:0.8;\" x=\"50.14375\" xlink:href=\"#m213f5154c1\" y=\"147.388836\"/>\n      </g>\n     </g>\n     <g id=\"text_12\">\n      <!-- 0.70 -->\n      <g transform=\"translate(20.878125 151.188055)scale(0.1 -0.1)\">\n       <defs>\n        <path d=\"M 8.203125 72.90625 \nL 55.078125 72.90625 \nL 55.078125 68.703125 \nL 28.609375 0 \nL 18.3125 0 \nL 43.21875 64.59375 \nL 8.203125 64.59375 \nz\n\" id=\"DejaVuSans-55\"/>\n       </defs>\n       <use xlink:href=\"#DejaVuSans-48\"/>\n       <use x=\"63.623047\" xlink:href=\"#DejaVuSans-46\"/>\n       <use x=\"95.410156\" xlink:href=\"#DejaVuSans-55\"/>\n       <use x=\"159.033203\" xlink:href=\"#DejaVuSans-48\"/>\n      </g>\n     </g>\n    </g>\n    <g id=\"ytick_5\">\n     <g id=\"line2d_12\">\n      <g>\n       <use style=\"stroke:#000000;stroke-width:0.8;\" x=\"50.14375\" xlink:href=\"#m213f5154c1\" y=\"120.841718\"/>\n      </g>\n     </g>\n     <g id=\"text_13\">\n      <!-- 0.72 -->\n      <g transform=\"translate(20.878125 124.640937)scale(0.1 -0.1)\">\n       <use xlink:href=\"#DejaVuSans-48\"/>\n       <use x=\"63.623047\" xlink:href=\"#DejaVuSans-46\"/>\n       <use x=\"95.410156\" xlink:href=\"#DejaVuSans-55\"/>\n       <use x=\"159.033203\" xlink:href=\"#DejaVuSans-50\"/>\n      </g>\n     </g>\n    </g>\n    <g id=\"ytick_6\">\n     <g id=\"line2d_13\">\n      <g>\n       <use style=\"stroke:#000000;stroke-width:0.8;\" x=\"50.14375\" xlink:href=\"#m213f5154c1\" y=\"94.2946\"/>\n      </g>\n     </g>\n     <g id=\"text_14\">\n      <!-- 0.74 -->\n      <g transform=\"translate(20.878125 98.093819)scale(0.1 -0.1)\">\n       <use xlink:href=\"#DejaVuSans-48\"/>\n       <use x=\"63.623047\" xlink:href=\"#DejaVuSans-46\"/>\n       <use x=\"95.410156\" xlink:href=\"#DejaVuSans-55\"/>\n       <use x=\"159.033203\" xlink:href=\"#DejaVuSans-52\"/>\n      </g>\n     </g>\n    </g>\n    <g id=\"ytick_7\">\n     <g id=\"line2d_14\">\n      <g>\n       <use style=\"stroke:#000000;stroke-width:0.8;\" x=\"50.14375\" xlink:href=\"#m213f5154c1\" y=\"67.747483\"/>\n      </g>\n     </g>\n     <g id=\"text_15\">\n      <!-- 0.76 -->\n      <g transform=\"translate(20.878125 71.546701)scale(0.1 -0.1)\">\n       <use xlink:href=\"#DejaVuSans-48\"/>\n       <use x=\"63.623047\" xlink:href=\"#DejaVuSans-46\"/>\n       <use x=\"95.410156\" xlink:href=\"#DejaVuSans-55\"/>\n       <use x=\"159.033203\" xlink:href=\"#DejaVuSans-54\"/>\n      </g>\n     </g>\n    </g>\n    <g id=\"ytick_8\">\n     <g id=\"line2d_15\">\n      <g>\n       <use style=\"stroke:#000000;stroke-width:0.8;\" x=\"50.14375\" xlink:href=\"#m213f5154c1\" y=\"41.200365\"/>\n      </g>\n     </g>\n     <g id=\"text_16\">\n      <!-- 0.78 -->\n      <g transform=\"translate(20.878125 44.999584)scale(0.1 -0.1)\">\n       <use xlink:href=\"#DejaVuSans-48\"/>\n       <use x=\"63.623047\" xlink:href=\"#DejaVuSans-46\"/>\n       <use x=\"95.410156\" xlink:href=\"#DejaVuSans-55\"/>\n       <use x=\"159.033203\" xlink:href=\"#DejaVuSans-56\"/>\n      </g>\n     </g>\n    </g>\n    <g id=\"text_17\">\n     <!-- pearson -->\n     <g transform=\"translate(14.798438 151.24125)rotate(-90)scale(0.1 -0.1)\">\n      <defs>\n       <path d=\"M 18.109375 8.203125 \nL 18.109375 -20.796875 \nL 9.078125 -20.796875 \nL 9.078125 54.6875 \nL 18.109375 54.6875 \nL 18.109375 46.390625 \nQ 20.953125 51.265625 25.265625 53.625 \nQ 29.59375 56 35.59375 56 \nQ 45.5625 56 51.78125 48.09375 \nQ 58.015625 40.1875 58.015625 27.296875 \nQ 58.015625 14.40625 51.78125 6.484375 \nQ 45.5625 -1.421875 35.59375 -1.421875 \nQ 29.59375 -1.421875 25.265625 0.953125 \nQ 20.953125 3.328125 18.109375 8.203125 \nz\nM 48.6875 27.296875 \nQ 48.6875 37.203125 44.609375 42.84375 \nQ 40.53125 48.484375 33.40625 48.484375 \nQ 26.265625 48.484375 22.1875 42.84375 \nQ 18.109375 37.203125 18.109375 27.296875 \nQ 18.109375 17.390625 22.1875 11.75 \nQ 26.265625 6.109375 33.40625 6.109375 \nQ 40.53125 6.109375 44.609375 11.75 \nQ 48.6875 17.390625 48.6875 27.296875 \nz\n\" id=\"DejaVuSans-112\"/>\n       <path d=\"M 56.203125 29.59375 \nL 56.203125 25.203125 \nL 14.890625 25.203125 \nQ 15.484375 15.921875 20.484375 11.0625 \nQ 25.484375 6.203125 34.421875 6.203125 \nQ 39.59375 6.203125 44.453125 7.46875 \nQ 49.3125 8.734375 54.109375 11.28125 \nL 54.109375 2.78125 \nQ 49.265625 0.734375 44.1875 -0.34375 \nQ 39.109375 -1.421875 33.890625 -1.421875 \nQ 20.796875 -1.421875 13.15625 6.1875 \nQ 5.515625 13.8125 5.515625 26.8125 \nQ 5.515625 40.234375 12.765625 48.109375 \nQ 20.015625 56 32.328125 56 \nQ 43.359375 56 49.78125 48.890625 \nQ 56.203125 41.796875 56.203125 29.59375 \nz\nM 47.21875 32.234375 \nQ 47.125 39.59375 43.09375 43.984375 \nQ 39.0625 48.390625 32.421875 48.390625 \nQ 24.90625 48.390625 20.390625 44.140625 \nQ 15.875 39.890625 15.1875 32.171875 \nz\n\" id=\"DejaVuSans-101\"/>\n       <path d=\"M 34.28125 27.484375 \nQ 23.390625 27.484375 19.1875 25 \nQ 14.984375 22.515625 14.984375 16.5 \nQ 14.984375 11.71875 18.140625 8.90625 \nQ 21.296875 6.109375 26.703125 6.109375 \nQ 34.1875 6.109375 38.703125 11.40625 \nQ 43.21875 16.703125 43.21875 25.484375 \nL 43.21875 27.484375 \nz\nM 52.203125 31.203125 \nL 52.203125 0 \nL 43.21875 0 \nL 43.21875 8.296875 \nQ 40.140625 3.328125 35.546875 0.953125 \nQ 30.953125 -1.421875 24.3125 -1.421875 \nQ 15.921875 -1.421875 10.953125 3.296875 \nQ 6 8.015625 6 15.921875 \nQ 6 25.140625 12.171875 29.828125 \nQ 18.359375 34.515625 30.609375 34.515625 \nL 43.21875 34.515625 \nL 43.21875 35.40625 \nQ 43.21875 41.609375 39.140625 45 \nQ 35.0625 48.390625 27.6875 48.390625 \nQ 23 48.390625 18.546875 47.265625 \nQ 14.109375 46.140625 10.015625 43.890625 \nL 10.015625 52.203125 \nQ 14.9375 54.109375 19.578125 55.046875 \nQ 24.21875 56 28.609375 56 \nQ 40.484375 56 46.34375 49.84375 \nQ 52.203125 43.703125 52.203125 31.203125 \nz\n\" id=\"DejaVuSans-97\"/>\n       <path d=\"M 41.109375 46.296875 \nQ 39.59375 47.171875 37.8125 47.578125 \nQ 36.03125 48 33.890625 48 \nQ 26.265625 48 22.1875 43.046875 \nQ 18.109375 38.09375 18.109375 28.8125 \nL 18.109375 0 \nL 9.078125 0 \nL 9.078125 54.6875 \nL 18.109375 54.6875 \nL 18.109375 46.1875 \nQ 20.953125 51.171875 25.484375 53.578125 \nQ 30.03125 56 36.53125 56 \nQ 37.453125 56 38.578125 55.875 \nQ 39.703125 55.765625 41.0625 55.515625 \nz\n\" id=\"DejaVuSans-114\"/>\n       <path d=\"M 44.28125 53.078125 \nL 44.28125 44.578125 \nQ 40.484375 46.53125 36.375 47.5 \nQ 32.28125 48.484375 27.875 48.484375 \nQ 21.1875 48.484375 17.84375 46.4375 \nQ 14.5 44.390625 14.5 40.28125 \nQ 14.5 37.15625 16.890625 35.375 \nQ 19.28125 33.59375 26.515625 31.984375 \nL 29.59375 31.296875 \nQ 39.15625 29.25 43.1875 25.515625 \nQ 47.21875 21.78125 47.21875 15.09375 \nQ 47.21875 7.46875 41.1875 3.015625 \nQ 35.15625 -1.421875 24.609375 -1.421875 \nQ 20.21875 -1.421875 15.453125 -0.5625 \nQ 10.6875 0.296875 5.421875 2 \nL 5.421875 11.28125 \nQ 10.40625 8.6875 15.234375 7.390625 \nQ 20.0625 6.109375 24.8125 6.109375 \nQ 31.15625 6.109375 34.5625 8.28125 \nQ 37.984375 10.453125 37.984375 14.40625 \nQ 37.984375 18.0625 35.515625 20.015625 \nQ 33.0625 21.96875 24.703125 23.78125 \nL 21.578125 24.515625 \nQ 13.234375 26.265625 9.515625 29.90625 \nQ 5.8125 33.546875 5.8125 39.890625 \nQ 5.8125 47.609375 11.28125 51.796875 \nQ 16.75 56 26.8125 56 \nQ 31.78125 56 36.171875 55.265625 \nQ 40.578125 54.546875 44.28125 53.078125 \nz\n\" id=\"DejaVuSans-115\"/>\n       <path d=\"M 30.609375 48.390625 \nQ 23.390625 48.390625 19.1875 42.75 \nQ 14.984375 37.109375 14.984375 27.296875 \nQ 14.984375 17.484375 19.15625 11.84375 \nQ 23.34375 6.203125 30.609375 6.203125 \nQ 37.796875 6.203125 41.984375 11.859375 \nQ 46.1875 17.53125 46.1875 27.296875 \nQ 46.1875 37.015625 41.984375 42.703125 \nQ 37.796875 48.390625 30.609375 48.390625 \nz\nM 30.609375 56 \nQ 42.328125 56 49.015625 48.375 \nQ 55.71875 40.765625 55.71875 27.296875 \nQ 55.71875 13.875 49.015625 6.21875 \nQ 42.328125 -1.421875 30.609375 -1.421875 \nQ 18.84375 -1.421875 12.171875 6.21875 \nQ 5.515625 13.875 5.515625 27.296875 \nQ 5.515625 40.765625 12.171875 48.375 \nQ 18.84375 56 30.609375 56 \nz\n\" id=\"DejaVuSans-111\"/>\n       <path d=\"M 54.890625 33.015625 \nL 54.890625 0 \nL 45.90625 0 \nL 45.90625 32.71875 \nQ 45.90625 40.484375 42.875 44.328125 \nQ 39.84375 48.1875 33.796875 48.1875 \nQ 26.515625 48.1875 22.3125 43.546875 \nQ 18.109375 38.921875 18.109375 30.90625 \nL 18.109375 0 \nL 9.078125 0 \nL 9.078125 54.6875 \nL 18.109375 54.6875 \nL 18.109375 46.1875 \nQ 21.34375 51.125 25.703125 53.5625 \nQ 30.078125 56 35.796875 56 \nQ 45.21875 56 50.046875 50.171875 \nQ 54.890625 44.34375 54.890625 33.015625 \nz\n\" id=\"DejaVuSans-110\"/>\n      </defs>\n      <use xlink:href=\"#DejaVuSans-112\"/>\n      <use x=\"63.476562\" xlink:href=\"#DejaVuSans-101\"/>\n      <use x=\"125\" xlink:href=\"#DejaVuSans-97\"/>\n      <use x=\"186.279297\" xlink:href=\"#DejaVuSans-114\"/>\n      <use x=\"227.392578\" xlink:href=\"#DejaVuSans-115\"/>\n      <use x=\"279.492188\" xlink:href=\"#DejaVuSans-111\"/>\n      <use x=\"340.673828\" xlink:href=\"#DejaVuSans-110\"/>\n     </g>\n    </g>\n   </g>\n   <g id=\"line2d_16\">\n    <path clip-path=\"url(#p7b0b3b82d7)\" d=\"M 65.361932 229.874489 \nL 66.37987 210.383463 \nL 67.397809 208.232705 \nL 68.415748 166.193835 \nL 69.433686 168.010205 \nL 70.451625 163.935767 \nL 71.469563 161.162274 \nL 72.487502 165.122502 \nL 73.50544 167.461933 \nL 74.523379 167.461933 \nL 75.541318 126.10818 \nL 76.559256 129.198785 \nL 77.577195 128.897399 \nL 78.595133 121.330735 \nL 79.613072 121.618938 \nL 80.631011 109.912485 \nL 81.648949 110.804322 \nL 82.666888 126.981866 \nL 83.684826 126.981866 \nL 84.702765 127.101739 \nL 85.720703 131.26158 \nL 86.738642 119.028424 \nL 87.756581 111.022842 \nL 88.774519 98.041004 \nL 89.792458 89.020329 \nL 90.810396 88.097233 \nL 91.828335 86.930204 \nL 92.846274 87.332588 \nL 93.864212 89.362328 \nL 94.882151 87.078199 \nL 95.900089 86.707298 \nL 97.935966 78.619882 \nL 98.953905 79.828402 \nL 99.971844 75.605823 \nL 100.989782 75.605823 \nL 102.007721 76.393904 \nL 103.025659 80.228615 \nL 104.043598 80.666484 \nL 105.061537 80.857752 \nL 106.079475 80.374243 \nL 107.097414 75.874771 \nL 108.115352 76.153424 \nL 109.133291 76.026748 \nL 110.151229 67.714672 \nL 111.169168 62.828965 \nL 112.187107 63.545868 \nL 113.205045 63.732214 \nL 115.240922 65.00116 \nL 116.258861 64.815909 \nL 117.2768 45.619433 \nL 118.294738 37.296906 \nL 119.312677 40.696745 \nL 120.330615 38.387035 \nL 121.348554 32.201761 \nL 122.366492 33.942715 \nL 123.384431 33.455023 \nL 124.40237 34.958154 \nL 126.438247 36.285759 \nL 128.474124 41.590826 \nL 129.492063 41.455609 \nL 130.510001 42.651287 \nL 131.52794 41.287415 \nL 132.545878 43.630307 \nL 133.563817 43.630307 \nL 134.581755 42.561891 \nL 135.599694 41.798724 \nL 137.635571 40.815449 \nL 138.65351 39.058745 \nL 139.671448 39.218083 \nL 140.689387 39.218083 \nL 141.707326 37.395045 \nL 142.725264 35.031121 \nL 143.743203 35.031121 \nL 144.761141 35.575133 \nL 145.77908 36.354843 \nL 146.797018 41.428458 \nL 148.832896 53.500879 \nL 149.850834 53.107348 \nL 150.868773 54.708164 \nL 151.886711 54.71041 \nL 153.922589 53.204676 \nL 154.940527 52.845311 \nL 155.958466 50.711925 \nL 156.976404 51.305247 \nL 157.994343 50.617913 \nL 159.012281 50.617913 \nL 160.03022 47.929766 \nL 161.048159 48.245918 \nL 162.066097 46.256115 \nL 163.084036 48.125569 \nL 164.101974 51.530959 \nL 165.119913 51.530959 \nL 166.137852 55.227563 \nL 167.15579 55.227563 \nL 168.173729 54.711227 \nL 169.191667 54.456528 \nL 170.209606 50.668835 \nL 171.227544 51.686711 \nL 172.245483 53.14721 \nL 173.263422 50.834274 \nL 174.28136 50.777591 \nL 175.299299 51.605904 \nL 177.335176 51.423711 \nL 178.353115 52.987232 \nL 179.371053 49.70724 \nL 180.388992 50.17278 \nL 181.40693 49.783967 \nL 182.424869 49.783967 \nL 183.442807 50.789528 \nL 184.460746 49.299466 \nL 185.478685 46.094976 \nL 187.514562 53.916898 \nL 188.5325 51.799639 \nL 189.550439 53.309109 \nL 190.568378 51.02782 \nL 191.586316 51.804116 \nL 192.604255 51.107563 \nL 193.622193 51.107563 \nL 194.640132 50.791202 \nL 195.65807 51.358297 \nL 196.676009 50.737344 \nL 197.693948 50.737344 \nL 199.729825 44.897259 \nL 200.747763 48.677797 \nL 201.765702 47.129013 \nL 202.783641 48.324409 \nL 203.801579 52.761722 \nL 204.819518 52.986492 \nL 205.837456 52.133512 \nL 206.855395 53.842719 \nL 207.873333 53.983909 \nL 208.891272 54.479863 \nL 209.909211 54.406407 \nL 210.927149 54.522963 \nL 211.945088 55.752836 \nL 212.963026 56.167563 \nL 213.980965 57.020839 \nL 214.998904 58.368369 \nL 216.016842 57.627215 \nL 217.034781 57.037839 \nL 218.052719 57.037839 \nL 219.070658 53.423191 \nL 220.088596 55.290145 \nL 221.106535 54.345196 \nL 223.142412 54.101225 \nL 224.160351 54.293556 \nL 225.178289 54.262339 \nL 226.196228 54.456528 \nL 227.214167 53.954807 \nL 228.232105 54.060305 \nL 229.250044 49.746591 \nL 230.267982 49.491109 \nL 231.285921 51.540696 \nL 232.303859 51.814524 \nL 235.357675 51.815217 \nL 236.375614 48.538436 \nL 237.393552 48.032176 \nL 238.411491 48.032176 \nL 239.42943 47.736963 \nL 240.447368 50.826383 \nL 241.465307 49.838369 \nL 242.483245 50.012074 \nL 243.501184 51.638045 \nL 244.519122 51.457127 \nL 245.537061 50.484527 \nL 246.555 52.041931 \nL 247.572938 52.041931 \nL 248.590877 52.894673 \nL 250.626754 52.825337 \nL 251.644693 53.07925 \nL 252.662631 52.326279 \nL 253.68057 52.267797 \nL 254.698508 57.780155 \nL 255.716447 48.589441 \nL 256.734385 48.590174 \nL 258.770263 46.510792 \nL 259.788201 48.674835 \nL 261.824078 51.557294 \nL 262.842017 55.276838 \nL 263.859956 55.358486 \nL 264.877894 53.799827 \nL 265.895833 53.369742 \nL 266.913771 53.633096 \nL 267.93171 53.157268 \nL 268.949648 53.196718 \nL 269.967587 53.037407 \nL 270.985526 53.170901 \nL 272.003464 50.970571 \nL 273.021403 50.498035 \nL 274.039341 47.484823 \nL 275.05728 47.504212 \nL 276.075219 47.257254 \nL 277.093157 50.428992 \nL 278.111096 52.391588 \nL 279.129034 56.20473 \nL 280.146973 55.72315 \nL 281.164911 53.823714 \nL 282.18285 53.790159 \nL 283.200789 55.383405 \nL 284.218727 55.776393 \nL 285.236666 55.783824 \nL 286.254604 56.273408 \nL 287.272543 55.464749 \nL 288.290482 51.344137 \nL 289.30842 51.131622 \nL 290.326359 49.480547 \nL 291.344297 49.076637 \nL 292.362236 46.367124 \nL 293.380174 47.542839 \nL 294.398113 50.046143 \nL 295.416052 48.7207 \nL 296.43399 50.629988 \nL 297.451929 53.164037 \nL 298.469867 52.429563 \nL 299.487806 60.656797 \nL 300.505745 59.058878 \nL 301.523683 65.499647 \nL 302.541622 63.163881 \nL 303.55956 63.267739 \nL 304.577499 63.1022 \nL 305.595437 61.783834 \nL 306.613376 62.347216 \nL 307.631315 60.551133 \nL 308.649253 57.307402 \nL 309.667192 61.143681 \nL 311.703069 61.969075 \nL 312.721008 61.193016 \nL 313.738946 62.436704 \nL 314.756885 68.496372 \nL 315.774823 52.453475 \nL 316.792762 50.735521 \nL 317.8107 51.180109 \nL 318.828639 49.365355 \nL 319.846578 52.440213 \nL 320.864516 53.820564 \nL 321.882455 55.745389 \nL 322.900393 54.423059 \nL 323.918332 54.74457 \nL 324.936271 57.027867 \nL 325.954209 53.757378 \nL 326.972148 54.752618 \nL 327.990086 57.113697 \nL 329.008025 57.508333 \nL 330.025963 58.432149 \nL 331.043902 57.419546 \nL 332.061841 62.225219 \nL 333.079779 62.761265 \nL 334.097718 62.698349 \nL 335.115656 63.246191 \nL 336.133595 63.399258 \nL 337.151534 59.008828 \nL 338.169472 59.437107 \nL 339.187411 67.439152 \nL 340.205349 68.484245 \nL 341.223288 68.2851 \nL 342.241226 68.238822 \nL 343.259165 68.613575 \nL 344.277104 69.360207 \nL 345.295042 73.966519 \nL 346.312981 71.062594 \nL 347.330919 71.040092 \nL 348.348858 71.382849 \nL 350.384735 71.157855 \nL 351.402674 70.98774 \nL 352.420612 71.320742 \nL 353.438551 57.492913 \nL 354.456489 57.738829 \nL 355.474428 54.879773 \nL 356.492367 54.223816 \nL 358.528244 54.435249 \nL 359.546182 53.697067 \nL 360.564121 55.323498 \nL 361.58206 55.866247 \nL 363.617937 59.218044 \nL 364.635875 59.190565 \nL 365.653814 59.616107 \nL 366.671752 61.450671 \nL 367.689691 65.4878 \nL 369.725568 65.418858 \nL 369.725568 65.418858 \n\" style=\"fill:none;stroke:#1f77b4;stroke-linecap:square;stroke-width:1.5;\"/>\n   </g>\n   <g id=\"patch_3\">\n    <path d=\"M 50.14375 239.758125 \nL 50.14375 22.318125 \n\" style=\"fill:none;stroke:#000000;stroke-linecap:square;stroke-linejoin:miter;stroke-width:0.8;\"/>\n   </g>\n   <g id=\"patch_4\">\n    <path d=\"M 384.94375 239.758125 \nL 384.94375 22.318125 \n\" style=\"fill:none;stroke:#000000;stroke-linecap:square;stroke-linejoin:miter;stroke-width:0.8;\"/>\n   </g>\n   <g id=\"patch_5\">\n    <path d=\"M 50.14375 239.758125 \nL 384.94375 239.758125 \n\" style=\"fill:none;stroke:#000000;stroke-linecap:square;stroke-linejoin:miter;stroke-width:0.8;\"/>\n   </g>\n   <g id=\"patch_6\">\n    <path d=\"M 50.14375 22.318125 \nL 384.94375 22.318125 \n\" style=\"fill:none;stroke:#000000;stroke-linecap:square;stroke-linejoin:miter;stroke-width:0.8;\"/>\n   </g>\n   <g id=\"text_18\">\n    <!-- Filter method: K-best by pearson -->\n    <g transform=\"translate(119.81125 16.318125)scale(0.12 -0.12)\">\n     <defs>\n      <path d=\"M 9.8125 72.90625 \nL 51.703125 72.90625 \nL 51.703125 64.59375 \nL 19.671875 64.59375 \nL 19.671875 43.109375 \nL 48.578125 43.109375 \nL 48.578125 34.8125 \nL 19.671875 34.8125 \nL 19.671875 0 \nL 9.8125 0 \nz\n\" id=\"DejaVuSans-70\"/>\n      <path d=\"M 9.421875 54.6875 \nL 18.40625 54.6875 \nL 18.40625 0 \nL 9.421875 0 \nz\nM 9.421875 75.984375 \nL 18.40625 75.984375 \nL 18.40625 64.59375 \nL 9.421875 64.59375 \nz\n\" id=\"DejaVuSans-105\"/>\n      <path d=\"M 9.421875 75.984375 \nL 18.40625 75.984375 \nL 18.40625 0 \nL 9.421875 0 \nz\n\" id=\"DejaVuSans-108\"/>\n      <path d=\"M 18.3125 70.21875 \nL 18.3125 54.6875 \nL 36.8125 54.6875 \nL 36.8125 47.703125 \nL 18.3125 47.703125 \nL 18.3125 18.015625 \nQ 18.3125 11.328125 20.140625 9.421875 \nQ 21.96875 7.515625 27.59375 7.515625 \nL 36.8125 7.515625 \nL 36.8125 0 \nL 27.59375 0 \nQ 17.1875 0 13.234375 3.875 \nQ 9.28125 7.765625 9.28125 18.015625 \nL 9.28125 47.703125 \nL 2.6875 47.703125 \nL 2.6875 54.6875 \nL 9.28125 54.6875 \nL 9.28125 70.21875 \nz\n\" id=\"DejaVuSans-116\"/>\n      <path id=\"DejaVuSans-32\"/>\n      <path d=\"M 52 44.1875 \nQ 55.375 50.25 60.0625 53.125 \nQ 64.75 56 71.09375 56 \nQ 79.640625 56 84.28125 50.015625 \nQ 88.921875 44.046875 88.921875 33.015625 \nL 88.921875 0 \nL 79.890625 0 \nL 79.890625 32.71875 \nQ 79.890625 40.578125 77.09375 44.375 \nQ 74.3125 48.1875 68.609375 48.1875 \nQ 61.625 48.1875 57.5625 43.546875 \nQ 53.515625 38.921875 53.515625 30.90625 \nL 53.515625 0 \nL 44.484375 0 \nL 44.484375 32.71875 \nQ 44.484375 40.625 41.703125 44.40625 \nQ 38.921875 48.1875 33.109375 48.1875 \nQ 26.21875 48.1875 22.15625 43.53125 \nQ 18.109375 38.875 18.109375 30.90625 \nL 18.109375 0 \nL 9.078125 0 \nL 9.078125 54.6875 \nL 18.109375 54.6875 \nL 18.109375 46.1875 \nQ 21.1875 51.21875 25.484375 53.609375 \nQ 29.78125 56 35.6875 56 \nQ 41.65625 56 45.828125 52.96875 \nQ 50 49.953125 52 44.1875 \nz\n\" id=\"DejaVuSans-109\"/>\n      <path d=\"M 54.890625 33.015625 \nL 54.890625 0 \nL 45.90625 0 \nL 45.90625 32.71875 \nQ 45.90625 40.484375 42.875 44.328125 \nQ 39.84375 48.1875 33.796875 48.1875 \nQ 26.515625 48.1875 22.3125 43.546875 \nQ 18.109375 38.921875 18.109375 30.90625 \nL 18.109375 0 \nL 9.078125 0 \nL 9.078125 75.984375 \nL 18.109375 75.984375 \nL 18.109375 46.1875 \nQ 21.34375 51.125 25.703125 53.5625 \nQ 30.078125 56 35.796875 56 \nQ 45.21875 56 50.046875 50.171875 \nQ 54.890625 44.34375 54.890625 33.015625 \nz\n\" id=\"DejaVuSans-104\"/>\n      <path d=\"M 45.40625 46.390625 \nL 45.40625 75.984375 \nL 54.390625 75.984375 \nL 54.390625 0 \nL 45.40625 0 \nL 45.40625 8.203125 \nQ 42.578125 3.328125 38.25 0.953125 \nQ 33.9375 -1.421875 27.875 -1.421875 \nQ 17.96875 -1.421875 11.734375 6.484375 \nQ 5.515625 14.40625 5.515625 27.296875 \nQ 5.515625 40.1875 11.734375 48.09375 \nQ 17.96875 56 27.875 56 \nQ 33.9375 56 38.25 53.625 \nQ 42.578125 51.265625 45.40625 46.390625 \nz\nM 14.796875 27.296875 \nQ 14.796875 17.390625 18.875 11.75 \nQ 22.953125 6.109375 30.078125 6.109375 \nQ 37.203125 6.109375 41.296875 11.75 \nQ 45.40625 17.390625 45.40625 27.296875 \nQ 45.40625 37.203125 41.296875 42.84375 \nQ 37.203125 48.484375 30.078125 48.484375 \nQ 22.953125 48.484375 18.875 42.84375 \nQ 14.796875 37.203125 14.796875 27.296875 \nz\n\" id=\"DejaVuSans-100\"/>\n      <path d=\"M 11.71875 12.40625 \nL 22.015625 12.40625 \nL 22.015625 0 \nL 11.71875 0 \nz\nM 11.71875 51.703125 \nL 22.015625 51.703125 \nL 22.015625 39.3125 \nL 11.71875 39.3125 \nz\n\" id=\"DejaVuSans-58\"/>\n      <path d=\"M 9.8125 72.90625 \nL 19.671875 72.90625 \nL 19.671875 42.09375 \nL 52.390625 72.90625 \nL 65.09375 72.90625 \nL 28.90625 38.921875 \nL 67.671875 0 \nL 54.6875 0 \nL 19.671875 35.109375 \nL 19.671875 0 \nL 9.8125 0 \nz\n\" id=\"DejaVuSans-75\"/>\n      <path d=\"M 4.890625 31.390625 \nL 31.203125 31.390625 \nL 31.203125 23.390625 \nL 4.890625 23.390625 \nz\n\" id=\"DejaVuSans-45\"/>\n      <path d=\"M 48.6875 27.296875 \nQ 48.6875 37.203125 44.609375 42.84375 \nQ 40.53125 48.484375 33.40625 48.484375 \nQ 26.265625 48.484375 22.1875 42.84375 \nQ 18.109375 37.203125 18.109375 27.296875 \nQ 18.109375 17.390625 22.1875 11.75 \nQ 26.265625 6.109375 33.40625 6.109375 \nQ 40.53125 6.109375 44.609375 11.75 \nQ 48.6875 17.390625 48.6875 27.296875 \nz\nM 18.109375 46.390625 \nQ 20.953125 51.265625 25.265625 53.625 \nQ 29.59375 56 35.59375 56 \nQ 45.5625 56 51.78125 48.09375 \nQ 58.015625 40.1875 58.015625 27.296875 \nQ 58.015625 14.40625 51.78125 6.484375 \nQ 45.5625 -1.421875 35.59375 -1.421875 \nQ 29.59375 -1.421875 25.265625 0.953125 \nQ 20.953125 3.328125 18.109375 8.203125 \nL 18.109375 0 \nL 9.078125 0 \nL 9.078125 75.984375 \nL 18.109375 75.984375 \nz\n\" id=\"DejaVuSans-98\"/>\n      <path d=\"M 32.171875 -5.078125 \nQ 28.375 -14.84375 24.75 -17.8125 \nQ 21.140625 -20.796875 15.09375 -20.796875 \nL 7.90625 -20.796875 \nL 7.90625 -13.28125 \nL 13.1875 -13.28125 \nQ 16.890625 -13.28125 18.9375 -11.515625 \nQ 21 -9.765625 23.484375 -3.21875 \nL 25.09375 0.875 \nL 2.984375 54.6875 \nL 12.5 54.6875 \nL 29.59375 11.921875 \nL 46.6875 54.6875 \nL 56.203125 54.6875 \nz\n\" id=\"DejaVuSans-121\"/>\n     </defs>\n     <use xlink:href=\"#DejaVuSans-70\"/>\n     <use x=\"50.269531\" xlink:href=\"#DejaVuSans-105\"/>\n     <use x=\"78.052734\" xlink:href=\"#DejaVuSans-108\"/>\n     <use x=\"105.835938\" xlink:href=\"#DejaVuSans-116\"/>\n     <use x=\"145.044922\" xlink:href=\"#DejaVuSans-101\"/>\n     <use x=\"206.568359\" xlink:href=\"#DejaVuSans-114\"/>\n     <use x=\"247.681641\" xlink:href=\"#DejaVuSans-32\"/>\n     <use x=\"279.46875\" xlink:href=\"#DejaVuSans-109\"/>\n     <use x=\"376.880859\" xlink:href=\"#DejaVuSans-101\"/>\n     <use x=\"438.404297\" xlink:href=\"#DejaVuSans-116\"/>\n     <use x=\"477.613281\" xlink:href=\"#DejaVuSans-104\"/>\n     <use x=\"540.992188\" xlink:href=\"#DejaVuSans-111\"/>\n     <use x=\"602.173828\" xlink:href=\"#DejaVuSans-100\"/>\n     <use x=\"665.650391\" xlink:href=\"#DejaVuSans-58\"/>\n     <use x=\"699.341797\" xlink:href=\"#DejaVuSans-32\"/>\n     <use x=\"731.128906\" xlink:href=\"#DejaVuSans-75\"/>\n     <use x=\"786.205078\" xlink:href=\"#DejaVuSans-45\"/>\n     <use x=\"822.289062\" xlink:href=\"#DejaVuSans-98\"/>\n     <use x=\"885.765625\" xlink:href=\"#DejaVuSans-101\"/>\n     <use x=\"947.289062\" xlink:href=\"#DejaVuSans-115\"/>\n     <use x=\"999.388672\" xlink:href=\"#DejaVuSans-116\"/>\n     <use x=\"1038.597656\" xlink:href=\"#DejaVuSans-32\"/>\n     <use x=\"1070.384766\" xlink:href=\"#DejaVuSans-98\"/>\n     <use x=\"1133.861328\" xlink:href=\"#DejaVuSans-121\"/>\n     <use x=\"1193.041016\" xlink:href=\"#DejaVuSans-32\"/>\n     <use x=\"1224.828125\" xlink:href=\"#DejaVuSans-112\"/>\n     <use x=\"1288.304688\" xlink:href=\"#DejaVuSans-101\"/>\n     <use x=\"1349.828125\" xlink:href=\"#DejaVuSans-97\"/>\n     <use x=\"1411.107422\" xlink:href=\"#DejaVuSans-114\"/>\n     <use x=\"1452.220703\" xlink:href=\"#DejaVuSans-115\"/>\n     <use x=\"1504.320312\" xlink:href=\"#DejaVuSans-111\"/>\n     <use x=\"1565.501953\" xlink:href=\"#DejaVuSans-110\"/>\n    </g>\n   </g>\n  </g>\n </g>\n <defs>\n  <clipPath id=\"p7b0b3b82d7\">\n   <rect height=\"217.44\" width=\"334.8\" x=\"50.14375\" y=\"22.318125\"/>\n  </clipPath>\n </defs>\n</svg>\n",
      "image/png": "[encoded data removed]"
     },
     "metadata": {
      "needs_background": "light"
     }
    }
   ],
   "source": [
    "plt.plot(k_lst, pearson_lst)\n",
    "plt.title('Filter method: K-best by pearson')\n",
    "plt.xlabel('k')\n",
    "plt.ylabel('pearson')"
   ]
  },
  {
   "cell_type": "code",
   "execution_count": null,
   "metadata": {},
   "outputs": [],
   "source": [
    "k = 75"
   ]
  },
  {
   "source": [
    "## Filter method: K-best by mutual information\n",
    "- Alternative script in `feature_selection_multi.py`.\n",
    "- Results below _supposedly_ same as that in `multi_train_mi.txt`."
   ],
   "cell_type": "markdown",
   "metadata": {}
  },
  {
   "source": [
    "#col_2_multi_dim = {'glove_word':300, 'glove_word_sum':300, 'glove_word_head':300, 'glove_word_tail':300, 'glove_context':300, 'infersent_embeddings':4096, 'elmo_word':1024, 'elmo_word_sum':1024, 'elmo_word_head':1024, 'elmo_word_tail':1024}\n",
    "#single_train = pd.read_csv('./data/'+job+'/single_train_j.tsv', sep='\\t', index_col=0)\n",
    "#discrete_features = discrete(single_train, col_2_multi_dim)"
   ],
   "cell_type": "code",
   "metadata": {},
   "execution_count": null,
   "outputs": []
  },
  {
   "cell_type": "code",
   "execution_count": null,
   "metadata": {},
   "outputs": [],
   "source": [
    "#skb=SelectKBest(score_func=partial(mutual_info_regression,discrete_features=discrete_features),k=10)\n",
    "#skb.fit(X_train_mini, y_train_mini)"
   ]
  },
  {
   "cell_type": "code",
   "execution_count": 19,
   "metadata": {},
   "outputs": [],
   "source": [
    "feature_names, mi = get_sorted_mi('./data/'+job+'/multi_train_mi.txt')\n",
    "k_lst, pearson_lst = [], []"
   ]
  },
  {
   "source": [
    "for k in tqdm(range(1, 300+1)):\n",
    "    k_lst.append(k)\n",
    "    picks = feature_names[:k]\n",
    "    col_idx = [multi_train_feature_name_2_idx[pick] for pick in picks]\n",
    "    X_train_mini_picks = X_train_mini[:, col_idx]\n",
    "    X_dev_mini_picks = X_dev_mini[:, col_idx]\n",
    "    model = LinearRegression()\n",
    "    model = model.fit(X_train_mini_picks, y_train_mini)\n",
    "    y_dev_mini_pred = model.predict(X_dev_mini_picks)\n",
    "    pearson_lst.append(pearson(y_dev_mini_pred, y_dev_mini))"
   ],
   "cell_type": "code",
   "metadata": {},
   "execution_count": 20,
   "outputs": [
    {
     "output_type": "stream",
     "name": "stderr",
     "text": [
      "100%|██████████| 300/300 [00:27<00:00, 10.90it/s]\n"
     ]
    }
   ]
  },
  {
   "cell_type": "code",
   "execution_count": 21,
   "metadata": {},
   "outputs": [
    {
     "output_type": "execute_result",
     "data": {
      "text/plain": [
       "Text(0, 0.5, 'pearson')"
      ]
     },
     "metadata": {},
     "execution_count": 21
    },
    {
     "output_type": "display_data",
     "data": {
      "text/plain": "<Figure size 432x288 with 1 Axes>",
      "image/svg+xml": "<?xml version=\"1.0\" encoding=\"utf-8\" standalone=\"no\"?>\n<!DOCTYPE svg PUBLIC \"-//W3C//DTD SVG 1.1//EN\"\n  \"http://www.w3.org/Graphics/SVG/1.1/DTD/svg11.dtd\">\n<!-- Created with matplotlib (https://matplotlib.org/) -->\n<svg height=\"277.314375pt\" version=\"1.1\" viewBox=\"0 0 385.78125 277.314375\" width=\"385.78125pt\" xmlns=\"http://www.w3.org/2000/svg\" xmlns:xlink=\"http://www.w3.org/1999/xlink\">\n <metadata>\n  <rdf:RDF xmlns:cc=\"http://creativecommons.org/ns#\" xmlns:dc=\"http://purl.org/dc/elements/1.1/\" xmlns:rdf=\"http://www.w3.org/1999/02/22-rdf-syntax-ns#\">\n   <cc:Work>\n    <dc:type rdf:resource=\"http://purl.org/dc/dcmitype/StillImage\"/>\n    <dc:date>2021-01-20T16:44:43.359798</dc:date>\n    <dc:format>image/svg+xml</dc:format>\n    <dc:creator>\n     <cc:Agent>\n      <dc:title>Matplotlib v3.3.3, https://matplotlib.org/</dc:title>\n     </cc:Agent>\n    </dc:creator>\n   </cc:Work>\n  </rdf:RDF>\n </metadata>\n <defs>\n  <style type=\"text/css\">*{stroke-linecap:butt;stroke-linejoin:round;}</style>\n </defs>\n <g id=\"figure_1\">\n  <g id=\"patch_1\">\n   <path d=\"M 0 277.314375 \nL 385.78125 277.314375 \nL 385.78125 0 \nL 0 0 \nz\n\" style=\"fill:none;\"/>\n  </g>\n  <g id=\"axes_1\">\n   <g id=\"patch_2\">\n    <path d=\"M 43.78125 239.758125 \nL 378.58125 239.758125 \nL 378.58125 22.318125 \nL 43.78125 22.318125 \nz\n\" style=\"fill:#ffffff;\"/>\n   </g>\n   <g id=\"matplotlib.axis_1\">\n    <g id=\"xtick_1\">\n     <g id=\"line2d_1\">\n      <defs>\n       <path d=\"M 0 0 \nL 0 3.5 \n\" id=\"m38df6aeb82\" style=\"stroke:#000000;stroke-width:0.8;\"/>\n      </defs>\n      <g>\n       <use style=\"stroke:#000000;stroke-width:0.8;\" x=\"57.981493\" xlink:href=\"#m38df6aeb82\" y=\"239.758125\"/>\n      </g>\n     </g>\n     <g id=\"text_1\">\n      <!-- 0 -->\n      <g transform=\"translate(54.800243 254.356562)scale(0.1 -0.1)\">\n       <defs>\n        <path d=\"M 31.78125 66.40625 \nQ 24.171875 66.40625 20.328125 58.90625 \nQ 16.5 51.421875 16.5 36.375 \nQ 16.5 21.390625 20.328125 13.890625 \nQ 24.171875 6.390625 31.78125 6.390625 \nQ 39.453125 6.390625 43.28125 13.890625 \nQ 47.125 21.390625 47.125 36.375 \nQ 47.125 51.421875 43.28125 58.90625 \nQ 39.453125 66.40625 31.78125 66.40625 \nz\nM 31.78125 74.21875 \nQ 44.046875 74.21875 50.515625 64.515625 \nQ 56.984375 54.828125 56.984375 36.375 \nQ 56.984375 17.96875 50.515625 8.265625 \nQ 44.046875 -1.421875 31.78125 -1.421875 \nQ 19.53125 -1.421875 13.0625 8.265625 \nQ 6.59375 17.96875 6.59375 36.375 \nQ 6.59375 54.828125 13.0625 64.515625 \nQ 19.53125 74.21875 31.78125 74.21875 \nz\n\" id=\"DejaVuSans-48\"/>\n       </defs>\n       <use xlink:href=\"#DejaVuSans-48\"/>\n      </g>\n     </g>\n    </g>\n    <g id=\"xtick_2\">\n     <g id=\"line2d_2\">\n      <g>\n       <use style=\"stroke:#000000;stroke-width:0.8;\" x=\"108.878422\" xlink:href=\"#m38df6aeb82\" y=\"239.758125\"/>\n      </g>\n     </g>\n     <g id=\"text_2\">\n      <!-- 50 -->\n      <g transform=\"translate(102.515922 254.356562)scale(0.1 -0.1)\">\n       <defs>\n        <path d=\"M 10.796875 72.90625 \nL 49.515625 72.90625 \nL 49.515625 64.59375 \nL 19.828125 64.59375 \nL 19.828125 46.734375 \nQ 21.96875 47.46875 24.109375 47.828125 \nQ 26.265625 48.1875 28.421875 48.1875 \nQ 40.625 48.1875 47.75 41.5 \nQ 54.890625 34.8125 54.890625 23.390625 \nQ 54.890625 11.625 47.5625 5.09375 \nQ 40.234375 -1.421875 26.90625 -1.421875 \nQ 22.3125 -1.421875 17.546875 -0.640625 \nQ 12.796875 0.140625 7.71875 1.703125 \nL 7.71875 11.625 \nQ 12.109375 9.234375 16.796875 8.0625 \nQ 21.484375 6.890625 26.703125 6.890625 \nQ 35.15625 6.890625 40.078125 11.328125 \nQ 45.015625 15.765625 45.015625 23.390625 \nQ 45.015625 31 40.078125 35.4375 \nQ 35.15625 39.890625 26.703125 39.890625 \nQ 22.75 39.890625 18.8125 39.015625 \nQ 14.890625 38.140625 10.796875 36.28125 \nz\n\" id=\"DejaVuSans-53\"/>\n       </defs>\n       <use xlink:href=\"#DejaVuSans-53\"/>\n       <use x=\"63.623047\" xlink:href=\"#DejaVuSans-48\"/>\n      </g>\n     </g>\n    </g>\n    <g id=\"xtick_3\">\n     <g id=\"line2d_3\">\n      <g>\n       <use style=\"stroke:#000000;stroke-width:0.8;\" x=\"159.775352\" xlink:href=\"#m38df6aeb82\" y=\"239.758125\"/>\n      </g>\n     </g>\n     <g id=\"text_3\">\n      <!-- 100 -->\n      <g transform=\"translate(150.231602 254.356562)scale(0.1 -0.1)\">\n       <defs>\n        <path d=\"M 12.40625 8.296875 \nL 28.515625 8.296875 \nL 28.515625 63.921875 \nL 10.984375 60.40625 \nL 10.984375 69.390625 \nL 28.421875 72.90625 \nL 38.28125 72.90625 \nL 38.28125 8.296875 \nL 54.390625 8.296875 \nL 54.390625 0 \nL 12.40625 0 \nz\n\" id=\"DejaVuSans-49\"/>\n       </defs>\n       <use xlink:href=\"#DejaVuSans-49\"/>\n       <use x=\"63.623047\" xlink:href=\"#DejaVuSans-48\"/>\n       <use x=\"127.246094\" xlink:href=\"#DejaVuSans-48\"/>\n      </g>\n     </g>\n    </g>\n    <g id=\"xtick_4\">\n     <g id=\"line2d_4\">\n      <g>\n       <use style=\"stroke:#000000;stroke-width:0.8;\" x=\"210.672281\" xlink:href=\"#m38df6aeb82\" y=\"239.758125\"/>\n      </g>\n     </g>\n     <g id=\"text_4\">\n      <!-- 150 -->\n      <g transform=\"translate(201.128531 254.356562)scale(0.1 -0.1)\">\n       <use xlink:href=\"#DejaVuSans-49\"/>\n       <use x=\"63.623047\" xlink:href=\"#DejaVuSans-53\"/>\n       <use x=\"127.246094\" xlink:href=\"#DejaVuSans-48\"/>\n      </g>\n     </g>\n    </g>\n    <g id=\"xtick_5\">\n     <g id=\"line2d_5\">\n      <g>\n       <use style=\"stroke:#000000;stroke-width:0.8;\" x=\"261.56921\" xlink:href=\"#m38df6aeb82\" y=\"239.758125\"/>\n      </g>\n     </g>\n     <g id=\"text_5\">\n      <!-- 200 -->\n      <g transform=\"translate(252.02546 254.356562)scale(0.1 -0.1)\">\n       <defs>\n        <path d=\"M 19.1875 8.296875 \nL 53.609375 8.296875 \nL 53.609375 0 \nL 7.328125 0 \nL 7.328125 8.296875 \nQ 12.9375 14.109375 22.625 23.890625 \nQ 32.328125 33.6875 34.8125 36.53125 \nQ 39.546875 41.84375 41.421875 45.53125 \nQ 43.3125 49.21875 43.3125 52.78125 \nQ 43.3125 58.59375 39.234375 62.25 \nQ 35.15625 65.921875 28.609375 65.921875 \nQ 23.96875 65.921875 18.8125 64.3125 \nQ 13.671875 62.703125 7.8125 59.421875 \nL 7.8125 69.390625 \nQ 13.765625 71.78125 18.9375 73 \nQ 24.125 74.21875 28.421875 74.21875 \nQ 39.75 74.21875 46.484375 68.546875 \nQ 53.21875 62.890625 53.21875 53.421875 \nQ 53.21875 48.921875 51.53125 44.890625 \nQ 49.859375 40.875 45.40625 35.40625 \nQ 44.1875 33.984375 37.640625 27.21875 \nQ 31.109375 20.453125 19.1875 8.296875 \nz\n\" id=\"DejaVuSans-50\"/>\n       </defs>\n       <use xlink:href=\"#DejaVuSans-50\"/>\n       <use x=\"63.623047\" xlink:href=\"#DejaVuSans-48\"/>\n       <use x=\"127.246094\" xlink:href=\"#DejaVuSans-48\"/>\n      </g>\n     </g>\n    </g>\n    <g id=\"xtick_6\">\n     <g id=\"line2d_6\">\n      <g>\n       <use style=\"stroke:#000000;stroke-width:0.8;\" x=\"312.466139\" xlink:href=\"#m38df6aeb82\" y=\"239.758125\"/>\n      </g>\n     </g>\n     <g id=\"text_6\">\n      <!-- 250 -->\n      <g transform=\"translate(302.922389 254.356562)scale(0.1 -0.1)\">\n       <use xlink:href=\"#DejaVuSans-50\"/>\n       <use x=\"63.623047\" xlink:href=\"#DejaVuSans-53\"/>\n       <use x=\"127.246094\" xlink:href=\"#DejaVuSans-48\"/>\n      </g>\n     </g>\n    </g>\n    <g id=\"xtick_7\">\n     <g id=\"line2d_7\">\n      <g>\n       <use style=\"stroke:#000000;stroke-width:0.8;\" x=\"363.363068\" xlink:href=\"#m38df6aeb82\" y=\"239.758125\"/>\n      </g>\n     </g>\n     <g id=\"text_7\">\n      <!-- 300 -->\n      <g transform=\"translate(353.819318 254.356562)scale(0.1 -0.1)\">\n       <defs>\n        <path d=\"M 40.578125 39.3125 \nQ 47.65625 37.796875 51.625 33 \nQ 55.609375 28.21875 55.609375 21.1875 \nQ 55.609375 10.40625 48.1875 4.484375 \nQ 40.765625 -1.421875 27.09375 -1.421875 \nQ 22.515625 -1.421875 17.65625 -0.515625 \nQ 12.796875 0.390625 7.625 2.203125 \nL 7.625 11.71875 \nQ 11.71875 9.328125 16.59375 8.109375 \nQ 21.484375 6.890625 26.8125 6.890625 \nQ 36.078125 6.890625 40.9375 10.546875 \nQ 45.796875 14.203125 45.796875 21.1875 \nQ 45.796875 27.640625 41.28125 31.265625 \nQ 36.765625 34.90625 28.71875 34.90625 \nL 20.21875 34.90625 \nL 20.21875 43.015625 \nL 29.109375 43.015625 \nQ 36.375 43.015625 40.234375 45.921875 \nQ 44.09375 48.828125 44.09375 54.296875 \nQ 44.09375 59.90625 40.109375 62.90625 \nQ 36.140625 65.921875 28.71875 65.921875 \nQ 24.65625 65.921875 20.015625 65.03125 \nQ 15.375 64.15625 9.8125 62.3125 \nL 9.8125 71.09375 \nQ 15.4375 72.65625 20.34375 73.4375 \nQ 25.25 74.21875 29.59375 74.21875 \nQ 40.828125 74.21875 47.359375 69.109375 \nQ 53.90625 64.015625 53.90625 55.328125 \nQ 53.90625 49.265625 50.4375 45.09375 \nQ 46.96875 40.921875 40.578125 39.3125 \nz\n\" id=\"DejaVuSans-51\"/>\n       </defs>\n       <use xlink:href=\"#DejaVuSans-51\"/>\n       <use x=\"63.623047\" xlink:href=\"#DejaVuSans-48\"/>\n       <use x=\"127.246094\" xlink:href=\"#DejaVuSans-48\"/>\n      </g>\n     </g>\n    </g>\n    <g id=\"text_8\">\n     <!-- k -->\n     <g transform=\"translate(208.285938 268.034687)scale(0.1 -0.1)\">\n      <defs>\n       <path d=\"M 9.078125 75.984375 \nL 18.109375 75.984375 \nL 18.109375 31.109375 \nL 44.921875 54.6875 \nL 56.390625 54.6875 \nL 27.390625 29.109375 \nL 57.625 0 \nL 45.90625 0 \nL 18.109375 26.703125 \nL 18.109375 0 \nL 9.078125 0 \nz\n\" id=\"DejaVuSans-107\"/>\n      </defs>\n      <use xlink:href=\"#DejaVuSans-107\"/>\n     </g>\n    </g>\n   </g>\n   <g id=\"matplotlib.axis_2\">\n    <g id=\"ytick_1\">\n     <g id=\"line2d_8\">\n      <defs>\n       <path d=\"M 0 0 \nL -3.5 0 \n\" id=\"m8a86ce5c1d\" style=\"stroke:#000000;stroke-width:0.8;\"/>\n      </defs>\n      <g>\n       <use style=\"stroke:#000000;stroke-width:0.8;\" x=\"43.78125\" xlink:href=\"#m8a86ce5c1d\" y=\"225.808246\"/>\n      </g>\n     </g>\n     <g id=\"text_9\">\n      <!-- 0.2 -->\n      <g transform=\"translate(20.878125 229.607465)scale(0.1 -0.1)\">\n       <defs>\n        <path d=\"M 10.6875 12.40625 \nL 21 12.40625 \nL 21 0 \nL 10.6875 0 \nz\n\" id=\"DejaVuSans-46\"/>\n       </defs>\n       <use xlink:href=\"#DejaVuSans-48\"/>\n       <use x=\"63.623047\" xlink:href=\"#DejaVuSans-46\"/>\n       <use x=\"95.410156\" xlink:href=\"#DejaVuSans-50\"/>\n      </g>\n     </g>\n    </g>\n    <g id=\"ytick_2\">\n     <g id=\"line2d_9\">\n      <g>\n       <use style=\"stroke:#000000;stroke-width:0.8;\" x=\"43.78125\" xlink:href=\"#m8a86ce5c1d\" y=\"193.259875\"/>\n      </g>\n     </g>\n     <g id=\"text_10\">\n      <!-- 0.3 -->\n      <g transform=\"translate(20.878125 197.059094)scale(0.1 -0.1)\">\n       <use xlink:href=\"#DejaVuSans-48\"/>\n       <use x=\"63.623047\" xlink:href=\"#DejaVuSans-46\"/>\n       <use x=\"95.410156\" xlink:href=\"#DejaVuSans-51\"/>\n      </g>\n     </g>\n    </g>\n    <g id=\"ytick_3\">\n     <g id=\"line2d_10\">\n      <g>\n       <use style=\"stroke:#000000;stroke-width:0.8;\" x=\"43.78125\" xlink:href=\"#m8a86ce5c1d\" y=\"160.711505\"/>\n      </g>\n     </g>\n     <g id=\"text_11\">\n      <!-- 0.4 -->\n      <g transform=\"translate(20.878125 164.510723)scale(0.1 -0.1)\">\n       <defs>\n        <path d=\"M 37.796875 64.3125 \nL 12.890625 25.390625 \nL 37.796875 25.390625 \nz\nM 35.203125 72.90625 \nL 47.609375 72.90625 \nL 47.609375 25.390625 \nL 58.015625 25.390625 \nL 58.015625 17.1875 \nL 47.609375 17.1875 \nL 47.609375 0 \nL 37.796875 0 \nL 37.796875 17.1875 \nL 4.890625 17.1875 \nL 4.890625 26.703125 \nz\n\" id=\"DejaVuSans-52\"/>\n       </defs>\n       <use xlink:href=\"#DejaVuSans-48\"/>\n       <use x=\"63.623047\" xlink:href=\"#DejaVuSans-46\"/>\n       <use x=\"95.410156\" xlink:href=\"#DejaVuSans-52\"/>\n      </g>\n     </g>\n    </g>\n    <g id=\"ytick_4\">\n     <g id=\"line2d_11\">\n      <g>\n       <use style=\"stroke:#000000;stroke-width:0.8;\" x=\"43.78125\" xlink:href=\"#m8a86ce5c1d\" y=\"128.163134\"/>\n      </g>\n     </g>\n     <g id=\"text_12\">\n      <!-- 0.5 -->\n      <g transform=\"translate(20.878125 131.962353)scale(0.1 -0.1)\">\n       <use xlink:href=\"#DejaVuSans-48\"/>\n       <use x=\"63.623047\" xlink:href=\"#DejaVuSans-46\"/>\n       <use x=\"95.410156\" xlink:href=\"#DejaVuSans-53\"/>\n      </g>\n     </g>\n    </g>\n    <g id=\"ytick_5\">\n     <g id=\"line2d_12\">\n      <g>\n       <use style=\"stroke:#000000;stroke-width:0.8;\" x=\"43.78125\" xlink:href=\"#m8a86ce5c1d\" y=\"95.614763\"/>\n      </g>\n     </g>\n     <g id=\"text_13\">\n      <!-- 0.6 -->\n      <g transform=\"translate(20.878125 99.413982)scale(0.1 -0.1)\">\n       <defs>\n        <path d=\"M 33.015625 40.375 \nQ 26.375 40.375 22.484375 35.828125 \nQ 18.609375 31.296875 18.609375 23.390625 \nQ 18.609375 15.53125 22.484375 10.953125 \nQ 26.375 6.390625 33.015625 6.390625 \nQ 39.65625 6.390625 43.53125 10.953125 \nQ 47.40625 15.53125 47.40625 23.390625 \nQ 47.40625 31.296875 43.53125 35.828125 \nQ 39.65625 40.375 33.015625 40.375 \nz\nM 52.59375 71.296875 \nL 52.59375 62.3125 \nQ 48.875 64.0625 45.09375 64.984375 \nQ 41.3125 65.921875 37.59375 65.921875 \nQ 27.828125 65.921875 22.671875 59.328125 \nQ 17.53125 52.734375 16.796875 39.40625 \nQ 19.671875 43.65625 24.015625 45.921875 \nQ 28.375 48.1875 33.59375 48.1875 \nQ 44.578125 48.1875 50.953125 41.515625 \nQ 57.328125 34.859375 57.328125 23.390625 \nQ 57.328125 12.15625 50.6875 5.359375 \nQ 44.046875 -1.421875 33.015625 -1.421875 \nQ 20.359375 -1.421875 13.671875 8.265625 \nQ 6.984375 17.96875 6.984375 36.375 \nQ 6.984375 53.65625 15.1875 63.9375 \nQ 23.390625 74.21875 37.203125 74.21875 \nQ 40.921875 74.21875 44.703125 73.484375 \nQ 48.484375 72.75 52.59375 71.296875 \nz\n\" id=\"DejaVuSans-54\"/>\n       </defs>\n       <use xlink:href=\"#DejaVuSans-48\"/>\n       <use x=\"63.623047\" xlink:href=\"#DejaVuSans-46\"/>\n       <use x=\"95.410156\" xlink:href=\"#DejaVuSans-54\"/>\n      </g>\n     </g>\n    </g>\n    <g id=\"ytick_6\">\n     <g id=\"line2d_13\">\n      <g>\n       <use style=\"stroke:#000000;stroke-width:0.8;\" x=\"43.78125\" xlink:href=\"#m8a86ce5c1d\" y=\"63.066392\"/>\n      </g>\n     </g>\n     <g id=\"text_14\">\n      <!-- 0.7 -->\n      <g transform=\"translate(20.878125 66.865611)scale(0.1 -0.1)\">\n       <defs>\n        <path d=\"M 8.203125 72.90625 \nL 55.078125 72.90625 \nL 55.078125 68.703125 \nL 28.609375 0 \nL 18.3125 0 \nL 43.21875 64.59375 \nL 8.203125 64.59375 \nz\n\" id=\"DejaVuSans-55\"/>\n       </defs>\n       <use xlink:href=\"#DejaVuSans-48\"/>\n       <use x=\"63.623047\" xlink:href=\"#DejaVuSans-46\"/>\n       <use x=\"95.410156\" xlink:href=\"#DejaVuSans-55\"/>\n      </g>\n     </g>\n    </g>\n    <g id=\"ytick_7\">\n     <g id=\"line2d_14\">\n      <g>\n       <use style=\"stroke:#000000;stroke-width:0.8;\" x=\"43.78125\" xlink:href=\"#m8a86ce5c1d\" y=\"30.518021\"/>\n      </g>\n     </g>\n     <g id=\"text_15\">\n      <!-- 0.8 -->\n      <g transform=\"translate(20.878125 34.31724)scale(0.1 -0.1)\">\n       <defs>\n        <path d=\"M 31.78125 34.625 \nQ 24.75 34.625 20.71875 30.859375 \nQ 16.703125 27.09375 16.703125 20.515625 \nQ 16.703125 13.921875 20.71875 10.15625 \nQ 24.75 6.390625 31.78125 6.390625 \nQ 38.8125 6.390625 42.859375 10.171875 \nQ 46.921875 13.96875 46.921875 20.515625 \nQ 46.921875 27.09375 42.890625 30.859375 \nQ 38.875 34.625 31.78125 34.625 \nz\nM 21.921875 38.8125 \nQ 15.578125 40.375 12.03125 44.71875 \nQ 8.5 49.078125 8.5 55.328125 \nQ 8.5 64.0625 14.71875 69.140625 \nQ 20.953125 74.21875 31.78125 74.21875 \nQ 42.671875 74.21875 48.875 69.140625 \nQ 55.078125 64.0625 55.078125 55.328125 \nQ 55.078125 49.078125 51.53125 44.71875 \nQ 48 40.375 41.703125 38.8125 \nQ 48.828125 37.15625 52.796875 32.3125 \nQ 56.78125 27.484375 56.78125 20.515625 \nQ 56.78125 9.90625 50.3125 4.234375 \nQ 43.84375 -1.421875 31.78125 -1.421875 \nQ 19.734375 -1.421875 13.25 4.234375 \nQ 6.78125 9.90625 6.78125 20.515625 \nQ 6.78125 27.484375 10.78125 32.3125 \nQ 14.796875 37.15625 21.921875 38.8125 \nz\nM 18.3125 54.390625 \nQ 18.3125 48.734375 21.84375 45.5625 \nQ 25.390625 42.390625 31.78125 42.390625 \nQ 38.140625 42.390625 41.71875 45.5625 \nQ 45.3125 48.734375 45.3125 54.390625 \nQ 45.3125 60.0625 41.71875 63.234375 \nQ 38.140625 66.40625 31.78125 66.40625 \nQ 25.390625 66.40625 21.84375 63.234375 \nQ 18.3125 60.0625 18.3125 54.390625 \nz\n\" id=\"DejaVuSans-56\"/>\n       </defs>\n       <use xlink:href=\"#DejaVuSans-48\"/>\n       <use x=\"63.623047\" xlink:href=\"#DejaVuSans-46\"/>\n       <use x=\"95.410156\" xlink:href=\"#DejaVuSans-56\"/>\n      </g>\n     </g>\n    </g>\n    <g id=\"text_16\">\n     <!-- pearson -->\n     <g transform=\"translate(14.798438 151.24125)rotate(-90)scale(0.1 -0.1)\">\n      <defs>\n       <path d=\"M 18.109375 8.203125 \nL 18.109375 -20.796875 \nL 9.078125 -20.796875 \nL 9.078125 54.6875 \nL 18.109375 54.6875 \nL 18.109375 46.390625 \nQ 20.953125 51.265625 25.265625 53.625 \nQ 29.59375 56 35.59375 56 \nQ 45.5625 56 51.78125 48.09375 \nQ 58.015625 40.1875 58.015625 27.296875 \nQ 58.015625 14.40625 51.78125 6.484375 \nQ 45.5625 -1.421875 35.59375 -1.421875 \nQ 29.59375 -1.421875 25.265625 0.953125 \nQ 20.953125 3.328125 18.109375 8.203125 \nz\nM 48.6875 27.296875 \nQ 48.6875 37.203125 44.609375 42.84375 \nQ 40.53125 48.484375 33.40625 48.484375 \nQ 26.265625 48.484375 22.1875 42.84375 \nQ 18.109375 37.203125 18.109375 27.296875 \nQ 18.109375 17.390625 22.1875 11.75 \nQ 26.265625 6.109375 33.40625 6.109375 \nQ 40.53125 6.109375 44.609375 11.75 \nQ 48.6875 17.390625 48.6875 27.296875 \nz\n\" id=\"DejaVuSans-112\"/>\n       <path d=\"M 56.203125 29.59375 \nL 56.203125 25.203125 \nL 14.890625 25.203125 \nQ 15.484375 15.921875 20.484375 11.0625 \nQ 25.484375 6.203125 34.421875 6.203125 \nQ 39.59375 6.203125 44.453125 7.46875 \nQ 49.3125 8.734375 54.109375 11.28125 \nL 54.109375 2.78125 \nQ 49.265625 0.734375 44.1875 -0.34375 \nQ 39.109375 -1.421875 33.890625 -1.421875 \nQ 20.796875 -1.421875 13.15625 6.1875 \nQ 5.515625 13.8125 5.515625 26.8125 \nQ 5.515625 40.234375 12.765625 48.109375 \nQ 20.015625 56 32.328125 56 \nQ 43.359375 56 49.78125 48.890625 \nQ 56.203125 41.796875 56.203125 29.59375 \nz\nM 47.21875 32.234375 \nQ 47.125 39.59375 43.09375 43.984375 \nQ 39.0625 48.390625 32.421875 48.390625 \nQ 24.90625 48.390625 20.390625 44.140625 \nQ 15.875 39.890625 15.1875 32.171875 \nz\n\" id=\"DejaVuSans-101\"/>\n       <path d=\"M 34.28125 27.484375 \nQ 23.390625 27.484375 19.1875 25 \nQ 14.984375 22.515625 14.984375 16.5 \nQ 14.984375 11.71875 18.140625 8.90625 \nQ 21.296875 6.109375 26.703125 6.109375 \nQ 34.1875 6.109375 38.703125 11.40625 \nQ 43.21875 16.703125 43.21875 25.484375 \nL 43.21875 27.484375 \nz\nM 52.203125 31.203125 \nL 52.203125 0 \nL 43.21875 0 \nL 43.21875 8.296875 \nQ 40.140625 3.328125 35.546875 0.953125 \nQ 30.953125 -1.421875 24.3125 -1.421875 \nQ 15.921875 -1.421875 10.953125 3.296875 \nQ 6 8.015625 6 15.921875 \nQ 6 25.140625 12.171875 29.828125 \nQ 18.359375 34.515625 30.609375 34.515625 \nL 43.21875 34.515625 \nL 43.21875 35.40625 \nQ 43.21875 41.609375 39.140625 45 \nQ 35.0625 48.390625 27.6875 48.390625 \nQ 23 48.390625 18.546875 47.265625 \nQ 14.109375 46.140625 10.015625 43.890625 \nL 10.015625 52.203125 \nQ 14.9375 54.109375 19.578125 55.046875 \nQ 24.21875 56 28.609375 56 \nQ 40.484375 56 46.34375 49.84375 \nQ 52.203125 43.703125 52.203125 31.203125 \nz\n\" id=\"DejaVuSans-97\"/>\n       <path d=\"M 41.109375 46.296875 \nQ 39.59375 47.171875 37.8125 47.578125 \nQ 36.03125 48 33.890625 48 \nQ 26.265625 48 22.1875 43.046875 \nQ 18.109375 38.09375 18.109375 28.8125 \nL 18.109375 0 \nL 9.078125 0 \nL 9.078125 54.6875 \nL 18.109375 54.6875 \nL 18.109375 46.1875 \nQ 20.953125 51.171875 25.484375 53.578125 \nQ 30.03125 56 36.53125 56 \nQ 37.453125 56 38.578125 55.875 \nQ 39.703125 55.765625 41.0625 55.515625 \nz\n\" id=\"DejaVuSans-114\"/>\n       <path d=\"M 44.28125 53.078125 \nL 44.28125 44.578125 \nQ 40.484375 46.53125 36.375 47.5 \nQ 32.28125 48.484375 27.875 48.484375 \nQ 21.1875 48.484375 17.84375 46.4375 \nQ 14.5 44.390625 14.5 40.28125 \nQ 14.5 37.15625 16.890625 35.375 \nQ 19.28125 33.59375 26.515625 31.984375 \nL 29.59375 31.296875 \nQ 39.15625 29.25 43.1875 25.515625 \nQ 47.21875 21.78125 47.21875 15.09375 \nQ 47.21875 7.46875 41.1875 3.015625 \nQ 35.15625 -1.421875 24.609375 -1.421875 \nQ 20.21875 -1.421875 15.453125 -0.5625 \nQ 10.6875 0.296875 5.421875 2 \nL 5.421875 11.28125 \nQ 10.40625 8.6875 15.234375 7.390625 \nQ 20.0625 6.109375 24.8125 6.109375 \nQ 31.15625 6.109375 34.5625 8.28125 \nQ 37.984375 10.453125 37.984375 14.40625 \nQ 37.984375 18.0625 35.515625 20.015625 \nQ 33.0625 21.96875 24.703125 23.78125 \nL 21.578125 24.515625 \nQ 13.234375 26.265625 9.515625 29.90625 \nQ 5.8125 33.546875 5.8125 39.890625 \nQ 5.8125 47.609375 11.28125 51.796875 \nQ 16.75 56 26.8125 56 \nQ 31.78125 56 36.171875 55.265625 \nQ 40.578125 54.546875 44.28125 53.078125 \nz\n\" id=\"DejaVuSans-115\"/>\n       <path d=\"M 30.609375 48.390625 \nQ 23.390625 48.390625 19.1875 42.75 \nQ 14.984375 37.109375 14.984375 27.296875 \nQ 14.984375 17.484375 19.15625 11.84375 \nQ 23.34375 6.203125 30.609375 6.203125 \nQ 37.796875 6.203125 41.984375 11.859375 \nQ 46.1875 17.53125 46.1875 27.296875 \nQ 46.1875 37.015625 41.984375 42.703125 \nQ 37.796875 48.390625 30.609375 48.390625 \nz\nM 30.609375 56 \nQ 42.328125 56 49.015625 48.375 \nQ 55.71875 40.765625 55.71875 27.296875 \nQ 55.71875 13.875 49.015625 6.21875 \nQ 42.328125 -1.421875 30.609375 -1.421875 \nQ 18.84375 -1.421875 12.171875 6.21875 \nQ 5.515625 13.875 5.515625 27.296875 \nQ 5.515625 40.765625 12.171875 48.375 \nQ 18.84375 56 30.609375 56 \nz\n\" id=\"DejaVuSans-111\"/>\n       <path d=\"M 54.890625 33.015625 \nL 54.890625 0 \nL 45.90625 0 \nL 45.90625 32.71875 \nQ 45.90625 40.484375 42.875 44.328125 \nQ 39.84375 48.1875 33.796875 48.1875 \nQ 26.515625 48.1875 22.3125 43.546875 \nQ 18.109375 38.921875 18.109375 30.90625 \nL 18.109375 0 \nL 9.078125 0 \nL 9.078125 54.6875 \nL 18.109375 54.6875 \nL 18.109375 46.1875 \nQ 21.34375 51.125 25.703125 53.5625 \nQ 30.078125 56 35.796875 56 \nQ 45.21875 56 50.046875 50.171875 \nQ 54.890625 44.34375 54.890625 33.015625 \nz\n\" id=\"DejaVuSans-110\"/>\n      </defs>\n      <use xlink:href=\"#DejaVuSans-112\"/>\n      <use x=\"63.476562\" xlink:href=\"#DejaVuSans-101\"/>\n      <use x=\"125\" xlink:href=\"#DejaVuSans-97\"/>\n      <use x=\"186.279297\" xlink:href=\"#DejaVuSans-114\"/>\n      <use x=\"227.392578\" xlink:href=\"#DejaVuSans-115\"/>\n      <use x=\"279.492188\" xlink:href=\"#DejaVuSans-111\"/>\n      <use x=\"340.673828\" xlink:href=\"#DejaVuSans-110\"/>\n     </g>\n    </g>\n   </g>\n   <g id=\"line2d_15\">\n    <path clip-path=\"url(#p177d0fcb34)\" d=\"M 58.999432 229.874489 \nL 60.01737 158.823835 \nL 61.035309 159.571029 \nL 62.053248 151.941873 \nL 63.071186 149.031073 \nL 64.089125 152.297418 \nL 65.107063 152.361511 \nL 66.125002 147.886783 \nL 70.196756 147.886783 \nL 71.214695 47.908764 \nL 72.232633 48.921339 \nL 73.250572 51.42565 \nL 74.268511 46.513061 \nL 75.286449 46.424971 \nL 76.304388 47.698419 \nL 77.322326 47.812117 \nL 78.340265 47.710785 \nL 79.358203 46.174727 \nL 80.376142 47.764082 \nL 81.394081 48.281602 \nL 82.412019 48.017133 \nL 83.429958 48.11308 \nL 84.447896 48.451281 \nL 85.465835 48.195699 \nL 86.483774 51.532712 \nL 88.519651 52.214892 \nL 89.537589 52.312705 \nL 90.555528 48.567316 \nL 91.573466 47.863158 \nL 92.591405 43.678186 \nL 94.627282 40.641672 \nL 95.645221 42.205459 \nL 96.663159 43.488182 \nL 97.681098 39.882412 \nL 98.699037 39.777621 \nL 100.734914 38.849141 \nL 101.752852 42.179978 \nL 102.770791 42.518088 \nL 103.788729 37.951735 \nL 104.806668 41.558721 \nL 105.824607 37.590309 \nL 108.878422 37.43481 \nL 109.896361 37.215345 \nL 110.9143 37.571843 \nL 112.950177 37.540747 \nL 113.968115 36.142757 \nL 114.986054 35.928349 \nL 116.003992 36.127973 \nL 117.021931 36.171799 \nL 118.03987 37.831349 \nL 119.057808 38.696663 \nL 120.075747 38.866898 \nL 121.093685 37.008775 \nL 122.111624 39.800255 \nL 123.129563 36.946896 \nL 124.147501 41.438893 \nL 125.16544 40.434515 \nL 128.219255 40.125318 \nL 129.237194 35.966693 \nL 130.255133 38.410217 \nL 131.273071 37.467496 \nL 132.29101 37.879698 \nL 133.308948 36.255706 \nL 134.326887 35.899879 \nL 135.344826 34.916072 \nL 136.362764 49.627169 \nL 137.380703 34.500057 \nL 138.398641 51.557682 \nL 139.41658 40.358469 \nL 140.434518 40.360291 \nL 141.452457 39.319694 \nL 142.470396 56.642725 \nL 143.488334 55.874018 \nL 144.506273 41.770603 \nL 145.524211 44.267676 \nL 146.54215 41.843887 \nL 147.560089 67.549389 \nL 148.578027 39.299277 \nL 149.595966 39.311522 \nL 150.613904 39.587726 \nL 151.631843 42.053065 \nL 152.649781 41.401152 \nL 153.66772 36.411555 \nL 154.685659 41.847466 \nL 155.703597 42.43463 \nL 156.721536 42.409848 \nL 157.739474 36.613098 \nL 158.757413 47.120903 \nL 159.775352 33.959903 \nL 160.79329 33.841253 \nL 161.811229 43.338452 \nL 162.829167 34.976579 \nL 163.847106 32.201761 \nL 164.865044 37.46337 \nL 165.882983 37.574432 \nL 166.900922 61.162047 \nL 167.91886 35.825764 \nL 168.936799 56.142109 \nL 169.954737 46.718094 \nL 170.972676 45.511909 \nL 171.990615 35.381705 \nL 173.008553 35.645412 \nL 174.026492 34.855018 \nL 175.04443 38.202673 \nL 176.062369 36.457982 \nL 177.080307 39.236007 \nL 178.098246 40.353468 \nL 179.116185 40.461372 \nL 180.134123 34.053532 \nL 181.152062 34.025308 \nL 182.17 36.6384 \nL 183.187939 42.662187 \nL 184.205878 40.851546 \nL 185.223816 40.056642 \nL 186.241755 46.718921 \nL 187.259693 50.557086 \nL 188.277632 37.147261 \nL 189.29557 44.732868 \nL 190.313509 39.258405 \nL 191.331448 45.792616 \nL 192.349386 41.101609 \nL 193.367325 41.989715 \nL 194.385263 59.015478 \nL 195.403202 40.910716 \nL 196.421141 41.110259 \nL 197.439079 37.686386 \nL 198.457018 44.280528 \nL 199.474956 52.177821 \nL 200.492895 56.120345 \nL 201.510833 42.55107 \nL 202.528772 39.38225 \nL 203.546711 40.557166 \nL 204.564649 45.267039 \nL 205.582588 40.817093 \nL 206.600526 43.726853 \nL 207.618465 52.947986 \nL 208.636404 43.214693 \nL 209.654342 50.34634 \nL 210.672281 50.074327 \nL 211.690219 57.208483 \nL 212.708158 39.941805 \nL 213.726096 55.21358 \nL 214.744035 42.672314 \nL 215.761974 50.130185 \nL 216.779912 46.771463 \nL 217.797851 39.858235 \nL 218.815789 75.906468 \nL 219.833728 39.877747 \nL 220.851667 39.916838 \nL 221.869605 45.213549 \nL 222.887544 39.803511 \nL 223.905482 40.958802 \nL 224.923421 36.43261 \nL 225.941359 36.602395 \nL 226.959298 60.577091 \nL 227.977237 37.287186 \nL 228.995175 41.518282 \nL 230.013114 38.375575 \nL 231.031052 56.126078 \nL 232.048991 37.151855 \nL 233.06693 54.862926 \nL 234.084868 34.603949 \nL 235.102807 53.488773 \nL 236.120745 45.562751 \nL 237.138684 42.07959 \nL 238.156622 51.616636 \nL 239.174561 53.996027 \nL 240.1925 38.192892 \nL 241.210438 40.05774 \nL 242.228377 39.125794 \nL 243.246315 39.489874 \nL 244.264254 41.238847 \nL 245.282193 39.963929 \nL 246.300131 41.573232 \nL 247.31807 41.633854 \nL 248.336008 42.880042 \nL 249.353947 41.886181 \nL 250.371885 45.799407 \nL 251.389824 43.962295 \nL 252.407763 56.471373 \nL 253.425701 44.081778 \nL 254.44364 50.413151 \nL 255.461578 50.276091 \nL 256.479517 42.75176 \nL 257.497456 49.040377 \nL 258.515394 41.282463 \nL 259.533333 41.798004 \nL 260.551271 41.87541 \nL 261.56921 55.860259 \nL 262.587148 48.989586 \nL 263.605087 41.02395 \nL 264.623026 41.581192 \nL 265.640964 41.131319 \nL 266.658903 116.277177 \nL 267.676841 41.093604 \nL 268.69478 40.076151 \nL 269.712719 42.469136 \nL 270.730657 46.183091 \nL 271.748596 40.362707 \nL 272.766534 102.010543 \nL 273.784473 41.628024 \nL 274.802411 40.367028 \nL 275.82035 109.74869 \nL 276.838289 107.867271 \nL 277.856227 80.789774 \nL 278.874166 40.39077 \nL 279.892104 68.187575 \nL 280.910043 81.805281 \nL 281.927982 82.786174 \nL 282.94592 79.723422 \nL 283.963859 59.79129 \nL 284.981797 52.861918 \nL 285.999736 80.773768 \nL 287.017674 87.197647 \nL 288.035613 66.045177 \nL 289.053552 74.310681 \nL 290.07149 78.930722 \nL 291.089429 79.576768 \nL 292.107367 90.150053 \nL 293.125306 83.456111 \nL 294.143245 70.119885 \nL 295.161183 58.808211 \nL 296.179122 93.195519 \nL 297.19706 43.874529 \nL 298.214999 92.450719 \nL 299.232937 44.362364 \nL 300.250876 83.438419 \nL 301.268815 44.325605 \nL 302.286753 45.038684 \nL 303.304692 78.319762 \nL 304.32263 72.693617 \nL 305.340569 89.761024 \nL 306.358508 64.700644 \nL 307.376446 44.914389 \nL 308.394385 46.465323 \nL 309.412323 45.150549 \nL 310.430262 44.28847 \nL 311.4482 44.288473 \nL 312.466139 43.998223 \nL 314.502016 43.94089 \nL 315.519955 42.854472 \nL 317.555832 43.451624 \nL 318.573771 43.443042 \nL 319.591709 43.675597 \nL 320.609648 43.675628 \nL 321.627586 43.82141 \nL 322.645525 43.821419 \nL 323.663463 43.983564 \nL 324.681402 44.014528 \nL 325.699341 43.567441 \nL 326.717279 43.930968 \nL 327.735218 43.978338 \nL 328.753156 43.858235 \nL 329.771095 43.889602 \nL 330.789034 52.062642 \nL 331.806972 42.546714 \nL 332.824911 42.269482 \nL 333.842849 43.152206 \nL 334.860788 42.606382 \nL 335.878726 39.573099 \nL 336.896665 39.566626 \nL 337.914604 39.966318 \nL 338.932542 39.666133 \nL 339.950481 37.621603 \nL 340.968419 38.472513 \nL 341.986358 38.613453 \nL 343.004297 39.345915 \nL 344.022235 39.466552 \nL 345.040174 39.88157 \nL 346.058112 39.359962 \nL 347.076051 39.227608 \nL 348.093989 40.768389 \nL 349.111928 56.886538 \nL 351.147805 39.258814 \nL 352.165744 39.571682 \nL 353.183682 39.417015 \nL 354.201621 39.416173 \nL 355.21956 38.393377 \nL 356.237498 38.337736 \nL 357.255437 47.266395 \nL 358.273375 38.544446 \nL 360.309252 38.642312 \nL 361.327191 39.000677 \nL 362.34513 40.594675 \nL 363.363068 37.059287 \nL 363.363068 37.059287 \n\" style=\"fill:none;stroke:#1f77b4;stroke-linecap:square;stroke-width:1.5;\"/>\n   </g>\n   <g id=\"patch_3\">\n    <path d=\"M 43.78125 239.758125 \nL 43.78125 22.318125 \n\" style=\"fill:none;stroke:#000000;stroke-linecap:square;stroke-linejoin:miter;stroke-width:0.8;\"/>\n   </g>\n   <g id=\"patch_4\">\n    <path d=\"M 378.58125 239.758125 \nL 378.58125 22.318125 \n\" style=\"fill:none;stroke:#000000;stroke-linecap:square;stroke-linejoin:miter;stroke-width:0.8;\"/>\n   </g>\n   <g id=\"patch_5\">\n    <path d=\"M 43.78125 239.758125 \nL 378.58125 239.758125 \n\" style=\"fill:none;stroke:#000000;stroke-linecap:square;stroke-linejoin:miter;stroke-width:0.8;\"/>\n   </g>\n   <g id=\"patch_6\">\n    <path d=\"M 43.78125 22.318125 \nL 378.58125 22.318125 \n\" style=\"fill:none;stroke:#000000;stroke-linecap:square;stroke-linejoin:miter;stroke-width:0.8;\"/>\n   </g>\n   <g id=\"text_17\">\n    <!-- Filter method: K-best by mutual information -->\n    <g transform=\"translate(80.011875 16.318125)scale(0.12 -0.12)\">\n     <defs>\n      <path d=\"M 9.8125 72.90625 \nL 51.703125 72.90625 \nL 51.703125 64.59375 \nL 19.671875 64.59375 \nL 19.671875 43.109375 \nL 48.578125 43.109375 \nL 48.578125 34.8125 \nL 19.671875 34.8125 \nL 19.671875 0 \nL 9.8125 0 \nz\n\" id=\"DejaVuSans-70\"/>\n      <path d=\"M 9.421875 54.6875 \nL 18.40625 54.6875 \nL 18.40625 0 \nL 9.421875 0 \nz\nM 9.421875 75.984375 \nL 18.40625 75.984375 \nL 18.40625 64.59375 \nL 9.421875 64.59375 \nz\n\" id=\"DejaVuSans-105\"/>\n      <path d=\"M 9.421875 75.984375 \nL 18.40625 75.984375 \nL 18.40625 0 \nL 9.421875 0 \nz\n\" id=\"DejaVuSans-108\"/>\n      <path d=\"M 18.3125 70.21875 \nL 18.3125 54.6875 \nL 36.8125 54.6875 \nL 36.8125 47.703125 \nL 18.3125 47.703125 \nL 18.3125 18.015625 \nQ 18.3125 11.328125 20.140625 9.421875 \nQ 21.96875 7.515625 27.59375 7.515625 \nL 36.8125 7.515625 \nL 36.8125 0 \nL 27.59375 0 \nQ 17.1875 0 13.234375 3.875 \nQ 9.28125 7.765625 9.28125 18.015625 \nL 9.28125 47.703125 \nL 2.6875 47.703125 \nL 2.6875 54.6875 \nL 9.28125 54.6875 \nL 9.28125 70.21875 \nz\n\" id=\"DejaVuSans-116\"/>\n      <path id=\"DejaVuSans-32\"/>\n      <path d=\"M 52 44.1875 \nQ 55.375 50.25 60.0625 53.125 \nQ 64.75 56 71.09375 56 \nQ 79.640625 56 84.28125 50.015625 \nQ 88.921875 44.046875 88.921875 33.015625 \nL 88.921875 0 \nL 79.890625 0 \nL 79.890625 32.71875 \nQ 79.890625 40.578125 77.09375 44.375 \nQ 74.3125 48.1875 68.609375 48.1875 \nQ 61.625 48.1875 57.5625 43.546875 \nQ 53.515625 38.921875 53.515625 30.90625 \nL 53.515625 0 \nL 44.484375 0 \nL 44.484375 32.71875 \nQ 44.484375 40.625 41.703125 44.40625 \nQ 38.921875 48.1875 33.109375 48.1875 \nQ 26.21875 48.1875 22.15625 43.53125 \nQ 18.109375 38.875 18.109375 30.90625 \nL 18.109375 0 \nL 9.078125 0 \nL 9.078125 54.6875 \nL 18.109375 54.6875 \nL 18.109375 46.1875 \nQ 21.1875 51.21875 25.484375 53.609375 \nQ 29.78125 56 35.6875 56 \nQ 41.65625 56 45.828125 52.96875 \nQ 50 49.953125 52 44.1875 \nz\n\" id=\"DejaVuSans-109\"/>\n      <path d=\"M 54.890625 33.015625 \nL 54.890625 0 \nL 45.90625 0 \nL 45.90625 32.71875 \nQ 45.90625 40.484375 42.875 44.328125 \nQ 39.84375 48.1875 33.796875 48.1875 \nQ 26.515625 48.1875 22.3125 43.546875 \nQ 18.109375 38.921875 18.109375 30.90625 \nL 18.109375 0 \nL 9.078125 0 \nL 9.078125 75.984375 \nL 18.109375 75.984375 \nL 18.109375 46.1875 \nQ 21.34375 51.125 25.703125 53.5625 \nQ 30.078125 56 35.796875 56 \nQ 45.21875 56 50.046875 50.171875 \nQ 54.890625 44.34375 54.890625 33.015625 \nz\n\" id=\"DejaVuSans-104\"/>\n      <path d=\"M 45.40625 46.390625 \nL 45.40625 75.984375 \nL 54.390625 75.984375 \nL 54.390625 0 \nL 45.40625 0 \nL 45.40625 8.203125 \nQ 42.578125 3.328125 38.25 0.953125 \nQ 33.9375 -1.421875 27.875 -1.421875 \nQ 17.96875 -1.421875 11.734375 6.484375 \nQ 5.515625 14.40625 5.515625 27.296875 \nQ 5.515625 40.1875 11.734375 48.09375 \nQ 17.96875 56 27.875 56 \nQ 33.9375 56 38.25 53.625 \nQ 42.578125 51.265625 45.40625 46.390625 \nz\nM 14.796875 27.296875 \nQ 14.796875 17.390625 18.875 11.75 \nQ 22.953125 6.109375 30.078125 6.109375 \nQ 37.203125 6.109375 41.296875 11.75 \nQ 45.40625 17.390625 45.40625 27.296875 \nQ 45.40625 37.203125 41.296875 42.84375 \nQ 37.203125 48.484375 30.078125 48.484375 \nQ 22.953125 48.484375 18.875 42.84375 \nQ 14.796875 37.203125 14.796875 27.296875 \nz\n\" id=\"DejaVuSans-100\"/>\n      <path d=\"M 11.71875 12.40625 \nL 22.015625 12.40625 \nL 22.015625 0 \nL 11.71875 0 \nz\nM 11.71875 51.703125 \nL 22.015625 51.703125 \nL 22.015625 39.3125 \nL 11.71875 39.3125 \nz\n\" id=\"DejaVuSans-58\"/>\n      <path d=\"M 9.8125 72.90625 \nL 19.671875 72.90625 \nL 19.671875 42.09375 \nL 52.390625 72.90625 \nL 65.09375 72.90625 \nL 28.90625 38.921875 \nL 67.671875 0 \nL 54.6875 0 \nL 19.671875 35.109375 \nL 19.671875 0 \nL 9.8125 0 \nz\n\" id=\"DejaVuSans-75\"/>\n      <path d=\"M 4.890625 31.390625 \nL 31.203125 31.390625 \nL 31.203125 23.390625 \nL 4.890625 23.390625 \nz\n\" id=\"DejaVuSans-45\"/>\n      <path d=\"M 48.6875 27.296875 \nQ 48.6875 37.203125 44.609375 42.84375 \nQ 40.53125 48.484375 33.40625 48.484375 \nQ 26.265625 48.484375 22.1875 42.84375 \nQ 18.109375 37.203125 18.109375 27.296875 \nQ 18.109375 17.390625 22.1875 11.75 \nQ 26.265625 6.109375 33.40625 6.109375 \nQ 40.53125 6.109375 44.609375 11.75 \nQ 48.6875 17.390625 48.6875 27.296875 \nz\nM 18.109375 46.390625 \nQ 20.953125 51.265625 25.265625 53.625 \nQ 29.59375 56 35.59375 56 \nQ 45.5625 56 51.78125 48.09375 \nQ 58.015625 40.1875 58.015625 27.296875 \nQ 58.015625 14.40625 51.78125 6.484375 \nQ 45.5625 -1.421875 35.59375 -1.421875 \nQ 29.59375 -1.421875 25.265625 0.953125 \nQ 20.953125 3.328125 18.109375 8.203125 \nL 18.109375 0 \nL 9.078125 0 \nL 9.078125 75.984375 \nL 18.109375 75.984375 \nz\n\" id=\"DejaVuSans-98\"/>\n      <path d=\"M 32.171875 -5.078125 \nQ 28.375 -14.84375 24.75 -17.8125 \nQ 21.140625 -20.796875 15.09375 -20.796875 \nL 7.90625 -20.796875 \nL 7.90625 -13.28125 \nL 13.1875 -13.28125 \nQ 16.890625 -13.28125 18.9375 -11.515625 \nQ 21 -9.765625 23.484375 -3.21875 \nL 25.09375 0.875 \nL 2.984375 54.6875 \nL 12.5 54.6875 \nL 29.59375 11.921875 \nL 46.6875 54.6875 \nL 56.203125 54.6875 \nz\n\" id=\"DejaVuSans-121\"/>\n      <path d=\"M 8.5 21.578125 \nL 8.5 54.6875 \nL 17.484375 54.6875 \nL 17.484375 21.921875 \nQ 17.484375 14.15625 20.5 10.265625 \nQ 23.53125 6.390625 29.59375 6.390625 \nQ 36.859375 6.390625 41.078125 11.03125 \nQ 45.3125 15.671875 45.3125 23.6875 \nL 45.3125 54.6875 \nL 54.296875 54.6875 \nL 54.296875 0 \nL 45.3125 0 \nL 45.3125 8.40625 \nQ 42.046875 3.421875 37.71875 1 \nQ 33.40625 -1.421875 27.6875 -1.421875 \nQ 18.265625 -1.421875 13.375 4.4375 \nQ 8.5 10.296875 8.5 21.578125 \nz\nM 31.109375 56 \nz\n\" id=\"DejaVuSans-117\"/>\n      <path d=\"M 37.109375 75.984375 \nL 37.109375 68.5 \nL 28.515625 68.5 \nQ 23.6875 68.5 21.796875 66.546875 \nQ 19.921875 64.59375 19.921875 59.515625 \nL 19.921875 54.6875 \nL 34.71875 54.6875 \nL 34.71875 47.703125 \nL 19.921875 47.703125 \nL 19.921875 0 \nL 10.890625 0 \nL 10.890625 47.703125 \nL 2.296875 47.703125 \nL 2.296875 54.6875 \nL 10.890625 54.6875 \nL 10.890625 58.5 \nQ 10.890625 67.625 15.140625 71.796875 \nQ 19.390625 75.984375 28.609375 75.984375 \nz\n\" id=\"DejaVuSans-102\"/>\n     </defs>\n     <use xlink:href=\"#DejaVuSans-70\"/>\n     <use x=\"50.269531\" xlink:href=\"#DejaVuSans-105\"/>\n     <use x=\"78.052734\" xlink:href=\"#DejaVuSans-108\"/>\n     <use x=\"105.835938\" xlink:href=\"#DejaVuSans-116\"/>\n     <use x=\"145.044922\" xlink:href=\"#DejaVuSans-101\"/>\n     <use x=\"206.568359\" xlink:href=\"#DejaVuSans-114\"/>\n     <use x=\"247.681641\" xlink:href=\"#DejaVuSans-32\"/>\n     <use x=\"279.46875\" xlink:href=\"#DejaVuSans-109\"/>\n     <use x=\"376.880859\" xlink:href=\"#DejaVuSans-101\"/>\n     <use x=\"438.404297\" xlink:href=\"#DejaVuSans-116\"/>\n     <use x=\"477.613281\" xlink:href=\"#DejaVuSans-104\"/>\n     <use x=\"540.992188\" xlink:href=\"#DejaVuSans-111\"/>\n     <use x=\"602.173828\" xlink:href=\"#DejaVuSans-100\"/>\n     <use x=\"665.650391\" xlink:href=\"#DejaVuSans-58\"/>\n     <use x=\"699.341797\" xlink:href=\"#DejaVuSans-32\"/>\n     <use x=\"731.128906\" xlink:href=\"#DejaVuSans-75\"/>\n     <use x=\"786.205078\" xlink:href=\"#DejaVuSans-45\"/>\n     <use x=\"822.289062\" xlink:href=\"#DejaVuSans-98\"/>\n     <use x=\"885.765625\" xlink:href=\"#DejaVuSans-101\"/>\n     <use x=\"947.289062\" xlink:href=\"#DejaVuSans-115\"/>\n     <use x=\"999.388672\" xlink:href=\"#DejaVuSans-116\"/>\n     <use x=\"1038.597656\" xlink:href=\"#DejaVuSans-32\"/>\n     <use x=\"1070.384766\" xlink:href=\"#DejaVuSans-98\"/>\n     <use x=\"1133.861328\" xlink:href=\"#DejaVuSans-121\"/>\n     <use x=\"1193.041016\" xlink:href=\"#DejaVuSans-32\"/>\n     <use x=\"1224.828125\" xlink:href=\"#DejaVuSans-109\"/>\n     <use x=\"1322.240234\" xlink:href=\"#DejaVuSans-117\"/>\n     <use x=\"1385.619141\" xlink:href=\"#DejaVuSans-116\"/>\n     <use x=\"1424.828125\" xlink:href=\"#DejaVuSans-117\"/>\n     <use x=\"1488.207031\" xlink:href=\"#DejaVuSans-97\"/>\n     <use x=\"1549.486328\" xlink:href=\"#DejaVuSans-108\"/>\n     <use x=\"1577.269531\" xlink:href=\"#DejaVuSans-32\"/>\n     <use x=\"1609.056641\" xlink:href=\"#DejaVuSans-105\"/>\n     <use x=\"1636.839844\" xlink:href=\"#DejaVuSans-110\"/>\n     <use x=\"1700.21875\" xlink:href=\"#DejaVuSans-102\"/>\n     <use x=\"1735.423828\" xlink:href=\"#DejaVuSans-111\"/>\n     <use x=\"1796.605469\" xlink:href=\"#DejaVuSans-114\"/>\n     <use x=\"1835.96875\" xlink:href=\"#DejaVuSans-109\"/>\n     <use x=\"1933.380859\" xlink:href=\"#DejaVuSans-97\"/>\n     <use x=\"1994.660156\" xlink:href=\"#DejaVuSans-116\"/>\n     <use x=\"2033.869141\" xlink:href=\"#DejaVuSans-105\"/>\n     <use x=\"2061.652344\" xlink:href=\"#DejaVuSans-111\"/>\n     <use x=\"2122.833984\" xlink:href=\"#DejaVuSans-110\"/>\n    </g>\n   </g>\n  </g>\n </g>\n <defs>\n  <clipPath id=\"p177d0fcb34\">\n   <rect height=\"217.44\" width=\"334.8\" x=\"43.78125\" y=\"22.318125\"/>\n  </clipPath>\n </defs>\n</svg>\n",
      "image/png": "[encoded data removed]"
     },
     "metadata": {
      "needs_background": "light"
     }
    }
   ],
   "source": [
    "plt.plot(k_lst, pearson_lst)\n",
    "plt.title('Filter method: K-best by mutual information')\n",
    "plt.xlabel('k')\n",
    "plt.ylabel('pearson')"
   ]
  },
  {
   "cell_type": "code",
   "execution_count": null,
   "metadata": {},
   "outputs": [],
   "source": [
    "k = 75"
   ]
  },
  {
   "source": [
    "## Wrapped methods: Forward feature selection"
   ],
   "cell_type": "markdown",
   "metadata": {}
  },
  {
   "cell_type": "code",
   "execution_count": 14,
   "metadata": {},
   "outputs": [],
   "source": [
    "picks = feature_names[:75]\n",
    "col_idx = [multi_train_feature_name_2_idx[pick] for pick in picks]\n",
    "X_picks = X[:, col_idx]"
   ]
  },
  {
   "cell_type": "code",
   "execution_count": 86,
   "metadata": {},
   "outputs": [],
   "source": [
    "model = LinearRegression()\n",
    "sfs = SequentialFeatureSelector(model,\n",
    "    k_features=30, #should be 75\n",
    "    forward=True,\n",
    "    floating=False,\n",
    "    scoring='r2',\n",
    "    verbose=2,\n",
    "    cv=list(custom_cv_folds(multi_train, n_splits=20)),\n",
    ")"
   ]
  },
  {
   "cell_type": "code",
   "execution_count": 87,
   "metadata": {},
   "outputs": [
    {
     "output_type": "stream",
     "name": "stderr",
     "text": [
      "[Parallel(n_jobs=1)]: Using backend SequentialBackend with 1 concurrent workers.\n",
      "[Parallel(n_jobs=1)]: Done   1 out of   1 | elapsed:    0.1s remaining:    0.0s\n",
      "[Parallel(n_jobs=1)]: Done  75 out of  75 | elapsed:    1.9s finished\n",
      "\n",
      "[2021-01-11 19:40:12] Features: 1/30 -- score: 0.3987827812795866[Parallel(n_jobs=1)]: Using backend SequentialBackend with 1 concurrent workers.\n",
      "[Parallel(n_jobs=1)]: Done   1 out of   1 | elapsed:    0.0s remaining:    0.0s\n",
      "[Parallel(n_jobs=1)]: Done  74 out of  74 | elapsed:    1.8s finished\n",
      "\n",
      "[2021-01-11 19:40:14] Features: 2/30 -- score: 0.4816692291331318[Parallel(n_jobs=1)]: Using backend SequentialBackend with 1 concurrent workers.\n",
      "[Parallel(n_jobs=1)]: Done   1 out of   1 | elapsed:    0.0s remaining:    0.0s\n",
      "[Parallel(n_jobs=1)]: Done  73 out of  73 | elapsed:    1.9s finished\n",
      "\n",
      "[2021-01-11 19:40:16] Features: 3/30 -- score: 0.5129799664922342[Parallel(n_jobs=1)]: Using backend SequentialBackend with 1 concurrent workers.\n",
      "[Parallel(n_jobs=1)]: Done   1 out of   1 | elapsed:    0.0s remaining:    0.0s\n",
      "[Parallel(n_jobs=1)]: Done  72 out of  72 | elapsed:    1.9s finished\n",
      "\n",
      "[2021-01-11 19:40:18] Features: 4/30 -- score: 0.5298084512856673[Parallel(n_jobs=1)]: Using backend SequentialBackend with 1 concurrent workers.\n",
      "[Parallel(n_jobs=1)]: Done   1 out of   1 | elapsed:    0.0s remaining:    0.0s\n",
      "[Parallel(n_jobs=1)]: Done  71 out of  71 | elapsed:    1.8s finished\n",
      "\n",
      "[2021-01-11 19:40:19] Features: 5/30 -- score: 0.5422312115984058[Parallel(n_jobs=1)]: Using backend SequentialBackend with 1 concurrent workers.\n",
      "[Parallel(n_jobs=1)]: Done   1 out of   1 | elapsed:    0.0s remaining:    0.0s\n",
      "[Parallel(n_jobs=1)]: Done  70 out of  70 | elapsed:    1.8s finished\n",
      "\n",
      "[2021-01-11 19:40:21] Features: 6/30 -- score: 0.5505120389486682[Parallel(n_jobs=1)]: Using backend SequentialBackend with 1 concurrent workers.\n",
      "[Parallel(n_jobs=1)]: Done   1 out of   1 | elapsed:    0.0s remaining:    0.0s\n",
      "[Parallel(n_jobs=1)]: Done  69 out of  69 | elapsed:    1.9s finished\n",
      "\n",
      "[2021-01-11 19:40:23] Features: 7/30 -- score: 0.5591564543252694[Parallel(n_jobs=1)]: Using backend SequentialBackend with 1 concurrent workers.\n",
      "[Parallel(n_jobs=1)]: Done   1 out of   1 | elapsed:    0.0s remaining:    0.0s\n",
      "[Parallel(n_jobs=1)]: Done  68 out of  68 | elapsed:    1.9s finished\n",
      "\n",
      "[2021-01-11 19:40:25] Features: 8/30 -- score: 0.5664033400600484[Parallel(n_jobs=1)]: Using backend SequentialBackend with 1 concurrent workers.\n",
      "[Parallel(n_jobs=1)]: Done   1 out of   1 | elapsed:    0.0s remaining:    0.0s\n",
      "[Parallel(n_jobs=1)]: Done  67 out of  67 | elapsed:    2.0s finished\n",
      "\n",
      "[2021-01-11 19:40:27] Features: 9/30 -- score: 0.570928753047016[Parallel(n_jobs=1)]: Using backend SequentialBackend with 1 concurrent workers.\n",
      "[Parallel(n_jobs=1)]: Done   1 out of   1 | elapsed:    0.0s remaining:    0.0s\n",
      "[Parallel(n_jobs=1)]: Done  66 out of  66 | elapsed:    2.0s finished\n",
      "\n",
      "[2021-01-11 19:40:29] Features: 10/30 -- score: 0.5751265626508677[Parallel(n_jobs=1)]: Using backend SequentialBackend with 1 concurrent workers.\n",
      "[Parallel(n_jobs=1)]: Done   1 out of   1 | elapsed:    0.0s remaining:    0.0s\n",
      "[Parallel(n_jobs=1)]: Done  65 out of  65 | elapsed:    2.1s finished\n",
      "\n",
      "[2021-01-11 19:40:31] Features: 11/30 -- score: 0.5780962606514751[Parallel(n_jobs=1)]: Using backend SequentialBackend with 1 concurrent workers.\n",
      "[Parallel(n_jobs=1)]: Done   1 out of   1 | elapsed:    0.0s remaining:    0.0s\n",
      "[Parallel(n_jobs=1)]: Done  64 out of  64 | elapsed:    2.0s finished\n",
      "\n",
      "[2021-01-11 19:40:33] Features: 12/30 -- score: 0.5806212454306544[Parallel(n_jobs=1)]: Using backend SequentialBackend with 1 concurrent workers.\n",
      "[Parallel(n_jobs=1)]: Done   1 out of   1 | elapsed:    0.0s remaining:    0.0s\n",
      "[Parallel(n_jobs=1)]: Done  63 out of  63 | elapsed:    2.1s finished\n",
      "\n",
      "[2021-01-11 19:40:35] Features: 13/30 -- score: 0.583312854384746[Parallel(n_jobs=1)]: Using backend SequentialBackend with 1 concurrent workers.\n",
      "[Parallel(n_jobs=1)]: Done   1 out of   1 | elapsed:    0.0s remaining:    0.0s\n",
      "[Parallel(n_jobs=1)]: Done  62 out of  62 | elapsed:    2.1s finished\n",
      "\n",
      "[2021-01-11 19:40:37] Features: 14/30 -- score: 0.5855714696691312[Parallel(n_jobs=1)]: Using backend SequentialBackend with 1 concurrent workers.\n",
      "[Parallel(n_jobs=1)]: Done   1 out of   1 | elapsed:    0.0s remaining:    0.0s\n",
      "[Parallel(n_jobs=1)]: Done  61 out of  61 | elapsed:    2.1s finished\n",
      "\n",
      "[2021-01-11 19:40:40] Features: 15/30 -- score: 0.5874221533300708[Parallel(n_jobs=1)]: Using backend SequentialBackend with 1 concurrent workers.\n",
      "[Parallel(n_jobs=1)]: Done   1 out of   1 | elapsed:    0.0s remaining:    0.0s\n",
      "[Parallel(n_jobs=1)]: Done  60 out of  60 | elapsed:    2.1s finished\n",
      "\n",
      "[2021-01-11 19:40:42] Features: 16/30 -- score: 0.5899927795394079[Parallel(n_jobs=1)]: Using backend SequentialBackend with 1 concurrent workers.\n",
      "[Parallel(n_jobs=1)]: Done   1 out of   1 | elapsed:    0.0s remaining:    0.0s\n",
      "[Parallel(n_jobs=1)]: Done  59 out of  59 | elapsed:    2.2s finished\n",
      "\n",
      "[2021-01-11 19:40:44] Features: 17/30 -- score: 0.592475779383393[Parallel(n_jobs=1)]: Using backend SequentialBackend with 1 concurrent workers.\n",
      "[Parallel(n_jobs=1)]: Done   1 out of   1 | elapsed:    0.0s remaining:    0.0s\n",
      "[Parallel(n_jobs=1)]: Done  58 out of  58 | elapsed:    2.2s finished\n",
      "\n",
      "[2021-01-11 19:40:46] Features: 18/30 -- score: 0.5936732249412534[Parallel(n_jobs=1)]: Using backend SequentialBackend with 1 concurrent workers.\n",
      "[Parallel(n_jobs=1)]: Done   1 out of   1 | elapsed:    0.0s remaining:    0.0s\n",
      "[Parallel(n_jobs=1)]: Done  57 out of  57 | elapsed:    2.3s finished\n",
      "\n",
      "[2021-01-11 19:40:48] Features: 19/30 -- score: 0.5943621294925754[Parallel(n_jobs=1)]: Using backend SequentialBackend with 1 concurrent workers.\n",
      "[Parallel(n_jobs=1)]: Done   1 out of   1 | elapsed:    0.0s remaining:    0.0s\n",
      "[Parallel(n_jobs=1)]: Done  56 out of  56 | elapsed:    2.3s finished\n",
      "\n",
      "[2021-01-11 19:40:51] Features: 20/30 -- score: 0.5950044156569847[Parallel(n_jobs=1)]: Using backend SequentialBackend with 1 concurrent workers.\n",
      "[Parallel(n_jobs=1)]: Done   1 out of   1 | elapsed:    0.0s remaining:    0.0s\n",
      "[Parallel(n_jobs=1)]: Done  55 out of  55 | elapsed:    2.2s finished\n",
      "\n",
      "[2021-01-11 19:40:53] Features: 21/30 -- score: 0.5952425180688742[Parallel(n_jobs=1)]: Using backend SequentialBackend with 1 concurrent workers.\n",
      "[Parallel(n_jobs=1)]: Done   1 out of   1 | elapsed:    0.0s remaining:    0.0s\n",
      "[Parallel(n_jobs=1)]: Done  54 out of  54 | elapsed:    2.3s finished\n",
      "\n",
      "[2021-01-11 19:40:55] Features: 22/30 -- score: 0.595499217662808[Parallel(n_jobs=1)]: Using backend SequentialBackend with 1 concurrent workers.\n",
      "[Parallel(n_jobs=1)]: Done   1 out of   1 | elapsed:    0.0s remaining:    0.0s\n",
      "[Parallel(n_jobs=1)]: Done  53 out of  53 | elapsed:    2.5s finished\n",
      "\n",
      "[2021-01-11 19:40:58] Features: 23/30 -- score: 0.5956837597946182[Parallel(n_jobs=1)]: Using backend SequentialBackend with 1 concurrent workers.\n",
      "[Parallel(n_jobs=1)]: Done   1 out of   1 | elapsed:    0.0s remaining:    0.0s\n",
      "[Parallel(n_jobs=1)]: Done  52 out of  52 | elapsed:    2.3s finished\n",
      "\n",
      "[2021-01-11 19:41:00] Features: 24/30 -- score: 0.595796661256697[Parallel(n_jobs=1)]: Using backend SequentialBackend with 1 concurrent workers.\n",
      "[Parallel(n_jobs=1)]: Done   1 out of   1 | elapsed:    0.0s remaining:    0.0s\n",
      "[Parallel(n_jobs=1)]: Done  51 out of  51 | elapsed:    2.3s finished\n",
      "\n",
      "[2021-01-11 19:41:02] Features: 25/30 -- score: 0.5958545218960771[Parallel(n_jobs=1)]: Using backend SequentialBackend with 1 concurrent workers.\n",
      "[Parallel(n_jobs=1)]: Done   1 out of   1 | elapsed:    0.0s remaining:    0.0s\n",
      "[Parallel(n_jobs=1)]: Done  50 out of  50 | elapsed:    2.3s finished\n",
      "\n",
      "[2021-01-11 19:41:05] Features: 26/30 -- score: 0.5962559220183618[Parallel(n_jobs=1)]: Using backend SequentialBackend with 1 concurrent workers.\n",
      "[Parallel(n_jobs=1)]: Done   1 out of   1 | elapsed:    0.0s remaining:    0.0s\n",
      "[Parallel(n_jobs=1)]: Done  49 out of  49 | elapsed:    2.3s finished\n",
      "\n",
      "[2021-01-11 19:41:07] Features: 27/30 -- score: 0.5970903408393958[Parallel(n_jobs=1)]: Using backend SequentialBackend with 1 concurrent workers.\n",
      "[Parallel(n_jobs=1)]: Done   1 out of   1 | elapsed:    0.0s remaining:    0.0s\n",
      "[Parallel(n_jobs=1)]: Done  48 out of  48 | elapsed:    2.3s finished\n",
      "\n",
      "[2021-01-11 19:41:09] Features: 28/30 -- score: 0.5972287383590299[Parallel(n_jobs=1)]: Using backend SequentialBackend with 1 concurrent workers.\n",
      "[Parallel(n_jobs=1)]: Done   1 out of   1 | elapsed:    0.0s remaining:    0.0s\n",
      "[Parallel(n_jobs=1)]: Done  47 out of  47 | elapsed:    2.3s finished\n",
      "\n",
      "[2021-01-11 19:41:12] Features: 29/30 -- score: 0.5972936015491691[Parallel(n_jobs=1)]: Using backend SequentialBackend with 1 concurrent workers.\n",
      "[Parallel(n_jobs=1)]: Done   1 out of   1 | elapsed:    0.1s remaining:    0.0s\n",
      "[Parallel(n_jobs=1)]: Done  46 out of  46 | elapsed:    2.3s finished\n",
      "\n",
      "[2021-01-11 19:41:14] Features: 30/30 -- score: 0.5974624455080504"
     ]
    },
    {
     "output_type": "execute_result",
     "data": {
      "text/plain": [
       "SequentialFeatureSelector(cv=[(array([778, 279, 879, ..., 654, 987, 208]),\n",
       "                               array([ 173,   34,  348,  263, 1272,  546,  103, 1441,  958,  795,  966,\n",
       "       1004,  323,   72,  720, 1124,  456,  329,  342,  802,  803,  688,\n",
       "         93,  452, 1327, 1227, 1019,  489, 1305,  527,  600, 1039, 1178,\n",
       "         31,  268,  465,  141,  951, 1419, 1505, 1325, 1469, 1083,   65,\n",
       "          8,  163,  711,  816,  955,  593, 1478,  793,  424, 1304,  945,\n",
       "        274,  575,  597, 1491, 1352,  536,  845,  164,  702, 1494, 12...\n",
       "        849,  268,   23, 1452,  969, 1215,  126,  707, 1257,  756,  378,\n",
       "       1502,  688,  466, 1010, 1157,  318, 1404,  557,  611,  167,  955,\n",
       "       1505,  360,  224,  293, 1405,  314,  486,  418,  716, 1080, 1419,\n",
       "        800,   87,  734,  246, 1468,  333,  196,  132, 1236, 1053,  141,\n",
       "        957, 1444, 1008,  619,  817, 1337,  395, 1019,  683,  263,  273,\n",
       "        133, 1465,   81,  353,  998,  748,  620, 1216,  286,  789,  497,\n",
       "        728,  215, 1329, 1323,  518,  720,  928, 1207,   78]))],\n",
       "                          estimator=LinearRegression(), k_features=30,\n",
       "                          scoring='r2', verbose=2)"
      ]
     },
     "metadata": {},
     "execution_count": 87
    }
   ],
   "source": [
    "sfs.fit(X_picks, y)"
   ]
  },
  {
   "cell_type": "code",
   "execution_count": null,
   "metadata": {},
   "outputs": [],
   "source": [
    "k_features = 30"
   ]
  },
  {
   "cell_type": "code",
   "execution_count": 92,
   "metadata": {},
   "outputs": [],
   "source": [
    "picks = [picks[idx] for idx in sfs.k_feature_idx_]\n",
    "col_idx = [multi_train_feature_name_2_idx[pick] for pick in picks]"
   ]
  },
  {
   "source": [
    "picks = ['tf_summed_bpe_sum', 'tf_summed_bpe_head', 'glove_word_sum_277', 'log_tf_sum', 'log_tf_lemma_head', 'log_tf_head', 'glove_word_head_35', 'glove_word_head_173', 'glove_word_sum_201', 'log_tf_lemma_tail', 'log_tf_tail', 'elmo_word_sum_564', 'glove_word_sum_10', 'log_tf_ngram_3_head', 'log_tf_ngram_3_sum', 'glove_word_head_239', 'log_tf_ngram_3_tail', 'glove_word_head_240', 'glove_word_tail_221', 'glove_word_head_210', 'tfidf_ngram_3_head', 'elmo_word_head_867', 'glove_word_tail_173', 'glove_word_head_228', 'log_corpus_bible', 'log_tfidf_ngram_3_sum', 'glove_word_head_44', 'glove_word_tail_279', 'glove_word_sum_180', 'elmo_word_sum_541']\n",
    "\n",
    "col_idx = np.array([single_train_feature_name_2_idx[pick] for pick in picks])"
   ],
   "cell_type": "markdown",
   "metadata": {}
  },
  {
   "source": [
    "## Wrapped methods: Forward feature selection (w/ mean(LR, MT-DNN)"
   ],
   "cell_type": "markdown",
   "metadata": {}
  },
  {
   "cell_type": "code",
   "execution_count": 10,
   "metadata": {},
   "outputs": [],
   "source": [
    "with open('./data/'+job+'/colab/multi_dev_mini_bert_scores.json', 'r') as file:\n",
    "    multi_dev_bert_scores = json.load(file)\n",
    "    multi_dev_mini['bert_pred_complexity'] = multi_dev_bert_scores['scores']"
   ]
  },
  {
   "cell_type": "code",
   "execution_count": 11,
   "metadata": {},
   "outputs": [],
   "source": [
    "class ModifiedLinearRegression(LinearRegression):\n",
    "    def predict(self, X):\n",
    "        multi_dev_mini['lr_pred_complexity'] = self._decision_function(X)\n",
    "        return multi_dev_mini[['lr_pred_complexity', 'bert_pred_complexity']].mean(axis=1)"
   ]
  },
  {
   "cell_type": "code",
   "execution_count": 12,
   "metadata": {},
   "outputs": [],
   "source": [
    "model = ModifiedLinearRegression()"
   ]
  },
  {
   "cell_type": "code",
   "execution_count": 18,
   "metadata": {},
   "outputs": [],
   "source": [
    "sfs = SequentialFeatureSelector(model,\n",
    "    k_features=75,\n",
    "    forward=True,\n",
    "    floating=False,\n",
    "    scoring='r2',\n",
    "    verbose=2,\n",
    "    cv=[(multi_train_mini_idx, multi_dev_mini_idx)], \n",
    "    #cv=list(custom_cv_folds(multi_train, n_splits=5)),\n",
    ")"
   ]
  },
  {
   "cell_type": "code",
   "execution_count": 19,
   "metadata": {},
   "outputs": [
    {
     "output_type": "stream",
     "name": "stderr",
     "text": [
      "[Parallel(n_jobs=1)]: Using backend SequentialBackend with 1 concurrent workers.\n",
      "[Parallel(n_jobs=1)]: Done   1 out of   1 | elapsed:    0.0s remaining:    0.0s\n",
      "[Parallel(n_jobs=1)]: Done  75 out of  75 | elapsed:    1.1s finished\n",
      "\n",
      "[2021-01-12 20:03:15] Features: 1/75 -- score: 0.895187929336487[Parallel(n_jobs=1)]: Using backend SequentialBackend with 1 concurrent workers.\n",
      "[Parallel(n_jobs=1)]: Done   1 out of   1 | elapsed:    0.0s remaining:    0.0s\n",
      "[Parallel(n_jobs=1)]: Done  74 out of  74 | elapsed:    0.9s finished\n",
      "\n",
      "[2021-01-12 20:03:16] Features: 2/75 -- score: 0.8949042527264132[Parallel(n_jobs=1)]: Using backend SequentialBackend with 1 concurrent workers.\n",
      "[Parallel(n_jobs=1)]: Done   1 out of   1 | elapsed:    0.0s remaining:    0.0s\n",
      "[Parallel(n_jobs=1)]: Done  73 out of  73 | elapsed:    0.9s finished\n",
      "\n",
      "[2021-01-12 20:03:17] Features: 3/75 -- score: 0.8938905376839975[Parallel(n_jobs=1)]: Using backend SequentialBackend with 1 concurrent workers.\n",
      "[Parallel(n_jobs=1)]: Done   1 out of   1 | elapsed:    0.0s remaining:    0.0s\n",
      "[Parallel(n_jobs=1)]: Done  72 out of  72 | elapsed:    0.9s finished\n",
      "\n",
      "[2021-01-12 20:03:18] Features: 4/75 -- score: 0.8938376897191815[Parallel(n_jobs=1)]: Using backend SequentialBackend with 1 concurrent workers.\n",
      "[Parallel(n_jobs=1)]: Done   1 out of   1 | elapsed:    0.0s remaining:    0.0s\n",
      "[Parallel(n_jobs=1)]: Done  71 out of  71 | elapsed:    0.9s finished\n",
      "\n",
      "[2021-01-12 20:03:19] Features: 5/75 -- score: 0.8920179632876134[Parallel(n_jobs=1)]: Using backend SequentialBackend with 1 concurrent workers.\n",
      "[Parallel(n_jobs=1)]: Done   1 out of   1 | elapsed:    0.0s remaining:    0.0s\n",
      "[Parallel(n_jobs=1)]: Done  70 out of  70 | elapsed:    0.9s finished\n",
      "\n",
      "[2021-01-12 20:03:19] Features: 6/75 -- score: 0.8898953508979428[Parallel(n_jobs=1)]: Using backend SequentialBackend with 1 concurrent workers.\n",
      "[Parallel(n_jobs=1)]: Done   1 out of   1 | elapsed:    0.0s remaining:    0.0s\n",
      "[Parallel(n_jobs=1)]: Done  69 out of  69 | elapsed:    0.9s finished\n",
      "\n",
      "[2021-01-12 20:03:20] Features: 7/75 -- score: 0.8875090406211602[Parallel(n_jobs=1)]: Using backend SequentialBackend with 1 concurrent workers.\n",
      "[Parallel(n_jobs=1)]: Done   1 out of   1 | elapsed:    0.0s remaining:    0.0s\n",
      "[Parallel(n_jobs=1)]: Done  68 out of  68 | elapsed:    1.1s finished\n",
      "\n",
      "[2021-01-12 20:03:21] Features: 8/75 -- score: 0.8847430309427398[Parallel(n_jobs=1)]: Using backend SequentialBackend with 1 concurrent workers.\n",
      "[Parallel(n_jobs=1)]: Done   1 out of   1 | elapsed:    0.0s remaining:    0.0s\n",
      "[Parallel(n_jobs=1)]: Done  67 out of  67 | elapsed:    0.8s finished\n",
      "\n",
      "[2021-01-12 20:03:22] Features: 9/75 -- score: 0.8806463663503794[Parallel(n_jobs=1)]: Using backend SequentialBackend with 1 concurrent workers.\n",
      "[Parallel(n_jobs=1)]: Done   1 out of   1 | elapsed:    0.0s remaining:    0.0s\n",
      "[Parallel(n_jobs=1)]: Done  66 out of  66 | elapsed:    0.8s finished\n",
      "\n",
      "[2021-01-12 20:03:23] Features: 10/75 -- score: 0.8764745427937193[Parallel(n_jobs=1)]: Using backend SequentialBackend with 1 concurrent workers.\n",
      "[Parallel(n_jobs=1)]: Done   1 out of   1 | elapsed:    0.0s remaining:    0.0s\n",
      "[Parallel(n_jobs=1)]: Done  65 out of  65 | elapsed:    0.8s finished\n",
      "\n",
      "[2021-01-12 20:03:24] Features: 11/75 -- score: 0.8717052022455971[Parallel(n_jobs=1)]: Using backend SequentialBackend with 1 concurrent workers.\n",
      "[Parallel(n_jobs=1)]: Done   1 out of   1 | elapsed:    0.0s remaining:    0.0s\n",
      "[Parallel(n_jobs=1)]: Done  64 out of  64 | elapsed:    0.8s finished\n",
      "\n",
      "[2021-01-12 20:03:25] Features: 12/75 -- score: 0.8709432837638842[Parallel(n_jobs=1)]: Using backend SequentialBackend with 1 concurrent workers.\n",
      "[Parallel(n_jobs=1)]: Done   1 out of   1 | elapsed:    0.0s remaining:    0.0s\n",
      "[Parallel(n_jobs=1)]: Done  63 out of  63 | elapsed:    0.8s finished\n",
      "\n",
      "[2021-01-12 20:03:25] Features: 13/75 -- score: 0.8675678761436378[Parallel(n_jobs=1)]: Using backend SequentialBackend with 1 concurrent workers.\n",
      "[Parallel(n_jobs=1)]: Done   1 out of   1 | elapsed:    0.0s remaining:    0.0s\n",
      "[Parallel(n_jobs=1)]: Done  62 out of  62 | elapsed:    0.8s finished\n",
      "\n",
      "[2021-01-12 20:03:26] Features: 14/75 -- score: 0.8639590218177542[Parallel(n_jobs=1)]: Using backend SequentialBackend with 1 concurrent workers.\n",
      "[Parallel(n_jobs=1)]: Done   1 out of   1 | elapsed:    0.0s remaining:    0.0s\n",
      "[Parallel(n_jobs=1)]: Done  61 out of  61 | elapsed:    0.8s finished\n",
      "\n",
      "[2021-01-12 20:03:27] Features: 15/75 -- score: 0.860006635027156[Parallel(n_jobs=1)]: Using backend SequentialBackend with 1 concurrent workers.\n",
      "[Parallel(n_jobs=1)]: Done   1 out of   1 | elapsed:    0.0s remaining:    0.0s\n",
      "[Parallel(n_jobs=1)]: Done  60 out of  60 | elapsed:    0.8s finished\n",
      "\n",
      "[2021-01-12 20:03:28] Features: 16/75 -- score: 0.8580908554949672[Parallel(n_jobs=1)]: Using backend SequentialBackend with 1 concurrent workers.\n",
      "[Parallel(n_jobs=1)]: Done   1 out of   1 | elapsed:    0.0s remaining:    0.0s\n",
      "[Parallel(n_jobs=1)]: Done  59 out of  59 | elapsed:    0.8s finished\n",
      "\n",
      "[2021-01-12 20:03:29] Features: 17/75 -- score: 0.8569975974041812[Parallel(n_jobs=1)]: Using backend SequentialBackend with 1 concurrent workers.\n",
      "[Parallel(n_jobs=1)]: Done   1 out of   1 | elapsed:    0.0s remaining:    0.0s\n",
      "[Parallel(n_jobs=1)]: Done  58 out of  58 | elapsed:    0.9s finished\n",
      "\n",
      "[2021-01-12 20:03:29] Features: 18/75 -- score: 0.8570835270442464[Parallel(n_jobs=1)]: Using backend SequentialBackend with 1 concurrent workers.\n",
      "[Parallel(n_jobs=1)]: Done   1 out of   1 | elapsed:    0.0s remaining:    0.0s\n",
      "[Parallel(n_jobs=1)]: Done  57 out of  57 | elapsed:    0.8s finished\n",
      "\n",
      "[2021-01-12 20:03:30] Features: 19/75 -- score: 0.8567130104290869[Parallel(n_jobs=1)]: Using backend SequentialBackend with 1 concurrent workers.\n",
      "[Parallel(n_jobs=1)]: Done   1 out of   1 | elapsed:    0.0s remaining:    0.0s\n",
      "[Parallel(n_jobs=1)]: Done  56 out of  56 | elapsed:    0.8s finished\n",
      "\n",
      "[2021-01-12 20:03:31] Features: 20/75 -- score: 0.855841203246084[Parallel(n_jobs=1)]: Using backend SequentialBackend with 1 concurrent workers.\n",
      "[Parallel(n_jobs=1)]: Done   1 out of   1 | elapsed:    0.0s remaining:    0.0s\n",
      "[Parallel(n_jobs=1)]: Done  55 out of  55 | elapsed:    0.7s finished\n",
      "\n",
      "[2021-01-12 20:03:32] Features: 21/75 -- score: 0.8536130594744438[Parallel(n_jobs=1)]: Using backend SequentialBackend with 1 concurrent workers.\n",
      "[Parallel(n_jobs=1)]: Done   1 out of   1 | elapsed:    0.0s remaining:    0.0s\n",
      "[Parallel(n_jobs=1)]: Done  54 out of  54 | elapsed:    0.7s finished\n",
      "\n",
      "[2021-01-12 20:03:33] Features: 22/75 -- score: 0.8506956747051965[Parallel(n_jobs=1)]: Using backend SequentialBackend with 1 concurrent workers.\n",
      "[Parallel(n_jobs=1)]: Done   1 out of   1 | elapsed:    0.0s remaining:    0.0s\n",
      "[Parallel(n_jobs=1)]: Done  53 out of  53 | elapsed:    0.7s finished\n",
      "\n",
      "[2021-01-12 20:03:33] Features: 23/75 -- score: 0.8484227329652381[Parallel(n_jobs=1)]: Using backend SequentialBackend with 1 concurrent workers.\n",
      "[Parallel(n_jobs=1)]: Done   1 out of   1 | elapsed:    0.0s remaining:    0.0s\n",
      "[Parallel(n_jobs=1)]: Done  52 out of  52 | elapsed:    0.7s finished\n",
      "\n",
      "[2021-01-12 20:03:34] Features: 24/75 -- score: 0.8456227257356671[Parallel(n_jobs=1)]: Using backend SequentialBackend with 1 concurrent workers.\n",
      "[Parallel(n_jobs=1)]: Done   1 out of   1 | elapsed:    0.0s remaining:    0.0s\n",
      "[Parallel(n_jobs=1)]: Done  51 out of  51 | elapsed:    0.7s finished\n",
      "\n",
      "[2021-01-12 20:03:35] Features: 25/75 -- score: 0.8419849940008273[Parallel(n_jobs=1)]: Using backend SequentialBackend with 1 concurrent workers.\n",
      "[Parallel(n_jobs=1)]: Done   1 out of   1 | elapsed:    0.0s remaining:    0.0s\n",
      "[Parallel(n_jobs=1)]: Done  50 out of  50 | elapsed:    0.9s finished\n",
      "\n",
      "[2021-01-12 20:03:36] Features: 26/75 -- score: 0.8398494455398283[Parallel(n_jobs=1)]: Using backend SequentialBackend with 1 concurrent workers.\n",
      "[Parallel(n_jobs=1)]: Done   1 out of   1 | elapsed:    0.0s remaining:    0.0s\n",
      "[Parallel(n_jobs=1)]: Done  49 out of  49 | elapsed:    0.9s finished\n",
      "\n",
      "[2021-01-12 20:03:36] Features: 27/75 -- score: 0.8398494455315113[Parallel(n_jobs=1)]: Using backend SequentialBackend with 1 concurrent workers.\n",
      "[Parallel(n_jobs=1)]: Done   1 out of   1 | elapsed:    0.0s remaining:    0.0s\n",
      "[Parallel(n_jobs=1)]: Done  48 out of  48 | elapsed:    0.7s finished\n",
      "\n",
      "[2021-01-12 20:03:37] Features: 28/75 -- score: 0.8387890230188042[Parallel(n_jobs=1)]: Using backend SequentialBackend with 1 concurrent workers.\n",
      "[Parallel(n_jobs=1)]: Done   1 out of   1 | elapsed:    0.0s remaining:    0.0s\n",
      "[Parallel(n_jobs=1)]: Done  47 out of  47 | elapsed:    0.7s finished\n",
      "\n",
      "[2021-01-12 20:03:38] Features: 29/75 -- score: 0.8369783529331223[Parallel(n_jobs=1)]: Using backend SequentialBackend with 1 concurrent workers.\n",
      "[Parallel(n_jobs=1)]: Done   1 out of   1 | elapsed:    0.0s remaining:    0.0s\n",
      "[Parallel(n_jobs=1)]: Done  46 out of  46 | elapsed:    0.7s finished\n",
      "\n",
      "[2021-01-12 20:03:39] Features: 30/75 -- score: 0.8364109922374279[Parallel(n_jobs=1)]: Using backend SequentialBackend with 1 concurrent workers.\n",
      "[Parallel(n_jobs=1)]: Done   1 out of   1 | elapsed:    0.0s remaining:    0.0s\n",
      "[Parallel(n_jobs=1)]: Done  45 out of  45 | elapsed:    0.7s finished\n",
      "\n",
      "[2021-01-12 20:03:39] Features: 31/75 -- score: 0.8354473364476355[Parallel(n_jobs=1)]: Using backend SequentialBackend with 1 concurrent workers.\n",
      "[Parallel(n_jobs=1)]: Done   1 out of   1 | elapsed:    0.0s remaining:    0.0s\n",
      "[Parallel(n_jobs=1)]: Done  44 out of  44 | elapsed:    0.7s finished\n",
      "\n",
      "[2021-01-12 20:03:40] Features: 32/75 -- score: 0.8341306619969173[Parallel(n_jobs=1)]: Using backend SequentialBackend with 1 concurrent workers.\n",
      "[Parallel(n_jobs=1)]: Done   1 out of   1 | elapsed:    0.0s remaining:    0.0s\n",
      "[Parallel(n_jobs=1)]: Done  43 out of  43 | elapsed:    0.7s finished\n",
      "\n",
      "[2021-01-12 20:03:41] Features: 33/75 -- score: 0.8338846257407229[Parallel(n_jobs=1)]: Using backend SequentialBackend with 1 concurrent workers.\n",
      "[Parallel(n_jobs=1)]: Done   1 out of   1 | elapsed:    0.0s remaining:    0.0s\n",
      "[Parallel(n_jobs=1)]: Done  42 out of  42 | elapsed:    0.7s finished\n",
      "\n",
      "[2021-01-12 20:03:41] Features: 34/75 -- score: 0.8332342517941608[Parallel(n_jobs=1)]: Using backend SequentialBackend with 1 concurrent workers.\n",
      "[Parallel(n_jobs=1)]: Done   1 out of   1 | elapsed:    0.0s remaining:    0.0s\n",
      "[Parallel(n_jobs=1)]: Done  41 out of  41 | elapsed:    0.6s finished\n",
      "\n",
      "[2021-01-12 20:03:42] Features: 35/75 -- score: 0.8324893723629596[Parallel(n_jobs=1)]: Using backend SequentialBackend with 1 concurrent workers.\n",
      "[Parallel(n_jobs=1)]: Done   1 out of   1 | elapsed:    0.0s remaining:    0.0s\n",
      "[Parallel(n_jobs=1)]: Done  40 out of  40 | elapsed:    0.6s finished\n",
      "\n",
      "[2021-01-12 20:03:43] Features: 36/75 -- score: 0.8314799722386849[Parallel(n_jobs=1)]: Using backend SequentialBackend with 1 concurrent workers.\n",
      "[Parallel(n_jobs=1)]: Done   1 out of   1 | elapsed:    0.0s remaining:    0.0s\n",
      "[Parallel(n_jobs=1)]: Done  39 out of  39 | elapsed:    0.6s finished\n",
      "\n",
      "[2021-01-12 20:03:43] Features: 37/75 -- score: 0.8303082768200436[Parallel(n_jobs=1)]: Using backend SequentialBackend with 1 concurrent workers.\n",
      "[Parallel(n_jobs=1)]: Done   1 out of   1 | elapsed:    0.0s remaining:    0.0s\n",
      "\n",
      "STOPPING EARLY DUE TO KEYBOARD INTERRUPT..."
     ]
    },
    {
     "output_type": "execute_result",
     "data": {
      "text/plain": [
       "SequentialFeatureSelector(cv=[(array([ 791, 1338,  130, ..., 1192,  437,   55]),\n",
       "                               array([ 367,  835, 1187, 1501,  117,  493, 1445, 1155, 1271,  783,  918,\n",
       "        754,  857, 1183,   60,  660,  542, 1416,  538,  170,  491,  275,\n",
       "       1409,  920,  458,  825, 1209, 1509,  985,  765,  276, 1324,  386,\n",
       "        826, 1318,  140,  400,  629, 1382,  464,   93,  576,  567, 1254,\n",
       "        643,  858, 1440,  694,  453,  526, 1418, 1283,  593,  133, 1284,\n",
       "       1469,  608, 1189, 1447, 1107, 1404,  886,  592,   4...\n",
       "       1112,  539, 1178,  974,   52,  461, 1050, 1392,  337,  296,  953,\n",
       "        456,  800, 1372,  433,  177,  153,  789, 1211, 1023, 1130,  958,\n",
       "       1145, 1355,  873,  552,  176,  414, 1021,  164, 1436,  804,  180,\n",
       "        332, 1380, 1207,  208,    5, 1124,  992,  699, 1082,  396,  910,\n",
       "       1306,  769,  399,  116,  994,  560, 1255,  844, 1233, 1238,  283,\n",
       "          6,  266,   61, 1017,  532,  940, 1122,  661,  697]))],\n",
       "                          estimator=ModifiedLinearRegression(), k_features=75,\n",
       "                          scoring='r2', verbose=2)"
      ]
     },
     "metadata": {},
     "execution_count": 19
    }
   ],
   "source": [
    "sfs.fit(X_picks, y)"
   ]
  },
  {
   "cell_type": "code",
   "execution_count": null,
   "metadata": {},
   "outputs": [],
   "source": [
    "k = 1"
   ]
  },
  {
   "source": [
    "[picks[idx] for idx in sfs.k_feature_idx_][:1]"
   ],
   "cell_type": "code",
   "metadata": {},
   "execution_count": null,
   "outputs": []
  },
  {
   "source": [
    "picks = ['tf_summed_bpe_head']\n",
    "\n",
    "col_idx = np.array([single_train_feature_name_2_idx[pick] for pick in picks])"
   ],
   "cell_type": "markdown",
   "metadata": {}
  },
  {
   "cell_type": "code",
   "execution_count": null,
   "metadata": {},
   "outputs": [],
   "source": []
  }
 ]
}