{
 "metadata": {
  "language_info": {
   "codemirror_mode": {
    "name": "ipython",
    "version": 3
   },
   "file_extension": ".py",
   "mimetype": "text/x-python",
   "name": "python",
   "nbconvert_exporter": "python",
   "pygments_lexer": "ipython3",
   "version": "3.6.8-final"
  },
  "orig_nbformat": 2,
  "kernelspec": {
   "name": "python36864bitvenv3629473cfa3d5f438ab84660e2a004d579",
   "display_name": "Python 3.6.8 64-bit ('venv3.6')",
   "language": "python"
  }
 },
 "nbformat": 4,
 "nbformat_minor": 2,
 "cells": [
  {
   "source": [
    "Imports"
   ],
   "cell_type": "markdown",
   "metadata": {}
  },
  {
   "cell_type": "code",
   "execution_count": 2,
   "metadata": {},
   "outputs": [
    {
     "output_type": "stream",
     "name": "stderr",
     "text": [
      "[nltk_data] Downloading package wordnet to /dartfs-\n[nltk_data]     hpc/rc/home/c/f0035qc/nltk_data...\n[nltk_data]   Package wordnet is already up-to-date!\n[nltk_data] Downloading package punkt to /dartfs-\n[nltk_data]     hpc/rc/home/c/f0035qc/nltk_data...\n[nltk_data]   Package punkt is already up-to-date!\n[nltk_data] Downloading package cmudict to /dartfs-\n[nltk_data]     hpc/rc/home/c/f0035qc/nltk_data...\n[nltk_data]   Package cmudict is already up-to-date!\n"
     ]
    }
   ],
   "source": [
    "import numpy as np\n",
    "import pandas as pd\n",
    "pd.set_option('display.max_rows', 60)\n",
    "from sklearn.linear_model import LinearRegression, Lasso, Ridge, ElasticNet\n",
    "from sklearn.metrics import mean_absolute_error, make_scorer\n",
    "from sklearn.metrics.pairwise import cosine_similarity\n",
    "from sklearn.model_selection import train_test_split, cross_validate, StratifiedShuffleSplit\n",
    "from sklearn.metrics import ndcg_score, make_scorer, mean_squared_error\n",
    "from sklearn.preprocessing import StandardScaler, LabelEncoder, KBinsDiscretizer\n",
    "from sklearn.preprocessing import PowerTransformer, QuantileTransformer, PolynomialFeatures\n",
    "from sklearn.feature_extraction.text import TfidfVectorizer, CountVectorizer\n",
    "from sklearn.feature_selection import SelectKBest, mutual_info_regression, VarianceThreshold\n",
    "from sklearn.feature_selection import f_regression, SelectFromModel, RFECV\n",
    "from sklearn.decomposition import PCA\n",
    "from sklearn.utils.class_weight import compute_class_weight, compute_sample_weight\n",
    "from sklearn.compose import TransformedTargetRegressor\n",
    "from sklearn.neighbors import KNeighborsRegressor\n",
    "from sklearn.tree import DecisionTreeRegressor\n",
    "from sklearn.ensemble import RandomForestRegressor\n",
    "import nltk\n",
    "from nltk.corpus import wordnet as wn\n",
    "from nltk.stem import PorterStemmer, WordNetLemmatizer\n",
    "from nltk.tokenize import word_tokenize, sent_tokenize\n",
    "from nltk import pos_tag\n",
    "from nltk.wsd import lesk\n",
    "import csv\n",
    "import matplotlib.pyplot as plt\n",
    "from tqdm import tqdm\n",
    "from itertools import combinations\n",
    "import pickle5 as pkl\n",
    "import json\n",
    "import matplotlib.pyplot as plt\n",
    "import os\n",
    "import ast\n",
    "import inspect\n",
    "from utils import *\n",
    "import re\n",
    "from scipy.stats import rankdata, pearsonr, spearmanr, stats\n",
    "from imblearn.over_sampling import SMOTE\n",
    "import smogn\n",
    "import seaborn as sns\n",
    "from statsmodels.stats.outliers_influence import variance_inflation_factor\n",
    "from statsmodels.distributions.empirical_distribution import ECDF\n",
    "from collections import Counter\n",
    "import random\n",
    "from scipy import stats\n",
    "from functools import partial\n",
    "import statsmodels.api as sm\n",
    "import math\n",
    "from mlxtend.feature_selection import SequentialFeatureSelector"
   ]
  },
  {
   "source": [
    "# Incoming from macbook"
   ],
   "cell_type": "markdown",
   "metadata": {}
  },
  {
   "cell_type": "code",
   "execution_count": 3,
   "metadata": {},
   "outputs": [],
   "source": [
    "job = 'pickle'\n",
    "path = './data/'+job\n",
    "if not os.path.isdir(path): os.mkdir(path)\n",
    "if not os.path.isdir(path+'/macbook/'): os.mkdir(path+'/macbook/')\n",
    "if not os.path.isdir(path+'/colab/'): os.mkdir(path+'/colab/')"
   ]
  },
  {
   "source": [
    "# Feature selection"
   ],
   "cell_type": "markdown",
   "metadata": {}
  },
  {
   "cell_type": "code",
   "execution_count": 4,
   "metadata": {},
   "outputs": [],
   "source": [
    "single_train = pd.read_csv('./data/'+job+'/single_train_j.tsv', sep='\\t', index_col=0)\n",
    "X = load_features_stacked(job, 'single_train')\n",
    "y = single_train['complexity'].to_numpy()\n",
    "single_trial = pd.read_csv('./data/'+job+'/single_trial_j.tsv', sep='\\t', index_col=0)\n",
    "X_trial = load_features_stacked(job, 'single_trial')\n",
    "y_trial = single_trial['complexity'].to_numpy()"
   ]
  },
  {
   "cell_type": "code",
   "execution_count": 5,
   "metadata": {},
   "outputs": [],
   "source": [
    "single_train_feature_name_2_idx = load_feature_name_2_idx(job, 'single_train')\n",
    "single_train_feature_idx_2_name = {value:key for key, value in single_train_feature_name_2_idx.items()}\n",
    "single_trial_feature_name_2_idx = load_feature_name_2_idx(job, 'single_trial')\n",
    "single_trial_feature_idx_2_name = {value:key for key, value in single_trial_feature_name_2_idx.items()}\n",
    "feature_names, mi = get_sorted_mi('./data/'+job+'/single_train_mi.txt')"
   ]
  },
  {
   "cell_type": "code",
   "execution_count": 20,
   "metadata": {},
   "outputs": [],
   "source": [
    "picks = feature_names[:300]"
   ]
  },
  {
   "cell_type": "code",
   "execution_count": 21,
   "metadata": {},
   "outputs": [
    {
     "output_type": "stream",
     "name": "stdout",
     "text": [
      "0.06655252319323869 0.0008206581565065058\n0.7682937260003163 0.004767369770782178\n0.7297536248322112 0.009806943302146374\nCPU times: user 12.7 s, sys: 28.7 s, total: 41.5 s\nWall time: 1.4 s\n"
     ]
    }
   ],
   "source": [
    "%%time\n",
    "n_splits = 5\n",
    "test_size = 0.1\n",
    "scoring = {'MAE':make_scorer(MAE), 'pearson':make_scorer(pearson), 'spearman':make_scorer(spearman)}\n",
    "col_idx = np.array([single_train_feature_name_2_idx[pick] for pick in picks])\n",
    "X_picks= X[:, col_idx]\n",
    "custom_cv = custom_cv_folds(single_train, n_splits=n_splits, test_size=test_size)\n",
    "model = LinearRegression()\n",
    "scores = cross_validate(model, X_picks.astype(float), y, cv=custom_cv, scoring=scoring)\n",
    "print(np.mean(scores['test_MAE']), np.std(scores['test_MAE']))\n",
    "print(np.mean(scores['test_pearson']), np.std(scores['test_pearson']))\n",
    "print(np.mean(scores['test_spearman']), np.std(scores['test_spearman']))"
   ]
  },
  {
   "cell_type": "code",
   "execution_count": 22,
   "metadata": {},
   "outputs": [
    {
     "output_type": "execute_result",
     "data": {
      "text/plain": [
       "(0.0668999478601135, 0.7897307902182219, 0.7199745353393938)"
      ]
     },
     "metadata": {},
     "execution_count": 22
    }
   ],
   "source": [
    "model = model.fit(X_picks, y)\n",
    "col_trial_idx = np.array([single_trial_feature_name_2_idx[pick] for pick in picks])\n",
    "X_trial_picks = X_trial[:, col_trial_idx]\n",
    "y_trial_pred = model.predict(X_trial_picks)\n",
    "MAE(y_trial_pred, y_trial), pearson(y_trial_pred, y_trial), spearman(y_trial_pred, y_trial)"
   ]
  },
  {
   "cell_type": "code",
   "execution_count": null,
   "metadata": {},
   "outputs": [],
   "source": [
    "test_MAEs, test_pearsons, test_spearmans = [], [], []"
   ]
  },
  {
   "cell_type": "code",
   "execution_count": null,
   "metadata": {},
   "outputs": [],
   "source": [
    "n_splits = 5\n",
    "test_size = 0.1\n",
    "for i in tqdm(range(401, 500+1)):\n",
    "    picks = feature_names[:i]\n",
    "    col_idx = np.array([single_train_feature_name_2_idx[pick] for pick in picks])\n",
    "    X_picks= X[:, col_idx]\n",
    "    custom_cv = custom_cv_folds(single_train, n_splits=n_splits, test_size=test_size)\n",
    "    model = LinearRegression()\n",
    "    scores = cross_validate(model, X_picks, y, cv=custom_cv, scoring=scoring)\n",
    "    test_MAEs.append(np.mean(scores['test_MAE']))\n",
    "    test_pearsons.append(np.mean(scores['test_pearson']))\n",
    "    test_spearmans.append(np.mean(scores['test_spearman']))"
   ]
  },
  {
   "cell_type": "code",
   "execution_count": null,
   "metadata": {},
   "outputs": [],
   "source": [
    "plt.scatter(range(1, 500), test_pearsons[1:]); plt.plot(range(1, 500), test_pearsons[1:]);"
   ]
  },
  {
   "cell_type": "code",
   "execution_count": null,
   "metadata": {},
   "outputs": [],
   "source": [
    "best_picks = []\n",
    "best_pearson = 0\n",
    "for pick in tqdm(feature_names):\n",
    "    #if pick.startswith(('glove_word', 'glove_context', 'infersent_embeddings', 'elmo_word')):\n",
    "    #    continue\n",
    "    if pick.startswith(('glove_context', 'infersent_embeddings')):\n",
    "        continue\n",
    "    best_picks.append(pick)\n",
    "    col_idx = np.array([single_train_feature_name_2_idx[pick] for pick in best_picks])\n",
    "    X_picks= X[:, col_idx]\n",
    "    custom_cv = custom_cv_folds(single_train, n_splits=n_splits, test_size=test_size)\n",
    "    model = LinearRegression()\n",
    "    scores = cross_validate(model, X_picks, y, cv=custom_cv, scoring=scoring)\n",
    "    t, p = stats.ttest_1samp(scores['test_pearson'], best_pearson)\n",
    "    #t > 0, p/2 > 0.05 : inconclusive, #t > 0, p/2 < 0.05 : new best pearson\n",
    "    #t < 0, p/2 > 0.05 : inconclusive, #t < 0, p/2 < 0.05 : remove\n",
    "    if t > 0 and p/2 < 0.05:\n",
    "        best_pearson = np.mean(scores['test_pearson'])\n",
    "    elif t < 0 and p/2 < 0.05:\n",
    "        del best_picks[-1]\n",
    "    '''\n",
    "    #t > 0, p/2 > 0.05 : remove, #t > 0, p/2 < 0.05 : add, new best pearson \n",
    "    #t < 0, p/2 > 0.05 : remove, #t < 0, p/2 < 0.05 : remove\n",
    "    if t > 0 and p/2 < 0.05:\n",
    "        best_pearson = np.mean(scores['test_pearson'])\n",
    "    else:\n",
    "        del best_picks[-1]\n",
    "    '''"
   ]
  },
  {
   "source": [
    "# Playground"
   ],
   "cell_type": "markdown",
   "metadata": {}
  },
  {
   "cell_type": "code",
   "execution_count": 5,
   "metadata": {},
   "outputs": [],
   "source": [
    "#single_train_mini_idx, single_dev_mini_idx = next(custom_cv_folds(single_train, n_splits=1, test_size=0.1))\n",
    "single_train_mini_idx, single_dev_mini_idx = np.load('./data/'+job+'/single_train_mini_idx.npy'), np.load('./data/'+job+'/single_dev_mini_idx.npy')\n",
    "single_train_mini = single_train.iloc[single_train_mini_idx]\n",
    "single_dev_mini = single_train.iloc[single_dev_mini_idx]\n",
    "#np.save('./data/pickle/single_train_mini_idx', single_train_mini_idx)\n",
    "#np.save('./data/pickle/single_dev_mini_idx', single_dev_mini_idx)\n",
    "#preprocess_for_bert(single_train_mini, './data/'+job+'/colab/single_train_bert.tsv', do_round=False)\n",
    "#preprocess_for_bert(single_dev_mini, './data/'+job+'/colab/single_dev_bert.tsv', do_round=False)"
   ]
  },
  {
   "cell_type": "code",
   "execution_count": 6,
   "metadata": {},
   "outputs": [],
   "source": [
    "X_train_mini = X[single_train_mini_idx, :]\n",
    "X_dev_mini = X[single_dev_mini_idx, :]\n",
    "y_train_mini = y[np.array(single_train_mini_idx)]\n",
    "y_dev_mini = y[np.array(single_dev_mini_idx)]"
   ]
  },
  {
   "source": [
    "## Filter method: K-best by pearson\n",
    "Assumptions of pearson:\n",
    "- Both variables should be normally distributed.\n",
    "- A straight-line relationship between the two variables.\n",
    "- Data is equally distributed around the regression line."
   ],
   "cell_type": "markdown",
   "metadata": {}
  },
  {
   "cell_type": "code",
   "execution_count": 7,
   "metadata": {},
   "outputs": [],
   "source": [
    "k_lst, pearson_lst = [], []"
   ]
  },
  {
   "source": [
    "for k in tqdm(range(1,300+1)):\n",
    "    k_lst.append(k)\n",
    "    skb = SelectKBest(score_func=f_regression, k=k)\n",
    "    skb.fit(X_train_mini, y_train_mini)\n",
    "    col_idx = skb.get_support(indices=True)\n",
    "    X_train_mini_picks = X_train_mini[:, col_idx]\n",
    "    X_dev_mini_picks = X_dev_mini[:, col_idx]\n",
    "    picks = [single_train_feature_idx_2_name[support] for support in col_idx]\n",
    "    model = LinearRegression()\n",
    "    model = model.fit(X_train_mini_picks, y_train_mini)\n",
    "    y_dev_mini_pred = model.predict(X_dev_mini_picks)\n",
    "    pearson_lst.append(pearson(y_dev_mini_pred, y_dev_mini))"
   ],
   "cell_type": "code",
   "metadata": {},
   "execution_count": null,
   "outputs": []
  },
  {
   "cell_type": "code",
   "execution_count": 10,
   "metadata": {},
   "outputs": [
    {
     "output_type": "execute_result",
     "data": {
      "text/plain": [
       "Text(0, 0.5, 'pearson')"
      ]
     },
     "metadata": {},
     "execution_count": 10
    },
    {
     "output_type": "display_data",
     "data": {
      "text/plain": "<Figure size 432x288 with 1 Axes>",
      "image/svg+xml": "<?xml version=\"1.0\" encoding=\"utf-8\" standalone=\"no\"?>\n<!DOCTYPE svg PUBLIC \"-//W3C//DTD SVG 1.1//EN\"\n  \"http://www.w3.org/Graphics/SVG/1.1/DTD/svg11.dtd\">\n<!-- Created with matplotlib (https://matplotlib.org/) -->\n<svg height=\"277.314375pt\" version=\"1.1\" viewBox=\"0 0 392.14375 277.314375\" width=\"392.14375pt\" xmlns=\"http://www.w3.org/2000/svg\" xmlns:xlink=\"http://www.w3.org/1999/xlink\">\n <metadata>\n  <rdf:RDF xmlns:cc=\"http://creativecommons.org/ns#\" xmlns:dc=\"http://purl.org/dc/elements/1.1/\" xmlns:rdf=\"http://www.w3.org/1999/02/22-rdf-syntax-ns#\">\n   <cc:Work>\n    <dc:type rdf:resource=\"http://purl.org/dc/dcmitype/StillImage\"/>\n    <dc:date>2021-01-17T02:07:48.185525</dc:date>\n    <dc:format>image/svg+xml</dc:format>\n    <dc:creator>\n     <cc:Agent>\n      <dc:title>Matplotlib v3.3.3, https://matplotlib.org/</dc:title>\n     </cc:Agent>\n    </dc:creator>\n   </cc:Work>\n  </rdf:RDF>\n </metadata>\n <defs>\n  <style type=\"text/css\">*{stroke-linecap:butt;stroke-linejoin:round;}</style>\n </defs>\n <g id=\"figure_1\">\n  <g id=\"patch_1\">\n   <path d=\"M 0 277.314375 \nL 392.14375 277.314375 \nL 392.14375 0 \nL 0 0 \nz\n\" style=\"fill:none;\"/>\n  </g>\n  <g id=\"axes_1\">\n   <g id=\"patch_2\">\n    <path d=\"M 50.14375 239.758125 \nL 384.94375 239.758125 \nL 384.94375 22.318125 \nL 50.14375 22.318125 \nz\n\" style=\"fill:#ffffff;\"/>\n   </g>\n   <g id=\"matplotlib.axis_1\">\n    <g id=\"xtick_1\">\n     <g id=\"line2d_1\">\n      <defs>\n       <path d=\"M 0 0 \nL 0 3.5 \n\" id=\"md2124484be\" style=\"stroke:#000000;stroke-width:0.8;\"/>\n      </defs>\n      <g>\n       <use style=\"stroke:#000000;stroke-width:0.8;\" x=\"64.343993\" xlink:href=\"#md2124484be\" y=\"239.758125\"/>\n      </g>\n     </g>\n     <g id=\"text_1\">\n      <!-- 0 -->\n      <g transform=\"translate(61.162743 254.356562)scale(0.1 -0.1)\">\n       <defs>\n        <path d=\"M 31.78125 66.40625 \nQ 24.171875 66.40625 20.328125 58.90625 \nQ 16.5 51.421875 16.5 36.375 \nQ 16.5 21.390625 20.328125 13.890625 \nQ 24.171875 6.390625 31.78125 6.390625 \nQ 39.453125 6.390625 43.28125 13.890625 \nQ 47.125 21.390625 47.125 36.375 \nQ 47.125 51.421875 43.28125 58.90625 \nQ 39.453125 66.40625 31.78125 66.40625 \nz\nM 31.78125 74.21875 \nQ 44.046875 74.21875 50.515625 64.515625 \nQ 56.984375 54.828125 56.984375 36.375 \nQ 56.984375 17.96875 50.515625 8.265625 \nQ 44.046875 -1.421875 31.78125 -1.421875 \nQ 19.53125 -1.421875 13.0625 8.265625 \nQ 6.59375 17.96875 6.59375 36.375 \nQ 6.59375 54.828125 13.0625 64.515625 \nQ 19.53125 74.21875 31.78125 74.21875 \nz\n\" id=\"DejaVuSans-48\"/>\n       </defs>\n       <use xlink:href=\"#DejaVuSans-48\"/>\n      </g>\n     </g>\n    </g>\n    <g id=\"xtick_2\">\n     <g id=\"line2d_2\">\n      <g>\n       <use style=\"stroke:#000000;stroke-width:0.8;\" x=\"115.240922\" xlink:href=\"#md2124484be\" y=\"239.758125\"/>\n      </g>\n     </g>\n     <g id=\"text_2\">\n      <!-- 50 -->\n      <g transform=\"translate(108.878422 254.356562)scale(0.1 -0.1)\">\n       <defs>\n        <path d=\"M 10.796875 72.90625 \nL 49.515625 72.90625 \nL 49.515625 64.59375 \nL 19.828125 64.59375 \nL 19.828125 46.734375 \nQ 21.96875 47.46875 24.109375 47.828125 \nQ 26.265625 48.1875 28.421875 48.1875 \nQ 40.625 48.1875 47.75 41.5 \nQ 54.890625 34.8125 54.890625 23.390625 \nQ 54.890625 11.625 47.5625 5.09375 \nQ 40.234375 -1.421875 26.90625 -1.421875 \nQ 22.3125 -1.421875 17.546875 -0.640625 \nQ 12.796875 0.140625 7.71875 1.703125 \nL 7.71875 11.625 \nQ 12.109375 9.234375 16.796875 8.0625 \nQ 21.484375 6.890625 26.703125 6.890625 \nQ 35.15625 6.890625 40.078125 11.328125 \nQ 45.015625 15.765625 45.015625 23.390625 \nQ 45.015625 31 40.078125 35.4375 \nQ 35.15625 39.890625 26.703125 39.890625 \nQ 22.75 39.890625 18.8125 39.015625 \nQ 14.890625 38.140625 10.796875 36.28125 \nz\n\" id=\"DejaVuSans-53\"/>\n       </defs>\n       <use xlink:href=\"#DejaVuSans-53\"/>\n       <use x=\"63.623047\" xlink:href=\"#DejaVuSans-48\"/>\n      </g>\n     </g>\n    </g>\n    <g id=\"xtick_3\">\n     <g id=\"line2d_3\">\n      <g>\n       <use style=\"stroke:#000000;stroke-width:0.8;\" x=\"166.137852\" xlink:href=\"#md2124484be\" y=\"239.758125\"/>\n      </g>\n     </g>\n     <g id=\"text_3\">\n      <!-- 100 -->\n      <g transform=\"translate(156.594102 254.356562)scale(0.1 -0.1)\">\n       <defs>\n        <path d=\"M 12.40625 8.296875 \nL 28.515625 8.296875 \nL 28.515625 63.921875 \nL 10.984375 60.40625 \nL 10.984375 69.390625 \nL 28.421875 72.90625 \nL 38.28125 72.90625 \nL 38.28125 8.296875 \nL 54.390625 8.296875 \nL 54.390625 0 \nL 12.40625 0 \nz\n\" id=\"DejaVuSans-49\"/>\n       </defs>\n       <use xlink:href=\"#DejaVuSans-49\"/>\n       <use x=\"63.623047\" xlink:href=\"#DejaVuSans-48\"/>\n       <use x=\"127.246094\" xlink:href=\"#DejaVuSans-48\"/>\n      </g>\n     </g>\n    </g>\n    <g id=\"xtick_4\">\n     <g id=\"line2d_4\">\n      <g>\n       <use style=\"stroke:#000000;stroke-width:0.8;\" x=\"217.034781\" xlink:href=\"#md2124484be\" y=\"239.758125\"/>\n      </g>\n     </g>\n     <g id=\"text_4\">\n      <!-- 150 -->\n      <g transform=\"translate(207.491031 254.356562)scale(0.1 -0.1)\">\n       <use xlink:href=\"#DejaVuSans-49\"/>\n       <use x=\"63.623047\" xlink:href=\"#DejaVuSans-53\"/>\n       <use x=\"127.246094\" xlink:href=\"#DejaVuSans-48\"/>\n      </g>\n     </g>\n    </g>\n    <g id=\"xtick_5\">\n     <g id=\"line2d_5\">\n      <g>\n       <use style=\"stroke:#000000;stroke-width:0.8;\" x=\"267.93171\" xlink:href=\"#md2124484be\" y=\"239.758125\"/>\n      </g>\n     </g>\n     <g id=\"text_5\">\n      <!-- 200 -->\n      <g transform=\"translate(258.38796 254.356562)scale(0.1 -0.1)\">\n       <defs>\n        <path d=\"M 19.1875 8.296875 \nL 53.609375 8.296875 \nL 53.609375 0 \nL 7.328125 0 \nL 7.328125 8.296875 \nQ 12.9375 14.109375 22.625 23.890625 \nQ 32.328125 33.6875 34.8125 36.53125 \nQ 39.546875 41.84375 41.421875 45.53125 \nQ 43.3125 49.21875 43.3125 52.78125 \nQ 43.3125 58.59375 39.234375 62.25 \nQ 35.15625 65.921875 28.609375 65.921875 \nQ 23.96875 65.921875 18.8125 64.3125 \nQ 13.671875 62.703125 7.8125 59.421875 \nL 7.8125 69.390625 \nQ 13.765625 71.78125 18.9375 73 \nQ 24.125 74.21875 28.421875 74.21875 \nQ 39.75 74.21875 46.484375 68.546875 \nQ 53.21875 62.890625 53.21875 53.421875 \nQ 53.21875 48.921875 51.53125 44.890625 \nQ 49.859375 40.875 45.40625 35.40625 \nQ 44.1875 33.984375 37.640625 27.21875 \nQ 31.109375 20.453125 19.1875 8.296875 \nz\n\" id=\"DejaVuSans-50\"/>\n       </defs>\n       <use xlink:href=\"#DejaVuSans-50\"/>\n       <use x=\"63.623047\" xlink:href=\"#DejaVuSans-48\"/>\n       <use x=\"127.246094\" xlink:href=\"#DejaVuSans-48\"/>\n      </g>\n     </g>\n    </g>\n    <g id=\"xtick_6\">\n     <g id=\"line2d_6\">\n      <g>\n       <use style=\"stroke:#000000;stroke-width:0.8;\" x=\"318.828639\" xlink:href=\"#md2124484be\" y=\"239.758125\"/>\n      </g>\n     </g>\n     <g id=\"text_6\">\n      <!-- 250 -->\n      <g transform=\"translate(309.284889 254.356562)scale(0.1 -0.1)\">\n       <use xlink:href=\"#DejaVuSans-50\"/>\n       <use x=\"63.623047\" xlink:href=\"#DejaVuSans-53\"/>\n       <use x=\"127.246094\" xlink:href=\"#DejaVuSans-48\"/>\n      </g>\n     </g>\n    </g>\n    <g id=\"xtick_7\">\n     <g id=\"line2d_7\">\n      <g>\n       <use style=\"stroke:#000000;stroke-width:0.8;\" x=\"369.725568\" xlink:href=\"#md2124484be\" y=\"239.758125\"/>\n      </g>\n     </g>\n     <g id=\"text_7\">\n      <!-- 300 -->\n      <g transform=\"translate(360.181818 254.356562)scale(0.1 -0.1)\">\n       <defs>\n        <path d=\"M 40.578125 39.3125 \nQ 47.65625 37.796875 51.625 33 \nQ 55.609375 28.21875 55.609375 21.1875 \nQ 55.609375 10.40625 48.1875 4.484375 \nQ 40.765625 -1.421875 27.09375 -1.421875 \nQ 22.515625 -1.421875 17.65625 -0.515625 \nQ 12.796875 0.390625 7.625 2.203125 \nL 7.625 11.71875 \nQ 11.71875 9.328125 16.59375 8.109375 \nQ 21.484375 6.890625 26.8125 6.890625 \nQ 36.078125 6.890625 40.9375 10.546875 \nQ 45.796875 14.203125 45.796875 21.1875 \nQ 45.796875 27.640625 41.28125 31.265625 \nQ 36.765625 34.90625 28.71875 34.90625 \nL 20.21875 34.90625 \nL 20.21875 43.015625 \nL 29.109375 43.015625 \nQ 36.375 43.015625 40.234375 45.921875 \nQ 44.09375 48.828125 44.09375 54.296875 \nQ 44.09375 59.90625 40.109375 62.90625 \nQ 36.140625 65.921875 28.71875 65.921875 \nQ 24.65625 65.921875 20.015625 65.03125 \nQ 15.375 64.15625 9.8125 62.3125 \nL 9.8125 71.09375 \nQ 15.4375 72.65625 20.34375 73.4375 \nQ 25.25 74.21875 29.59375 74.21875 \nQ 40.828125 74.21875 47.359375 69.109375 \nQ 53.90625 64.015625 53.90625 55.328125 \nQ 53.90625 49.265625 50.4375 45.09375 \nQ 46.96875 40.921875 40.578125 39.3125 \nz\n\" id=\"DejaVuSans-51\"/>\n       </defs>\n       <use xlink:href=\"#DejaVuSans-51\"/>\n       <use x=\"63.623047\" xlink:href=\"#DejaVuSans-48\"/>\n       <use x=\"127.246094\" xlink:href=\"#DejaVuSans-48\"/>\n      </g>\n     </g>\n    </g>\n    <g id=\"text_8\">\n     <!-- k -->\n     <g transform=\"translate(214.648438 268.034687)scale(0.1 -0.1)\">\n      <defs>\n       <path d=\"M 9.078125 75.984375 \nL 18.109375 75.984375 \nL 18.109375 31.109375 \nL 44.921875 54.6875 \nL 56.390625 54.6875 \nL 27.390625 29.109375 \nL 57.625 0 \nL 45.90625 0 \nL 18.109375 26.703125 \nL 18.109375 0 \nL 9.078125 0 \nz\n\" id=\"DejaVuSans-107\"/>\n      </defs>\n      <use xlink:href=\"#DejaVuSans-107\"/>\n     </g>\n    </g>\n   </g>\n   <g id=\"matplotlib.axis_2\">\n    <g id=\"ytick_1\">\n     <g id=\"line2d_8\">\n      <defs>\n       <path d=\"M 0 0 \nL -3.5 0 \n\" id=\"m2d2eba95d0\" style=\"stroke:#000000;stroke-width:0.8;\"/>\n      </defs>\n      <g>\n       <use style=\"stroke:#000000;stroke-width:0.8;\" x=\"50.14375\" xlink:href=\"#m2d2eba95d0\" y=\"217.346883\"/>\n      </g>\n     </g>\n     <g id=\"text_9\">\n      <!-- 0.66 -->\n      <g transform=\"translate(20.878125 221.146102)scale(0.1 -0.1)\">\n       <defs>\n        <path d=\"M 10.6875 12.40625 \nL 21 12.40625 \nL 21 0 \nL 10.6875 0 \nz\n\" id=\"DejaVuSans-46\"/>\n        <path d=\"M 33.015625 40.375 \nQ 26.375 40.375 22.484375 35.828125 \nQ 18.609375 31.296875 18.609375 23.390625 \nQ 18.609375 15.53125 22.484375 10.953125 \nQ 26.375 6.390625 33.015625 6.390625 \nQ 39.65625 6.390625 43.53125 10.953125 \nQ 47.40625 15.53125 47.40625 23.390625 \nQ 47.40625 31.296875 43.53125 35.828125 \nQ 39.65625 40.375 33.015625 40.375 \nz\nM 52.59375 71.296875 \nL 52.59375 62.3125 \nQ 48.875 64.0625 45.09375 64.984375 \nQ 41.3125 65.921875 37.59375 65.921875 \nQ 27.828125 65.921875 22.671875 59.328125 \nQ 17.53125 52.734375 16.796875 39.40625 \nQ 19.671875 43.65625 24.015625 45.921875 \nQ 28.375 48.1875 33.59375 48.1875 \nQ 44.578125 48.1875 50.953125 41.515625 \nQ 57.328125 34.859375 57.328125 23.390625 \nQ 57.328125 12.15625 50.6875 5.359375 \nQ 44.046875 -1.421875 33.015625 -1.421875 \nQ 20.359375 -1.421875 13.671875 8.265625 \nQ 6.984375 17.96875 6.984375 36.375 \nQ 6.984375 53.65625 15.1875 63.9375 \nQ 23.390625 74.21875 37.203125 74.21875 \nQ 40.921875 74.21875 44.703125 73.484375 \nQ 48.484375 72.75 52.59375 71.296875 \nz\n\" id=\"DejaVuSans-54\"/>\n       </defs>\n       <use xlink:href=\"#DejaVuSans-48\"/>\n       <use x=\"63.623047\" xlink:href=\"#DejaVuSans-46\"/>\n       <use x=\"95.410156\" xlink:href=\"#DejaVuSans-54\"/>\n       <use x=\"159.033203\" xlink:href=\"#DejaVuSans-54\"/>\n      </g>\n     </g>\n    </g>\n    <g id=\"ytick_2\">\n     <g id=\"line2d_9\">\n      <g>\n       <use style=\"stroke:#000000;stroke-width:0.8;\" x=\"50.14375\" xlink:href=\"#m2d2eba95d0\" y=\"180.693543\"/>\n      </g>\n     </g>\n     <g id=\"text_10\">\n      <!-- 0.68 -->\n      <g transform=\"translate(20.878125 184.492762)scale(0.1 -0.1)\">\n       <defs>\n        <path d=\"M 31.78125 34.625 \nQ 24.75 34.625 20.71875 30.859375 \nQ 16.703125 27.09375 16.703125 20.515625 \nQ 16.703125 13.921875 20.71875 10.15625 \nQ 24.75 6.390625 31.78125 6.390625 \nQ 38.8125 6.390625 42.859375 10.171875 \nQ 46.921875 13.96875 46.921875 20.515625 \nQ 46.921875 27.09375 42.890625 30.859375 \nQ 38.875 34.625 31.78125 34.625 \nz\nM 21.921875 38.8125 \nQ 15.578125 40.375 12.03125 44.71875 \nQ 8.5 49.078125 8.5 55.328125 \nQ 8.5 64.0625 14.71875 69.140625 \nQ 20.953125 74.21875 31.78125 74.21875 \nQ 42.671875 74.21875 48.875 69.140625 \nQ 55.078125 64.0625 55.078125 55.328125 \nQ 55.078125 49.078125 51.53125 44.71875 \nQ 48 40.375 41.703125 38.8125 \nQ 48.828125 37.15625 52.796875 32.3125 \nQ 56.78125 27.484375 56.78125 20.515625 \nQ 56.78125 9.90625 50.3125 4.234375 \nQ 43.84375 -1.421875 31.78125 -1.421875 \nQ 19.734375 -1.421875 13.25 4.234375 \nQ 6.78125 9.90625 6.78125 20.515625 \nQ 6.78125 27.484375 10.78125 32.3125 \nQ 14.796875 37.15625 21.921875 38.8125 \nz\nM 18.3125 54.390625 \nQ 18.3125 48.734375 21.84375 45.5625 \nQ 25.390625 42.390625 31.78125 42.390625 \nQ 38.140625 42.390625 41.71875 45.5625 \nQ 45.3125 48.734375 45.3125 54.390625 \nQ 45.3125 60.0625 41.71875 63.234375 \nQ 38.140625 66.40625 31.78125 66.40625 \nQ 25.390625 66.40625 21.84375 63.234375 \nQ 18.3125 60.0625 18.3125 54.390625 \nz\n\" id=\"DejaVuSans-56\"/>\n       </defs>\n       <use xlink:href=\"#DejaVuSans-48\"/>\n       <use x=\"63.623047\" xlink:href=\"#DejaVuSans-46\"/>\n       <use x=\"95.410156\" xlink:href=\"#DejaVuSans-54\"/>\n       <use x=\"159.033203\" xlink:href=\"#DejaVuSans-56\"/>\n      </g>\n     </g>\n    </g>\n    <g id=\"ytick_3\">\n     <g id=\"line2d_10\">\n      <g>\n       <use style=\"stroke:#000000;stroke-width:0.8;\" x=\"50.14375\" xlink:href=\"#m2d2eba95d0\" y=\"144.040203\"/>\n      </g>\n     </g>\n     <g id=\"text_11\">\n      <!-- 0.70 -->\n      <g transform=\"translate(20.878125 147.839421)scale(0.1 -0.1)\">\n       <defs>\n        <path d=\"M 8.203125 72.90625 \nL 55.078125 72.90625 \nL 55.078125 68.703125 \nL 28.609375 0 \nL 18.3125 0 \nL 43.21875 64.59375 \nL 8.203125 64.59375 \nz\n\" id=\"DejaVuSans-55\"/>\n       </defs>\n       <use xlink:href=\"#DejaVuSans-48\"/>\n       <use x=\"63.623047\" xlink:href=\"#DejaVuSans-46\"/>\n       <use x=\"95.410156\" xlink:href=\"#DejaVuSans-55\"/>\n       <use x=\"159.033203\" xlink:href=\"#DejaVuSans-48\"/>\n      </g>\n     </g>\n    </g>\n    <g id=\"ytick_4\">\n     <g id=\"line2d_11\">\n      <g>\n       <use style=\"stroke:#000000;stroke-width:0.8;\" x=\"50.14375\" xlink:href=\"#m2d2eba95d0\" y=\"107.386862\"/>\n      </g>\n     </g>\n     <g id=\"text_12\">\n      <!-- 0.72 -->\n      <g transform=\"translate(20.878125 111.186081)scale(0.1 -0.1)\">\n       <use xlink:href=\"#DejaVuSans-48\"/>\n       <use x=\"63.623047\" xlink:href=\"#DejaVuSans-46\"/>\n       <use x=\"95.410156\" xlink:href=\"#DejaVuSans-55\"/>\n       <use x=\"159.033203\" xlink:href=\"#DejaVuSans-50\"/>\n      </g>\n     </g>\n    </g>\n    <g id=\"ytick_5\">\n     <g id=\"line2d_12\">\n      <g>\n       <use style=\"stroke:#000000;stroke-width:0.8;\" x=\"50.14375\" xlink:href=\"#m2d2eba95d0\" y=\"70.733522\"/>\n      </g>\n     </g>\n     <g id=\"text_13\">\n      <!-- 0.74 -->\n      <g transform=\"translate(20.878125 74.532741)scale(0.1 -0.1)\">\n       <defs>\n        <path d=\"M 37.796875 64.3125 \nL 12.890625 25.390625 \nL 37.796875 25.390625 \nz\nM 35.203125 72.90625 \nL 47.609375 72.90625 \nL 47.609375 25.390625 \nL 58.015625 25.390625 \nL 58.015625 17.1875 \nL 47.609375 17.1875 \nL 47.609375 0 \nL 37.796875 0 \nL 37.796875 17.1875 \nL 4.890625 17.1875 \nL 4.890625 26.703125 \nz\n\" id=\"DejaVuSans-52\"/>\n       </defs>\n       <use xlink:href=\"#DejaVuSans-48\"/>\n       <use x=\"63.623047\" xlink:href=\"#DejaVuSans-46\"/>\n       <use x=\"95.410156\" xlink:href=\"#DejaVuSans-55\"/>\n       <use x=\"159.033203\" xlink:href=\"#DejaVuSans-52\"/>\n      </g>\n     </g>\n    </g>\n    <g id=\"ytick_6\">\n     <g id=\"line2d_13\">\n      <g>\n       <use style=\"stroke:#000000;stroke-width:0.8;\" x=\"50.14375\" xlink:href=\"#m2d2eba95d0\" y=\"34.080182\"/>\n      </g>\n     </g>\n     <g id=\"text_14\">\n      <!-- 0.76 -->\n      <g transform=\"translate(20.878125 37.8794)scale(0.1 -0.1)\">\n       <use xlink:href=\"#DejaVuSans-48\"/>\n       <use x=\"63.623047\" xlink:href=\"#DejaVuSans-46\"/>\n       <use x=\"95.410156\" xlink:href=\"#DejaVuSans-55\"/>\n       <use x=\"159.033203\" xlink:href=\"#DejaVuSans-54\"/>\n      </g>\n     </g>\n    </g>\n    <g id=\"text_15\">\n     <!-- pearson -->\n     <g transform=\"translate(14.798438 151.24125)rotate(-90)scale(0.1 -0.1)\">\n      <defs>\n       <path d=\"M 18.109375 8.203125 \nL 18.109375 -20.796875 \nL 9.078125 -20.796875 \nL 9.078125 54.6875 \nL 18.109375 54.6875 \nL 18.109375 46.390625 \nQ 20.953125 51.265625 25.265625 53.625 \nQ 29.59375 56 35.59375 56 \nQ 45.5625 56 51.78125 48.09375 \nQ 58.015625 40.1875 58.015625 27.296875 \nQ 58.015625 14.40625 51.78125 6.484375 \nQ 45.5625 -1.421875 35.59375 -1.421875 \nQ 29.59375 -1.421875 25.265625 0.953125 \nQ 20.953125 3.328125 18.109375 8.203125 \nz\nM 48.6875 27.296875 \nQ 48.6875 37.203125 44.609375 42.84375 \nQ 40.53125 48.484375 33.40625 48.484375 \nQ 26.265625 48.484375 22.1875 42.84375 \nQ 18.109375 37.203125 18.109375 27.296875 \nQ 18.109375 17.390625 22.1875 11.75 \nQ 26.265625 6.109375 33.40625 6.109375 \nQ 40.53125 6.109375 44.609375 11.75 \nQ 48.6875 17.390625 48.6875 27.296875 \nz\n\" id=\"DejaVuSans-112\"/>\n       <path d=\"M 56.203125 29.59375 \nL 56.203125 25.203125 \nL 14.890625 25.203125 \nQ 15.484375 15.921875 20.484375 11.0625 \nQ 25.484375 6.203125 34.421875 6.203125 \nQ 39.59375 6.203125 44.453125 7.46875 \nQ 49.3125 8.734375 54.109375 11.28125 \nL 54.109375 2.78125 \nQ 49.265625 0.734375 44.1875 -0.34375 \nQ 39.109375 -1.421875 33.890625 -1.421875 \nQ 20.796875 -1.421875 13.15625 6.1875 \nQ 5.515625 13.8125 5.515625 26.8125 \nQ 5.515625 40.234375 12.765625 48.109375 \nQ 20.015625 56 32.328125 56 \nQ 43.359375 56 49.78125 48.890625 \nQ 56.203125 41.796875 56.203125 29.59375 \nz\nM 47.21875 32.234375 \nQ 47.125 39.59375 43.09375 43.984375 \nQ 39.0625 48.390625 32.421875 48.390625 \nQ 24.90625 48.390625 20.390625 44.140625 \nQ 15.875 39.890625 15.1875 32.171875 \nz\n\" id=\"DejaVuSans-101\"/>\n       <path d=\"M 34.28125 27.484375 \nQ 23.390625 27.484375 19.1875 25 \nQ 14.984375 22.515625 14.984375 16.5 \nQ 14.984375 11.71875 18.140625 8.90625 \nQ 21.296875 6.109375 26.703125 6.109375 \nQ 34.1875 6.109375 38.703125 11.40625 \nQ 43.21875 16.703125 43.21875 25.484375 \nL 43.21875 27.484375 \nz\nM 52.203125 31.203125 \nL 52.203125 0 \nL 43.21875 0 \nL 43.21875 8.296875 \nQ 40.140625 3.328125 35.546875 0.953125 \nQ 30.953125 -1.421875 24.3125 -1.421875 \nQ 15.921875 -1.421875 10.953125 3.296875 \nQ 6 8.015625 6 15.921875 \nQ 6 25.140625 12.171875 29.828125 \nQ 18.359375 34.515625 30.609375 34.515625 \nL 43.21875 34.515625 \nL 43.21875 35.40625 \nQ 43.21875 41.609375 39.140625 45 \nQ 35.0625 48.390625 27.6875 48.390625 \nQ 23 48.390625 18.546875 47.265625 \nQ 14.109375 46.140625 10.015625 43.890625 \nL 10.015625 52.203125 \nQ 14.9375 54.109375 19.578125 55.046875 \nQ 24.21875 56 28.609375 56 \nQ 40.484375 56 46.34375 49.84375 \nQ 52.203125 43.703125 52.203125 31.203125 \nz\n\" id=\"DejaVuSans-97\"/>\n       <path d=\"M 41.109375 46.296875 \nQ 39.59375 47.171875 37.8125 47.578125 \nQ 36.03125 48 33.890625 48 \nQ 26.265625 48 22.1875 43.046875 \nQ 18.109375 38.09375 18.109375 28.8125 \nL 18.109375 0 \nL 9.078125 0 \nL 9.078125 54.6875 \nL 18.109375 54.6875 \nL 18.109375 46.1875 \nQ 20.953125 51.171875 25.484375 53.578125 \nQ 30.03125 56 36.53125 56 \nQ 37.453125 56 38.578125 55.875 \nQ 39.703125 55.765625 41.0625 55.515625 \nz\n\" id=\"DejaVuSans-114\"/>\n       <path d=\"M 44.28125 53.078125 \nL 44.28125 44.578125 \nQ 40.484375 46.53125 36.375 47.5 \nQ 32.28125 48.484375 27.875 48.484375 \nQ 21.1875 48.484375 17.84375 46.4375 \nQ 14.5 44.390625 14.5 40.28125 \nQ 14.5 37.15625 16.890625 35.375 \nQ 19.28125 33.59375 26.515625 31.984375 \nL 29.59375 31.296875 \nQ 39.15625 29.25 43.1875 25.515625 \nQ 47.21875 21.78125 47.21875 15.09375 \nQ 47.21875 7.46875 41.1875 3.015625 \nQ 35.15625 -1.421875 24.609375 -1.421875 \nQ 20.21875 -1.421875 15.453125 -0.5625 \nQ 10.6875 0.296875 5.421875 2 \nL 5.421875 11.28125 \nQ 10.40625 8.6875 15.234375 7.390625 \nQ 20.0625 6.109375 24.8125 6.109375 \nQ 31.15625 6.109375 34.5625 8.28125 \nQ 37.984375 10.453125 37.984375 14.40625 \nQ 37.984375 18.0625 35.515625 20.015625 \nQ 33.0625 21.96875 24.703125 23.78125 \nL 21.578125 24.515625 \nQ 13.234375 26.265625 9.515625 29.90625 \nQ 5.8125 33.546875 5.8125 39.890625 \nQ 5.8125 47.609375 11.28125 51.796875 \nQ 16.75 56 26.8125 56 \nQ 31.78125 56 36.171875 55.265625 \nQ 40.578125 54.546875 44.28125 53.078125 \nz\n\" id=\"DejaVuSans-115\"/>\n       <path d=\"M 30.609375 48.390625 \nQ 23.390625 48.390625 19.1875 42.75 \nQ 14.984375 37.109375 14.984375 27.296875 \nQ 14.984375 17.484375 19.15625 11.84375 \nQ 23.34375 6.203125 30.609375 6.203125 \nQ 37.796875 6.203125 41.984375 11.859375 \nQ 46.1875 17.53125 46.1875 27.296875 \nQ 46.1875 37.015625 41.984375 42.703125 \nQ 37.796875 48.390625 30.609375 48.390625 \nz\nM 30.609375 56 \nQ 42.328125 56 49.015625 48.375 \nQ 55.71875 40.765625 55.71875 27.296875 \nQ 55.71875 13.875 49.015625 6.21875 \nQ 42.328125 -1.421875 30.609375 -1.421875 \nQ 18.84375 -1.421875 12.171875 6.21875 \nQ 5.515625 13.875 5.515625 27.296875 \nQ 5.515625 40.765625 12.171875 48.375 \nQ 18.84375 56 30.609375 56 \nz\n\" id=\"DejaVuSans-111\"/>\n       <path d=\"M 54.890625 33.015625 \nL 54.890625 0 \nL 45.90625 0 \nL 45.90625 32.71875 \nQ 45.90625 40.484375 42.875 44.328125 \nQ 39.84375 48.1875 33.796875 48.1875 \nQ 26.515625 48.1875 22.3125 43.546875 \nQ 18.109375 38.921875 18.109375 30.90625 \nL 18.109375 0 \nL 9.078125 0 \nL 9.078125 54.6875 \nL 18.109375 54.6875 \nL 18.109375 46.1875 \nQ 21.34375 51.125 25.703125 53.5625 \nQ 30.078125 56 35.796875 56 \nQ 45.21875 56 50.046875 50.171875 \nQ 54.890625 44.34375 54.890625 33.015625 \nz\n\" id=\"DejaVuSans-110\"/>\n      </defs>\n      <use xlink:href=\"#DejaVuSans-112\"/>\n      <use x=\"63.476562\" xlink:href=\"#DejaVuSans-101\"/>\n      <use x=\"125\" xlink:href=\"#DejaVuSans-97\"/>\n      <use x=\"186.279297\" xlink:href=\"#DejaVuSans-114\"/>\n      <use x=\"227.392578\" xlink:href=\"#DejaVuSans-115\"/>\n      <use x=\"279.492188\" xlink:href=\"#DejaVuSans-111\"/>\n      <use x=\"340.673828\" xlink:href=\"#DejaVuSans-110\"/>\n     </g>\n    </g>\n   </g>\n   <g id=\"line2d_14\">\n    <path clip-path=\"url(#pba6307603b)\" d=\"M 65.361932 229.874489 \nL 66.37987 217.607712 \nL 67.397809 155.788337 \nL 68.415748 156.447958 \nL 69.433686 144.279064 \nL 70.451625 139.04253 \nL 71.469563 138.276906 \nL 72.487502 141.665275 \nL 73.50544 141.603619 \nL 74.523379 141.703311 \nL 76.559256 126.65965 \nL 77.577195 126.844162 \nL 78.595133 126.069759 \nL 79.613072 113.050807 \nL 80.631011 112.573753 \nL 81.648949 112.311851 \nL 84.702765 112.624844 \nL 85.720703 113.013951 \nL 86.738642 110.092992 \nL 88.774519 109.727368 \nL 90.810396 107.112477 \nL 91.828335 107.598001 \nL 92.846274 107.16319 \nL 93.864212 107.672074 \nL 94.882151 108.429932 \nL 95.900089 104.801112 \nL 96.918028 105.977072 \nL 97.935966 101.423968 \nL 98.953905 101.96364 \nL 99.971844 101.780359 \nL 100.989782 101.780359 \nL 102.007721 66.48693 \nL 103.025659 66.48693 \nL 104.043598 64.229802 \nL 105.061537 63.376171 \nL 106.079475 63.516538 \nL 107.097414 63.987278 \nL 108.115352 62.305052 \nL 109.133291 63.249227 \nL 110.151229 62.960781 \nL 112.187107 55.941505 \nL 113.205045 49.838763 \nL 114.222984 49.992054 \nL 115.240922 49.94759 \nL 116.258861 53.433559 \nL 117.2768 53.130428 \nL 119.312677 53.128222 \nL 120.330615 53.01598 \nL 121.348554 53.659929 \nL 123.384431 51.133818 \nL 124.40237 50.969521 \nL 125.420308 51.442298 \nL 126.438247 51.052339 \nL 127.456185 51.052339 \nL 128.474124 51.461192 \nL 129.492063 51.199715 \nL 130.510001 50.748403 \nL 131.52794 50.536932 \nL 132.545878 50.529385 \nL 133.563817 50.297467 \nL 134.581755 48.495117 \nL 135.599694 46.358344 \nL 136.617633 45.28192 \nL 137.635571 44.913869 \nL 138.65351 45.037253 \nL 139.671448 44.81085 \nL 141.707326 44.795457 \nL 142.725264 44.489924 \nL 143.743203 44.818007 \nL 144.761141 44.818007 \nL 145.77908 44.624226 \nL 146.797018 44.953836 \nL 147.814957 43.46207 \nL 148.832896 43.366158 \nL 149.850834 44.446642 \nL 150.868773 43.902793 \nL 151.886711 43.858942 \nL 152.90465 44.813946 \nL 153.922589 44.632788 \nL 154.940527 44.655446 \nL 155.958466 44.462497 \nL 156.976404 44.13849 \nL 157.994343 44.615965 \nL 159.012281 44.215411 \nL 160.03022 44.885445 \nL 161.048159 44.564787 \nL 162.066097 42.77185 \nL 163.084036 42.791228 \nL 165.119913 43.196646 \nL 166.137852 42.465422 \nL 167.15579 42.339358 \nL 168.173729 40.391586 \nL 169.191667 40.405491 \nL 170.209606 40.293143 \nL 171.227544 41.140736 \nL 172.245483 41.140736 \nL 173.263422 39.872339 \nL 174.28136 37.801212 \nL 175.299299 37.126992 \nL 176.317237 37.114085 \nL 177.335176 37.231782 \nL 178.353115 37.562891 \nL 179.371053 37.277103 \nL 180.388992 35.087221 \nL 181.40693 34.001287 \nL 182.424869 34.111425 \nL 183.442807 32.644081 \nL 184.460746 32.551669 \nL 185.478685 33.062318 \nL 187.514562 33.034082 \nL 188.5325 35.954024 \nL 189.550439 34.161611 \nL 190.568378 34.167581 \nL 191.586316 34.77074 \nL 192.604255 35.168485 \nL 193.622193 35.225814 \nL 194.640132 35.0061 \nL 195.65807 34.965885 \nL 196.676009 35.620273 \nL 197.693948 35.688156 \nL 198.711886 35.449552 \nL 199.729825 35.794783 \nL 200.747763 35.122533 \nL 201.765702 34.864932 \nL 202.783641 35.92633 \nL 203.801579 36.226782 \nL 205.837456 36.139956 \nL 206.855395 36.987767 \nL 207.873333 38.298823 \nL 209.909211 38.987641 \nL 210.927149 38.35309 \nL 211.945088 38.601949 \nL 212.963026 38.545973 \nL 213.980965 37.787542 \nL 214.998904 37.17435 \nL 217.034781 36.762188 \nL 218.052719 37.596507 \nL 219.070658 35.767878 \nL 220.088596 35.057093 \nL 221.106535 34.008798 \nL 222.124474 33.913203 \nL 223.142412 32.869172 \nL 225.178289 32.813552 \nL 226.196228 32.201761 \nL 227.214167 32.643558 \nL 228.232105 32.574506 \nL 229.250044 32.922329 \nL 230.267982 32.605554 \nL 231.285921 32.585478 \nL 232.303859 32.340939 \nL 233.321798 32.465958 \nL 234.339737 32.982854 \nL 235.357675 34.305831 \nL 236.375614 34.235084 \nL 237.393552 33.952726 \nL 238.411491 33.241138 \nL 239.42943 33.293839 \nL 240.447368 34.531427 \nL 241.465307 34.883206 \nL 242.483245 34.06863 \nL 243.501184 34.395546 \nL 244.519122 34.235247 \nL 246.555 34.283622 \nL 247.572938 35.93634 \nL 248.590877 37.073342 \nL 249.608815 36.497898 \nL 250.626754 37.292506 \nL 252.662631 36.958918 \nL 253.68057 38.247659 \nL 256.734385 38.096877 \nL 257.752324 37.866474 \nL 258.770263 38.584046 \nL 259.788201 38.648293 \nL 260.80614 38.203155 \nL 261.824078 38.381856 \nL 262.842017 36.271445 \nL 264.877894 36.738748 \nL 268.949648 36.62945 \nL 269.967587 36.7782 \nL 270.985526 36.811416 \nL 272.003464 36.117662 \nL 273.021403 35.943582 \nL 274.039341 36.644864 \nL 276.075219 36.748798 \nL 277.093157 36.721942 \nL 278.111096 36.409203 \nL 281.164911 36.196194 \nL 282.18285 36.765629 \nL 283.200789 36.905737 \nL 284.218727 36.705556 \nL 287.272543 36.607157 \nL 288.290482 36.657561 \nL 289.30842 36.451698 \nL 292.362236 36.471059 \nL 293.380174 36.018966 \nL 301.523683 36.782698 \nL 303.55956 36.671053 \nL 304.577499 35.782784 \nL 307.631315 35.701853 \nL 308.649253 36.622307 \nL 310.68513 36.438561 \nL 311.703069 36.788016 \nL 313.738946 36.917243 \nL 314.756885 36.62671 \nL 315.774823 37.5073 \nL 316.792762 37.291729 \nL 317.8107 36.960716 \nL 320.864516 37.322894 \nL 321.882455 38.492248 \nL 324.936271 38.38493 \nL 325.954209 38.861231 \nL 326.972148 38.717429 \nL 327.990086 39.584478 \nL 330.025963 39.707282 \nL 331.043902 39.203923 \nL 332.061841 40.027868 \nL 334.097718 39.071666 \nL 336.133595 38.748924 \nL 337.151534 38.315379 \nL 338.169472 37.582569 \nL 339.187411 38.026786 \nL 340.205349 38.706753 \nL 341.223288 38.096317 \nL 343.259165 38.156595 \nL 344.277104 37.901902 \nL 345.295042 38.040391 \nL 346.312981 38.568075 \nL 348.348858 38.579234 \nL 349.366797 38.373918 \nL 350.384735 39.784406 \nL 352.420612 40.100772 \nL 353.438551 39.936068 \nL 354.456489 39.949191 \nL 355.474428 39.768251 \nL 358.528244 39.733292 \nL 359.546182 39.923004 \nL 360.564121 40.398487 \nL 361.58206 41.31768 \nL 362.599998 41.395302 \nL 363.617937 41.130126 \nL 364.635875 42.266646 \nL 365.653814 41.684153 \nL 366.671752 41.84713 \nL 367.689691 41.820092 \nL 368.70763 41.484119 \nL 369.725568 41.916884 \nL 369.725568 41.916884 \n\" style=\"fill:none;stroke:#1f77b4;stroke-linecap:square;stroke-width:1.5;\"/>\n   </g>\n   <g id=\"patch_3\">\n    <path d=\"M 50.14375 239.758125 \nL 50.14375 22.318125 \n\" style=\"fill:none;stroke:#000000;stroke-linecap:square;stroke-linejoin:miter;stroke-width:0.8;\"/>\n   </g>\n   <g id=\"patch_4\">\n    <path d=\"M 384.94375 239.758125 \nL 384.94375 22.318125 \n\" style=\"fill:none;stroke:#000000;stroke-linecap:square;stroke-linejoin:miter;stroke-width:0.8;\"/>\n   </g>\n   <g id=\"patch_5\">\n    <path d=\"M 50.14375 239.758125 \nL 384.94375 239.758125 \n\" style=\"fill:none;stroke:#000000;stroke-linecap:square;stroke-linejoin:miter;stroke-width:0.8;\"/>\n   </g>\n   <g id=\"patch_6\">\n    <path d=\"M 50.14375 22.318125 \nL 384.94375 22.318125 \n\" style=\"fill:none;stroke:#000000;stroke-linecap:square;stroke-linejoin:miter;stroke-width:0.8;\"/>\n   </g>\n   <g id=\"text_16\">\n    <!-- Filter method: K-best by pearson -->\n    <g transform=\"translate(119.81125 16.318125)scale(0.12 -0.12)\">\n     <defs>\n      <path d=\"M 9.8125 72.90625 \nL 51.703125 72.90625 \nL 51.703125 64.59375 \nL 19.671875 64.59375 \nL 19.671875 43.109375 \nL 48.578125 43.109375 \nL 48.578125 34.8125 \nL 19.671875 34.8125 \nL 19.671875 0 \nL 9.8125 0 \nz\n\" id=\"DejaVuSans-70\"/>\n      <path d=\"M 9.421875 54.6875 \nL 18.40625 54.6875 \nL 18.40625 0 \nL 9.421875 0 \nz\nM 9.421875 75.984375 \nL 18.40625 75.984375 \nL 18.40625 64.59375 \nL 9.421875 64.59375 \nz\n\" id=\"DejaVuSans-105\"/>\n      <path d=\"M 9.421875 75.984375 \nL 18.40625 75.984375 \nL 18.40625 0 \nL 9.421875 0 \nz\n\" id=\"DejaVuSans-108\"/>\n      <path d=\"M 18.3125 70.21875 \nL 18.3125 54.6875 \nL 36.8125 54.6875 \nL 36.8125 47.703125 \nL 18.3125 47.703125 \nL 18.3125 18.015625 \nQ 18.3125 11.328125 20.140625 9.421875 \nQ 21.96875 7.515625 27.59375 7.515625 \nL 36.8125 7.515625 \nL 36.8125 0 \nL 27.59375 0 \nQ 17.1875 0 13.234375 3.875 \nQ 9.28125 7.765625 9.28125 18.015625 \nL 9.28125 47.703125 \nL 2.6875 47.703125 \nL 2.6875 54.6875 \nL 9.28125 54.6875 \nL 9.28125 70.21875 \nz\n\" id=\"DejaVuSans-116\"/>\n      <path id=\"DejaVuSans-32\"/>\n      <path d=\"M 52 44.1875 \nQ 55.375 50.25 60.0625 53.125 \nQ 64.75 56 71.09375 56 \nQ 79.640625 56 84.28125 50.015625 \nQ 88.921875 44.046875 88.921875 33.015625 \nL 88.921875 0 \nL 79.890625 0 \nL 79.890625 32.71875 \nQ 79.890625 40.578125 77.09375 44.375 \nQ 74.3125 48.1875 68.609375 48.1875 \nQ 61.625 48.1875 57.5625 43.546875 \nQ 53.515625 38.921875 53.515625 30.90625 \nL 53.515625 0 \nL 44.484375 0 \nL 44.484375 32.71875 \nQ 44.484375 40.625 41.703125 44.40625 \nQ 38.921875 48.1875 33.109375 48.1875 \nQ 26.21875 48.1875 22.15625 43.53125 \nQ 18.109375 38.875 18.109375 30.90625 \nL 18.109375 0 \nL 9.078125 0 \nL 9.078125 54.6875 \nL 18.109375 54.6875 \nL 18.109375 46.1875 \nQ 21.1875 51.21875 25.484375 53.609375 \nQ 29.78125 56 35.6875 56 \nQ 41.65625 56 45.828125 52.96875 \nQ 50 49.953125 52 44.1875 \nz\n\" id=\"DejaVuSans-109\"/>\n      <path d=\"M 54.890625 33.015625 \nL 54.890625 0 \nL 45.90625 0 \nL 45.90625 32.71875 \nQ 45.90625 40.484375 42.875 44.328125 \nQ 39.84375 48.1875 33.796875 48.1875 \nQ 26.515625 48.1875 22.3125 43.546875 \nQ 18.109375 38.921875 18.109375 30.90625 \nL 18.109375 0 \nL 9.078125 0 \nL 9.078125 75.984375 \nL 18.109375 75.984375 \nL 18.109375 46.1875 \nQ 21.34375 51.125 25.703125 53.5625 \nQ 30.078125 56 35.796875 56 \nQ 45.21875 56 50.046875 50.171875 \nQ 54.890625 44.34375 54.890625 33.015625 \nz\n\" id=\"DejaVuSans-104\"/>\n      <path d=\"M 45.40625 46.390625 \nL 45.40625 75.984375 \nL 54.390625 75.984375 \nL 54.390625 0 \nL 45.40625 0 \nL 45.40625 8.203125 \nQ 42.578125 3.328125 38.25 0.953125 \nQ 33.9375 -1.421875 27.875 -1.421875 \nQ 17.96875 -1.421875 11.734375 6.484375 \nQ 5.515625 14.40625 5.515625 27.296875 \nQ 5.515625 40.1875 11.734375 48.09375 \nQ 17.96875 56 27.875 56 \nQ 33.9375 56 38.25 53.625 \nQ 42.578125 51.265625 45.40625 46.390625 \nz\nM 14.796875 27.296875 \nQ 14.796875 17.390625 18.875 11.75 \nQ 22.953125 6.109375 30.078125 6.109375 \nQ 37.203125 6.109375 41.296875 11.75 \nQ 45.40625 17.390625 45.40625 27.296875 \nQ 45.40625 37.203125 41.296875 42.84375 \nQ 37.203125 48.484375 30.078125 48.484375 \nQ 22.953125 48.484375 18.875 42.84375 \nQ 14.796875 37.203125 14.796875 27.296875 \nz\n\" id=\"DejaVuSans-100\"/>\n      <path d=\"M 11.71875 12.40625 \nL 22.015625 12.40625 \nL 22.015625 0 \nL 11.71875 0 \nz\nM 11.71875 51.703125 \nL 22.015625 51.703125 \nL 22.015625 39.3125 \nL 11.71875 39.3125 \nz\n\" id=\"DejaVuSans-58\"/>\n      <path d=\"M 9.8125 72.90625 \nL 19.671875 72.90625 \nL 19.671875 42.09375 \nL 52.390625 72.90625 \nL 65.09375 72.90625 \nL 28.90625 38.921875 \nL 67.671875 0 \nL 54.6875 0 \nL 19.671875 35.109375 \nL 19.671875 0 \nL 9.8125 0 \nz\n\" id=\"DejaVuSans-75\"/>\n      <path d=\"M 4.890625 31.390625 \nL 31.203125 31.390625 \nL 31.203125 23.390625 \nL 4.890625 23.390625 \nz\n\" id=\"DejaVuSans-45\"/>\n      <path d=\"M 48.6875 27.296875 \nQ 48.6875 37.203125 44.609375 42.84375 \nQ 40.53125 48.484375 33.40625 48.484375 \nQ 26.265625 48.484375 22.1875 42.84375 \nQ 18.109375 37.203125 18.109375 27.296875 \nQ 18.109375 17.390625 22.1875 11.75 \nQ 26.265625 6.109375 33.40625 6.109375 \nQ 40.53125 6.109375 44.609375 11.75 \nQ 48.6875 17.390625 48.6875 27.296875 \nz\nM 18.109375 46.390625 \nQ 20.953125 51.265625 25.265625 53.625 \nQ 29.59375 56 35.59375 56 \nQ 45.5625 56 51.78125 48.09375 \nQ 58.015625 40.1875 58.015625 27.296875 \nQ 58.015625 14.40625 51.78125 6.484375 \nQ 45.5625 -1.421875 35.59375 -1.421875 \nQ 29.59375 -1.421875 25.265625 0.953125 \nQ 20.953125 3.328125 18.109375 8.203125 \nL 18.109375 0 \nL 9.078125 0 \nL 9.078125 75.984375 \nL 18.109375 75.984375 \nz\n\" id=\"DejaVuSans-98\"/>\n      <path d=\"M 32.171875 -5.078125 \nQ 28.375 -14.84375 24.75 -17.8125 \nQ 21.140625 -20.796875 15.09375 -20.796875 \nL 7.90625 -20.796875 \nL 7.90625 -13.28125 \nL 13.1875 -13.28125 \nQ 16.890625 -13.28125 18.9375 -11.515625 \nQ 21 -9.765625 23.484375 -3.21875 \nL 25.09375 0.875 \nL 2.984375 54.6875 \nL 12.5 54.6875 \nL 29.59375 11.921875 \nL 46.6875 54.6875 \nL 56.203125 54.6875 \nz\n\" id=\"DejaVuSans-121\"/>\n     </defs>\n     <use xlink:href=\"#DejaVuSans-70\"/>\n     <use x=\"50.269531\" xlink:href=\"#DejaVuSans-105\"/>\n     <use x=\"78.052734\" xlink:href=\"#DejaVuSans-108\"/>\n     <use x=\"105.835938\" xlink:href=\"#DejaVuSans-116\"/>\n     <use x=\"145.044922\" xlink:href=\"#DejaVuSans-101\"/>\n     <use x=\"206.568359\" xlink:href=\"#DejaVuSans-114\"/>\n     <use x=\"247.681641\" xlink:href=\"#DejaVuSans-32\"/>\n     <use x=\"279.46875\" xlink:href=\"#DejaVuSans-109\"/>\n     <use x=\"376.880859\" xlink:href=\"#DejaVuSans-101\"/>\n     <use x=\"438.404297\" xlink:href=\"#DejaVuSans-116\"/>\n     <use x=\"477.613281\" xlink:href=\"#DejaVuSans-104\"/>\n     <use x=\"540.992188\" xlink:href=\"#DejaVuSans-111\"/>\n     <use x=\"602.173828\" xlink:href=\"#DejaVuSans-100\"/>\n     <use x=\"665.650391\" xlink:href=\"#DejaVuSans-58\"/>\n     <use x=\"699.341797\" xlink:href=\"#DejaVuSans-32\"/>\n     <use x=\"731.128906\" xlink:href=\"#DejaVuSans-75\"/>\n     <use x=\"786.205078\" xlink:href=\"#DejaVuSans-45\"/>\n     <use x=\"822.289062\" xlink:href=\"#DejaVuSans-98\"/>\n     <use x=\"885.765625\" xlink:href=\"#DejaVuSans-101\"/>\n     <use x=\"947.289062\" xlink:href=\"#DejaVuSans-115\"/>\n     <use x=\"999.388672\" xlink:href=\"#DejaVuSans-116\"/>\n     <use x=\"1038.597656\" xlink:href=\"#DejaVuSans-32\"/>\n     <use x=\"1070.384766\" xlink:href=\"#DejaVuSans-98\"/>\n     <use x=\"1133.861328\" xlink:href=\"#DejaVuSans-121\"/>\n     <use x=\"1193.041016\" xlink:href=\"#DejaVuSans-32\"/>\n     <use x=\"1224.828125\" xlink:href=\"#DejaVuSans-112\"/>\n     <use x=\"1288.304688\" xlink:href=\"#DejaVuSans-101\"/>\n     <use x=\"1349.828125\" xlink:href=\"#DejaVuSans-97\"/>\n     <use x=\"1411.107422\" xlink:href=\"#DejaVuSans-114\"/>\n     <use x=\"1452.220703\" xlink:href=\"#DejaVuSans-115\"/>\n     <use x=\"1504.320312\" xlink:href=\"#DejaVuSans-111\"/>\n     <use x=\"1565.501953\" xlink:href=\"#DejaVuSans-110\"/>\n    </g>\n   </g>\n  </g>\n </g>\n <defs>\n  <clipPath id=\"pba6307603b\">\n   <rect height=\"217.44\" width=\"334.8\" x=\"50.14375\" y=\"22.318125\"/>\n  </clipPath>\n </defs>\n</svg>\n",
      "image/png": "[encoded data removed]"
     },
     "metadata": {
      "needs_background": "light"
     }
    }
   ],
   "source": [
    "plt.plot(k_lst, pearson_lst)\n",
    "plt.title('Filter method: K-best by pearson')\n",
    "plt.xlabel('k')\n",
    "plt.ylabel('pearson')"
   ]
  },
  {
   "cell_type": "code",
   "execution_count": null,
   "metadata": {},
   "outputs": [],
   "source": [
    "k = 150"
   ]
  },
  {
   "source": [
    "## Filter method: K-best by mutual information\n",
    "- Alternative script in `feature_selection_single.py`.\n",
    "- Results below _supposedly_ same as that in `single_train_mi.txt`."
   ],
   "cell_type": "markdown",
   "metadata": {}
  },
  {
   "cell_type": "code",
   "execution_count": null,
   "metadata": {},
   "outputs": [],
   "source": [
    "#col_2_multi_dim = {'glove_word':300, 'glove_word_sum':300, 'glove_word_head':300, 'glove_word_tail':300, 'glove_context':300, 'infersent_embeddings':4096, 'elmo_word':1024, 'elmo_word_sum':1024, 'elmo_word_head':1024, 'elmo_word_tail':1024}\n",
    "#single_train = pd.read_csv('./data/'+job+'/single_train_j.tsv', sep='\\t', index_col=0)\n",
    "#discrete_features = discrete(single_train, col_2_multi_dim)"
   ]
  },
  {
   "cell_type": "code",
   "execution_count": null,
   "metadata": {},
   "outputs": [],
   "source": [
    "#skb=SelectKBest(score_func=partial(mutual_info_regression,discrete_features=discrete_features),k=10)\n",
    "#skb.fit(X_train_mini, y_train_mini)"
   ]
  },
  {
   "cell_type": "code",
   "execution_count": 10,
   "metadata": {},
   "outputs": [],
   "source": [
    "feature_names, mi = get_sorted_mi('./data/'+job+'/single_train_mi.txt')\n",
    "k_lst, pearson_lst = [], []"
   ]
  },
  {
   "cell_type": "code",
   "execution_count": 12,
   "metadata": {},
   "outputs": [
    {
     "output_type": "stream",
     "name": "stderr",
     "text": [
      "100%|██████████| 300/300 [00:34<00:00,  8.66it/s]\n"
     ]
    }
   ],
   "source": [
    "for k in tqdm(range(1, 300+1)):\n",
    "    k_lst.append(k)\n",
    "    picks = feature_names[:k]\n",
    "    col_idx = [single_train_feature_name_2_idx[pick] for pick in picks]\n",
    "    X_train_mini_picks = X_train_mini[:, col_idx]\n",
    "    X_dev_mini_picks = X_dev_mini[:, col_idx]\n",
    "    model = LinearRegression()\n",
    "    model = model.fit(X_train_mini_picks, y_train_mini)\n",
    "    y_dev_mini_pred = model.predict(X_dev_mini_picks)\n",
    "    pearson_lst.append(pearson(y_dev_mini_pred, y_dev_mini))"
   ]
  },
  {
   "cell_type": "code",
   "execution_count": 13,
   "metadata": {},
   "outputs": [
    {
     "output_type": "execute_result",
     "data": {
      "text/plain": [
       "Text(0, 0.5, 'pearson')"
      ]
     },
     "metadata": {},
     "execution_count": 13
    },
    {
     "output_type": "display_data",
     "data": {
      "text/plain": "<Figure size 432x288 with 1 Axes>",
      "image/svg+xml": "<?xml version=\"1.0\" encoding=\"utf-8\" standalone=\"no\"?>\n<!DOCTYPE svg PUBLIC \"-//W3C//DTD SVG 1.1//EN\"\n  \"http://www.w3.org/Graphics/SVG/1.1/DTD/svg11.dtd\">\n<!-- Created with matplotlib (https://matplotlib.org/) -->\n<svg height=\"277.314375pt\" version=\"1.1\" viewBox=\"0 0 385.78125 277.314375\" width=\"385.78125pt\" xmlns=\"http://www.w3.org/2000/svg\" xmlns:xlink=\"http://www.w3.org/1999/xlink\">\n <metadata>\n  <rdf:RDF xmlns:cc=\"http://creativecommons.org/ns#\" xmlns:dc=\"http://purl.org/dc/elements/1.1/\" xmlns:rdf=\"http://www.w3.org/1999/02/22-rdf-syntax-ns#\">\n   <cc:Work>\n    <dc:type rdf:resource=\"http://purl.org/dc/dcmitype/StillImage\"/>\n    <dc:date>2021-01-17T02:09:58.466724</dc:date>\n    <dc:format>image/svg+xml</dc:format>\n    <dc:creator>\n     <cc:Agent>\n      <dc:title>Matplotlib v3.3.3, https://matplotlib.org/</dc:title>\n     </cc:Agent>\n    </dc:creator>\n   </cc:Work>\n  </rdf:RDF>\n </metadata>\n <defs>\n  <style type=\"text/css\">*{stroke-linecap:butt;stroke-linejoin:round;}</style>\n </defs>\n <g id=\"figure_1\">\n  <g id=\"patch_1\">\n   <path d=\"M 0 277.314375 \nL 385.78125 277.314375 \nL 385.78125 0 \nL 0 0 \nz\n\" style=\"fill:none;\"/>\n  </g>\n  <g id=\"axes_1\">\n   <g id=\"patch_2\">\n    <path d=\"M 43.78125 239.758125 \nL 378.58125 239.758125 \nL 378.58125 22.318125 \nL 43.78125 22.318125 \nz\n\" style=\"fill:#ffffff;\"/>\n   </g>\n   <g id=\"matplotlib.axis_1\">\n    <g id=\"xtick_1\">\n     <g id=\"line2d_1\">\n      <defs>\n       <path d=\"M 0 0 \nL 0 3.5 \n\" id=\"med77fc10a9\" style=\"stroke:#000000;stroke-width:0.8;\"/>\n      </defs>\n      <g>\n       <use style=\"stroke:#000000;stroke-width:0.8;\" x=\"57.981493\" xlink:href=\"#med77fc10a9\" y=\"239.758125\"/>\n      </g>\n     </g>\n     <g id=\"text_1\">\n      <!-- 0 -->\n      <g transform=\"translate(54.800243 254.356562)scale(0.1 -0.1)\">\n       <defs>\n        <path d=\"M 31.78125 66.40625 \nQ 24.171875 66.40625 20.328125 58.90625 \nQ 16.5 51.421875 16.5 36.375 \nQ 16.5 21.390625 20.328125 13.890625 \nQ 24.171875 6.390625 31.78125 6.390625 \nQ 39.453125 6.390625 43.28125 13.890625 \nQ 47.125 21.390625 47.125 36.375 \nQ 47.125 51.421875 43.28125 58.90625 \nQ 39.453125 66.40625 31.78125 66.40625 \nz\nM 31.78125 74.21875 \nQ 44.046875 74.21875 50.515625 64.515625 \nQ 56.984375 54.828125 56.984375 36.375 \nQ 56.984375 17.96875 50.515625 8.265625 \nQ 44.046875 -1.421875 31.78125 -1.421875 \nQ 19.53125 -1.421875 13.0625 8.265625 \nQ 6.59375 17.96875 6.59375 36.375 \nQ 6.59375 54.828125 13.0625 64.515625 \nQ 19.53125 74.21875 31.78125 74.21875 \nz\n\" id=\"DejaVuSans-48\"/>\n       </defs>\n       <use xlink:href=\"#DejaVuSans-48\"/>\n      </g>\n     </g>\n    </g>\n    <g id=\"xtick_2\">\n     <g id=\"line2d_2\">\n      <g>\n       <use style=\"stroke:#000000;stroke-width:0.8;\" x=\"108.878422\" xlink:href=\"#med77fc10a9\" y=\"239.758125\"/>\n      </g>\n     </g>\n     <g id=\"text_2\">\n      <!-- 50 -->\n      <g transform=\"translate(102.515922 254.356562)scale(0.1 -0.1)\">\n       <defs>\n        <path d=\"M 10.796875 72.90625 \nL 49.515625 72.90625 \nL 49.515625 64.59375 \nL 19.828125 64.59375 \nL 19.828125 46.734375 \nQ 21.96875 47.46875 24.109375 47.828125 \nQ 26.265625 48.1875 28.421875 48.1875 \nQ 40.625 48.1875 47.75 41.5 \nQ 54.890625 34.8125 54.890625 23.390625 \nQ 54.890625 11.625 47.5625 5.09375 \nQ 40.234375 -1.421875 26.90625 -1.421875 \nQ 22.3125 -1.421875 17.546875 -0.640625 \nQ 12.796875 0.140625 7.71875 1.703125 \nL 7.71875 11.625 \nQ 12.109375 9.234375 16.796875 8.0625 \nQ 21.484375 6.890625 26.703125 6.890625 \nQ 35.15625 6.890625 40.078125 11.328125 \nQ 45.015625 15.765625 45.015625 23.390625 \nQ 45.015625 31 40.078125 35.4375 \nQ 35.15625 39.890625 26.703125 39.890625 \nQ 22.75 39.890625 18.8125 39.015625 \nQ 14.890625 38.140625 10.796875 36.28125 \nz\n\" id=\"DejaVuSans-53\"/>\n       </defs>\n       <use xlink:href=\"#DejaVuSans-53\"/>\n       <use x=\"63.623047\" xlink:href=\"#DejaVuSans-48\"/>\n      </g>\n     </g>\n    </g>\n    <g id=\"xtick_3\">\n     <g id=\"line2d_3\">\n      <g>\n       <use style=\"stroke:#000000;stroke-width:0.8;\" x=\"159.775352\" xlink:href=\"#med77fc10a9\" y=\"239.758125\"/>\n      </g>\n     </g>\n     <g id=\"text_3\">\n      <!-- 100 -->\n      <g transform=\"translate(150.231602 254.356562)scale(0.1 -0.1)\">\n       <defs>\n        <path d=\"M 12.40625 8.296875 \nL 28.515625 8.296875 \nL 28.515625 63.921875 \nL 10.984375 60.40625 \nL 10.984375 69.390625 \nL 28.421875 72.90625 \nL 38.28125 72.90625 \nL 38.28125 8.296875 \nL 54.390625 8.296875 \nL 54.390625 0 \nL 12.40625 0 \nz\n\" id=\"DejaVuSans-49\"/>\n       </defs>\n       <use xlink:href=\"#DejaVuSans-49\"/>\n       <use x=\"63.623047\" xlink:href=\"#DejaVuSans-48\"/>\n       <use x=\"127.246094\" xlink:href=\"#DejaVuSans-48\"/>\n      </g>\n     </g>\n    </g>\n    <g id=\"xtick_4\">\n     <g id=\"line2d_4\">\n      <g>\n       <use style=\"stroke:#000000;stroke-width:0.8;\" x=\"210.672281\" xlink:href=\"#med77fc10a9\" y=\"239.758125\"/>\n      </g>\n     </g>\n     <g id=\"text_4\">\n      <!-- 150 -->\n      <g transform=\"translate(201.128531 254.356562)scale(0.1 -0.1)\">\n       <use xlink:href=\"#DejaVuSans-49\"/>\n       <use x=\"63.623047\" xlink:href=\"#DejaVuSans-53\"/>\n       <use x=\"127.246094\" xlink:href=\"#DejaVuSans-48\"/>\n      </g>\n     </g>\n    </g>\n    <g id=\"xtick_5\">\n     <g id=\"line2d_5\">\n      <g>\n       <use style=\"stroke:#000000;stroke-width:0.8;\" x=\"261.56921\" xlink:href=\"#med77fc10a9\" y=\"239.758125\"/>\n      </g>\n     </g>\n     <g id=\"text_5\">\n      <!-- 200 -->\n      <g transform=\"translate(252.02546 254.356562)scale(0.1 -0.1)\">\n       <defs>\n        <path d=\"M 19.1875 8.296875 \nL 53.609375 8.296875 \nL 53.609375 0 \nL 7.328125 0 \nL 7.328125 8.296875 \nQ 12.9375 14.109375 22.625 23.890625 \nQ 32.328125 33.6875 34.8125 36.53125 \nQ 39.546875 41.84375 41.421875 45.53125 \nQ 43.3125 49.21875 43.3125 52.78125 \nQ 43.3125 58.59375 39.234375 62.25 \nQ 35.15625 65.921875 28.609375 65.921875 \nQ 23.96875 65.921875 18.8125 64.3125 \nQ 13.671875 62.703125 7.8125 59.421875 \nL 7.8125 69.390625 \nQ 13.765625 71.78125 18.9375 73 \nQ 24.125 74.21875 28.421875 74.21875 \nQ 39.75 74.21875 46.484375 68.546875 \nQ 53.21875 62.890625 53.21875 53.421875 \nQ 53.21875 48.921875 51.53125 44.890625 \nQ 49.859375 40.875 45.40625 35.40625 \nQ 44.1875 33.984375 37.640625 27.21875 \nQ 31.109375 20.453125 19.1875 8.296875 \nz\n\" id=\"DejaVuSans-50\"/>\n       </defs>\n       <use xlink:href=\"#DejaVuSans-50\"/>\n       <use x=\"63.623047\" xlink:href=\"#DejaVuSans-48\"/>\n       <use x=\"127.246094\" xlink:href=\"#DejaVuSans-48\"/>\n      </g>\n     </g>\n    </g>\n    <g id=\"xtick_6\">\n     <g id=\"line2d_6\">\n      <g>\n       <use style=\"stroke:#000000;stroke-width:0.8;\" x=\"312.466139\" xlink:href=\"#med77fc10a9\" y=\"239.758125\"/>\n      </g>\n     </g>\n     <g id=\"text_6\">\n      <!-- 250 -->\n      <g transform=\"translate(302.922389 254.356562)scale(0.1 -0.1)\">\n       <use xlink:href=\"#DejaVuSans-50\"/>\n       <use x=\"63.623047\" xlink:href=\"#DejaVuSans-53\"/>\n       <use x=\"127.246094\" xlink:href=\"#DejaVuSans-48\"/>\n      </g>\n     </g>\n    </g>\n    <g id=\"xtick_7\">\n     <g id=\"line2d_7\">\n      <g>\n       <use style=\"stroke:#000000;stroke-width:0.8;\" x=\"363.363068\" xlink:href=\"#med77fc10a9\" y=\"239.758125\"/>\n      </g>\n     </g>\n     <g id=\"text_7\">\n      <!-- 300 -->\n      <g transform=\"translate(353.819318 254.356562)scale(0.1 -0.1)\">\n       <defs>\n        <path d=\"M 40.578125 39.3125 \nQ 47.65625 37.796875 51.625 33 \nQ 55.609375 28.21875 55.609375 21.1875 \nQ 55.609375 10.40625 48.1875 4.484375 \nQ 40.765625 -1.421875 27.09375 -1.421875 \nQ 22.515625 -1.421875 17.65625 -0.515625 \nQ 12.796875 0.390625 7.625 2.203125 \nL 7.625 11.71875 \nQ 11.71875 9.328125 16.59375 8.109375 \nQ 21.484375 6.890625 26.8125 6.890625 \nQ 36.078125 6.890625 40.9375 10.546875 \nQ 45.796875 14.203125 45.796875 21.1875 \nQ 45.796875 27.640625 41.28125 31.265625 \nQ 36.765625 34.90625 28.71875 34.90625 \nL 20.21875 34.90625 \nL 20.21875 43.015625 \nL 29.109375 43.015625 \nQ 36.375 43.015625 40.234375 45.921875 \nQ 44.09375 48.828125 44.09375 54.296875 \nQ 44.09375 59.90625 40.109375 62.90625 \nQ 36.140625 65.921875 28.71875 65.921875 \nQ 24.65625 65.921875 20.015625 65.03125 \nQ 15.375 64.15625 9.8125 62.3125 \nL 9.8125 71.09375 \nQ 15.4375 72.65625 20.34375 73.4375 \nQ 25.25 74.21875 29.59375 74.21875 \nQ 40.828125 74.21875 47.359375 69.109375 \nQ 53.90625 64.015625 53.90625 55.328125 \nQ 53.90625 49.265625 50.4375 45.09375 \nQ 46.96875 40.921875 40.578125 39.3125 \nz\n\" id=\"DejaVuSans-51\"/>\n       </defs>\n       <use xlink:href=\"#DejaVuSans-51\"/>\n       <use x=\"63.623047\" xlink:href=\"#DejaVuSans-48\"/>\n       <use x=\"127.246094\" xlink:href=\"#DejaVuSans-48\"/>\n      </g>\n     </g>\n    </g>\n    <g id=\"text_8\">\n     <!-- k -->\n     <g transform=\"translate(208.285938 268.034687)scale(0.1 -0.1)\">\n      <defs>\n       <path d=\"M 9.078125 75.984375 \nL 18.109375 75.984375 \nL 18.109375 31.109375 \nL 44.921875 54.6875 \nL 56.390625 54.6875 \nL 27.390625 29.109375 \nL 57.625 0 \nL 45.90625 0 \nL 18.109375 26.703125 \nL 18.109375 0 \nL 9.078125 0 \nz\n\" id=\"DejaVuSans-107\"/>\n      </defs>\n      <use xlink:href=\"#DejaVuSans-107\"/>\n     </g>\n    </g>\n   </g>\n   <g id=\"matplotlib.axis_2\">\n    <g id=\"ytick_1\">\n     <g id=\"line2d_8\">\n      <defs>\n       <path d=\"M 0 0 \nL -3.5 0 \n\" id=\"mbf909cf0b8\" style=\"stroke:#000000;stroke-width:0.8;\"/>\n      </defs>\n      <g>\n       <use style=\"stroke:#000000;stroke-width:0.8;\" x=\"43.78125\" xlink:href=\"#mbf909cf0b8\" y=\"207.393418\"/>\n      </g>\n     </g>\n     <g id=\"text_9\">\n      <!-- 0.4 -->\n      <g transform=\"translate(20.878125 211.192637)scale(0.1 -0.1)\">\n       <defs>\n        <path d=\"M 10.6875 12.40625 \nL 21 12.40625 \nL 21 0 \nL 10.6875 0 \nz\n\" id=\"DejaVuSans-46\"/>\n        <path d=\"M 37.796875 64.3125 \nL 12.890625 25.390625 \nL 37.796875 25.390625 \nz\nM 35.203125 72.90625 \nL 47.609375 72.90625 \nL 47.609375 25.390625 \nL 58.015625 25.390625 \nL 58.015625 17.1875 \nL 47.609375 17.1875 \nL 47.609375 0 \nL 37.796875 0 \nL 37.796875 17.1875 \nL 4.890625 17.1875 \nL 4.890625 26.703125 \nz\n\" id=\"DejaVuSans-52\"/>\n       </defs>\n       <use xlink:href=\"#DejaVuSans-48\"/>\n       <use x=\"63.623047\" xlink:href=\"#DejaVuSans-46\"/>\n       <use x=\"95.410156\" xlink:href=\"#DejaVuSans-52\"/>\n      </g>\n     </g>\n    </g>\n    <g id=\"ytick_2\">\n     <g id=\"line2d_9\">\n      <g>\n       <use style=\"stroke:#000000;stroke-width:0.8;\" x=\"43.78125\" xlink:href=\"#mbf909cf0b8\" y=\"160.019032\"/>\n      </g>\n     </g>\n     <g id=\"text_10\">\n      <!-- 0.5 -->\n      <g transform=\"translate(20.878125 163.81825)scale(0.1 -0.1)\">\n       <use xlink:href=\"#DejaVuSans-48\"/>\n       <use x=\"63.623047\" xlink:href=\"#DejaVuSans-46\"/>\n       <use x=\"95.410156\" xlink:href=\"#DejaVuSans-53\"/>\n      </g>\n     </g>\n    </g>\n    <g id=\"ytick_3\">\n     <g id=\"line2d_10\">\n      <g>\n       <use style=\"stroke:#000000;stroke-width:0.8;\" x=\"43.78125\" xlink:href=\"#mbf909cf0b8\" y=\"112.644645\"/>\n      </g>\n     </g>\n     <g id=\"text_11\">\n      <!-- 0.6 -->\n      <g transform=\"translate(20.878125 116.443864)scale(0.1 -0.1)\">\n       <defs>\n        <path d=\"M 33.015625 40.375 \nQ 26.375 40.375 22.484375 35.828125 \nQ 18.609375 31.296875 18.609375 23.390625 \nQ 18.609375 15.53125 22.484375 10.953125 \nQ 26.375 6.390625 33.015625 6.390625 \nQ 39.65625 6.390625 43.53125 10.953125 \nQ 47.40625 15.53125 47.40625 23.390625 \nQ 47.40625 31.296875 43.53125 35.828125 \nQ 39.65625 40.375 33.015625 40.375 \nz\nM 52.59375 71.296875 \nL 52.59375 62.3125 \nQ 48.875 64.0625 45.09375 64.984375 \nQ 41.3125 65.921875 37.59375 65.921875 \nQ 27.828125 65.921875 22.671875 59.328125 \nQ 17.53125 52.734375 16.796875 39.40625 \nQ 19.671875 43.65625 24.015625 45.921875 \nQ 28.375 48.1875 33.59375 48.1875 \nQ 44.578125 48.1875 50.953125 41.515625 \nQ 57.328125 34.859375 57.328125 23.390625 \nQ 57.328125 12.15625 50.6875 5.359375 \nQ 44.046875 -1.421875 33.015625 -1.421875 \nQ 20.359375 -1.421875 13.671875 8.265625 \nQ 6.984375 17.96875 6.984375 36.375 \nQ 6.984375 53.65625 15.1875 63.9375 \nQ 23.390625 74.21875 37.203125 74.21875 \nQ 40.921875 74.21875 44.703125 73.484375 \nQ 48.484375 72.75 52.59375 71.296875 \nz\n\" id=\"DejaVuSans-54\"/>\n       </defs>\n       <use xlink:href=\"#DejaVuSans-48\"/>\n       <use x=\"63.623047\" xlink:href=\"#DejaVuSans-46\"/>\n       <use x=\"95.410156\" xlink:href=\"#DejaVuSans-54\"/>\n      </g>\n     </g>\n    </g>\n    <g id=\"ytick_4\">\n     <g id=\"line2d_11\">\n      <g>\n       <use style=\"stroke:#000000;stroke-width:0.8;\" x=\"43.78125\" xlink:href=\"#mbf909cf0b8\" y=\"65.270259\"/>\n      </g>\n     </g>\n     <g id=\"text_12\">\n      <!-- 0.7 -->\n      <g transform=\"translate(20.878125 69.069477)scale(0.1 -0.1)\">\n       <defs>\n        <path d=\"M 8.203125 72.90625 \nL 55.078125 72.90625 \nL 55.078125 68.703125 \nL 28.609375 0 \nL 18.3125 0 \nL 43.21875 64.59375 \nL 8.203125 64.59375 \nz\n\" id=\"DejaVuSans-55\"/>\n       </defs>\n       <use xlink:href=\"#DejaVuSans-48\"/>\n       <use x=\"63.623047\" xlink:href=\"#DejaVuSans-46\"/>\n       <use x=\"95.410156\" xlink:href=\"#DejaVuSans-55\"/>\n      </g>\n     </g>\n    </g>\n    <g id=\"text_13\">\n     <!-- pearson -->\n     <g transform=\"translate(14.798438 151.24125)rotate(-90)scale(0.1 -0.1)\">\n      <defs>\n       <path d=\"M 18.109375 8.203125 \nL 18.109375 -20.796875 \nL 9.078125 -20.796875 \nL 9.078125 54.6875 \nL 18.109375 54.6875 \nL 18.109375 46.390625 \nQ 20.953125 51.265625 25.265625 53.625 \nQ 29.59375 56 35.59375 56 \nQ 45.5625 56 51.78125 48.09375 \nQ 58.015625 40.1875 58.015625 27.296875 \nQ 58.015625 14.40625 51.78125 6.484375 \nQ 45.5625 -1.421875 35.59375 -1.421875 \nQ 29.59375 -1.421875 25.265625 0.953125 \nQ 20.953125 3.328125 18.109375 8.203125 \nz\nM 48.6875 27.296875 \nQ 48.6875 37.203125 44.609375 42.84375 \nQ 40.53125 48.484375 33.40625 48.484375 \nQ 26.265625 48.484375 22.1875 42.84375 \nQ 18.109375 37.203125 18.109375 27.296875 \nQ 18.109375 17.390625 22.1875 11.75 \nQ 26.265625 6.109375 33.40625 6.109375 \nQ 40.53125 6.109375 44.609375 11.75 \nQ 48.6875 17.390625 48.6875 27.296875 \nz\n\" id=\"DejaVuSans-112\"/>\n       <path d=\"M 56.203125 29.59375 \nL 56.203125 25.203125 \nL 14.890625 25.203125 \nQ 15.484375 15.921875 20.484375 11.0625 \nQ 25.484375 6.203125 34.421875 6.203125 \nQ 39.59375 6.203125 44.453125 7.46875 \nQ 49.3125 8.734375 54.109375 11.28125 \nL 54.109375 2.78125 \nQ 49.265625 0.734375 44.1875 -0.34375 \nQ 39.109375 -1.421875 33.890625 -1.421875 \nQ 20.796875 -1.421875 13.15625 6.1875 \nQ 5.515625 13.8125 5.515625 26.8125 \nQ 5.515625 40.234375 12.765625 48.109375 \nQ 20.015625 56 32.328125 56 \nQ 43.359375 56 49.78125 48.890625 \nQ 56.203125 41.796875 56.203125 29.59375 \nz\nM 47.21875 32.234375 \nQ 47.125 39.59375 43.09375 43.984375 \nQ 39.0625 48.390625 32.421875 48.390625 \nQ 24.90625 48.390625 20.390625 44.140625 \nQ 15.875 39.890625 15.1875 32.171875 \nz\n\" id=\"DejaVuSans-101\"/>\n       <path d=\"M 34.28125 27.484375 \nQ 23.390625 27.484375 19.1875 25 \nQ 14.984375 22.515625 14.984375 16.5 \nQ 14.984375 11.71875 18.140625 8.90625 \nQ 21.296875 6.109375 26.703125 6.109375 \nQ 34.1875 6.109375 38.703125 11.40625 \nQ 43.21875 16.703125 43.21875 25.484375 \nL 43.21875 27.484375 \nz\nM 52.203125 31.203125 \nL 52.203125 0 \nL 43.21875 0 \nL 43.21875 8.296875 \nQ 40.140625 3.328125 35.546875 0.953125 \nQ 30.953125 -1.421875 24.3125 -1.421875 \nQ 15.921875 -1.421875 10.953125 3.296875 \nQ 6 8.015625 6 15.921875 \nQ 6 25.140625 12.171875 29.828125 \nQ 18.359375 34.515625 30.609375 34.515625 \nL 43.21875 34.515625 \nL 43.21875 35.40625 \nQ 43.21875 41.609375 39.140625 45 \nQ 35.0625 48.390625 27.6875 48.390625 \nQ 23 48.390625 18.546875 47.265625 \nQ 14.109375 46.140625 10.015625 43.890625 \nL 10.015625 52.203125 \nQ 14.9375 54.109375 19.578125 55.046875 \nQ 24.21875 56 28.609375 56 \nQ 40.484375 56 46.34375 49.84375 \nQ 52.203125 43.703125 52.203125 31.203125 \nz\n\" id=\"DejaVuSans-97\"/>\n       <path d=\"M 41.109375 46.296875 \nQ 39.59375 47.171875 37.8125 47.578125 \nQ 36.03125 48 33.890625 48 \nQ 26.265625 48 22.1875 43.046875 \nQ 18.109375 38.09375 18.109375 28.8125 \nL 18.109375 0 \nL 9.078125 0 \nL 9.078125 54.6875 \nL 18.109375 54.6875 \nL 18.109375 46.1875 \nQ 20.953125 51.171875 25.484375 53.578125 \nQ 30.03125 56 36.53125 56 \nQ 37.453125 56 38.578125 55.875 \nQ 39.703125 55.765625 41.0625 55.515625 \nz\n\" id=\"DejaVuSans-114\"/>\n       <path d=\"M 44.28125 53.078125 \nL 44.28125 44.578125 \nQ 40.484375 46.53125 36.375 47.5 \nQ 32.28125 48.484375 27.875 48.484375 \nQ 21.1875 48.484375 17.84375 46.4375 \nQ 14.5 44.390625 14.5 40.28125 \nQ 14.5 37.15625 16.890625 35.375 \nQ 19.28125 33.59375 26.515625 31.984375 \nL 29.59375 31.296875 \nQ 39.15625 29.25 43.1875 25.515625 \nQ 47.21875 21.78125 47.21875 15.09375 \nQ 47.21875 7.46875 41.1875 3.015625 \nQ 35.15625 -1.421875 24.609375 -1.421875 \nQ 20.21875 -1.421875 15.453125 -0.5625 \nQ 10.6875 0.296875 5.421875 2 \nL 5.421875 11.28125 \nQ 10.40625 8.6875 15.234375 7.390625 \nQ 20.0625 6.109375 24.8125 6.109375 \nQ 31.15625 6.109375 34.5625 8.28125 \nQ 37.984375 10.453125 37.984375 14.40625 \nQ 37.984375 18.0625 35.515625 20.015625 \nQ 33.0625 21.96875 24.703125 23.78125 \nL 21.578125 24.515625 \nQ 13.234375 26.265625 9.515625 29.90625 \nQ 5.8125 33.546875 5.8125 39.890625 \nQ 5.8125 47.609375 11.28125 51.796875 \nQ 16.75 56 26.8125 56 \nQ 31.78125 56 36.171875 55.265625 \nQ 40.578125 54.546875 44.28125 53.078125 \nz\n\" id=\"DejaVuSans-115\"/>\n       <path d=\"M 30.609375 48.390625 \nQ 23.390625 48.390625 19.1875 42.75 \nQ 14.984375 37.109375 14.984375 27.296875 \nQ 14.984375 17.484375 19.15625 11.84375 \nQ 23.34375 6.203125 30.609375 6.203125 \nQ 37.796875 6.203125 41.984375 11.859375 \nQ 46.1875 17.53125 46.1875 27.296875 \nQ 46.1875 37.015625 41.984375 42.703125 \nQ 37.796875 48.390625 30.609375 48.390625 \nz\nM 30.609375 56 \nQ 42.328125 56 49.015625 48.375 \nQ 55.71875 40.765625 55.71875 27.296875 \nQ 55.71875 13.875 49.015625 6.21875 \nQ 42.328125 -1.421875 30.609375 -1.421875 \nQ 18.84375 -1.421875 12.171875 6.21875 \nQ 5.515625 13.875 5.515625 27.296875 \nQ 5.515625 40.765625 12.171875 48.375 \nQ 18.84375 56 30.609375 56 \nz\n\" id=\"DejaVuSans-111\"/>\n       <path d=\"M 54.890625 33.015625 \nL 54.890625 0 \nL 45.90625 0 \nL 45.90625 32.71875 \nQ 45.90625 40.484375 42.875 44.328125 \nQ 39.84375 48.1875 33.796875 48.1875 \nQ 26.515625 48.1875 22.3125 43.546875 \nQ 18.109375 38.921875 18.109375 30.90625 \nL 18.109375 0 \nL 9.078125 0 \nL 9.078125 54.6875 \nL 18.109375 54.6875 \nL 18.109375 46.1875 \nQ 21.34375 51.125 25.703125 53.5625 \nQ 30.078125 56 35.796875 56 \nQ 45.21875 56 50.046875 50.171875 \nQ 54.890625 44.34375 54.890625 33.015625 \nz\n\" id=\"DejaVuSans-110\"/>\n      </defs>\n      <use xlink:href=\"#DejaVuSans-112\"/>\n      <use x=\"63.476562\" xlink:href=\"#DejaVuSans-101\"/>\n      <use x=\"125\" xlink:href=\"#DejaVuSans-97\"/>\n      <use x=\"186.279297\" xlink:href=\"#DejaVuSans-114\"/>\n      <use x=\"227.392578\" xlink:href=\"#DejaVuSans-115\"/>\n      <use x=\"279.492188\" xlink:href=\"#DejaVuSans-111\"/>\n      <use x=\"340.673828\" xlink:href=\"#DejaVuSans-110\"/>\n     </g>\n    </g>\n   </g>\n   <g id=\"line2d_12\">\n    <path clip-path=\"url(#pc3d1b31cc4)\" d=\"M 58.999432 229.874489 \nL 60.01737 220.985838 \nL 62.053248 218.238374 \nL 63.071186 85.149172 \nL 64.089125 83.330796 \nL 65.107063 82.60219 \nL 66.125002 82.456682 \nL 67.14294 81.137171 \nL 69.178818 82.001511 \nL 70.196756 78.530757 \nL 73.250572 78.306159 \nL 74.268511 63.09701 \nL 75.286449 62.701866 \nL 76.304388 61.573814 \nL 79.358203 61.378953 \nL 80.376142 62.017581 \nL 82.412019 59.11042 \nL 83.429958 58.799522 \nL 84.447896 55.716044 \nL 86.483774 55.634286 \nL 87.501712 55.716956 \nL 89.537589 55.48746 \nL 90.555528 53.172512 \nL 92.591405 53.338306 \nL 95.645221 53.437569 \nL 96.663159 53.467679 \nL 97.681098 53.647941 \nL 99.716975 53.595305 \nL 101.752852 53.796991 \nL 102.770791 53.940421 \nL 104.806668 54.0576 \nL 105.824607 53.526755 \nL 106.842545 53.87983 \nL 108.878422 53.839732 \nL 109.896361 53.534486 \nL 112.950177 53.497644 \nL 113.968115 52.162827 \nL 114.986054 51.321533 \nL 116.003992 51.321533 \nL 117.021931 51.008891 \nL 118.03987 51.415897 \nL 119.057808 48.845408 \nL 120.075747 47.994037 \nL 121.093685 45.315435 \nL 122.111624 43.961352 \nL 123.129563 44.031734 \nL 125.16544 43.936053 \nL 127.201317 43.992139 \nL 129.237194 44.36477 \nL 132.29101 44.195301 \nL 133.308948 44.293091 \nL 134.326887 42.91955 \nL 135.344826 42.941234 \nL 136.362764 42.366105 \nL 139.41658 42.251881 \nL 140.434518 41.676865 \nL 141.452457 41.82379 \nL 144.506273 41.56698 \nL 146.54215 41.588635 \nL 147.560089 41.154245 \nL 148.578027 41.137729 \nL 149.595966 41.268276 \nL 150.613904 41.211776 \nL 151.631843 41.501604 \nL 152.649781 41.395247 \nL 155.703597 41.725814 \nL 156.721536 41.549906 \nL 157.739474 41.547354 \nL 158.757413 41.338191 \nL 159.775352 41.379147 \nL 160.79329 41.166164 \nL 164.865044 41.10993 \nL 165.882983 40.676854 \nL 168.936799 40.602747 \nL 170.972676 40.243755 \nL 171.990615 40.228226 \nL 173.008553 40.038117 \nL 174.026492 40.031173 \nL 175.04443 40.323216 \nL 176.062369 40.340289 \nL 177.080307 39.854295 \nL 181.152062 39.842513 \nL 183.187939 39.611437 \nL 185.223816 39.615984 \nL 186.241755 39.425475 \nL 187.259693 40.199632 \nL 189.29557 40.161809 \nL 190.313509 40.192699 \nL 191.331448 39.49218 \nL 193.367325 39.513687 \nL 194.385263 39.393009 \nL 196.421141 39.355624 \nL 199.474956 39.380335 \nL 200.492895 39.515817 \nL 202.528772 39.439677 \nL 203.546711 39.156548 \nL 204.564649 39.333224 \nL 205.582588 39.087717 \nL 206.600526 38.429996 \nL 207.618465 38.364178 \nL 208.636404 37.840259 \nL 209.654342 38.014423 \nL 210.672281 38.049262 \nL 212.708158 36.539512 \nL 214.744035 36.847242 \nL 215.761974 36.828261 \nL 216.779912 36.629073 \nL 217.797851 36.697028 \nL 218.815789 36.162913 \nL 224.923421 36.107103 \nL 227.977237 36.243274 \nL 230.013114 36.2334 \nL 231.031052 35.499602 \nL 235.102807 35.51382 \nL 236.120745 34.605851 \nL 237.138684 34.550387 \nL 239.174561 34.727384 \nL 240.1925 34.725891 \nL 243.246315 34.255411 \nL 244.264254 34.204897 \nL 245.282193 34.330232 \nL 246.300131 34.335779 \nL 247.31807 34.721231 \nL 252.407763 34.948639 \nL 253.425701 34.282452 \nL 255.461578 34.214856 \nL 256.479517 34.045977 \nL 257.497456 34.486293 \nL 258.515394 35.265486 \nL 260.551271 35.347546 \nL 261.56921 34.708384 \nL 262.587148 34.530551 \nL 263.605087 34.585705 \nL 264.623026 34.42475 \nL 268.69478 34.462495 \nL 269.712719 34.582644 \nL 271.748596 34.545407 \nL 272.766534 34.756293 \nL 273.784473 34.59582 \nL 274.802411 34.291128 \nL 275.82035 33.77505 \nL 276.838289 33.719686 \nL 277.856227 33.439789 \nL 278.874166 33.46944 \nL 279.892104 33.63419 \nL 280.910043 33.480814 \nL 281.927982 33.123257 \nL 282.94592 32.927163 \nL 289.053552 32.681925 \nL 291.089429 32.735444 \nL 292.107367 32.379121 \nL 293.125306 32.201761 \nL 299.232937 32.45556 \nL 300.250876 32.644277 \nL 301.268815 32.474151 \nL 302.286753 32.53649 \nL 303.304692 32.766453 \nL 304.32263 32.388192 \nL 305.340569 32.599505 \nL 308.394385 32.849775 \nL 309.412323 32.651464 \nL 310.430262 32.568695 \nL 312.466139 32.672952 \nL 313.484078 33.020116 \nL 314.502016 32.762238 \nL 316.537893 32.810111 \nL 317.555832 32.589196 \nL 318.573771 32.536766 \nL 321.627586 33.002457 \nL 322.645525 32.930618 \nL 323.663463 33.061871 \nL 326.717279 33.088727 \nL 327.735218 33.13403 \nL 328.753156 33.375694 \nL 331.806972 33.457945 \nL 333.842849 33.602849 \nL 334.860788 33.505359 \nL 335.878726 33.704506 \nL 344.022235 33.70393 \nL 345.040174 33.506246 \nL 349.111928 33.375341 \nL 350.129867 33.543492 \nL 351.147805 33.542018 \nL 352.165744 33.668074 \nL 355.21956 33.538028 \nL 356.237498 33.601116 \nL 357.255437 33.804993 \nL 358.273375 33.808832 \nL 359.291314 33.663852 \nL 360.309252 33.398309 \nL 361.327191 33.405423 \nL 363.363068 33.605202 \nL 363.363068 33.605202 \n\" style=\"fill:none;stroke:#1f77b4;stroke-linecap:square;stroke-width:1.5;\"/>\n   </g>\n   <g id=\"patch_3\">\n    <path d=\"M 43.78125 239.758125 \nL 43.78125 22.318125 \n\" style=\"fill:none;stroke:#000000;stroke-linecap:square;stroke-linejoin:miter;stroke-width:0.8;\"/>\n   </g>\n   <g id=\"patch_4\">\n    <path d=\"M 378.58125 239.758125 \nL 378.58125 22.318125 \n\" style=\"fill:none;stroke:#000000;stroke-linecap:square;stroke-linejoin:miter;stroke-width:0.8;\"/>\n   </g>\n   <g id=\"patch_5\">\n    <path d=\"M 43.78125 239.758125 \nL 378.58125 239.758125 \n\" style=\"fill:none;stroke:#000000;stroke-linecap:square;stroke-linejoin:miter;stroke-width:0.8;\"/>\n   </g>\n   <g id=\"patch_6\">\n    <path d=\"M 43.78125 22.318125 \nL 378.58125 22.318125 \n\" style=\"fill:none;stroke:#000000;stroke-linecap:square;stroke-linejoin:miter;stroke-width:0.8;\"/>\n   </g>\n   <g id=\"text_14\">\n    <!-- Filter method: K-best by mutual information -->\n    <g transform=\"translate(80.011875 16.318125)scale(0.12 -0.12)\">\n     <defs>\n      <path d=\"M 9.8125 72.90625 \nL 51.703125 72.90625 \nL 51.703125 64.59375 \nL 19.671875 64.59375 \nL 19.671875 43.109375 \nL 48.578125 43.109375 \nL 48.578125 34.8125 \nL 19.671875 34.8125 \nL 19.671875 0 \nL 9.8125 0 \nz\n\" id=\"DejaVuSans-70\"/>\n      <path d=\"M 9.421875 54.6875 \nL 18.40625 54.6875 \nL 18.40625 0 \nL 9.421875 0 \nz\nM 9.421875 75.984375 \nL 18.40625 75.984375 \nL 18.40625 64.59375 \nL 9.421875 64.59375 \nz\n\" id=\"DejaVuSans-105\"/>\n      <path d=\"M 9.421875 75.984375 \nL 18.40625 75.984375 \nL 18.40625 0 \nL 9.421875 0 \nz\n\" id=\"DejaVuSans-108\"/>\n      <path d=\"M 18.3125 70.21875 \nL 18.3125 54.6875 \nL 36.8125 54.6875 \nL 36.8125 47.703125 \nL 18.3125 47.703125 \nL 18.3125 18.015625 \nQ 18.3125 11.328125 20.140625 9.421875 \nQ 21.96875 7.515625 27.59375 7.515625 \nL 36.8125 7.515625 \nL 36.8125 0 \nL 27.59375 0 \nQ 17.1875 0 13.234375 3.875 \nQ 9.28125 7.765625 9.28125 18.015625 \nL 9.28125 47.703125 \nL 2.6875 47.703125 \nL 2.6875 54.6875 \nL 9.28125 54.6875 \nL 9.28125 70.21875 \nz\n\" id=\"DejaVuSans-116\"/>\n      <path id=\"DejaVuSans-32\"/>\n      <path d=\"M 52 44.1875 \nQ 55.375 50.25 60.0625 53.125 \nQ 64.75 56 71.09375 56 \nQ 79.640625 56 84.28125 50.015625 \nQ 88.921875 44.046875 88.921875 33.015625 \nL 88.921875 0 \nL 79.890625 0 \nL 79.890625 32.71875 \nQ 79.890625 40.578125 77.09375 44.375 \nQ 74.3125 48.1875 68.609375 48.1875 \nQ 61.625 48.1875 57.5625 43.546875 \nQ 53.515625 38.921875 53.515625 30.90625 \nL 53.515625 0 \nL 44.484375 0 \nL 44.484375 32.71875 \nQ 44.484375 40.625 41.703125 44.40625 \nQ 38.921875 48.1875 33.109375 48.1875 \nQ 26.21875 48.1875 22.15625 43.53125 \nQ 18.109375 38.875 18.109375 30.90625 \nL 18.109375 0 \nL 9.078125 0 \nL 9.078125 54.6875 \nL 18.109375 54.6875 \nL 18.109375 46.1875 \nQ 21.1875 51.21875 25.484375 53.609375 \nQ 29.78125 56 35.6875 56 \nQ 41.65625 56 45.828125 52.96875 \nQ 50 49.953125 52 44.1875 \nz\n\" id=\"DejaVuSans-109\"/>\n      <path d=\"M 54.890625 33.015625 \nL 54.890625 0 \nL 45.90625 0 \nL 45.90625 32.71875 \nQ 45.90625 40.484375 42.875 44.328125 \nQ 39.84375 48.1875 33.796875 48.1875 \nQ 26.515625 48.1875 22.3125 43.546875 \nQ 18.109375 38.921875 18.109375 30.90625 \nL 18.109375 0 \nL 9.078125 0 \nL 9.078125 75.984375 \nL 18.109375 75.984375 \nL 18.109375 46.1875 \nQ 21.34375 51.125 25.703125 53.5625 \nQ 30.078125 56 35.796875 56 \nQ 45.21875 56 50.046875 50.171875 \nQ 54.890625 44.34375 54.890625 33.015625 \nz\n\" id=\"DejaVuSans-104\"/>\n      <path d=\"M 45.40625 46.390625 \nL 45.40625 75.984375 \nL 54.390625 75.984375 \nL 54.390625 0 \nL 45.40625 0 \nL 45.40625 8.203125 \nQ 42.578125 3.328125 38.25 0.953125 \nQ 33.9375 -1.421875 27.875 -1.421875 \nQ 17.96875 -1.421875 11.734375 6.484375 \nQ 5.515625 14.40625 5.515625 27.296875 \nQ 5.515625 40.1875 11.734375 48.09375 \nQ 17.96875 56 27.875 56 \nQ 33.9375 56 38.25 53.625 \nQ 42.578125 51.265625 45.40625 46.390625 \nz\nM 14.796875 27.296875 \nQ 14.796875 17.390625 18.875 11.75 \nQ 22.953125 6.109375 30.078125 6.109375 \nQ 37.203125 6.109375 41.296875 11.75 \nQ 45.40625 17.390625 45.40625 27.296875 \nQ 45.40625 37.203125 41.296875 42.84375 \nQ 37.203125 48.484375 30.078125 48.484375 \nQ 22.953125 48.484375 18.875 42.84375 \nQ 14.796875 37.203125 14.796875 27.296875 \nz\n\" id=\"DejaVuSans-100\"/>\n      <path d=\"M 11.71875 12.40625 \nL 22.015625 12.40625 \nL 22.015625 0 \nL 11.71875 0 \nz\nM 11.71875 51.703125 \nL 22.015625 51.703125 \nL 22.015625 39.3125 \nL 11.71875 39.3125 \nz\n\" id=\"DejaVuSans-58\"/>\n      <path d=\"M 9.8125 72.90625 \nL 19.671875 72.90625 \nL 19.671875 42.09375 \nL 52.390625 72.90625 \nL 65.09375 72.90625 \nL 28.90625 38.921875 \nL 67.671875 0 \nL 54.6875 0 \nL 19.671875 35.109375 \nL 19.671875 0 \nL 9.8125 0 \nz\n\" id=\"DejaVuSans-75\"/>\n      <path d=\"M 4.890625 31.390625 \nL 31.203125 31.390625 \nL 31.203125 23.390625 \nL 4.890625 23.390625 \nz\n\" id=\"DejaVuSans-45\"/>\n      <path d=\"M 48.6875 27.296875 \nQ 48.6875 37.203125 44.609375 42.84375 \nQ 40.53125 48.484375 33.40625 48.484375 \nQ 26.265625 48.484375 22.1875 42.84375 \nQ 18.109375 37.203125 18.109375 27.296875 \nQ 18.109375 17.390625 22.1875 11.75 \nQ 26.265625 6.109375 33.40625 6.109375 \nQ 40.53125 6.109375 44.609375 11.75 \nQ 48.6875 17.390625 48.6875 27.296875 \nz\nM 18.109375 46.390625 \nQ 20.953125 51.265625 25.265625 53.625 \nQ 29.59375 56 35.59375 56 \nQ 45.5625 56 51.78125 48.09375 \nQ 58.015625 40.1875 58.015625 27.296875 \nQ 58.015625 14.40625 51.78125 6.484375 \nQ 45.5625 -1.421875 35.59375 -1.421875 \nQ 29.59375 -1.421875 25.265625 0.953125 \nQ 20.953125 3.328125 18.109375 8.203125 \nL 18.109375 0 \nL 9.078125 0 \nL 9.078125 75.984375 \nL 18.109375 75.984375 \nz\n\" id=\"DejaVuSans-98\"/>\n      <path d=\"M 32.171875 -5.078125 \nQ 28.375 -14.84375 24.75 -17.8125 \nQ 21.140625 -20.796875 15.09375 -20.796875 \nL 7.90625 -20.796875 \nL 7.90625 -13.28125 \nL 13.1875 -13.28125 \nQ 16.890625 -13.28125 18.9375 -11.515625 \nQ 21 -9.765625 23.484375 -3.21875 \nL 25.09375 0.875 \nL 2.984375 54.6875 \nL 12.5 54.6875 \nL 29.59375 11.921875 \nL 46.6875 54.6875 \nL 56.203125 54.6875 \nz\n\" id=\"DejaVuSans-121\"/>\n      <path d=\"M 8.5 21.578125 \nL 8.5 54.6875 \nL 17.484375 54.6875 \nL 17.484375 21.921875 \nQ 17.484375 14.15625 20.5 10.265625 \nQ 23.53125 6.390625 29.59375 6.390625 \nQ 36.859375 6.390625 41.078125 11.03125 \nQ 45.3125 15.671875 45.3125 23.6875 \nL 45.3125 54.6875 \nL 54.296875 54.6875 \nL 54.296875 0 \nL 45.3125 0 \nL 45.3125 8.40625 \nQ 42.046875 3.421875 37.71875 1 \nQ 33.40625 -1.421875 27.6875 -1.421875 \nQ 18.265625 -1.421875 13.375 4.4375 \nQ 8.5 10.296875 8.5 21.578125 \nz\nM 31.109375 56 \nz\n\" id=\"DejaVuSans-117\"/>\n      <path d=\"M 37.109375 75.984375 \nL 37.109375 68.5 \nL 28.515625 68.5 \nQ 23.6875 68.5 21.796875 66.546875 \nQ 19.921875 64.59375 19.921875 59.515625 \nL 19.921875 54.6875 \nL 34.71875 54.6875 \nL 34.71875 47.703125 \nL 19.921875 47.703125 \nL 19.921875 0 \nL 10.890625 0 \nL 10.890625 47.703125 \nL 2.296875 47.703125 \nL 2.296875 54.6875 \nL 10.890625 54.6875 \nL 10.890625 58.5 \nQ 10.890625 67.625 15.140625 71.796875 \nQ 19.390625 75.984375 28.609375 75.984375 \nz\n\" id=\"DejaVuSans-102\"/>\n     </defs>\n     <use xlink:href=\"#DejaVuSans-70\"/>\n     <use x=\"50.269531\" xlink:href=\"#DejaVuSans-105\"/>\n     <use x=\"78.052734\" xlink:href=\"#DejaVuSans-108\"/>\n     <use x=\"105.835938\" xlink:href=\"#DejaVuSans-116\"/>\n     <use x=\"145.044922\" xlink:href=\"#DejaVuSans-101\"/>\n     <use x=\"206.568359\" xlink:href=\"#DejaVuSans-114\"/>\n     <use x=\"247.681641\" xlink:href=\"#DejaVuSans-32\"/>\n     <use x=\"279.46875\" xlink:href=\"#DejaVuSans-109\"/>\n     <use x=\"376.880859\" xlink:href=\"#DejaVuSans-101\"/>\n     <use x=\"438.404297\" xlink:href=\"#DejaVuSans-116\"/>\n     <use x=\"477.613281\" xlink:href=\"#DejaVuSans-104\"/>\n     <use x=\"540.992188\" xlink:href=\"#DejaVuSans-111\"/>\n     <use x=\"602.173828\" xlink:href=\"#DejaVuSans-100\"/>\n     <use x=\"665.650391\" xlink:href=\"#DejaVuSans-58\"/>\n     <use x=\"699.341797\" xlink:href=\"#DejaVuSans-32\"/>\n     <use x=\"731.128906\" xlink:href=\"#DejaVuSans-75\"/>\n     <use x=\"786.205078\" xlink:href=\"#DejaVuSans-45\"/>\n     <use x=\"822.289062\" xlink:href=\"#DejaVuSans-98\"/>\n     <use x=\"885.765625\" xlink:href=\"#DejaVuSans-101\"/>\n     <use x=\"947.289062\" xlink:href=\"#DejaVuSans-115\"/>\n     <use x=\"999.388672\" xlink:href=\"#DejaVuSans-116\"/>\n     <use x=\"1038.597656\" xlink:href=\"#DejaVuSans-32\"/>\n     <use x=\"1070.384766\" xlink:href=\"#DejaVuSans-98\"/>\n     <use x=\"1133.861328\" xlink:href=\"#DejaVuSans-121\"/>\n     <use x=\"1193.041016\" xlink:href=\"#DejaVuSans-32\"/>\n     <use x=\"1224.828125\" xlink:href=\"#DejaVuSans-109\"/>\n     <use x=\"1322.240234\" xlink:href=\"#DejaVuSans-117\"/>\n     <use x=\"1385.619141\" xlink:href=\"#DejaVuSans-116\"/>\n     <use x=\"1424.828125\" xlink:href=\"#DejaVuSans-117\"/>\n     <use x=\"1488.207031\" xlink:href=\"#DejaVuSans-97\"/>\n     <use x=\"1549.486328\" xlink:href=\"#DejaVuSans-108\"/>\n     <use x=\"1577.269531\" xlink:href=\"#DejaVuSans-32\"/>\n     <use x=\"1609.056641\" xlink:href=\"#DejaVuSans-105\"/>\n     <use x=\"1636.839844\" xlink:href=\"#DejaVuSans-110\"/>\n     <use x=\"1700.21875\" xlink:href=\"#DejaVuSans-102\"/>\n     <use x=\"1735.423828\" xlink:href=\"#DejaVuSans-111\"/>\n     <use x=\"1796.605469\" xlink:href=\"#DejaVuSans-114\"/>\n     <use x=\"1835.96875\" xlink:href=\"#DejaVuSans-109\"/>\n     <use x=\"1933.380859\" xlink:href=\"#DejaVuSans-97\"/>\n     <use x=\"1994.660156\" xlink:href=\"#DejaVuSans-116\"/>\n     <use x=\"2033.869141\" xlink:href=\"#DejaVuSans-105\"/>\n     <use x=\"2061.652344\" xlink:href=\"#DejaVuSans-111\"/>\n     <use x=\"2122.833984\" xlink:href=\"#DejaVuSans-110\"/>\n    </g>\n   </g>\n  </g>\n </g>\n <defs>\n  <clipPath id=\"pc3d1b31cc4\">\n   <rect height=\"217.44\" width=\"334.8\" x=\"43.78125\" y=\"22.318125\"/>\n  </clipPath>\n </defs>\n</svg>\n",
      "image/png": "[encoded data removed]"
     },
     "metadata": {
      "needs_background": "light"
     }
    }
   ],
   "source": [
    "plt.plot(k_lst, pearson_lst)\n",
    "plt.title('Filter method: K-best by mutual information')\n",
    "plt.xlabel('k')\n",
    "plt.ylabel('pearson')"
   ]
  },
  {
   "cell_type": "code",
   "execution_count": null,
   "metadata": {},
   "outputs": [],
   "source": [
    "k = 300"
   ]
  },
  {
   "source": [
    "## Filter: Remove constant features"
   ],
   "cell_type": "markdown",
   "metadata": {}
  },
  {
   "cell_type": "code",
   "execution_count": 12,
   "metadata": {},
   "outputs": [],
   "source": [
    "X_df = pd.DataFrame(X, columns=[single_train_feature_idx_2_name[idx] for idx in range(X.shape[1])])\n",
    "X_trial_df = pd.DataFrame(X_trial, columns=[single_trial_feature_idx_2_name[idx] for idx in range(X_trial.shape[1])])"
   ]
  },
  {
   "cell_type": "code",
   "execution_count": 13,
   "metadata": {},
   "outputs": [
    {
     "output_type": "stream",
     "name": "stdout",
     "text": [
      "24\n"
     ]
    }
   ],
   "source": [
    "constant_picks = [feature_name for feature_name in X_df if X_df[feature_name].std() == 0]\n",
    "X_df.drop(labels=constant_picks, axis=1, inplace=True)\n",
    "print(len(constant_picks))"
   ]
  },
  {
   "source": [
    "## Filter: Remove quasi-constant features"
   ],
   "cell_type": "markdown",
   "metadata": {}
  },
  {
   "cell_type": "code",
   "execution_count": 14,
   "metadata": {},
   "outputs": [
    {
     "output_type": "execute_result",
     "data": {
      "text/plain": [
       "1494"
      ]
     },
     "metadata": {},
     "execution_count": 14
    }
   ],
   "source": [
    "selector = VarianceThreshold(threshold=0.01)  # 0.1 indicates 99% of observations approximately\n",
    "_ = selector.fit(X_df)  # fit finds the features with low variance\n",
    "features_2_keep = X_df.columns[selector.get_support()]\n",
    "X_df = X_df[features_2_keep.tolist()]\n",
    "X_trial_df = X_trial_df[features_2_keep.tolist()]\n",
    "sum(selector.get_support()) # how many not quasi-constant?"
   ]
  },
  {
   "cell_type": "code",
   "execution_count": 15,
   "metadata": {},
   "outputs": [],
   "source": [
    "picks = [pick for pick in feature_names[:300] if pick in X_df.columns]"
   ]
  },
  {
   "source": [
    "## Filter method: Multicollinearity\n",
    "- Decision: maybe don't remove multicollinearity as doing so might hurt Pearson of LR model.\n",
    "- How about submitting model w/ multicollinearity, but interpretting model w/out multicollinearity?"
   ],
   "cell_type": "markdown",
   "metadata": {}
  },
  {
   "cell_type": "code",
   "execution_count": 16,
   "metadata": {},
   "outputs": [],
   "source": [
    "picks = feature_names[:200]\n",
    "col_idx = np.array([single_train_feature_name_2_idx[pick] for pick in picks])"
   ]
  },
  {
   "cell_type": "code",
   "execution_count": 17,
   "metadata": {},
   "outputs": [],
   "source": [
    "X_train_mini_picks = X_train_mini[:, col_idx]\n",
    "df = pd.DataFrame(X_train_mini_picks, columns=picks)"
   ]
  },
  {
   "source": [
    "df.head()"
   ],
   "cell_type": "code",
   "metadata": {},
   "execution_count": 18,
   "outputs": [
    {
     "output_type": "execute_result",
     "data": {
      "text/plain": [
       "   tf_summed_bpe  tf_lemma       tf  log_tf_lemma     log_tf  glove_word_277  \\\n",
       "0        82107.0   82046.0  82046.0     11.315048  11.315048        -1.87880   \n",
       "1        69287.0   69279.0  69279.0     11.145912  11.145912        -1.25200   \n",
       "2         6923.0    6920.0   6920.0      8.842316   8.842316        -0.55884   \n",
       "3        73461.0   52833.0  52833.0     10.874910  10.874910        -1.58060   \n",
       "4      2683091.0     409.0    409.0      6.016157   6.016157         0.21121   \n",
       "\n",
       "   glove_word_10  log_tf_ngram_2  glove_word_35  log_tf_summed_bpe  ...  \\\n",
       "0       -1.53350        7.928766       0.220650          11.315791  ...   \n",
       "1       -0.71337        7.469369      -1.256600          11.146027  ...   \n",
       "2       -1.54740        5.344724       0.457440           8.842749  ...   \n",
       "3       -1.72930        8.481773      -0.012829          11.204524  ...   \n",
       "4        0.17107        3.650658       0.777420          14.802480  ...   \n",
       "\n",
       "   glove_word_9  glove_word_192  glove_word_76  glove_word_176  \\\n",
       "0     -0.345690         0.11192        0.59991        0.157700   \n",
       "1      0.304260         0.40821        0.56979        0.080208   \n",
       "2      0.297360         0.41008        0.34483       -0.176640   \n",
       "3     -0.480120         0.54379        0.10770       -0.497780   \n",
       "4      0.066095        -0.44474        0.45199       -0.698650   \n",
       "\n",
       "   glove_word_198  glove_word_214  glove_word_16  infersent_embeddings_2577  \\\n",
       "0         0.42743        0.185570      -0.009047                   0.000000   \n",
       "1        -0.25046       -0.408960      -0.066453                  -0.046265   \n",
       "2        -0.32661        0.418100      -0.559510                  -0.018555   \n",
       "3         0.23375        0.428620      -0.240150                   0.003603   \n",
       "4         0.25177       -0.000025      -0.154800                   0.025803   \n",
       "\n",
       "   infersent_embeddings_2563  glove_word_284  \n",
       "0                   0.163330         0.11286  \n",
       "1                   0.167847         0.86633  \n",
       "2                   0.220093         0.36162  \n",
       "3                   0.191650         0.27033  \n",
       "4                   0.190796         0.53668  \n",
       "\n",
       "[5 rows x 200 columns]"
      ],
      "text/html": "<div>\n<style scoped>\n    .dataframe tbody tr th:only-of-type {\n        vertical-align: middle;\n    }\n\n    .dataframe tbody tr th {\n        vertical-align: top;\n    }\n\n    .dataframe thead th {\n        text-align: right;\n    }\n</style>\n<table border=\"1\" class=\"dataframe\">\n  <thead>\n    <tr style=\"text-align: right;\">\n      <th></th>\n      <th>tf_summed_bpe</th>\n      <th>tf_lemma</th>\n      <th>tf</th>\n      <th>log_tf_lemma</th>\n      <th>log_tf</th>\n      <th>glove_word_277</th>\n      <th>glove_word_10</th>\n      <th>log_tf_ngram_2</th>\n      <th>glove_word_35</th>\n      <th>log_tf_summed_bpe</th>\n      <th>...</th>\n      <th>glove_word_9</th>\n      <th>glove_word_192</th>\n      <th>glove_word_76</th>\n      <th>glove_word_176</th>\n      <th>glove_word_198</th>\n      <th>glove_word_214</th>\n      <th>glove_word_16</th>\n      <th>infersent_embeddings_2577</th>\n      <th>infersent_embeddings_2563</th>\n      <th>glove_word_284</th>\n    </tr>\n  </thead>\n  <tbody>\n    <tr>\n      <th>0</th>\n      <td>82107.0</td>\n      <td>82046.0</td>\n      <td>82046.0</td>\n      <td>11.315048</td>\n      <td>11.315048</td>\n      <td>-1.87880</td>\n      <td>-1.53350</td>\n      <td>7.928766</td>\n      <td>0.220650</td>\n      <td>11.315791</td>\n      <td>...</td>\n      <td>-0.345690</td>\n      <td>0.11192</td>\n      <td>0.59991</td>\n      <td>0.157700</td>\n      <td>0.42743</td>\n      <td>0.185570</td>\n      <td>-0.009047</td>\n      <td>0.000000</td>\n      <td>0.163330</td>\n      <td>0.11286</td>\n    </tr>\n    <tr>\n      <th>1</th>\n      <td>69287.0</td>\n      <td>69279.0</td>\n      <td>69279.0</td>\n      <td>11.145912</td>\n      <td>11.145912</td>\n      <td>-1.25200</td>\n      <td>-0.71337</td>\n      <td>7.469369</td>\n      <td>-1.256600</td>\n      <td>11.146027</td>\n      <td>...</td>\n      <td>0.304260</td>\n      <td>0.40821</td>\n      <td>0.56979</td>\n      <td>0.080208</td>\n      <td>-0.25046</td>\n      <td>-0.408960</td>\n      <td>-0.066453</td>\n      <td>-0.046265</td>\n      <td>0.167847</td>\n      <td>0.86633</td>\n    </tr>\n    <tr>\n      <th>2</th>\n      <td>6923.0</td>\n      <td>6920.0</td>\n      <td>6920.0</td>\n      <td>8.842316</td>\n      <td>8.842316</td>\n      <td>-0.55884</td>\n      <td>-1.54740</td>\n      <td>5.344724</td>\n      <td>0.457440</td>\n      <td>8.842749</td>\n      <td>...</td>\n      <td>0.297360</td>\n      <td>0.41008</td>\n      <td>0.34483</td>\n      <td>-0.176640</td>\n      <td>-0.32661</td>\n      <td>0.418100</td>\n      <td>-0.559510</td>\n      <td>-0.018555</td>\n      <td>0.220093</td>\n      <td>0.36162</td>\n    </tr>\n    <tr>\n      <th>3</th>\n      <td>73461.0</td>\n      <td>52833.0</td>\n      <td>52833.0</td>\n      <td>10.874910</td>\n      <td>10.874910</td>\n      <td>-1.58060</td>\n      <td>-1.72930</td>\n      <td>8.481773</td>\n      <td>-0.012829</td>\n      <td>11.204524</td>\n      <td>...</td>\n      <td>-0.480120</td>\n      <td>0.54379</td>\n      <td>0.10770</td>\n      <td>-0.497780</td>\n      <td>0.23375</td>\n      <td>0.428620</td>\n      <td>-0.240150</td>\n      <td>0.003603</td>\n      <td>0.191650</td>\n      <td>0.27033</td>\n    </tr>\n    <tr>\n      <th>4</th>\n      <td>2683091.0</td>\n      <td>409.0</td>\n      <td>409.0</td>\n      <td>6.016157</td>\n      <td>6.016157</td>\n      <td>0.21121</td>\n      <td>0.17107</td>\n      <td>3.650658</td>\n      <td>0.777420</td>\n      <td>14.802480</td>\n      <td>...</td>\n      <td>0.066095</td>\n      <td>-0.44474</td>\n      <td>0.45199</td>\n      <td>-0.698650</td>\n      <td>0.25177</td>\n      <td>-0.000025</td>\n      <td>-0.154800</td>\n      <td>0.025803</td>\n      <td>0.190796</td>\n      <td>0.53668</td>\n    </tr>\n  </tbody>\n</table>\n<p>5 rows × 200 columns</p>\n</div>"
     },
     "metadata": {},
     "execution_count": 18
    }
   ]
  },
  {
   "cell_type": "code",
   "execution_count": 19,
   "metadata": {},
   "outputs": [],
   "source": [
    "VIF = pd.DataFrame()\n",
    "VIF['feature'] = picks\n",
    "VIF['VIF'] = [variance_inflation_factor(df[picks].values, i) for i in range(len(picks))]"
   ]
  },
  {
   "cell_type": "code",
   "execution_count": 54,
   "metadata": {},
   "outputs": [],
   "source": [
    "VIF_threshold = 10\n",
    "VIF.sort_values('VIF', ascending=True, inplace=True)\n",
    "picks = VIF[VIF['VIF'] <= VIF_threshold]['feature'].tolist()\n",
    "col_idx = [single_train_feature_name_2_idx[pick] for pick in picks]"
   ]
  },
  {
   "source": [
    "picks = feature_names[:200]\n",
    "col_idx = [single_train_feature_name_2_idx[pick] for pick in picks]"
   ],
   "cell_type": "code",
   "metadata": {},
   "execution_count": 26,
   "outputs": []
  },
  {
   "cell_type": "code",
   "execution_count": 35,
   "metadata": {},
   "outputs": [],
   "source": [
    "X_train_mini_picks = X_train_mini[:, col_idx]\n",
    "X_dev_mini_picks = X_dev_mini[:, col_idx]"
   ]
  },
  {
   "cell_type": "code",
   "execution_count": 36,
   "metadata": {},
   "outputs": [
    {
     "output_type": "execute_result",
     "data": {
      "text/plain": [
       "(0.07092311526845528, 0.729569968994637, 0.7099916651373972)"
      ]
     },
     "metadata": {},
     "execution_count": 36
    }
   ],
   "source": [
    "model = LinearRegression()\n",
    "_ = model.fit(X_train_mini_picks, y_train_mini)\n",
    "X_dev_mini_picks = X_dev_mini[:, col_idx]\n",
    "y_dev_mini_pred = model.predict(X_dev_mini_picks)\n",
    "MAE(y_dev_mini_pred, y_dev_mini), pearson(y_dev_mini_pred, y_dev_mini), spearman(y_dev_mini_pred, y_dev_mini)"
   ]
  },
  {
   "source": [
    "## Filter method: Decision tree"
   ],
   "cell_type": "markdown",
   "metadata": {}
  },
  {
   "cell_type": "code",
   "execution_count": null,
   "metadata": {},
   "outputs": [],
   "source": [
    "rmse_values = []\n",
    "for i in tqdm(range(X_train_mini.shape[1])):\n",
    "    reg = DecisionTreeRegressor()\n",
    "    reg.fit(X_train_mini[:, i].reshape(-1, 1), y_train_mini)\n",
    "    y_dev_mini_pred = reg.predict(X_dev_mini[:, i].reshape(-1, 1))\n",
    "    rmse_values.append(mean_squared_error(y_dev_mini, y_dev_mini_pred, squared=False))"
   ]
  },
  {
   "cell_type": "code",
   "execution_count": null,
   "metadata": {},
   "outputs": [],
   "source": [
    "ranks = [(single_trial_feature_idx_2_name[i],rmse_value) for i,rmse_value in enumerate(rmse_values)]\n",
    "ranks = sorted(ranks, key=lambda x: x[1])"
   ]
  },
  {
   "source": [
    "## Wrapper method: Backward feature elimination (attempt)\n",
    "- Ignored infersent_embeddings due to computation costs.\n",
    "- Decision: takes long time."
   ],
   "cell_type": "markdown",
   "metadata": {}
  },
  {
   "cell_type": "code",
   "execution_count": null,
   "metadata": {},
   "outputs": [],
   "source": [
    "col_idx = [value for key, value in single_train_feature_name_2_idx.items() if not key.startswith('infersent_')]\n",
    "picks = [single_train_feature_idx_2_name[idx] for idx in col_idx]"
   ]
  },
  {
   "cell_type": "code",
   "execution_count": null,
   "metadata": {},
   "outputs": [],
   "source": [
    "X_train_mini_picks = X_train_mini[:, col_idx]"
   ]
  },
  {
   "cell_type": "code",
   "execution_count": null,
   "metadata": {},
   "outputs": [],
   "source": [
    "X_train_mini_picks_1 = sm.add_constant(X_train_mini_picks)"
   ]
  },
  {
   "cell_type": "code",
   "execution_count": null,
   "metadata": {},
   "outputs": [],
   "source": [
    "alpha = 0.05\n",
    "picks = ['intercept'] + picks\n",
    "for _ in tqdm(range(len(col_idx))):\n",
    "    model = sm.OLS(y_train_mini, X_train_mini_picks_1).fit()\n",
    "    pvalues = model.pvalues\n",
    "    max_idx = np.argmax(pvalues)\n",
    "    max_pvalue = pvalues[max_idx]\n",
    "    if math.isnan(max_pvalue) or max_pvalue > alpha:\n",
    "        X_train_mini_picks_1 = np.delete(X_train_mini_picks_1, max_idx, 1)\n",
    "        del picks[max_idx]\n",
    "    else:\n",
    "        break\n",
    "del picks[0]\n",
    "X_train_mini_picks_1 = np.delete(X_train_mini_picks_1, 0, 1)"
   ]
  },
  {
   "cell_type": "code",
   "execution_count": null,
   "metadata": {},
   "outputs": [],
   "source": [
    "X_train_mini_picks_1.shape"
   ]
  },
  {
   "cell_type": "code",
   "execution_count": null,
   "metadata": {},
   "outputs": [],
   "source": [
    "#pkl.dump(picks, open('./data/'+job+'/picks_1_from_backward_elimination.pkl', 'wb'))\n",
    "picks = pkl.load(open('./data/'+job+'/picks_1_from_backward_elimination.pkl', 'rb'))"
   ]
  },
  {
   "source": [
    "## Wrapped methods: Forward feature selection"
   ],
   "cell_type": "markdown",
   "metadata": {}
  },
  {
   "cell_type": "code",
   "execution_count": 17,
   "metadata": {},
   "outputs": [],
   "source": [
    "picks = [pick for pick in feature_names[:300] if pick in X_df.columns]\n",
    "col_idx = [single_train_feature_name_2_idx[pick] for pick in picks]\n",
    "X_picks = X[:, col_idx]"
   ]
  },
  {
   "cell_type": "code",
   "execution_count": 18,
   "metadata": {},
   "outputs": [],
   "source": [
    "model = LinearRegression()\n",
    "sfs = SequentialFeatureSelector(model,\n",
    "    k_features=100,#should be 200, but got away with it\n",
    "    forward=True,\n",
    "    floating=False,\n",
    "    scoring='r2',\n",
    "    verbose=2,\n",
    "    cv=list(custom_cv_folds(single_train, n_splits=10)),\n",
    ")"
   ]
  },
  {
   "cell_type": "code",
   "execution_count": null,
   "metadata": {},
   "outputs": [],
   "source": []
  },
  {
   "cell_type": "code",
   "execution_count": 19,
   "metadata": {},
   "outputs": [
    {
     "output_type": "stream",
     "name": "stderr",
     "text": [
      "[Parallel(n_jobs=1)]: Using backend SequentialBackend with 1 concurrent workers.\n",
      "[Parallel(n_jobs=1)]: Done   1 out of   1 | elapsed:    0.2s remaining:    0.0s\n",
      "[Parallel(n_jobs=1)]: Done 275 out of 275 | elapsed:    4.3s finished\n",
      "\n",
      "[2021-01-18 15:54:18] Features: 1/100 -- score: 0.43854504411894546[Parallel(n_jobs=1)]: Using backend SequentialBackend with 1 concurrent workers.\n",
      "[Parallel(n_jobs=1)]: Done   1 out of   1 | elapsed:    0.0s remaining:    0.0s\n",
      "[Parallel(n_jobs=1)]: Done 274 out of 274 | elapsed:    4.5s finished\n",
      "\n",
      "[2021-01-18 15:54:22] Features: 2/100 -- score: 0.49565480175481114[Parallel(n_jobs=1)]: Using backend SequentialBackend with 1 concurrent workers.\n",
      "[Parallel(n_jobs=1)]: Done   1 out of   1 | elapsed:    0.0s remaining:    0.0s\n",
      "[Parallel(n_jobs=1)]: Done 273 out of 273 | elapsed:    4.7s finished\n",
      "\n",
      "[2021-01-18 15:54:27] Features: 3/100 -- score: 0.5331748616078319[Parallel(n_jobs=1)]: Using backend SequentialBackend with 1 concurrent workers.\n",
      "[Parallel(n_jobs=1)]: Done   1 out of   1 | elapsed:    0.0s remaining:    0.0s\n",
      "[Parallel(n_jobs=1)]: Done 272 out of 272 | elapsed:    5.1s finished\n",
      "\n",
      "[2021-01-18 15:54:32] Features: 4/100 -- score: 0.5460068839213245[Parallel(n_jobs=1)]: Using backend SequentialBackend with 1 concurrent workers.\n",
      "[Parallel(n_jobs=1)]: Done   1 out of   1 | elapsed:    0.0s remaining:    0.0s\n",
      "[Parallel(n_jobs=1)]: Done 271 out of 271 | elapsed:    5.3s finished\n",
      "\n",
      "[2021-01-18 15:54:37] Features: 5/100 -- score: 0.5553365519128077[Parallel(n_jobs=1)]: Using backend SequentialBackend with 1 concurrent workers.\n",
      "[Parallel(n_jobs=1)]: Done   1 out of   1 | elapsed:    0.0s remaining:    0.0s\n",
      "[Parallel(n_jobs=1)]: Done 270 out of 270 | elapsed:    5.8s finished\n",
      "\n",
      "[2021-01-18 15:54:43] Features: 6/100 -- score: 0.5612706346437395[Parallel(n_jobs=1)]: Using backend SequentialBackend with 1 concurrent workers.\n",
      "[Parallel(n_jobs=1)]: Done   1 out of   1 | elapsed:    0.0s remaining:    0.0s\n",
      "[Parallel(n_jobs=1)]: Done 269 out of 269 | elapsed:    6.4s finished\n",
      "\n",
      "[2021-01-18 15:54:49] Features: 7/100 -- score: 0.5648187287433658[Parallel(n_jobs=1)]: Using backend SequentialBackend with 1 concurrent workers.\n",
      "[Parallel(n_jobs=1)]: Done   1 out of   1 | elapsed:    0.0s remaining:    0.0s\n",
      "[Parallel(n_jobs=1)]: Done 268 out of 268 | elapsed:    6.5s finished\n",
      "\n",
      "[2021-01-18 15:54:56] Features: 8/100 -- score: 0.5692745690656269[Parallel(n_jobs=1)]: Using backend SequentialBackend with 1 concurrent workers.\n",
      "[Parallel(n_jobs=1)]: Done   1 out of   1 | elapsed:    0.0s remaining:    0.0s\n",
      "[Parallel(n_jobs=1)]: Done 267 out of 267 | elapsed:    6.5s finished\n",
      "\n",
      "[2021-01-18 15:55:03] Features: 9/100 -- score: 0.5720339600955666[Parallel(n_jobs=1)]: Using backend SequentialBackend with 1 concurrent workers.\n",
      "[Parallel(n_jobs=1)]: Done   1 out of   1 | elapsed:    0.0s remaining:    0.0s\n",
      "[Parallel(n_jobs=1)]: Done 266 out of 266 | elapsed:    7.0s finished\n",
      "\n",
      "[2021-01-18 15:55:10] Features: 10/100 -- score: 0.5748283482091248[Parallel(n_jobs=1)]: Using backend SequentialBackend with 1 concurrent workers.\n",
      "[Parallel(n_jobs=1)]: Done   1 out of   1 | elapsed:    0.0s remaining:    0.0s\n",
      "[Parallel(n_jobs=1)]: Done 265 out of 265 | elapsed:    7.4s finished\n",
      "\n",
      "[2021-01-18 15:55:17] Features: 11/100 -- score: 0.5769081777815204[Parallel(n_jobs=1)]: Using backend SequentialBackend with 1 concurrent workers.\n",
      "[Parallel(n_jobs=1)]: Done   1 out of   1 | elapsed:    0.0s remaining:    0.0s\n",
      "[Parallel(n_jobs=1)]: Done 264 out of 264 | elapsed:    7.7s finished\n",
      "\n",
      "[2021-01-18 15:55:25] Features: 12/100 -- score: 0.5790656965385066[Parallel(n_jobs=1)]: Using backend SequentialBackend with 1 concurrent workers.\n",
      "[Parallel(n_jobs=1)]: Done   1 out of   1 | elapsed:    0.1s remaining:    0.0s\n",
      "[Parallel(n_jobs=1)]: Done 263 out of 263 | elapsed:   13.4s finished\n",
      "\n",
      "[2021-01-18 15:55:38] Features: 13/100 -- score: 0.5809696788791258[Parallel(n_jobs=1)]: Using backend SequentialBackend with 1 concurrent workers.\n",
      "[Parallel(n_jobs=1)]: Done   1 out of   1 | elapsed:    0.1s remaining:    0.0s\n",
      "[Parallel(n_jobs=1)]: Done 262 out of 262 | elapsed:   14.9s finished\n",
      "\n",
      "[2021-01-18 15:55:53] Features: 14/100 -- score: 0.5828898366003908[Parallel(n_jobs=1)]: Using backend SequentialBackend with 1 concurrent workers.\n",
      "[Parallel(n_jobs=1)]: Done   1 out of   1 | elapsed:    0.1s remaining:    0.0s\n",
      "[Parallel(n_jobs=1)]: Done 261 out of 261 | elapsed:   14.9s finished\n",
      "\n",
      "[2021-01-18 15:56:08] Features: 15/100 -- score: 0.5842765392684536[Parallel(n_jobs=1)]: Using backend SequentialBackend with 1 concurrent workers.\n",
      "[Parallel(n_jobs=1)]: Done   1 out of   1 | elapsed:    0.1s remaining:    0.0s\n",
      "[Parallel(n_jobs=1)]: Done 260 out of 260 | elapsed:   15.6s finished\n",
      "\n",
      "[2021-01-18 15:56:24] Features: 16/100 -- score: 0.5855381474370585[Parallel(n_jobs=1)]: Using backend SequentialBackend with 1 concurrent workers.\n",
      "[Parallel(n_jobs=1)]: Done   1 out of   1 | elapsed:    0.1s remaining:    0.0s\n",
      "[Parallel(n_jobs=1)]: Done 259 out of 259 | elapsed:   16.7s finished\n",
      "\n",
      "[2021-01-18 15:56:40] Features: 17/100 -- score: 0.5868283159983658[Parallel(n_jobs=1)]: Using backend SequentialBackend with 1 concurrent workers.\n",
      "[Parallel(n_jobs=1)]: Done   1 out of   1 | elapsed:    0.1s remaining:    0.0s\n",
      "[Parallel(n_jobs=1)]: Done 258 out of 258 | elapsed:   17.8s finished\n",
      "\n",
      "[2021-01-18 15:56:58] Features: 18/100 -- score: 0.5882338452809707[Parallel(n_jobs=1)]: Using backend SequentialBackend with 1 concurrent workers.\n",
      "[Parallel(n_jobs=1)]: Done   1 out of   1 | elapsed:    0.1s remaining:    0.0s\n",
      "[Parallel(n_jobs=1)]: Done 257 out of 257 | elapsed:   17.6s finished\n",
      "\n",
      "[2021-01-18 15:57:16] Features: 19/100 -- score: 0.5893253623660486[Parallel(n_jobs=1)]: Using backend SequentialBackend with 1 concurrent workers.\n",
      "[Parallel(n_jobs=1)]: Done   1 out of   1 | elapsed:    0.1s remaining:    0.0s\n",
      "[Parallel(n_jobs=1)]: Done 256 out of 256 | elapsed:   19.6s finished\n",
      "\n",
      "[2021-01-18 15:57:35] Features: 20/100 -- score: 0.5902842252677909[Parallel(n_jobs=1)]: Using backend SequentialBackend with 1 concurrent workers.\n",
      "[Parallel(n_jobs=1)]: Done   1 out of   1 | elapsed:    0.1s remaining:    0.0s\n",
      "[Parallel(n_jobs=1)]: Done 255 out of 255 | elapsed:   20.0s finished\n",
      "\n",
      "[2021-01-18 15:57:55] Features: 21/100 -- score: 0.5912421152370692[Parallel(n_jobs=1)]: Using backend SequentialBackend with 1 concurrent workers.\n",
      "[Parallel(n_jobs=1)]: Done   1 out of   1 | elapsed:    0.1s remaining:    0.0s\n",
      "[Parallel(n_jobs=1)]: Done 254 out of 254 | elapsed:   19.3s finished\n",
      "\n",
      "[2021-01-18 15:58:15] Features: 22/100 -- score: 0.5923484456199684[Parallel(n_jobs=1)]: Using backend SequentialBackend with 1 concurrent workers.\n",
      "[Parallel(n_jobs=1)]: Done   1 out of   1 | elapsed:    0.1s remaining:    0.0s\n",
      "[Parallel(n_jobs=1)]: Done 253 out of 253 | elapsed:   20.3s finished\n",
      "\n",
      "[2021-01-18 15:58:35] Features: 23/100 -- score: 0.5933517144687683[Parallel(n_jobs=1)]: Using backend SequentialBackend with 1 concurrent workers.\n",
      "[Parallel(n_jobs=1)]: Done   1 out of   1 | elapsed:    0.1s remaining:    0.0s\n",
      "[Parallel(n_jobs=1)]: Done 252 out of 252 | elapsed:   20.1s finished\n",
      "\n",
      "[2021-01-18 15:58:55] Features: 24/100 -- score: 0.5944112165902352[Parallel(n_jobs=1)]: Using backend SequentialBackend with 1 concurrent workers.\n",
      "[Parallel(n_jobs=1)]: Done   1 out of   1 | elapsed:    0.1s remaining:    0.0s\n",
      "[Parallel(n_jobs=1)]: Done 251 out of 251 | elapsed:   21.4s finished\n",
      "\n",
      "[2021-01-18 15:59:17] Features: 25/100 -- score: 0.5955498840853775[Parallel(n_jobs=1)]: Using backend SequentialBackend with 1 concurrent workers.\n",
      "[Parallel(n_jobs=1)]: Done   1 out of   1 | elapsed:    0.1s remaining:    0.0s\n",
      "[Parallel(n_jobs=1)]: Done 250 out of 250 | elapsed:   22.2s finished\n",
      "\n",
      "[2021-01-18 15:59:39] Features: 26/100 -- score: 0.5964178168599896[Parallel(n_jobs=1)]: Using backend SequentialBackend with 1 concurrent workers.\n",
      "[Parallel(n_jobs=1)]: Done   1 out of   1 | elapsed:    0.1s remaining:    0.0s\n",
      "[Parallel(n_jobs=1)]: Done 249 out of 249 | elapsed:   24.3s finished\n",
      "\n",
      "[2021-01-18 16:00:03] Features: 27/100 -- score: 0.597188344005788[Parallel(n_jobs=1)]: Using backend SequentialBackend with 1 concurrent workers.\n",
      "[Parallel(n_jobs=1)]: Done   1 out of   1 | elapsed:    0.1s remaining:    0.0s\n",
      "[Parallel(n_jobs=1)]: Done 248 out of 248 | elapsed:   24.2s finished\n",
      "\n",
      "[2021-01-18 16:00:27] Features: 28/100 -- score: 0.5979588004058365[Parallel(n_jobs=1)]: Using backend SequentialBackend with 1 concurrent workers.\n",
      "[Parallel(n_jobs=1)]: Done   1 out of   1 | elapsed:    0.1s remaining:    0.0s\n",
      "[Parallel(n_jobs=1)]: Done 247 out of 247 | elapsed:   23.7s finished\n",
      "\n",
      "[2021-01-18 16:00:51] Features: 29/100 -- score: 0.5987897987362134[Parallel(n_jobs=1)]: Using backend SequentialBackend with 1 concurrent workers.\n",
      "[Parallel(n_jobs=1)]: Done   1 out of   1 | elapsed:    0.1s remaining:    0.0s\n",
      "[Parallel(n_jobs=1)]: Done 246 out of 246 | elapsed:   24.4s finished\n",
      "\n",
      "[2021-01-18 16:01:16] Features: 30/100 -- score: 0.59949643134908[Parallel(n_jobs=1)]: Using backend SequentialBackend with 1 concurrent workers.\n",
      "[Parallel(n_jobs=1)]: Done   1 out of   1 | elapsed:    0.1s remaining:    0.0s\n",
      "[Parallel(n_jobs=1)]: Done 245 out of 245 | elapsed:   26.9s finished\n",
      "\n",
      "[2021-01-18 16:01:42] Features: 31/100 -- score: 0.6002518327668925[Parallel(n_jobs=1)]: Using backend SequentialBackend with 1 concurrent workers.\n",
      "[Parallel(n_jobs=1)]: Done   1 out of   1 | elapsed:    0.1s remaining:    0.0s\n",
      "[Parallel(n_jobs=1)]: Done 244 out of 244 | elapsed:   27.7s finished\n",
      "\n",
      "[2021-01-18 16:02:10] Features: 32/100 -- score: 0.6009709175275896[Parallel(n_jobs=1)]: Using backend SequentialBackend with 1 concurrent workers.\n",
      "[Parallel(n_jobs=1)]: Done   1 out of   1 | elapsed:    0.1s remaining:    0.0s\n",
      "[Parallel(n_jobs=1)]: Done 243 out of 243 | elapsed:   27.7s finished\n",
      "\n",
      "[2021-01-18 16:02:38] Features: 33/100 -- score: 0.6016541781614462[Parallel(n_jobs=1)]: Using backend SequentialBackend with 1 concurrent workers.\n",
      "[Parallel(n_jobs=1)]: Done   1 out of   1 | elapsed:    0.2s remaining:    0.0s\n",
      "[Parallel(n_jobs=1)]: Done 242 out of 242 | elapsed:   27.9s finished\n",
      "\n",
      "[2021-01-18 16:03:06] Features: 34/100 -- score: 0.6022299741153005[Parallel(n_jobs=1)]: Using backend SequentialBackend with 1 concurrent workers.\n",
      "[Parallel(n_jobs=1)]: Done   1 out of   1 | elapsed:    0.1s remaining:    0.0s\n",
      "[Parallel(n_jobs=1)]: Done 241 out of 241 | elapsed:   27.1s finished\n",
      "\n",
      "[2021-01-18 16:03:33] Features: 35/100 -- score: 0.6026939313231556[Parallel(n_jobs=1)]: Using backend SequentialBackend with 1 concurrent workers.\n",
      "[Parallel(n_jobs=1)]: Done   1 out of   1 | elapsed:    0.1s remaining:    0.0s\n",
      "[Parallel(n_jobs=1)]: Done 240 out of 240 | elapsed:   28.6s finished\n",
      "\n",
      "[2021-01-18 16:04:02] Features: 36/100 -- score: 0.603125655336421[Parallel(n_jobs=1)]: Using backend SequentialBackend with 1 concurrent workers.\n",
      "[Parallel(n_jobs=1)]: Done   1 out of   1 | elapsed:    0.1s remaining:    0.0s\n",
      "[Parallel(n_jobs=1)]: Done 239 out of 239 | elapsed:   30.4s finished\n",
      "\n",
      "[2021-01-18 16:04:32] Features: 37/100 -- score: 0.6035741917837193[Parallel(n_jobs=1)]: Using backend SequentialBackend with 1 concurrent workers.\n",
      "[Parallel(n_jobs=1)]: Done   1 out of   1 | elapsed:    0.1s remaining:    0.0s\n",
      "[Parallel(n_jobs=1)]: Done 238 out of 238 | elapsed:   31.1s finished\n",
      "\n",
      "[2021-01-18 16:05:03] Features: 38/100 -- score: 0.6040127248987915[Parallel(n_jobs=1)]: Using backend SequentialBackend with 1 concurrent workers.\n",
      "[Parallel(n_jobs=1)]: Done   1 out of   1 | elapsed:    0.2s remaining:    0.0s\n",
      "[Parallel(n_jobs=1)]: Done 237 out of 237 | elapsed:   32.1s finished\n",
      "\n",
      "[2021-01-18 16:05:35] Features: 39/100 -- score: 0.6044866490495628[Parallel(n_jobs=1)]: Using backend SequentialBackend with 1 concurrent workers.\n",
      "[Parallel(n_jobs=1)]: Done   1 out of   1 | elapsed:    0.1s remaining:    0.0s\n",
      "[Parallel(n_jobs=1)]: Done 236 out of 236 | elapsed:   32.0s finished\n",
      "\n",
      "[2021-01-18 16:06:07] Features: 40/100 -- score: 0.6050612439346471[Parallel(n_jobs=1)]: Using backend SequentialBackend with 1 concurrent workers.\n",
      "[Parallel(n_jobs=1)]: Done   1 out of   1 | elapsed:    0.1s remaining:    0.0s\n",
      "[Parallel(n_jobs=1)]: Done 235 out of 235 | elapsed:   34.3s finished\n",
      "\n",
      "[2021-01-18 16:06:42] Features: 41/100 -- score: 0.6055792414762602[Parallel(n_jobs=1)]: Using backend SequentialBackend with 1 concurrent workers.\n",
      "[Parallel(n_jobs=1)]: Done   1 out of   1 | elapsed:    0.2s remaining:    0.0s\n",
      "[Parallel(n_jobs=1)]: Done 234 out of 234 | elapsed:   38.1s finished\n",
      "\n",
      "[2021-01-18 16:07:20] Features: 42/100 -- score: 0.6060619072564055[Parallel(n_jobs=1)]: Using backend SequentialBackend with 1 concurrent workers.\n",
      "[Parallel(n_jobs=1)]: Done   1 out of   1 | elapsed:    0.1s remaining:    0.0s\n",
      "[Parallel(n_jobs=1)]: Done 233 out of 233 | elapsed:   35.5s finished\n",
      "\n",
      "[2021-01-18 16:07:55] Features: 43/100 -- score: 0.6065047915815863[Parallel(n_jobs=1)]: Using backend SequentialBackend with 1 concurrent workers.\n",
      "[Parallel(n_jobs=1)]: Done   1 out of   1 | elapsed:    0.1s remaining:    0.0s\n",
      "[Parallel(n_jobs=1)]: Done 232 out of 232 | elapsed:   37.3s finished\n",
      "\n",
      "[2021-01-18 16:08:33] Features: 44/100 -- score: 0.607412485736281[Parallel(n_jobs=1)]: Using backend SequentialBackend with 1 concurrent workers.\n",
      "[Parallel(n_jobs=1)]: Done   1 out of   1 | elapsed:    0.2s remaining:    0.0s\n",
      "[Parallel(n_jobs=1)]: Done 231 out of 231 | elapsed:   33.8s finished\n",
      "\n",
      "[2021-01-18 16:09:06] Features: 45/100 -- score: 0.6078614884552087[Parallel(n_jobs=1)]: Using backend SequentialBackend with 1 concurrent workers.\n",
      "[Parallel(n_jobs=1)]: Done   1 out of   1 | elapsed:    0.2s remaining:    0.0s\n",
      "[Parallel(n_jobs=1)]: Done 230 out of 230 | elapsed:   43.3s finished\n",
      "\n",
      "[2021-01-18 16:09:50] Features: 46/100 -- score: 0.6082553797990852[Parallel(n_jobs=1)]: Using backend SequentialBackend with 1 concurrent workers.\n",
      "[Parallel(n_jobs=1)]: Done   1 out of   1 | elapsed:    0.2s remaining:    0.0s\n",
      "[Parallel(n_jobs=1)]: Done 229 out of 229 | elapsed:   41.8s finished\n",
      "\n",
      "[2021-01-18 16:10:32] Features: 47/100 -- score: 0.6086021996401604[Parallel(n_jobs=1)]: Using backend SequentialBackend with 1 concurrent workers.\n",
      "[Parallel(n_jobs=1)]: Done   1 out of   1 | elapsed:    0.1s remaining:    0.0s\n",
      "[Parallel(n_jobs=1)]: Done 228 out of 228 | elapsed:   41.2s finished\n",
      "\n",
      "[2021-01-18 16:11:13] Features: 48/100 -- score: 0.608985642760203[Parallel(n_jobs=1)]: Using backend SequentialBackend with 1 concurrent workers.\n",
      "[Parallel(n_jobs=1)]: Done   1 out of   1 | elapsed:    0.1s remaining:    0.0s\n",
      "[Parallel(n_jobs=1)]: Done 227 out of 227 | elapsed:   40.5s finished\n",
      "\n",
      "[2021-01-18 16:11:53] Features: 49/100 -- score: 0.6103807724553366[Parallel(n_jobs=1)]: Using backend SequentialBackend with 1 concurrent workers.\n",
      "[Parallel(n_jobs=1)]: Done   1 out of   1 | elapsed:    0.2s remaining:    0.0s\n",
      "[Parallel(n_jobs=1)]: Done 226 out of 226 | elapsed:   50.9s finished\n",
      "\n",
      "[2021-01-18 16:12:44] Features: 50/100 -- score: 0.6106946328159554[Parallel(n_jobs=1)]: Using backend SequentialBackend with 1 concurrent workers.\n",
      "[Parallel(n_jobs=1)]: Done   1 out of   1 | elapsed:    0.2s remaining:    0.0s\n",
      "[Parallel(n_jobs=1)]: Done 225 out of 225 | elapsed:   53.0s finished\n",
      "\n",
      "[2021-01-18 16:13:37] Features: 51/100 -- score: 0.6110103454715013[Parallel(n_jobs=1)]: Using backend SequentialBackend with 1 concurrent workers.\n",
      "[Parallel(n_jobs=1)]: Done   1 out of   1 | elapsed:    0.2s remaining:    0.0s\n",
      "[Parallel(n_jobs=1)]: Done 224 out of 224 | elapsed:   46.1s finished\n",
      "\n",
      "[2021-01-18 16:14:23] Features: 52/100 -- score: 0.6112990455391482[Parallel(n_jobs=1)]: Using backend SequentialBackend with 1 concurrent workers.\n",
      "[Parallel(n_jobs=1)]: Done   1 out of   1 | elapsed:    0.2s remaining:    0.0s\n",
      "[Parallel(n_jobs=1)]: Done 223 out of 223 | elapsed:   48.1s finished\n",
      "\n",
      "[2021-01-18 16:15:12] Features: 53/100 -- score: 0.6115787776666137[Parallel(n_jobs=1)]: Using backend SequentialBackend with 1 concurrent workers.\n",
      "[Parallel(n_jobs=1)]: Done   1 out of   1 | elapsed:    0.2s remaining:    0.0s\n",
      "[Parallel(n_jobs=1)]: Done 222 out of 222 | elapsed:   51.6s finished\n",
      "\n",
      "[2021-01-18 16:16:03] Features: 54/100 -- score: 0.6118495544268351[Parallel(n_jobs=1)]: Using backend SequentialBackend with 1 concurrent workers.\n",
      "[Parallel(n_jobs=1)]: Done   1 out of   1 | elapsed:    0.3s remaining:    0.0s\n",
      "[Parallel(n_jobs=1)]: Done 221 out of 221 | elapsed:   54.5s finished\n",
      "\n",
      "[2021-01-18 16:16:58] Features: 55/100 -- score: 0.6121242192904546[Parallel(n_jobs=1)]: Using backend SequentialBackend with 1 concurrent workers.\n",
      "[Parallel(n_jobs=1)]: Done   1 out of   1 | elapsed:    0.4s remaining:    0.0s\n",
      "[Parallel(n_jobs=1)]: Done 220 out of 220 | elapsed:   57.3s finished\n",
      "\n",
      "[2021-01-18 16:17:55] Features: 56/100 -- score: 0.6124337877341862[Parallel(n_jobs=1)]: Using backend SequentialBackend with 1 concurrent workers.\n",
      "[Parallel(n_jobs=1)]: Done   1 out of   1 | elapsed:    0.3s remaining:    0.0s\n",
      "[Parallel(n_jobs=1)]: Done 219 out of 219 | elapsed:  1.1min finished\n",
      "\n",
      "[2021-01-18 16:18:59] Features: 57/100 -- score: 0.6127199218539872[Parallel(n_jobs=1)]: Using backend SequentialBackend with 1 concurrent workers.\n",
      "[Parallel(n_jobs=1)]: Done   1 out of   1 | elapsed:    0.2s remaining:    0.0s\n",
      "[Parallel(n_jobs=1)]: Done 218 out of 218 | elapsed:   55.1s finished\n",
      "\n",
      "[2021-01-18 16:19:54] Features: 58/100 -- score: 0.612978471926483[Parallel(n_jobs=1)]: Using backend SequentialBackend with 1 concurrent workers.\n",
      "[Parallel(n_jobs=1)]: Done   1 out of   1 | elapsed:    0.3s remaining:    0.0s\n",
      "[Parallel(n_jobs=1)]: Done 217 out of 217 | elapsed:   51.4s finished\n",
      "\n",
      "[2021-01-18 16:20:45] Features: 59/100 -- score: 0.6132315219328756[Parallel(n_jobs=1)]: Using backend SequentialBackend with 1 concurrent workers.\n",
      "[Parallel(n_jobs=1)]: Done   1 out of   1 | elapsed:    0.4s remaining:    0.0s\n",
      "[Parallel(n_jobs=1)]: Done 216 out of 216 | elapsed:   52.9s finished\n",
      "\n",
      "[2021-01-18 16:21:38] Features: 60/100 -- score: 0.613478578278326[Parallel(n_jobs=1)]: Using backend SequentialBackend with 1 concurrent workers.\n",
      "[Parallel(n_jobs=1)]: Done   1 out of   1 | elapsed:    0.2s remaining:    0.0s\n",
      "[Parallel(n_jobs=1)]: Done 215 out of 215 | elapsed:   56.2s finished\n",
      "\n",
      "[2021-01-18 16:22:34] Features: 61/100 -- score: 0.6137000034504856[Parallel(n_jobs=1)]: Using backend SequentialBackend with 1 concurrent workers.\n",
      "[Parallel(n_jobs=1)]: Done   1 out of   1 | elapsed:    0.4s remaining:    0.0s\n",
      "[Parallel(n_jobs=1)]: Done 214 out of 214 | elapsed:   59.6s finished\n",
      "\n",
      "[2021-01-18 16:23:34] Features: 62/100 -- score: 0.6139181866279321[Parallel(n_jobs=1)]: Using backend SequentialBackend with 1 concurrent workers.\n",
      "[Parallel(n_jobs=1)]: Done   1 out of   1 | elapsed:    0.5s remaining:    0.0s\n",
      "[Parallel(n_jobs=1)]: Done 213 out of 213 | elapsed:  1.3min finished\n",
      "\n",
      "[2021-01-18 16:24:50] Features: 63/100 -- score: 0.614119768499661[Parallel(n_jobs=1)]: Using backend SequentialBackend with 1 concurrent workers.\n",
      "[Parallel(n_jobs=1)]: Done   1 out of   1 | elapsed:    0.5s remaining:    0.0s\n",
      "[Parallel(n_jobs=1)]: Done 212 out of 212 | elapsed:  1.2min finished\n",
      "\n",
      "[2021-01-18 16:25:59] Features: 64/100 -- score: 0.6143609343615273[Parallel(n_jobs=1)]: Using backend SequentialBackend with 1 concurrent workers.\n",
      "[Parallel(n_jobs=1)]: Done   1 out of   1 | elapsed:    0.3s remaining:    0.0s\n",
      "[Parallel(n_jobs=1)]: Done 211 out of 211 | elapsed:  1.2min finished\n",
      "\n",
      "[2021-01-18 16:27:11] Features: 65/100 -- score: 0.6145699830264156[Parallel(n_jobs=1)]: Using backend SequentialBackend with 1 concurrent workers.\n",
      "[Parallel(n_jobs=1)]: Done   1 out of   1 | elapsed:    0.5s remaining:    0.0s\n",
      "[Parallel(n_jobs=1)]: Done 210 out of 210 | elapsed:  1.2min finished\n",
      "\n",
      "[2021-01-18 16:28:25] Features: 66/100 -- score: 0.6148046748504715[Parallel(n_jobs=1)]: Using backend SequentialBackend with 1 concurrent workers.\n",
      "[Parallel(n_jobs=1)]: Done   1 out of   1 | elapsed:    0.4s remaining:    0.0s\n",
      "[Parallel(n_jobs=1)]: Done 209 out of 209 | elapsed:  1.3min finished\n",
      "\n",
      "[2021-01-18 16:29:40] Features: 67/100 -- score: 0.6150518427974818[Parallel(n_jobs=1)]: Using backend SequentialBackend with 1 concurrent workers.\n",
      "[Parallel(n_jobs=1)]: Done   1 out of   1 | elapsed:    0.5s remaining:    0.0s\n",
      "[Parallel(n_jobs=1)]: Done 208 out of 208 | elapsed:  1.2min finished\n",
      "\n",
      "[2021-01-18 16:30:55] Features: 68/100 -- score: 0.6152656154045254[Parallel(n_jobs=1)]: Using backend SequentialBackend with 1 concurrent workers.\n",
      "[Parallel(n_jobs=1)]: Done   1 out of   1 | elapsed:    0.4s remaining:    0.0s\n",
      "[Parallel(n_jobs=1)]: Done 207 out of 207 | elapsed:  1.3min finished\n",
      "\n",
      "[2021-01-18 16:32:13] Features: 69/100 -- score: 0.6155224980835863[Parallel(n_jobs=1)]: Using backend SequentialBackend with 1 concurrent workers.\n",
      "[Parallel(n_jobs=1)]: Done   1 out of   1 | elapsed:    0.4s remaining:    0.0s\n",
      "[Parallel(n_jobs=1)]: Done 206 out of 206 | elapsed:  1.3min finished\n",
      "\n",
      "[2021-01-18 16:33:34] Features: 70/100 -- score: 0.6157062111491965[Parallel(n_jobs=1)]: Using backend SequentialBackend with 1 concurrent workers.\n",
      "[Parallel(n_jobs=1)]: Done   1 out of   1 | elapsed:    0.4s remaining:    0.0s\n",
      "[Parallel(n_jobs=1)]: Done 205 out of 205 | elapsed:  1.4min finished\n",
      "\n",
      "[2021-01-18 16:34:57] Features: 71/100 -- score: 0.6158995625292683[Parallel(n_jobs=1)]: Using backend SequentialBackend with 1 concurrent workers.\n",
      "[Parallel(n_jobs=1)]: Done   1 out of   1 | elapsed:    0.4s remaining:    0.0s\n",
      "[Parallel(n_jobs=1)]: Done 204 out of 204 | elapsed:  1.2min finished\n",
      "\n",
      "[2021-01-18 16:36:11] Features: 72/100 -- score: 0.6161508034369224[Parallel(n_jobs=1)]: Using backend SequentialBackend with 1 concurrent workers.\n",
      "[Parallel(n_jobs=1)]: Done   1 out of   1 | elapsed:    0.4s remaining:    0.0s\n",
      "[Parallel(n_jobs=1)]: Done 203 out of 203 | elapsed:  1.3min finished\n",
      "\n",
      "[2021-01-18 16:37:30] Features: 73/100 -- score: 0.6164135451085354[Parallel(n_jobs=1)]: Using backend SequentialBackend with 1 concurrent workers.\n",
      "[Parallel(n_jobs=1)]: Done   1 out of   1 | elapsed:    0.4s remaining:    0.0s\n",
      "[Parallel(n_jobs=1)]: Done 202 out of 202 | elapsed:  1.5min finished\n",
      "\n",
      "[2021-01-18 16:38:57] Features: 74/100 -- score: 0.6165784882233096[Parallel(n_jobs=1)]: Using backend SequentialBackend with 1 concurrent workers.\n",
      "[Parallel(n_jobs=1)]: Done   1 out of   1 | elapsed:    0.4s remaining:    0.0s\n",
      "[Parallel(n_jobs=1)]: Done 201 out of 201 | elapsed:  1.5min finished\n",
      "\n",
      "[2021-01-18 16:40:30] Features: 75/100 -- score: 0.6167612581333051[Parallel(n_jobs=1)]: Using backend SequentialBackend with 1 concurrent workers.\n",
      "[Parallel(n_jobs=1)]: Done   1 out of   1 | elapsed:    0.4s remaining:    0.0s\n",
      "[Parallel(n_jobs=1)]: Done 200 out of 200 | elapsed:  1.4min finished\n",
      "\n",
      "[2021-01-18 16:41:53] Features: 76/100 -- score: 0.6169385752562945[Parallel(n_jobs=1)]: Using backend SequentialBackend with 1 concurrent workers.\n",
      "[Parallel(n_jobs=1)]: Done   1 out of   1 | elapsed:    0.5s remaining:    0.0s\n",
      "[Parallel(n_jobs=1)]: Done 199 out of 199 | elapsed:  1.4min finished\n",
      "\n",
      "[2021-01-18 16:43:16] Features: 77/100 -- score: 0.6170865117202704[Parallel(n_jobs=1)]: Using backend SequentialBackend with 1 concurrent workers.\n",
      "[Parallel(n_jobs=1)]: Done   1 out of   1 | elapsed:    0.6s remaining:    0.0s\n",
      "[Parallel(n_jobs=1)]: Done 198 out of 198 | elapsed:  1.6min finished\n",
      "\n",
      "[2021-01-18 16:44:54] Features: 78/100 -- score: 0.617205411379272[Parallel(n_jobs=1)]: Using backend SequentialBackend with 1 concurrent workers.\n",
      "[Parallel(n_jobs=1)]: Done   1 out of   1 | elapsed:    0.7s remaining:    0.0s\n",
      "[Parallel(n_jobs=1)]: Done 197 out of 197 | elapsed:  1.5min finished\n",
      "\n",
      "[2021-01-18 16:46:24] Features: 79/100 -- score: 0.6173079904673088[Parallel(n_jobs=1)]: Using backend SequentialBackend with 1 concurrent workers.\n",
      "[Parallel(n_jobs=1)]: Done   1 out of   1 | elapsed:    0.5s remaining:    0.0s\n",
      "[Parallel(n_jobs=1)]: Done 196 out of 196 | elapsed:  1.4min finished\n",
      "\n",
      "[2021-01-18 16:47:49] Features: 80/100 -- score: 0.6174051715604414[Parallel(n_jobs=1)]: Using backend SequentialBackend with 1 concurrent workers.\n",
      "[Parallel(n_jobs=1)]: Done   1 out of   1 | elapsed:    0.5s remaining:    0.0s\n",
      "[Parallel(n_jobs=1)]: Done 195 out of 195 | elapsed:  1.6min finished\n",
      "\n",
      "[2021-01-18 16:49:26] Features: 81/100 -- score: 0.6175171740603518[Parallel(n_jobs=1)]: Using backend SequentialBackend with 1 concurrent workers.\n",
      "[Parallel(n_jobs=1)]: Done   1 out of   1 | elapsed:    0.5s remaining:    0.0s\n",
      "[Parallel(n_jobs=1)]: Done 194 out of 194 | elapsed:  1.6min finished\n",
      "\n",
      "[2021-01-18 16:51:02] Features: 82/100 -- score: 0.6176442656132306[Parallel(n_jobs=1)]: Using backend SequentialBackend with 1 concurrent workers.\n",
      "[Parallel(n_jobs=1)]: Done   1 out of   1 | elapsed:    0.6s remaining:    0.0s\n",
      "[Parallel(n_jobs=1)]: Done 193 out of 193 | elapsed:  1.8min finished\n",
      "\n",
      "[2021-01-18 16:52:49] Features: 83/100 -- score: 0.6177445573184503[Parallel(n_jobs=1)]: Using backend SequentialBackend with 1 concurrent workers.\n",
      "[Parallel(n_jobs=1)]: Done   1 out of   1 | elapsed:    0.6s remaining:    0.0s\n",
      "[Parallel(n_jobs=1)]: Done 192 out of 192 | elapsed:  1.9min finished\n",
      "\n",
      "[2021-01-18 16:54:43] Features: 84/100 -- score: 0.6178535227727935[Parallel(n_jobs=1)]: Using backend SequentialBackend with 1 concurrent workers.\n",
      "[Parallel(n_jobs=1)]: Done   1 out of   1 | elapsed:    0.5s remaining:    0.0s\n",
      "[Parallel(n_jobs=1)]: Done 191 out of 191 | elapsed:  1.7min finished\n",
      "\n",
      "[2021-01-18 16:56:26] Features: 85/100 -- score: 0.6179436190837255[Parallel(n_jobs=1)]: Using backend SequentialBackend with 1 concurrent workers.\n",
      "[Parallel(n_jobs=1)]: Done   1 out of   1 | elapsed:    0.7s remaining:    0.0s\n",
      "\n",
      "STOPPING EARLY DUE TO KEYBOARD INTERRUPT..."
     ]
    },
    {
     "output_type": "execute_result",
     "data": {
      "text/plain": [
       "SequentialFeatureSelector(cv=[(array([1329, 3006, 2292, ..., 7298, 7613, 3773]),\n",
       "                               array([2799, 1890, 4597, 4021, 5163, 1188, 2402, 6557,  332, 3882, 2712,\n",
       "       4139, 6289, 5420, 2868, 1611, 6105, 2298, 4718,  733, 1574, 4033,\n",
       "       7547, 2287, 2758, 6738,  120, 7168, 3428,  753, 5136, 7455, 4774,\n",
       "       4481, 4574, 5515, 2146, 5358, 5629, 5161, 1308, 6925, 6468, 7481,\n",
       "        999, 5251, 3085, 5032, 5638, 5584,  220, 1601, 6407, 7630, 3903,...\n",
       "       1947, 4172, 5127, 3126, 6891, 1206, 7230, 3007, 4573, 5507, 5046,\n",
       "       2324, 6893, 5559, 3631,  260, 7656, 7639, 3735,   39, 3399, 5115,\n",
       "        678, 7023, 3379, 5402, 2214,   10, 1643, 7065, 1594,  722, 4934,\n",
       "       7384, 6157, 7420, 2788, 3888, 4159, 5384, 2432, 1832, 5857, 6521,\n",
       "       1198, 1575, 1322, 5755, 4715, 1745, 2232,  815, 4312,  106, 6034,\n",
       "       4498, 4796, 5923, 4939, 7387, 3543, 3810]))],\n",
       "                          estimator=LinearRegression(), k_features=100,\n",
       "                          scoring='r2', verbose=2)"
      ]
     },
     "metadata": {},
     "execution_count": 19
    }
   ],
   "source": [
    "sfs.fit(X_picks, y)"
   ]
  },
  {
   "cell_type": "code",
   "execution_count": null,
   "metadata": {},
   "outputs": [],
   "source": [
    "k_features = 100"
   ]
  },
  {
   "cell_type": "code",
   "execution_count": 16,
   "metadata": {},
   "outputs": [],
   "source": [
    "picks = [picks[idx] for idx in sfs.k_feature_idx_]\n",
    "col_idx = [single_train_feature_name_2_idx[pick] for pick in picks]"
   ]
  },
  {
   "source": [
    "picks = ['tf_summed_bpe', 'tf', 'log_tf_lemma', 'glove_word_277', 'glove_word_10', 'log_tf_ngram_2', 'glove_word_35', 'log_tf_summed_bpe', 'glove_word_201', 'glove_word_66', 'glove_word_100', 'glove_word_173', 'tf_ngram_3', 'glove_word_151', 'glove_word_255', 'glove_word_279', 'word_len', 'glove_word_155', 'glove_word_42', 'glove_word_187', 'log_tfidf_ngram_3', 'glove_word_296', 'glove_word_63', 'glove_word_25', 'glove_word_18', 'glove_word_235', 'glove_word_22', 'glove_word_248', 'glove_word_55', 'glove_word_210', 'glove_word_93', 'glove_word_38', 'glove_word_135', 'glove_word_295', 'glove_word_56', 'tfidf', 'glove_word_84', 'glove_word_262', 'glove_word_278', 'glove_word_286', 'glove_word_127', 'glove_word_268', 'glove_word_193', 'glove_word_251', 'glove_word_157', 'glove_word_102', 'glove_word_44', 'glove_word_14', 'glove_word_89', 'glove_word_131', 'log_is_acronym', 'glove_word_103', 'glove_word_123', 'glove_word_85', 'glove_word_114', 'glove_word_109', 'glove_word_128', 'glove_word_264', 'glove_word_203', 'glove_word_237', 'DaleChallIndex', 'infersent_embeddings_3496', 'glove_word_51', 'glove_word_88', 'glove_word_276', 'glove_word_213', 'glove_word_47', 'glove_word_292', 'glove_word_196', 'glove_word_174', 'glove_word_254', 'glove_word_283', 'glove_word_106', 'glove_word_241', 'glove_word_217', 'glove_word_39', 'glove_word_223', 'glove_word_141', 'log_num_hyponyms', 'glove_word_158', 'is_acronym', 'glove_word_37', 'glove_word_24', 'glove_word_2', 'elmo_word_488', 'POS_NNP', 'elmo_word_164', 'glove_word_5', 'glove_word_6', 'glove_word_16', 'glove_word_27', 'glove_word_79', 'num_syllables', 'glove_word_192', 'glove_word_232', 'glove_word_189', 'glove_word_175', 'glove_word_149', 'infersent_embeddings_2563', 'infersent_embeddings_3175']\n",
    "col_idx = np.array([single_train_feature_name_2_idx[pick] for pick in picks])"
   ],
   "cell_type": "markdown",
   "metadata": {}
  },
  {
   "source": [
    "## Wrapped methods: Forward feature selection (w/ mean(LR, MT-DNN))"
   ],
   "cell_type": "markdown",
   "metadata": {}
  },
  {
   "cell_type": "code",
   "execution_count": 8,
   "metadata": {},
   "outputs": [],
   "source": [
    "with open('./data/'+job+'/colab/single_dev_mini_bert_scores.json', 'r') as file:\n",
    "    single_dev_bert_scores = json.load(file)\n",
    "    single_dev_mini['bert_pred_complexity'] = single_dev_bert_scores['scores']"
   ]
  },
  {
   "cell_type": "code",
   "execution_count": 14,
   "metadata": {},
   "outputs": [],
   "source": [
    "class ModifiedLinearRegression(LinearRegression):\n",
    "    def predict(self, X):\n",
    "        single_dev_mini['lr_pred_complexity'] = self._decision_function(X)\n",
    "        return single_dev_mini[['lr_pred_complexity', 'bert_pred_complexity']].mean(axis=1)"
   ]
  },
  {
   "cell_type": "code",
   "execution_count": 16,
   "metadata": {},
   "outputs": [],
   "source": [
    "model = ModifiedLinearRegression()"
   ]
  },
  {
   "cell_type": "code",
   "execution_count": 17,
   "metadata": {},
   "outputs": [],
   "source": [
    "sfs = SequentialFeatureSelector(model,\n",
    "    k_features=100,\n",
    "    #fixed_features=(X_picks.shape[1]-1,),\n",
    "    forward=True,\n",
    "    floating=False,\n",
    "    scoring='r2',\n",
    "    verbose=2,\n",
    "    cv=[(single_train_mini_idx, single_dev_mini_idx)], \n",
    "    #cv=list(custom_cv_folds(single_train, n_splits=5)),\n",
    ")"
   ]
  },
  {
   "source": [
    "sfs.fit(X_picks, y)"
   ],
   "cell_type": "code",
   "metadata": {},
   "execution_count": 18,
   "outputs": [
    {
     "output_type": "stream",
     "name": "stderr",
     "text": [
      "[Parallel(n_jobs=1)]: Using backend SequentialBackend with 1 concurrent workers.\n",
      "[Parallel(n_jobs=1)]: Done   1 out of   1 | elapsed:    0.0s remaining:    0.0s\n",
      "[Parallel(n_jobs=1)]: Done 200 out of 200 | elapsed:    0.7s finished\n",
      "\n",
      "[2021-01-13 02:27:21] Features: 1/100 -- score: 0.6057153198572787[Parallel(n_jobs=1)]: Using backend SequentialBackend with 1 concurrent workers.\n",
      "[Parallel(n_jobs=1)]: Done   1 out of   1 | elapsed:    0.0s remaining:    0.0s\n",
      "[Parallel(n_jobs=1)]: Done 199 out of 199 | elapsed:    0.6s finished\n",
      "\n",
      "[2021-01-13 02:27:21] Features: 2/100 -- score: 0.6151337043681933[Parallel(n_jobs=1)]: Using backend SequentialBackend with 1 concurrent workers.\n",
      "[Parallel(n_jobs=1)]: Done   1 out of   1 | elapsed:    0.0s remaining:    0.0s\n",
      "[Parallel(n_jobs=1)]: Done 198 out of 198 | elapsed:    0.7s finished\n",
      "\n",
      "[2021-01-13 02:27:22] Features: 3/100 -- score: 0.6210379319849197[Parallel(n_jobs=1)]: Using backend SequentialBackend with 1 concurrent workers.\n",
      "[Parallel(n_jobs=1)]: Done   1 out of   1 | elapsed:    0.0s remaining:    0.0s\n",
      "[Parallel(n_jobs=1)]: Done 197 out of 197 | elapsed:    0.7s finished\n",
      "\n",
      "[2021-01-13 02:27:23] Features: 4/100 -- score: 0.6248608033360428[Parallel(n_jobs=1)]: Using backend SequentialBackend with 1 concurrent workers.\n",
      "[Parallel(n_jobs=1)]: Done   1 out of   1 | elapsed:    0.0s remaining:    0.0s\n",
      "[Parallel(n_jobs=1)]: Done 196 out of 196 | elapsed:    0.7s finished\n",
      "\n",
      "[2021-01-13 02:27:23] Features: 5/100 -- score: 0.6285054487913995[Parallel(n_jobs=1)]: Using backend SequentialBackend with 1 concurrent workers.\n",
      "[Parallel(n_jobs=1)]: Done   1 out of   1 | elapsed:    0.0s remaining:    0.0s\n",
      "[Parallel(n_jobs=1)]: Done 195 out of 195 | elapsed:    0.8s finished\n",
      "\n",
      "[2021-01-13 02:27:24] Features: 6/100 -- score: 0.6309940485666361[Parallel(n_jobs=1)]: Using backend SequentialBackend with 1 concurrent workers.\n",
      "[Parallel(n_jobs=1)]: Done   1 out of   1 | elapsed:    0.0s remaining:    0.0s\n",
      "[Parallel(n_jobs=1)]: Done 194 out of 194 | elapsed:    0.8s finished\n",
      "\n",
      "[2021-01-13 02:27:25] Features: 7/100 -- score: 0.6329429750013458[Parallel(n_jobs=1)]: Using backend SequentialBackend with 1 concurrent workers.\n",
      "[Parallel(n_jobs=1)]: Done   1 out of   1 | elapsed:    0.0s remaining:    0.0s\n",
      "[Parallel(n_jobs=1)]: Done 193 out of 193 | elapsed:    0.8s finished\n",
      "\n",
      "[2021-01-13 02:27:26] Features: 8/100 -- score: 0.6348413034588967[Parallel(n_jobs=1)]: Using backend SequentialBackend with 1 concurrent workers.\n",
      "[Parallel(n_jobs=1)]: Done   1 out of   1 | elapsed:    0.0s remaining:    0.0s\n",
      "[Parallel(n_jobs=1)]: Done 192 out of 192 | elapsed:    0.8s finished\n",
      "\n",
      "[2021-01-13 02:27:27] Features: 9/100 -- score: 0.6366172287006415[Parallel(n_jobs=1)]: Using backend SequentialBackend with 1 concurrent workers.\n",
      "[Parallel(n_jobs=1)]: Done   1 out of   1 | elapsed:    0.0s remaining:    0.0s\n",
      "[Parallel(n_jobs=1)]: Done 191 out of 191 | elapsed:    0.9s finished\n",
      "\n",
      "[2021-01-13 02:27:28] Features: 10/100 -- score: 0.6382221957774609[Parallel(n_jobs=1)]: Using backend SequentialBackend with 1 concurrent workers.\n",
      "[Parallel(n_jobs=1)]: Done   1 out of   1 | elapsed:    0.0s remaining:    0.0s\n",
      "[Parallel(n_jobs=1)]: Done 190 out of 190 | elapsed:    0.9s finished\n",
      "\n",
      "[2021-01-13 02:27:28] Features: 11/100 -- score: 0.6396910901373605[Parallel(n_jobs=1)]: Using backend SequentialBackend with 1 concurrent workers.\n",
      "[Parallel(n_jobs=1)]: Done   1 out of   1 | elapsed:    0.0s remaining:    0.0s\n",
      "[Parallel(n_jobs=1)]: Done 189 out of 189 | elapsed:    0.9s finished\n",
      "\n",
      "[2021-01-13 02:27:29] Features: 12/100 -- score: 0.6409640924005264[Parallel(n_jobs=1)]: Using backend SequentialBackend with 1 concurrent workers.\n",
      "[Parallel(n_jobs=1)]: Done   1 out of   1 | elapsed:    0.1s remaining:    0.0s\n",
      "[Parallel(n_jobs=1)]: Done 188 out of 188 | elapsed:    1.8s finished\n",
      "\n",
      "[2021-01-13 02:27:31] Features: 13/100 -- score: 0.64232783905208[Parallel(n_jobs=1)]: Using backend SequentialBackend with 1 concurrent workers.\n",
      "[Parallel(n_jobs=1)]: Done   1 out of   1 | elapsed:    0.0s remaining:    0.0s\n",
      "[Parallel(n_jobs=1)]: Done 187 out of 187 | elapsed:    2.0s finished\n",
      "\n",
      "[2021-01-13 02:27:33] Features: 14/100 -- score: 0.6436667539162031[Parallel(n_jobs=1)]: Using backend SequentialBackend with 1 concurrent workers.\n",
      "[Parallel(n_jobs=1)]: Done   1 out of   1 | elapsed:    0.0s remaining:    0.0s\n",
      "[Parallel(n_jobs=1)]: Done 186 out of 186 | elapsed:    1.7s finished\n",
      "\n",
      "[2021-01-13 02:27:35] Features: 15/100 -- score: 0.6447508371772284[Parallel(n_jobs=1)]: Using backend SequentialBackend with 1 concurrent workers.\n",
      "[Parallel(n_jobs=1)]: Done   1 out of   1 | elapsed:    0.0s remaining:    0.0s\n",
      "[Parallel(n_jobs=1)]: Done 185 out of 185 | elapsed:    1.9s finished\n",
      "\n",
      "[2021-01-13 02:27:37] Features: 16/100 -- score: 0.6458211270574206[Parallel(n_jobs=1)]: Using backend SequentialBackend with 1 concurrent workers.\n",
      "[Parallel(n_jobs=1)]: Done   1 out of   1 | elapsed:    0.0s remaining:    0.0s\n",
      "[Parallel(n_jobs=1)]: Done 184 out of 184 | elapsed:    1.7s finished\n",
      "\n",
      "[2021-01-13 02:27:38] Features: 17/100 -- score: 0.6467715157550541[Parallel(n_jobs=1)]: Using backend SequentialBackend with 1 concurrent workers.\n",
      "[Parallel(n_jobs=1)]: Done   1 out of   1 | elapsed:    0.0s remaining:    0.0s\n",
      "[Parallel(n_jobs=1)]: Done 183 out of 183 | elapsed:    2.0s finished\n",
      "\n",
      "[2021-01-13 02:27:41] Features: 18/100 -- score: 0.647606120550593[Parallel(n_jobs=1)]: Using backend SequentialBackend with 1 concurrent workers.\n",
      "[Parallel(n_jobs=1)]: Done   1 out of   1 | elapsed:    0.0s remaining:    0.0s\n",
      "[Parallel(n_jobs=1)]: Done 182 out of 182 | elapsed:    1.9s finished\n",
      "\n",
      "[2021-01-13 02:27:42] Features: 19/100 -- score: 0.6483849147369124[Parallel(n_jobs=1)]: Using backend SequentialBackend with 1 concurrent workers.\n",
      "[Parallel(n_jobs=1)]: Done   1 out of   1 | elapsed:    0.0s remaining:    0.0s\n",
      "[Parallel(n_jobs=1)]: Done 181 out of 181 | elapsed:    2.1s finished\n",
      "\n",
      "[2021-01-13 02:27:45] Features: 20/100 -- score: 0.6491675446494841[Parallel(n_jobs=1)]: Using backend SequentialBackend with 1 concurrent workers.\n",
      "[Parallel(n_jobs=1)]: Done   1 out of   1 | elapsed:    0.0s remaining:    0.0s\n",
      "[Parallel(n_jobs=1)]: Done 180 out of 180 | elapsed:    2.0s finished\n",
      "\n",
      "[2021-01-13 02:27:47] Features: 21/100 -- score: 0.6499451877421137[Parallel(n_jobs=1)]: Using backend SequentialBackend with 1 concurrent workers.\n",
      "[Parallel(n_jobs=1)]: Done   1 out of   1 | elapsed:    0.0s remaining:    0.0s\n",
      "[Parallel(n_jobs=1)]: Done 179 out of 179 | elapsed:    1.9s finished\n",
      "\n",
      "[2021-01-13 02:27:48] Features: 22/100 -- score: 0.6507781739849876[Parallel(n_jobs=1)]: Using backend SequentialBackend with 1 concurrent workers.\n",
      "[Parallel(n_jobs=1)]: Done   1 out of   1 | elapsed:    0.0s remaining:    0.0s\n",
      "[Parallel(n_jobs=1)]: Done 178 out of 178 | elapsed:    2.0s finished\n",
      "\n",
      "[2021-01-13 02:27:51] Features: 23/100 -- score: 0.6515213766400603[Parallel(n_jobs=1)]: Using backend SequentialBackend with 1 concurrent workers.\n",
      "[Parallel(n_jobs=1)]: Done   1 out of   1 | elapsed:    0.0s remaining:    0.0s\n",
      "[Parallel(n_jobs=1)]: Done 177 out of 177 | elapsed:    2.1s finished\n",
      "\n",
      "[2021-01-13 02:27:53] Features: 24/100 -- score: 0.6523222596086933[Parallel(n_jobs=1)]: Using backend SequentialBackend with 1 concurrent workers.\n",
      "[Parallel(n_jobs=1)]: Done   1 out of   1 | elapsed:    0.0s remaining:    0.0s\n",
      "[Parallel(n_jobs=1)]: Done 176 out of 176 | elapsed:    2.1s finished\n",
      "\n",
      "[2021-01-13 02:27:55] Features: 25/100 -- score: 0.6529904847829371[Parallel(n_jobs=1)]: Using backend SequentialBackend with 1 concurrent workers.\n",
      "[Parallel(n_jobs=1)]: Done   1 out of   1 | elapsed:    0.0s remaining:    0.0s\n",
      "[Parallel(n_jobs=1)]: Done 175 out of 175 | elapsed:    2.8s finished\n",
      "\n",
      "[2021-01-13 02:27:58] Features: 26/100 -- score: 0.6536268853066816[Parallel(n_jobs=1)]: Using backend SequentialBackend with 1 concurrent workers.\n",
      "[Parallel(n_jobs=1)]: Done   1 out of   1 | elapsed:    0.0s remaining:    0.0s\n",
      "[Parallel(n_jobs=1)]: Done 174 out of 174 | elapsed:    2.7s finished\n",
      "\n",
      "[2021-01-13 02:28:00] Features: 27/100 -- score: 0.6542709708519652[Parallel(n_jobs=1)]: Using backend SequentialBackend with 1 concurrent workers.\n",
      "[Parallel(n_jobs=1)]: Done   1 out of   1 | elapsed:    0.0s remaining:    0.0s\n",
      "[Parallel(n_jobs=1)]: Done 173 out of 173 | elapsed:    2.4s finished\n",
      "\n",
      "[2021-01-13 02:28:03] Features: 28/100 -- score: 0.6548746293858032[Parallel(n_jobs=1)]: Using backend SequentialBackend with 1 concurrent workers.\n",
      "[Parallel(n_jobs=1)]: Done   1 out of   1 | elapsed:    0.0s remaining:    0.0s\n",
      "[Parallel(n_jobs=1)]: Done 172 out of 172 | elapsed:    2.6s finished\n",
      "\n",
      "[2021-01-13 02:28:05] Features: 29/100 -- score: 0.655438361861991[Parallel(n_jobs=1)]: Using backend SequentialBackend with 1 concurrent workers.\n",
      "[Parallel(n_jobs=1)]: Done   1 out of   1 | elapsed:    0.0s remaining:    0.0s\n",
      "[Parallel(n_jobs=1)]: Done 171 out of 171 | elapsed:    2.7s finished\n",
      "\n",
      "[2021-01-13 02:28:08] Features: 30/100 -- score: 0.6558469172046062[Parallel(n_jobs=1)]: Using backend SequentialBackend with 1 concurrent workers.\n",
      "[Parallel(n_jobs=1)]: Done   1 out of   1 | elapsed:    0.0s remaining:    0.0s\n",
      "[Parallel(n_jobs=1)]: Done 170 out of 170 | elapsed:    3.0s finished\n",
      "\n",
      "[2021-01-13 02:28:11] Features: 31/100 -- score: 0.6563174730863666[Parallel(n_jobs=1)]: Using backend SequentialBackend with 1 concurrent workers.\n",
      "[Parallel(n_jobs=1)]: Done   1 out of   1 | elapsed:    0.0s remaining:    0.0s\n",
      "[Parallel(n_jobs=1)]: Done 169 out of 169 | elapsed:    2.5s finished\n",
      "\n",
      "[2021-01-13 02:28:14] Features: 32/100 -- score: 0.6567573182260582[Parallel(n_jobs=1)]: Using backend SequentialBackend with 1 concurrent workers.\n",
      "[Parallel(n_jobs=1)]: Done   1 out of   1 | elapsed:    0.0s remaining:    0.0s\n",
      "[Parallel(n_jobs=1)]: Done 168 out of 168 | elapsed:    2.2s finished\n",
      "\n",
      "[2021-01-13 02:28:16] Features: 33/100 -- score: 0.6572817571782824[Parallel(n_jobs=1)]: Using backend SequentialBackend with 1 concurrent workers.\n",
      "[Parallel(n_jobs=1)]: Done   1 out of   1 | elapsed:    0.0s remaining:    0.0s\n",
      "[Parallel(n_jobs=1)]: Done 167 out of 167 | elapsed:    2.6s finished\n",
      "\n",
      "[2021-01-13 02:28:18] Features: 34/100 -- score: 0.6577509899476118[Parallel(n_jobs=1)]: Using backend SequentialBackend with 1 concurrent workers.\n",
      "[Parallel(n_jobs=1)]: Done   1 out of   1 | elapsed:    0.0s remaining:    0.0s\n",
      "[Parallel(n_jobs=1)]: Done 166 out of 166 | elapsed:    3.1s finished\n",
      "\n",
      "[2021-01-13 02:28:22] Features: 35/100 -- score: 0.6582273694810707[Parallel(n_jobs=1)]: Using backend SequentialBackend with 1 concurrent workers.\n",
      "[Parallel(n_jobs=1)]: Done   1 out of   1 | elapsed:    0.0s remaining:    0.0s\n",
      "[Parallel(n_jobs=1)]: Done 165 out of 165 | elapsed:    2.4s finished\n",
      "\n",
      "[2021-01-13 02:28:24] Features: 36/100 -- score: 0.6586110405479364[Parallel(n_jobs=1)]: Using backend SequentialBackend with 1 concurrent workers.\n",
      "[Parallel(n_jobs=1)]: Done   1 out of   1 | elapsed:    0.0s remaining:    0.0s\n",
      "[Parallel(n_jobs=1)]: Done 164 out of 164 | elapsed:    2.6s finished\n",
      "\n",
      "[2021-01-13 02:28:27] Features: 37/100 -- score: 0.6589816349042699[Parallel(n_jobs=1)]: Using backend SequentialBackend with 1 concurrent workers.\n",
      "[Parallel(n_jobs=1)]: Done   1 out of   1 | elapsed:    0.0s remaining:    0.0s\n",
      "[Parallel(n_jobs=1)]: Done 163 out of 163 | elapsed:    3.2s finished\n",
      "\n",
      "[2021-01-13 02:28:30] Features: 38/100 -- score: 0.6592981497556507[Parallel(n_jobs=1)]: Using backend SequentialBackend with 1 concurrent workers.\n",
      "[Parallel(n_jobs=1)]: Done   1 out of   1 | elapsed:    0.0s remaining:    0.0s\n",
      "[Parallel(n_jobs=1)]: Done 162 out of 162 | elapsed:    3.7s finished\n",
      "\n",
      "[2021-01-13 02:28:33] Features: 39/100 -- score: 0.6596023661229726[Parallel(n_jobs=1)]: Using backend SequentialBackend with 1 concurrent workers.\n",
      "[Parallel(n_jobs=1)]: Done   1 out of   1 | elapsed:    0.0s remaining:    0.0s\n",
      "[Parallel(n_jobs=1)]: Done 161 out of 161 | elapsed:    3.0s finished\n",
      "\n",
      "[2021-01-13 02:28:36] Features: 40/100 -- score: 0.6598608929075427[Parallel(n_jobs=1)]: Using backend SequentialBackend with 1 concurrent workers.\n",
      "[Parallel(n_jobs=1)]: Done   1 out of   1 | elapsed:    0.0s remaining:    0.0s\n",
      "[Parallel(n_jobs=1)]: Done 160 out of 160 | elapsed:    2.9s finished\n",
      "\n",
      "[2021-01-13 02:28:39] Features: 41/100 -- score: 0.6601075037610072[Parallel(n_jobs=1)]: Using backend SequentialBackend with 1 concurrent workers.\n",
      "[Parallel(n_jobs=1)]: Done   1 out of   1 | elapsed:    0.0s remaining:    0.0s\n",
      "[Parallel(n_jobs=1)]: Done 159 out of 159 | elapsed:    2.8s finished\n",
      "\n",
      "[2021-01-13 02:28:42] Features: 42/100 -- score: 0.6603624764058683[Parallel(n_jobs=1)]: Using backend SequentialBackend with 1 concurrent workers.\n",
      "[Parallel(n_jobs=1)]: Done   1 out of   1 | elapsed:    0.0s remaining:    0.0s\n",
      "[Parallel(n_jobs=1)]: Done 158 out of 158 | elapsed:    3.5s finished\n",
      "\n",
      "[2021-01-13 02:28:46] Features: 43/100 -- score: 0.660577541367253[Parallel(n_jobs=1)]: Using backend SequentialBackend with 1 concurrent workers.\n",
      "[Parallel(n_jobs=1)]: Done   1 out of   1 | elapsed:    0.0s remaining:    0.0s\n",
      "[Parallel(n_jobs=1)]: Done 157 out of 157 | elapsed:    3.6s finished\n",
      "\n",
      "[2021-01-13 02:28:49] Features: 44/100 -- score: 0.6607794142325112[Parallel(n_jobs=1)]: Using backend SequentialBackend with 1 concurrent workers.\n",
      "[Parallel(n_jobs=1)]: Done   1 out of   1 | elapsed:    0.0s remaining:    0.0s\n",
      "[Parallel(n_jobs=1)]: Done 156 out of 156 | elapsed:    3.5s finished\n",
      "\n",
      "[2021-01-13 02:28:53] Features: 45/100 -- score: 0.6609797707655045[Parallel(n_jobs=1)]: Using backend SequentialBackend with 1 concurrent workers.\n",
      "[Parallel(n_jobs=1)]: Done   1 out of   1 | elapsed:    0.0s remaining:    0.0s\n",
      "[Parallel(n_jobs=1)]: Done 155 out of 155 | elapsed:    4.3s finished\n",
      "\n",
      "[2021-01-13 02:28:57] Features: 46/100 -- score: 0.6611892917911708[Parallel(n_jobs=1)]: Using backend SequentialBackend with 1 concurrent workers.\n",
      "[Parallel(n_jobs=1)]: Done   1 out of   1 | elapsed:    0.0s remaining:    0.0s\n",
      "[Parallel(n_jobs=1)]: Done 154 out of 154 | elapsed:    3.4s finished\n",
      "\n",
      "[2021-01-13 02:29:01] Features: 47/100 -- score: 0.6613846518948218[Parallel(n_jobs=1)]: Using backend SequentialBackend with 1 concurrent workers.\n",
      "[Parallel(n_jobs=1)]: Done   1 out of   1 | elapsed:    0.0s remaining:    0.0s\n",
      "[Parallel(n_jobs=1)]: Done 153 out of 153 | elapsed:    3.3s finished\n",
      "\n",
      "[2021-01-13 02:29:04] Features: 48/100 -- score: 0.6615972055012613[Parallel(n_jobs=1)]: Using backend SequentialBackend with 1 concurrent workers.\n",
      "[Parallel(n_jobs=1)]: Done   1 out of   1 | elapsed:    0.0s remaining:    0.0s\n",
      "[Parallel(n_jobs=1)]: Done 152 out of 152 | elapsed:    4.4s finished\n",
      "\n",
      "[2021-01-13 02:29:08] Features: 49/100 -- score: 0.6618125053766232[Parallel(n_jobs=1)]: Using backend SequentialBackend with 1 concurrent workers.\n",
      "[Parallel(n_jobs=1)]: Done   1 out of   1 | elapsed:    0.1s remaining:    0.0s\n",
      "[Parallel(n_jobs=1)]: Done 151 out of 151 | elapsed:    4.7s finished\n",
      "\n",
      "[2021-01-13 02:29:13] Features: 50/100 -- score: 0.661995995297177[Parallel(n_jobs=1)]: Using backend SequentialBackend with 1 concurrent workers.\n",
      "[Parallel(n_jobs=1)]: Done   1 out of   1 | elapsed:    0.0s remaining:    0.0s\n",
      "[Parallel(n_jobs=1)]: Done 150 out of 150 | elapsed:    4.2s finished\n",
      "\n",
      "[2021-01-13 02:29:17] Features: 51/100 -- score: 0.6621984722435615[Parallel(n_jobs=1)]: Using backend SequentialBackend with 1 concurrent workers.\n",
      "[Parallel(n_jobs=1)]: Done   1 out of   1 | elapsed:    0.0s remaining:    0.0s\n",
      "[Parallel(n_jobs=1)]: Done 149 out of 149 | elapsed:    4.5s finished\n",
      "\n",
      "[2021-01-13 02:29:22] Features: 52/100 -- score: 0.6624306311749402[Parallel(n_jobs=1)]: Using backend SequentialBackend with 1 concurrent workers.\n",
      "[Parallel(n_jobs=1)]: Done   1 out of   1 | elapsed:    0.0s remaining:    0.0s\n",
      "[Parallel(n_jobs=1)]: Done 148 out of 148 | elapsed:    4.2s finished\n",
      "\n",
      "[2021-01-13 02:29:26] Features: 53/100 -- score: 0.6626155125797415[Parallel(n_jobs=1)]: Using backend SequentialBackend with 1 concurrent workers.\n",
      "[Parallel(n_jobs=1)]: Done   1 out of   1 | elapsed:    0.0s remaining:    0.0s\n",
      "[Parallel(n_jobs=1)]: Done 147 out of 147 | elapsed:    3.8s finished\n",
      "\n",
      "[2021-01-13 02:29:30] Features: 54/100 -- score: 0.6628730341970422[Parallel(n_jobs=1)]: Using backend SequentialBackend with 1 concurrent workers.\n",
      "[Parallel(n_jobs=1)]: Done   1 out of   1 | elapsed:    0.0s remaining:    0.0s\n",
      "[Parallel(n_jobs=1)]: Done 146 out of 146 | elapsed:    4.2s finished\n",
      "\n",
      "[2021-01-13 02:29:34] Features: 55/100 -- score: 0.6630070951918643[Parallel(n_jobs=1)]: Using backend SequentialBackend with 1 concurrent workers.\n",
      "[Parallel(n_jobs=1)]: Done   1 out of   1 | elapsed:    0.0s remaining:    0.0s\n",
      "[Parallel(n_jobs=1)]: Done 145 out of 145 | elapsed:    3.2s finished\n",
      "\n",
      "[2021-01-13 02:29:37] Features: 56/100 -- score: 0.6631682494867135[Parallel(n_jobs=1)]: Using backend SequentialBackend with 1 concurrent workers.\n",
      "[Parallel(n_jobs=1)]: Done   1 out of   1 | elapsed:    0.0s remaining:    0.0s\n",
      "[Parallel(n_jobs=1)]: Done 144 out of 144 | elapsed:    3.4s finished\n",
      "\n",
      "[2021-01-13 02:29:41] Features: 57/100 -- score: 0.6632774537033401[Parallel(n_jobs=1)]: Using backend SequentialBackend with 1 concurrent workers.\n",
      "[Parallel(n_jobs=1)]: Done   1 out of   1 | elapsed:    0.1s remaining:    0.0s\n",
      "[Parallel(n_jobs=1)]: Done 143 out of 143 | elapsed:    4.6s finished\n",
      "\n",
      "[2021-01-13 02:29:45] Features: 58/100 -- score: 0.663377844256367[Parallel(n_jobs=1)]: Using backend SequentialBackend with 1 concurrent workers.\n",
      "[Parallel(n_jobs=1)]: Done   1 out of   1 | elapsed:    0.0s remaining:    0.0s\n",
      "[Parallel(n_jobs=1)]: Done 142 out of 142 | elapsed:    4.5s finished\n",
      "\n",
      "[2021-01-13 02:29:50] Features: 59/100 -- score: 0.6635111309694669[Parallel(n_jobs=1)]: Using backend SequentialBackend with 1 concurrent workers.\n",
      "[Parallel(n_jobs=1)]: Done   1 out of   1 | elapsed:    0.0s remaining:    0.0s\n",
      "[Parallel(n_jobs=1)]: Done 141 out of 141 | elapsed:    4.9s finished\n",
      "\n",
      "[2021-01-13 02:29:55] Features: 60/100 -- score: 0.663591669698555[Parallel(n_jobs=1)]: Using backend SequentialBackend with 1 concurrent workers.\n",
      "[Parallel(n_jobs=1)]: Done   1 out of   1 | elapsed:    0.0s remaining:    0.0s\n",
      "[Parallel(n_jobs=1)]: Done 140 out of 140 | elapsed:    4.9s finished\n",
      "\n",
      "[2021-01-13 02:30:00] Features: 61/100 -- score: 0.6636616464821792[Parallel(n_jobs=1)]: Using backend SequentialBackend with 1 concurrent workers.\n",
      "[Parallel(n_jobs=1)]: Done   1 out of   1 | elapsed:    0.0s remaining:    0.0s\n",
      "[Parallel(n_jobs=1)]: Done 139 out of 139 | elapsed:    5.0s finished\n",
      "\n",
      "[2021-01-13 02:30:05] Features: 62/100 -- score: 0.6637394794533249[Parallel(n_jobs=1)]: Using backend SequentialBackend with 1 concurrent workers.\n",
      "[Parallel(n_jobs=1)]: Done   1 out of   1 | elapsed:    0.0s remaining:    0.0s\n",
      "[Parallel(n_jobs=1)]: Done 138 out of 138 | elapsed:    5.2s finished\n",
      "\n",
      "[2021-01-13 02:30:10] Features: 63/100 -- score: 0.6638774839575452[Parallel(n_jobs=1)]: Using backend SequentialBackend with 1 concurrent workers.\n",
      "[Parallel(n_jobs=1)]: Done   1 out of   1 | elapsed:    0.0s remaining:    0.0s\n",
      "[Parallel(n_jobs=1)]: Done 137 out of 137 | elapsed:    5.7s finished\n",
      "\n",
      "[2021-01-13 02:30:16] Features: 64/100 -- score: 0.6639642961541873[Parallel(n_jobs=1)]: Using backend SequentialBackend with 1 concurrent workers.\n",
      "[Parallel(n_jobs=1)]: Done   1 out of   1 | elapsed:    0.0s remaining:    0.0s\n",
      "[Parallel(n_jobs=1)]: Done 136 out of 136 | elapsed:    5.3s finished\n",
      "\n",
      "[2021-01-13 02:30:21] Features: 65/100 -- score: 0.6640417829911931[Parallel(n_jobs=1)]: Using backend SequentialBackend with 1 concurrent workers.\n",
      "[Parallel(n_jobs=1)]: Done   1 out of   1 | elapsed:    0.0s remaining:    0.0s\n",
      "[Parallel(n_jobs=1)]: Done 135 out of 135 | elapsed:    5.1s finished\n",
      "\n",
      "[2021-01-13 02:30:26] Features: 66/100 -- score: 0.6641317870081643[Parallel(n_jobs=1)]: Using backend SequentialBackend with 1 concurrent workers.\n",
      "[Parallel(n_jobs=1)]: Done   1 out of   1 | elapsed:    0.0s remaining:    0.0s\n",
      "[Parallel(n_jobs=1)]: Done 134 out of 134 | elapsed:    4.8s finished\n",
      "\n",
      "[2021-01-13 02:30:31] Features: 67/100 -- score: 0.6642316850395394[Parallel(n_jobs=1)]: Using backend SequentialBackend with 1 concurrent workers.\n",
      "[Parallel(n_jobs=1)]: Done   1 out of   1 | elapsed:    0.0s remaining:    0.0s\n",
      "[Parallel(n_jobs=1)]: Done 133 out of 133 | elapsed:    5.3s finished\n",
      "\n",
      "[2021-01-13 02:30:36] Features: 68/100 -- score: 0.6643208480734779[Parallel(n_jobs=1)]: Using backend SequentialBackend with 1 concurrent workers.\n",
      "[Parallel(n_jobs=1)]: Done   1 out of   1 | elapsed:    0.0s remaining:    0.0s\n",
      "[Parallel(n_jobs=1)]: Done 132 out of 132 | elapsed:    4.8s finished\n",
      "\n",
      "[2021-01-13 02:30:41] Features: 69/100 -- score: 0.6643897425665017[Parallel(n_jobs=1)]: Using backend SequentialBackend with 1 concurrent workers.\n",
      "[Parallel(n_jobs=1)]: Done   1 out of   1 | elapsed:    0.1s remaining:    0.0s\n",
      "[Parallel(n_jobs=1)]: Done 131 out of 131 | elapsed:    4.5s finished\n",
      "\n",
      "[2021-01-13 02:30:46] Features: 70/100 -- score: 0.6644497765185959[Parallel(n_jobs=1)]: Using backend SequentialBackend with 1 concurrent workers.\n",
      "[Parallel(n_jobs=1)]: Done   1 out of   1 | elapsed:    0.0s remaining:    0.0s\n",
      "[Parallel(n_jobs=1)]: Done 130 out of 130 | elapsed:    4.6s finished\n",
      "\n",
      "[2021-01-13 02:30:50] Features: 71/100 -- score: 0.66450866389359[Parallel(n_jobs=1)]: Using backend SequentialBackend with 1 concurrent workers.\n",
      "[Parallel(n_jobs=1)]: Done   1 out of   1 | elapsed:    0.0s remaining:    0.0s\n",
      "[Parallel(n_jobs=1)]: Done 129 out of 129 | elapsed:    5.1s finished\n",
      "\n",
      "[2021-01-13 02:30:55] Features: 72/100 -- score: 0.6645673388729835[Parallel(n_jobs=1)]: Using backend SequentialBackend with 1 concurrent workers.\n",
      "[Parallel(n_jobs=1)]: Done   1 out of   1 | elapsed:    0.0s remaining:    0.0s\n",
      "[Parallel(n_jobs=1)]: Done 128 out of 128 | elapsed:    5.3s finished\n",
      "\n",
      "[2021-01-13 02:31:01] Features: 73/100 -- score: 0.6646149675890393[Parallel(n_jobs=1)]: Using backend SequentialBackend with 1 concurrent workers.\n",
      "[Parallel(n_jobs=1)]: Done   1 out of   1 | elapsed:    0.1s remaining:    0.0s\n",
      "[Parallel(n_jobs=1)]: Done 127 out of 127 | elapsed:    7.5s finished\n",
      "\n",
      "[2021-01-13 02:31:08] Features: 74/100 -- score: 0.6646605654387454[Parallel(n_jobs=1)]: Using backend SequentialBackend with 1 concurrent workers.\n",
      "[Parallel(n_jobs=1)]: Done   1 out of   1 | elapsed:    0.0s remaining:    0.0s\n",
      "[Parallel(n_jobs=1)]: Done 126 out of 126 | elapsed:    5.2s finished\n",
      "\n",
      "[2021-01-13 02:31:13] Features: 75/100 -- score: 0.6647131591681474[Parallel(n_jobs=1)]: Using backend SequentialBackend with 1 concurrent workers.\n",
      "[Parallel(n_jobs=1)]: Done   1 out of   1 | elapsed:    0.0s remaining:    0.0s\n",
      "[Parallel(n_jobs=1)]: Done 125 out of 125 | elapsed:    5.1s finished\n",
      "\n",
      "[2021-01-13 02:31:19] Features: 76/100 -- score: 0.6647645922658262[Parallel(n_jobs=1)]: Using backend SequentialBackend with 1 concurrent workers.\n",
      "[Parallel(n_jobs=1)]: Done   1 out of   1 | elapsed:    0.1s remaining:    0.0s\n",
      "[Parallel(n_jobs=1)]: Done 124 out of 124 | elapsed:    6.4s finished\n",
      "\n",
      "[2021-01-13 02:31:25] Features: 77/100 -- score: 0.664817365291025[Parallel(n_jobs=1)]: Using backend SequentialBackend with 1 concurrent workers.\n",
      "[Parallel(n_jobs=1)]: Done   1 out of   1 | elapsed:    0.1s remaining:    0.0s\n",
      "[Parallel(n_jobs=1)]: Done 123 out of 123 | elapsed:    5.8s finished\n",
      "\n",
      "[2021-01-13 02:31:31] Features: 78/100 -- score: 0.6648740997061526[Parallel(n_jobs=1)]: Using backend SequentialBackend with 1 concurrent workers.\n",
      "[Parallel(n_jobs=1)]: Done   1 out of   1 | elapsed:    0.1s remaining:    0.0s\n",
      "[Parallel(n_jobs=1)]: Done 122 out of 122 | elapsed:    5.7s finished\n",
      "\n",
      "[2021-01-13 02:31:37] Features: 79/100 -- score: 0.6649473330314454[Parallel(n_jobs=1)]: Using backend SequentialBackend with 1 concurrent workers.\n",
      "[Parallel(n_jobs=1)]: Done   1 out of   1 | elapsed:    0.0s remaining:    0.0s\n",
      "[Parallel(n_jobs=1)]: Done 121 out of 121 | elapsed:    5.6s finished\n",
      "\n",
      "[2021-01-13 02:31:42] Features: 80/100 -- score: 0.6650225230797939[Parallel(n_jobs=1)]: Using backend SequentialBackend with 1 concurrent workers.\n",
      "[Parallel(n_jobs=1)]: Done   1 out of   1 | elapsed:    0.1s remaining:    0.0s\n",
      "[Parallel(n_jobs=1)]: Done 120 out of 120 | elapsed:    5.7s finished\n",
      "\n",
      "[2021-01-13 02:31:48] Features: 81/100 -- score: 0.6651220096136705[Parallel(n_jobs=1)]: Using backend SequentialBackend with 1 concurrent workers.\n",
      "[Parallel(n_jobs=1)]: Done   1 out of   1 | elapsed:    0.0s remaining:    0.0s\n",
      "[Parallel(n_jobs=1)]: Done 119 out of 119 | elapsed:    5.6s finished\n",
      "\n",
      "[2021-01-13 02:31:53] Features: 82/100 -- score: 0.6652159227565722[Parallel(n_jobs=1)]: Using backend SequentialBackend with 1 concurrent workers.\n",
      "[Parallel(n_jobs=1)]: Done   1 out of   1 | elapsed:    0.1s remaining:    0.0s\n",
      "[Parallel(n_jobs=1)]: Done 118 out of 118 | elapsed:    5.2s finished\n",
      "\n",
      "[2021-01-13 02:31:59] Features: 83/100 -- score: 0.6652612438695675[Parallel(n_jobs=1)]: Using backend SequentialBackend with 1 concurrent workers.\n",
      "[Parallel(n_jobs=1)]: Done   1 out of   1 | elapsed:    0.0s remaining:    0.0s\n",
      "[Parallel(n_jobs=1)]: Done 117 out of 117 | elapsed:    5.5s finished\n",
      "\n",
      "[2021-01-13 02:32:04] Features: 84/100 -- score: 0.6653051581772649[Parallel(n_jobs=1)]: Using backend SequentialBackend with 1 concurrent workers.\n",
      "[Parallel(n_jobs=1)]: Done   1 out of   1 | elapsed:    0.1s remaining:    0.0s\n",
      "[Parallel(n_jobs=1)]: Done 116 out of 116 | elapsed:    5.5s finished\n",
      "\n",
      "[2021-01-13 02:32:10] Features: 85/100 -- score: 0.6653560221033339[Parallel(n_jobs=1)]: Using backend SequentialBackend with 1 concurrent workers.\n",
      "[Parallel(n_jobs=1)]: Done   1 out of   1 | elapsed:    0.1s remaining:    0.0s\n",
      "[Parallel(n_jobs=1)]: Done 115 out of 115 | elapsed:    6.1s finished\n",
      "\n",
      "[2021-01-13 02:32:16] Features: 86/100 -- score: 0.6653867178653909[Parallel(n_jobs=1)]: Using backend SequentialBackend with 1 concurrent workers.\n",
      "[Parallel(n_jobs=1)]: Done   1 out of   1 | elapsed:    0.1s remaining:    0.0s\n",
      "[Parallel(n_jobs=1)]: Done 114 out of 114 | elapsed:    5.5s finished\n",
      "\n",
      "[2021-01-13 02:32:21] Features: 87/100 -- score: 0.6654178230885355[Parallel(n_jobs=1)]: Using backend SequentialBackend with 1 concurrent workers.\n",
      "[Parallel(n_jobs=1)]: Done   1 out of   1 | elapsed:    0.1s remaining:    0.0s\n",
      "[Parallel(n_jobs=1)]: Done 113 out of 113 | elapsed:    6.0s finished\n",
      "\n",
      "[2021-01-13 02:32:27] Features: 88/100 -- score: 0.6654634735391172[Parallel(n_jobs=1)]: Using backend SequentialBackend with 1 concurrent workers.\n",
      "[Parallel(n_jobs=1)]: Done   1 out of   1 | elapsed:    0.1s remaining:    0.0s\n",
      "[Parallel(n_jobs=1)]: Done 112 out of 112 | elapsed:    5.4s finished\n",
      "\n",
      "[2021-01-13 02:32:33] Features: 89/100 -- score: 0.6655559130650218[Parallel(n_jobs=1)]: Using backend SequentialBackend with 1 concurrent workers.\n",
      "[Parallel(n_jobs=1)]: Done   1 out of   1 | elapsed:    0.0s remaining:    0.0s\n",
      "[Parallel(n_jobs=1)]: Done 111 out of 111 | elapsed:    5.9s finished\n",
      "\n",
      "[2021-01-13 02:32:39] Features: 90/100 -- score: 0.6656518996755034[Parallel(n_jobs=1)]: Using backend SequentialBackend with 1 concurrent workers.\n",
      "[Parallel(n_jobs=1)]: Done   1 out of   1 | elapsed:    0.0s remaining:    0.0s\n",
      "[Parallel(n_jobs=1)]: Done 110 out of 110 | elapsed:    6.1s finished\n",
      "\n",
      "[2021-01-13 02:32:45] Features: 91/100 -- score: 0.6657014242889543[Parallel(n_jobs=1)]: Using backend SequentialBackend with 1 concurrent workers.\n",
      "[Parallel(n_jobs=1)]: Done   1 out of   1 | elapsed:    0.1s remaining:    0.0s\n",
      "[Parallel(n_jobs=1)]: Done 109 out of 109 | elapsed:    5.1s finished\n",
      "\n",
      "[2021-01-13 02:32:50] Features: 92/100 -- score: 0.6657269036339687[Parallel(n_jobs=1)]: Using backend SequentialBackend with 1 concurrent workers.\n",
      "[Parallel(n_jobs=1)]: Done   1 out of   1 | elapsed:    0.1s remaining:    0.0s\n",
      "[Parallel(n_jobs=1)]: Done 108 out of 108 | elapsed:    6.3s finished\n",
      "\n",
      "[2021-01-13 02:32:56] Features: 93/100 -- score: 0.6657386795159161[Parallel(n_jobs=1)]: Using backend SequentialBackend with 1 concurrent workers.\n",
      "[Parallel(n_jobs=1)]: Done   1 out of   1 | elapsed:    0.1s remaining:    0.0s\n",
      "[Parallel(n_jobs=1)]: Done 107 out of 107 | elapsed:    5.6s finished\n",
      "\n",
      "[2021-01-13 02:33:02] Features: 94/100 -- score: 0.6657448408311173[Parallel(n_jobs=1)]: Using backend SequentialBackend with 1 concurrent workers.\n",
      "[Parallel(n_jobs=1)]: Done   1 out of   1 | elapsed:    0.1s remaining:    0.0s\n",
      "[Parallel(n_jobs=1)]: Done 106 out of 106 | elapsed:    6.3s finished\n",
      "\n",
      "[2021-01-13 02:33:08] Features: 95/100 -- score: 0.6657509348663146[Parallel(n_jobs=1)]: Using backend SequentialBackend with 1 concurrent workers.\n",
      "[Parallel(n_jobs=1)]: Done   1 out of   1 | elapsed:    0.1s remaining:    0.0s\n",
      "[Parallel(n_jobs=1)]: Done 105 out of 105 | elapsed:    6.3s finished\n",
      "\n",
      "[2021-01-13 02:33:14] Features: 96/100 -- score: 0.6657509350880506[Parallel(n_jobs=1)]: Using backend SequentialBackend with 1 concurrent workers.\n",
      "[Parallel(n_jobs=1)]: Done   1 out of   1 | elapsed:    0.0s remaining:    0.0s\n",
      "[Parallel(n_jobs=1)]: Done 104 out of 104 | elapsed:    6.4s finished\n",
      "\n",
      "[2021-01-13 02:33:21] Features: 97/100 -- score: 0.6657508740050954[Parallel(n_jobs=1)]: Using backend SequentialBackend with 1 concurrent workers.\n",
      "[Parallel(n_jobs=1)]: Done   1 out of   1 | elapsed:    0.1s remaining:    0.0s\n",
      "[Parallel(n_jobs=1)]: Done 103 out of 103 | elapsed:    6.7s finished\n",
      "\n",
      "[2021-01-13 02:33:28] Features: 98/100 -- score: 0.665751409559904[Parallel(n_jobs=1)]: Using backend SequentialBackend with 1 concurrent workers.\n",
      "[Parallel(n_jobs=1)]: Done   1 out of   1 | elapsed:    0.0s remaining:    0.0s\n",
      "[Parallel(n_jobs=1)]: Done 102 out of 102 | elapsed:    6.6s finished\n",
      "\n",
      "[2021-01-13 02:33:34] Features: 99/100 -- score: 0.6657511322964664[Parallel(n_jobs=1)]: Using backend SequentialBackend with 1 concurrent workers.\n",
      "[Parallel(n_jobs=1)]: Done   1 out of   1 | elapsed:    0.1s remaining:    0.0s\n",
      "[Parallel(n_jobs=1)]: Done 101 out of 101 | elapsed:    6.3s finished\n",
      "\n",
      "[2021-01-13 02:33:40] Features: 100/100 -- score: 0.6657518443752564"
     ]
    },
    {
     "output_type": "execute_result",
     "data": {
      "text/plain": [
       "SequentialFeatureSelector(cv=[(array([5286,  481, 3500, ..., 1356, 1289, 4753]),\n",
       "                               array([6053, 6753, 3027, 3443, 4015, 5529, 2366, 5791, 2158,  296, 3979,\n",
       "       1633, 7332, 5297, 3247, 6846, 2249, 5227, 2076, 3954, 2688, 1205,\n",
       "        772, 2389,   97, 1555, 2030, 6905, 2150, 3989, 5574, 6054, 3269,\n",
       "       1413,  519,  230, 5254, 4520, 6192,  578, 5158, 1032, 3148, 4790,\n",
       "       1931, 2439, 2226, 3268, 4915, 4425, 5572, 5738, 3791, 6938,  677,\n",
       "        514...\n",
       "       1156,  511, 6191,  317, 5737, 3744,  505, 2740, 2466, 6723,  782,\n",
       "       3623, 6586, 6914, 5665, 7445, 3538, 6702, 3287, 2591, 3671,   75,\n",
       "       1442, 3723, 6466,  922, 6324, 6791, 6393, 1725, 3001,  125,   12,\n",
       "       1472,  193, 6510, 1418, 2603, 5014, 1025, 2780, 2125, 2039, 5281,\n",
       "       5052, 3455, 3250, 2303, 2098, 6851, 2775,  999, 1396, 1501, 1564,\n",
       "       2450, 3689, 5964, 2027,  669, 5777, 7194]))],\n",
       "                          estimator=ModifiedLinearRegression(), k_features=100,\n",
       "                          scoring='r2', verbose=2)"
      ]
     },
     "metadata": {},
     "execution_count": 18
    }
   ]
  },
  {
   "cell_type": "code",
   "execution_count": null,
   "metadata": {},
   "outputs": [],
   "source": [
    "k = 100"
   ]
  },
  {
   "source": [
    "[picks[idx] for idx in sfs.k_feature_idx_]"
   ],
   "cell_type": "code",
   "metadata": {},
   "execution_count": null,
   "outputs": []
  },
  {
   "source": [
    "## Embedded methods: Regularization"
   ],
   "cell_type": "markdown",
   "metadata": {}
  },
  {
   "cell_type": "code",
   "execution_count": 82,
   "metadata": {},
   "outputs": [],
   "source": [
    "scaler = MinMaxScaler()\n",
    "X_picks_scaled = scaler.fit_transform(X_picks)\n",
    "X_trial_picks_scaled = scaler.transform(X_trial_picks)"
   ]
  },
  {
   "source": [
    "### Lasso regression"
   ],
   "cell_type": "markdown",
   "metadata": {}
  },
  {
   "cell_type": "code",
   "execution_count": null,
   "metadata": {},
   "outputs": [],
   "source": [
    "model = Lasso(alpha=0.0001) # 1e-4 is optimal\n",
    "model = model.fit(X_picks_scaled, y)\n",
    "y_trial_pred = model.predict(X_trial_picks_scaled)\n",
    "MAE(y_trial_pred, y_trial), pearson(y_trial_pred, y_trial), spearman(y_trial_pred, y_trial)"
   ]
  },
  {
   "cell_type": "code",
   "execution_count": null,
   "metadata": {},
   "outputs": [],
   "source": [
    "plt.bar(range(len(picks)), model.coef_)"
   ]
  },
  {
   "cell_type": "code",
   "execution_count": null,
   "metadata": {},
   "outputs": [],
   "source": [
    "sorted(list(zip(picks, model.coef_)), key=lambda x: np.abs(x[1]), reverse=True)[:10]"
   ]
  },
  {
   "source": [
    "### Ridge regression\n",
    "- Not worth it because ridge is preferred when we have small # of good features."
   ],
   "cell_type": "markdown",
   "metadata": {}
  },
  {
   "source": [
    "### ElasticNet"
   ],
   "cell_type": "markdown",
   "metadata": {}
  },
  {
   "cell_type": "code",
   "execution_count": null,
   "metadata": {},
   "outputs": [],
   "source": [
    "model = ElasticNet(alpha=0.001, l1_ratio=0.3) # 1e-3 and 0.3 is optimal\n",
    "model = model.fit(X_picks_scaled, y)\n",
    "y_trial_pred = model.predict(X_trial_picks_scaled)\n",
    "MAE(y_trial_pred, y_trial), pearson(y_trial_pred, y_trial), spearman(y_trial_pred, y_trial)"
   ]
  },
  {
   "source": [
    "### Grid search"
   ],
   "cell_type": "markdown",
   "metadata": {}
  },
  {
   "cell_type": "code",
   "execution_count": null,
   "metadata": {},
   "outputs": [],
   "source": [
    "model = ElasticNet()\n",
    "grid = dict()\n",
    "grid['alpha'] = [1e-5, 1e-4, 1e-3, 1e-2, 1e-1, 0.0, 1.0, 10.0, 100.0]\n",
    "grid['l1_ratio'] = np.arange(0, 1, 0.1)\n",
    "search = GridSearchCV(model, grid, scoring='r2', cv=custom_cv_folds(single_train, n_splits=5), n_jobs=1, verbose=2)"
   ]
  },
  {
   "source": [
    "## Embedded methods: Tree-based feature importances\n",
    "- Ignored infersent_embeddings due to computation costs."
   ],
   "cell_type": "markdown",
   "metadata": {}
  },
  {
   "cell_type": "code",
   "execution_count": null,
   "metadata": {},
   "outputs": [],
   "source": [
    "col_idx = [value for key, value in single_train_feature_name_2_idx.items() if not key.startswith('infersent_')]\n",
    "picks = [single_train_feature_idx_2_name[idx] for idx in col_idx]"
   ]
  },
  {
   "cell_type": "code",
   "execution_count": null,
   "metadata": {},
   "outputs": [],
   "source": [
    "X_train_mini_picks = X_train_mini[:, col_idx]"
   ]
  },
  {
   "cell_type": "code",
   "execution_count": null,
   "metadata": {},
   "outputs": [],
   "source": [
    "model = RandomForestRegressor()"
   ]
  },
  {
   "cell_type": "code",
   "execution_count": null,
   "metadata": {},
   "outputs": [],
   "source": [
    "model.fit(X_train_mini_picks, y_train_mini)"
   ]
  },
  {
   "cell_type": "code",
   "execution_count": null,
   "metadata": {},
   "outputs": [],
   "source": [
    "#pkl.dump(model.feature_importances_, open('./data/pickle/feature_importances_from_tree-based_feature_importances.pkl', 'wb'))\n",
    "feature_importances = pkl.load(open('./data/pickle/feature_importances_from_tree-based_feature_importances.pkl', 'rb'))"
   ]
  },
  {
   "cell_type": "code",
   "execution_count": null,
   "metadata": {},
   "outputs": [],
   "source": [
    "ranks = list(zip(picks, model.feature_importances_))\n",
    "ranks = sorted(ranks, key=lambda x: x[1], reverse=True)"
   ]
  },
  {
   "cell_type": "code",
   "execution_count": null,
   "metadata": {},
   "outputs": [],
   "source": [
    "ranks[:10]"
   ]
  },
  {
   "cell_type": "code",
   "execution_count": null,
   "metadata": {},
   "outputs": [],
   "source": []
  }
 ]
}