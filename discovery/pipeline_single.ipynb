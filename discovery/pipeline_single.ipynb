{
 "metadata": {
  "language_info": {
   "codemirror_mode": {
    "name": "ipython",
    "version": 3
   },
   "file_extension": ".py",
   "mimetype": "text/x-python",
   "name": "python",
   "nbconvert_exporter": "python",
   "pygments_lexer": "ipython3",
   "version": "3.6.8-final"
  },
  "orig_nbformat": 2,
  "kernelspec": {
   "name": "python36864bitvenv3629473cfa3d5f438ab84660e2a004d579",
   "display_name": "Python 3.6.8 64-bit ('venv3.6')",
   "language": "python"
  }
 },
 "nbformat": 4,
 "nbformat_minor": 2,
 "cells": [
  {
   "source": [
    "Imports"
   ],
   "cell_type": "markdown",
   "metadata": {}
  },
  {
   "cell_type": "code",
   "execution_count": 1,
   "metadata": {},
   "outputs": [
    {
     "output_type": "stream",
     "name": "stderr",
     "text": [
      "[nltk_data] Downloading package cmudict to /dartfs-\n",
      "[nltk_data]     hpc/rc/home/c/f0035qc/nltk_data...\n",
      "[nltk_data]   Package cmudict is already up-to-date!\n",
      "Matplotlib is building the font cache; this may take a moment.\n",
      "[nltk_data] Downloading package wordnet to /dartfs-\n",
      "[nltk_data]     hpc/rc/home/c/f0035qc/nltk_data...\n",
      "[nltk_data]   Package wordnet is already up-to-date!\n",
      "[nltk_data] Downloading package punkt to /dartfs-\n",
      "[nltk_data]     hpc/rc/home/c/f0035qc/nltk_data...\n",
      "[nltk_data]   Package punkt is already up-to-date!\n",
      "[nltk_data] Downloading package cmudict to /dartfs-\n",
      "[nltk_data]     hpc/rc/home/c/f0035qc/nltk_data...\n",
      "[nltk_data]   Package cmudict is already up-to-date!\n"
     ]
    },
    {
     "output_type": "display_data",
     "data": {
      "text/plain": "HBox(children=(HTML(value='Downloading'), FloatProgress(value=0.0, max=213450.0), HTML(value='')))",
      "application/vnd.jupyter.widget-view+json": {
       "version_major": 2,
       "version_minor": 0,
       "model_id": "63ce6ca9497a45f8a6038cda7f586681"
      }
     },
     "metadata": {}
    },
    {
     "output_type": "stream",
     "name": "stdout",
     "text": [
      "\n"
     ]
    },
    {
     "output_type": "display_data",
     "data": {
      "text/plain": "HBox(children=(HTML(value='Downloading'), FloatProgress(value=0.0, max=435797.0), HTML(value='')))",
      "application/vnd.jupyter.widget-view+json": {
       "version_major": 2,
       "version_minor": 0,
       "model_id": "2d6b4fb6a3f248efbc4d8fe2c5098084"
      }
     },
     "metadata": {}
    },
    {
     "output_type": "stream",
     "name": "stdout",
     "text": [
      "\n"
     ]
    }
   ],
   "source": [
    "import numpy as np\n",
    "import pandas as pd\n",
    "pd.set_option('display.max_rows', 60)\n",
    "from sklearn.linear_model import LinearRegression, Lasso, Ridge, ElasticNet\n",
    "from sklearn.metrics import mean_absolute_error\n",
    "from sklearn.metrics.pairwise import cosine_similarity\n",
    "from sklearn.model_selection import train_test_split, StratifiedShuffleSplit, GridSearchCV, StratifiedKFold\n",
    "from sklearn.model_selection import cross_validate, cross_val_predict, cross_val_score\n",
    "from sklearn.metrics import ndcg_score, make_scorer, mean_squared_error, r2_score\n",
    "from sklearn.preprocessing import StandardScaler, LabelEncoder, KBinsDiscretizer, MinMaxScaler\n",
    "from sklearn.preprocessing import PowerTransformer, QuantileTransformer, PolynomialFeatures\n",
    "from sklearn.feature_extraction.text import TfidfVectorizer, CountVectorizer\n",
    "from sklearn.feature_selection import SelectKBest, mutual_info_regression, VarianceThreshold\n",
    "from sklearn.decomposition import PCA\n",
    "from sklearn.utils.class_weight import compute_class_weight, compute_sample_weight\n",
    "from sklearn.compose import TransformedTargetRegressor\n",
    "from sklearn.neighbors import KNeighborsRegressor\n",
    "from sklearn.ensemble import RandomForestRegressor, VotingRegressor, StackingRegressor\n",
    "from sklearn.svm import SVR, LinearSVR\n",
    "import nltk\n",
    "from nltk.corpus import wordnet as wn\n",
    "from nltk.stem import PorterStemmer, WordNetLemmatizer\n",
    "from nltk.tokenize import word_tokenize, sent_tokenize\n",
    "from nltk import pos_tag\n",
    "from nltk.wsd import lesk\n",
    "from nltk import ngrams\n",
    "nltk.download('cmudict')\n",
    "import csv\n",
    "import matplotlib.pyplot as plt\n",
    "from tqdm import tqdm\n",
    "from itertools import combinations\n",
    "import pickle5 as pkl\n",
    "import json\n",
    "import matplotlib.pyplot as plt\n",
    "import os\n",
    "import ast\n",
    "import inspect\n",
    "from utils import *\n",
    "import re\n",
    "from scipy.stats import rankdata, pearsonr, spearmanr, stats\n",
    "from imblearn.over_sampling import SMOTE\n",
    "import smogn\n",
    "import seaborn as sns\n",
    "from statsmodels.stats.outliers_influence import variance_inflation_factor\n",
    "from statsmodels.distributions.empirical_distribution import ECDF\n",
    "from collections import Counter\n",
    "import random\n",
    "from scipy import stats\n",
    "from functools import partial\n",
    "import pylab as p\n",
    "import mpl_toolkits.mplot3d.axes3d as p3\n",
    "from xgboost import XGBRegressor\n",
    "import math\n",
    "from datamuse import datamuse\n",
    "import urllib\n",
    "import time\n",
    "import requests\n",
    "from functools import lru_cache\n",
    "from itertools import product as iterprod\n",
    "from mlxtend.feature_selection import SequentialFeatureSelector"
   ]
  },
  {
   "cell_type": "code",
   "execution_count": 4,
   "metadata": {},
   "outputs": [],
   "source": [
    "job = 'pickle'\n",
    "path = './data/'+job\n",
    "if not os.path.isdir(path): os.mkdir(path)\n",
    "if not os.path.isdir(path+'/macbook/'): os.mkdir(path+'/macbook/')\n",
    "if not os.path.isdir(path+'/colab/'): os.mkdir(path+'/colab/')"
   ]
  },
  {
   "cell_type": "code",
   "execution_count": 5,
   "metadata": {},
   "outputs": [
    {
     "output_type": "stream",
     "name": "stdout",
     "text": [
      "build_gigaword_dir.py           GIGAWORD1.o33768         lcp.pbs\n\u001b[0m\u001b[01;34mdata\u001b[0m/                           GIGAWORD1.o33769         \u001b[01;34mnltk_data\u001b[0m/\nFEATURE_SELECTION1.o35299       GIGAWORD1.o34171         pipeline_multi.ipynb\nFEATURE_SELECTION1.o35314       GIGAWORD1.o39423         pipeline_single.ipynb\nFEATURE_SELECTION1.o35326       GIGAWORD1.o39424         \u001b[01;32mpractice.ipynb\u001b[0m*\nFEATURE_SELECTION1.o39571       GIGAWORD1.o39425         \u001b[01;34m__pycache__\u001b[0m/\nfeature_selection_multi.ipynb   GIGAWORD1.o39426         trqgpu.py\nfeature_selection_multi.py      gigaword_for_multi.pbs   utils.py\nfeature_selection.pbs           gigaword_for_multi.py    \u001b[01;34mvenv3.6\u001b[0m/\nfeature_selection_single.ipynb  gigaword_for_single.pbs  \u001b[01;34mword_frequency\u001b[0m/\nfeature_selection_single.py     gigaword_for_single.py\nGIGAWORD1.o33666                \u001b[01;34mgigaword_txt\u001b[0m/\n"
     ]
    }
   ],
   "source": [
    "ls"
   ]
  },
  {
   "source": [
    "# Extract discovery features\n",
    "- Run `gigaword_for_single.py`.\n",
    "- Combine `{name}_{feature_name}.tsv`'s into `{name}_y.tsv`.\n",
    "- Create log-transformed features."
   ],
   "cell_type": "markdown",
   "metadata": {}
  },
  {
   "cell_type": "code",
   "execution_count": null,
   "metadata": {},
   "outputs": [],
   "source": [
    "join_discovery_features(job, 'single_train')\n",
    "join_discovery_features(job, 'single_trial')\n",
    "join_discovery_features(job, 'single_test')"
   ]
  },
  {
   "cell_type": "code",
   "execution_count": null,
   "metadata": {},
   "outputs": [],
   "source": [
    "single_train = pd.read_csv('./data/'+job+'/single_train_y.tsv', sep='\\t', index_col=0)\n",
    "single_trial = pd.read_csv('./data/'+job+'/single_trial_y.tsv', sep='\\t', index_col=0)\n",
    "single_test = pd.read_csv('./data/'+job+'/single_test_y.tsv', sep='\\t', index_col=0)"
   ]
  },
  {
   "cell_type": "code",
   "execution_count": null,
   "metadata": {},
   "outputs": [],
   "source": [
    "config = {\n",
    "    'case_sensitive': True,\n",
    "    'stress_sensitive': True,\n",
    "    'single_char_map_path': './data/'+job+'/single_char_map.pkl',\n",
    "    'char_transition_map_path': './data/'+job+'/char_transitions_map.pkl',\n",
    "    'phoneme_transition_map_path': './data/'+job+'/phoneme_transitions_map.pkl',\n",
    "}"
   ]
  },
  {
   "cell_type": "code",
   "execution_count": null,
   "metadata": {},
   "outputs": [],
   "source": [
    "save_other_features(single_train, config, job, 'single_train')\n",
    "save_other_features(single_trial, config, job, 'single_trial')\n",
    "save_other_features(single_test, config, job, 'single_test')"
   ]
  },
  {
   "cell_type": "code",
   "execution_count": null,
   "metadata": {},
   "outputs": [],
   "source": [
    "log_transform(single_train, job, 'single_train', 'all')\n",
    "log_transform(single_trial, job, 'single_trial', 'all')\n",
    "log_transform(single_test, job, 'single_test', 'all')"
   ]
  },
  {
   "source": [
    "# Join macbook and discovery features"
   ],
   "cell_type": "markdown",
   "metadata": {}
  },
  {
   "cell_type": "code",
   "execution_count": null,
   "metadata": {},
   "outputs": [],
   "source": [
    "join_macbook_discovery_features(job, 'single_train')\n",
    "join_macbook_discovery_features(job, 'single_trial')\n",
    "join_macbook_discovery_features(job, 'single_test')"
   ]
  },
  {
   "source": [
    "# Feature selection"
   ],
   "cell_type": "markdown",
   "metadata": {}
  },
  {
   "cell_type": "code",
   "execution_count": 4,
   "metadata": {},
   "outputs": [],
   "source": [
    "single_train = pd.read_csv('./data/'+job+'/single_train_j.tsv', sep='\\t', index_col=0)\n",
    "X = load_features_stacked(job, 'single_train')\n",
    "y = single_train['complexity'].to_numpy()\n",
    "single_trial = pd.read_csv('./data/'+job+'/single_trial_j.tsv', sep='\\t', index_col=0)\n",
    "X_trial = load_features_stacked(job, 'single_trial')\n",
    "y_trial = single_trial['complexity'].to_numpy()\n",
    "single_test = pd.read_csv('./data/'+job+'/single_test_j.tsv', sep='\\t', index_col=0)\n",
    "single_test_with_labels = pd.read_csv('./data/'+job+'/macbook/single_test_with_labels.tsv', sep='\\t', quoting=csv.QUOTE_NONE, index_col=0)\n",
    "single_test['complexity'] = single_test['id'].apply(lambda x: single_test_with_labels.loc[x]['complexity'])\n",
    "X_test = load_features_stacked(job, 'single_test')\n",
    "y_test = single_test['complexity'].to_numpy()"
   ]
  },
  {
   "cell_type": "code",
   "execution_count": 5,
   "metadata": {},
   "outputs": [],
   "source": [
    "single_train_feature_name_2_idx = load_feature_name_2_idx(job, 'single_train')\n",
    "single_train_feature_idx_2_name = {idx: feature_name for feature_name, idx in single_train_feature_name_2_idx.items()}\n",
    "single_trial_feature_name_2_idx = load_feature_name_2_idx(job, 'single_trial')\n",
    "single_trial_feature_idx_2_name = {idx: feature_name for feature_name, idx in single_trial_feature_name_2_idx.items()}\n",
    "single_test_feature_name_2_idx = load_feature_name_2_idx(job, 'single_test')\n",
    "single_test_feature_idx_2_name = {idx: feature_name for feature_name, idx in single_test_feature_name_2_idx.items()}"
   ]
  },
  {
   "cell_type": "code",
   "execution_count": 6,
   "metadata": {},
   "outputs": [],
   "source": [
    "#single_train_mini_idx, single_dev_mini_idx = next(custom_cv_folds(single_train, n_splits=1, test_size=0.1))\n",
    "single_train_mini_idx, single_dev_mini_idx = np.load('./data/'+job+'/single_train_mini_idx.npy'), np.load('./data/'+job+'/single_dev_mini_idx.npy')\n",
    "single_train_mini = single_train.iloc[single_train_mini_idx]\n",
    "single_dev_mini = single_train.iloc[single_dev_mini_idx]\n",
    "#np.save('./data/pickle/single_train_mini_idx', single_train_mini_idx)\n",
    "#np.save('./data/pickle/single_dev_mini_idx', single_dev_mini_idx)\n",
    "#preprocess_for_bert(single_train_mini, './data/'+job+'/colab/single_train_bert.tsv', do_round=False)\n",
    "#preprocess_for_bert(single_dev_mini, './data/'+job+'/colab/single_dev_bert.tsv', do_round=False)"
   ]
  },
  {
   "cell_type": "code",
   "execution_count": 7,
   "metadata": {},
   "outputs": [],
   "source": [
    "X_train_mini = X[single_train_mini_idx, :]\n",
    "X_dev_mini = X[single_dev_mini_idx, :]\n",
    "y_train_mini = y[np.array(single_train_mini_idx)]\n",
    "y_dev_mini = y[np.array(single_dev_mini_idx)]"
   ]
  },
  {
   "source": [
    "## Filter method: K-best by mutual information\n",
    "- Alternative script in `feature_selection_single.py`.\n",
    "- Results below _supposedly_ same as that in `single_train_mi.txt`."
   ],
   "cell_type": "markdown",
   "metadata": {}
  },
  {
   "cell_type": "code",
   "execution_count": 8,
   "metadata": {},
   "outputs": [],
   "source": [
    "feature_names, mi = get_sorted_mi('./data/'+job+'/single_train_mi.txt')"
   ]
  },
  {
   "cell_type": "code",
   "execution_count": 9,
   "metadata": {},
   "outputs": [],
   "source": [
    "k_lst, pearson_lst = [], []"
   ]
  },
  {
   "source": [
    "for k in tqdm(np.arange(501, -1, -2)):\n",
    "    k_lst.append(k)\n",
    "    picks = feature_names[:k]\n",
    "    col_idx = [single_train_feature_name_2_idx[pick] for pick in picks]\n",
    "    X_train_mini_picks = X_train_mini[:, col_idx]\n",
    "    X_dev_mini_picks = X_dev_mini[:, col_idx]\n",
    "    model = LinearRegression()\n",
    "    model = model.fit(X_train_mini_picks, y_train_mini)\n",
    "    y_dev_mini_pred = model.predict(X_dev_mini_picks)\n",
    "    pearson_lst.append(pearson(y_dev_mini_pred, y_dev_mini))"
   ],
   "cell_type": "code",
   "metadata": {},
   "execution_count": 16,
   "outputs": [
    {
     "output_type": "stream",
     "name": "stderr",
     "text": [
      "  0%|          | 0/251 [00:00<?, ?it/s]"
     ]
    }
   ]
  },
  {
   "cell_type": "code",
   "execution_count": 21,
   "metadata": {},
   "outputs": [],
   "source": [
    "pkl.dump((feature_names, mi, k_lst, pearson_lst, single_train_feature_name_2_idx, X_train_mini, X_dev_mini, y_train_mini, y_dev_mini), open('stuff.pkl', 'wb'))"
   ]
  },
  {
   "source": [
    "plt.plot(k_lst, pearson_lst)\n",
    "plt.title('Filter method: k-best features by mutual information')\n",
    "plt.xlabel('k')\n",
    "plt.ylabel('Pearson')"
   ],
   "cell_type": "code",
   "metadata": {},
   "execution_count": null,
   "outputs": []
  },
  {
   "source": [
    "- Run overnight to get graph.\n",
    "- See graph in feature_selection_single.ipynb for what it should look like."
   ],
   "cell_type": "markdown",
   "metadata": {}
  },
  {
   "cell_type": "code",
   "execution_count": 9,
   "metadata": {},
   "outputs": [],
   "source": [
    "picks = feature_names[:300]"
   ]
  },
  {
   "source": [
    "## Filter method: Remove constant and quasi-constant features"
   ],
   "cell_type": "markdown",
   "metadata": {}
  },
  {
   "cell_type": "code",
   "execution_count": 11,
   "metadata": {},
   "outputs": [],
   "source": [
    "# combined_pred_complexity\n",
    "picks = [pick for pick in picks if X[:, single_train_feature_name_2_idx[pick]].std() != 0]\n",
    "# remove quasi-constant features\n",
    "col_idx = np.array([single_train_feature_name_2_idx[pick] for pick in picks])\n",
    "selector = VarianceThreshold(threshold=0.01)  # 0.1 indicates 99% of observations approximately\n",
    "_ = selector.fit(X[:, col_idx])  # fit finds the features with low variance\n",
    "picks = [pick for i, pick in enumerate(picks) if selector.get_support()[i]]"
   ]
  },
  {
   "source": [
    "## Wrapped methods: Forward feature selection"
   ],
   "cell_type": "markdown",
   "metadata": {}
  },
  {
   "cell_type": "code",
   "execution_count": 72,
   "metadata": {},
   "outputs": [],
   "source": [
    "col_idx = [single_train_feature_name_2_idx[pick] for pick in picks]\n",
    "X_picks = X[:, col_idx]"
   ]
  },
  {
   "cell_type": "code",
   "execution_count": 17,
   "metadata": {},
   "outputs": [],
   "source": [
    "model = LinearRegression()\n",
    "sfs = SequentialFeatureSelector(model,\n",
    "    k_features=20,\n",
    "    forward=True,\n",
    "    floating=False,\n",
    "    scoring=make_scorer(pearson),\n",
    "    verbose=2,\n",
    "    cv=list(custom_cv_folds(single_train, n_splits=10)),\n",
    ")"
   ]
  },
  {
   "cell_type": "code",
   "execution_count": 42,
   "metadata": {},
   "outputs": [],
   "source": [
    "pkl.dump(picks, open('./picks.pkl', 'wb'))"
   ]
  },
  {
   "cell_type": "code",
   "execution_count": 14,
   "metadata": {},
   "outputs": [],
   "source": [
    "picks = ['tf_lemma', 'log_CDcount', 'log_SUBTLWF', 'log_tf_lemma',\n",
    "       'glove_word_277', 'log_tf_summed_bpe', 'log_google_ngram_2_head',\n",
    "       'glove_word_151', 'glove_word_279', 'tfidf', 'glove_word_268',\n",
    "       'elmo_word_541', 'elmo_word_726', 'is_acronym', 'elmo_word_646',\n",
    "       'glove_word_284', 'glove_word_285', 'elmo_word_209',\n",
    "       'glove_word_33', 'elmo_word_99']"
   ]
  },
  {
   "cell_type": "code",
   "execution_count": 133,
   "metadata": {},
   "outputs": [],
   "source": [
    "col_idx = np.array([single_train_feature_name_2_idx[pick] for pick in picks])\n",
    "X_picks = X[:, col_idx]\n",
    "col_trial_idx = np.array([single_trial_feature_name_2_idx[pick] for pick in picks])\n",
    "X_trial_picks = X_trial[:, col_trial_idx]\n",
    "col_test_idx = np.array([single_test_feature_name_2_idx[pick] for pick in picks])\n",
    "X_test_picks = X_test[:, col_test_idx]"
   ]
  },
  {
   "cell_type": "code",
   "execution_count": 134,
   "metadata": {},
   "outputs": [],
   "source": [
    "scaler = StandardScaler()\n",
    "X_picks_scaled = scaler.fit_transform(X_picks)\n",
    "X_trial_picks_scaled = scaler.transform(X_trial_picks)\n",
    "X_test_picks_scaled = scaler.transform(X_test_picks)"
   ]
  },
  {
   "source": [
    "model = LinearRegression()\n",
    "model = model.fit(X_picks_scaled, y)\n",
    "y_test_pred = model.predict(X_test_picks_scaled)\n",
    "pearson(y_test_pred, y_test), spearman(y_test_pred, y_test), MAE(y_test_pred, y_test)"
   ],
   "cell_type": "code",
   "metadata": {},
   "execution_count": 135,
   "outputs": [
    {
     "output_type": "execute_result",
     "data": {
      "text/plain": [
       "(0.7347171323874796,\n",
       " 0.6992978157901079,\n",
       " 0.066904494871431,\n",
       " 0.0074806166102936245,\n",
       " 0.23884542626712923)"
      ]
     },
     "metadata": {},
     "execution_count": 135
    }
   ]
  },
  {
   "source": [
    "# Regression"
   ],
   "cell_type": "markdown",
   "metadata": {}
  },
  {
   "cell_type": "code",
   "execution_count": 12,
   "metadata": {},
   "outputs": [],
   "source": [
    "col_idx = np.array([single_train_feature_name_2_idx[pick] for pick in picks])\n",
    "X_picks = X[:, col_idx]\n",
    "X_train_mini_picks = X_picks[single_train_mini_idx, :]\n",
    "X_dev_mini_picks = X_picks[single_dev_mini_idx, :]\n",
    "y_train_mini = y[np.array(single_train_mini_idx)]\n",
    "y_dev_mini = y[np.array(single_dev_mini_idx)]\n",
    "col_trial_idx = np.array([single_trial_feature_name_2_idx[pick] for pick in picks])\n",
    "X_trial_picks = X_trial[:, col_trial_idx]\n",
    "col_test_idx = np.array([single_test_feature_name_2_idx[pick] for pick in picks])\n",
    "X_test_picks = X_test[:, col_test_idx]"
   ]
  },
  {
   "cell_type": "code",
   "execution_count": 13,
   "metadata": {},
   "outputs": [],
   "source": [
    "scaler = StandardScaler()\n",
    "X_picks_scaled = scaler.fit_transform(X_picks)\n",
    "X_train_mini_picks_scaled = scaler.transform(X_train_mini_picks)\n",
    "X_dev_mini_picks_scaled = scaler.transform(X_dev_mini_picks)\n",
    "X_trial_picks_scaled = scaler.transform(X_trial_picks)\n",
    "X_test_picks_scaled = scaler.transform(X_test_picks)"
   ]
  },
  {
   "cell_type": "code",
   "execution_count": 166,
   "metadata": {},
   "outputs": [
    {
     "output_type": "stream",
     "name": "stdout",
     "text": [
      "Fitting 5 folds for each of 3 candidates, totalling 15 fits\n",
      "[CV] alpha=0.0001 ....................................................\n",
      "[Parallel(n_jobs=1)]: Using backend SequentialBackend with 1 concurrent workers.\n",
      "[CV] ........................ alpha=0.0001, score=0.779, total=   6.0s\n",
      "[CV] alpha=0.0001 ....................................................\n",
      "[Parallel(n_jobs=1)]: Done   1 out of   1 | elapsed:    6.0s remaining:    0.0s\n",
      "[CV] ........................ alpha=0.0001, score=0.752, total=   6.1s\n",
      "[CV] alpha=0.0001 ....................................................\n",
      "[Parallel(n_jobs=1)]: Done   2 out of   2 | elapsed:   12.1s remaining:    0.0s\n",
      "[CV] ........................ alpha=0.0001, score=0.773, total=   6.1s\n",
      "[CV] alpha=0.0001 ....................................................\n",
      "[CV] ........................ alpha=0.0001, score=0.759, total=   5.7s\n",
      "[CV] alpha=0.0001 ....................................................\n",
      "[CV] ........................ alpha=0.0001, score=0.767, total=   5.4s\n",
      "[CV] alpha=0.001 .....................................................\n",
      "[CV] ......................... alpha=0.001, score=0.786, total=   4.9s\n",
      "[CV] alpha=0.001 .....................................................\n",
      "[CV] ......................... alpha=0.001, score=0.753, total=   5.8s\n",
      "[CV] alpha=0.001 .....................................................\n",
      "[CV] ......................... alpha=0.001, score=0.774, total=   1.6s\n",
      "[CV] alpha=0.001 .....................................................\n",
      "[CV] ......................... alpha=0.001, score=0.762, total=   1.9s\n",
      "[CV] alpha=0.001 .....................................................\n",
      "[CV] ......................... alpha=0.001, score=0.767, total=   4.7s\n",
      "[CV] alpha=0.01 ......................................................\n",
      "[CV] .......................... alpha=0.01, score=0.775, total=   1.4s\n",
      "[CV] alpha=0.01 ......................................................\n",
      "[CV] .......................... alpha=0.01, score=0.732, total=   1.1s\n",
      "[CV] alpha=0.01 ......................................................\n",
      "[CV] .......................... alpha=0.01, score=0.747, total=   1.1s\n",
      "[CV] alpha=0.01 ......................................................\n",
      "[CV] .......................... alpha=0.01, score=0.751, total=   1.4s\n",
      "[CV] alpha=0.01 ......................................................\n",
      "[CV] .......................... alpha=0.01, score=0.747, total=   1.5s\n",
      "[Parallel(n_jobs=1)]: Done  15 out of  15 | elapsed:   55.2s finished\n"
     ]
    },
    {
     "output_type": "execute_result",
     "data": {
      "text/plain": [
       "GridSearchCV(cv=<generator object custom_cv_folds at 0x2af459c714c0>,\n",
       "             estimator=ElasticNet(),\n",
       "             param_grid={'alpha': [0.0001, 0.001, 0.01]},\n",
       "             scoring=make_scorer(pearson), verbose=3)"
      ]
     },
     "metadata": {},
     "execution_count": 166
    }
   ],
   "source": [
    "model = ElasticNet()\n",
    "param_grid = {'alpha': [0.0001, 0.001, 0.01]}\n",
    "'''\n",
    "param_grid = {'C': [0.1, 1, 10, 100, 1000],  \n",
    "              'gamma': [1, 0.1, 0.01, 0.001, 0.0001], \n",
    "              'kernel': ['poly']}  \n",
    "'''\n",
    "grid = GridSearchCV(estimator=model, param_grid=param_grid, cv=custom_cv_folds(single_train, n_splits=5), scoring=make_scorer(pearson), verbose=3)\n",
    "grid.fit(X_picks_scaled, y)"
   ]
  },
  {
   "cell_type": "code",
   "execution_count": 167,
   "metadata": {},
   "outputs": [
    {
     "output_type": "execute_result",
     "data": {
      "text/plain": [
       "{'alpha': 0.001}"
      ]
     },
     "metadata": {},
     "execution_count": 167
    }
   ],
   "source": [
    "grid.best_params_"
   ]
  },
  {
   "cell_type": "code",
   "execution_count": 153,
   "metadata": {},
   "outputs": [
    {
     "output_type": "execute_result",
     "data": {
      "text/plain": [
       "(0.7351686534289513,\n",
       " 0.7042463857183808,\n",
       " 0.06668719227313334,\n",
       " 0.007461470375622993,\n",
       " 0.22980658462285708)"
      ]
     },
     "metadata": {},
     "execution_count": 153
    }
   ],
   "source": [
    "model = Lasso(alpha=0.0001)\n",
    "model = model.fit(X_picks_scaled, y)\n",
    "#y_dev_mini_pred = model.predict(X_dev_mini_picks_scaled)\n",
    "#y_trial_pred = model.predict(X_trial_picks_scaled)\n",
    "y_test_pred = model.predict(X_test_picks_scaled)\n",
    "pearson(y_test_pred, y_test), spearman(y_test_pred, y_test), MAE(y_test_pred, y_test)"
   ]
  },
  {
   "cell_type": "code",
   "execution_count": 168,
   "metadata": {},
   "outputs": [
    {
     "output_type": "execute_result",
     "data": {
      "text/plain": [
       "(0.7396404711884631,\n",
       " 0.7121954758366833,\n",
       " 0.0661845949746085,\n",
       " 0.007338469566219764,\n",
       " 0.217735570817971)"
      ]
     },
     "metadata": {},
     "execution_count": 168
    }
   ],
   "source": [
    "model = ElasticNet(alpha=0.001)\n",
    "model = model.fit(X_picks_scaled, y)\n",
    "#y_dev_mini_pred = model.predict(X_dev_mini_picks_scaled)\n",
    "#y_trial_pred = model.predict(X_trial_picks_scaled)\n",
    "y_test_pred = model.predict(X_test_picks_scaled)\n",
    "pearson(y_test_pred, y_test), spearman(y_test_pred, y_test), MAE(y_test_pred, y_test)"
   ]
  },
  {
   "cell_type": "code",
   "execution_count": 170,
   "metadata": {},
   "outputs": [
    {
     "output_type": "execute_result",
     "data": {
      "text/plain": [
       "(0.7253546865163931,\n",
       " 0.6969824804096161,\n",
       " 0.06781379728359527,\n",
       " 0.007723290677898873,\n",
       " 0.15929340310193185)"
      ]
     },
     "metadata": {},
     "execution_count": 170
    }
   ],
   "source": [
    "model = LinearSVR(C=0.001)\n",
    "model = model.fit(X_picks_scaled, y)\n",
    "#y_dev_mini_pred = model.predict(X_dev_mini_picks_scaled)\n",
    "#y_trial_pred = model.predict(X_trial_picks_scaled)\n",
    "y_test_pred = model.predict(X_test_picks_scaled)\n",
    "pearson(y_test_pred, y_test), spearman(y_test_pred, y_test), MAE(y_test_pred, y_test)"
   ]
  },
  {
   "cell_type": "code",
   "execution_count": 172,
   "metadata": {},
   "outputs": [
    {
     "output_type": "execute_result",
     "data": {
      "text/plain": [
       "(0.7391749864722357,\n",
       " 0.7065774958207041,\n",
       " 0.06675128290492309,\n",
       " 0.007406711991926585,\n",
       " 0.2889467191655142)"
      ]
     },
     "metadata": {},
     "execution_count": 172
    }
   ],
   "source": [
    "model = SVR(kernel='rbf', C=1, gamma=0.001)\n",
    "model = model.fit(X_picks_scaled, y)\n",
    "#y_dev_mini_pred = model.predict(X_dev_mini_picks_scaled)\n",
    "#y_trial_pred = model.predict(X_trial_picks_scaled)\n",
    "y_test_pred = model.predict(X_test_picks_scaled)\n",
    "pearson(y_test_pred, y_test), spearman(y_test_pred, y_test), MAE(y_test_pred, y_test)"
   ]
  },
  {
   "cell_type": "code",
   "execution_count": 174,
   "metadata": {},
   "outputs": [
    {
     "output_type": "execute_result",
     "data": {
      "text/plain": [
       "(0.7155880176171467,\n",
       " 0.6913634497831548,\n",
       " 0.07099634248379663,\n",
       " 0.008250354614153983,\n",
       " 0.2131585732679684)"
      ]
     },
     "metadata": {},
     "execution_count": 174
    }
   ],
   "source": [
    "model = KNeighborsRegressor(n_neighbors=20, weights='distance')\n",
    "model = model.fit(X_picks_scaled, y)\n",
    "#y_dev_mini_pred = model.predict(X_dev_mini_picks_scaled)\n",
    "#y_trial_pred = model.predict(X_trial_picks_scaled)\n",
    "y_test_pred = model.predict(X_test_picks_scaled)\n",
    "pearson(y_test_pred, y_test), spearman(y_test_pred, y_test), MAE(y_test_pred, y_test)"
   ]
  },
  {
   "cell_type": "code",
   "execution_count": 14,
   "metadata": {},
   "outputs": [
    {
     "output_type": "stream",
     "name": "stdout",
     "text": [
      "[15:58:29] WARNING: ../src/objective/regression_obj.cu:170: reg:linear is now deprecated in favor of reg:squarederror.\n",
      "[15:58:31] WARNING: ../src/learner.cc:541: \n",
      "Parameters: { silent } might not be used.\n",
      "\n",
      "  This may not be accurate due to some parameters are only used in language bindings but\n",
      "  passed down to XGBoost core.  Or some parameters are not used but slip through this\n",
      "  verification. Please open an issue if you find above cases.\n",
      "\n",
      "\n"
     ]
    },
    {
     "output_type": "execute_result",
     "data": {
      "text/plain": [
       "(0.7588645585282705, 0.7220168083102194, 0.06451765823582932)"
      ]
     },
     "metadata": {},
     "execution_count": 14
    }
   ],
   "source": [
    "model = XGBRegressor(colsample_bytree=0.7,learning_rate=0.03,max_depth=5,min_child_weight=4,n_estimators=225,nthread=4,objective='reg:linear',silent=1,subsample=0.7) # 1e-3 and 0.3 is optimal\n",
    "#'colsample_bytree': 0.7, 'learning_rate': 0.03, 'max_depth': 5, 'min_child_weight': 4, 'n_estimators': 225, 'nthread': 4, 'objective': 'reg:linear', 'silent': 1, 'subsample': 0.7\n",
    "#model = model.fit(X_train_mini_picks_scaled, y_train_mini)\n",
    "#y_dev_mini_pred = model.predict(X_dev_mini_picks_scaled)\n",
    "#single_dev_mini['lr_pred_complexity'] = y_dev_mini_pred\n",
    "model = model.fit(X_picks_scaled, y)\n",
    "y_trial_pred = model.predict(X_trial_picks_scaled)\n",
    "single_trial['lr_pred_complexity'] = y_trial_pred\n",
    "y_test_pred = model.predict(X_test_picks_scaled)\n",
    "single_test['lr_pred_complexity'] = y_test_pred\n",
    "pearson(y_test_pred, y_test), spearman(y_test_pred, y_test), MAE(y_test_pred, y_test)"
   ]
  },
  {
   "source": [
    "picks_mod[idx][:i]"
   ],
   "cell_type": "code",
   "metadata": {},
   "execution_count": 31,
   "outputs": [
    {
     "output_type": "execute_result",
     "data": {
      "text/plain": [
       "array(['Lg10CD', 'CDcount', 'SUBTLCD', 'is_acronym', 'tf_lemma',\n",
       "       'log_tf_lemma', 'log_Cdlow', 'glove_word_277', 'Cdlow',\n",
       "       'bnc_frequency', 'word_len', 'char_transition_max',\n",
       "       'log_char_transition_max', 'log_is_proper', 'SUBTLWF',\n",
       "       'tf_ngram_2', 'log_FREQlow', 'log_tf', 'FREQcount', 'FREQlow'],\n",
       "      dtype='<U26')"
      ]
     },
     "metadata": {},
     "execution_count": 31
    }
   ]
  },
  {
   "cell_type": "code",
   "execution_count": 37,
   "metadata": {},
   "outputs": [
    {
     "output_type": "execute_result",
     "data": {
      "text/plain": [
       "<matplotlib.legend.Legend at 0x2b85270467f0>"
      ]
     },
     "metadata": {},
     "execution_count": 37
    },
    {
     "output_type": "display_data",
     "data": {
      "text/plain": "<Figure size 432x288 with 1 Axes>",
      "image/svg+xml": "<?xml version=\"1.0\" encoding=\"utf-8\" standalone=\"no\"?>\n<!DOCTYPE svg PUBLIC \"-//W3C//DTD SVG 1.1//EN\"\n  \"http://www.w3.org/Graphics/SVG/1.1/DTD/svg11.dtd\">\n<!-- Created with matplotlib (https://matplotlib.org/) -->\n<svg height=\"277.31625pt\" version=\"1.1\" viewBox=\"0 0 491.625 277.31625\" width=\"491.625pt\" xmlns=\"http://www.w3.org/2000/svg\" xmlns:xlink=\"http://www.w3.org/1999/xlink\">\n <metadata>\n  <rdf:RDF xmlns:cc=\"http://creativecommons.org/ns#\" xmlns:dc=\"http://purl.org/dc/elements/1.1/\" xmlns:rdf=\"http://www.w3.org/1999/02/22-rdf-syntax-ns#\">\n   <cc:Work>\n    <dc:type rdf:resource=\"http://purl.org/dc/dcmitype/StillImage\"/>\n    <dc:date>2021-02-19T16:35:22.963654</dc:date>\n    <dc:format>image/svg+xml</dc:format>\n    <dc:creator>\n     <cc:Agent>\n      <dc:title>Matplotlib v3.3.3, https://matplotlib.org/</dc:title>\n     </cc:Agent>\n    </dc:creator>\n   </cc:Work>\n  </rdf:RDF>\n </metadata>\n <defs>\n  <style type=\"text/css\">*{stroke-linecap:butt;stroke-linejoin:round;}</style>\n </defs>\n <g id=\"figure_1\">\n  <g id=\"patch_1\">\n   <path d=\"M 0 277.31625 \nL 491.625 277.31625 \nL 491.625 0 \nL 0 0 \nz\n\" style=\"fill:none;\"/>\n  </g>\n  <g id=\"axes_1\">\n   <g id=\"patch_2\">\n    <path d=\"M 149.625 239.76 \nL 484.425 239.76 \nL 484.425 22.32 \nL 149.625 22.32 \nz\n\" style=\"fill:#ffffff;\"/>\n   </g>\n   <g id=\"patch_3\">\n    <path clip-path=\"url(#p3c0a2da84f)\" d=\"M 149.625 23.4072 \nL 468.482143 23.4072 \nL 468.482143 32.1048 \nL 149.625 32.1048 \nz\n\" style=\"fill:#107010;\"/>\n   </g>\n   <g id=\"patch_4\">\n    <path clip-path=\"url(#p3c0a2da84f)\" d=\"M 149.625 34.2792 \nL 333.618312 34.2792 \nL 333.618312 42.9768 \nL 149.625 42.9768 \nz\n\" style=\"fill:#107010;\"/>\n   </g>\n   <g id=\"patch_5\">\n    <path clip-path=\"url(#p3c0a2da84f)\" d=\"M 149.625 45.1512 \nL 332.804234 45.1512 \nL 332.804234 53.8488 \nL 149.625 53.8488 \nz\n\" style=\"fill:#107010;\"/>\n   </g>\n   <g id=\"patch_6\">\n    <path clip-path=\"url(#p3c0a2da84f)\" d=\"M 149.625 56.0232 \nL 192.85427 56.0232 \nL 192.85427 64.7208 \nL 149.625 64.7208 \nz\n\"/>\n   </g>\n   <g id=\"patch_7\">\n    <path clip-path=\"url(#p3c0a2da84f)\" d=\"M 149.625 66.8952 \nL 192.616427 66.8952 \nL 192.616427 75.5928 \nL 149.625 75.5928 \nz\n\" style=\"fill:#107010;\"/>\n   </g>\n   <g id=\"patch_8\">\n    <path clip-path=\"url(#p3c0a2da84f)\" d=\"M 149.625 77.7672 \nL 189.697444 77.7672 \nL 189.697444 86.4648 \nL 149.625 86.4648 \nz\n\" style=\"fill:#107010;\"/>\n   </g>\n   <g id=\"patch_9\">\n    <path clip-path=\"url(#p3c0a2da84f)\" d=\"M 149.625 88.6392 \nL 184.618149 88.6392 \nL 184.618149 97.3368 \nL 149.625 97.3368 \nz\n\" style=\"fill:#107010;\"/>\n   </g>\n   <g id=\"patch_10\">\n    <path clip-path=\"url(#p3c0a2da84f)\" d=\"M 149.625 99.5112 \nL 182.618944 99.5112 \nL 182.618944 108.2088 \nL 149.625 108.2088 \nz\n\"/>\n   </g>\n   <g id=\"patch_11\">\n    <path clip-path=\"url(#p3c0a2da84f)\" d=\"M 149.625 110.3832 \nL 179.818648 110.3832 \nL 179.818648 119.0808 \nL 149.625 119.0808 \nz\n\" style=\"fill:#107010;\"/>\n   </g>\n   <g id=\"patch_12\">\n    <path clip-path=\"url(#p3c0a2da84f)\" d=\"M 149.625 121.2552 \nL 176.589288 121.2552 \nL 176.589288 129.9528 \nL 149.625 129.9528 \nz\n\" style=\"fill:#107010;\"/>\n   </g>\n   <g id=\"patch_13\">\n    <path clip-path=\"url(#p3c0a2da84f)\" d=\"M 149.625 132.1272 \nL 176.235616 132.1272 \nL 176.235616 140.8248 \nL 149.625 140.8248 \nz\n\"/>\n   </g>\n   <g id=\"patch_14\">\n    <path clip-path=\"url(#p3c0a2da84f)\" d=\"M 149.625 142.9992 \nL 167.132245 142.9992 \nL 167.132245 151.6968 \nL 149.625 151.6968 \nz\n\"/>\n   </g>\n   <g id=\"patch_15\">\n    <path clip-path=\"url(#p3c0a2da84f)\" d=\"M 149.625 153.8712 \nL 166.962516 153.8712 \nL 166.962516 162.5688 \nL 149.625 162.5688 \nz\n\"/>\n   </g>\n   <g id=\"patch_16\">\n    <path clip-path=\"url(#p3c0a2da84f)\" d=\"M 149.625 164.7432 \nL 165.438445 164.7432 \nL 165.438445 173.4408 \nL 149.625 173.4408 \nz\n\"/>\n   </g>\n   <g id=\"patch_17\">\n    <path clip-path=\"url(#p3c0a2da84f)\" d=\"M 149.625 175.6152 \nL 164.395607 175.6152 \nL 164.395607 184.3128 \nL 149.625 184.3128 \nz\n\" style=\"fill:#107010;\"/>\n   </g>\n   <g id=\"patch_18\">\n    <path clip-path=\"url(#p3c0a2da84f)\" d=\"M 149.625 186.4872 \nL 162.112112 186.4872 \nL 162.112112 195.1848 \nL 149.625 195.1848 \nz\n\" style=\"fill:#107010;\"/>\n   </g>\n   <g id=\"patch_19\">\n    <path clip-path=\"url(#p3c0a2da84f)\" d=\"M 149.625 197.3592 \nL 161.074775 197.3592 \nL 161.074775 206.0568 \nL 149.625 206.0568 \nz\n\" style=\"fill:#107010;\"/>\n   </g>\n   <g id=\"patch_20\">\n    <path clip-path=\"url(#p3c0a2da84f)\" d=\"M 149.625 208.2312 \nL 160.954577 208.2312 \nL 160.954577 216.9288 \nL 149.625 216.9288 \nz\n\" style=\"fill:#107010;\"/>\n   </g>\n   <g id=\"patch_21\">\n    <path clip-path=\"url(#p3c0a2da84f)\" d=\"M 149.625 219.1032 \nL 160.813572 219.1032 \nL 160.813572 227.8008 \nL 149.625 227.8008 \nz\n\" style=\"fill:#107010;\"/>\n   </g>\n   <g id=\"patch_22\">\n    <path clip-path=\"url(#p3c0a2da84f)\" d=\"M 149.625 229.9752 \nL 160.656363 229.9752 \nL 160.656363 238.6728 \nL 149.625 238.6728 \nz\n\" style=\"fill:#107010;\"/>\n   </g>\n   <g id=\"matplotlib.axis_1\">\n    <g id=\"xtick_1\">\n     <g id=\"line2d_1\">\n      <defs>\n       <path d=\"M 0 0 \nL 0 3.5 \n\" id=\"m9d2d6c4c34\" style=\"stroke:#000000;stroke-width:0.8;\"/>\n      </defs>\n      <g>\n       <use style=\"stroke:#000000;stroke-width:0.8;\" x=\"149.625\" xlink:href=\"#m9d2d6c4c34\" y=\"239.76\"/>\n      </g>\n     </g>\n     <g id=\"text_1\">\n      <!-- 0.00 -->\n      <g transform=\"translate(138.492188 254.358437)scale(0.1 -0.1)\">\n       <defs>\n        <path d=\"M 31.78125 66.40625 \nQ 24.171875 66.40625 20.328125 58.90625 \nQ 16.5 51.421875 16.5 36.375 \nQ 16.5 21.390625 20.328125 13.890625 \nQ 24.171875 6.390625 31.78125 6.390625 \nQ 39.453125 6.390625 43.28125 13.890625 \nQ 47.125 21.390625 47.125 36.375 \nQ 47.125 51.421875 43.28125 58.90625 \nQ 39.453125 66.40625 31.78125 66.40625 \nz\nM 31.78125 74.21875 \nQ 44.046875 74.21875 50.515625 64.515625 \nQ 56.984375 54.828125 56.984375 36.375 \nQ 56.984375 17.96875 50.515625 8.265625 \nQ 44.046875 -1.421875 31.78125 -1.421875 \nQ 19.53125 -1.421875 13.0625 8.265625 \nQ 6.59375 17.96875 6.59375 36.375 \nQ 6.59375 54.828125 13.0625 64.515625 \nQ 19.53125 74.21875 31.78125 74.21875 \nz\n\" id=\"DejaVuSans-48\"/>\n        <path d=\"M 10.6875 12.40625 \nL 21 12.40625 \nL 21 0 \nL 10.6875 0 \nz\n\" id=\"DejaVuSans-46\"/>\n       </defs>\n       <use xlink:href=\"#DejaVuSans-48\"/>\n       <use x=\"63.623047\" xlink:href=\"#DejaVuSans-46\"/>\n       <use x=\"95.410156\" xlink:href=\"#DejaVuSans-48\"/>\n       <use x=\"159.033203\" xlink:href=\"#DejaVuSans-48\"/>\n      </g>\n     </g>\n    </g>\n    <g id=\"xtick_2\">\n     <g id=\"line2d_2\">\n      <g>\n       <use style=\"stroke:#000000;stroke-width:0.8;\" x=\"192.509654\" xlink:href=\"#m9d2d6c4c34\" y=\"239.76\"/>\n      </g>\n     </g>\n     <g id=\"text_2\">\n      <!-- 0.02 -->\n      <g transform=\"translate(181.376841 254.358437)scale(0.1 -0.1)\">\n       <defs>\n        <path d=\"M 19.1875 8.296875 \nL 53.609375 8.296875 \nL 53.609375 0 \nL 7.328125 0 \nL 7.328125 8.296875 \nQ 12.9375 14.109375 22.625 23.890625 \nQ 32.328125 33.6875 34.8125 36.53125 \nQ 39.546875 41.84375 41.421875 45.53125 \nQ 43.3125 49.21875 43.3125 52.78125 \nQ 43.3125 58.59375 39.234375 62.25 \nQ 35.15625 65.921875 28.609375 65.921875 \nQ 23.96875 65.921875 18.8125 64.3125 \nQ 13.671875 62.703125 7.8125 59.421875 \nL 7.8125 69.390625 \nQ 13.765625 71.78125 18.9375 73 \nQ 24.125 74.21875 28.421875 74.21875 \nQ 39.75 74.21875 46.484375 68.546875 \nQ 53.21875 62.890625 53.21875 53.421875 \nQ 53.21875 48.921875 51.53125 44.890625 \nQ 49.859375 40.875 45.40625 35.40625 \nQ 44.1875 33.984375 37.640625 27.21875 \nQ 31.109375 20.453125 19.1875 8.296875 \nz\n\" id=\"DejaVuSans-50\"/>\n       </defs>\n       <use xlink:href=\"#DejaVuSans-48\"/>\n       <use x=\"63.623047\" xlink:href=\"#DejaVuSans-46\"/>\n       <use x=\"95.410156\" xlink:href=\"#DejaVuSans-48\"/>\n       <use x=\"159.033203\" xlink:href=\"#DejaVuSans-50\"/>\n      </g>\n     </g>\n    </g>\n    <g id=\"xtick_3\">\n     <g id=\"line2d_3\">\n      <g>\n       <use style=\"stroke:#000000;stroke-width:0.8;\" x=\"235.394307\" xlink:href=\"#m9d2d6c4c34\" y=\"239.76\"/>\n      </g>\n     </g>\n     <g id=\"text_3\">\n      <!-- 0.04 -->\n      <g transform=\"translate(224.261495 254.358437)scale(0.1 -0.1)\">\n       <defs>\n        <path d=\"M 37.796875 64.3125 \nL 12.890625 25.390625 \nL 37.796875 25.390625 \nz\nM 35.203125 72.90625 \nL 47.609375 72.90625 \nL 47.609375 25.390625 \nL 58.015625 25.390625 \nL 58.015625 17.1875 \nL 47.609375 17.1875 \nL 47.609375 0 \nL 37.796875 0 \nL 37.796875 17.1875 \nL 4.890625 17.1875 \nL 4.890625 26.703125 \nz\n\" id=\"DejaVuSans-52\"/>\n       </defs>\n       <use xlink:href=\"#DejaVuSans-48\"/>\n       <use x=\"63.623047\" xlink:href=\"#DejaVuSans-46\"/>\n       <use x=\"95.410156\" xlink:href=\"#DejaVuSans-48\"/>\n       <use x=\"159.033203\" xlink:href=\"#DejaVuSans-52\"/>\n      </g>\n     </g>\n    </g>\n    <g id=\"xtick_4\">\n     <g id=\"line2d_4\">\n      <g>\n       <use style=\"stroke:#000000;stroke-width:0.8;\" x=\"278.278961\" xlink:href=\"#m9d2d6c4c34\" y=\"239.76\"/>\n      </g>\n     </g>\n     <g id=\"text_4\">\n      <!-- 0.06 -->\n      <g transform=\"translate(267.146149 254.358437)scale(0.1 -0.1)\">\n       <defs>\n        <path d=\"M 33.015625 40.375 \nQ 26.375 40.375 22.484375 35.828125 \nQ 18.609375 31.296875 18.609375 23.390625 \nQ 18.609375 15.53125 22.484375 10.953125 \nQ 26.375 6.390625 33.015625 6.390625 \nQ 39.65625 6.390625 43.53125 10.953125 \nQ 47.40625 15.53125 47.40625 23.390625 \nQ 47.40625 31.296875 43.53125 35.828125 \nQ 39.65625 40.375 33.015625 40.375 \nz\nM 52.59375 71.296875 \nL 52.59375 62.3125 \nQ 48.875 64.0625 45.09375 64.984375 \nQ 41.3125 65.921875 37.59375 65.921875 \nQ 27.828125 65.921875 22.671875 59.328125 \nQ 17.53125 52.734375 16.796875 39.40625 \nQ 19.671875 43.65625 24.015625 45.921875 \nQ 28.375 48.1875 33.59375 48.1875 \nQ 44.578125 48.1875 50.953125 41.515625 \nQ 57.328125 34.859375 57.328125 23.390625 \nQ 57.328125 12.15625 50.6875 5.359375 \nQ 44.046875 -1.421875 33.015625 -1.421875 \nQ 20.359375 -1.421875 13.671875 8.265625 \nQ 6.984375 17.96875 6.984375 36.375 \nQ 6.984375 53.65625 15.1875 63.9375 \nQ 23.390625 74.21875 37.203125 74.21875 \nQ 40.921875 74.21875 44.703125 73.484375 \nQ 48.484375 72.75 52.59375 71.296875 \nz\n\" id=\"DejaVuSans-54\"/>\n       </defs>\n       <use xlink:href=\"#DejaVuSans-48\"/>\n       <use x=\"63.623047\" xlink:href=\"#DejaVuSans-46\"/>\n       <use x=\"95.410156\" xlink:href=\"#DejaVuSans-48\"/>\n       <use x=\"159.033203\" xlink:href=\"#DejaVuSans-54\"/>\n      </g>\n     </g>\n    </g>\n    <g id=\"xtick_5\">\n     <g id=\"line2d_5\">\n      <g>\n       <use style=\"stroke:#000000;stroke-width:0.8;\" x=\"321.163615\" xlink:href=\"#m9d2d6c4c34\" y=\"239.76\"/>\n      </g>\n     </g>\n     <g id=\"text_5\">\n      <!-- 0.08 -->\n      <g transform=\"translate(310.030802 254.358437)scale(0.1 -0.1)\">\n       <defs>\n        <path d=\"M 31.78125 34.625 \nQ 24.75 34.625 20.71875 30.859375 \nQ 16.703125 27.09375 16.703125 20.515625 \nQ 16.703125 13.921875 20.71875 10.15625 \nQ 24.75 6.390625 31.78125 6.390625 \nQ 38.8125 6.390625 42.859375 10.171875 \nQ 46.921875 13.96875 46.921875 20.515625 \nQ 46.921875 27.09375 42.890625 30.859375 \nQ 38.875 34.625 31.78125 34.625 \nz\nM 21.921875 38.8125 \nQ 15.578125 40.375 12.03125 44.71875 \nQ 8.5 49.078125 8.5 55.328125 \nQ 8.5 64.0625 14.71875 69.140625 \nQ 20.953125 74.21875 31.78125 74.21875 \nQ 42.671875 74.21875 48.875 69.140625 \nQ 55.078125 64.0625 55.078125 55.328125 \nQ 55.078125 49.078125 51.53125 44.71875 \nQ 48 40.375 41.703125 38.8125 \nQ 48.828125 37.15625 52.796875 32.3125 \nQ 56.78125 27.484375 56.78125 20.515625 \nQ 56.78125 9.90625 50.3125 4.234375 \nQ 43.84375 -1.421875 31.78125 -1.421875 \nQ 19.734375 -1.421875 13.25 4.234375 \nQ 6.78125 9.90625 6.78125 20.515625 \nQ 6.78125 27.484375 10.78125 32.3125 \nQ 14.796875 37.15625 21.921875 38.8125 \nz\nM 18.3125 54.390625 \nQ 18.3125 48.734375 21.84375 45.5625 \nQ 25.390625 42.390625 31.78125 42.390625 \nQ 38.140625 42.390625 41.71875 45.5625 \nQ 45.3125 48.734375 45.3125 54.390625 \nQ 45.3125 60.0625 41.71875 63.234375 \nQ 38.140625 66.40625 31.78125 66.40625 \nQ 25.390625 66.40625 21.84375 63.234375 \nQ 18.3125 60.0625 18.3125 54.390625 \nz\n\" id=\"DejaVuSans-56\"/>\n       </defs>\n       <use xlink:href=\"#DejaVuSans-48\"/>\n       <use x=\"63.623047\" xlink:href=\"#DejaVuSans-46\"/>\n       <use x=\"95.410156\" xlink:href=\"#DejaVuSans-48\"/>\n       <use x=\"159.033203\" xlink:href=\"#DejaVuSans-56\"/>\n      </g>\n     </g>\n    </g>\n    <g id=\"xtick_6\">\n     <g id=\"line2d_6\">\n      <g>\n       <use style=\"stroke:#000000;stroke-width:0.8;\" x=\"364.048268\" xlink:href=\"#m9d2d6c4c34\" y=\"239.76\"/>\n      </g>\n     </g>\n     <g id=\"text_6\">\n      <!-- 0.10 -->\n      <g transform=\"translate(352.915456 254.358437)scale(0.1 -0.1)\">\n       <defs>\n        <path d=\"M 12.40625 8.296875 \nL 28.515625 8.296875 \nL 28.515625 63.921875 \nL 10.984375 60.40625 \nL 10.984375 69.390625 \nL 28.421875 72.90625 \nL 38.28125 72.90625 \nL 38.28125 8.296875 \nL 54.390625 8.296875 \nL 54.390625 0 \nL 12.40625 0 \nz\n\" id=\"DejaVuSans-49\"/>\n       </defs>\n       <use xlink:href=\"#DejaVuSans-48\"/>\n       <use x=\"63.623047\" xlink:href=\"#DejaVuSans-46\"/>\n       <use x=\"95.410156\" xlink:href=\"#DejaVuSans-49\"/>\n       <use x=\"159.033203\" xlink:href=\"#DejaVuSans-48\"/>\n      </g>\n     </g>\n    </g>\n    <g id=\"xtick_7\">\n     <g id=\"line2d_7\">\n      <g>\n       <use style=\"stroke:#000000;stroke-width:0.8;\" x=\"406.932922\" xlink:href=\"#m9d2d6c4c34\" y=\"239.76\"/>\n      </g>\n     </g>\n     <g id=\"text_7\">\n      <!-- 0.12 -->\n      <g transform=\"translate(395.80011 254.358437)scale(0.1 -0.1)\">\n       <use xlink:href=\"#DejaVuSans-48\"/>\n       <use x=\"63.623047\" xlink:href=\"#DejaVuSans-46\"/>\n       <use x=\"95.410156\" xlink:href=\"#DejaVuSans-49\"/>\n       <use x=\"159.033203\" xlink:href=\"#DejaVuSans-50\"/>\n      </g>\n     </g>\n    </g>\n    <g id=\"xtick_8\">\n     <g id=\"line2d_8\">\n      <g>\n       <use style=\"stroke:#000000;stroke-width:0.8;\" x=\"449.817576\" xlink:href=\"#m9d2d6c4c34\" y=\"239.76\"/>\n      </g>\n     </g>\n     <g id=\"text_8\">\n      <!-- 0.14 -->\n      <g transform=\"translate(438.684763 254.358437)scale(0.1 -0.1)\">\n       <use xlink:href=\"#DejaVuSans-48\"/>\n       <use x=\"63.623047\" xlink:href=\"#DejaVuSans-46\"/>\n       <use x=\"95.410156\" xlink:href=\"#DejaVuSans-49\"/>\n       <use x=\"159.033203\" xlink:href=\"#DejaVuSans-52\"/>\n      </g>\n     </g>\n    </g>\n    <g id=\"text_9\">\n     <!-- feature importance -->\n     <g transform=\"translate(268.819531 268.036562)scale(0.1 -0.1)\">\n      <defs>\n       <path d=\"M 37.109375 75.984375 \nL 37.109375 68.5 \nL 28.515625 68.5 \nQ 23.6875 68.5 21.796875 66.546875 \nQ 19.921875 64.59375 19.921875 59.515625 \nL 19.921875 54.6875 \nL 34.71875 54.6875 \nL 34.71875 47.703125 \nL 19.921875 47.703125 \nL 19.921875 0 \nL 10.890625 0 \nL 10.890625 47.703125 \nL 2.296875 47.703125 \nL 2.296875 54.6875 \nL 10.890625 54.6875 \nL 10.890625 58.5 \nQ 10.890625 67.625 15.140625 71.796875 \nQ 19.390625 75.984375 28.609375 75.984375 \nz\n\" id=\"DejaVuSans-102\"/>\n       <path d=\"M 56.203125 29.59375 \nL 56.203125 25.203125 \nL 14.890625 25.203125 \nQ 15.484375 15.921875 20.484375 11.0625 \nQ 25.484375 6.203125 34.421875 6.203125 \nQ 39.59375 6.203125 44.453125 7.46875 \nQ 49.3125 8.734375 54.109375 11.28125 \nL 54.109375 2.78125 \nQ 49.265625 0.734375 44.1875 -0.34375 \nQ 39.109375 -1.421875 33.890625 -1.421875 \nQ 20.796875 -1.421875 13.15625 6.1875 \nQ 5.515625 13.8125 5.515625 26.8125 \nQ 5.515625 40.234375 12.765625 48.109375 \nQ 20.015625 56 32.328125 56 \nQ 43.359375 56 49.78125 48.890625 \nQ 56.203125 41.796875 56.203125 29.59375 \nz\nM 47.21875 32.234375 \nQ 47.125 39.59375 43.09375 43.984375 \nQ 39.0625 48.390625 32.421875 48.390625 \nQ 24.90625 48.390625 20.390625 44.140625 \nQ 15.875 39.890625 15.1875 32.171875 \nz\n\" id=\"DejaVuSans-101\"/>\n       <path d=\"M 34.28125 27.484375 \nQ 23.390625 27.484375 19.1875 25 \nQ 14.984375 22.515625 14.984375 16.5 \nQ 14.984375 11.71875 18.140625 8.90625 \nQ 21.296875 6.109375 26.703125 6.109375 \nQ 34.1875 6.109375 38.703125 11.40625 \nQ 43.21875 16.703125 43.21875 25.484375 \nL 43.21875 27.484375 \nz\nM 52.203125 31.203125 \nL 52.203125 0 \nL 43.21875 0 \nL 43.21875 8.296875 \nQ 40.140625 3.328125 35.546875 0.953125 \nQ 30.953125 -1.421875 24.3125 -1.421875 \nQ 15.921875 -1.421875 10.953125 3.296875 \nQ 6 8.015625 6 15.921875 \nQ 6 25.140625 12.171875 29.828125 \nQ 18.359375 34.515625 30.609375 34.515625 \nL 43.21875 34.515625 \nL 43.21875 35.40625 \nQ 43.21875 41.609375 39.140625 45 \nQ 35.0625 48.390625 27.6875 48.390625 \nQ 23 48.390625 18.546875 47.265625 \nQ 14.109375 46.140625 10.015625 43.890625 \nL 10.015625 52.203125 \nQ 14.9375 54.109375 19.578125 55.046875 \nQ 24.21875 56 28.609375 56 \nQ 40.484375 56 46.34375 49.84375 \nQ 52.203125 43.703125 52.203125 31.203125 \nz\n\" id=\"DejaVuSans-97\"/>\n       <path d=\"M 18.3125 70.21875 \nL 18.3125 54.6875 \nL 36.8125 54.6875 \nL 36.8125 47.703125 \nL 18.3125 47.703125 \nL 18.3125 18.015625 \nQ 18.3125 11.328125 20.140625 9.421875 \nQ 21.96875 7.515625 27.59375 7.515625 \nL 36.8125 7.515625 \nL 36.8125 0 \nL 27.59375 0 \nQ 17.1875 0 13.234375 3.875 \nQ 9.28125 7.765625 9.28125 18.015625 \nL 9.28125 47.703125 \nL 2.6875 47.703125 \nL 2.6875 54.6875 \nL 9.28125 54.6875 \nL 9.28125 70.21875 \nz\n\" id=\"DejaVuSans-116\"/>\n       <path d=\"M 8.5 21.578125 \nL 8.5 54.6875 \nL 17.484375 54.6875 \nL 17.484375 21.921875 \nQ 17.484375 14.15625 20.5 10.265625 \nQ 23.53125 6.390625 29.59375 6.390625 \nQ 36.859375 6.390625 41.078125 11.03125 \nQ 45.3125 15.671875 45.3125 23.6875 \nL 45.3125 54.6875 \nL 54.296875 54.6875 \nL 54.296875 0 \nL 45.3125 0 \nL 45.3125 8.40625 \nQ 42.046875 3.421875 37.71875 1 \nQ 33.40625 -1.421875 27.6875 -1.421875 \nQ 18.265625 -1.421875 13.375 4.4375 \nQ 8.5 10.296875 8.5 21.578125 \nz\nM 31.109375 56 \nz\n\" id=\"DejaVuSans-117\"/>\n       <path d=\"M 41.109375 46.296875 \nQ 39.59375 47.171875 37.8125 47.578125 \nQ 36.03125 48 33.890625 48 \nQ 26.265625 48 22.1875 43.046875 \nQ 18.109375 38.09375 18.109375 28.8125 \nL 18.109375 0 \nL 9.078125 0 \nL 9.078125 54.6875 \nL 18.109375 54.6875 \nL 18.109375 46.1875 \nQ 20.953125 51.171875 25.484375 53.578125 \nQ 30.03125 56 36.53125 56 \nQ 37.453125 56 38.578125 55.875 \nQ 39.703125 55.765625 41.0625 55.515625 \nz\n\" id=\"DejaVuSans-114\"/>\n       <path id=\"DejaVuSans-32\"/>\n       <path d=\"M 9.421875 54.6875 \nL 18.40625 54.6875 \nL 18.40625 0 \nL 9.421875 0 \nz\nM 9.421875 75.984375 \nL 18.40625 75.984375 \nL 18.40625 64.59375 \nL 9.421875 64.59375 \nz\n\" id=\"DejaVuSans-105\"/>\n       <path d=\"M 52 44.1875 \nQ 55.375 50.25 60.0625 53.125 \nQ 64.75 56 71.09375 56 \nQ 79.640625 56 84.28125 50.015625 \nQ 88.921875 44.046875 88.921875 33.015625 \nL 88.921875 0 \nL 79.890625 0 \nL 79.890625 32.71875 \nQ 79.890625 40.578125 77.09375 44.375 \nQ 74.3125 48.1875 68.609375 48.1875 \nQ 61.625 48.1875 57.5625 43.546875 \nQ 53.515625 38.921875 53.515625 30.90625 \nL 53.515625 0 \nL 44.484375 0 \nL 44.484375 32.71875 \nQ 44.484375 40.625 41.703125 44.40625 \nQ 38.921875 48.1875 33.109375 48.1875 \nQ 26.21875 48.1875 22.15625 43.53125 \nQ 18.109375 38.875 18.109375 30.90625 \nL 18.109375 0 \nL 9.078125 0 \nL 9.078125 54.6875 \nL 18.109375 54.6875 \nL 18.109375 46.1875 \nQ 21.1875 51.21875 25.484375 53.609375 \nQ 29.78125 56 35.6875 56 \nQ 41.65625 56 45.828125 52.96875 \nQ 50 49.953125 52 44.1875 \nz\n\" id=\"DejaVuSans-109\"/>\n       <path d=\"M 18.109375 8.203125 \nL 18.109375 -20.796875 \nL 9.078125 -20.796875 \nL 9.078125 54.6875 \nL 18.109375 54.6875 \nL 18.109375 46.390625 \nQ 20.953125 51.265625 25.265625 53.625 \nQ 29.59375 56 35.59375 56 \nQ 45.5625 56 51.78125 48.09375 \nQ 58.015625 40.1875 58.015625 27.296875 \nQ 58.015625 14.40625 51.78125 6.484375 \nQ 45.5625 -1.421875 35.59375 -1.421875 \nQ 29.59375 -1.421875 25.265625 0.953125 \nQ 20.953125 3.328125 18.109375 8.203125 \nz\nM 48.6875 27.296875 \nQ 48.6875 37.203125 44.609375 42.84375 \nQ 40.53125 48.484375 33.40625 48.484375 \nQ 26.265625 48.484375 22.1875 42.84375 \nQ 18.109375 37.203125 18.109375 27.296875 \nQ 18.109375 17.390625 22.1875 11.75 \nQ 26.265625 6.109375 33.40625 6.109375 \nQ 40.53125 6.109375 44.609375 11.75 \nQ 48.6875 17.390625 48.6875 27.296875 \nz\n\" id=\"DejaVuSans-112\"/>\n       <path d=\"M 30.609375 48.390625 \nQ 23.390625 48.390625 19.1875 42.75 \nQ 14.984375 37.109375 14.984375 27.296875 \nQ 14.984375 17.484375 19.15625 11.84375 \nQ 23.34375 6.203125 30.609375 6.203125 \nQ 37.796875 6.203125 41.984375 11.859375 \nQ 46.1875 17.53125 46.1875 27.296875 \nQ 46.1875 37.015625 41.984375 42.703125 \nQ 37.796875 48.390625 30.609375 48.390625 \nz\nM 30.609375 56 \nQ 42.328125 56 49.015625 48.375 \nQ 55.71875 40.765625 55.71875 27.296875 \nQ 55.71875 13.875 49.015625 6.21875 \nQ 42.328125 -1.421875 30.609375 -1.421875 \nQ 18.84375 -1.421875 12.171875 6.21875 \nQ 5.515625 13.875 5.515625 27.296875 \nQ 5.515625 40.765625 12.171875 48.375 \nQ 18.84375 56 30.609375 56 \nz\n\" id=\"DejaVuSans-111\"/>\n       <path d=\"M 54.890625 33.015625 \nL 54.890625 0 \nL 45.90625 0 \nL 45.90625 32.71875 \nQ 45.90625 40.484375 42.875 44.328125 \nQ 39.84375 48.1875 33.796875 48.1875 \nQ 26.515625 48.1875 22.3125 43.546875 \nQ 18.109375 38.921875 18.109375 30.90625 \nL 18.109375 0 \nL 9.078125 0 \nL 9.078125 54.6875 \nL 18.109375 54.6875 \nL 18.109375 46.1875 \nQ 21.34375 51.125 25.703125 53.5625 \nQ 30.078125 56 35.796875 56 \nQ 45.21875 56 50.046875 50.171875 \nQ 54.890625 44.34375 54.890625 33.015625 \nz\n\" id=\"DejaVuSans-110\"/>\n       <path d=\"M 48.78125 52.59375 \nL 48.78125 44.1875 \nQ 44.96875 46.296875 41.140625 47.34375 \nQ 37.3125 48.390625 33.40625 48.390625 \nQ 24.65625 48.390625 19.8125 42.84375 \nQ 14.984375 37.3125 14.984375 27.296875 \nQ 14.984375 17.28125 19.8125 11.734375 \nQ 24.65625 6.203125 33.40625 6.203125 \nQ 37.3125 6.203125 41.140625 7.25 \nQ 44.96875 8.296875 48.78125 10.40625 \nL 48.78125 2.09375 \nQ 45.015625 0.34375 40.984375 -0.53125 \nQ 36.96875 -1.421875 32.421875 -1.421875 \nQ 20.0625 -1.421875 12.78125 6.34375 \nQ 5.515625 14.109375 5.515625 27.296875 \nQ 5.515625 40.671875 12.859375 48.328125 \nQ 20.21875 56 33.015625 56 \nQ 37.15625 56 41.109375 55.140625 \nQ 45.0625 54.296875 48.78125 52.59375 \nz\n\" id=\"DejaVuSans-99\"/>\n      </defs>\n      <use xlink:href=\"#DejaVuSans-102\"/>\n      <use x=\"35.205078\" xlink:href=\"#DejaVuSans-101\"/>\n      <use x=\"96.728516\" xlink:href=\"#DejaVuSans-97\"/>\n      <use x=\"158.007812\" xlink:href=\"#DejaVuSans-116\"/>\n      <use x=\"197.216797\" xlink:href=\"#DejaVuSans-117\"/>\n      <use x=\"260.595703\" xlink:href=\"#DejaVuSans-114\"/>\n      <use x=\"299.458984\" xlink:href=\"#DejaVuSans-101\"/>\n      <use x=\"360.982422\" xlink:href=\"#DejaVuSans-32\"/>\n      <use x=\"392.769531\" xlink:href=\"#DejaVuSans-105\"/>\n      <use x=\"420.552734\" xlink:href=\"#DejaVuSans-109\"/>\n      <use x=\"517.964844\" xlink:href=\"#DejaVuSans-112\"/>\n      <use x=\"581.441406\" xlink:href=\"#DejaVuSans-111\"/>\n      <use x=\"642.623047\" xlink:href=\"#DejaVuSans-114\"/>\n      <use x=\"683.736328\" xlink:href=\"#DejaVuSans-116\"/>\n      <use x=\"722.945312\" xlink:href=\"#DejaVuSans-97\"/>\n      <use x=\"784.224609\" xlink:href=\"#DejaVuSans-110\"/>\n      <use x=\"847.603516\" xlink:href=\"#DejaVuSans-99\"/>\n      <use x=\"902.583984\" xlink:href=\"#DejaVuSans-101\"/>\n     </g>\n    </g>\n   </g>\n   <g id=\"matplotlib.axis_2\">\n    <g id=\"ytick_1\">\n     <g id=\"line2d_9\">\n      <defs>\n       <path d=\"M 0 0 \nL -3.5 0 \n\" id=\"mf9bff39397\" style=\"stroke:#000000;stroke-width:0.8;\"/>\n      </defs>\n      <g>\n       <use style=\"stroke:#000000;stroke-width:0.8;\" x=\"149.625\" xlink:href=\"#mf9bff39397\" y=\"27.756\"/>\n      </g>\n     </g>\n     <g id=\"text_10\">\n      <!-- Lg10CD -->\n      <g transform=\"translate(103.296875 31.555219)scale(0.1 -0.1)\">\n       <defs>\n        <path d=\"M 9.8125 72.90625 \nL 19.671875 72.90625 \nL 19.671875 8.296875 \nL 55.171875 8.296875 \nL 55.171875 0 \nL 9.8125 0 \nz\n\" id=\"DejaVuSans-76\"/>\n        <path d=\"M 45.40625 27.984375 \nQ 45.40625 37.75 41.375 43.109375 \nQ 37.359375 48.484375 30.078125 48.484375 \nQ 22.859375 48.484375 18.828125 43.109375 \nQ 14.796875 37.75 14.796875 27.984375 \nQ 14.796875 18.265625 18.828125 12.890625 \nQ 22.859375 7.515625 30.078125 7.515625 \nQ 37.359375 7.515625 41.375 12.890625 \nQ 45.40625 18.265625 45.40625 27.984375 \nz\nM 54.390625 6.78125 \nQ 54.390625 -7.171875 48.1875 -13.984375 \nQ 42 -20.796875 29.203125 -20.796875 \nQ 24.46875 -20.796875 20.265625 -20.09375 \nQ 16.0625 -19.390625 12.109375 -17.921875 \nL 12.109375 -9.1875 \nQ 16.0625 -11.328125 19.921875 -12.34375 \nQ 23.78125 -13.375 27.78125 -13.375 \nQ 36.625 -13.375 41.015625 -8.765625 \nQ 45.40625 -4.15625 45.40625 5.171875 \nL 45.40625 9.625 \nQ 42.625 4.78125 38.28125 2.390625 \nQ 33.9375 0 27.875 0 \nQ 17.828125 0 11.671875 7.65625 \nQ 5.515625 15.328125 5.515625 27.984375 \nQ 5.515625 40.671875 11.671875 48.328125 \nQ 17.828125 56 27.875 56 \nQ 33.9375 56 38.28125 53.609375 \nQ 42.625 51.21875 45.40625 46.390625 \nL 45.40625 54.6875 \nL 54.390625 54.6875 \nz\n\" id=\"DejaVuSans-103\"/>\n        <path d=\"M 64.40625 67.28125 \nL 64.40625 56.890625 \nQ 59.421875 61.53125 53.78125 63.8125 \nQ 48.140625 66.109375 41.796875 66.109375 \nQ 29.296875 66.109375 22.65625 58.46875 \nQ 16.015625 50.828125 16.015625 36.375 \nQ 16.015625 21.96875 22.65625 14.328125 \nQ 29.296875 6.6875 41.796875 6.6875 \nQ 48.140625 6.6875 53.78125 8.984375 \nQ 59.421875 11.28125 64.40625 15.921875 \nL 64.40625 5.609375 \nQ 59.234375 2.09375 53.4375 0.328125 \nQ 47.65625 -1.421875 41.21875 -1.421875 \nQ 24.65625 -1.421875 15.125 8.703125 \nQ 5.609375 18.84375 5.609375 36.375 \nQ 5.609375 53.953125 15.125 64.078125 \nQ 24.65625 74.21875 41.21875 74.21875 \nQ 47.75 74.21875 53.53125 72.484375 \nQ 59.328125 70.75 64.40625 67.28125 \nz\n\" id=\"DejaVuSans-67\"/>\n        <path d=\"M 19.671875 64.796875 \nL 19.671875 8.109375 \nL 31.59375 8.109375 \nQ 46.6875 8.109375 53.6875 14.9375 \nQ 60.6875 21.78125 60.6875 36.53125 \nQ 60.6875 51.171875 53.6875 57.984375 \nQ 46.6875 64.796875 31.59375 64.796875 \nz\nM 9.8125 72.90625 \nL 30.078125 72.90625 \nQ 51.265625 72.90625 61.171875 64.09375 \nQ 71.09375 55.28125 71.09375 36.53125 \nQ 71.09375 17.671875 61.125 8.828125 \nQ 51.171875 0 30.078125 0 \nL 9.8125 0 \nz\n\" id=\"DejaVuSans-68\"/>\n       </defs>\n       <use xlink:href=\"#DejaVuSans-76\"/>\n       <use x=\"55.712891\" xlink:href=\"#DejaVuSans-103\"/>\n       <use x=\"119.189453\" xlink:href=\"#DejaVuSans-49\"/>\n       <use x=\"182.8125\" xlink:href=\"#DejaVuSans-48\"/>\n       <use x=\"246.435547\" xlink:href=\"#DejaVuSans-67\"/>\n       <use x=\"316.259766\" xlink:href=\"#DejaVuSans-68\"/>\n      </g>\n     </g>\n    </g>\n    <g id=\"ytick_2\">\n     <g id=\"line2d_10\">\n      <g>\n       <use style=\"stroke:#000000;stroke-width:0.8;\" x=\"149.625\" xlink:href=\"#mf9bff39397\" y=\"38.628\"/>\n      </g>\n     </g>\n     <g id=\"text_11\">\n      <!-- CDcount -->\n      <g transform=\"translate(99.729687 42.427219)scale(0.1 -0.1)\">\n       <use xlink:href=\"#DejaVuSans-67\"/>\n       <use x=\"69.824219\" xlink:href=\"#DejaVuSans-68\"/>\n       <use x=\"146.826172\" xlink:href=\"#DejaVuSans-99\"/>\n       <use x=\"201.806641\" xlink:href=\"#DejaVuSans-111\"/>\n       <use x=\"262.988281\" xlink:href=\"#DejaVuSans-117\"/>\n       <use x=\"326.367188\" xlink:href=\"#DejaVuSans-110\"/>\n       <use x=\"389.746094\" xlink:href=\"#DejaVuSans-116\"/>\n      </g>\n     </g>\n    </g>\n    <g id=\"ytick_3\">\n     <g id=\"line2d_11\">\n      <g>\n       <use style=\"stroke:#000000;stroke-width:0.8;\" x=\"149.625\" xlink:href=\"#mf9bff39397\" y=\"49.5\"/>\n      </g>\n     </g>\n     <g id=\"text_12\">\n      <!-- SUBTLCD -->\n      <g transform=\"translate(95.734375 53.299219)scale(0.1 -0.1)\">\n       <defs>\n        <path d=\"M 53.515625 70.515625 \nL 53.515625 60.890625 \nQ 47.90625 63.578125 42.921875 64.890625 \nQ 37.9375 66.21875 33.296875 66.21875 \nQ 25.25 66.21875 20.875 63.09375 \nQ 16.5 59.96875 16.5 54.203125 \nQ 16.5 49.359375 19.40625 46.890625 \nQ 22.3125 44.4375 30.421875 42.921875 \nL 36.375 41.703125 \nQ 47.40625 39.59375 52.65625 34.296875 \nQ 57.90625 29 57.90625 20.125 \nQ 57.90625 9.515625 50.796875 4.046875 \nQ 43.703125 -1.421875 29.984375 -1.421875 \nQ 24.8125 -1.421875 18.96875 -0.25 \nQ 13.140625 0.921875 6.890625 3.21875 \nL 6.890625 13.375 \nQ 12.890625 10.015625 18.65625 8.296875 \nQ 24.421875 6.59375 29.984375 6.59375 \nQ 38.421875 6.59375 43.015625 9.90625 \nQ 47.609375 13.234375 47.609375 19.390625 \nQ 47.609375 24.75 44.3125 27.78125 \nQ 41.015625 30.8125 33.5 32.328125 \nL 27.484375 33.5 \nQ 16.453125 35.6875 11.515625 40.375 \nQ 6.59375 45.0625 6.59375 53.421875 \nQ 6.59375 63.09375 13.40625 68.65625 \nQ 20.21875 74.21875 32.171875 74.21875 \nQ 37.3125 74.21875 42.625 73.28125 \nQ 47.953125 72.359375 53.515625 70.515625 \nz\n\" id=\"DejaVuSans-83\"/>\n        <path d=\"M 8.6875 72.90625 \nL 18.609375 72.90625 \nL 18.609375 28.609375 \nQ 18.609375 16.890625 22.84375 11.734375 \nQ 27.09375 6.59375 36.625 6.59375 \nQ 46.09375 6.59375 50.34375 11.734375 \nQ 54.59375 16.890625 54.59375 28.609375 \nL 54.59375 72.90625 \nL 64.5 72.90625 \nL 64.5 27.390625 \nQ 64.5 13.140625 57.4375 5.859375 \nQ 50.390625 -1.421875 36.625 -1.421875 \nQ 22.796875 -1.421875 15.734375 5.859375 \nQ 8.6875 13.140625 8.6875 27.390625 \nz\n\" id=\"DejaVuSans-85\"/>\n        <path d=\"M 19.671875 34.8125 \nL 19.671875 8.109375 \nL 35.5 8.109375 \nQ 43.453125 8.109375 47.28125 11.40625 \nQ 51.125 14.703125 51.125 21.484375 \nQ 51.125 28.328125 47.28125 31.5625 \nQ 43.453125 34.8125 35.5 34.8125 \nz\nM 19.671875 64.796875 \nL 19.671875 42.828125 \nL 34.28125 42.828125 \nQ 41.5 42.828125 45.03125 45.53125 \nQ 48.578125 48.25 48.578125 53.8125 \nQ 48.578125 59.328125 45.03125 62.0625 \nQ 41.5 64.796875 34.28125 64.796875 \nz\nM 9.8125 72.90625 \nL 35.015625 72.90625 \nQ 46.296875 72.90625 52.390625 68.21875 \nQ 58.5 63.53125 58.5 54.890625 \nQ 58.5 48.1875 55.375 44.234375 \nQ 52.25 40.28125 46.1875 39.3125 \nQ 53.46875 37.75 57.5 32.78125 \nQ 61.53125 27.828125 61.53125 20.40625 \nQ 61.53125 10.640625 54.890625 5.3125 \nQ 48.25 0 35.984375 0 \nL 9.8125 0 \nz\n\" id=\"DejaVuSans-66\"/>\n        <path d=\"M -0.296875 72.90625 \nL 61.375 72.90625 \nL 61.375 64.59375 \nL 35.5 64.59375 \nL 35.5 0 \nL 25.59375 0 \nL 25.59375 64.59375 \nL -0.296875 64.59375 \nz\n\" id=\"DejaVuSans-84\"/>\n       </defs>\n       <use xlink:href=\"#DejaVuSans-83\"/>\n       <use x=\"63.476562\" xlink:href=\"#DejaVuSans-85\"/>\n       <use x=\"136.669922\" xlink:href=\"#DejaVuSans-66\"/>\n       <use x=\"205.273438\" xlink:href=\"#DejaVuSans-84\"/>\n       <use x=\"266.357422\" xlink:href=\"#DejaVuSans-76\"/>\n       <use x=\"322.070312\" xlink:href=\"#DejaVuSans-67\"/>\n       <use x=\"391.894531\" xlink:href=\"#DejaVuSans-68\"/>\n      </g>\n     </g>\n    </g>\n    <g id=\"ytick_4\">\n     <g id=\"line2d_12\">\n      <g>\n       <use style=\"stroke:#000000;stroke-width:0.8;\" x=\"149.625\" xlink:href=\"#mf9bff39397\" y=\"60.372\"/>\n      </g>\n     </g>\n     <g id=\"text_13\">\n      <!-- is_acronym -->\n      <g transform=\"translate(86.009375 64.171219)scale(0.1 -0.1)\">\n       <defs>\n        <path d=\"M 44.28125 53.078125 \nL 44.28125 44.578125 \nQ 40.484375 46.53125 36.375 47.5 \nQ 32.28125 48.484375 27.875 48.484375 \nQ 21.1875 48.484375 17.84375 46.4375 \nQ 14.5 44.390625 14.5 40.28125 \nQ 14.5 37.15625 16.890625 35.375 \nQ 19.28125 33.59375 26.515625 31.984375 \nL 29.59375 31.296875 \nQ 39.15625 29.25 43.1875 25.515625 \nQ 47.21875 21.78125 47.21875 15.09375 \nQ 47.21875 7.46875 41.1875 3.015625 \nQ 35.15625 -1.421875 24.609375 -1.421875 \nQ 20.21875 -1.421875 15.453125 -0.5625 \nQ 10.6875 0.296875 5.421875 2 \nL 5.421875 11.28125 \nQ 10.40625 8.6875 15.234375 7.390625 \nQ 20.0625 6.109375 24.8125 6.109375 \nQ 31.15625 6.109375 34.5625 8.28125 \nQ 37.984375 10.453125 37.984375 14.40625 \nQ 37.984375 18.0625 35.515625 20.015625 \nQ 33.0625 21.96875 24.703125 23.78125 \nL 21.578125 24.515625 \nQ 13.234375 26.265625 9.515625 29.90625 \nQ 5.8125 33.546875 5.8125 39.890625 \nQ 5.8125 47.609375 11.28125 51.796875 \nQ 16.75 56 26.8125 56 \nQ 31.78125 56 36.171875 55.265625 \nQ 40.578125 54.546875 44.28125 53.078125 \nz\n\" id=\"DejaVuSans-115\"/>\n        <path d=\"M 50.984375 -16.609375 \nL 50.984375 -23.578125 \nL -0.984375 -23.578125 \nL -0.984375 -16.609375 \nz\n\" id=\"DejaVuSans-95\"/>\n        <path d=\"M 32.171875 -5.078125 \nQ 28.375 -14.84375 24.75 -17.8125 \nQ 21.140625 -20.796875 15.09375 -20.796875 \nL 7.90625 -20.796875 \nL 7.90625 -13.28125 \nL 13.1875 -13.28125 \nQ 16.890625 -13.28125 18.9375 -11.515625 \nQ 21 -9.765625 23.484375 -3.21875 \nL 25.09375 0.875 \nL 2.984375 54.6875 \nL 12.5 54.6875 \nL 29.59375 11.921875 \nL 46.6875 54.6875 \nL 56.203125 54.6875 \nz\n\" id=\"DejaVuSans-121\"/>\n       </defs>\n       <use xlink:href=\"#DejaVuSans-105\"/>\n       <use x=\"27.783203\" xlink:href=\"#DejaVuSans-115\"/>\n       <use x=\"79.882812\" xlink:href=\"#DejaVuSans-95\"/>\n       <use x=\"129.882812\" xlink:href=\"#DejaVuSans-97\"/>\n       <use x=\"191.162109\" xlink:href=\"#DejaVuSans-99\"/>\n       <use x=\"246.142578\" xlink:href=\"#DejaVuSans-114\"/>\n       <use x=\"285.005859\" xlink:href=\"#DejaVuSans-111\"/>\n       <use x=\"346.1875\" xlink:href=\"#DejaVuSans-110\"/>\n       <use x=\"409.566406\" xlink:href=\"#DejaVuSans-121\"/>\n       <use x=\"468.746094\" xlink:href=\"#DejaVuSans-109\"/>\n      </g>\n     </g>\n    </g>\n    <g id=\"ytick_5\">\n     <g id=\"line2d_13\">\n      <g>\n       <use style=\"stroke:#000000;stroke-width:0.8;\" x=\"149.625\" xlink:href=\"#mf9bff39397\" y=\"71.244\"/>\n      </g>\n     </g>\n     <g id=\"text_14\">\n      <!-- tf_lemma -->\n      <g transform=\"translate(95.64375 75.043219)scale(0.1 -0.1)\">\n       <defs>\n        <path d=\"M 9.421875 75.984375 \nL 18.40625 75.984375 \nL 18.40625 0 \nL 9.421875 0 \nz\n\" id=\"DejaVuSans-108\"/>\n       </defs>\n       <use xlink:href=\"#DejaVuSans-116\"/>\n       <use x=\"39.208984\" xlink:href=\"#DejaVuSans-102\"/>\n       <use x=\"74.414062\" xlink:href=\"#DejaVuSans-95\"/>\n       <use x=\"124.414062\" xlink:href=\"#DejaVuSans-108\"/>\n       <use x=\"152.197266\" xlink:href=\"#DejaVuSans-101\"/>\n       <use x=\"213.720703\" xlink:href=\"#DejaVuSans-109\"/>\n       <use x=\"311.132812\" xlink:href=\"#DejaVuSans-109\"/>\n       <use x=\"408.544922\" xlink:href=\"#DejaVuSans-97\"/>\n      </g>\n     </g>\n    </g>\n    <g id=\"ytick_6\">\n     <g id=\"line2d_14\">\n      <g>\n       <use style=\"stroke:#000000;stroke-width:0.8;\" x=\"149.625\" xlink:href=\"#mf9bff39397\" y=\"82.116\"/>\n      </g>\n     </g>\n     <g id=\"text_15\">\n      <!-- log_tf_lemma -->\n      <g transform=\"translate(75.398438 85.915219)scale(0.1 -0.1)\">\n       <use xlink:href=\"#DejaVuSans-108\"/>\n       <use x=\"27.783203\" xlink:href=\"#DejaVuSans-111\"/>\n       <use x=\"88.964844\" xlink:href=\"#DejaVuSans-103\"/>\n       <use x=\"152.441406\" xlink:href=\"#DejaVuSans-95\"/>\n       <use x=\"202.441406\" xlink:href=\"#DejaVuSans-116\"/>\n       <use x=\"241.650391\" xlink:href=\"#DejaVuSans-102\"/>\n       <use x=\"276.855469\" xlink:href=\"#DejaVuSans-95\"/>\n       <use x=\"326.855469\" xlink:href=\"#DejaVuSans-108\"/>\n       <use x=\"354.638672\" xlink:href=\"#DejaVuSans-101\"/>\n       <use x=\"416.162109\" xlink:href=\"#DejaVuSans-109\"/>\n       <use x=\"513.574219\" xlink:href=\"#DejaVuSans-109\"/>\n       <use x=\"610.986328\" xlink:href=\"#DejaVuSans-97\"/>\n      </g>\n     </g>\n    </g>\n    <g id=\"ytick_7\">\n     <g id=\"line2d_15\">\n      <g>\n       <use style=\"stroke:#000000;stroke-width:0.8;\" x=\"149.625\" xlink:href=\"#mf9bff39397\" y=\"92.988\"/>\n      </g>\n     </g>\n     <g id=\"text_16\">\n      <!-- log_Cdlow -->\n      <g transform=\"translate(91.973437 96.787219)scale(0.1 -0.1)\">\n       <defs>\n        <path d=\"M 45.40625 46.390625 \nL 45.40625 75.984375 \nL 54.390625 75.984375 \nL 54.390625 0 \nL 45.40625 0 \nL 45.40625 8.203125 \nQ 42.578125 3.328125 38.25 0.953125 \nQ 33.9375 -1.421875 27.875 -1.421875 \nQ 17.96875 -1.421875 11.734375 6.484375 \nQ 5.515625 14.40625 5.515625 27.296875 \nQ 5.515625 40.1875 11.734375 48.09375 \nQ 17.96875 56 27.875 56 \nQ 33.9375 56 38.25 53.625 \nQ 42.578125 51.265625 45.40625 46.390625 \nz\nM 14.796875 27.296875 \nQ 14.796875 17.390625 18.875 11.75 \nQ 22.953125 6.109375 30.078125 6.109375 \nQ 37.203125 6.109375 41.296875 11.75 \nQ 45.40625 17.390625 45.40625 27.296875 \nQ 45.40625 37.203125 41.296875 42.84375 \nQ 37.203125 48.484375 30.078125 48.484375 \nQ 22.953125 48.484375 18.875 42.84375 \nQ 14.796875 37.203125 14.796875 27.296875 \nz\n\" id=\"DejaVuSans-100\"/>\n        <path d=\"M 4.203125 54.6875 \nL 13.1875 54.6875 \nL 24.421875 12.015625 \nL 35.59375 54.6875 \nL 46.1875 54.6875 \nL 57.421875 12.015625 \nL 68.609375 54.6875 \nL 77.59375 54.6875 \nL 63.28125 0 \nL 52.6875 0 \nL 40.921875 44.828125 \nL 29.109375 0 \nL 18.5 0 \nz\n\" id=\"DejaVuSans-119\"/>\n       </defs>\n       <use xlink:href=\"#DejaVuSans-108\"/>\n       <use x=\"27.783203\" xlink:href=\"#DejaVuSans-111\"/>\n       <use x=\"88.964844\" xlink:href=\"#DejaVuSans-103\"/>\n       <use x=\"152.441406\" xlink:href=\"#DejaVuSans-95\"/>\n       <use x=\"202.441406\" xlink:href=\"#DejaVuSans-67\"/>\n       <use x=\"272.265625\" xlink:href=\"#DejaVuSans-100\"/>\n       <use x=\"335.742188\" xlink:href=\"#DejaVuSans-108\"/>\n       <use x=\"363.525391\" xlink:href=\"#DejaVuSans-111\"/>\n       <use x=\"424.707031\" xlink:href=\"#DejaVuSans-119\"/>\n      </g>\n     </g>\n    </g>\n    <g id=\"ytick_8\">\n     <g id=\"line2d_16\">\n      <g>\n       <use style=\"stroke:#000000;stroke-width:0.8;\" x=\"149.625\" xlink:href=\"#mf9bff39397\" y=\"103.86\"/>\n      </g>\n     </g>\n     <g id=\"text_17\">\n      <!-- glove_word_277 -->\n      <g transform=\"translate(61.639062 107.659219)scale(0.1 -0.1)\">\n       <defs>\n        <path d=\"M 2.984375 54.6875 \nL 12.5 54.6875 \nL 29.59375 8.796875 \nL 46.6875 54.6875 \nL 56.203125 54.6875 \nL 35.6875 0 \nL 23.484375 0 \nz\n\" id=\"DejaVuSans-118\"/>\n        <path d=\"M 8.203125 72.90625 \nL 55.078125 72.90625 \nL 55.078125 68.703125 \nL 28.609375 0 \nL 18.3125 0 \nL 43.21875 64.59375 \nL 8.203125 64.59375 \nz\n\" id=\"DejaVuSans-55\"/>\n       </defs>\n       <use xlink:href=\"#DejaVuSans-103\"/>\n       <use x=\"63.476562\" xlink:href=\"#DejaVuSans-108\"/>\n       <use x=\"91.259766\" xlink:href=\"#DejaVuSans-111\"/>\n       <use x=\"152.441406\" xlink:href=\"#DejaVuSans-118\"/>\n       <use x=\"211.621094\" xlink:href=\"#DejaVuSans-101\"/>\n       <use x=\"273.144531\" xlink:href=\"#DejaVuSans-95\"/>\n       <use x=\"323.144531\" xlink:href=\"#DejaVuSans-119\"/>\n       <use x=\"404.931641\" xlink:href=\"#DejaVuSans-111\"/>\n       <use x=\"466.113281\" xlink:href=\"#DejaVuSans-114\"/>\n       <use x=\"505.476562\" xlink:href=\"#DejaVuSans-100\"/>\n       <use x=\"568.953125\" xlink:href=\"#DejaVuSans-95\"/>\n       <use x=\"618.953125\" xlink:href=\"#DejaVuSans-50\"/>\n       <use x=\"682.576172\" xlink:href=\"#DejaVuSans-55\"/>\n       <use x=\"746.199219\" xlink:href=\"#DejaVuSans-55\"/>\n      </g>\n     </g>\n    </g>\n    <g id=\"ytick_9\">\n     <g id=\"line2d_17\">\n      <g>\n       <use style=\"stroke:#000000;stroke-width:0.8;\" x=\"149.625\" xlink:href=\"#mf9bff39397\" y=\"114.732\"/>\n      </g>\n     </g>\n     <g id=\"text_18\">\n      <!-- Cdlow -->\n      <g transform=\"translate(112.21875 118.531219)scale(0.1 -0.1)\">\n       <use xlink:href=\"#DejaVuSans-67\"/>\n       <use x=\"69.824219\" xlink:href=\"#DejaVuSans-100\"/>\n       <use x=\"133.300781\" xlink:href=\"#DejaVuSans-108\"/>\n       <use x=\"161.083984\" xlink:href=\"#DejaVuSans-111\"/>\n       <use x=\"222.265625\" xlink:href=\"#DejaVuSans-119\"/>\n      </g>\n     </g>\n    </g>\n    <g id=\"ytick_10\">\n     <g id=\"line2d_18\">\n      <g>\n       <use style=\"stroke:#000000;stroke-width:0.8;\" x=\"149.625\" xlink:href=\"#mf9bff39397\" y=\"125.604\"/>\n      </g>\n     </g>\n     <g id=\"text_19\">\n      <!-- bnc_frequency -->\n      <g transform=\"translate(69.2875 129.403219)scale(0.1 -0.1)\">\n       <defs>\n        <path d=\"M 48.6875 27.296875 \nQ 48.6875 37.203125 44.609375 42.84375 \nQ 40.53125 48.484375 33.40625 48.484375 \nQ 26.265625 48.484375 22.1875 42.84375 \nQ 18.109375 37.203125 18.109375 27.296875 \nQ 18.109375 17.390625 22.1875 11.75 \nQ 26.265625 6.109375 33.40625 6.109375 \nQ 40.53125 6.109375 44.609375 11.75 \nQ 48.6875 17.390625 48.6875 27.296875 \nz\nM 18.109375 46.390625 \nQ 20.953125 51.265625 25.265625 53.625 \nQ 29.59375 56 35.59375 56 \nQ 45.5625 56 51.78125 48.09375 \nQ 58.015625 40.1875 58.015625 27.296875 \nQ 58.015625 14.40625 51.78125 6.484375 \nQ 45.5625 -1.421875 35.59375 -1.421875 \nQ 29.59375 -1.421875 25.265625 0.953125 \nQ 20.953125 3.328125 18.109375 8.203125 \nL 18.109375 0 \nL 9.078125 0 \nL 9.078125 75.984375 \nL 18.109375 75.984375 \nz\n\" id=\"DejaVuSans-98\"/>\n        <path d=\"M 14.796875 27.296875 \nQ 14.796875 17.390625 18.875 11.75 \nQ 22.953125 6.109375 30.078125 6.109375 \nQ 37.203125 6.109375 41.296875 11.75 \nQ 45.40625 17.390625 45.40625 27.296875 \nQ 45.40625 37.203125 41.296875 42.84375 \nQ 37.203125 48.484375 30.078125 48.484375 \nQ 22.953125 48.484375 18.875 42.84375 \nQ 14.796875 37.203125 14.796875 27.296875 \nz\nM 45.40625 8.203125 \nQ 42.578125 3.328125 38.25 0.953125 \nQ 33.9375 -1.421875 27.875 -1.421875 \nQ 17.96875 -1.421875 11.734375 6.484375 \nQ 5.515625 14.40625 5.515625 27.296875 \nQ 5.515625 40.1875 11.734375 48.09375 \nQ 17.96875 56 27.875 56 \nQ 33.9375 56 38.25 53.625 \nQ 42.578125 51.265625 45.40625 46.390625 \nL 45.40625 54.6875 \nL 54.390625 54.6875 \nL 54.390625 -20.796875 \nL 45.40625 -20.796875 \nz\n\" id=\"DejaVuSans-113\"/>\n       </defs>\n       <use xlink:href=\"#DejaVuSans-98\"/>\n       <use x=\"63.476562\" xlink:href=\"#DejaVuSans-110\"/>\n       <use x=\"126.855469\" xlink:href=\"#DejaVuSans-99\"/>\n       <use x=\"181.835938\" xlink:href=\"#DejaVuSans-95\"/>\n       <use x=\"231.835938\" xlink:href=\"#DejaVuSans-102\"/>\n       <use x=\"267.041016\" xlink:href=\"#DejaVuSans-114\"/>\n       <use x=\"305.904297\" xlink:href=\"#DejaVuSans-101\"/>\n       <use x=\"367.427734\" xlink:href=\"#DejaVuSans-113\"/>\n       <use x=\"430.904297\" xlink:href=\"#DejaVuSans-117\"/>\n       <use x=\"494.283203\" xlink:href=\"#DejaVuSans-101\"/>\n       <use x=\"555.806641\" xlink:href=\"#DejaVuSans-110\"/>\n       <use x=\"619.185547\" xlink:href=\"#DejaVuSans-99\"/>\n       <use x=\"674.166016\" xlink:href=\"#DejaVuSans-121\"/>\n      </g>\n     </g>\n    </g>\n    <g id=\"ytick_11\">\n     <g id=\"line2d_19\">\n      <g>\n       <use style=\"stroke:#000000;stroke-width:0.8;\" x=\"149.625\" xlink:href=\"#mf9bff39397\" y=\"136.476\"/>\n      </g>\n     </g>\n     <g id=\"text_20\">\n      <!-- word_len -->\n      <g transform=\"translate(97.775 140.275219)scale(0.1 -0.1)\">\n       <use xlink:href=\"#DejaVuSans-119\"/>\n       <use x=\"81.787109\" xlink:href=\"#DejaVuSans-111\"/>\n       <use x=\"142.96875\" xlink:href=\"#DejaVuSans-114\"/>\n       <use x=\"182.332031\" xlink:href=\"#DejaVuSans-100\"/>\n       <use x=\"245.808594\" xlink:href=\"#DejaVuSans-95\"/>\n       <use x=\"295.808594\" xlink:href=\"#DejaVuSans-108\"/>\n       <use x=\"323.591797\" xlink:href=\"#DejaVuSans-101\"/>\n       <use x=\"385.115234\" xlink:href=\"#DejaVuSans-110\"/>\n      </g>\n     </g>\n    </g>\n    <g id=\"ytick_12\">\n     <g id=\"line2d_20\">\n      <g>\n       <use style=\"stroke:#000000;stroke-width:0.8;\" x=\"149.625\" xlink:href=\"#mf9bff39397\" y=\"147.348\"/>\n      </g>\n     </g>\n     <g id=\"text_21\">\n      <!-- char_transition_max -->\n      <g transform=\"translate(41.123437 151.147219)scale(0.1 -0.1)\">\n       <defs>\n        <path d=\"M 54.890625 33.015625 \nL 54.890625 0 \nL 45.90625 0 \nL 45.90625 32.71875 \nQ 45.90625 40.484375 42.875 44.328125 \nQ 39.84375 48.1875 33.796875 48.1875 \nQ 26.515625 48.1875 22.3125 43.546875 \nQ 18.109375 38.921875 18.109375 30.90625 \nL 18.109375 0 \nL 9.078125 0 \nL 9.078125 75.984375 \nL 18.109375 75.984375 \nL 18.109375 46.1875 \nQ 21.34375 51.125 25.703125 53.5625 \nQ 30.078125 56 35.796875 56 \nQ 45.21875 56 50.046875 50.171875 \nQ 54.890625 44.34375 54.890625 33.015625 \nz\n\" id=\"DejaVuSans-104\"/>\n        <path d=\"M 54.890625 54.6875 \nL 35.109375 28.078125 \nL 55.90625 0 \nL 45.3125 0 \nL 29.390625 21.484375 \nL 13.484375 0 \nL 2.875 0 \nL 24.125 28.609375 \nL 4.6875 54.6875 \nL 15.28125 54.6875 \nL 29.78125 35.203125 \nL 44.28125 54.6875 \nz\n\" id=\"DejaVuSans-120\"/>\n       </defs>\n       <use xlink:href=\"#DejaVuSans-99\"/>\n       <use x=\"54.980469\" xlink:href=\"#DejaVuSans-104\"/>\n       <use x=\"118.359375\" xlink:href=\"#DejaVuSans-97\"/>\n       <use x=\"179.638672\" xlink:href=\"#DejaVuSans-114\"/>\n       <use x=\"220.751953\" xlink:href=\"#DejaVuSans-95\"/>\n       <use x=\"270.751953\" xlink:href=\"#DejaVuSans-116\"/>\n       <use x=\"309.960938\" xlink:href=\"#DejaVuSans-114\"/>\n       <use x=\"351.074219\" xlink:href=\"#DejaVuSans-97\"/>\n       <use x=\"412.353516\" xlink:href=\"#DejaVuSans-110\"/>\n       <use x=\"475.732422\" xlink:href=\"#DejaVuSans-115\"/>\n       <use x=\"527.832031\" xlink:href=\"#DejaVuSans-105\"/>\n       <use x=\"555.615234\" xlink:href=\"#DejaVuSans-116\"/>\n       <use x=\"594.824219\" xlink:href=\"#DejaVuSans-105\"/>\n       <use x=\"622.607422\" xlink:href=\"#DejaVuSans-111\"/>\n       <use x=\"683.789062\" xlink:href=\"#DejaVuSans-110\"/>\n       <use x=\"747.167969\" xlink:href=\"#DejaVuSans-95\"/>\n       <use x=\"797.167969\" xlink:href=\"#DejaVuSans-109\"/>\n       <use x=\"894.580078\" xlink:href=\"#DejaVuSans-97\"/>\n       <use x=\"955.859375\" xlink:href=\"#DejaVuSans-120\"/>\n      </g>\n     </g>\n    </g>\n    <g id=\"ytick_13\">\n     <g id=\"line2d_21\">\n      <g>\n       <use style=\"stroke:#000000;stroke-width:0.8;\" x=\"149.625\" xlink:href=\"#mf9bff39397\" y=\"158.22\"/>\n      </g>\n     </g>\n     <g id=\"text_22\">\n      <!-- log_char_transition_max -->\n      <g transform=\"translate(20.878125 162.019219)scale(0.1 -0.1)\">\n       <use xlink:href=\"#DejaVuSans-108\"/>\n       <use x=\"27.783203\" xlink:href=\"#DejaVuSans-111\"/>\n       <use x=\"88.964844\" xlink:href=\"#DejaVuSans-103\"/>\n       <use x=\"152.441406\" xlink:href=\"#DejaVuSans-95\"/>\n       <use x=\"202.441406\" xlink:href=\"#DejaVuSans-99\"/>\n       <use x=\"257.421875\" xlink:href=\"#DejaVuSans-104\"/>\n       <use x=\"320.800781\" xlink:href=\"#DejaVuSans-97\"/>\n       <use x=\"382.080078\" xlink:href=\"#DejaVuSans-114\"/>\n       <use x=\"423.193359\" xlink:href=\"#DejaVuSans-95\"/>\n       <use x=\"473.193359\" xlink:href=\"#DejaVuSans-116\"/>\n       <use x=\"512.402344\" xlink:href=\"#DejaVuSans-114\"/>\n       <use x=\"553.515625\" xlink:href=\"#DejaVuSans-97\"/>\n       <use x=\"614.794922\" xlink:href=\"#DejaVuSans-110\"/>\n       <use x=\"678.173828\" xlink:href=\"#DejaVuSans-115\"/>\n       <use x=\"730.273438\" xlink:href=\"#DejaVuSans-105\"/>\n       <use x=\"758.056641\" xlink:href=\"#DejaVuSans-116\"/>\n       <use x=\"797.265625\" xlink:href=\"#DejaVuSans-105\"/>\n       <use x=\"825.048828\" xlink:href=\"#DejaVuSans-111\"/>\n       <use x=\"886.230469\" xlink:href=\"#DejaVuSans-110\"/>\n       <use x=\"949.609375\" xlink:href=\"#DejaVuSans-95\"/>\n       <use x=\"999.609375\" xlink:href=\"#DejaVuSans-109\"/>\n       <use x=\"1097.021484\" xlink:href=\"#DejaVuSans-97\"/>\n       <use x=\"1158.300781\" xlink:href=\"#DejaVuSans-120\"/>\n      </g>\n     </g>\n    </g>\n    <g id=\"ytick_14\">\n     <g id=\"line2d_22\">\n      <g>\n       <use style=\"stroke:#000000;stroke-width:0.8;\" x=\"149.625\" xlink:href=\"#mf9bff39397\" y=\"169.092\"/>\n      </g>\n     </g>\n     <g id=\"text_23\">\n      <!-- log_is_proper -->\n      <g transform=\"translate(76.426563 172.891219)scale(0.1 -0.1)\">\n       <use xlink:href=\"#DejaVuSans-108\"/>\n       <use x=\"27.783203\" xlink:href=\"#DejaVuSans-111\"/>\n       <use x=\"88.964844\" xlink:href=\"#DejaVuSans-103\"/>\n       <use x=\"152.441406\" xlink:href=\"#DejaVuSans-95\"/>\n       <use x=\"202.441406\" xlink:href=\"#DejaVuSans-105\"/>\n       <use x=\"230.224609\" xlink:href=\"#DejaVuSans-115\"/>\n       <use x=\"282.324219\" xlink:href=\"#DejaVuSans-95\"/>\n       <use x=\"332.324219\" xlink:href=\"#DejaVuSans-112\"/>\n       <use x=\"395.800781\" xlink:href=\"#DejaVuSans-114\"/>\n       <use x=\"434.664062\" xlink:href=\"#DejaVuSans-111\"/>\n       <use x=\"495.845703\" xlink:href=\"#DejaVuSans-112\"/>\n       <use x=\"559.322266\" xlink:href=\"#DejaVuSans-101\"/>\n       <use x=\"620.845703\" xlink:href=\"#DejaVuSans-114\"/>\n      </g>\n     </g>\n    </g>\n    <g id=\"ytick_15\">\n     <g id=\"line2d_23\">\n      <g>\n       <use style=\"stroke:#000000;stroke-width:0.8;\" x=\"149.625\" xlink:href=\"#mf9bff39397\" y=\"179.964\"/>\n      </g>\n     </g>\n     <g id=\"text_24\">\n      <!-- SUBTLWF -->\n      <g transform=\"translate(95.690625 183.763219)scale(0.1 -0.1)\">\n       <defs>\n        <path d=\"M 3.328125 72.90625 \nL 13.28125 72.90625 \nL 28.609375 11.28125 \nL 43.890625 72.90625 \nL 54.984375 72.90625 \nL 70.3125 11.28125 \nL 85.59375 72.90625 \nL 95.609375 72.90625 \nL 77.296875 0 \nL 64.890625 0 \nL 49.515625 63.28125 \nL 33.984375 0 \nL 21.578125 0 \nz\n\" id=\"DejaVuSans-87\"/>\n        <path d=\"M 9.8125 72.90625 \nL 51.703125 72.90625 \nL 51.703125 64.59375 \nL 19.671875 64.59375 \nL 19.671875 43.109375 \nL 48.578125 43.109375 \nL 48.578125 34.8125 \nL 19.671875 34.8125 \nL 19.671875 0 \nL 9.8125 0 \nz\n\" id=\"DejaVuSans-70\"/>\n       </defs>\n       <use xlink:href=\"#DejaVuSans-83\"/>\n       <use x=\"63.476562\" xlink:href=\"#DejaVuSans-85\"/>\n       <use x=\"136.669922\" xlink:href=\"#DejaVuSans-66\"/>\n       <use x=\"205.273438\" xlink:href=\"#DejaVuSans-84\"/>\n       <use x=\"266.357422\" xlink:href=\"#DejaVuSans-76\"/>\n       <use x=\"312.945312\" xlink:href=\"#DejaVuSans-87\"/>\n       <use x=\"411.822266\" xlink:href=\"#DejaVuSans-70\"/>\n      </g>\n     </g>\n    </g>\n    <g id=\"ytick_16\">\n     <g id=\"line2d_24\">\n      <g>\n       <use style=\"stroke:#000000;stroke-width:0.8;\" x=\"149.625\" xlink:href=\"#mf9bff39397\" y=\"190.836\"/>\n      </g>\n     </g>\n     <g id=\"text_25\">\n      <!-- tf_ngram_2 -->\n      <g transform=\"translate(86.15625 194.635219)scale(0.1 -0.1)\">\n       <use xlink:href=\"#DejaVuSans-116\"/>\n       <use x=\"39.208984\" xlink:href=\"#DejaVuSans-102\"/>\n       <use x=\"74.414062\" xlink:href=\"#DejaVuSans-95\"/>\n       <use x=\"124.414062\" xlink:href=\"#DejaVuSans-110\"/>\n       <use x=\"187.792969\" xlink:href=\"#DejaVuSans-103\"/>\n       <use x=\"251.269531\" xlink:href=\"#DejaVuSans-114\"/>\n       <use x=\"292.382812\" xlink:href=\"#DejaVuSans-97\"/>\n       <use x=\"353.662109\" xlink:href=\"#DejaVuSans-109\"/>\n       <use x=\"451.074219\" xlink:href=\"#DejaVuSans-95\"/>\n       <use x=\"501.074219\" xlink:href=\"#DejaVuSans-50\"/>\n      </g>\n     </g>\n    </g>\n    <g id=\"ytick_17\">\n     <g id=\"line2d_25\">\n      <g>\n       <use style=\"stroke:#000000;stroke-width:0.8;\" x=\"149.625\" xlink:href=\"#mf9bff39397\" y=\"201.708\"/>\n      </g>\n     </g>\n     <g id=\"text_26\">\n      <!-- log_FREQlow -->\n      <g transform=\"translate(78.414062 205.507219)scale(0.1 -0.1)\">\n       <defs>\n        <path d=\"M 44.390625 34.1875 \nQ 47.5625 33.109375 50.5625 29.59375 \nQ 53.5625 26.078125 56.59375 19.921875 \nL 66.609375 0 \nL 56 0 \nL 46.6875 18.703125 \nQ 43.0625 26.03125 39.671875 28.421875 \nQ 36.28125 30.8125 30.421875 30.8125 \nL 19.671875 30.8125 \nL 19.671875 0 \nL 9.8125 0 \nL 9.8125 72.90625 \nL 32.078125 72.90625 \nQ 44.578125 72.90625 50.734375 67.671875 \nQ 56.890625 62.453125 56.890625 51.90625 \nQ 56.890625 45.015625 53.6875 40.46875 \nQ 50.484375 35.9375 44.390625 34.1875 \nz\nM 19.671875 64.796875 \nL 19.671875 38.921875 \nL 32.078125 38.921875 \nQ 39.203125 38.921875 42.84375 42.21875 \nQ 46.484375 45.515625 46.484375 51.90625 \nQ 46.484375 58.296875 42.84375 61.546875 \nQ 39.203125 64.796875 32.078125 64.796875 \nz\n\" id=\"DejaVuSans-82\"/>\n        <path d=\"M 9.8125 72.90625 \nL 55.90625 72.90625 \nL 55.90625 64.59375 \nL 19.671875 64.59375 \nL 19.671875 43.015625 \nL 54.390625 43.015625 \nL 54.390625 34.71875 \nL 19.671875 34.71875 \nL 19.671875 8.296875 \nL 56.78125 8.296875 \nL 56.78125 0 \nL 9.8125 0 \nz\n\" id=\"DejaVuSans-69\"/>\n        <path d=\"M 39.40625 66.21875 \nQ 28.65625 66.21875 22.328125 58.203125 \nQ 16.015625 50.203125 16.015625 36.375 \nQ 16.015625 22.609375 22.328125 14.59375 \nQ 28.65625 6.59375 39.40625 6.59375 \nQ 50.140625 6.59375 56.421875 14.59375 \nQ 62.703125 22.609375 62.703125 36.375 \nQ 62.703125 50.203125 56.421875 58.203125 \nQ 50.140625 66.21875 39.40625 66.21875 \nz\nM 53.21875 1.3125 \nL 66.21875 -12.890625 \nL 54.296875 -12.890625 \nL 43.5 -1.21875 \nQ 41.890625 -1.3125 41.03125 -1.359375 \nQ 40.1875 -1.421875 39.40625 -1.421875 \nQ 24.03125 -1.421875 14.8125 8.859375 \nQ 5.609375 19.140625 5.609375 36.375 \nQ 5.609375 53.65625 14.8125 63.9375 \nQ 24.03125 74.21875 39.40625 74.21875 \nQ 54.734375 74.21875 63.90625 63.9375 \nQ 73.09375 53.65625 73.09375 36.375 \nQ 73.09375 23.6875 67.984375 14.640625 \nQ 62.890625 5.609375 53.21875 1.3125 \nz\n\" id=\"DejaVuSans-81\"/>\n       </defs>\n       <use xlink:href=\"#DejaVuSans-108\"/>\n       <use x=\"27.783203\" xlink:href=\"#DejaVuSans-111\"/>\n       <use x=\"88.964844\" xlink:href=\"#DejaVuSans-103\"/>\n       <use x=\"152.441406\" xlink:href=\"#DejaVuSans-95\"/>\n       <use x=\"202.441406\" xlink:href=\"#DejaVuSans-70\"/>\n       <use x=\"259.960938\" xlink:href=\"#DejaVuSans-82\"/>\n       <use x=\"329.443359\" xlink:href=\"#DejaVuSans-69\"/>\n       <use x=\"392.626953\" xlink:href=\"#DejaVuSans-81\"/>\n       <use x=\"471.337891\" xlink:href=\"#DejaVuSans-108\"/>\n       <use x=\"499.121094\" xlink:href=\"#DejaVuSans-111\"/>\n       <use x=\"560.302734\" xlink:href=\"#DejaVuSans-119\"/>\n      </g>\n     </g>\n    </g>\n    <g id=\"ytick_18\">\n     <g id=\"line2d_26\">\n      <g>\n       <use style=\"stroke:#000000;stroke-width:0.8;\" x=\"149.625\" xlink:href=\"#mf9bff39397\" y=\"212.58\"/>\n      </g>\n     </g>\n     <g id=\"text_27\">\n      <!-- log_tf -->\n      <g transform=\"translate(114.939063 216.379219)scale(0.1 -0.1)\">\n       <use xlink:href=\"#DejaVuSans-108\"/>\n       <use x=\"27.783203\" xlink:href=\"#DejaVuSans-111\"/>\n       <use x=\"88.964844\" xlink:href=\"#DejaVuSans-103\"/>\n       <use x=\"152.441406\" xlink:href=\"#DejaVuSans-95\"/>\n       <use x=\"202.441406\" xlink:href=\"#DejaVuSans-116\"/>\n       <use x=\"241.650391\" xlink:href=\"#DejaVuSans-102\"/>\n      </g>\n     </g>\n    </g>\n    <g id=\"ytick_19\">\n     <g id=\"line2d_27\">\n      <g>\n       <use style=\"stroke:#000000;stroke-width:0.8;\" x=\"149.625\" xlink:href=\"#mf9bff39397\" y=\"223.452\"/>\n      </g>\n     </g>\n     <g id=\"text_28\">\n      <!-- FREQcount -->\n      <g transform=\"translate(87.521875 227.251219)scale(0.1 -0.1)\">\n       <use xlink:href=\"#DejaVuSans-70\"/>\n       <use x=\"57.519531\" xlink:href=\"#DejaVuSans-82\"/>\n       <use x=\"127.001953\" xlink:href=\"#DejaVuSans-69\"/>\n       <use x=\"190.185547\" xlink:href=\"#DejaVuSans-81\"/>\n       <use x=\"268.896484\" xlink:href=\"#DejaVuSans-99\"/>\n       <use x=\"323.876953\" xlink:href=\"#DejaVuSans-111\"/>\n       <use x=\"385.058594\" xlink:href=\"#DejaVuSans-117\"/>\n       <use x=\"448.4375\" xlink:href=\"#DejaVuSans-110\"/>\n       <use x=\"511.816406\" xlink:href=\"#DejaVuSans-116\"/>\n      </g>\n     </g>\n    </g>\n    <g id=\"ytick_20\">\n     <g id=\"line2d_28\">\n      <g>\n       <use style=\"stroke:#000000;stroke-width:0.8;\" x=\"149.625\" xlink:href=\"#mf9bff39397\" y=\"234.324\"/>\n      </g>\n     </g>\n     <g id=\"text_29\">\n      <!-- FREQlow -->\n      <g transform=\"translate(98.659375 238.123219)scale(0.1 -0.1)\">\n       <use xlink:href=\"#DejaVuSans-70\"/>\n       <use x=\"57.519531\" xlink:href=\"#DejaVuSans-82\"/>\n       <use x=\"127.001953\" xlink:href=\"#DejaVuSans-69\"/>\n       <use x=\"190.185547\" xlink:href=\"#DejaVuSans-81\"/>\n       <use x=\"268.896484\" xlink:href=\"#DejaVuSans-108\"/>\n       <use x=\"296.679688\" xlink:href=\"#DejaVuSans-111\"/>\n       <use x=\"357.861328\" xlink:href=\"#DejaVuSans-119\"/>\n      </g>\n     </g>\n    </g>\n    <g id=\"text_30\">\n     <!-- feature name -->\n     <g transform=\"translate(14.798437 164.857969)rotate(-90)scale(0.1 -0.1)\">\n      <use xlink:href=\"#DejaVuSans-102\"/>\n      <use x=\"35.205078\" xlink:href=\"#DejaVuSans-101\"/>\n      <use x=\"96.728516\" xlink:href=\"#DejaVuSans-97\"/>\n      <use x=\"158.007812\" xlink:href=\"#DejaVuSans-116\"/>\n      <use x=\"197.216797\" xlink:href=\"#DejaVuSans-117\"/>\n      <use x=\"260.595703\" xlink:href=\"#DejaVuSans-114\"/>\n      <use x=\"299.458984\" xlink:href=\"#DejaVuSans-101\"/>\n      <use x=\"360.982422\" xlink:href=\"#DejaVuSans-32\"/>\n      <use x=\"392.769531\" xlink:href=\"#DejaVuSans-110\"/>\n      <use x=\"456.148438\" xlink:href=\"#DejaVuSans-97\"/>\n      <use x=\"517.427734\" xlink:href=\"#DejaVuSans-109\"/>\n      <use x=\"614.839844\" xlink:href=\"#DejaVuSans-101\"/>\n     </g>\n    </g>\n   </g>\n   <g id=\"line2d_29\">\n    <path clip-path=\"url(#p3c0a2da84f)\" d=\"M 0 0 \n\" style=\"fill:none;stroke:#424242;stroke-linecap:square;stroke-width:2.7;\"/>\n   </g>\n   <g id=\"line2d_30\">\n    <path clip-path=\"url(#p3c0a2da84f)\" d=\"M 0 0 \n\" style=\"fill:none;stroke:#424242;stroke-linecap:square;stroke-width:2.7;\"/>\n   </g>\n   <g id=\"line2d_31\">\n    <path clip-path=\"url(#p3c0a2da84f)\" d=\"M 0 0 \n\" style=\"fill:none;stroke:#424242;stroke-linecap:square;stroke-width:2.7;\"/>\n   </g>\n   <g id=\"line2d_32\">\n    <path clip-path=\"url(#p3c0a2da84f)\" d=\"M 0 0 \n\" style=\"fill:none;stroke:#424242;stroke-linecap:square;stroke-width:2.7;\"/>\n   </g>\n   <g id=\"line2d_33\">\n    <path clip-path=\"url(#p3c0a2da84f)\" d=\"M 0 0 \n\" style=\"fill:none;stroke:#424242;stroke-linecap:square;stroke-width:2.7;\"/>\n   </g>\n   <g id=\"line2d_34\">\n    <path clip-path=\"url(#p3c0a2da84f)\" d=\"M 0 0 \n\" style=\"fill:none;stroke:#424242;stroke-linecap:square;stroke-width:2.7;\"/>\n   </g>\n   <g id=\"line2d_35\">\n    <path clip-path=\"url(#p3c0a2da84f)\" d=\"M 0 0 \n\" style=\"fill:none;stroke:#424242;stroke-linecap:square;stroke-width:2.7;\"/>\n   </g>\n   <g id=\"line2d_36\">\n    <path clip-path=\"url(#p3c0a2da84f)\" d=\"M 0 0 \n\" style=\"fill:none;stroke:#424242;stroke-linecap:square;stroke-width:2.7;\"/>\n   </g>\n   <g id=\"line2d_37\">\n    <path clip-path=\"url(#p3c0a2da84f)\" d=\"M 0 0 \n\" style=\"fill:none;stroke:#424242;stroke-linecap:square;stroke-width:2.7;\"/>\n   </g>\n   <g id=\"line2d_38\">\n    <path clip-path=\"url(#p3c0a2da84f)\" d=\"M 0 0 \n\" style=\"fill:none;stroke:#424242;stroke-linecap:square;stroke-width:2.7;\"/>\n   </g>\n   <g id=\"line2d_39\">\n    <path clip-path=\"url(#p3c0a2da84f)\" d=\"M 0 0 \n\" style=\"fill:none;stroke:#424242;stroke-linecap:square;stroke-width:2.7;\"/>\n   </g>\n   <g id=\"line2d_40\">\n    <path clip-path=\"url(#p3c0a2da84f)\" d=\"M 0 0 \n\" style=\"fill:none;stroke:#424242;stroke-linecap:square;stroke-width:2.7;\"/>\n   </g>\n   <g id=\"line2d_41\">\n    <path clip-path=\"url(#p3c0a2da84f)\" d=\"M 0 0 \n\" style=\"fill:none;stroke:#424242;stroke-linecap:square;stroke-width:2.7;\"/>\n   </g>\n   <g id=\"line2d_42\">\n    <path clip-path=\"url(#p3c0a2da84f)\" d=\"M 0 0 \n\" style=\"fill:none;stroke:#424242;stroke-linecap:square;stroke-width:2.7;\"/>\n   </g>\n   <g id=\"line2d_43\">\n    <path clip-path=\"url(#p3c0a2da84f)\" d=\"M 0 0 \n\" style=\"fill:none;stroke:#424242;stroke-linecap:square;stroke-width:2.7;\"/>\n   </g>\n   <g id=\"line2d_44\">\n    <path clip-path=\"url(#p3c0a2da84f)\" d=\"M 0 0 \n\" style=\"fill:none;stroke:#424242;stroke-linecap:square;stroke-width:2.7;\"/>\n   </g>\n   <g id=\"line2d_45\">\n    <path clip-path=\"url(#p3c0a2da84f)\" d=\"M 0 0 \n\" style=\"fill:none;stroke:#424242;stroke-linecap:square;stroke-width:2.7;\"/>\n   </g>\n   <g id=\"line2d_46\">\n    <path clip-path=\"url(#p3c0a2da84f)\" d=\"M 0 0 \n\" style=\"fill:none;stroke:#424242;stroke-linecap:square;stroke-width:2.7;\"/>\n   </g>\n   <g id=\"line2d_47\">\n    <path clip-path=\"url(#p3c0a2da84f)\" d=\"M 0 0 \n\" style=\"fill:none;stroke:#424242;stroke-linecap:square;stroke-width:2.7;\"/>\n   </g>\n   <g id=\"line2d_48\">\n    <path clip-path=\"url(#p3c0a2da84f)\" d=\"M 0 0 \n\" style=\"fill:none;stroke:#424242;stroke-linecap:square;stroke-width:2.7;\"/>\n   </g>\n   <g id=\"patch_23\">\n    <path d=\"M 149.625 239.76 \nL 149.625 22.32 \n\" style=\"fill:none;stroke:#000000;stroke-linecap:square;stroke-linejoin:miter;stroke-width:0.8;\"/>\n   </g>\n   <g id=\"patch_24\">\n    <path d=\"M 484.425 239.76 \nL 484.425 22.32 \n\" style=\"fill:none;stroke:#000000;stroke-linecap:square;stroke-linejoin:miter;stroke-width:0.8;\"/>\n   </g>\n   <g id=\"patch_25\">\n    <path d=\"M 149.625 239.76 \nL 484.425 239.76 \n\" style=\"fill:none;stroke:#000000;stroke-linecap:square;stroke-linejoin:miter;stroke-width:0.8;\"/>\n   </g>\n   <g id=\"patch_26\">\n    <path d=\"M 149.625 22.32 \nL 484.425 22.32 \n\" style=\"fill:none;stroke:#000000;stroke-linecap:square;stroke-linejoin:miter;stroke-width:0.8;\"/>\n   </g>\n   <g id=\"text_31\">\n    <!-- XGBoost($\\it{full}$) Top-20 Feature Importances -->\n    <g transform=\"translate(190.305 16.32)scale(0.12 -0.12)\">\n     <defs>\n      <path d=\"M 6.296875 72.90625 \nL 16.890625 72.90625 \nL 35.015625 45.796875 \nL 53.21875 72.90625 \nL 63.8125 72.90625 \nL 40.375 37.890625 \nL 65.375 0 \nL 54.78125 0 \nL 34.28125 31 \nL 13.625 0 \nL 2.984375 0 \nL 29 38.921875 \nz\n\" id=\"DejaVuSans-88\"/>\n      <path d=\"M 59.515625 10.40625 \nL 59.515625 29.984375 \nL 43.40625 29.984375 \nL 43.40625 38.09375 \nL 69.28125 38.09375 \nL 69.28125 6.78125 \nQ 63.578125 2.734375 56.6875 0.65625 \nQ 49.8125 -1.421875 42 -1.421875 \nQ 24.90625 -1.421875 15.25 8.5625 \nQ 5.609375 18.5625 5.609375 36.375 \nQ 5.609375 54.25 15.25 64.234375 \nQ 24.90625 74.21875 42 74.21875 \nQ 49.125 74.21875 55.546875 72.453125 \nQ 61.96875 70.703125 67.390625 67.28125 \nL 67.390625 56.78125 \nQ 61.921875 61.421875 55.765625 63.765625 \nQ 49.609375 66.109375 42.828125 66.109375 \nQ 29.4375 66.109375 22.71875 58.640625 \nQ 16.015625 51.171875 16.015625 36.375 \nQ 16.015625 21.625 22.71875 14.15625 \nQ 29.4375 6.6875 42.828125 6.6875 \nQ 48.046875 6.6875 52.140625 7.59375 \nQ 56.25 8.5 59.515625 10.40625 \nz\n\" id=\"DejaVuSans-71\"/>\n      <path d=\"M 31 75.875 \nQ 24.46875 64.65625 21.28125 53.65625 \nQ 18.109375 42.671875 18.109375 31.390625 \nQ 18.109375 20.125 21.3125 9.0625 \nQ 24.515625 -2 31 -13.1875 \nL 23.1875 -13.1875 \nQ 15.875 -1.703125 12.234375 9.375 \nQ 8.59375 20.453125 8.59375 31.390625 \nQ 8.59375 42.28125 12.203125 53.3125 \nQ 15.828125 64.359375 23.1875 75.875 \nz\n\" id=\"DejaVuSans-40\"/>\n      <path d=\"M 47.796875 75.984375 \nL 46.390625 68.5 \nL 37.796875 68.5 \nQ 32.90625 68.5 30.6875 66.578125 \nQ 28.46875 64.65625 27.390625 59.515625 \nL 26.421875 54.6875 \nL 41.21875 54.6875 \nL 39.890625 47.703125 \nL 25.09375 47.703125 \nL 15.828125 0 \nL 6.78125 0 \nL 16.109375 47.703125 \nL 7.515625 47.703125 \nL 8.796875 54.6875 \nL 17.390625 54.6875 \nL 18.109375 58.5 \nQ 19.96875 68.171875 24.625 72.078125 \nQ 29.296875 75.984375 39.3125 75.984375 \nz\n\" id=\"DejaVuSans-Oblique-102\"/>\n      <path d=\"M 6.6875 21.6875 \nL 13.09375 54.6875 \nL 22.125 54.6875 \nL 15.71875 22.015625 \nQ 15.234375 19.625 15.015625 17.921875 \nQ 14.796875 16.21875 14.796875 15.09375 \nQ 14.796875 10.9375 17.328125 8.65625 \nQ 19.875 6.390625 24.515625 6.390625 \nQ 31.734375 6.390625 37 11.265625 \nQ 42.28125 16.15625 43.890625 24.421875 \nL 49.90625 54.6875 \nL 58.890625 54.6875 \nL 48.296875 0 \nL 39.3125 0 \nL 41.109375 8.59375 \nQ 37.3125 3.8125 32.0625 1.1875 \nQ 26.8125 -1.421875 20.90625 -1.421875 \nQ 13.71875 -1.421875 9.71875 2.515625 \nQ 5.71875 6.453125 5.71875 13.484375 \nQ 5.71875 14.9375 5.953125 17.140625 \nQ 6.203125 19.34375 6.6875 21.6875 \nz\n\" id=\"DejaVuSans-Oblique-117\"/>\n      <path d=\"M 18.3125 75.984375 \nL 27.296875 75.984375 \nL 12.5 0 \nL 3.515625 0 \nz\n\" id=\"DejaVuSans-Oblique-108\"/>\n      <path d=\"M 8.015625 75.875 \nL 15.828125 75.875 \nQ 23.140625 64.359375 26.78125 53.3125 \nQ 30.421875 42.28125 30.421875 31.390625 \nQ 30.421875 20.453125 26.78125 9.375 \nQ 23.140625 -1.703125 15.828125 -13.1875 \nL 8.015625 -13.1875 \nQ 14.5 -2 17.703125 9.0625 \nQ 20.90625 20.125 20.90625 31.390625 \nQ 20.90625 42.671875 17.703125 53.65625 \nQ 14.5 64.65625 8.015625 75.875 \nz\n\" id=\"DejaVuSans-41\"/>\n      <path d=\"M 4.890625 31.390625 \nL 31.203125 31.390625 \nL 31.203125 23.390625 \nL 4.890625 23.390625 \nz\n\" id=\"DejaVuSans-45\"/>\n      <path d=\"M 9.8125 72.90625 \nL 19.671875 72.90625 \nL 19.671875 0 \nL 9.8125 0 \nz\n\" id=\"DejaVuSans-73\"/>\n     </defs>\n     <use transform=\"translate(0 0.015625)\" xlink:href=\"#DejaVuSans-88\"/>\n     <use transform=\"translate(68.505859 0.015625)\" xlink:href=\"#DejaVuSans-71\"/>\n     <use transform=\"translate(145.996094 0.015625)\" xlink:href=\"#DejaVuSans-66\"/>\n     <use transform=\"translate(214.599609 0.015625)\" xlink:href=\"#DejaVuSans-111\"/>\n     <use transform=\"translate(275.78125 0.015625)\" xlink:href=\"#DejaVuSans-111\"/>\n     <use transform=\"translate(336.962891 0.015625)\" xlink:href=\"#DejaVuSans-115\"/>\n     <use transform=\"translate(389.0625 0.015625)\" xlink:href=\"#DejaVuSans-116\"/>\n     <use transform=\"translate(428.271484 0.015625)\" xlink:href=\"#DejaVuSans-40\"/>\n     <use transform=\"translate(467.285156 0.015625)\" xlink:href=\"#DejaVuSans-Oblique-102\"/>\n     <use transform=\"translate(502.490234 0.015625)\" xlink:href=\"#DejaVuSans-Oblique-117\"/>\n     <use transform=\"translate(565.869141 0.015625)\" xlink:href=\"#DejaVuSans-Oblique-108\"/>\n     <use transform=\"translate(593.652344 0.015625)\" xlink:href=\"#DejaVuSans-Oblique-108\"/>\n     <use transform=\"translate(621.435547 0.015625)\" xlink:href=\"#DejaVuSans-41\"/>\n     <use transform=\"translate(660.449219 0.015625)\" xlink:href=\"#DejaVuSans-32\"/>\n     <use transform=\"translate(692.236328 0.015625)\" xlink:href=\"#DejaVuSans-84\"/>\n     <use transform=\"translate(753.320312 0.015625)\" xlink:href=\"#DejaVuSans-111\"/>\n     <use transform=\"translate(814.501953 0.015625)\" xlink:href=\"#DejaVuSans-112\"/>\n     <use transform=\"translate(877.978516 0.015625)\" xlink:href=\"#DejaVuSans-45\"/>\n     <use transform=\"translate(914.0625 0.015625)\" xlink:href=\"#DejaVuSans-50\"/>\n     <use transform=\"translate(977.685547 0.015625)\" xlink:href=\"#DejaVuSans-48\"/>\n     <use transform=\"translate(1041.308594 0.015625)\" xlink:href=\"#DejaVuSans-32\"/>\n     <use transform=\"translate(1073.095703 0.015625)\" xlink:href=\"#DejaVuSans-70\"/>\n     <use transform=\"translate(1130.615234 0.015625)\" xlink:href=\"#DejaVuSans-101\"/>\n     <use transform=\"translate(1192.138672 0.015625)\" xlink:href=\"#DejaVuSans-97\"/>\n     <use transform=\"translate(1253.417969 0.015625)\" xlink:href=\"#DejaVuSans-116\"/>\n     <use transform=\"translate(1292.626953 0.015625)\" xlink:href=\"#DejaVuSans-117\"/>\n     <use transform=\"translate(1356.005859 0.015625)\" xlink:href=\"#DejaVuSans-114\"/>\n     <use transform=\"translate(1397.119141 0.015625)\" xlink:href=\"#DejaVuSans-101\"/>\n     <use transform=\"translate(1458.642578 0.015625)\" xlink:href=\"#DejaVuSans-32\"/>\n     <use transform=\"translate(1490.429688 0.015625)\" xlink:href=\"#DejaVuSans-73\"/>\n     <use transform=\"translate(1516.296875 0.015625)\" xlink:href=\"#DejaVuSans-109\"/>\n     <use transform=\"translate(1613.708984 0.015625)\" xlink:href=\"#DejaVuSans-112\"/>\n     <use transform=\"translate(1677.185547 0.015625)\" xlink:href=\"#DejaVuSans-111\"/>\n     <use transform=\"translate(1738.367188 0.015625)\" xlink:href=\"#DejaVuSans-114\"/>\n     <use transform=\"translate(1779.480469 0.015625)\" xlink:href=\"#DejaVuSans-116\"/>\n     <use transform=\"translate(1818.689453 0.015625)\" xlink:href=\"#DejaVuSans-97\"/>\n     <use transform=\"translate(1879.96875 0.015625)\" xlink:href=\"#DejaVuSans-110\"/>\n     <use transform=\"translate(1943.347656 0.015625)\" xlink:href=\"#DejaVuSans-99\"/>\n     <use transform=\"translate(1998.328125 0.015625)\" xlink:href=\"#DejaVuSans-101\"/>\n     <use transform=\"translate(2059.851562 0.015625)\" xlink:href=\"#DejaVuSans-115\"/>\n    </g>\n   </g>\n   <g id=\"legend_1\">\n    <g id=\"patch_27\">\n     <path d=\"M 334.723437 234.76 \nL 477.425 234.76 \nQ 479.425 234.76 479.425 232.76 \nL 479.425 204.40375 \nQ 479.425 202.40375 477.425 202.40375 \nL 334.723437 202.40375 \nQ 332.723437 202.40375 332.723437 204.40375 \nL 332.723437 232.76 \nQ 332.723437 234.76 334.723437 234.76 \nz\n\" style=\"fill:#ffffff;opacity:0.8;stroke:#cccccc;stroke-linejoin:miter;\"/>\n    </g>\n    <g id=\"patch_28\">\n     <path d=\"M 336.723437 214.002187 \nL 356.723437 214.002187 \nL 356.723437 207.002187 \nL 336.723437 207.002187 \nz\n\" style=\"fill:#008000;stroke:#008000;stroke-linejoin:miter;\"/>\n    </g>\n    <g id=\"text_32\">\n     <!-- term frequency-based -->\n     <g transform=\"translate(364.723437 214.002187)scale(0.1 -0.1)\">\n      <use xlink:href=\"#DejaVuSans-116\"/>\n      <use x=\"39.208984\" xlink:href=\"#DejaVuSans-101\"/>\n      <use x=\"100.732422\" xlink:href=\"#DejaVuSans-114\"/>\n      <use x=\"140.095703\" xlink:href=\"#DejaVuSans-109\"/>\n      <use x=\"237.507812\" xlink:href=\"#DejaVuSans-32\"/>\n      <use x=\"269.294922\" xlink:href=\"#DejaVuSans-102\"/>\n      <use x=\"304.5\" xlink:href=\"#DejaVuSans-114\"/>\n      <use x=\"343.363281\" xlink:href=\"#DejaVuSans-101\"/>\n      <use x=\"404.886719\" xlink:href=\"#DejaVuSans-113\"/>\n      <use x=\"468.363281\" xlink:href=\"#DejaVuSans-117\"/>\n      <use x=\"531.742188\" xlink:href=\"#DejaVuSans-101\"/>\n      <use x=\"593.265625\" xlink:href=\"#DejaVuSans-110\"/>\n      <use x=\"656.644531\" xlink:href=\"#DejaVuSans-99\"/>\n      <use x=\"711.625\" xlink:href=\"#DejaVuSans-121\"/>\n      <use x=\"769.054688\" xlink:href=\"#DejaVuSans-45\"/>\n      <use x=\"805.138672\" xlink:href=\"#DejaVuSans-98\"/>\n      <use x=\"868.615234\" xlink:href=\"#DejaVuSans-97\"/>\n      <use x=\"929.894531\" xlink:href=\"#DejaVuSans-115\"/>\n      <use x=\"981.994141\" xlink:href=\"#DejaVuSans-101\"/>\n      <use x=\"1043.517578\" xlink:href=\"#DejaVuSans-100\"/>\n     </g>\n    </g>\n    <g id=\"patch_29\">\n     <path d=\"M 336.723437 228.680312 \nL 356.723437 228.680312 \nL 356.723437 221.680312 \nL 336.723437 221.680312 \nz\n\" style=\"stroke:#000000;stroke-linejoin:miter;\"/>\n    </g>\n    <g id=\"text_33\">\n     <!-- other -->\n     <g transform=\"translate(364.723437 228.680312)scale(0.1 -0.1)\">\n      <use xlink:href=\"#DejaVuSans-111\"/>\n      <use x=\"61.181641\" xlink:href=\"#DejaVuSans-116\"/>\n      <use x=\"100.390625\" xlink:href=\"#DejaVuSans-104\"/>\n      <use x=\"163.769531\" xlink:href=\"#DejaVuSans-101\"/>\n      <use x=\"225.292969\" xlink:href=\"#DejaVuSans-114\"/>\n     </g>\n    </g>\n   </g>\n  </g>\n </g>\n <defs>\n  <clipPath id=\"p3c0a2da84f\">\n   <rect height=\"217.44\" width=\"334.8\" x=\"149.625\" y=\"22.32\"/>\n  </clipPath>\n </defs>\n</svg>\n",
      "image/png": "[encoded data removed]"
     },
     "metadata": {
      "needs_background": "light"
     }
    }
   ],
   "source": [
    "import matplotlib.patches as mpatches\n",
    "i = 20\n",
    "idx = np.argsort(model.feature_importances_)[::-1]\n",
    "idx = np.array([j for j in idx if picks[j] not in ['log_FREQcount', 'log_CDcount']])\n",
    "sns.reset_orig()\n",
    "picks_mod = [pick.replace('pronoun', 'proper') if 'pronoun' in pick else pick for pick in picks]\n",
    "term_frequency_based = set(['Lg10CD', 'CDcount', 'SUBTLCD', 'tf_lemma', 'log_tf_lemma', 'log_Cdlow', 'Cdlow', 'bnc_frequency', 'SUBTLWF', 'tf_ngram_2', 'log_FREQlow', 'log_tf', 'FREQcount', 'FREQlow'])\n",
    "ax = sns.barplot(x=model.feature_importances_[idx][:i], y=np.array(picks_mod)[idx][:i], palette=['green' if p in term_frequency_based else 'black' for p in np.array(picks_mod)[idx][:i]])\n",
    "ax.set_xlabel('feature importance')\n",
    "ax.set_ylabel('feature name')\n",
    "ax.set_title('XGBoost($\\it{full}$) '+'Top-{} Feature Importances'.format(i))\n",
    "ax.legend(handles=[mpatches.Patch(color='green', label='term frequency-based'), mpatches.Patch(color='black', label='other')])\n",
    "#sns.set(rc={'figure.figsize':(11.7,8.27)})"
   ]
  },
  {
   "cell_type": "code",
   "execution_count": 53,
   "metadata": {},
   "outputs": [
    {
     "output_type": "execute_result",
     "data": {
      "text/plain": [
       "array(['Lg10CD', 'CDcount', 'SUBTLCD', 'is_acronym', 'tf_lemma',\n",
       "       'log_tf_lemma', 'log_Cdlow', 'glove_word_277', 'Cdlow',\n",
       "       'bnc_frequency', 'word_len', 'char_transition_max',\n",
       "       'log_char_transition_max', 'log_is_proper', 'SUBTLWF',\n",
       "       'tf_ngram_2', 'log_FREQlow', 'log_tf', 'FREQcount', 'FREQlow',\n",
       "       'tf', 'log_bnc_frequency', 'elmo_word_807', 'log_SUBTLWF',\n",
       "       'log_word_len', 'log_corpus_europarl', 'elmo_word_573',\n",
       "       'phoneme_transition_max', 'POS_NNP', 'log_phoneme_transition_max',\n",
       "       'elmo_word_646', 'elmo_word_417', 'num_hyponyms', 'glove_word_186',\n",
       "       'elmo_word_209', 'glove_word_141', 'glove_word_154',\n",
       "       'glove_word_39', 'elmo_word_541', 'log_google_ngram_2_max',\n",
       "       'glove_context_35', 'glove_word_284', 'glove_word_268',\n",
       "       'glove_word_188', 'log_num_syllables', 'elmo_word_488',\n",
       "       'google_ngram_1', 'glove_word_104', 'glove_word_65',\n",
       "       'glove_word_192', 'glove_word_253', 'glove_word_107',\n",
       "       'log_google_ngram_1', 'glove_word_283', 'glove_word_145',\n",
       "       'glove_word_203', 'glove_word_27', 'glove_word_271',\n",
       "       'glove_word_150', 'glove_word_30', 'glove_word_254',\n",
       "       'glove_word_120', 'glove_word_260', 'glove_word_67',\n",
       "       'log_tf_ngram_2', 'glove_word_202', 'log_google_ngram_2_mean',\n",
       "       'glove_word_285', 'glove_word_245', 'elmo_word_164',\n",
       "       'glove_word_10', 'glove_word_42', 'glove_word_151',\n",
       "       'glove_word_170', 'glove_word_79', 'log_google_ngram_3_std',\n",
       "       'glove_word_140', 'glove_word_116', 'glove_word_237',\n",
       "       'google_ngram_2_mean', 'glove_word_33', 'glove_word_68',\n",
       "       'glove_word_20', 'glove_word_214', 'glove_word_213',\n",
       "       'glove_word_198', 'glove_word_182', 'glove_word_262',\n",
       "       'glove_word_279', 'glove_word_210', 'glove_word_87',\n",
       "       'log_google_ngram_3_max', 'glove_word_174', 'glove_word_28',\n",
       "       'glove_word_201', 'elmo_word_99', 'glove_word_229',\n",
       "       'glove_word_267', 'glove_word_185', 'glove_word_25',\n",
       "       'tf_summed_bpe', 'glove_word_36', 'glove_word_6', 'glove_word_16',\n",
       "       'glove_word_55', 'elmo_word_182', 'glove_word_37', 'glove_word_71',\n",
       "       'glove_word_224', 'glove_word_136', 'glove_word_296',\n",
       "       'log_tfidf_ngram_3', 'glove_word_217', 'glove_word_183',\n",
       "       'glove_word_216', 'glove_word_208', 'glove_word_187',\n",
       "       'glove_word_103', 'glove_word_243', 'google_ngram_3_std',\n",
       "       'glove_word_158', 'glove_word_84', 'glove_word_35',\n",
       "       'glove_word_43', 'glove_word_215', 'glove_word_249',\n",
       "       'glove_word_47', 'glove_word_109', 'glove_word_18', 'glove_word_1',\n",
       "       'glove_word_44', 'glove_word_278', 'elmo_word_21',\n",
       "       'glove_word_189', 'glove_word_265', 'glove_word_66',\n",
       "       'glove_word_88', 'glove_word_255', 'elmo_word_762',\n",
       "       'glove_word_118', 'glove_word_95', 'glove_word_128',\n",
       "       'glove_word_51', 'glove_word_2', 'glove_word_266', 'glove_word_29',\n",
       "       'glove_word_11', 'glove_word_112', 'glove_word_264',\n",
       "       'glove_word_143', 'glove_word_246', 'glove_word_106',\n",
       "       'DaleChallIndex', 'glove_word_15', 'glove_word_193',\n",
       "       'glove_word_138', 'glove_word_235', 'glove_word_129',\n",
       "       'glove_word_102', 'elmo_word_726', 'glove_word_100',\n",
       "       'glove_word_238', 'glove_word_175', 'glove_word_261',\n",
       "       'glove_word_295', 'glove_word_276', 'glove_word_211',\n",
       "       'glove_word_26', 'glove_word_241', 'glove_word_209',\n",
       "       'glove_word_127', 'glove_word_5', 'glove_word_108',\n",
       "       'glove_word_149', 'glove_word_74', 'glove_word_83',\n",
       "       'glove_word_132', 'glove_word_236', 'glove_word_155',\n",
       "       'glove_word_173', 'glove_word_41', 'google_ngram_3_head',\n",
       "       'glove_word_123', 'glove_word_14', 'glove_word_56',\n",
       "       'tfidf_ngram_3', 'glove_word_286', 'glove_word_223',\n",
       "       'glove_word_24', 'glove_word_92', 'glove_word_23',\n",
       "       'glove_word_135', 'log_DaleChallIndex', 'glove_word_248',\n",
       "       'glove_word_22', 'glove_word_252', 'glove_word_156',\n",
       "       'glove_word_13', 'glove_word_298', 'glove_word_207',\n",
       "       'glove_word_180', 'glove_word_82', 'glove_word_232',\n",
       "       'glove_word_52', 'glove_word_176', 'glove_word_139',\n",
       "       'glove_word_38', 'glove_word_157', 'glove_word_93',\n",
       "       'glove_word_76', 'glove_word_161', 'glove_word_78',\n",
       "       'glove_word_105', 'glove_word_117', 'glove_word_147',\n",
       "       'google_ngram_3_tail', 'glove_word_9', 'google_ngram_2_max',\n",
       "       'glove_word_61', 'glove_word_166', 'glove_word_73',\n",
       "       'glove_word_85', 'glove_word_125', 'glove_word_99',\n",
       "       'google_ngram_3_max', 'glove_word_114', 'glove_word_204',\n",
       "       'glove_word_196', 'log_google_ngram_2_min', 'glove_context_277',\n",
       "       'glove_word_290', 'glove_word_299', 'glove_word_206',\n",
       "       'glove_word_251', 'tfidf', 'glove_word_171', 'elmo_word_720',\n",
       "       'log_google_ngram_2_std', 'glove_word_221', 'glove_word_292',\n",
       "       'google_ngram_3_mean', 'glove_word_289', 'glove_word_146',\n",
       "       'google_ngram_2_tail', 'glove_word_63', 'glove_word_59',\n",
       "       'glove_word_152', 'elmo_word_848', 'log_tf_summed_bpe',\n",
       "       'google_ngram_2_head', 'glove_word_131', 'google_ngram_2_min',\n",
       "       'log_google_ngram_2_tail', 'glove_word_200', 'log_tfidf_ngram_2',\n",
       "       'tfidf_ngram_2', 'log_avg_syllables_per_word', 'elmo_word_741',\n",
       "       'log_google_ngram_2_head', 'glove_word_89', 'google_ngram_2_std',\n",
       "       'google_ngram_3_mid', 'glove_word_178', 'glove_context_10',\n",
       "       'log_google_ngram_3_tail', 'log_google_ngram_3_mid',\n",
       "       'log_google_ngram_3_head', 'google_ngram_3_min', 'log_tf_ngram_3',\n",
       "       'tf_ngram_3', 'log_google_ngram_3_mean', 'Lg10WF', 'log_SUBTLCD'],\n",
       "      dtype='<U26')"
      ]
     },
     "metadata": {},
     "execution_count": 53
    }
   ],
   "source": [
    "np.array(picks_mod)[idx][:300]"
   ]
  },
  {
   "cell_type": "code",
   "execution_count": 49,
   "metadata": {},
   "outputs": [
    {
     "output_type": "execute_result",
     "data": {
      "text/plain": [
       "['google_ngram_1',\n",
       " 'tf_summed_bpe',\n",
       " 'tf_lemma',\n",
       " 'tf',\n",
       " 'CDcount',\n",
       " 'SUBTLCD',\n",
       " 'FREQcount',\n",
       " 'SUBTLWF',\n",
       " 'Cdlow',\n",
       " 'bnc_frequency',\n",
       " 'FREQlow',\n",
       " 'google_ngram_2_mean',\n",
       " 'google_ngram_2_max',\n",
       " 'tf_ngram_2',\n",
       " 'google_ngram_2_std',\n",
       " 'google_ngram_2_tail',\n",
       " 'google_ngram_3_mean',\n",
       " 'google_ngram_3_max',\n",
       " 'google_ngram_3_std',\n",
       " 'tf_ngram_3',\n",
       " 'google_ngram_2_min',\n",
       " 'google_ngram_2_head',\n",
       " 'word_len',\n",
       " 'char_transition_mean',\n",
       " 'char_transition_min',\n",
       " 'google_ngram_3_head',\n",
       " 'char_transition_max',\n",
       " 'tfidf_ngram_2',\n",
       " 'phoneme_transition_std',\n",
       " 'phoneme_transition_max',\n",
       " 'phoneme_transition_min',\n",
       " 'tfidf_ngram_3',\n",
       " 'phoneme_transition_mean',\n",
       " 'google_ngram_3_mid',\n",
       " 'char_transition_std',\n",
       " 'tfidf',\n",
       " 'num_hyponyms',\n",
       " 'DaleChallIndex',\n",
       " 'google_ngram_3_tail',\n",
       " 'is_acronym',\n",
       " 'POS_NNP',\n",
       " 'google_ngram_3_min',\n",
       " 'corpus_europarl',\n",
       " 'is_pronoun',\n",
       " 'num_syllables',\n",
       " 'num_hypernyms',\n",
       " 'syllable_count',\n",
       " 'avg_syllables_per_word',\n",
       " 'crawford',\n",
       " 'avg_letter_per_word',\n",
       " 'ppl_aspect_only',\n",
       " 'POS_NN',\n",
       " 'corpus_biomed',\n",
       " 'gutierrez_polini',\n",
       " 'rix',\n",
       " 'POS_NNS',\n",
       " 'fernandez_huerta',\n",
       " 'flesch_kincaid_grade',\n",
       " 'flesch_reading_ease',\n",
       " 'avg_character_per_word',\n",
       " 'num_OOV',\n",
       " 'SMOGIndex',\n",
       " 'lexicon_count',\n",
       " 'num_words_at_depth',\n",
       " 'corpus_bible',\n",
       " 'char_count',\n",
       " 'szigriszt_pazos',\n",
       " 'POS_JJ',\n",
       " 'polysyllabcount',\n",
       " 'POS_VBG',\n",
       " 'letter_count',\n",
       " 'token_depth',\n",
       " 'lix',\n",
       " 'POS_JJS',\n",
       " 'linsear_write_formula',\n",
       " 'POS_DT',\n",
       " 'POS_FW',\n",
       " 'POS_CC',\n",
       " 'POS_VBN',\n",
       " 'POS_LS',\n",
       " 'POS_TO',\n",
       " 'POS_WP',\n",
       " 'POS_UH',\n",
       " 'POS_VBZ',\n",
       " 'POS_VBP',\n",
       " 'POS_PRP',\n",
       " 'POS_WP$',\n",
       " 'POS_NNPS',\n",
       " 'POS_PRP$',\n",
       " 'POS_WDT',\n",
       " 'POS_RB',\n",
       " 'POS_RBR',\n",
       " 'POS_RBS',\n",
       " 'POS_VBD',\n",
       " 'POS_IN',\n",
       " 'POS_RP',\n",
       " 'POS_JJR',\n",
       " 'POS_PDT',\n",
       " 'POS_MD',\n",
       " 'POS_VB',\n",
       " 'POS_WRB',\n",
       " 'POS_EX',\n",
       " 'POS_SYM',\n",
       " 'POS_CD',\n",
       " 'POS_POS',\n",
       " 'automated_readability_index',\n",
       " 'coleman_liau_index',\n",
       " 'reading_time',\n",
       " 'parse_tree_depth',\n",
       " 'ppl']"
      ]
     },
     "metadata": {},
     "execution_count": 49
    }
   ],
   "source": [
    "[feature_name for feature_name in feature_names if 'glove' not in feature_name and 'infersent' not in feature_name and 'elmo' not in feature_name and 'Lg' not in feature_name and 'log' not in feature_name]"
   ]
  },
  {
   "source": [
    "y_dev_mini_pred = get_predictions_with_reduced_data(single_train_mini, X_train_mini_picks_scaled, y_train_mini, X_dev_mini_picks_scaled, frac_1=0.87, frac_2=0.95, frac_3=0.82, frac_4=0.0, frac_5=0.0, n=10)\n",
    "single_dev_mini['lr_class_4_5_pred_complexity'] = y_dev_mini_pred\n",
    "y_trial_pred = get_predictions_with_reduced_data(single_train, X_picks_scaled, y, X_trial_picks_scaled, frac_1=0.87, frac_2=0.95, frac_3=0.82, frac_4=0.0, frac_5=0.0, n=10)\n",
    "single_trial['lr_class_4_5_pred_complexity'] = y_trial_pred\n",
    "y_test_pred = get_predictions_with_reduced_data(single_train, X_picks_scaled, y, X_test_picks_scaled, frac_1=0.87, frac_2=0.95, frac_3=0.82, frac_4=0.0, frac_5=0.0, n=10)\n",
    "single_test['lr_class_4_5_pred_complexity'] = y_test_pred"
   ],
   "cell_type": "code",
   "metadata": {},
   "execution_count": 13,
   "outputs": [
    {
     "output_type": "stream",
     "name": "stderr",
     "text": [
      "  0%|          | 0/10 [00:00<?, ?it/s][04:46:46] WARNING: ../src/objective/regression_obj.cu:170: reg:linear is now deprecated in favor of reg:squarederror.\n",
      "[04:46:46] WARNING: ../src/learner.cc:541: \n",
      "Parameters: { silent } might not be used.\n",
      "\n",
      "  This may not be accurate due to some parameters are only used in language bindings but\n",
      "  passed down to XGBoost core.  Or some parameters are not used but slip through this\n",
      "  verification. Please open an issue if you find above cases.\n",
      "\n",
      "\n",
      " 10%|█         | 1/10 [00:10<01:32, 10.23s/it][04:46:57] WARNING: ../src/objective/regression_obj.cu:170: reg:linear is now deprecated in favor of reg:squarederror.\n",
      "[04:46:57] WARNING: ../src/learner.cc:541: \n",
      "Parameters: { silent } might not be used.\n",
      "\n",
      "  This may not be accurate due to some parameters are only used in language bindings but\n",
      "  passed down to XGBoost core.  Or some parameters are not used but slip through this\n",
      "  verification. Please open an issue if you find above cases.\n",
      "\n",
      "\n",
      " 20%|██        | 2/10 [00:20<01:20, 10.10s/it][04:47:06] WARNING: ../src/objective/regression_obj.cu:170: reg:linear is now deprecated in favor of reg:squarederror.\n",
      "[04:47:06] WARNING: ../src/learner.cc:541: \n",
      "Parameters: { silent } might not be used.\n",
      "\n",
      "  This may not be accurate due to some parameters are only used in language bindings but\n",
      "  passed down to XGBoost core.  Or some parameters are not used but slip through this\n",
      "  verification. Please open an issue if you find above cases.\n",
      "\n",
      "\n",
      " 30%|███       | 3/10 [00:30<01:10, 10.10s/it][04:47:16] WARNING: ../src/objective/regression_obj.cu:170: reg:linear is now deprecated in favor of reg:squarederror.\n",
      "[04:47:16] WARNING: ../src/learner.cc:541: \n",
      "Parameters: { silent } might not be used.\n",
      "\n",
      "  This may not be accurate due to some parameters are only used in language bindings but\n",
      "  passed down to XGBoost core.  Or some parameters are not used but slip through this\n",
      "  verification. Please open an issue if you find above cases.\n",
      "\n",
      "\n",
      " 40%|████      | 4/10 [00:40<01:00, 10.16s/it][04:47:27] WARNING: ../src/objective/regression_obj.cu:170: reg:linear is now deprecated in favor of reg:squarederror.\n",
      "[04:47:27] WARNING: ../src/learner.cc:541: \n",
      "Parameters: { silent } might not be used.\n",
      "\n",
      "  This may not be accurate due to some parameters are only used in language bindings but\n",
      "  passed down to XGBoost core.  Or some parameters are not used but slip through this\n",
      "  verification. Please open an issue if you find above cases.\n",
      "\n",
      "\n",
      " 50%|█████     | 5/10 [00:49<00:48,  9.73s/it][04:47:36] WARNING: ../src/objective/regression_obj.cu:170: reg:linear is now deprecated in favor of reg:squarederror.\n",
      "[04:47:36] WARNING: ../src/learner.cc:541: \n",
      "Parameters: { silent } might not be used.\n",
      "\n",
      "  This may not be accurate due to some parameters are only used in language bindings but\n",
      "  passed down to XGBoost core.  Or some parameters are not used but slip through this\n",
      "  verification. Please open an issue if you find above cases.\n",
      "\n",
      "\n",
      " 60%|██████    | 6/10 [00:59<00:40, 10.01s/it][04:47:46] WARNING: ../src/objective/regression_obj.cu:170: reg:linear is now deprecated in favor of reg:squarederror.\n",
      "[04:47:46] WARNING: ../src/learner.cc:541: \n",
      "Parameters: { silent } might not be used.\n",
      "\n",
      "  This may not be accurate due to some parameters are only used in language bindings but\n",
      "  passed down to XGBoost core.  Or some parameters are not used but slip through this\n",
      "  verification. Please open an issue if you find above cases.\n",
      "\n",
      "\n",
      " 70%|███████   | 7/10 [01:09<00:29,  9.80s/it][04:47:56] WARNING: ../src/objective/regression_obj.cu:170: reg:linear is now deprecated in favor of reg:squarederror.\n",
      "[04:47:56] WARNING: ../src/learner.cc:541: \n",
      "Parameters: { silent } might not be used.\n",
      "\n",
      "  This may not be accurate due to some parameters are only used in language bindings but\n",
      "  passed down to XGBoost core.  Or some parameters are not used but slip through this\n",
      "  verification. Please open an issue if you find above cases.\n",
      "\n",
      "\n",
      " 80%|████████  | 8/10 [01:18<00:19,  9.70s/it][04:48:05] WARNING: ../src/objective/regression_obj.cu:170: reg:linear is now deprecated in favor of reg:squarederror.\n",
      "[04:48:05] WARNING: ../src/learner.cc:541: \n",
      "Parameters: { silent } might not be used.\n",
      "\n",
      "  This may not be accurate due to some parameters are only used in language bindings but\n",
      "  passed down to XGBoost core.  Or some parameters are not used but slip through this\n",
      "  verification. Please open an issue if you find above cases.\n",
      "\n",
      "\n",
      " 90%|█████████ | 9/10 [01:27<00:09,  9.49s/it][04:48:14] WARNING: ../src/objective/regression_obj.cu:170: reg:linear is now deprecated in favor of reg:squarederror.\n",
      "[04:48:14] WARNING: ../src/learner.cc:541: \n",
      "Parameters: { silent } might not be used.\n",
      "\n",
      "  This may not be accurate due to some parameters are only used in language bindings but\n",
      "  passed down to XGBoost core.  Or some parameters are not used but slip through this\n",
      "  verification. Please open an issue if you find above cases.\n",
      "\n",
      "\n",
      "100%|██████████| 10/10 [01:38<00:00,  9.81s/it]\n",
      "  0%|          | 0/10 [00:00<?, ?it/s][04:48:24] WARNING: ../src/objective/regression_obj.cu:170: reg:linear is now deprecated in favor of reg:squarederror.\n",
      "[04:48:24] WARNING: ../src/learner.cc:541: \n",
      "Parameters: { silent } might not be used.\n",
      "\n",
      "  This may not be accurate due to some parameters are only used in language bindings but\n",
      "  passed down to XGBoost core.  Or some parameters are not used but slip through this\n",
      "  verification. Please open an issue if you find above cases.\n",
      "\n",
      "\n",
      " 10%|█         | 1/10 [00:10<01:31, 10.15s/it][04:48:35] WARNING: ../src/objective/regression_obj.cu:170: reg:linear is now deprecated in favor of reg:squarederror.\n",
      "[04:48:35] WARNING: ../src/learner.cc:541: \n",
      "Parameters: { silent } might not be used.\n",
      "\n",
      "  This may not be accurate due to some parameters are only used in language bindings but\n",
      "  passed down to XGBoost core.  Or some parameters are not used but slip through this\n",
      "  verification. Please open an issue if you find above cases.\n",
      "\n",
      "\n",
      " 20%|██        | 2/10 [00:20<01:20, 10.07s/it][04:48:45] WARNING: ../src/objective/regression_obj.cu:170: reg:linear is now deprecated in favor of reg:squarederror.\n",
      "[04:48:45] WARNING: ../src/learner.cc:541: \n",
      "Parameters: { silent } might not be used.\n",
      "\n",
      "  This may not be accurate due to some parameters are only used in language bindings but\n",
      "  passed down to XGBoost core.  Or some parameters are not used but slip through this\n",
      "  verification. Please open an issue if you find above cases.\n",
      "\n",
      "\n",
      " 30%|███       | 3/10 [00:29<01:09,  9.89s/it][04:48:54] WARNING: ../src/objective/regression_obj.cu:170: reg:linear is now deprecated in favor of reg:squarederror.\n",
      "[04:48:54] WARNING: ../src/learner.cc:541: \n",
      "Parameters: { silent } might not be used.\n",
      "\n",
      "  This may not be accurate due to some parameters are only used in language bindings but\n",
      "  passed down to XGBoost core.  Or some parameters are not used but slip through this\n",
      "  verification. Please open an issue if you find above cases.\n",
      "\n",
      "\n",
      " 40%|████      | 4/10 [00:38<00:57,  9.56s/it][04:49:03] WARNING: ../src/objective/regression_obj.cu:170: reg:linear is now deprecated in favor of reg:squarederror.\n",
      "[04:49:03] WARNING: ../src/learner.cc:541: \n",
      "Parameters: { silent } might not be used.\n",
      "\n",
      "  This may not be accurate due to some parameters are only used in language bindings but\n",
      "  passed down to XGBoost core.  Or some parameters are not used but slip through this\n",
      "  verification. Please open an issue if you find above cases.\n",
      "\n",
      "\n",
      " 50%|█████     | 5/10 [00:47<00:47,  9.51s/it][04:49:12] WARNING: ../src/objective/regression_obj.cu:170: reg:linear is now deprecated in favor of reg:squarederror.\n",
      "[04:49:12] WARNING: ../src/learner.cc:541: \n",
      "Parameters: { silent } might not be used.\n",
      "\n",
      "  This may not be accurate due to some parameters are only used in language bindings but\n",
      "  passed down to XGBoost core.  Or some parameters are not used but slip through this\n",
      "  verification. Please open an issue if you find above cases.\n",
      "\n",
      "\n",
      " 60%|██████    | 6/10 [00:57<00:37,  9.46s/it][04:49:21] WARNING: ../src/objective/regression_obj.cu:170: reg:linear is now deprecated in favor of reg:squarederror.\n",
      "[04:49:21] WARNING: ../src/learner.cc:541: \n",
      "Parameters: { silent } might not be used.\n",
      "\n",
      "  This may not be accurate due to some parameters are only used in language bindings but\n",
      "  passed down to XGBoost core.  Or some parameters are not used but slip through this\n",
      "  verification. Please open an issue if you find above cases.\n",
      "\n",
      "\n",
      " 70%|███████   | 7/10 [01:06<00:28,  9.47s/it][04:49:31] WARNING: ../src/objective/regression_obj.cu:170: reg:linear is now deprecated in favor of reg:squarederror.\n",
      "[04:49:31] WARNING: ../src/learner.cc:541: \n",
      "Parameters: { silent } might not be used.\n",
      "\n",
      "  This may not be accurate due to some parameters are only used in language bindings but\n",
      "  passed down to XGBoost core.  Or some parameters are not used but slip through this\n",
      "  verification. Please open an issue if you find above cases.\n",
      "\n",
      "\n",
      " 80%|████████  | 8/10 [01:16<00:19,  9.54s/it][04:49:41] WARNING: ../src/objective/regression_obj.cu:170: reg:linear is now deprecated in favor of reg:squarederror.\n",
      "[04:49:41] WARNING: ../src/learner.cc:541: \n",
      "Parameters: { silent } might not be used.\n",
      "\n",
      "  This may not be accurate due to some parameters are only used in language bindings but\n",
      "  passed down to XGBoost core.  Or some parameters are not used but slip through this\n",
      "  verification. Please open an issue if you find above cases.\n",
      "\n",
      "\n",
      " 90%|█████████ | 9/10 [01:26<00:09,  9.77s/it][04:49:51] WARNING: ../src/objective/regression_obj.cu:170: reg:linear is now deprecated in favor of reg:squarederror.\n",
      "[04:49:51] WARNING: ../src/learner.cc:541: \n",
      "Parameters: { silent } might not be used.\n",
      "\n",
      "  This may not be accurate due to some parameters are only used in language bindings but\n",
      "  passed down to XGBoost core.  Or some parameters are not used but slip through this\n",
      "  verification. Please open an issue if you find above cases.\n",
      "\n",
      "\n",
      "100%|██████████| 10/10 [01:35<00:00,  9.55s/it]\n",
      "  0%|          | 0/10 [00:00<?, ?it/s][04:50:00] WARNING: ../src/objective/regression_obj.cu:170: reg:linear is now deprecated in favor of reg:squarederror.\n",
      "[04:50:00] WARNING: ../src/learner.cc:541: \n",
      "Parameters: { silent } might not be used.\n",
      "\n",
      "  This may not be accurate due to some parameters are only used in language bindings but\n",
      "  passed down to XGBoost core.  Or some parameters are not used but slip through this\n",
      "  verification. Please open an issue if you find above cases.\n",
      "\n",
      "\n",
      " 10%|█         | 1/10 [00:08<01:15,  8.43s/it][04:50:08] WARNING: ../src/objective/regression_obj.cu:170: reg:linear is now deprecated in favor of reg:squarederror.\n",
      "[04:50:08] WARNING: ../src/learner.cc:541: \n",
      "Parameters: { silent } might not be used.\n",
      "\n",
      "  This may not be accurate due to some parameters are only used in language bindings but\n",
      "  passed down to XGBoost core.  Or some parameters are not used but slip through this\n",
      "  verification. Please open an issue if you find above cases.\n",
      "\n",
      "\n",
      " 20%|██        | 2/10 [00:16<01:06,  8.36s/it][04:50:17] WARNING: ../src/objective/regression_obj.cu:170: reg:linear is now deprecated in favor of reg:squarederror.\n",
      "[04:50:17] WARNING: ../src/learner.cc:541: \n",
      "Parameters: { silent } might not be used.\n",
      "\n",
      "  This may not be accurate due to some parameters are only used in language bindings but\n",
      "  passed down to XGBoost core.  Or some parameters are not used but slip through this\n",
      "  verification. Please open an issue if you find above cases.\n",
      "\n",
      "\n",
      " 30%|███       | 3/10 [00:25<00:59,  8.54s/it][04:50:26] WARNING: ../src/objective/regression_obj.cu:170: reg:linear is now deprecated in favor of reg:squarederror.\n",
      "[04:50:26] WARNING: ../src/learner.cc:541: \n",
      "Parameters: { silent } might not be used.\n",
      "\n",
      "  This may not be accurate due to some parameters are only used in language bindings but\n",
      "  passed down to XGBoost core.  Or some parameters are not used but slip through this\n",
      "  verification. Please open an issue if you find above cases.\n",
      "\n",
      "\n",
      " 40%|████      | 4/10 [00:34<00:51,  8.53s/it][04:50:34] WARNING: ../src/objective/regression_obj.cu:170: reg:linear is now deprecated in favor of reg:squarederror.\n",
      "[04:50:34] WARNING: ../src/learner.cc:541: \n",
      "Parameters: { silent } might not be used.\n",
      "\n",
      "  This may not be accurate due to some parameters are only used in language bindings but\n",
      "  passed down to XGBoost core.  Or some parameters are not used but slip through this\n",
      "  verification. Please open an issue if you find above cases.\n",
      "\n",
      "\n",
      " 50%|█████     | 5/10 [00:44<00:45,  9.07s/it][04:50:44] WARNING: ../src/objective/regression_obj.cu:170: reg:linear is now deprecated in favor of reg:squarederror.\n",
      "[04:50:44] WARNING: ../src/learner.cc:541: \n",
      "Parameters: { silent } might not be used.\n",
      "\n",
      "  This may not be accurate due to some parameters are only used in language bindings but\n",
      "  passed down to XGBoost core.  Or some parameters are not used but slip through this\n",
      "  verification. Please open an issue if you find above cases.\n",
      "\n",
      "\n",
      " 60%|██████    | 6/10 [00:54<00:37,  9.44s/it][04:50:55] WARNING: ../src/objective/regression_obj.cu:170: reg:linear is now deprecated in favor of reg:squarederror.\n",
      "[04:50:55] WARNING: ../src/learner.cc:541: \n",
      "Parameters: { silent } might not be used.\n",
      "\n",
      "  This may not be accurate due to some parameters are only used in language bindings but\n",
      "  passed down to XGBoost core.  Or some parameters are not used but slip through this\n",
      "  verification. Please open an issue if you find above cases.\n",
      "\n",
      "\n",
      " 70%|███████   | 7/10 [01:04<00:28,  9.57s/it][04:51:05] WARNING: ../src/objective/regression_obj.cu:170: reg:linear is now deprecated in favor of reg:squarederror.\n",
      "[04:51:05] WARNING: ../src/learner.cc:541: \n",
      "Parameters: { silent } might not be used.\n",
      "\n",
      "  This may not be accurate due to some parameters are only used in language bindings but\n",
      "  passed down to XGBoost core.  Or some parameters are not used but slip through this\n",
      "  verification. Please open an issue if you find above cases.\n",
      "\n",
      "\n",
      " 80%|████████  | 8/10 [01:14<00:19,  9.76s/it][04:51:15] WARNING: ../src/objective/regression_obj.cu:170: reg:linear is now deprecated in favor of reg:squarederror.\n",
      "[04:51:15] WARNING: ../src/learner.cc:541: \n",
      "Parameters: { silent } might not be used.\n",
      "\n",
      "  This may not be accurate due to some parameters are only used in language bindings but\n",
      "  passed down to XGBoost core.  Or some parameters are not used but slip through this\n",
      "  verification. Please open an issue if you find above cases.\n",
      "\n",
      "\n",
      " 90%|█████████ | 9/10 [01:29<00:11, 11.12s/it][04:51:29] WARNING: ../src/objective/regression_obj.cu:170: reg:linear is now deprecated in favor of reg:squarederror.\n",
      "[04:51:29] WARNING: ../src/learner.cc:541: \n",
      "Parameters: { silent } might not be used.\n",
      "\n",
      "  This may not be accurate due to some parameters are only used in language bindings but\n",
      "  passed down to XGBoost core.  Or some parameters are not used but slip through this\n",
      "  verification. Please open an issue if you find above cases.\n",
      "\n",
      "\n",
      "100%|██████████| 10/10 [01:39<00:00,  9.96s/it]\n"
     ]
    }
   ]
  },
  {
   "cell_type": "code",
   "execution_count": 189,
   "metadata": {},
   "outputs": [],
   "source": [
    "y_test_pred = pkl.load(open('./single_test_lr_class_4_5_pred_complexity.pkl', 'rb'))\n",
    "single_test['lr_class_4_5_pred_complexity'] = y_test_pred"
   ]
  },
  {
   "cell_type": "code",
   "execution_count": 14,
   "metadata": {},
   "outputs": [
    {
     "output_type": "execute_result",
     "data": {
      "text/plain": [
       "(0.7453432713508604, 0.7121766893648032, 0.07508411120920254)"
      ]
     },
     "metadata": {},
     "execution_count": 14
    }
   ],
   "source": [
    "pearson(y_test_pred, y_test), spearman(y_test_pred, y_test), MAE(y_test_pred, y_test)"
   ]
  },
  {
   "source": [
    "# Ensemble"
   ],
   "cell_type": "markdown",
   "metadata": {}
  },
  {
   "cell_type": "code",
   "execution_count": 234,
   "metadata": {},
   "outputs": [
    {
     "output_type": "stream",
     "name": "stderr",
     "text": [
      "100%|██████████| 100/100 [00:00<00:00, 181.89it/s]\n"
     ]
    },
    {
     "output_type": "execute_result",
     "data": {
      "text/plain": [
       "(0.7988480197365982, 0.59)"
      ]
     },
     "metadata": {},
     "execution_count": 234
    }
   ],
   "source": [
    "best_pearson, best_thresh = 0.0, 0.0\n",
    "pearsons, threshs = [], []\n",
    "lr_pred_complexity = single_dev_mini['lr_pred_complexity'].to_numpy()\n",
    "lr_class_4_5_pred_complexity = single_dev_mini['lr_class_4_5_pred_complexity'].to_numpy()\n",
    "for thresh in tqdm(np.arange(0, 1, 0.01)):\n",
    "    combined = lr_pred_complexity.copy()\n",
    "    for i in range(len(combined)):\n",
    "        if combined[i] > thresh:\n",
    "            combined[i] = lr_class_4_5_pred_complexity[i]\n",
    "    p = pearson(combined, y_dev_mini)\n",
    "    pearsons.append(p); threshs.append(thresh)\n",
    "    if p > best_pearson:\n",
    "        best_pearson, best_thresh = p, thresh\n",
    "best_pearson, best_thresh"
   ]
  },
  {
   "cell_type": "code",
   "execution_count": 15,
   "metadata": {},
   "outputs": [
    {
     "output_type": "error",
     "ename": "KeyError",
     "evalue": "'lr_pred_complexity'",
     "traceback": [
      "\u001b[0;31m---------------------------------------------------------------------------\u001b[0m",
      "\u001b[0;31mKeyError\u001b[0m                                  Traceback (most recent call last)",
      "\u001b[0;32m~/venv3.6/lib64/python3.6/site-packages/pandas/core/indexes/base.py\u001b[0m in \u001b[0;36mget_loc\u001b[0;34m(self, key, method, tolerance)\u001b[0m\n\u001b[1;32m   2894\u001b[0m             \u001b[0;32mtry\u001b[0m\u001b[0;34m:\u001b[0m\u001b[0;34m\u001b[0m\u001b[0;34m\u001b[0m\u001b[0m\n\u001b[0;32m-> 2895\u001b[0;31m                 \u001b[0;32mreturn\u001b[0m \u001b[0mself\u001b[0m\u001b[0;34m.\u001b[0m\u001b[0m_engine\u001b[0m\u001b[0;34m.\u001b[0m\u001b[0mget_loc\u001b[0m\u001b[0;34m(\u001b[0m\u001b[0mcasted_key\u001b[0m\u001b[0;34m)\u001b[0m\u001b[0;34m\u001b[0m\u001b[0;34m\u001b[0m\u001b[0m\n\u001b[0m\u001b[1;32m   2896\u001b[0m             \u001b[0;32mexcept\u001b[0m \u001b[0mKeyError\u001b[0m \u001b[0;32mas\u001b[0m \u001b[0merr\u001b[0m\u001b[0;34m:\u001b[0m\u001b[0;34m\u001b[0m\u001b[0;34m\u001b[0m\u001b[0m\n",
      "\u001b[0;32mpandas/_libs/index.pyx\u001b[0m in \u001b[0;36mpandas._libs.index.IndexEngine.get_loc\u001b[0;34m()\u001b[0m\n",
      "\u001b[0;32mpandas/_libs/index.pyx\u001b[0m in \u001b[0;36mpandas._libs.index.IndexEngine.get_loc\u001b[0;34m()\u001b[0m\n",
      "\u001b[0;32mpandas/_libs/hashtable_class_helper.pxi\u001b[0m in \u001b[0;36mpandas._libs.hashtable.PyObjectHashTable.get_item\u001b[0;34m()\u001b[0m\n",
      "\u001b[0;32mpandas/_libs/hashtable_class_helper.pxi\u001b[0m in \u001b[0;36mpandas._libs.hashtable.PyObjectHashTable.get_item\u001b[0;34m()\u001b[0m\n",
      "\u001b[0;31mKeyError\u001b[0m: 'lr_pred_complexity'",
      "\nThe above exception was the direct cause of the following exception:\n",
      "\u001b[0;31mKeyError\u001b[0m                                  Traceback (most recent call last)",
      "\u001b[0;32m<ipython-input-15-dda261841011>\u001b[0m in \u001b[0;36m<module>\u001b[0;34m\u001b[0m\n\u001b[1;32m      1\u001b[0m \u001b[0mbest_pearson\u001b[0m\u001b[0;34m,\u001b[0m \u001b[0mbest_thresh\u001b[0m \u001b[0;34m=\u001b[0m \u001b[0;36m0.0\u001b[0m\u001b[0;34m,\u001b[0m \u001b[0;36m0.0\u001b[0m\u001b[0;34m\u001b[0m\u001b[0;34m\u001b[0m\u001b[0m\n\u001b[1;32m      2\u001b[0m \u001b[0mpearsons\u001b[0m\u001b[0;34m,\u001b[0m \u001b[0mthreshs\u001b[0m \u001b[0;34m=\u001b[0m \u001b[0;34m[\u001b[0m\u001b[0;34m]\u001b[0m\u001b[0;34m,\u001b[0m \u001b[0;34m[\u001b[0m\u001b[0;34m]\u001b[0m\u001b[0;34m\u001b[0m\u001b[0;34m\u001b[0m\u001b[0m\n\u001b[0;32m----> 3\u001b[0;31m \u001b[0mlr_pred_complexity\u001b[0m \u001b[0;34m=\u001b[0m \u001b[0msingle_dev_mini\u001b[0m\u001b[0;34m[\u001b[0m\u001b[0;34m'lr_pred_complexity'\u001b[0m\u001b[0;34m]\u001b[0m\u001b[0;34m.\u001b[0m\u001b[0mto_numpy\u001b[0m\u001b[0;34m(\u001b[0m\u001b[0;34m)\u001b[0m\u001b[0;34m\u001b[0m\u001b[0;34m\u001b[0m\u001b[0m\n\u001b[0m\u001b[1;32m      4\u001b[0m \u001b[0mlr_class_4_5_pred_complexity\u001b[0m \u001b[0;34m=\u001b[0m \u001b[0msingle_dev_mini\u001b[0m\u001b[0;34m[\u001b[0m\u001b[0;34m'lr_class_4_5_pred_complexity'\u001b[0m\u001b[0;34m]\u001b[0m\u001b[0;34m.\u001b[0m\u001b[0mto_numpy\u001b[0m\u001b[0;34m(\u001b[0m\u001b[0;34m)\u001b[0m\u001b[0;34m\u001b[0m\u001b[0;34m\u001b[0m\u001b[0m\n\u001b[1;32m      5\u001b[0m \u001b[0;32mfor\u001b[0m \u001b[0mthresh\u001b[0m \u001b[0;32min\u001b[0m \u001b[0mtqdm\u001b[0m\u001b[0;34m(\u001b[0m\u001b[0mnp\u001b[0m\u001b[0;34m.\u001b[0m\u001b[0marange\u001b[0m\u001b[0;34m(\u001b[0m\u001b[0;36m0\u001b[0m\u001b[0;34m,\u001b[0m \u001b[0;36m1\u001b[0m\u001b[0;34m,\u001b[0m \u001b[0;36m0.01\u001b[0m\u001b[0;34m)\u001b[0m\u001b[0;34m)\u001b[0m\u001b[0;34m:\u001b[0m\u001b[0;34m\u001b[0m\u001b[0;34m\u001b[0m\u001b[0m\n",
      "\u001b[0;32m~/venv3.6/lib64/python3.6/site-packages/pandas/core/frame.py\u001b[0m in \u001b[0;36m__getitem__\u001b[0;34m(self, key)\u001b[0m\n\u001b[1;32m   2900\u001b[0m             \u001b[0;32mif\u001b[0m \u001b[0mself\u001b[0m\u001b[0;34m.\u001b[0m\u001b[0mcolumns\u001b[0m\u001b[0;34m.\u001b[0m\u001b[0mnlevels\u001b[0m \u001b[0;34m>\u001b[0m \u001b[0;36m1\u001b[0m\u001b[0;34m:\u001b[0m\u001b[0;34m\u001b[0m\u001b[0;34m\u001b[0m\u001b[0m\n\u001b[1;32m   2901\u001b[0m                 \u001b[0;32mreturn\u001b[0m \u001b[0mself\u001b[0m\u001b[0;34m.\u001b[0m\u001b[0m_getitem_multilevel\u001b[0m\u001b[0;34m(\u001b[0m\u001b[0mkey\u001b[0m\u001b[0;34m)\u001b[0m\u001b[0;34m\u001b[0m\u001b[0;34m\u001b[0m\u001b[0m\n\u001b[0;32m-> 2902\u001b[0;31m             \u001b[0mindexer\u001b[0m \u001b[0;34m=\u001b[0m \u001b[0mself\u001b[0m\u001b[0;34m.\u001b[0m\u001b[0mcolumns\u001b[0m\u001b[0;34m.\u001b[0m\u001b[0mget_loc\u001b[0m\u001b[0;34m(\u001b[0m\u001b[0mkey\u001b[0m\u001b[0;34m)\u001b[0m\u001b[0;34m\u001b[0m\u001b[0;34m\u001b[0m\u001b[0m\n\u001b[0m\u001b[1;32m   2903\u001b[0m             \u001b[0;32mif\u001b[0m \u001b[0mis_integer\u001b[0m\u001b[0;34m(\u001b[0m\u001b[0mindexer\u001b[0m\u001b[0;34m)\u001b[0m\u001b[0;34m:\u001b[0m\u001b[0;34m\u001b[0m\u001b[0;34m\u001b[0m\u001b[0m\n\u001b[1;32m   2904\u001b[0m                 \u001b[0mindexer\u001b[0m \u001b[0;34m=\u001b[0m \u001b[0;34m[\u001b[0m\u001b[0mindexer\u001b[0m\u001b[0;34m]\u001b[0m\u001b[0;34m\u001b[0m\u001b[0;34m\u001b[0m\u001b[0m\n",
      "\u001b[0;32m~/venv3.6/lib64/python3.6/site-packages/pandas/core/indexes/base.py\u001b[0m in \u001b[0;36mget_loc\u001b[0;34m(self, key, method, tolerance)\u001b[0m\n\u001b[1;32m   2895\u001b[0m                 \u001b[0;32mreturn\u001b[0m \u001b[0mself\u001b[0m\u001b[0;34m.\u001b[0m\u001b[0m_engine\u001b[0m\u001b[0;34m.\u001b[0m\u001b[0mget_loc\u001b[0m\u001b[0;34m(\u001b[0m\u001b[0mcasted_key\u001b[0m\u001b[0;34m)\u001b[0m\u001b[0;34m\u001b[0m\u001b[0;34m\u001b[0m\u001b[0m\n\u001b[1;32m   2896\u001b[0m             \u001b[0;32mexcept\u001b[0m \u001b[0mKeyError\u001b[0m \u001b[0;32mas\u001b[0m \u001b[0merr\u001b[0m\u001b[0;34m:\u001b[0m\u001b[0;34m\u001b[0m\u001b[0;34m\u001b[0m\u001b[0m\n\u001b[0;32m-> 2897\u001b[0;31m                 \u001b[0;32mraise\u001b[0m \u001b[0mKeyError\u001b[0m\u001b[0;34m(\u001b[0m\u001b[0mkey\u001b[0m\u001b[0;34m)\u001b[0m \u001b[0;32mfrom\u001b[0m \u001b[0merr\u001b[0m\u001b[0;34m\u001b[0m\u001b[0;34m\u001b[0m\u001b[0m\n\u001b[0m\u001b[1;32m   2898\u001b[0m \u001b[0;34m\u001b[0m\u001b[0m\n\u001b[1;32m   2899\u001b[0m         \u001b[0;32mif\u001b[0m \u001b[0mtolerance\u001b[0m \u001b[0;32mis\u001b[0m \u001b[0;32mnot\u001b[0m \u001b[0;32mNone\u001b[0m\u001b[0;34m:\u001b[0m\u001b[0;34m\u001b[0m\u001b[0;34m\u001b[0m\u001b[0m\n",
      "\u001b[0;31mKeyError\u001b[0m: 'lr_pred_complexity'"
     ]
    }
   ],
   "source": [
    "best_pearson, best_thresh = 0.0, 0.0\n",
    "pearsons, threshs = [], []\n",
    "lr_pred_complexity = single_dev_mini['lr_pred_complexity'].to_numpy()\n",
    "lr_class_4_5_pred_complexity = single_dev_mini['lr_class_4_5_pred_complexity'].to_numpy()\n",
    "for thresh in tqdm(np.arange(0, 1, 0.01)):\n",
    "    combined = lr_pred_complexity.copy()\n",
    "    for i in range(len(combined)):\n",
    "        if combined[i] > thresh:\n",
    "            combined[i] = lr_class_4_5_pred_complexity[i]\n",
    "    p = pearson(combined, y_dev_mini)\n",
    "    pearsons.append(p); threshs.append(thresh)\n",
    "    if p > best_pearson:\n",
    "        best_pearson, best_thresh = p, thresh\n",
    "best_pearson, best_thresh"
   ]
  },
  {
   "cell_type": "code",
   "execution_count": 235,
   "metadata": {},
   "outputs": [],
   "source": [
    "single_trial['lr_combined_pred_complexity'] = [pred_complexity if pred_complexity < best_thresh else single_trial['lr_class_4_5_pred_complexity'].to_numpy()[i] for i, pred_complexity in enumerate(single_trial['lr_pred_complexity'].to_numpy())]\n",
    "single_test['lr_combined_pred_complexity'] = [pred_complexity if pred_complexity < best_thresh else single_test['lr_class_4_5_pred_complexity'].to_numpy()[i] for i, pred_complexity in enumerate(single_test['lr_pred_complexity'].to_numpy())]"
   ]
  },
  {
   "cell_type": "code",
   "execution_count": 236,
   "metadata": {},
   "outputs": [],
   "source": [
    "with open('./data/'+job+'/colab/single_trial_bert_scores.json', 'r') as file:\n",
    "    single_trial_bert_scores = json.load(file)\n",
    "    single_trial['bert_pred_complexity'] = single_trial_bert_scores['scores']\n",
    "with open('./data/'+job+'/colab/single_test_bert_scores.json', 'r') as file:\n",
    "    single_test_bert_scores = json.load(file)\n",
    "    single_test['bert_pred_complexity'] = single_test_bert_scores['scores']"
   ]
  },
  {
   "cell_type": "code",
   "execution_count": 237,
   "metadata": {},
   "outputs": [],
   "source": [
    "single_trial['mean_pred_complexity'] = single_trial[['lr_combined_pred_complexity', 'bert_pred_complexity']].mean(axis=1)\n",
    "single_test['mean_pred_complexity'] = single_test[['lr_combined_pred_complexity', 'bert_pred_complexity']].mean(axis=1)"
   ]
  },
  {
   "cell_type": "code",
   "execution_count": 238,
   "metadata": {},
   "outputs": [
    {
     "output_type": "execute_result",
     "data": {
      "text/plain": [
       "                              complexity  lr_pred_complexity  \\\n",
       "complexity                      1.000000            0.802324   \n",
       "lr_pred_complexity              0.802324            1.000000   \n",
       "lr_class_4_5_pred_complexity    0.770824            0.979824   \n",
       "lr_combined_pred_complexity     0.802324            1.000000   \n",
       "bert_pred_complexity            0.798325            0.880175   \n",
       "mean_pred_complexity            0.825270            0.966490   \n",
       "\n",
       "                              lr_class_4_5_pred_complexity  \\\n",
       "complexity                                        0.770824   \n",
       "lr_pred_complexity                                0.979824   \n",
       "lr_class_4_5_pred_complexity                      1.000000   \n",
       "lr_combined_pred_complexity                       0.979824   \n",
       "bert_pred_complexity                              0.859871   \n",
       "mean_pred_complexity                              0.945614   \n",
       "\n",
       "                              lr_combined_pred_complexity  \\\n",
       "complexity                                       0.802324   \n",
       "lr_pred_complexity                               1.000000   \n",
       "lr_class_4_5_pred_complexity                     0.979824   \n",
       "lr_combined_pred_complexity                      1.000000   \n",
       "bert_pred_complexity                             0.880175   \n",
       "mean_pred_complexity                             0.966490   \n",
       "\n",
       "                              bert_pred_complexity  mean_pred_complexity  \n",
       "complexity                                0.798325              0.825270  \n",
       "lr_pred_complexity                        0.880175              0.966490  \n",
       "lr_class_4_5_pred_complexity              0.859871              0.945614  \n",
       "lr_combined_pred_complexity               0.880175              0.966490  \n",
       "bert_pred_complexity                      1.000000              0.972524  \n",
       "mean_pred_complexity                      0.972524              1.000000  "
      ],
      "text/html": "<div>\n<style scoped>\n    .dataframe tbody tr th:only-of-type {\n        vertical-align: middle;\n    }\n\n    .dataframe tbody tr th {\n        vertical-align: top;\n    }\n\n    .dataframe thead th {\n        text-align: right;\n    }\n</style>\n<table border=\"1\" class=\"dataframe\">\n  <thead>\n    <tr style=\"text-align: right;\">\n      <th></th>\n      <th>complexity</th>\n      <th>lr_pred_complexity</th>\n      <th>lr_class_4_5_pred_complexity</th>\n      <th>lr_combined_pred_complexity</th>\n      <th>bert_pred_complexity</th>\n      <th>mean_pred_complexity</th>\n    </tr>\n  </thead>\n  <tbody>\n    <tr>\n      <th>complexity</th>\n      <td>1.000000</td>\n      <td>0.802324</td>\n      <td>0.770824</td>\n      <td>0.802324</td>\n      <td>0.798325</td>\n      <td>0.825270</td>\n    </tr>\n    <tr>\n      <th>lr_pred_complexity</th>\n      <td>0.802324</td>\n      <td>1.000000</td>\n      <td>0.979824</td>\n      <td>1.000000</td>\n      <td>0.880175</td>\n      <td>0.966490</td>\n    </tr>\n    <tr>\n      <th>lr_class_4_5_pred_complexity</th>\n      <td>0.770824</td>\n      <td>0.979824</td>\n      <td>1.000000</td>\n      <td>0.979824</td>\n      <td>0.859871</td>\n      <td>0.945614</td>\n    </tr>\n    <tr>\n      <th>lr_combined_pred_complexity</th>\n      <td>0.802324</td>\n      <td>1.000000</td>\n      <td>0.979824</td>\n      <td>1.000000</td>\n      <td>0.880175</td>\n      <td>0.966490</td>\n    </tr>\n    <tr>\n      <th>bert_pred_complexity</th>\n      <td>0.798325</td>\n      <td>0.880175</td>\n      <td>0.859871</td>\n      <td>0.880175</td>\n      <td>1.000000</td>\n      <td>0.972524</td>\n    </tr>\n    <tr>\n      <th>mean_pred_complexity</th>\n      <td>0.825270</td>\n      <td>0.966490</td>\n      <td>0.945614</td>\n      <td>0.966490</td>\n      <td>0.972524</td>\n      <td>1.000000</td>\n    </tr>\n  </tbody>\n</table>\n</div>"
     },
     "metadata": {},
     "execution_count": 238
    }
   ],
   "source": [
    "single_trial[['complexity', 'lr_pred_complexity', 'lr_class_4_5_pred_complexity', 'lr_combined_pred_complexity',  'bert_pred_complexity', 'mean_pred_complexity']].corr()"
   ]
  },
  {
   "cell_type": "code",
   "execution_count": 239,
   "metadata": {},
   "outputs": [
    {
     "output_type": "execute_result",
     "data": {
      "text/plain": [
       "                              complexity  lr_pred_complexity  \\\n",
       "complexity                      1.000000            0.758865   \n",
       "lr_pred_complexity              0.758865            1.000000   \n",
       "lr_class_4_5_pred_complexity    0.745567            0.976969   \n",
       "lr_combined_pred_complexity     0.757604            0.999208   \n",
       "bert_pred_complexity            0.748420            0.886621   \n",
       "mean_pred_complexity            0.775105            0.968647   \n",
       "\n",
       "                              lr_class_4_5_pred_complexity  \\\n",
       "complexity                                        0.745567   \n",
       "lr_pred_complexity                                0.976969   \n",
       "lr_class_4_5_pred_complexity                      1.000000   \n",
       "lr_combined_pred_complexity                       0.973775   \n",
       "bert_pred_complexity                              0.864815   \n",
       "mean_pred_complexity                              0.944399   \n",
       "\n",
       "                              lr_combined_pred_complexity  \\\n",
       "complexity                                       0.757604   \n",
       "lr_pred_complexity                               0.999208   \n",
       "lr_class_4_5_pred_complexity                     0.973775   \n",
       "lr_combined_pred_complexity                      1.000000   \n",
       "bert_pred_complexity                             0.886603   \n",
       "mean_pred_complexity                             0.969030   \n",
       "\n",
       "                              bert_pred_complexity  mean_pred_complexity  \n",
       "complexity                                0.748420              0.775105  \n",
       "lr_pred_complexity                        0.886621              0.968647  \n",
       "lr_class_4_5_pred_complexity              0.864815              0.944399  \n",
       "lr_combined_pred_complexity               0.886603              0.969030  \n",
       "bert_pred_complexity                      1.000000              0.973363  \n",
       "mean_pred_complexity                      0.973363              1.000000  "
      ],
      "text/html": "<div>\n<style scoped>\n    .dataframe tbody tr th:only-of-type {\n        vertical-align: middle;\n    }\n\n    .dataframe tbody tr th {\n        vertical-align: top;\n    }\n\n    .dataframe thead th {\n        text-align: right;\n    }\n</style>\n<table border=\"1\" class=\"dataframe\">\n  <thead>\n    <tr style=\"text-align: right;\">\n      <th></th>\n      <th>complexity</th>\n      <th>lr_pred_complexity</th>\n      <th>lr_class_4_5_pred_complexity</th>\n      <th>lr_combined_pred_complexity</th>\n      <th>bert_pred_complexity</th>\n      <th>mean_pred_complexity</th>\n    </tr>\n  </thead>\n  <tbody>\n    <tr>\n      <th>complexity</th>\n      <td>1.000000</td>\n      <td>0.758865</td>\n      <td>0.745567</td>\n      <td>0.757604</td>\n      <td>0.748420</td>\n      <td>0.775105</td>\n    </tr>\n    <tr>\n      <th>lr_pred_complexity</th>\n      <td>0.758865</td>\n      <td>1.000000</td>\n      <td>0.976969</td>\n      <td>0.999208</td>\n      <td>0.886621</td>\n      <td>0.968647</td>\n    </tr>\n    <tr>\n      <th>lr_class_4_5_pred_complexity</th>\n      <td>0.745567</td>\n      <td>0.976969</td>\n      <td>1.000000</td>\n      <td>0.973775</td>\n      <td>0.864815</td>\n      <td>0.944399</td>\n    </tr>\n    <tr>\n      <th>lr_combined_pred_complexity</th>\n      <td>0.757604</td>\n      <td>0.999208</td>\n      <td>0.973775</td>\n      <td>1.000000</td>\n      <td>0.886603</td>\n      <td>0.969030</td>\n    </tr>\n    <tr>\n      <th>bert_pred_complexity</th>\n      <td>0.748420</td>\n      <td>0.886621</td>\n      <td>0.864815</td>\n      <td>0.886603</td>\n      <td>1.000000</td>\n      <td>0.973363</td>\n    </tr>\n    <tr>\n      <th>mean_pred_complexity</th>\n      <td>0.775105</td>\n      <td>0.968647</td>\n      <td>0.944399</td>\n      <td>0.969030</td>\n      <td>0.973363</td>\n      <td>1.000000</td>\n    </tr>\n  </tbody>\n</table>\n</div>"
     },
     "metadata": {},
     "execution_count": 239
    }
   ],
   "source": [
    "single_test[['complexity', 'lr_pred_complexity', 'lr_class_4_5_pred_complexity', 'lr_combined_pred_complexity',  'bert_pred_complexity', 'mean_pred_complexity']].corr()"
   ]
  },
  {
   "cell_type": "code",
   "execution_count": 240,
   "metadata": {},
   "outputs": [
    {
     "output_type": "execute_result",
     "data": {
      "text/plain": [
       "(0.7751048552386798,\n",
       " 0.7291508425987947,\n",
       " 0.0627455241064616,\n",
       " 0.006467557897268365,\n",
       " 0.3355435866335261)"
      ]
     },
     "metadata": {},
     "execution_count": 240
    }
   ],
   "source": [
    "mean_pred_complexity = single_test['mean_pred_complexity']\n",
    "pearson(mean_pred_complexity, y_test), spearman(mean_pred_complexity, y_test), MAE(mean_pred_complexity, y_test)"
   ]
  },
  {
   "source": [
    "# Playground"
   ],
   "cell_type": "markdown",
   "metadata": {}
  },
  {
   "source": [
    "## Skewness of features"
   ],
   "cell_type": "markdown",
   "metadata": {}
  },
  {
   "cell_type": "code",
   "execution_count": null,
   "metadata": {},
   "outputs": [],
   "source": [
    "skewness = []\n",
    "for i in tqdm(range(X.shape[1])):\n",
    "    skewness.append(stats.skew(X[:,i]))\n",
    "\n",
    "skewness = [item for i, item in enumerate(skewness) if not feature_names[i].startswith('glove') and not feature_names[i].startswith('infersent') and not feature_names[i].startswith('elmo')]\n",
    "\n",
    "stats.skew(skewness)"
   ]
  },
  {
   "source": [
    "## Transition probabilities"
   ],
   "cell_type": "markdown",
   "metadata": {}
  },
  {
   "cell_type": "code",
   "execution_count": 44,
   "metadata": {},
   "outputs": [],
   "source": [
    "char_transitions_map = pkl.load(open('./data/pickle/char_transitions_map.pkl', 'rb'))\n",
    "phoneme_transitions_map = pkl.load(open('./data/pickle/phoneme_transitions_map.pkl', 'rb'))\n",
    "char_transitions_table = get_char_transition(char_transitions_map, case_sensitive=False)\n",
    "phoneme_transitions_table = get_phoneme_transition(phoneme_transitions_map, stress_sensitive=True)"
   ]
  },
  {
   "cell_type": "code",
   "execution_count": 45,
   "metadata": {},
   "outputs": [
    {
     "output_type": "execute_result",
     "data": {
      "text/plain": [
       "<AxesSubplot:>"
      ]
     },
     "metadata": {},
     "execution_count": 45
    },
    {
     "output_type": "display_data",
     "data": {
      "text/plain": "<Figure size 432x288 with 2 Axes>",
      "image/svg+xml": "<?xml version=\"1.0\" encoding=\"utf-8\" standalone=\"no\"?>\n<!DOCTYPE svg PUBLIC \"-//W3C//DTD SVG 1.1//EN\"\n  \"http://www.w3.org/Graphics/SVG/1.1/DTD/svg11.dtd\">\n<!-- Created with matplotlib (https://matplotlib.org/) -->\n<svg height=\"248.518125pt\" version=\"1.1\" viewBox=\"0 0 349.43325 248.518125\" width=\"349.43325pt\" xmlns=\"http://www.w3.org/2000/svg\" xmlns:xlink=\"http://www.w3.org/1999/xlink\">\n <metadata>\n  <rdf:RDF xmlns:cc=\"http://creativecommons.org/ns#\" xmlns:dc=\"http://purl.org/dc/elements/1.1/\" xmlns:rdf=\"http://www.w3.org/1999/02/22-rdf-syntax-ns#\">\n   <cc:Work>\n    <dc:type rdf:resource=\"http://purl.org/dc/dcmitype/StillImage\"/>\n    <dc:date>2021-02-07T16:36:59.571873</dc:date>\n    <dc:format>image/svg+xml</dc:format>\n    <dc:creator>\n     <cc:Agent>\n      <dc:title>Matplotlib v3.3.3, https://matplotlib.org/</dc:title>\n     </cc:Agent>\n    </dc:creator>\n   </cc:Work>\n  </rdf:RDF>\n </metadata>\n <defs>\n  <style type=\"text/css\">*{stroke-linecap:butt;stroke-linejoin:round;}</style>\n </defs>\n <g id=\"figure_1\">\n  <g id=\"patch_1\">\n   <path d=\"M -0 248.518125 \nL 349.43325 248.518125 \nL 349.43325 0 \nL -0 0 \nz\n\" style=\"fill:none;\"/>\n  </g>\n  <g id=\"axes_1\">\n   <g id=\"patch_2\">\n    <path d=\"M 23.878125 224.64 \nL 291.718125 224.64 \nL 291.718125 7.2 \nL 23.878125 7.2 \nz\n\" style=\"fill:#ffffff;\"/>\n   </g>\n   <g id=\"QuadMesh_1\">\n    <path clip-path=\"url(#p04a59e5fec)\" d=\"M 23.878125 7.2 \nL 34.179663 7.2 \nL 34.179663 15.563077 \nL 23.878125 15.563077 \nL 23.878125 7.2 \n\" style=\"fill:#f7fbff;\"/>\n    <path clip-path=\"url(#p04a59e5fec)\" d=\"M 34.179663 7.2 \nL 44.481202 7.2 \nL 44.481202 15.563077 \nL 34.179663 15.563077 \nL 34.179663 7.2 \n\" style=\"fill:#f3f8fe;\"/>\n    <path clip-path=\"url(#p04a59e5fec)\" d=\"M 44.481202 7.2 \nL 54.78274 7.2 \nL 54.78274 15.563077 \nL 44.481202 15.563077 \nL 44.481202 7.2 \n\" style=\"fill:#eef5fc;\"/>\n    <path clip-path=\"url(#p04a59e5fec)\" d=\"M 54.78274 7.2 \nL 65.084279 7.2 \nL 65.084279 15.563077 \nL 54.78274 15.563077 \nL 54.78274 7.2 \n\" style=\"fill:#eef5fc;\"/>\n    <path clip-path=\"url(#p04a59e5fec)\" d=\"M 65.084279 7.2 \nL 75.385817 7.2 \nL 75.385817 15.563077 \nL 65.084279 15.563077 \nL 65.084279 7.2 \n\" style=\"fill:#f7fbff;\"/>\n    <path clip-path=\"url(#p04a59e5fec)\" d=\"M 75.385817 7.2 \nL 85.687356 7.2 \nL 85.687356 15.563077 \nL 75.385817 15.563077 \nL 75.385817 7.2 \n\" style=\"fill:#f5f9fe;\"/>\n    <path clip-path=\"url(#p04a59e5fec)\" d=\"M 85.687356 7.2 \nL 95.988894 7.2 \nL 95.988894 15.563077 \nL 85.687356 15.563077 \nL 85.687356 7.2 \n\" style=\"fill:#f2f8fd;\"/>\n    <path clip-path=\"url(#p04a59e5fec)\" d=\"M 95.988894 7.2 \nL 106.290433 7.2 \nL 106.290433 15.563077 \nL 95.988894 15.563077 \nL 95.988894 7.2 \n\" style=\"fill:#f7fbff;\"/>\n    <path clip-path=\"url(#p04a59e5fec)\" d=\"M 106.290433 7.2 \nL 116.591971 7.2 \nL 116.591971 15.563077 \nL 106.290433 15.563077 \nL 106.290433 7.2 \n\" style=\"fill:#ebf3fb;\"/>\n    <path clip-path=\"url(#p04a59e5fec)\" d=\"M 116.591971 7.2 \nL 126.89351 7.2 \nL 126.89351 15.563077 \nL 116.591971 15.563077 \nL 116.591971 7.2 \n\" style=\"fill:#f7fbff;\"/>\n    <path clip-path=\"url(#p04a59e5fec)\" d=\"M 126.89351 7.2 \nL 137.195048 7.2 \nL 137.195048 15.563077 \nL 126.89351 15.563077 \nL 126.89351 7.2 \n\" style=\"fill:#f5f9fe;\"/>\n    <path clip-path=\"url(#p04a59e5fec)\" d=\"M 137.195048 7.2 \nL 147.496587 7.2 \nL 147.496587 15.563077 \nL 137.195048 15.563077 \nL 137.195048 7.2 \n\" style=\"fill:#e1edf8;\"/>\n    <path clip-path=\"url(#p04a59e5fec)\" d=\"M 147.496587 7.2 \nL 157.798125 7.2 \nL 157.798125 15.563077 \nL 147.496587 15.563077 \nL 147.496587 7.2 \n\" style=\"fill:#f0f6fd;\"/>\n    <path clip-path=\"url(#p04a59e5fec)\" d=\"M 157.798125 7.2 \nL 168.099663 7.2 \nL 168.099663 15.563077 \nL 157.798125 15.563077 \nL 157.798125 7.2 \n\" style=\"fill:#cddff1;\"/>\n    <path clip-path=\"url(#p04a59e5fec)\" d=\"M 168.099663 7.2 \nL 178.401202 7.2 \nL 178.401202 15.563077 \nL 168.099663 15.563077 \nL 168.099663 7.2 \n\" style=\"fill:#f7fbff;\"/>\n    <path clip-path=\"url(#p04a59e5fec)\" d=\"M 178.401202 7.2 \nL 188.70274 7.2 \nL 188.70274 15.563077 \nL 178.401202 15.563077 \nL 178.401202 7.2 \n\" style=\"fill:#f4f9fe;\"/>\n    <path clip-path=\"url(#p04a59e5fec)\" d=\"M 188.70274 7.2 \nL 199.004279 7.2 \nL 199.004279 15.563077 \nL 188.70274 15.563077 \nL 188.70274 7.2 \n\" style=\"fill:#f7fbff;\"/>\n    <path clip-path=\"url(#p04a59e5fec)\" d=\"M 199.004279 7.2 \nL 209.305817 7.2 \nL 209.305817 15.563077 \nL 199.004279 15.563077 \nL 199.004279 7.2 \n\" style=\"fill:#deebf7;\"/>\n    <path clip-path=\"url(#p04a59e5fec)\" d=\"M 209.305817 7.2 \nL 219.607356 7.2 \nL 219.607356 15.563077 \nL 209.305817 15.563077 \nL 209.305817 7.2 \n\" style=\"fill:#e3eef9;\"/>\n    <path clip-path=\"url(#p04a59e5fec)\" d=\"M 219.607356 7.2 \nL 229.908894 7.2 \nL 229.908894 15.563077 \nL 219.607356 15.563077 \nL 219.607356 7.2 \n\" style=\"fill:#dae8f6;\"/>\n    <path clip-path=\"url(#p04a59e5fec)\" d=\"M 229.908894 7.2 \nL 240.210433 7.2 \nL 240.210433 15.563077 \nL 229.908894 15.563077 \nL 229.908894 7.2 \n\" style=\"fill:#f5f9fe;\"/>\n    <path clip-path=\"url(#p04a59e5fec)\" d=\"M 240.210433 7.2 \nL 250.511971 7.2 \nL 250.511971 15.563077 \nL 240.210433 15.563077 \nL 240.210433 7.2 \n\" style=\"fill:#f2f8fd;\"/>\n    <path clip-path=\"url(#p04a59e5fec)\" d=\"M 250.511971 7.2 \nL 260.81351 7.2 \nL 260.81351 15.563077 \nL 250.511971 15.563077 \nL 250.511971 7.2 \n\" style=\"fill:#f6faff;\"/>\n    <path clip-path=\"url(#p04a59e5fec)\" d=\"M 260.81351 7.2 \nL 271.115048 7.2 \nL 271.115048 15.563077 \nL 260.81351 15.563077 \nL 260.81351 7.2 \n\" style=\"fill:#f7fbff;\"/>\n    <path clip-path=\"url(#p04a59e5fec)\" d=\"M 271.115048 7.2 \nL 281.416587 7.2 \nL 281.416587 15.563077 \nL 271.115048 15.563077 \nL 271.115048 7.2 \n\" style=\"fill:#eff6fc;\"/>\n    <path clip-path=\"url(#p04a59e5fec)\" d=\"M 281.416587 7.2 \nL 291.718125 7.2 \nL 291.718125 15.563077 \nL 281.416587 15.563077 \nL 281.416587 7.2 \n\" style=\"fill:#f7fbff;\"/>\n    <path clip-path=\"url(#p04a59e5fec)\" d=\"M 23.878125 15.563077 \nL 34.179663 15.563077 \nL 34.179663 23.926154 \nL 23.878125 23.926154 \nL 23.878125 15.563077 \n\" style=\"fill:#dce9f6;\"/>\n    <path clip-path=\"url(#p04a59e5fec)\" d=\"M 34.179663 15.563077 \nL 44.481202 15.563077 \nL 44.481202 23.926154 \nL 34.179663 23.926154 \nL 34.179663 15.563077 \n\" style=\"fill:#f5fafe;\"/>\n    <path clip-path=\"url(#p04a59e5fec)\" d=\"M 44.481202 15.563077 \nL 54.78274 15.563077 \nL 54.78274 23.926154 \nL 44.481202 23.926154 \nL 44.481202 15.563077 \n\" style=\"fill:#f7fbff;\"/>\n    <path clip-path=\"url(#p04a59e5fec)\" d=\"M 54.78274 15.563077 \nL 65.084279 15.563077 \nL 65.084279 23.926154 \nL 54.78274 23.926154 \nL 54.78274 15.563077 \n\" style=\"fill:#f7fbff;\"/>\n    <path clip-path=\"url(#p04a59e5fec)\" d=\"M 65.084279 15.563077 \nL 75.385817 15.563077 \nL 75.385817 23.926154 \nL 65.084279 23.926154 \nL 65.084279 15.563077 \n\" style=\"fill:#b7d4ea;\"/>\n    <path clip-path=\"url(#p04a59e5fec)\" d=\"M 75.385817 15.563077 \nL 85.687356 15.563077 \nL 85.687356 23.926154 \nL 75.385817 23.926154 \nL 75.385817 15.563077 \n\" style=\"fill:#f7fbff;\"/>\n    <path clip-path=\"url(#p04a59e5fec)\" d=\"M 85.687356 15.563077 \nL 95.988894 15.563077 \nL 95.988894 23.926154 \nL 85.687356 23.926154 \nL 85.687356 15.563077 \n\" style=\"fill:#f7fbff;\"/>\n    <path clip-path=\"url(#p04a59e5fec)\" d=\"M 95.988894 15.563077 \nL 106.290433 15.563077 \nL 106.290433 23.926154 \nL 95.988894 23.926154 \nL 95.988894 15.563077 \n\" style=\"fill:#f7fbff;\"/>\n    <path clip-path=\"url(#p04a59e5fec)\" d=\"M 106.290433 15.563077 \nL 116.591971 15.563077 \nL 116.591971 23.926154 \nL 106.290433 23.926154 \nL 106.290433 15.563077 \n\" style=\"fill:#e7f1fa;\"/>\n    <path clip-path=\"url(#p04a59e5fec)\" d=\"M 116.591971 15.563077 \nL 126.89351 15.563077 \nL 126.89351 23.926154 \nL 116.591971 23.926154 \nL 116.591971 15.563077 \n\" style=\"fill:#f7fbff;\"/>\n    <path clip-path=\"url(#p04a59e5fec)\" d=\"M 126.89351 15.563077 \nL 137.195048 15.563077 \nL 137.195048 23.926154 \nL 126.89351 23.926154 \nL 126.89351 15.563077 \n\" style=\"fill:#f7fbff;\"/>\n    <path clip-path=\"url(#p04a59e5fec)\" d=\"M 137.195048 15.563077 \nL 147.496587 15.563077 \nL 147.496587 23.926154 \nL 137.195048 23.926154 \nL 137.195048 15.563077 \n\" style=\"fill:#e3eef8;\"/>\n    <path clip-path=\"url(#p04a59e5fec)\" d=\"M 147.496587 15.563077 \nL 157.798125 15.563077 \nL 157.798125 23.926154 \nL 147.496587 23.926154 \nL 147.496587 15.563077 \n\" style=\"fill:#f7fbff;\"/>\n    <path clip-path=\"url(#p04a59e5fec)\" d=\"M 157.798125 15.563077 \nL 168.099663 15.563077 \nL 168.099663 23.926154 \nL 157.798125 23.926154 \nL 157.798125 15.563077 \n\" style=\"fill:#f7fbff;\"/>\n    <path clip-path=\"url(#p04a59e5fec)\" d=\"M 168.099663 15.563077 \nL 178.401202 15.563077 \nL 178.401202 23.926154 \nL 168.099663 23.926154 \nL 168.099663 15.563077 \n\" style=\"fill:#ddeaf7;\"/>\n    <path clip-path=\"url(#p04a59e5fec)\" d=\"M 178.401202 15.563077 \nL 188.70274 15.563077 \nL 188.70274 23.926154 \nL 178.401202 23.926154 \nL 178.401202 15.563077 \n\" style=\"fill:#f7fbff;\"/>\n    <path clip-path=\"url(#p04a59e5fec)\" d=\"M 188.70274 15.563077 \nL 199.004279 15.563077 \nL 199.004279 23.926154 \nL 188.70274 23.926154 \nL 188.70274 15.563077 \n\" style=\"fill:#f7fbff;\"/>\n    <path clip-path=\"url(#p04a59e5fec)\" d=\"M 199.004279 15.563077 \nL 209.305817 15.563077 \nL 209.305817 23.926154 \nL 199.004279 23.926154 \nL 199.004279 15.563077 \n\" style=\"fill:#eaf2fb;\"/>\n    <path clip-path=\"url(#p04a59e5fec)\" d=\"M 209.305817 15.563077 \nL 219.607356 15.563077 \nL 219.607356 23.926154 \nL 209.305817 23.926154 \nL 209.305817 15.563077 \n\" style=\"fill:#f4f9fe;\"/>\n    <path clip-path=\"url(#p04a59e5fec)\" d=\"M 219.607356 15.563077 \nL 229.908894 15.563077 \nL 229.908894 23.926154 \nL 219.607356 23.926154 \nL 219.607356 15.563077 \n\" style=\"fill:#f6faff;\"/>\n    <path clip-path=\"url(#p04a59e5fec)\" d=\"M 229.908894 15.563077 \nL 240.210433 15.563077 \nL 240.210433 23.926154 \nL 229.908894 23.926154 \nL 229.908894 15.563077 \n\" style=\"fill:#ddeaf7;\"/>\n    <path clip-path=\"url(#p04a59e5fec)\" d=\"M 240.210433 15.563077 \nL 250.511971 15.563077 \nL 250.511971 23.926154 \nL 240.210433 23.926154 \nL 240.210433 15.563077 \n\" style=\"fill:#f7fbff;\"/>\n    <path clip-path=\"url(#p04a59e5fec)\" d=\"M 250.511971 15.563077 \nL 260.81351 15.563077 \nL 260.81351 23.926154 \nL 250.511971 23.926154 \nL 250.511971 15.563077 \n\" style=\"fill:#f7fbff;\"/>\n    <path clip-path=\"url(#p04a59e5fec)\" d=\"M 260.81351 15.563077 \nL 271.115048 15.563077 \nL 271.115048 23.926154 \nL 260.81351 23.926154 \nL 260.81351 15.563077 \n\" style=\"fill:#f7fbff;\"/>\n    <path clip-path=\"url(#p04a59e5fec)\" d=\"M 271.115048 15.563077 \nL 281.416587 15.563077 \nL 281.416587 23.926154 \nL 271.115048 23.926154 \nL 271.115048 15.563077 \n\" style=\"fill:#e6f0f9;\"/>\n    <path clip-path=\"url(#p04a59e5fec)\" d=\"M 281.416587 15.563077 \nL 291.718125 15.563077 \nL 291.718125 23.926154 \nL 281.416587 23.926154 \nL 281.416587 15.563077 \n\" style=\"fill:#f7fbff;\"/>\n    <path clip-path=\"url(#p04a59e5fec)\" d=\"M 23.878125 23.926154 \nL 34.179663 23.926154 \nL 34.179663 32.289231 \nL 23.878125 32.289231 \nL 23.878125 23.926154 \n\" style=\"fill:#dbe9f6;\"/>\n    <path clip-path=\"url(#p04a59e5fec)\" d=\"M 34.179663 23.926154 \nL 44.481202 23.926154 \nL 44.481202 32.289231 \nL 34.179663 32.289231 \nL 34.179663 23.926154 \n\" style=\"fill:#f7fbff;\"/>\n    <path clip-path=\"url(#p04a59e5fec)\" d=\"M 44.481202 23.926154 \nL 54.78274 23.926154 \nL 54.78274 32.289231 \nL 44.481202 32.289231 \nL 44.481202 23.926154 \n\" style=\"fill:#f3f8fe;\"/>\n    <path clip-path=\"url(#p04a59e5fec)\" d=\"M 54.78274 23.926154 \nL 65.084279 23.926154 \nL 65.084279 32.289231 \nL 54.78274 32.289231 \nL 54.78274 23.926154 \n\" style=\"fill:#f7fbff;\"/>\n    <path clip-path=\"url(#p04a59e5fec)\" d=\"M 65.084279 23.926154 \nL 75.385817 23.926154 \nL 75.385817 32.289231 \nL 65.084279 32.289231 \nL 65.084279 23.926154 \n\" style=\"fill:#d5e5f4;\"/>\n    <path clip-path=\"url(#p04a59e5fec)\" d=\"M 75.385817 23.926154 \nL 85.687356 23.926154 \nL 85.687356 32.289231 \nL 75.385817 32.289231 \nL 75.385817 23.926154 \n\" style=\"fill:#f7fbff;\"/>\n    <path clip-path=\"url(#p04a59e5fec)\" d=\"M 85.687356 23.926154 \nL 95.988894 23.926154 \nL 95.988894 32.289231 \nL 85.687356 32.289231 \nL 85.687356 23.926154 \n\" style=\"fill:#f7fbff;\"/>\n    <path clip-path=\"url(#p04a59e5fec)\" d=\"M 95.988894 23.926154 \nL 106.290433 23.926154 \nL 106.290433 32.289231 \nL 95.988894 32.289231 \nL 95.988894 23.926154 \n\" style=\"fill:#d9e7f5;\"/>\n    <path clip-path=\"url(#p04a59e5fec)\" d=\"M 106.290433 23.926154 \nL 116.591971 23.926154 \nL 116.591971 32.289231 \nL 106.290433 32.289231 \nL 106.290433 23.926154 \n\" style=\"fill:#e9f2fa;\"/>\n    <path clip-path=\"url(#p04a59e5fec)\" d=\"M 116.591971 23.926154 \nL 126.89351 23.926154 \nL 126.89351 32.289231 \nL 116.591971 32.289231 \nL 116.591971 23.926154 \n\" style=\"fill:#f7fbff;\"/>\n    <path clip-path=\"url(#p04a59e5fec)\" d=\"M 126.89351 23.926154 \nL 137.195048 23.926154 \nL 137.195048 32.289231 \nL 126.89351 32.289231 \nL 126.89351 23.926154 \n\" style=\"fill:#edf4fc;\"/>\n    <path clip-path=\"url(#p04a59e5fec)\" d=\"M 137.195048 23.926154 \nL 147.496587 23.926154 \nL 147.496587 32.289231 \nL 137.195048 32.289231 \nL 137.195048 23.926154 \n\" style=\"fill:#eef5fc;\"/>\n    <path clip-path=\"url(#p04a59e5fec)\" d=\"M 147.496587 23.926154 \nL 157.798125 23.926154 \nL 157.798125 32.289231 \nL 147.496587 32.289231 \nL 147.496587 23.926154 \n\" style=\"fill:#f7fbff;\"/>\n    <path clip-path=\"url(#p04a59e5fec)\" d=\"M 157.798125 23.926154 \nL 168.099663 23.926154 \nL 168.099663 32.289231 \nL 157.798125 32.289231 \nL 157.798125 23.926154 \n\" style=\"fill:#f7fbff;\"/>\n    <path clip-path=\"url(#p04a59e5fec)\" d=\"M 168.099663 23.926154 \nL 178.401202 23.926154 \nL 178.401202 32.289231 \nL 168.099663 32.289231 \nL 168.099663 23.926154 \n\" style=\"fill:#cbdef1;\"/>\n    <path clip-path=\"url(#p04a59e5fec)\" d=\"M 178.401202 23.926154 \nL 188.70274 23.926154 \nL 188.70274 32.289231 \nL 178.401202 32.289231 \nL 178.401202 23.926154 \n\" style=\"fill:#f7fbff;\"/>\n    <path clip-path=\"url(#p04a59e5fec)\" d=\"M 188.70274 23.926154 \nL 199.004279 23.926154 \nL 199.004279 32.289231 \nL 188.70274 32.289231 \nL 188.70274 23.926154 \n\" style=\"fill:#f7fbff;\"/>\n    <path clip-path=\"url(#p04a59e5fec)\" d=\"M 199.004279 23.926154 \nL 209.305817 23.926154 \nL 209.305817 32.289231 \nL 199.004279 32.289231 \nL 199.004279 23.926154 \n\" style=\"fill:#eef5fc;\"/>\n    <path clip-path=\"url(#p04a59e5fec)\" d=\"M 209.305817 23.926154 \nL 219.607356 23.926154 \nL 219.607356 32.289231 \nL 209.305817 32.289231 \nL 209.305817 23.926154 \n\" style=\"fill:#f6faff;\"/>\n    <path clip-path=\"url(#p04a59e5fec)\" d=\"M 219.607356 23.926154 \nL 229.908894 23.926154 \nL 229.908894 32.289231 \nL 219.607356 32.289231 \nL 219.607356 23.926154 \n\" style=\"fill:#e6f0f9;\"/>\n    <path clip-path=\"url(#p04a59e5fec)\" d=\"M 229.908894 23.926154 \nL 240.210433 23.926154 \nL 240.210433 32.289231 \nL 229.908894 32.289231 \nL 229.908894 23.926154 \n\" style=\"fill:#eef5fc;\"/>\n    <path clip-path=\"url(#p04a59e5fec)\" d=\"M 240.210433 23.926154 \nL 250.511971 23.926154 \nL 250.511971 32.289231 \nL 240.210433 32.289231 \nL 240.210433 23.926154 \n\" style=\"fill:#f7fbff;\"/>\n    <path clip-path=\"url(#p04a59e5fec)\" d=\"M 250.511971 23.926154 \nL 260.81351 23.926154 \nL 260.81351 32.289231 \nL 250.511971 32.289231 \nL 250.511971 23.926154 \n\" style=\"fill:#f7fbff;\"/>\n    <path clip-path=\"url(#p04a59e5fec)\" d=\"M 260.81351 23.926154 \nL 271.115048 23.926154 \nL 271.115048 32.289231 \nL 260.81351 32.289231 \nL 260.81351 23.926154 \n\" style=\"fill:#f7fbff;\"/>\n    <path clip-path=\"url(#p04a59e5fec)\" d=\"M 271.115048 23.926154 \nL 281.416587 23.926154 \nL 281.416587 32.289231 \nL 271.115048 32.289231 \nL 271.115048 23.926154 \n\" style=\"fill:#f5fafe;\"/>\n    <path clip-path=\"url(#p04a59e5fec)\" d=\"M 281.416587 23.926154 \nL 291.718125 23.926154 \nL 291.718125 32.289231 \nL 281.416587 32.289231 \nL 281.416587 23.926154 \n\" style=\"fill:#f7fbff;\"/>\n    <path clip-path=\"url(#p04a59e5fec)\" d=\"M 23.878125 32.289231 \nL 34.179663 32.289231 \nL 34.179663 40.652308 \nL 23.878125 40.652308 \nL 23.878125 32.289231 \n\" style=\"fill:#dce9f6;\"/>\n    <path clip-path=\"url(#p04a59e5fec)\" d=\"M 34.179663 32.289231 \nL 44.481202 32.289231 \nL 44.481202 40.652308 \nL 34.179663 40.652308 \nL 34.179663 32.289231 \n\" style=\"fill:#f7fbff;\"/>\n    <path clip-path=\"url(#p04a59e5fec)\" d=\"M 44.481202 32.289231 \nL 54.78274 32.289231 \nL 54.78274 40.652308 \nL 44.481202 40.652308 \nL 44.481202 32.289231 \n\" style=\"fill:#f6faff;\"/>\n    <path clip-path=\"url(#p04a59e5fec)\" d=\"M 54.78274 32.289231 \nL 65.084279 32.289231 \nL 65.084279 40.652308 \nL 54.78274 40.652308 \nL 54.78274 32.289231 \n\" style=\"fill:#f3f8fe;\"/>\n    <path clip-path=\"url(#p04a59e5fec)\" d=\"M 65.084279 32.289231 \nL 75.385817 32.289231 \nL 75.385817 40.652308 \nL 65.084279 40.652308 \nL 65.084279 32.289231 \n\" style=\"fill:#a4cce3;\"/>\n    <path clip-path=\"url(#p04a59e5fec)\" d=\"M 75.385817 32.289231 \nL 85.687356 32.289231 \nL 85.687356 40.652308 \nL 75.385817 40.652308 \nL 75.385817 32.289231 \n\" style=\"fill:#f7fbff;\"/>\n    <path clip-path=\"url(#p04a59e5fec)\" d=\"M 85.687356 32.289231 \nL 95.988894 32.289231 \nL 95.988894 40.652308 \nL 85.687356 40.652308 \nL 85.687356 32.289231 \n\" style=\"fill:#f5f9fe;\"/>\n    <path clip-path=\"url(#p04a59e5fec)\" d=\"M 95.988894 32.289231 \nL 106.290433 32.289231 \nL 106.290433 40.652308 \nL 95.988894 40.652308 \nL 95.988894 32.289231 \n\" style=\"fill:#f7fbff;\"/>\n    <path clip-path=\"url(#p04a59e5fec)\" d=\"M 106.290433 32.289231 \nL 116.591971 32.289231 \nL 116.591971 40.652308 \nL 106.290433 40.652308 \nL 106.290433 32.289231 \n\" style=\"fill:#d1e2f3;\"/>\n    <path clip-path=\"url(#p04a59e5fec)\" d=\"M 116.591971 32.289231 \nL 126.89351 32.289231 \nL 126.89351 40.652308 \nL 116.591971 40.652308 \nL 116.591971 32.289231 \n\" style=\"fill:#f7fbff;\"/>\n    <path clip-path=\"url(#p04a59e5fec)\" d=\"M 126.89351 32.289231 \nL 137.195048 32.289231 \nL 137.195048 40.652308 \nL 126.89351 40.652308 \nL 126.89351 32.289231 \n\" style=\"fill:#f7fbff;\"/>\n    <path clip-path=\"url(#p04a59e5fec)\" d=\"M 137.195048 32.289231 \nL 147.496587 32.289231 \nL 147.496587 40.652308 \nL 137.195048 40.652308 \nL 137.195048 32.289231 \n\" style=\"fill:#f3f8fe;\"/>\n    <path clip-path=\"url(#p04a59e5fec)\" d=\"M 147.496587 32.289231 \nL 157.798125 32.289231 \nL 157.798125 40.652308 \nL 147.496587 40.652308 \nL 147.496587 32.289231 \n\" style=\"fill:#f5fafe;\"/>\n    <path clip-path=\"url(#p04a59e5fec)\" d=\"M 157.798125 32.289231 \nL 168.099663 32.289231 \nL 168.099663 40.652308 \nL 157.798125 40.652308 \nL 157.798125 32.289231 \n\" style=\"fill:#f4f9fe;\"/>\n    <path clip-path=\"url(#p04a59e5fec)\" d=\"M 168.099663 32.289231 \nL 178.401202 32.289231 \nL 178.401202 40.652308 \nL 168.099663 40.652308 \nL 168.099663 32.289231 \n\" style=\"fill:#e3eef8;\"/>\n    <path clip-path=\"url(#p04a59e5fec)\" d=\"M 178.401202 32.289231 \nL 188.70274 32.289231 \nL 188.70274 40.652308 \nL 178.401202 40.652308 \nL 178.401202 32.289231 \n\" style=\"fill:#f7fbff;\"/>\n    <path clip-path=\"url(#p04a59e5fec)\" d=\"M 188.70274 32.289231 \nL 199.004279 32.289231 \nL 199.004279 40.652308 \nL 188.70274 40.652308 \nL 188.70274 32.289231 \n\" style=\"fill:#f7fbff;\"/>\n    <path clip-path=\"url(#p04a59e5fec)\" d=\"M 199.004279 32.289231 \nL 209.305817 32.289231 \nL 209.305817 40.652308 \nL 199.004279 40.652308 \nL 199.004279 32.289231 \n\" style=\"fill:#eef5fc;\"/>\n    <path clip-path=\"url(#p04a59e5fec)\" d=\"M 209.305817 32.289231 \nL 219.607356 32.289231 \nL 219.607356 40.652308 \nL 209.305817 40.652308 \nL 209.305817 32.289231 \n\" style=\"fill:#ebf3fb;\"/>\n    <path clip-path=\"url(#p04a59e5fec)\" d=\"M 219.607356 32.289231 \nL 229.908894 32.289231 \nL 229.908894 40.652308 \nL 219.607356 40.652308 \nL 219.607356 32.289231 \n\" style=\"fill:#f7fbff;\"/>\n    <path clip-path=\"url(#p04a59e5fec)\" d=\"M 229.908894 32.289231 \nL 240.210433 32.289231 \nL 240.210433 40.652308 \nL 229.908894 40.652308 \nL 229.908894 32.289231 \n\" style=\"fill:#edf4fc;\"/>\n    <path clip-path=\"url(#p04a59e5fec)\" d=\"M 240.210433 32.289231 \nL 250.511971 32.289231 \nL 250.511971 40.652308 \nL 240.210433 40.652308 \nL 240.210433 32.289231 \n\" style=\"fill:#f5fafe;\"/>\n    <path clip-path=\"url(#p04a59e5fec)\" d=\"M 250.511971 32.289231 \nL 260.81351 32.289231 \nL 260.81351 40.652308 \nL 250.511971 40.652308 \nL 250.511971 32.289231 \n\" style=\"fill:#f6faff;\"/>\n    <path clip-path=\"url(#p04a59e5fec)\" d=\"M 260.81351 32.289231 \nL 271.115048 32.289231 \nL 271.115048 40.652308 \nL 260.81351 40.652308 \nL 260.81351 32.289231 \n\" style=\"fill:#f7fbff;\"/>\n    <path clip-path=\"url(#p04a59e5fec)\" d=\"M 271.115048 32.289231 \nL 281.416587 32.289231 \nL 281.416587 40.652308 \nL 271.115048 40.652308 \nL 271.115048 32.289231 \n\" style=\"fill:#f3f8fe;\"/>\n    <path clip-path=\"url(#p04a59e5fec)\" d=\"M 281.416587 32.289231 \nL 291.718125 32.289231 \nL 291.718125 40.652308 \nL 281.416587 40.652308 \nL 281.416587 32.289231 \n\" style=\"fill:#f7fbff;\"/>\n    <path clip-path=\"url(#p04a59e5fec)\" d=\"M 23.878125 40.652308 \nL 34.179663 40.652308 \nL 34.179663 49.015385 \nL 23.878125 49.015385 \nL 23.878125 40.652308 \n\" style=\"fill:#e7f1fa;\"/>\n    <path clip-path=\"url(#p04a59e5fec)\" d=\"M 34.179663 40.652308 \nL 44.481202 40.652308 \nL 44.481202 49.015385 \nL 34.179663 49.015385 \nL 34.179663 40.652308 \n\" style=\"fill:#f6faff;\"/>\n    <path clip-path=\"url(#p04a59e5fec)\" d=\"M 44.481202 40.652308 \nL 54.78274 40.652308 \nL 54.78274 49.015385 \nL 44.481202 49.015385 \nL 44.481202 40.652308 \n\" style=\"fill:#eef5fc;\"/>\n    <path clip-path=\"url(#p04a59e5fec)\" d=\"M 54.78274 40.652308 \nL 65.084279 40.652308 \nL 65.084279 49.015385 \nL 54.78274 49.015385 \nL 54.78274 40.652308 \n\" style=\"fill:#deebf7;\"/>\n    <path clip-path=\"url(#p04a59e5fec)\" d=\"M 65.084279 40.652308 \nL 75.385817 40.652308 \nL 75.385817 49.015385 \nL 65.084279 49.015385 \nL 65.084279 40.652308 \n\" style=\"fill:#eff6fc;\"/>\n    <path clip-path=\"url(#p04a59e5fec)\" d=\"M 75.385817 40.652308 \nL 85.687356 40.652308 \nL 85.687356 49.015385 \nL 75.385817 49.015385 \nL 75.385817 40.652308 \n\" style=\"fill:#f4f9fe;\"/>\n    <path clip-path=\"url(#p04a59e5fec)\" d=\"M 85.687356 40.652308 \nL 95.988894 40.652308 \nL 95.988894 49.015385 \nL 85.687356 49.015385 \nL 85.687356 40.652308 \n\" style=\"fill:#f5f9fe;\"/>\n    <path clip-path=\"url(#p04a59e5fec)\" d=\"M 95.988894 40.652308 \nL 106.290433 40.652308 \nL 106.290433 49.015385 \nL 95.988894 49.015385 \nL 95.988894 40.652308 \n\" style=\"fill:#f7fbff;\"/>\n    <path clip-path=\"url(#p04a59e5fec)\" d=\"M 106.290433 40.652308 \nL 116.591971 40.652308 \nL 116.591971 49.015385 \nL 106.290433 49.015385 \nL 106.290433 40.652308 \n\" style=\"fill:#f4f9fe;\"/>\n    <path clip-path=\"url(#p04a59e5fec)\" d=\"M 116.591971 40.652308 \nL 126.89351 40.652308 \nL 126.89351 49.015385 \nL 116.591971 49.015385 \nL 116.591971 40.652308 \n\" style=\"fill:#f7fbff;\"/>\n    <path clip-path=\"url(#p04a59e5fec)\" d=\"M 126.89351 40.652308 \nL 137.195048 40.652308 \nL 137.195048 49.015385 \nL 126.89351 49.015385 \nL 126.89351 40.652308 \n\" style=\"fill:#f6faff;\"/>\n    <path clip-path=\"url(#p04a59e5fec)\" d=\"M 137.195048 40.652308 \nL 147.496587 40.652308 \nL 147.496587 49.015385 \nL 137.195048 49.015385 \nL 137.195048 40.652308 \n\" style=\"fill:#edf4fc;\"/>\n    <path clip-path=\"url(#p04a59e5fec)\" d=\"M 147.496587 40.652308 \nL 157.798125 40.652308 \nL 157.798125 49.015385 \nL 147.496587 49.015385 \nL 147.496587 40.652308 \n\" style=\"fill:#f1f7fd;\"/>\n    <path clip-path=\"url(#p04a59e5fec)\" d=\"M 157.798125 40.652308 \nL 168.099663 40.652308 \nL 168.099663 49.015385 \nL 157.798125 49.015385 \nL 157.798125 40.652308 \n\" style=\"fill:#dce9f6;\"/>\n    <path clip-path=\"url(#p04a59e5fec)\" d=\"M 168.099663 40.652308 \nL 178.401202 40.652308 \nL 178.401202 49.015385 \nL 168.099663 49.015385 \nL 168.099663 40.652308 \n\" style=\"fill:#f5fafe;\"/>\n    <path clip-path=\"url(#p04a59e5fec)\" d=\"M 178.401202 40.652308 \nL 188.70274 40.652308 \nL 188.70274 49.015385 \nL 178.401202 49.015385 \nL 178.401202 40.652308 \n\" style=\"fill:#f4f9fe;\"/>\n    <path clip-path=\"url(#p04a59e5fec)\" d=\"M 188.70274 40.652308 \nL 199.004279 40.652308 \nL 199.004279 49.015385 \nL 188.70274 49.015385 \nL 188.70274 40.652308 \n\" style=\"fill:#f7fbff;\"/>\n    <path clip-path=\"url(#p04a59e5fec)\" d=\"M 199.004279 40.652308 \nL 209.305817 40.652308 \nL 209.305817 49.015385 \nL 199.004279 49.015385 \nL 199.004279 40.652308 \n\" style=\"fill:#cde0f1;\"/>\n    <path clip-path=\"url(#p04a59e5fec)\" d=\"M 209.305817 40.652308 \nL 219.607356 40.652308 \nL 219.607356 49.015385 \nL 209.305817 49.015385 \nL 209.305817 40.652308 \n\" style=\"fill:#dceaf6;\"/>\n    <path clip-path=\"url(#p04a59e5fec)\" d=\"M 219.607356 40.652308 \nL 229.908894 40.652308 \nL 229.908894 49.015385 \nL 219.607356 49.015385 \nL 219.607356 40.652308 \n\" style=\"fill:#eef5fc;\"/>\n    <path clip-path=\"url(#p04a59e5fec)\" d=\"M 229.908894 40.652308 \nL 240.210433 40.652308 \nL 240.210433 49.015385 \nL 229.908894 49.015385 \nL 229.908894 40.652308 \n\" style=\"fill:#f6faff;\"/>\n    <path clip-path=\"url(#p04a59e5fec)\" d=\"M 240.210433 40.652308 \nL 250.511971 40.652308 \nL 250.511971 49.015385 \nL 240.210433 49.015385 \nL 240.210433 40.652308 \n\" style=\"fill:#f2f8fd;\"/>\n    <path clip-path=\"url(#p04a59e5fec)\" d=\"M 250.511971 40.652308 \nL 260.81351 40.652308 \nL 260.81351 49.015385 \nL 250.511971 49.015385 \nL 250.511971 40.652308 \n\" style=\"fill:#f4f9fe;\"/>\n    <path clip-path=\"url(#p04a59e5fec)\" d=\"M 260.81351 40.652308 \nL 271.115048 40.652308 \nL 271.115048 49.015385 \nL 260.81351 49.015385 \nL 260.81351 40.652308 \n\" style=\"fill:#f4f9fe;\"/>\n    <path clip-path=\"url(#p04a59e5fec)\" d=\"M 271.115048 40.652308 \nL 281.416587 40.652308 \nL 281.416587 49.015385 \nL 271.115048 49.015385 \nL 271.115048 40.652308 \n\" style=\"fill:#f4f9fe;\"/>\n    <path clip-path=\"url(#p04a59e5fec)\" d=\"M 281.416587 40.652308 \nL 291.718125 40.652308 \nL 291.718125 49.015385 \nL 281.416587 49.015385 \nL 281.416587 40.652308 \n\" style=\"fill:#f7fbff;\"/>\n    <path clip-path=\"url(#p04a59e5fec)\" d=\"M 23.878125 49.015385 \nL 34.179663 49.015385 \nL 34.179663 57.378462 \nL 23.878125 57.378462 \nL 23.878125 49.015385 \n\" style=\"fill:#e7f0fa;\"/>\n    <path clip-path=\"url(#p04a59e5fec)\" d=\"M 34.179663 49.015385 \nL 44.481202 49.015385 \nL 44.481202 57.378462 \nL 34.179663 57.378462 \nL 34.179663 49.015385 \n\" style=\"fill:#f7fbff;\"/>\n    <path clip-path=\"url(#p04a59e5fec)\" d=\"M 44.481202 49.015385 \nL 54.78274 49.015385 \nL 54.78274 57.378462 \nL 44.481202 57.378462 \nL 44.481202 49.015385 \n\" style=\"fill:#f7fbff;\"/>\n    <path clip-path=\"url(#p04a59e5fec)\" d=\"M 54.78274 49.015385 \nL 65.084279 49.015385 \nL 65.084279 57.378462 \nL 54.78274 57.378462 \nL 54.78274 49.015385 \n\" style=\"fill:#f7fbff;\"/>\n    <path clip-path=\"url(#p04a59e5fec)\" d=\"M 65.084279 49.015385 \nL 75.385817 49.015385 \nL 75.385817 57.378462 \nL 65.084279 57.378462 \nL 65.084279 49.015385 \n\" style=\"fill:#dfebf7;\"/>\n    <path clip-path=\"url(#p04a59e5fec)\" d=\"M 75.385817 49.015385 \nL 85.687356 49.015385 \nL 85.687356 57.378462 \nL 75.385817 57.378462 \nL 75.385817 49.015385 \n\" style=\"fill:#e3eef9;\"/>\n    <path clip-path=\"url(#p04a59e5fec)\" d=\"M 85.687356 49.015385 \nL 95.988894 49.015385 \nL 95.988894 57.378462 \nL 85.687356 57.378462 \nL 85.687356 49.015385 \n\" style=\"fill:#f7fbff;\"/>\n    <path clip-path=\"url(#p04a59e5fec)\" d=\"M 95.988894 49.015385 \nL 106.290433 49.015385 \nL 106.290433 57.378462 \nL 95.988894 57.378462 \nL 95.988894 49.015385 \n\" style=\"fill:#f7fbff;\"/>\n    <path clip-path=\"url(#p04a59e5fec)\" d=\"M 106.290433 49.015385 \nL 116.591971 49.015385 \nL 116.591971 57.378462 \nL 106.290433 57.378462 \nL 106.290433 49.015385 \n\" style=\"fill:#d2e3f3;\"/>\n    <path clip-path=\"url(#p04a59e5fec)\" d=\"M 116.591971 49.015385 \nL 126.89351 49.015385 \nL 126.89351 57.378462 \nL 116.591971 57.378462 \nL 116.591971 49.015385 \n\" style=\"fill:#f7fbff;\"/>\n    <path clip-path=\"url(#p04a59e5fec)\" d=\"M 126.89351 49.015385 \nL 137.195048 49.015385 \nL 137.195048 57.378462 \nL 126.89351 57.378462 \nL 126.89351 49.015385 \n\" style=\"fill:#f7fbff;\"/>\n    <path clip-path=\"url(#p04a59e5fec)\" d=\"M 137.195048 49.015385 \nL 147.496587 49.015385 \nL 147.496587 57.378462 \nL 137.195048 57.378462 \nL 137.195048 49.015385 \n\" style=\"fill:#f0f6fd;\"/>\n    <path clip-path=\"url(#p04a59e5fec)\" d=\"M 147.496587 49.015385 \nL 157.798125 49.015385 \nL 157.798125 57.378462 \nL 147.496587 57.378462 \nL 147.496587 49.015385 \n\" style=\"fill:#f7fbff;\"/>\n    <path clip-path=\"url(#p04a59e5fec)\" d=\"M 157.798125 49.015385 \nL 168.099663 49.015385 \nL 168.099663 57.378462 \nL 157.798125 57.378462 \nL 157.798125 49.015385 \n\" style=\"fill:#f7fbff;\"/>\n    <path clip-path=\"url(#p04a59e5fec)\" d=\"M 168.099663 49.015385 \nL 178.401202 49.015385 \nL 178.401202 57.378462 \nL 168.099663 57.378462 \nL 168.099663 49.015385 \n\" style=\"fill:#b9d6ea;\"/>\n    <path clip-path=\"url(#p04a59e5fec)\" d=\"M 178.401202 49.015385 \nL 188.70274 49.015385 \nL 188.70274 57.378462 \nL 178.401202 57.378462 \nL 178.401202 49.015385 \n\" style=\"fill:#f7fbff;\"/>\n    <path clip-path=\"url(#p04a59e5fec)\" d=\"M 188.70274 49.015385 \nL 199.004279 49.015385 \nL 199.004279 57.378462 \nL 188.70274 57.378462 \nL 188.70274 49.015385 \n\" style=\"fill:#f7fbff;\"/>\n    <path clip-path=\"url(#p04a59e5fec)\" d=\"M 199.004279 49.015385 \nL 209.305817 49.015385 \nL 209.305817 57.378462 \nL 199.004279 57.378462 \nL 199.004279 49.015385 \n\" style=\"fill:#dceaf6;\"/>\n    <path clip-path=\"url(#p04a59e5fec)\" d=\"M 209.305817 49.015385 \nL 219.607356 49.015385 \nL 219.607356 57.378462 \nL 209.305817 57.378462 \nL 209.305817 49.015385 \n\" style=\"fill:#f6faff;\"/>\n    <path clip-path=\"url(#p04a59e5fec)\" d=\"M 219.607356 49.015385 \nL 229.908894 49.015385 \nL 229.908894 57.378462 \nL 219.607356 57.378462 \nL 219.607356 49.015385 \n\" style=\"fill:#eaf3fb;\"/>\n    <path clip-path=\"url(#p04a59e5fec)\" d=\"M 229.908894 49.015385 \nL 240.210433 49.015385 \nL 240.210433 57.378462 \nL 229.908894 57.378462 \nL 229.908894 49.015385 \n\" style=\"fill:#eef5fc;\"/>\n    <path clip-path=\"url(#p04a59e5fec)\" d=\"M 240.210433 49.015385 \nL 250.511971 49.015385 \nL 250.511971 57.378462 \nL 240.210433 57.378462 \nL 240.210433 49.015385 \n\" style=\"fill:#f7fbff;\"/>\n    <path clip-path=\"url(#p04a59e5fec)\" d=\"M 250.511971 49.015385 \nL 260.81351 49.015385 \nL 260.81351 57.378462 \nL 250.511971 57.378462 \nL 250.511971 49.015385 \n\" style=\"fill:#f7fbff;\"/>\n    <path clip-path=\"url(#p04a59e5fec)\" d=\"M 260.81351 49.015385 \nL 271.115048 49.015385 \nL 271.115048 57.378462 \nL 260.81351 57.378462 \nL 260.81351 49.015385 \n\" style=\"fill:#f7fbff;\"/>\n    <path clip-path=\"url(#p04a59e5fec)\" d=\"M 271.115048 49.015385 \nL 281.416587 49.015385 \nL 281.416587 57.378462 \nL 271.115048 57.378462 \nL 271.115048 49.015385 \n\" style=\"fill:#f6faff;\"/>\n    <path clip-path=\"url(#p04a59e5fec)\" d=\"M 281.416587 49.015385 \nL 291.718125 49.015385 \nL 291.718125 57.378462 \nL 281.416587 57.378462 \nL 281.416587 49.015385 \n\" style=\"fill:#f7fbff;\"/>\n    <path clip-path=\"url(#p04a59e5fec)\" d=\"M 23.878125 57.378462 \nL 34.179663 57.378462 \nL 34.179663 65.741538 \nL 23.878125 65.741538 \nL 23.878125 57.378462 \n\" style=\"fill:#deebf7;\"/>\n    <path clip-path=\"url(#p04a59e5fec)\" d=\"M 34.179663 57.378462 \nL 44.481202 57.378462 \nL 44.481202 65.741538 \nL 34.179663 65.741538 \nL 34.179663 57.378462 \n\" style=\"fill:#f7fbff;\"/>\n    <path clip-path=\"url(#p04a59e5fec)\" d=\"M 44.481202 57.378462 \nL 54.78274 57.378462 \nL 54.78274 65.741538 \nL 44.481202 65.741538 \nL 44.481202 57.378462 \n\" style=\"fill:#f7fbff;\"/>\n    <path clip-path=\"url(#p04a59e5fec)\" d=\"M 54.78274 57.378462 \nL 65.084279 57.378462 \nL 65.084279 65.741538 \nL 54.78274 65.741538 \nL 54.78274 57.378462 \n\" style=\"fill:#f7fbff;\"/>\n    <path clip-path=\"url(#p04a59e5fec)\" d=\"M 65.084279 57.378462 \nL 75.385817 57.378462 \nL 75.385817 65.741538 \nL 65.084279 65.741538 \nL 65.084279 57.378462 \n\" style=\"fill:#c6dbef;\"/>\n    <path clip-path=\"url(#p04a59e5fec)\" d=\"M 75.385817 57.378462 \nL 85.687356 57.378462 \nL 85.687356 65.741538 \nL 75.385817 65.741538 \nL 75.385817 57.378462 \n\" style=\"fill:#f7fbff;\"/>\n    <path clip-path=\"url(#p04a59e5fec)\" d=\"M 85.687356 57.378462 \nL 95.988894 57.378462 \nL 95.988894 65.741538 \nL 85.687356 65.741538 \nL 85.687356 57.378462 \n\" style=\"fill:#f3f8fe;\"/>\n    <path clip-path=\"url(#p04a59e5fec)\" d=\"M 95.988894 57.378462 \nL 106.290433 57.378462 \nL 106.290433 65.741538 \nL 95.988894 65.741538 \nL 95.988894 57.378462 \n\" style=\"fill:#dae8f6;\"/>\n    <path clip-path=\"url(#p04a59e5fec)\" d=\"M 106.290433 57.378462 \nL 116.591971 57.378462 \nL 116.591971 65.741538 \nL 106.290433 65.741538 \nL 106.290433 57.378462 \n\" style=\"fill:#e7f0fa;\"/>\n    <path clip-path=\"url(#p04a59e5fec)\" d=\"M 116.591971 57.378462 \nL 126.89351 57.378462 \nL 126.89351 65.741538 \nL 116.591971 65.741538 \nL 116.591971 57.378462 \n\" style=\"fill:#f7fbff;\"/>\n    <path clip-path=\"url(#p04a59e5fec)\" d=\"M 126.89351 57.378462 \nL 137.195048 57.378462 \nL 137.195048 65.741538 \nL 126.89351 65.741538 \nL 126.89351 57.378462 \n\" style=\"fill:#f7fbff;\"/>\n    <path clip-path=\"url(#p04a59e5fec)\" d=\"M 137.195048 57.378462 \nL 147.496587 57.378462 \nL 147.496587 65.741538 \nL 137.195048 65.741538 \nL 137.195048 57.378462 \n\" style=\"fill:#f2f7fd;\"/>\n    <path clip-path=\"url(#p04a59e5fec)\" d=\"M 147.496587 57.378462 \nL 157.798125 57.378462 \nL 157.798125 65.741538 \nL 147.496587 65.741538 \nL 147.496587 57.378462 \n\" style=\"fill:#f6faff;\"/>\n    <path clip-path=\"url(#p04a59e5fec)\" d=\"M 157.798125 57.378462 \nL 168.099663 57.378462 \nL 168.099663 65.741538 \nL 157.798125 65.741538 \nL 157.798125 57.378462 \n\" style=\"fill:#eef5fc;\"/>\n    <path clip-path=\"url(#p04a59e5fec)\" d=\"M 168.099663 57.378462 \nL 178.401202 57.378462 \nL 178.401202 65.741538 \nL 168.099663 65.741538 \nL 168.099663 57.378462 \n\" style=\"fill:#deebf7;\"/>\n    <path clip-path=\"url(#p04a59e5fec)\" d=\"M 178.401202 57.378462 \nL 188.70274 57.378462 \nL 188.70274 65.741538 \nL 178.401202 65.741538 \nL 178.401202 57.378462 \n\" style=\"fill:#f7fbff;\"/>\n    <path clip-path=\"url(#p04a59e5fec)\" d=\"M 188.70274 57.378462 \nL 199.004279 57.378462 \nL 199.004279 65.741538 \nL 188.70274 65.741538 \nL 188.70274 57.378462 \n\" style=\"fill:#f7fbff;\"/>\n    <path clip-path=\"url(#p04a59e5fec)\" d=\"M 199.004279 57.378462 \nL 209.305817 57.378462 \nL 209.305817 65.741538 \nL 199.004279 65.741538 \nL 199.004279 57.378462 \n\" style=\"fill:#dfecf7;\"/>\n    <path clip-path=\"url(#p04a59e5fec)\" d=\"M 209.305817 57.378462 \nL 219.607356 57.378462 \nL 219.607356 65.741538 \nL 209.305817 65.741538 \nL 209.305817 57.378462 \n\" style=\"fill:#f0f6fd;\"/>\n    <path clip-path=\"url(#p04a59e5fec)\" d=\"M 219.607356 57.378462 \nL 229.908894 57.378462 \nL 229.908894 65.741538 \nL 219.607356 65.741538 \nL 219.607356 57.378462 \n\" style=\"fill:#f5f9fe;\"/>\n    <path clip-path=\"url(#p04a59e5fec)\" d=\"M 229.908894 57.378462 \nL 240.210433 57.378462 \nL 240.210433 65.741538 \nL 229.908894 65.741538 \nL 229.908894 57.378462 \n\" style=\"fill:#ecf4fb;\"/>\n    <path clip-path=\"url(#p04a59e5fec)\" d=\"M 240.210433 57.378462 \nL 250.511971 57.378462 \nL 250.511971 65.741538 \nL 240.210433 65.741538 \nL 240.210433 57.378462 \n\" style=\"fill:#f7fbff;\"/>\n    <path clip-path=\"url(#p04a59e5fec)\" d=\"M 250.511971 57.378462 \nL 260.81351 57.378462 \nL 260.81351 65.741538 \nL 250.511971 65.741538 \nL 250.511971 57.378462 \n\" style=\"fill:#f7fbff;\"/>\n    <path clip-path=\"url(#p04a59e5fec)\" d=\"M 260.81351 57.378462 \nL 271.115048 57.378462 \nL 271.115048 65.741538 \nL 260.81351 65.741538 \nL 260.81351 57.378462 \n\" style=\"fill:#f7fbff;\"/>\n    <path clip-path=\"url(#p04a59e5fec)\" d=\"M 271.115048 57.378462 \nL 281.416587 57.378462 \nL 281.416587 65.741538 \nL 271.115048 65.741538 \nL 271.115048 57.378462 \n\" style=\"fill:#f5f9fe;\"/>\n    <path clip-path=\"url(#p04a59e5fec)\" d=\"M 281.416587 57.378462 \nL 291.718125 57.378462 \nL 291.718125 65.741538 \nL 281.416587 65.741538 \nL 281.416587 57.378462 \n\" style=\"fill:#f7fbff;\"/>\n    <path clip-path=\"url(#p04a59e5fec)\" d=\"M 23.878125 65.741538 \nL 34.179663 65.741538 \nL 34.179663 74.104615 \nL 23.878125 74.104615 \nL 23.878125 65.741538 \n\" style=\"fill:#d0e2f2;\"/>\n    <path clip-path=\"url(#p04a59e5fec)\" d=\"M 34.179663 65.741538 \nL 44.481202 65.741538 \nL 44.481202 74.104615 \nL 34.179663 74.104615 \nL 34.179663 65.741538 \n\" style=\"fill:#f7fbff;\"/>\n    <path clip-path=\"url(#p04a59e5fec)\" d=\"M 44.481202 65.741538 \nL 54.78274 65.741538 \nL 54.78274 74.104615 \nL 44.481202 74.104615 \nL 44.481202 65.741538 \n\" style=\"fill:#f7fbff;\"/>\n    <path clip-path=\"url(#p04a59e5fec)\" d=\"M 54.78274 65.741538 \nL 65.084279 65.741538 \nL 65.084279 74.104615 \nL 54.78274 74.104615 \nL 54.78274 65.741538 \n\" style=\"fill:#f7fbff;\"/>\n    <path clip-path=\"url(#p04a59e5fec)\" d=\"M 65.084279 65.741538 \nL 75.385817 65.741538 \nL 75.385817 74.104615 \nL 65.084279 74.104615 \nL 65.084279 65.741538 \n\" style=\"fill:#57a0ce;\"/>\n    <path clip-path=\"url(#p04a59e5fec)\" d=\"M 75.385817 65.741538 \nL 85.687356 65.741538 \nL 85.687356 74.104615 \nL 75.385817 74.104615 \nL 75.385817 65.741538 \n\" style=\"fill:#f7fbff;\"/>\n    <path clip-path=\"url(#p04a59e5fec)\" d=\"M 85.687356 65.741538 \nL 95.988894 65.741538 \nL 95.988894 74.104615 \nL 85.687356 74.104615 \nL 85.687356 65.741538 \n\" style=\"fill:#f7fbff;\"/>\n    <path clip-path=\"url(#p04a59e5fec)\" d=\"M 95.988894 65.741538 \nL 106.290433 65.741538 \nL 106.290433 74.104615 \nL 95.988894 74.104615 \nL 95.988894 65.741538 \n\" style=\"fill:#f7fbff;\"/>\n    <path clip-path=\"url(#p04a59e5fec)\" d=\"M 106.290433 65.741538 \nL 116.591971 65.741538 \nL 116.591971 74.104615 \nL 106.290433 74.104615 \nL 106.290433 65.741538 \n\" style=\"fill:#dceaf6;\"/>\n    <path clip-path=\"url(#p04a59e5fec)\" d=\"M 116.591971 65.741538 \nL 126.89351 65.741538 \nL 126.89351 74.104615 \nL 116.591971 74.104615 \nL 116.591971 65.741538 \n\" style=\"fill:#f7fbff;\"/>\n    <path clip-path=\"url(#p04a59e5fec)\" d=\"M 126.89351 65.741538 \nL 137.195048 65.741538 \nL 137.195048 74.104615 \nL 126.89351 74.104615 \nL 126.89351 65.741538 \n\" style=\"fill:#f7fbff;\"/>\n    <path clip-path=\"url(#p04a59e5fec)\" d=\"M 137.195048 65.741538 \nL 147.496587 65.741538 \nL 147.496587 74.104615 \nL 137.195048 74.104615 \nL 137.195048 65.741538 \n\" style=\"fill:#f7fbff;\"/>\n    <path clip-path=\"url(#p04a59e5fec)\" d=\"M 147.496587 65.741538 \nL 157.798125 65.741538 \nL 157.798125 74.104615 \nL 147.496587 74.104615 \nL 147.496587 65.741538 \n\" style=\"fill:#f7fbff;\"/>\n    <path clip-path=\"url(#p04a59e5fec)\" d=\"M 157.798125 65.741538 \nL 168.099663 65.741538 \nL 168.099663 74.104615 \nL 157.798125 74.104615 \nL 157.798125 65.741538 \n\" style=\"fill:#f6faff;\"/>\n    <path clip-path=\"url(#p04a59e5fec)\" d=\"M 168.099663 65.741538 \nL 178.401202 65.741538 \nL 178.401202 74.104615 \nL 168.099663 74.104615 \nL 168.099663 65.741538 \n\" style=\"fill:#e3eef9;\"/>\n    <path clip-path=\"url(#p04a59e5fec)\" d=\"M 178.401202 65.741538 \nL 188.70274 65.741538 \nL 188.70274 74.104615 \nL 178.401202 74.104615 \nL 178.401202 65.741538 \n\" style=\"fill:#f7fbff;\"/>\n    <path clip-path=\"url(#p04a59e5fec)\" d=\"M 188.70274 65.741538 \nL 199.004279 65.741538 \nL 199.004279 74.104615 \nL 188.70274 74.104615 \nL 188.70274 65.741538 \n\" style=\"fill:#f7fbff;\"/>\n    <path clip-path=\"url(#p04a59e5fec)\" d=\"M 199.004279 65.741538 \nL 209.305817 65.741538 \nL 209.305817 74.104615 \nL 199.004279 74.104615 \nL 199.004279 65.741538 \n\" style=\"fill:#f4f9fe;\"/>\n    <path clip-path=\"url(#p04a59e5fec)\" d=\"M 209.305817 65.741538 \nL 219.607356 65.741538 \nL 219.607356 74.104615 \nL 209.305817 74.104615 \nL 209.305817 65.741538 \n\" style=\"fill:#f6faff;\"/>\n    <path clip-path=\"url(#p04a59e5fec)\" d=\"M 219.607356 65.741538 \nL 229.908894 65.741538 \nL 229.908894 74.104615 \nL 219.607356 74.104615 \nL 219.607356 65.741538 \n\" style=\"fill:#f2f7fd;\"/>\n    <path clip-path=\"url(#p04a59e5fec)\" d=\"M 229.908894 65.741538 \nL 240.210433 65.741538 \nL 240.210433 74.104615 \nL 229.908894 74.104615 \nL 229.908894 65.741538 \n\" style=\"fill:#f4f9fe;\"/>\n    <path clip-path=\"url(#p04a59e5fec)\" d=\"M 240.210433 65.741538 \nL 250.511971 65.741538 \nL 250.511971 74.104615 \nL 240.210433 74.104615 \nL 240.210433 65.741538 \n\" style=\"fill:#f7fbff;\"/>\n    <path clip-path=\"url(#p04a59e5fec)\" d=\"M 250.511971 65.741538 \nL 260.81351 65.741538 \nL 260.81351 74.104615 \nL 250.511971 74.104615 \nL 250.511971 65.741538 \n\" style=\"fill:#f7fbff;\"/>\n    <path clip-path=\"url(#p04a59e5fec)\" d=\"M 260.81351 65.741538 \nL 271.115048 65.741538 \nL 271.115048 74.104615 \nL 260.81351 74.104615 \nL 260.81351 65.741538 \n\" style=\"fill:#f7fbff;\"/>\n    <path clip-path=\"url(#p04a59e5fec)\" d=\"M 271.115048 65.741538 \nL 281.416587 65.741538 \nL 281.416587 74.104615 \nL 271.115048 74.104615 \nL 271.115048 65.741538 \n\" style=\"fill:#f6faff;\"/>\n    <path clip-path=\"url(#p04a59e5fec)\" d=\"M 281.416587 65.741538 \nL 291.718125 65.741538 \nL 291.718125 74.104615 \nL 281.416587 74.104615 \nL 281.416587 65.741538 \n\" style=\"fill:#f7fbff;\"/>\n    <path clip-path=\"url(#p04a59e5fec)\" d=\"M 23.878125 74.104615 \nL 34.179663 74.104615 \nL 34.179663 82.467692 \nL 23.878125 82.467692 \nL 23.878125 74.104615 \n\" style=\"fill:#eef5fc;\"/>\n    <path clip-path=\"url(#p04a59e5fec)\" d=\"M 34.179663 74.104615 \nL 44.481202 74.104615 \nL 44.481202 82.467692 \nL 34.179663 82.467692 \nL 34.179663 74.104615 \n\" style=\"fill:#f5fafe;\"/>\n    <path clip-path=\"url(#p04a59e5fec)\" d=\"M 44.481202 74.104615 \nL 54.78274 74.104615 \nL 54.78274 82.467692 \nL 44.481202 82.467692 \nL 44.481202 74.104615 \n\" style=\"fill:#e8f1fa;\"/>\n    <path clip-path=\"url(#p04a59e5fec)\" d=\"M 54.78274 74.104615 \nL 65.084279 74.104615 \nL 65.084279 82.467692 \nL 54.78274 82.467692 \nL 54.78274 74.104615 \n\" style=\"fill:#eaf3fb;\"/>\n    <path clip-path=\"url(#p04a59e5fec)\" d=\"M 65.084279 74.104615 \nL 75.385817 74.104615 \nL 75.385817 82.467692 \nL 65.084279 82.467692 \nL 65.084279 74.104615 \n\" style=\"fill:#eff6fc;\"/>\n    <path clip-path=\"url(#p04a59e5fec)\" d=\"M 75.385817 74.104615 \nL 85.687356 74.104615 \nL 85.687356 82.467692 \nL 75.385817 82.467692 \nL 75.385817 74.104615 \n\" style=\"fill:#f4f9fe;\"/>\n    <path clip-path=\"url(#p04a59e5fec)\" d=\"M 85.687356 74.104615 \nL 95.988894 74.104615 \nL 95.988894 82.467692 \nL 85.687356 82.467692 \nL 85.687356 74.104615 \n\" style=\"fill:#f1f7fd;\"/>\n    <path clip-path=\"url(#p04a59e5fec)\" d=\"M 95.988894 74.104615 \nL 106.290433 74.104615 \nL 106.290433 82.467692 \nL 95.988894 82.467692 \nL 95.988894 74.104615 \n\" style=\"fill:#f7fbff;\"/>\n    <path clip-path=\"url(#p04a59e5fec)\" d=\"M 106.290433 74.104615 \nL 116.591971 74.104615 \nL 116.591971 82.467692 \nL 106.290433 82.467692 \nL 106.290433 74.104615 \n\" style=\"fill:#f7fbff;\"/>\n    <path clip-path=\"url(#p04a59e5fec)\" d=\"M 116.591971 74.104615 \nL 126.89351 74.104615 \nL 126.89351 82.467692 \nL 116.591971 82.467692 \nL 116.591971 74.104615 \n\" style=\"fill:#f7fbff;\"/>\n    <path clip-path=\"url(#p04a59e5fec)\" d=\"M 126.89351 74.104615 \nL 137.195048 74.104615 \nL 137.195048 82.467692 \nL 126.89351 82.467692 \nL 126.89351 74.104615 \n\" style=\"fill:#f6faff;\"/>\n    <path clip-path=\"url(#p04a59e5fec)\" d=\"M 137.195048 74.104615 \nL 147.496587 74.104615 \nL 147.496587 82.467692 \nL 137.195048 82.467692 \nL 137.195048 74.104615 \n\" style=\"fill:#eaf3fb;\"/>\n    <path clip-path=\"url(#p04a59e5fec)\" d=\"M 147.496587 74.104615 \nL 157.798125 74.104615 \nL 157.798125 82.467692 \nL 147.496587 82.467692 \nL 147.496587 74.104615 \n\" style=\"fill:#f1f7fd;\"/>\n    <path clip-path=\"url(#p04a59e5fec)\" d=\"M 157.798125 74.104615 \nL 168.099663 74.104615 \nL 168.099663 82.467692 \nL 157.798125 82.467692 \nL 157.798125 74.104615 \n\" style=\"fill:#b7d4ea;\"/>\n    <path clip-path=\"url(#p04a59e5fec)\" d=\"M 168.099663 74.104615 \nL 178.401202 74.104615 \nL 178.401202 82.467692 \nL 168.099663 82.467692 \nL 168.099663 74.104615 \n\" style=\"fill:#e7f1fa;\"/>\n    <path clip-path=\"url(#p04a59e5fec)\" d=\"M 178.401202 74.104615 \nL 188.70274 74.104615 \nL 188.70274 82.467692 \nL 178.401202 82.467692 \nL 178.401202 74.104615 \n\" style=\"fill:#f5fafe;\"/>\n    <path clip-path=\"url(#p04a59e5fec)\" d=\"M 188.70274 74.104615 \nL 199.004279 74.104615 \nL 199.004279 82.467692 \nL 188.70274 82.467692 \nL 188.70274 74.104615 \n\" style=\"fill:#f7fbff;\"/>\n    <path clip-path=\"url(#p04a59e5fec)\" d=\"M 199.004279 74.104615 \nL 209.305817 74.104615 \nL 209.305817 82.467692 \nL 199.004279 82.467692 \nL 199.004279 74.104615 \n\" style=\"fill:#f0f6fd;\"/>\n    <path clip-path=\"url(#p04a59e5fec)\" d=\"M 209.305817 74.104615 \nL 219.607356 74.104615 \nL 219.607356 82.467692 \nL 209.305817 82.467692 \nL 209.305817 74.104615 \n\" style=\"fill:#e1edf8;\"/>\n    <path clip-path=\"url(#p04a59e5fec)\" d=\"M 219.607356 74.104615 \nL 229.908894 74.104615 \nL 229.908894 82.467692 \nL 219.607356 82.467692 \nL 219.607356 74.104615 \n\" style=\"fill:#dfebf7;\"/>\n    <path clip-path=\"url(#p04a59e5fec)\" d=\"M 229.908894 74.104615 \nL 240.210433 74.104615 \nL 240.210433 82.467692 \nL 229.908894 82.467692 \nL 229.908894 74.104615 \n\" style=\"fill:#f7fbff;\"/>\n    <path clip-path=\"url(#p04a59e5fec)\" d=\"M 240.210433 74.104615 \nL 250.511971 74.104615 \nL 250.511971 82.467692 \nL 240.210433 82.467692 \nL 240.210433 74.104615 \n\" style=\"fill:#f2f7fd;\"/>\n    <path clip-path=\"url(#p04a59e5fec)\" d=\"M 250.511971 74.104615 \nL 260.81351 74.104615 \nL 260.81351 82.467692 \nL 250.511971 82.467692 \nL 250.511971 74.104615 \n\" style=\"fill:#f7fbff;\"/>\n    <path clip-path=\"url(#p04a59e5fec)\" d=\"M 260.81351 74.104615 \nL 271.115048 74.104615 \nL 271.115048 82.467692 \nL 260.81351 82.467692 \nL 260.81351 74.104615 \n\" style=\"fill:#f7fbff;\"/>\n    <path clip-path=\"url(#p04a59e5fec)\" d=\"M 271.115048 74.104615 \nL 281.416587 74.104615 \nL 281.416587 82.467692 \nL 271.115048 82.467692 \nL 271.115048 74.104615 \n\" style=\"fill:#f7fbff;\"/>\n    <path clip-path=\"url(#p04a59e5fec)\" d=\"M 281.416587 74.104615 \nL 291.718125 74.104615 \nL 291.718125 82.467692 \nL 281.416587 82.467692 \nL 281.416587 74.104615 \n\" style=\"fill:#f6faff;\"/>\n    <path clip-path=\"url(#p04a59e5fec)\" d=\"M 23.878125 82.467692 \nL 34.179663 82.467692 \nL 34.179663 90.830769 \nL 23.878125 90.830769 \nL 23.878125 82.467692 \n\" style=\"fill:#cde0f1;\"/>\n    <path clip-path=\"url(#p04a59e5fec)\" d=\"M 34.179663 82.467692 \nL 44.481202 82.467692 \nL 44.481202 90.830769 \nL 34.179663 90.830769 \nL 34.179663 82.467692 \n\" style=\"fill:#f7fbff;\"/>\n    <path clip-path=\"url(#p04a59e5fec)\" d=\"M 44.481202 82.467692 \nL 54.78274 82.467692 \nL 54.78274 90.830769 \nL 44.481202 90.830769 \nL 44.481202 82.467692 \n\" style=\"fill:#f7fbff;\"/>\n    <path clip-path=\"url(#p04a59e5fec)\" d=\"M 54.78274 82.467692 \nL 65.084279 82.467692 \nL 65.084279 90.830769 \nL 54.78274 90.830769 \nL 54.78274 82.467692 \n\" style=\"fill:#f7fbff;\"/>\n    <path clip-path=\"url(#p04a59e5fec)\" d=\"M 65.084279 82.467692 \nL 75.385817 82.467692 \nL 75.385817 90.830769 \nL 65.084279 90.830769 \nL 65.084279 82.467692 \n\" style=\"fill:#d6e5f4;\"/>\n    <path clip-path=\"url(#p04a59e5fec)\" d=\"M 75.385817 82.467692 \nL 85.687356 82.467692 \nL 85.687356 90.830769 \nL 75.385817 90.830769 \nL 75.385817 82.467692 \n\" style=\"fill:#f7fbff;\"/>\n    <path clip-path=\"url(#p04a59e5fec)\" d=\"M 85.687356 82.467692 \nL 95.988894 82.467692 \nL 95.988894 90.830769 \nL 85.687356 90.830769 \nL 85.687356 82.467692 \n\" style=\"fill:#f7fbff;\"/>\n    <path clip-path=\"url(#p04a59e5fec)\" d=\"M 95.988894 82.467692 \nL 106.290433 82.467692 \nL 106.290433 90.830769 \nL 95.988894 90.830769 \nL 95.988894 82.467692 \n\" style=\"fill:#f7fbff;\"/>\n    <path clip-path=\"url(#p04a59e5fec)\" d=\"M 106.290433 82.467692 \nL 116.591971 82.467692 \nL 116.591971 90.830769 \nL 106.290433 90.830769 \nL 106.290433 82.467692 \n\" style=\"fill:#ecf4fb;\"/>\n    <path clip-path=\"url(#p04a59e5fec)\" d=\"M 116.591971 82.467692 \nL 126.89351 82.467692 \nL 126.89351 90.830769 \nL 116.591971 90.830769 \nL 116.591971 82.467692 \n\" style=\"fill:#f7fbff;\"/>\n    <path clip-path=\"url(#p04a59e5fec)\" d=\"M 126.89351 82.467692 \nL 137.195048 82.467692 \nL 137.195048 90.830769 \nL 126.89351 90.830769 \nL 126.89351 82.467692 \n\" style=\"fill:#f7fbff;\"/>\n    <path clip-path=\"url(#p04a59e5fec)\" d=\"M 137.195048 82.467692 \nL 147.496587 82.467692 \nL 147.496587 90.830769 \nL 137.195048 90.830769 \nL 137.195048 82.467692 \n\" style=\"fill:#f7fbff;\"/>\n    <path clip-path=\"url(#p04a59e5fec)\" d=\"M 147.496587 82.467692 \nL 157.798125 82.467692 \nL 157.798125 90.830769 \nL 147.496587 90.830769 \nL 147.496587 82.467692 \n\" style=\"fill:#f7fbff;\"/>\n    <path clip-path=\"url(#p04a59e5fec)\" d=\"M 157.798125 82.467692 \nL 168.099663 82.467692 \nL 168.099663 90.830769 \nL 157.798125 90.830769 \nL 157.798125 82.467692 \n\" style=\"fill:#f7fbff;\"/>\n    <path clip-path=\"url(#p04a59e5fec)\" d=\"M 168.099663 82.467692 \nL 178.401202 82.467692 \nL 178.401202 90.830769 \nL 168.099663 90.830769 \nL 168.099663 82.467692 \n\" style=\"fill:#b3d3e8;\"/>\n    <path clip-path=\"url(#p04a59e5fec)\" d=\"M 178.401202 82.467692 \nL 188.70274 82.467692 \nL 188.70274 90.830769 \nL 178.401202 90.830769 \nL 178.401202 82.467692 \n\" style=\"fill:#f6faff;\"/>\n    <path clip-path=\"url(#p04a59e5fec)\" d=\"M 188.70274 82.467692 \nL 199.004279 82.467692 \nL 199.004279 90.830769 \nL 188.70274 90.830769 \nL 188.70274 82.467692 \n\" style=\"fill:#f7fbff;\"/>\n    <path clip-path=\"url(#p04a59e5fec)\" d=\"M 199.004279 82.467692 \nL 209.305817 82.467692 \nL 209.305817 90.830769 \nL 199.004279 90.830769 \nL 199.004279 82.467692 \n\" style=\"fill:#f6faff;\"/>\n    <path clip-path=\"url(#p04a59e5fec)\" d=\"M 209.305817 82.467692 \nL 219.607356 82.467692 \nL 219.607356 90.830769 \nL 209.305817 90.830769 \nL 209.305817 82.467692 \n\" style=\"fill:#f7fbff;\"/>\n    <path clip-path=\"url(#p04a59e5fec)\" d=\"M 219.607356 82.467692 \nL 229.908894 82.467692 \nL 229.908894 90.830769 \nL 219.607356 90.830769 \nL 219.607356 82.467692 \n\" style=\"fill:#f7fbff;\"/>\n    <path clip-path=\"url(#p04a59e5fec)\" d=\"M 229.908894 82.467692 \nL 240.210433 82.467692 \nL 240.210433 90.830769 \nL 229.908894 90.830769 \nL 229.908894 82.467692 \n\" style=\"fill:#b4d3e9;\"/>\n    <path clip-path=\"url(#p04a59e5fec)\" d=\"M 240.210433 82.467692 \nL 250.511971 82.467692 \nL 250.511971 90.830769 \nL 240.210433 90.830769 \nL 240.210433 82.467692 \n\" style=\"fill:#f7fbff;\"/>\n    <path clip-path=\"url(#p04a59e5fec)\" d=\"M 250.511971 82.467692 \nL 260.81351 82.467692 \nL 260.81351 90.830769 \nL 250.511971 90.830769 \nL 250.511971 82.467692 \n\" style=\"fill:#f7fbff;\"/>\n    <path clip-path=\"url(#p04a59e5fec)\" d=\"M 260.81351 82.467692 \nL 271.115048 82.467692 \nL 271.115048 90.830769 \nL 260.81351 90.830769 \nL 260.81351 82.467692 \n\" style=\"fill:#f7fbff;\"/>\n    <path clip-path=\"url(#p04a59e5fec)\" d=\"M 271.115048 82.467692 \nL 281.416587 82.467692 \nL 281.416587 90.830769 \nL 271.115048 90.830769 \nL 271.115048 82.467692 \n\" style=\"fill:#f7fbff;\"/>\n    <path clip-path=\"url(#p04a59e5fec)\" d=\"M 281.416587 82.467692 \nL 291.718125 82.467692 \nL 291.718125 90.830769 \nL 281.416587 90.830769 \nL 281.416587 82.467692 \n\" style=\"fill:#f7fbff;\"/>\n    <path clip-path=\"url(#p04a59e5fec)\" d=\"M 23.878125 90.830769 \nL 34.179663 90.830769 \nL 34.179663 99.193846 \nL 23.878125 99.193846 \nL 23.878125 90.830769 \n\" style=\"fill:#eaf3fb;\"/>\n    <path clip-path=\"url(#p04a59e5fec)\" d=\"M 34.179663 90.830769 \nL 44.481202 90.830769 \nL 44.481202 99.193846 \nL 34.179663 99.193846 \nL 34.179663 90.830769 \n\" style=\"fill:#f7fbff;\"/>\n    <path clip-path=\"url(#p04a59e5fec)\" d=\"M 44.481202 90.830769 \nL 54.78274 90.830769 \nL 54.78274 99.193846 \nL 44.481202 99.193846 \nL 44.481202 90.830769 \n\" style=\"fill:#f7fbff;\"/>\n    <path clip-path=\"url(#p04a59e5fec)\" d=\"M 54.78274 90.830769 \nL 65.084279 90.830769 \nL 65.084279 99.193846 \nL 54.78274 99.193846 \nL 54.78274 90.830769 \n\" style=\"fill:#f7fbff;\"/>\n    <path clip-path=\"url(#p04a59e5fec)\" d=\"M 65.084279 90.830769 \nL 75.385817 90.830769 \nL 75.385817 99.193846 \nL 65.084279 99.193846 \nL 65.084279 90.830769 \n\" style=\"fill:#7ab6d9;\"/>\n    <path clip-path=\"url(#p04a59e5fec)\" d=\"M 75.385817 90.830769 \nL 85.687356 90.830769 \nL 85.687356 99.193846 \nL 75.385817 99.193846 \nL 75.385817 90.830769 \n\" style=\"fill:#f7fbff;\"/>\n    <path clip-path=\"url(#p04a59e5fec)\" d=\"M 85.687356 90.830769 \nL 95.988894 90.830769 \nL 95.988894 99.193846 \nL 85.687356 99.193846 \nL 85.687356 90.830769 \n\" style=\"fill:#f7fbff;\"/>\n    <path clip-path=\"url(#p04a59e5fec)\" d=\"M 95.988894 90.830769 \nL 106.290433 90.830769 \nL 106.290433 99.193846 \nL 95.988894 99.193846 \nL 95.988894 90.830769 \n\" style=\"fill:#f5f9fe;\"/>\n    <path clip-path=\"url(#p04a59e5fec)\" d=\"M 106.290433 90.830769 \nL 116.591971 90.830769 \nL 116.591971 99.193846 \nL 106.290433 99.193846 \nL 106.290433 90.830769 \n\" style=\"fill:#cfe1f2;\"/>\n    <path clip-path=\"url(#p04a59e5fec)\" d=\"M 116.591971 90.830769 \nL 126.89351 90.830769 \nL 126.89351 99.193846 \nL 116.591971 99.193846 \nL 116.591971 90.830769 \n\" style=\"fill:#f7fbff;\"/>\n    <path clip-path=\"url(#p04a59e5fec)\" d=\"M 126.89351 90.830769 \nL 137.195048 90.830769 \nL 137.195048 99.193846 \nL 126.89351 99.193846 \nL 126.89351 90.830769 \n\" style=\"fill:#f7fbff;\"/>\n    <path clip-path=\"url(#p04a59e5fec)\" d=\"M 137.195048 90.830769 \nL 147.496587 90.830769 \nL 147.496587 99.193846 \nL 137.195048 99.193846 \nL 137.195048 90.830769 \n\" style=\"fill:#f2f8fd;\"/>\n    <path clip-path=\"url(#p04a59e5fec)\" d=\"M 147.496587 90.830769 \nL 157.798125 90.830769 \nL 157.798125 99.193846 \nL 147.496587 99.193846 \nL 147.496587 90.830769 \n\" style=\"fill:#f6faff;\"/>\n    <path clip-path=\"url(#p04a59e5fec)\" d=\"M 157.798125 90.830769 \nL 168.099663 90.830769 \nL 168.099663 99.193846 \nL 157.798125 99.193846 \nL 157.798125 90.830769 \n\" style=\"fill:#edf4fc;\"/>\n    <path clip-path=\"url(#p04a59e5fec)\" d=\"M 168.099663 90.830769 \nL 178.401202 90.830769 \nL 178.401202 99.193846 \nL 168.099663 99.193846 \nL 168.099663 90.830769 \n\" style=\"fill:#ecf4fb;\"/>\n    <path clip-path=\"url(#p04a59e5fec)\" d=\"M 178.401202 90.830769 \nL 188.70274 90.830769 \nL 188.70274 99.193846 \nL 178.401202 99.193846 \nL 178.401202 90.830769 \n\" style=\"fill:#f7fbff;\"/>\n    <path clip-path=\"url(#p04a59e5fec)\" d=\"M 188.70274 90.830769 \nL 199.004279 90.830769 \nL 199.004279 99.193846 \nL 188.70274 99.193846 \nL 188.70274 90.830769 \n\" style=\"fill:#f7fbff;\"/>\n    <path clip-path=\"url(#p04a59e5fec)\" d=\"M 199.004279 90.830769 \nL 209.305817 90.830769 \nL 209.305817 99.193846 \nL 199.004279 99.193846 \nL 199.004279 90.830769 \n\" style=\"fill:#f5f9fe;\"/>\n    <path clip-path=\"url(#p04a59e5fec)\" d=\"M 209.305817 90.830769 \nL 219.607356 90.830769 \nL 219.607356 99.193846 \nL 209.305817 99.193846 \nL 209.305817 90.830769 \n\" style=\"fill:#dfebf7;\"/>\n    <path clip-path=\"url(#p04a59e5fec)\" d=\"M 219.607356 90.830769 \nL 229.908894 90.830769 \nL 229.908894 99.193846 \nL 219.607356 99.193846 \nL 219.607356 90.830769 \n\" style=\"fill:#f6faff;\"/>\n    <path clip-path=\"url(#p04a59e5fec)\" d=\"M 229.908894 90.830769 \nL 240.210433 90.830769 \nL 240.210433 99.193846 \nL 229.908894 99.193846 \nL 229.908894 90.830769 \n\" style=\"fill:#f4f9fe;\"/>\n    <path clip-path=\"url(#p04a59e5fec)\" d=\"M 240.210433 90.830769 \nL 250.511971 90.830769 \nL 250.511971 99.193846 \nL 240.210433 99.193846 \nL 240.210433 90.830769 \n\" style=\"fill:#f7fbff;\"/>\n    <path clip-path=\"url(#p04a59e5fec)\" d=\"M 250.511971 90.830769 \nL 260.81351 90.830769 \nL 260.81351 99.193846 \nL 250.511971 99.193846 \nL 250.511971 90.830769 \n\" style=\"fill:#f7fbff;\"/>\n    <path clip-path=\"url(#p04a59e5fec)\" d=\"M 260.81351 90.830769 \nL 271.115048 90.830769 \nL 271.115048 99.193846 \nL 260.81351 99.193846 \nL 260.81351 90.830769 \n\" style=\"fill:#f7fbff;\"/>\n    <path clip-path=\"url(#p04a59e5fec)\" d=\"M 271.115048 90.830769 \nL 281.416587 90.830769 \nL 281.416587 99.193846 \nL 271.115048 99.193846 \nL 271.115048 90.830769 \n\" style=\"fill:#f3f8fe;\"/>\n    <path clip-path=\"url(#p04a59e5fec)\" d=\"M 281.416587 90.830769 \nL 291.718125 90.830769 \nL 291.718125 99.193846 \nL 281.416587 99.193846 \nL 281.416587 90.830769 \n\" style=\"fill:#f7fbff;\"/>\n    <path clip-path=\"url(#p04a59e5fec)\" d=\"M 23.878125 99.193846 \nL 34.179663 99.193846 \nL 34.179663 107.556923 \nL 23.878125 107.556923 \nL 23.878125 99.193846 \n\" style=\"fill:#dae8f6;\"/>\n    <path clip-path=\"url(#p04a59e5fec)\" d=\"M 34.179663 99.193846 \nL 44.481202 99.193846 \nL 44.481202 107.556923 \nL 34.179663 107.556923 \nL 34.179663 99.193846 \n\" style=\"fill:#f7fbff;\"/>\n    <path clip-path=\"url(#p04a59e5fec)\" d=\"M 44.481202 99.193846 \nL 54.78274 99.193846 \nL 54.78274 107.556923 \nL 44.481202 107.556923 \nL 44.481202 99.193846 \n\" style=\"fill:#f7fbff;\"/>\n    <path clip-path=\"url(#p04a59e5fec)\" d=\"M 54.78274 99.193846 \nL 65.084279 99.193846 \nL 65.084279 107.556923 \nL 54.78274 107.556923 \nL 54.78274 99.193846 \n\" style=\"fill:#e9f2fa;\"/>\n    <path clip-path=\"url(#p04a59e5fec)\" d=\"M 65.084279 99.193846 \nL 75.385817 99.193846 \nL 75.385817 107.556923 \nL 65.084279 107.556923 \nL 65.084279 99.193846 \n\" style=\"fill:#cfe1f2;\"/>\n    <path clip-path=\"url(#p04a59e5fec)\" d=\"M 75.385817 99.193846 \nL 85.687356 99.193846 \nL 85.687356 107.556923 \nL 75.385817 107.556923 \nL 75.385817 99.193846 \n\" style=\"fill:#f5fafe;\"/>\n    <path clip-path=\"url(#p04a59e5fec)\" d=\"M 85.687356 99.193846 \nL 95.988894 99.193846 \nL 95.988894 107.556923 \nL 85.687356 107.556923 \nL 85.687356 99.193846 \n\" style=\"fill:#f7fbff;\"/>\n    <path clip-path=\"url(#p04a59e5fec)\" d=\"M 95.988894 99.193846 \nL 106.290433 99.193846 \nL 106.290433 107.556923 \nL 95.988894 107.556923 \nL 95.988894 99.193846 \n\" style=\"fill:#f7fbff;\"/>\n    <path clip-path=\"url(#p04a59e5fec)\" d=\"M 106.290433 99.193846 \nL 116.591971 99.193846 \nL 116.591971 107.556923 \nL 106.290433 107.556923 \nL 106.290433 99.193846 \n\" style=\"fill:#d5e5f4;\"/>\n    <path clip-path=\"url(#p04a59e5fec)\" d=\"M 116.591971 99.193846 \nL 126.89351 99.193846 \nL 126.89351 107.556923 \nL 116.591971 107.556923 \nL 116.591971 99.193846 \n\" style=\"fill:#f7fbff;\"/>\n    <path clip-path=\"url(#p04a59e5fec)\" d=\"M 126.89351 99.193846 \nL 137.195048 99.193846 \nL 137.195048 107.556923 \nL 126.89351 107.556923 \nL 126.89351 99.193846 \n\" style=\"fill:#f5fafe;\"/>\n    <path clip-path=\"url(#p04a59e5fec)\" d=\"M 137.195048 99.193846 \nL 147.496587 99.193846 \nL 147.496587 107.556923 \nL 137.195048 107.556923 \nL 137.195048 99.193846 \n\" style=\"fill:#d6e6f4;\"/>\n    <path clip-path=\"url(#p04a59e5fec)\" d=\"M 147.496587 99.193846 \nL 157.798125 99.193846 \nL 157.798125 107.556923 \nL 147.496587 107.556923 \nL 147.496587 99.193846 \n\" style=\"fill:#f6faff;\"/>\n    <path clip-path=\"url(#p04a59e5fec)\" d=\"M 157.798125 99.193846 \nL 168.099663 99.193846 \nL 168.099663 107.556923 \nL 157.798125 107.556923 \nL 157.798125 99.193846 \n\" style=\"fill:#f7fbff;\"/>\n    <path clip-path=\"url(#p04a59e5fec)\" d=\"M 168.099663 99.193846 \nL 178.401202 99.193846 \nL 178.401202 107.556923 \nL 168.099663 107.556923 \nL 168.099663 99.193846 \n\" style=\"fill:#e5eff9;\"/>\n    <path clip-path=\"url(#p04a59e5fec)\" d=\"M 178.401202 99.193846 \nL 188.70274 99.193846 \nL 188.70274 107.556923 \nL 178.401202 107.556923 \nL 178.401202 99.193846 \n\" style=\"fill:#f6faff;\"/>\n    <path clip-path=\"url(#p04a59e5fec)\" d=\"M 188.70274 99.193846 \nL 199.004279 99.193846 \nL 199.004279 107.556923 \nL 188.70274 107.556923 \nL 188.70274 99.193846 \n\" style=\"fill:#f7fbff;\"/>\n    <path clip-path=\"url(#p04a59e5fec)\" d=\"M 199.004279 99.193846 \nL 209.305817 99.193846 \nL 209.305817 107.556923 \nL 199.004279 107.556923 \nL 199.004279 99.193846 \n\" style=\"fill:#f6faff;\"/>\n    <path clip-path=\"url(#p04a59e5fec)\" d=\"M 209.305817 99.193846 \nL 219.607356 99.193846 \nL 219.607356 107.556923 \nL 209.305817 107.556923 \nL 209.305817 99.193846 \n\" style=\"fill:#eef5fc;\"/>\n    <path clip-path=\"url(#p04a59e5fec)\" d=\"M 219.607356 99.193846 \nL 229.908894 99.193846 \nL 229.908894 107.556923 \nL 219.607356 107.556923 \nL 219.607356 99.193846 \n\" style=\"fill:#f2f8fd;\"/>\n    <path clip-path=\"url(#p04a59e5fec)\" d=\"M 229.908894 99.193846 \nL 240.210433 99.193846 \nL 240.210433 107.556923 \nL 229.908894 107.556923 \nL 229.908894 99.193846 \n\" style=\"fill:#f2f8fd;\"/>\n    <path clip-path=\"url(#p04a59e5fec)\" d=\"M 240.210433 99.193846 \nL 250.511971 99.193846 \nL 250.511971 107.556923 \nL 240.210433 107.556923 \nL 240.210433 99.193846 \n\" style=\"fill:#f6faff;\"/>\n    <path clip-path=\"url(#p04a59e5fec)\" d=\"M 250.511971 99.193846 \nL 260.81351 99.193846 \nL 260.81351 107.556923 \nL 250.511971 107.556923 \nL 250.511971 99.193846 \n\" style=\"fill:#f7fbff;\"/>\n    <path clip-path=\"url(#p04a59e5fec)\" d=\"M 260.81351 99.193846 \nL 271.115048 99.193846 \nL 271.115048 107.556923 \nL 260.81351 107.556923 \nL 260.81351 99.193846 \n\" style=\"fill:#f7fbff;\"/>\n    <path clip-path=\"url(#p04a59e5fec)\" d=\"M 271.115048 99.193846 \nL 281.416587 99.193846 \nL 281.416587 107.556923 \nL 271.115048 107.556923 \nL 271.115048 99.193846 \n\" style=\"fill:#e7f0fa;\"/>\n    <path clip-path=\"url(#p04a59e5fec)\" d=\"M 281.416587 99.193846 \nL 291.718125 99.193846 \nL 291.718125 107.556923 \nL 281.416587 107.556923 \nL 281.416587 99.193846 \n\" style=\"fill:#f7fbff;\"/>\n    <path clip-path=\"url(#p04a59e5fec)\" d=\"M 23.878125 107.556923 \nL 34.179663 107.556923 \nL 34.179663 115.92 \nL 23.878125 115.92 \nL 23.878125 107.556923 \n\" style=\"fill:#cddff1;\"/>\n    <path clip-path=\"url(#p04a59e5fec)\" d=\"M 34.179663 107.556923 \nL 44.481202 107.556923 \nL 44.481202 115.92 \nL 34.179663 115.92 \nL 34.179663 107.556923 \n\" style=\"fill:#eff6fc;\"/>\n    <path clip-path=\"url(#p04a59e5fec)\" d=\"M 44.481202 107.556923 \nL 54.78274 107.556923 \nL 54.78274 115.92 \nL 44.481202 115.92 \nL 44.481202 107.556923 \n\" style=\"fill:#f6faff;\"/>\n    <path clip-path=\"url(#p04a59e5fec)\" d=\"M 54.78274 107.556923 \nL 65.084279 107.556923 \nL 65.084279 115.92 \nL 54.78274 115.92 \nL 54.78274 107.556923 \n\" style=\"fill:#f7fbff;\"/>\n    <path clip-path=\"url(#p04a59e5fec)\" d=\"M 65.084279 107.556923 \nL 75.385817 107.556923 \nL 75.385817 115.92 \nL 65.084279 115.92 \nL 65.084279 107.556923 \n\" style=\"fill:#b4d3e9;\"/>\n    <path clip-path=\"url(#p04a59e5fec)\" d=\"M 75.385817 107.556923 \nL 85.687356 107.556923 \nL 85.687356 115.92 \nL 75.385817 115.92 \nL 75.385817 107.556923 \n\" style=\"fill:#f7fbff;\"/>\n    <path clip-path=\"url(#p04a59e5fec)\" d=\"M 85.687356 107.556923 \nL 95.988894 107.556923 \nL 95.988894 115.92 \nL 85.687356 115.92 \nL 85.687356 107.556923 \n\" style=\"fill:#f7fbff;\"/>\n    <path clip-path=\"url(#p04a59e5fec)\" d=\"M 95.988894 107.556923 \nL 106.290433 107.556923 \nL 106.290433 115.92 \nL 95.988894 115.92 \nL 95.988894 107.556923 \n\" style=\"fill:#f7fbff;\"/>\n    <path clip-path=\"url(#p04a59e5fec)\" d=\"M 106.290433 107.556923 \nL 116.591971 107.556923 \nL 116.591971 115.92 \nL 106.290433 115.92 \nL 106.290433 107.556923 \n\" style=\"fill:#d8e7f5;\"/>\n    <path clip-path=\"url(#p04a59e5fec)\" d=\"M 116.591971 107.556923 \nL 126.89351 107.556923 \nL 126.89351 115.92 \nL 116.591971 115.92 \nL 116.591971 107.556923 \n\" style=\"fill:#f7fbff;\"/>\n    <path clip-path=\"url(#p04a59e5fec)\" d=\"M 126.89351 107.556923 \nL 137.195048 107.556923 \nL 137.195048 115.92 \nL 126.89351 115.92 \nL 126.89351 107.556923 \n\" style=\"fill:#f7fbff;\"/>\n    <path clip-path=\"url(#p04a59e5fec)\" d=\"M 137.195048 107.556923 \nL 147.496587 107.556923 \nL 147.496587 115.92 \nL 137.195048 115.92 \nL 137.195048 107.556923 \n\" style=\"fill:#f7fbff;\"/>\n    <path clip-path=\"url(#p04a59e5fec)\" d=\"M 147.496587 107.556923 \nL 157.798125 107.556923 \nL 157.798125 115.92 \nL 147.496587 115.92 \nL 147.496587 107.556923 \n\" style=\"fill:#f0f6fd;\"/>\n    <path clip-path=\"url(#p04a59e5fec)\" d=\"M 157.798125 107.556923 \nL 168.099663 107.556923 \nL 168.099663 115.92 \nL 157.798125 115.92 \nL 157.798125 107.556923 \n\" style=\"fill:#f7fbff;\"/>\n    <path clip-path=\"url(#p04a59e5fec)\" d=\"M 168.099663 107.556923 \nL 178.401202 107.556923 \nL 178.401202 115.92 \nL 168.099663 115.92 \nL 168.099663 107.556923 \n\" style=\"fill:#dce9f6;\"/>\n    <path clip-path=\"url(#p04a59e5fec)\" d=\"M 178.401202 107.556923 \nL 188.70274 107.556923 \nL 188.70274 115.92 \nL 178.401202 115.92 \nL 178.401202 107.556923 \n\" style=\"fill:#e6f0f9;\"/>\n    <path clip-path=\"url(#p04a59e5fec)\" d=\"M 188.70274 107.556923 \nL 199.004279 107.556923 \nL 199.004279 115.92 \nL 188.70274 115.92 \nL 188.70274 107.556923 \n\" style=\"fill:#f7fbff;\"/>\n    <path clip-path=\"url(#p04a59e5fec)\" d=\"M 199.004279 107.556923 \nL 209.305817 107.556923 \nL 209.305817 115.92 \nL 199.004279 115.92 \nL 199.004279 107.556923 \n\" style=\"fill:#f7fbff;\"/>\n    <path clip-path=\"url(#p04a59e5fec)\" d=\"M 209.305817 107.556923 \nL 219.607356 107.556923 \nL 219.607356 115.92 \nL 209.305817 115.92 \nL 209.305817 107.556923 \n\" style=\"fill:#f1f7fd;\"/>\n    <path clip-path=\"url(#p04a59e5fec)\" d=\"M 219.607356 107.556923 \nL 229.908894 107.556923 \nL 229.908894 115.92 \nL 219.607356 115.92 \nL 219.607356 107.556923 \n\" style=\"fill:#f7fbff;\"/>\n    <path clip-path=\"url(#p04a59e5fec)\" d=\"M 229.908894 107.556923 \nL 240.210433 107.556923 \nL 240.210433 115.92 \nL 229.908894 115.92 \nL 229.908894 107.556923 \n\" style=\"fill:#f0f6fd;\"/>\n    <path clip-path=\"url(#p04a59e5fec)\" d=\"M 240.210433 107.556923 \nL 250.511971 107.556923 \nL 250.511971 115.92 \nL 240.210433 115.92 \nL 240.210433 107.556923 \n\" style=\"fill:#f7fbff;\"/>\n    <path clip-path=\"url(#p04a59e5fec)\" d=\"M 250.511971 107.556923 \nL 260.81351 107.556923 \nL 260.81351 115.92 \nL 250.511971 115.92 \nL 250.511971 107.556923 \n\" style=\"fill:#f7fbff;\"/>\n    <path clip-path=\"url(#p04a59e5fec)\" d=\"M 260.81351 107.556923 \nL 271.115048 107.556923 \nL 271.115048 115.92 \nL 260.81351 115.92 \nL 260.81351 107.556923 \n\" style=\"fill:#f7fbff;\"/>\n    <path clip-path=\"url(#p04a59e5fec)\" d=\"M 271.115048 107.556923 \nL 281.416587 107.556923 \nL 281.416587 115.92 \nL 271.115048 115.92 \nL 271.115048 107.556923 \n\" style=\"fill:#f4f9fe;\"/>\n    <path clip-path=\"url(#p04a59e5fec)\" d=\"M 281.416587 107.556923 \nL 291.718125 107.556923 \nL 291.718125 115.92 \nL 281.416587 115.92 \nL 281.416587 107.556923 \n\" style=\"fill:#f7fbff;\"/>\n    <path clip-path=\"url(#p04a59e5fec)\" d=\"M 23.878125 115.92 \nL 34.179663 115.92 \nL 34.179663 124.283077 \nL 23.878125 124.283077 \nL 23.878125 115.92 \n\" style=\"fill:#eaf3fb;\"/>\n    <path clip-path=\"url(#p04a59e5fec)\" d=\"M 34.179663 115.92 \nL 44.481202 115.92 \nL 44.481202 124.283077 \nL 34.179663 124.283077 \nL 34.179663 115.92 \n\" style=\"fill:#f7fbff;\"/>\n    <path clip-path=\"url(#p04a59e5fec)\" d=\"M 44.481202 115.92 \nL 54.78274 115.92 \nL 54.78274 124.283077 \nL 44.481202 124.283077 \nL 44.481202 115.92 \n\" style=\"fill:#ebf3fb;\"/>\n    <path clip-path=\"url(#p04a59e5fec)\" d=\"M 54.78274 115.92 \nL 65.084279 115.92 \nL 65.084279 124.283077 \nL 54.78274 124.283077 \nL 54.78274 115.92 \n\" style=\"fill:#d3e3f3;\"/>\n    <path clip-path=\"url(#p04a59e5fec)\" d=\"M 65.084279 115.92 \nL 75.385817 115.92 \nL 75.385817 124.283077 \nL 65.084279 124.283077 \nL 65.084279 115.92 \n\" style=\"fill:#dfecf7;\"/>\n    <path clip-path=\"url(#p04a59e5fec)\" d=\"M 75.385817 115.92 \nL 85.687356 115.92 \nL 85.687356 124.283077 \nL 75.385817 124.283077 \nL 75.385817 115.92 \n\" style=\"fill:#f5fafe;\"/>\n    <path clip-path=\"url(#p04a59e5fec)\" d=\"M 85.687356 115.92 \nL 95.988894 115.92 \nL 95.988894 124.283077 \nL 85.687356 124.283077 \nL 85.687356 115.92 \n\" style=\"fill:#d6e5f4;\"/>\n    <path clip-path=\"url(#p04a59e5fec)\" d=\"M 95.988894 115.92 \nL 106.290433 115.92 \nL 106.290433 124.283077 \nL 95.988894 124.283077 \nL 95.988894 115.92 \n\" style=\"fill:#f7fbff;\"/>\n    <path clip-path=\"url(#p04a59e5fec)\" d=\"M 106.290433 115.92 \nL 116.591971 115.92 \nL 116.591971 124.283077 \nL 106.290433 124.283077 \nL 106.290433 115.92 \n\" style=\"fill:#eaf3fb;\"/>\n    <path clip-path=\"url(#p04a59e5fec)\" d=\"M 116.591971 115.92 \nL 126.89351 115.92 \nL 126.89351 124.283077 \nL 116.591971 124.283077 \nL 116.591971 115.92 \n\" style=\"fill:#f7fbff;\"/>\n    <path clip-path=\"url(#p04a59e5fec)\" d=\"M 126.89351 115.92 \nL 137.195048 115.92 \nL 137.195048 124.283077 \nL 126.89351 124.283077 \nL 126.89351 115.92 \n\" style=\"fill:#f5f9fe;\"/>\n    <path clip-path=\"url(#p04a59e5fec)\" d=\"M 137.195048 115.92 \nL 147.496587 115.92 \nL 147.496587 124.283077 \nL 137.195048 124.283077 \nL 137.195048 115.92 \n\" style=\"fill:#f5fafe;\"/>\n    <path clip-path=\"url(#p04a59e5fec)\" d=\"M 147.496587 115.92 \nL 157.798125 115.92 \nL 157.798125 124.283077 \nL 147.496587 124.283077 \nL 147.496587 115.92 \n\" style=\"fill:#f5fafe;\"/>\n    <path clip-path=\"url(#p04a59e5fec)\" d=\"M 157.798125 115.92 \nL 168.099663 115.92 \nL 168.099663 124.283077 \nL 157.798125 124.283077 \nL 157.798125 115.92 \n\" style=\"fill:#f4f9fe;\"/>\n    <path clip-path=\"url(#p04a59e5fec)\" d=\"M 168.099663 115.92 \nL 178.401202 115.92 \nL 178.401202 124.283077 \nL 168.099663 124.283077 \nL 168.099663 115.92 \n\" style=\"fill:#eaf3fb;\"/>\n    <path clip-path=\"url(#p04a59e5fec)\" d=\"M 178.401202 115.92 \nL 188.70274 115.92 \nL 188.70274 124.283077 \nL 178.401202 124.283077 \nL 178.401202 115.92 \n\" style=\"fill:#f7fbff;\"/>\n    <path clip-path=\"url(#p04a59e5fec)\" d=\"M 188.70274 115.92 \nL 199.004279 115.92 \nL 199.004279 124.283077 \nL 188.70274 124.283077 \nL 188.70274 115.92 \n\" style=\"fill:#f7fbff;\"/>\n    <path clip-path=\"url(#p04a59e5fec)\" d=\"M 199.004279 115.92 \nL 209.305817 115.92 \nL 209.305817 124.283077 \nL 199.004279 124.283077 \nL 199.004279 115.92 \n\" style=\"fill:#f7fbff;\"/>\n    <path clip-path=\"url(#p04a59e5fec)\" d=\"M 209.305817 115.92 \nL 219.607356 115.92 \nL 219.607356 124.283077 \nL 209.305817 124.283077 \nL 209.305817 115.92 \n\" style=\"fill:#e7f1fa;\"/>\n    <path clip-path=\"url(#p04a59e5fec)\" d=\"M 219.607356 115.92 \nL 229.908894 115.92 \nL 229.908894 124.283077 \nL 219.607356 124.283077 \nL 219.607356 115.92 \n\" style=\"fill:#d6e5f4;\"/>\n    <path clip-path=\"url(#p04a59e5fec)\" d=\"M 229.908894 115.92 \nL 240.210433 115.92 \nL 240.210433 124.283077 \nL 229.908894 124.283077 \nL 229.908894 115.92 \n\" style=\"fill:#f5f9fe;\"/>\n    <path clip-path=\"url(#p04a59e5fec)\" d=\"M 240.210433 115.92 \nL 250.511971 115.92 \nL 250.511971 124.283077 \nL 240.210433 124.283077 \nL 240.210433 115.92 \n\" style=\"fill:#f5fafe;\"/>\n    <path clip-path=\"url(#p04a59e5fec)\" d=\"M 250.511971 115.92 \nL 260.81351 115.92 \nL 260.81351 124.283077 \nL 250.511971 124.283077 \nL 250.511971 115.92 \n\" style=\"fill:#f7fbff;\"/>\n    <path clip-path=\"url(#p04a59e5fec)\" d=\"M 260.81351 115.92 \nL 271.115048 115.92 \nL 271.115048 124.283077 \nL 260.81351 124.283077 \nL 260.81351 115.92 \n\" style=\"fill:#f7fbff;\"/>\n    <path clip-path=\"url(#p04a59e5fec)\" d=\"M 271.115048 115.92 \nL 281.416587 115.92 \nL 281.416587 124.283077 \nL 271.115048 124.283077 \nL 271.115048 115.92 \n\" style=\"fill:#f4f9fe;\"/>\n    <path clip-path=\"url(#p04a59e5fec)\" d=\"M 281.416587 115.92 \nL 291.718125 115.92 \nL 291.718125 124.283077 \nL 281.416587 124.283077 \nL 281.416587 115.92 \n\" style=\"fill:#f7fbff;\"/>\n    <path clip-path=\"url(#p04a59e5fec)\" d=\"M 23.878125 124.283077 \nL 34.179663 124.283077 \nL 34.179663 132.646154 \nL 23.878125 132.646154 \nL 23.878125 124.283077 \n\" style=\"fill:#f5fafe;\"/>\n    <path clip-path=\"url(#p04a59e5fec)\" d=\"M 34.179663 124.283077 \nL 44.481202 124.283077 \nL 44.481202 132.646154 \nL 34.179663 132.646154 \nL 34.179663 124.283077 \n\" style=\"fill:#f5fafe;\"/>\n    <path clip-path=\"url(#p04a59e5fec)\" d=\"M 44.481202 124.283077 \nL 54.78274 124.283077 \nL 54.78274 132.646154 \nL 44.481202 132.646154 \nL 44.481202 124.283077 \n\" style=\"fill:#f3f8fe;\"/>\n    <path clip-path=\"url(#p04a59e5fec)\" d=\"M 54.78274 124.283077 \nL 65.084279 124.283077 \nL 65.084279 132.646154 \nL 54.78274 132.646154 \nL 54.78274 124.283077 \n\" style=\"fill:#f4f9fe;\"/>\n    <path clip-path=\"url(#p04a59e5fec)\" d=\"M 65.084279 124.283077 \nL 75.385817 124.283077 \nL 75.385817 132.646154 \nL 65.084279 132.646154 \nL 65.084279 124.283077 \n\" style=\"fill:#f6faff;\"/>\n    <path clip-path=\"url(#p04a59e5fec)\" d=\"M 75.385817 124.283077 \nL 85.687356 124.283077 \nL 85.687356 132.646154 \nL 75.385817 132.646154 \nL 75.385817 124.283077 \n\" style=\"fill:#e1edf8;\"/>\n    <path clip-path=\"url(#p04a59e5fec)\" d=\"M 85.687356 124.283077 \nL 95.988894 124.283077 \nL 95.988894 132.646154 \nL 85.687356 132.646154 \nL 85.687356 124.283077 \n\" style=\"fill:#f5fafe;\"/>\n    <path clip-path=\"url(#p04a59e5fec)\" d=\"M 95.988894 124.283077 \nL 106.290433 124.283077 \nL 106.290433 132.646154 \nL 95.988894 132.646154 \nL 95.988894 124.283077 \n\" style=\"fill:#f7fbff;\"/>\n    <path clip-path=\"url(#p04a59e5fec)\" d=\"M 106.290433 124.283077 \nL 116.591971 124.283077 \nL 116.591971 132.646154 \nL 106.290433 132.646154 \nL 106.290433 124.283077 \n\" style=\"fill:#f5f9fe;\"/>\n    <path clip-path=\"url(#p04a59e5fec)\" d=\"M 116.591971 124.283077 \nL 126.89351 124.283077 \nL 126.89351 132.646154 \nL 116.591971 132.646154 \nL 116.591971 124.283077 \n\" style=\"fill:#f7fbff;\"/>\n    <path clip-path=\"url(#p04a59e5fec)\" d=\"M 126.89351 124.283077 \nL 137.195048 124.283077 \nL 137.195048 132.646154 \nL 126.89351 132.646154 \nL 126.89351 124.283077 \n\" style=\"fill:#f5fafe;\"/>\n    <path clip-path=\"url(#p04a59e5fec)\" d=\"M 137.195048 124.283077 \nL 147.496587 124.283077 \nL 147.496587 132.646154 \nL 137.195048 132.646154 \nL 137.195048 124.283077 \n\" style=\"fill:#eef5fc;\"/>\n    <path clip-path=\"url(#p04a59e5fec)\" d=\"M 147.496587 124.283077 \nL 157.798125 124.283077 \nL 157.798125 132.646154 \nL 147.496587 132.646154 \nL 147.496587 124.283077 \n\" style=\"fill:#e8f1fa;\"/>\n    <path clip-path=\"url(#p04a59e5fec)\" d=\"M 157.798125 124.283077 \nL 168.099663 124.283077 \nL 168.099663 132.646154 \nL 157.798125 132.646154 \nL 157.798125 124.283077 \n\" style=\"fill:#cadef0;\"/>\n    <path clip-path=\"url(#p04a59e5fec)\" d=\"M 168.099663 124.283077 \nL 178.401202 124.283077 \nL 178.401202 132.646154 \nL 168.099663 132.646154 \nL 168.099663 124.283077 \n\" style=\"fill:#f2f7fd;\"/>\n    <path clip-path=\"url(#p04a59e5fec)\" d=\"M 178.401202 124.283077 \nL 188.70274 124.283077 \nL 188.70274 132.646154 \nL 178.401202 132.646154 \nL 178.401202 124.283077 \n\" style=\"fill:#f1f7fd;\"/>\n    <path clip-path=\"url(#p04a59e5fec)\" d=\"M 188.70274 124.283077 \nL 199.004279 124.283077 \nL 199.004279 132.646154 \nL 188.70274 132.646154 \nL 188.70274 124.283077 \n\" style=\"fill:#f7fbff;\"/>\n    <path clip-path=\"url(#p04a59e5fec)\" d=\"M 199.004279 124.283077 \nL 209.305817 124.283077 \nL 209.305817 132.646154 \nL 199.004279 132.646154 \nL 199.004279 124.283077 \n\" style=\"fill:#d6e5f4;\"/>\n    <path clip-path=\"url(#p04a59e5fec)\" d=\"M 209.305817 124.283077 \nL 219.607356 124.283077 \nL 219.607356 132.646154 \nL 209.305817 132.646154 \nL 209.305817 124.283077 \n\" style=\"fill:#eef5fc;\"/>\n    <path clip-path=\"url(#p04a59e5fec)\" d=\"M 219.607356 124.283077 \nL 229.908894 124.283077 \nL 229.908894 132.646154 \nL 219.607356 132.646154 \nL 219.607356 124.283077 \n\" style=\"fill:#edf4fc;\"/>\n    <path clip-path=\"url(#p04a59e5fec)\" d=\"M 229.908894 124.283077 \nL 240.210433 124.283077 \nL 240.210433 132.646154 \nL 229.908894 132.646154 \nL 229.908894 124.283077 \n\" style=\"fill:#e1edf8;\"/>\n    <path clip-path=\"url(#p04a59e5fec)\" d=\"M 240.210433 124.283077 \nL 250.511971 124.283077 \nL 250.511971 132.646154 \nL 240.210433 132.646154 \nL 240.210433 124.283077 \n\" style=\"fill:#f2f7fd;\"/>\n    <path clip-path=\"url(#p04a59e5fec)\" d=\"M 250.511971 124.283077 \nL 260.81351 124.283077 \nL 260.81351 132.646154 \nL 250.511971 132.646154 \nL 250.511971 124.283077 \n\" style=\"fill:#eff6fc;\"/>\n    <path clip-path=\"url(#p04a59e5fec)\" d=\"M 260.81351 124.283077 \nL 271.115048 124.283077 \nL 271.115048 132.646154 \nL 260.81351 132.646154 \nL 260.81351 124.283077 \n\" style=\"fill:#f7fbff;\"/>\n    <path clip-path=\"url(#p04a59e5fec)\" d=\"M 271.115048 124.283077 \nL 281.416587 124.283077 \nL 281.416587 132.646154 \nL 271.115048 132.646154 \nL 271.115048 124.283077 \n\" style=\"fill:#f6faff;\"/>\n    <path clip-path=\"url(#p04a59e5fec)\" d=\"M 281.416587 124.283077 \nL 291.718125 124.283077 \nL 291.718125 132.646154 \nL 281.416587 132.646154 \nL 281.416587 124.283077 \n\" style=\"fill:#f7fbff;\"/>\n    <path clip-path=\"url(#p04a59e5fec)\" d=\"M 23.878125 132.646154 \nL 34.179663 132.646154 \nL 34.179663 141.009231 \nL 23.878125 141.009231 \nL 23.878125 132.646154 \n\" style=\"fill:#d8e7f5;\"/>\n    <path clip-path=\"url(#p04a59e5fec)\" d=\"M 34.179663 132.646154 \nL 44.481202 132.646154 \nL 44.481202 141.009231 \nL 34.179663 141.009231 \nL 34.179663 132.646154 \n\" style=\"fill:#f7fbff;\"/>\n    <path clip-path=\"url(#p04a59e5fec)\" d=\"M 44.481202 132.646154 \nL 54.78274 132.646154 \nL 54.78274 141.009231 \nL 44.481202 141.009231 \nL 44.481202 132.646154 \n\" style=\"fill:#f7fbff;\"/>\n    <path clip-path=\"url(#p04a59e5fec)\" d=\"M 54.78274 132.646154 \nL 65.084279 132.646154 \nL 65.084279 141.009231 \nL 54.78274 141.009231 \nL 54.78274 132.646154 \n\" style=\"fill:#f7fbff;\"/>\n    <path clip-path=\"url(#p04a59e5fec)\" d=\"M 65.084279 132.646154 \nL 75.385817 132.646154 \nL 75.385817 141.009231 \nL 65.084279 141.009231 \nL 65.084279 132.646154 \n\" style=\"fill:#cddff1;\"/>\n    <path clip-path=\"url(#p04a59e5fec)\" d=\"M 75.385817 132.646154 \nL 85.687356 132.646154 \nL 85.687356 141.009231 \nL 75.385817 141.009231 \nL 75.385817 132.646154 \n\" style=\"fill:#f7fbff;\"/>\n    <path clip-path=\"url(#p04a59e5fec)\" d=\"M 85.687356 132.646154 \nL 95.988894 132.646154 \nL 95.988894 141.009231 \nL 85.687356 141.009231 \nL 85.687356 132.646154 \n\" style=\"fill:#f7fbff;\"/>\n    <path clip-path=\"url(#p04a59e5fec)\" d=\"M 95.988894 132.646154 \nL 106.290433 132.646154 \nL 106.290433 141.009231 \nL 95.988894 141.009231 \nL 95.988894 132.646154 \n\" style=\"fill:#f2f8fd;\"/>\n    <path clip-path=\"url(#p04a59e5fec)\" d=\"M 106.290433 132.646154 \nL 116.591971 132.646154 \nL 116.591971 141.009231 \nL 106.290433 141.009231 \nL 106.290433 132.646154 \n\" style=\"fill:#ecf4fb;\"/>\n    <path clip-path=\"url(#p04a59e5fec)\" d=\"M 116.591971 132.646154 \nL 126.89351 132.646154 \nL 126.89351 141.009231 \nL 116.591971 141.009231 \nL 116.591971 132.646154 \n\" style=\"fill:#f7fbff;\"/>\n    <path clip-path=\"url(#p04a59e5fec)\" d=\"M 126.89351 132.646154 \nL 137.195048 132.646154 \nL 137.195048 141.009231 \nL 126.89351 141.009231 \nL 126.89351 132.646154 \n\" style=\"fill:#f7fbff;\"/>\n    <path clip-path=\"url(#p04a59e5fec)\" d=\"M 137.195048 132.646154 \nL 147.496587 132.646154 \nL 147.496587 141.009231 \nL 137.195048 141.009231 \nL 137.195048 132.646154 \n\" style=\"fill:#e1edf8;\"/>\n    <path clip-path=\"url(#p04a59e5fec)\" d=\"M 147.496587 132.646154 \nL 157.798125 132.646154 \nL 157.798125 141.009231 \nL 147.496587 141.009231 \nL 147.496587 132.646154 \n\" style=\"fill:#f6faff;\"/>\n    <path clip-path=\"url(#p04a59e5fec)\" d=\"M 157.798125 132.646154 \nL 168.099663 132.646154 \nL 168.099663 141.009231 \nL 157.798125 141.009231 \nL 157.798125 132.646154 \n\" style=\"fill:#f7fbff;\"/>\n    <path clip-path=\"url(#p04a59e5fec)\" d=\"M 168.099663 132.646154 \nL 178.401202 132.646154 \nL 178.401202 141.009231 \nL 168.099663 141.009231 \nL 168.099663 132.646154 \n\" style=\"fill:#d7e6f5;\"/>\n    <path clip-path=\"url(#p04a59e5fec)\" d=\"M 178.401202 132.646154 \nL 188.70274 132.646154 \nL 188.70274 141.009231 \nL 178.401202 141.009231 \nL 178.401202 132.646154 \n\" style=\"fill:#ecf4fb;\"/>\n    <path clip-path=\"url(#p04a59e5fec)\" d=\"M 188.70274 132.646154 \nL 199.004279 132.646154 \nL 199.004279 141.009231 \nL 188.70274 141.009231 \nL 188.70274 132.646154 \n\" style=\"fill:#f7fbff;\"/>\n    <path clip-path=\"url(#p04a59e5fec)\" d=\"M 199.004279 132.646154 \nL 209.305817 132.646154 \nL 209.305817 141.009231 \nL 199.004279 141.009231 \nL 199.004279 132.646154 \n\" style=\"fill:#d3e4f3;\"/>\n    <path clip-path=\"url(#p04a59e5fec)\" d=\"M 209.305817 132.646154 \nL 219.607356 132.646154 \nL 219.607356 141.009231 \nL 209.305817 141.009231 \nL 209.305817 132.646154 \n\" style=\"fill:#f2f8fd;\"/>\n    <path clip-path=\"url(#p04a59e5fec)\" d=\"M 219.607356 132.646154 \nL 229.908894 132.646154 \nL 229.908894 141.009231 \nL 219.607356 141.009231 \nL 219.607356 132.646154 \n\" style=\"fill:#f1f7fd;\"/>\n    <path clip-path=\"url(#p04a59e5fec)\" d=\"M 229.908894 132.646154 \nL 240.210433 132.646154 \nL 240.210433 141.009231 \nL 229.908894 141.009231 \nL 229.908894 132.646154 \n\" style=\"fill:#eef5fc;\"/>\n    <path clip-path=\"url(#p04a59e5fec)\" d=\"M 240.210433 132.646154 \nL 250.511971 132.646154 \nL 250.511971 141.009231 \nL 240.210433 141.009231 \nL 240.210433 132.646154 \n\" style=\"fill:#f7fbff;\"/>\n    <path clip-path=\"url(#p04a59e5fec)\" d=\"M 250.511971 132.646154 \nL 260.81351 132.646154 \nL 260.81351 141.009231 \nL 250.511971 141.009231 \nL 250.511971 132.646154 \n\" style=\"fill:#f7fbff;\"/>\n    <path clip-path=\"url(#p04a59e5fec)\" d=\"M 260.81351 132.646154 \nL 271.115048 132.646154 \nL 271.115048 141.009231 \nL 260.81351 141.009231 \nL 260.81351 132.646154 \n\" style=\"fill:#f7fbff;\"/>\n    <path clip-path=\"url(#p04a59e5fec)\" d=\"M 271.115048 132.646154 \nL 281.416587 132.646154 \nL 281.416587 141.009231 \nL 271.115048 141.009231 \nL 271.115048 132.646154 \n\" style=\"fill:#f7fbff;\"/>\n    <path clip-path=\"url(#p04a59e5fec)\" d=\"M 281.416587 132.646154 \nL 291.718125 132.646154 \nL 291.718125 141.009231 \nL 281.416587 141.009231 \nL 281.416587 132.646154 \n\" style=\"fill:#f7fbff;\"/>\n    <path clip-path=\"url(#p04a59e5fec)\" d=\"M 23.878125 141.009231 \nL 34.179663 141.009231 \nL 34.179663 149.372308 \nL 23.878125 149.372308 \nL 23.878125 141.009231 \n\" style=\"fill:#f2f8fd;\"/>\n    <path clip-path=\"url(#p04a59e5fec)\" d=\"M 34.179663 141.009231 \nL 44.481202 141.009231 \nL 44.481202 149.372308 \nL 34.179663 149.372308 \nL 34.179663 141.009231 \n\" style=\"fill:#f7fbff;\"/>\n    <path clip-path=\"url(#p04a59e5fec)\" d=\"M 44.481202 141.009231 \nL 54.78274 141.009231 \nL 54.78274 149.372308 \nL 44.481202 149.372308 \nL 44.481202 141.009231 \n\" style=\"fill:#f7fbff;\"/>\n    <path clip-path=\"url(#p04a59e5fec)\" d=\"M 54.78274 141.009231 \nL 65.084279 141.009231 \nL 65.084279 149.372308 \nL 54.78274 149.372308 \nL 54.78274 141.009231 \n\" style=\"fill:#f7fbff;\"/>\n    <path clip-path=\"url(#p04a59e5fec)\" d=\"M 65.084279 141.009231 \nL 75.385817 141.009231 \nL 75.385817 149.372308 \nL 65.084279 149.372308 \nL 65.084279 141.009231 \n\" style=\"fill:#f7fbff;\"/>\n    <path clip-path=\"url(#p04a59e5fec)\" d=\"M 75.385817 141.009231 \nL 85.687356 141.009231 \nL 85.687356 149.372308 \nL 75.385817 149.372308 \nL 75.385817 141.009231 \n\" style=\"fill:#f7fbff;\"/>\n    <path clip-path=\"url(#p04a59e5fec)\" d=\"M 85.687356 141.009231 \nL 95.988894 141.009231 \nL 95.988894 149.372308 \nL 85.687356 149.372308 \nL 85.687356 141.009231 \n\" style=\"fill:#f7fbff;\"/>\n    <path clip-path=\"url(#p04a59e5fec)\" d=\"M 95.988894 141.009231 \nL 106.290433 141.009231 \nL 106.290433 149.372308 \nL 95.988894 149.372308 \nL 95.988894 141.009231 \n\" style=\"fill:#f7fbff;\"/>\n    <path clip-path=\"url(#p04a59e5fec)\" d=\"M 106.290433 141.009231 \nL 116.591971 141.009231 \nL 116.591971 149.372308 \nL 106.290433 149.372308 \nL 106.290433 141.009231 \n\" style=\"fill:#eff6fc;\"/>\n    <path clip-path=\"url(#p04a59e5fec)\" d=\"M 116.591971 141.009231 \nL 126.89351 141.009231 \nL 126.89351 149.372308 \nL 116.591971 149.372308 \nL 116.591971 141.009231 \n\" style=\"fill:#f7fbff;\"/>\n    <path clip-path=\"url(#p04a59e5fec)\" d=\"M 126.89351 141.009231 \nL 137.195048 141.009231 \nL 137.195048 149.372308 \nL 126.89351 149.372308 \nL 126.89351 141.009231 \n\" style=\"fill:#f7fbff;\"/>\n    <path clip-path=\"url(#p04a59e5fec)\" d=\"M 137.195048 141.009231 \nL 147.496587 141.009231 \nL 147.496587 149.372308 \nL 137.195048 149.372308 \nL 137.195048 141.009231 \n\" style=\"fill:#f7fbff;\"/>\n    <path clip-path=\"url(#p04a59e5fec)\" d=\"M 147.496587 141.009231 \nL 157.798125 141.009231 \nL 157.798125 149.372308 \nL 147.496587 149.372308 \nL 147.496587 141.009231 \n\" style=\"fill:#f7fbff;\"/>\n    <path clip-path=\"url(#p04a59e5fec)\" d=\"M 157.798125 141.009231 \nL 168.099663 141.009231 \nL 168.099663 149.372308 \nL 157.798125 149.372308 \nL 157.798125 141.009231 \n\" style=\"fill:#f7fbff;\"/>\n    <path clip-path=\"url(#p04a59e5fec)\" d=\"M 168.099663 141.009231 \nL 178.401202 141.009231 \nL 178.401202 149.372308 \nL 168.099663 149.372308 \nL 168.099663 141.009231 \n\" style=\"fill:#f7fbff;\"/>\n    <path clip-path=\"url(#p04a59e5fec)\" d=\"M 178.401202 141.009231 \nL 188.70274 141.009231 \nL 188.70274 149.372308 \nL 178.401202 149.372308 \nL 178.401202 141.009231 \n\" style=\"fill:#f7fbff;\"/>\n    <path clip-path=\"url(#p04a59e5fec)\" d=\"M 188.70274 141.009231 \nL 199.004279 141.009231 \nL 199.004279 149.372308 \nL 188.70274 149.372308 \nL 188.70274 141.009231 \n\" style=\"fill:#f7fbff;\"/>\n    <path clip-path=\"url(#p04a59e5fec)\" d=\"M 199.004279 141.009231 \nL 209.305817 141.009231 \nL 209.305817 149.372308 \nL 199.004279 149.372308 \nL 199.004279 141.009231 \n\" style=\"fill:#f7fbff;\"/>\n    <path clip-path=\"url(#p04a59e5fec)\" d=\"M 209.305817 141.009231 \nL 219.607356 141.009231 \nL 219.607356 149.372308 \nL 209.305817 149.372308 \nL 209.305817 141.009231 \n\" style=\"fill:#f5fafe;\"/>\n    <path clip-path=\"url(#p04a59e5fec)\" d=\"M 219.607356 141.009231 \nL 229.908894 141.009231 \nL 229.908894 149.372308 \nL 219.607356 149.372308 \nL 219.607356 141.009231 \n\" style=\"fill:#f7fbff;\"/>\n    <path clip-path=\"url(#p04a59e5fec)\" d=\"M 229.908894 141.009231 \nL 240.210433 141.009231 \nL 240.210433 149.372308 \nL 229.908894 149.372308 \nL 229.908894 141.009231 \n\" style=\"fill:#08306b;\"/>\n    <path clip-path=\"url(#p04a59e5fec)\" d=\"M 240.210433 141.009231 \nL 250.511971 141.009231 \nL 250.511971 149.372308 \nL 240.210433 149.372308 \nL 240.210433 141.009231 \n\" style=\"fill:#f7fbff;\"/>\n    <path clip-path=\"url(#p04a59e5fec)\" d=\"M 250.511971 141.009231 \nL 260.81351 141.009231 \nL 260.81351 149.372308 \nL 250.511971 149.372308 \nL 250.511971 141.009231 \n\" style=\"fill:#f7fbff;\"/>\n    <path clip-path=\"url(#p04a59e5fec)\" d=\"M 260.81351 141.009231 \nL 271.115048 141.009231 \nL 271.115048 149.372308 \nL 260.81351 149.372308 \nL 260.81351 141.009231 \n\" style=\"fill:#f7fbff;\"/>\n    <path clip-path=\"url(#p04a59e5fec)\" d=\"M 271.115048 141.009231 \nL 281.416587 141.009231 \nL 281.416587 149.372308 \nL 271.115048 149.372308 \nL 271.115048 141.009231 \n\" style=\"fill:#f7fbff;\"/>\n    <path clip-path=\"url(#p04a59e5fec)\" d=\"M 281.416587 141.009231 \nL 291.718125 141.009231 \nL 291.718125 149.372308 \nL 281.416587 149.372308 \nL 281.416587 141.009231 \n\" style=\"fill:#f7fbff;\"/>\n    <path clip-path=\"url(#p04a59e5fec)\" d=\"M 23.878125 149.372308 \nL 34.179663 149.372308 \nL 34.179663 157.735385 \nL 23.878125 157.735385 \nL 23.878125 149.372308 \n\" style=\"fill:#e1edf8;\"/>\n    <path clip-path=\"url(#p04a59e5fec)\" d=\"M 34.179663 149.372308 \nL 44.481202 149.372308 \nL 44.481202 157.735385 \nL 34.179663 157.735385 \nL 34.179663 149.372308 \n\" style=\"fill:#f6faff;\"/>\n    <path clip-path=\"url(#p04a59e5fec)\" d=\"M 44.481202 149.372308 \nL 54.78274 149.372308 \nL 54.78274 157.735385 \nL 44.481202 157.735385 \nL 44.481202 149.372308 \n\" style=\"fill:#f2f8fd;\"/>\n    <path clip-path=\"url(#p04a59e5fec)\" d=\"M 54.78274 149.372308 \nL 65.084279 149.372308 \nL 65.084279 157.735385 \nL 54.78274 157.735385 \nL 54.78274 149.372308 \n\" style=\"fill:#f1f7fd;\"/>\n    <path clip-path=\"url(#p04a59e5fec)\" d=\"M 65.084279 149.372308 \nL 75.385817 149.372308 \nL 75.385817 157.735385 \nL 65.084279 157.735385 \nL 65.084279 149.372308 \n\" style=\"fill:#bad6eb;\"/>\n    <path clip-path=\"url(#p04a59e5fec)\" d=\"M 75.385817 149.372308 \nL 85.687356 149.372308 \nL 85.687356 157.735385 \nL 75.385817 157.735385 \nL 75.385817 149.372308 \n\" style=\"fill:#f7fbff;\"/>\n    <path clip-path=\"url(#p04a59e5fec)\" d=\"M 85.687356 149.372308 \nL 95.988894 149.372308 \nL 95.988894 157.735385 \nL 85.687356 157.735385 \nL 85.687356 149.372308 \n\" style=\"fill:#f4f9fe;\"/>\n    <path clip-path=\"url(#p04a59e5fec)\" d=\"M 95.988894 149.372308 \nL 106.290433 149.372308 \nL 106.290433 157.735385 \nL 95.988894 157.735385 \nL 95.988894 149.372308 \n\" style=\"fill:#f7fbff;\"/>\n    <path clip-path=\"url(#p04a59e5fec)\" d=\"M 106.290433 149.372308 \nL 116.591971 149.372308 \nL 116.591971 157.735385 \nL 106.290433 157.735385 \nL 106.290433 149.372308 \n\" style=\"fill:#dfecf7;\"/>\n    <path clip-path=\"url(#p04a59e5fec)\" d=\"M 116.591971 149.372308 \nL 126.89351 149.372308 \nL 126.89351 157.735385 \nL 116.591971 157.735385 \nL 116.591971 149.372308 \n\" style=\"fill:#f7fbff;\"/>\n    <path clip-path=\"url(#p04a59e5fec)\" d=\"M 126.89351 149.372308 \nL 137.195048 149.372308 \nL 137.195048 157.735385 \nL 126.89351 157.735385 \nL 126.89351 149.372308 \n\" style=\"fill:#f3f8fe;\"/>\n    <path clip-path=\"url(#p04a59e5fec)\" d=\"M 137.195048 149.372308 \nL 147.496587 149.372308 \nL 147.496587 157.735385 \nL 137.195048 157.735385 \nL 137.195048 149.372308 \n\" style=\"fill:#f4f9fe;\"/>\n    <path clip-path=\"url(#p04a59e5fec)\" d=\"M 147.496587 149.372308 \nL 157.798125 149.372308 \nL 157.798125 157.735385 \nL 147.496587 157.735385 \nL 147.496587 149.372308 \n\" style=\"fill:#f2f8fd;\"/>\n    <path clip-path=\"url(#p04a59e5fec)\" d=\"M 157.798125 149.372308 \nL 168.099663 149.372308 \nL 168.099663 157.735385 \nL 157.798125 157.735385 \nL 157.798125 149.372308 \n\" style=\"fill:#f0f6fd;\"/>\n    <path clip-path=\"url(#p04a59e5fec)\" d=\"M 168.099663 149.372308 \nL 178.401202 149.372308 \nL 178.401202 157.735385 \nL 168.099663 157.735385 \nL 168.099663 149.372308 \n\" style=\"fill:#dfebf7;\"/>\n    <path clip-path=\"url(#p04a59e5fec)\" d=\"M 178.401202 149.372308 \nL 188.70274 149.372308 \nL 188.70274 157.735385 \nL 178.401202 157.735385 \nL 178.401202 149.372308 \n\" style=\"fill:#f6faff;\"/>\n    <path clip-path=\"url(#p04a59e5fec)\" d=\"M 188.70274 149.372308 \nL 199.004279 149.372308 \nL 199.004279 157.735385 \nL 188.70274 157.735385 \nL 188.70274 149.372308 \n\" style=\"fill:#f7fbff;\"/>\n    <path clip-path=\"url(#p04a59e5fec)\" d=\"M 199.004279 149.372308 \nL 209.305817 149.372308 \nL 209.305817 157.735385 \nL 199.004279 157.735385 \nL 199.004279 149.372308 \n\" style=\"fill:#f3f8fe;\"/>\n    <path clip-path=\"url(#p04a59e5fec)\" d=\"M 209.305817 149.372308 \nL 219.607356 149.372308 \nL 219.607356 157.735385 \nL 209.305817 157.735385 \nL 209.305817 149.372308 \n\" style=\"fill:#e6f0f9;\"/>\n    <path clip-path=\"url(#p04a59e5fec)\" d=\"M 219.607356 149.372308 \nL 229.908894 149.372308 \nL 229.908894 157.735385 \nL 219.607356 157.735385 \nL 219.607356 149.372308 \n\" style=\"fill:#eaf3fb;\"/>\n    <path clip-path=\"url(#p04a59e5fec)\" d=\"M 229.908894 149.372308 \nL 240.210433 149.372308 \nL 240.210433 157.735385 \nL 229.908894 157.735385 \nL 229.908894 149.372308 \n\" style=\"fill:#f2f8fd;\"/>\n    <path clip-path=\"url(#p04a59e5fec)\" d=\"M 240.210433 149.372308 \nL 250.511971 149.372308 \nL 250.511971 157.735385 \nL 240.210433 157.735385 \nL 240.210433 149.372308 \n\" style=\"fill:#f5fafe;\"/>\n    <path clip-path=\"url(#p04a59e5fec)\" d=\"M 250.511971 149.372308 \nL 260.81351 149.372308 \nL 260.81351 157.735385 \nL 250.511971 157.735385 \nL 250.511971 149.372308 \n\" style=\"fill:#f7fbff;\"/>\n    <path clip-path=\"url(#p04a59e5fec)\" d=\"M 260.81351 149.372308 \nL 271.115048 149.372308 \nL 271.115048 157.735385 \nL 260.81351 157.735385 \nL 260.81351 149.372308 \n\" style=\"fill:#f7fbff;\"/>\n    <path clip-path=\"url(#p04a59e5fec)\" d=\"M 271.115048 149.372308 \nL 281.416587 149.372308 \nL 281.416587 157.735385 \nL 271.115048 157.735385 \nL 271.115048 149.372308 \n\" style=\"fill:#f0f6fd;\"/>\n    <path clip-path=\"url(#p04a59e5fec)\" d=\"M 281.416587 149.372308 \nL 291.718125 149.372308 \nL 291.718125 157.735385 \nL 281.416587 157.735385 \nL 281.416587 149.372308 \n\" style=\"fill:#f7fbff;\"/>\n    <path clip-path=\"url(#p04a59e5fec)\" d=\"M 23.878125 157.735385 \nL 34.179663 157.735385 \nL 34.179663 166.098462 \nL 23.878125 166.098462 \nL 23.878125 157.735385 \n\" style=\"fill:#e3eef8;\"/>\n    <path clip-path=\"url(#p04a59e5fec)\" d=\"M 34.179663 157.735385 \nL 44.481202 157.735385 \nL 44.481202 166.098462 \nL 34.179663 166.098462 \nL 34.179663 157.735385 \n\" style=\"fill:#f7fbff;\"/>\n    <path clip-path=\"url(#p04a59e5fec)\" d=\"M 44.481202 157.735385 \nL 54.78274 157.735385 \nL 54.78274 166.098462 \nL 44.481202 166.098462 \nL 44.481202 157.735385 \n\" style=\"fill:#f2f7fd;\"/>\n    <path clip-path=\"url(#p04a59e5fec)\" d=\"M 54.78274 157.735385 \nL 65.084279 157.735385 \nL 65.084279 166.098462 \nL 54.78274 166.098462 \nL 54.78274 157.735385 \n\" style=\"fill:#f5f9fe;\"/>\n    <path clip-path=\"url(#p04a59e5fec)\" d=\"M 65.084279 157.735385 \nL 75.385817 157.735385 \nL 75.385817 166.098462 \nL 65.084279 166.098462 \nL 65.084279 157.735385 \n\" style=\"fill:#d3e4f3;\"/>\n    <path clip-path=\"url(#p04a59e5fec)\" d=\"M 75.385817 157.735385 \nL 85.687356 157.735385 \nL 85.687356 166.098462 \nL 75.385817 166.098462 \nL 75.385817 157.735385 \n\" style=\"fill:#f7fbff;\"/>\n    <path clip-path=\"url(#p04a59e5fec)\" d=\"M 85.687356 157.735385 \nL 95.988894 157.735385 \nL 95.988894 166.098462 \nL 85.687356 166.098462 \nL 85.687356 157.735385 \n\" style=\"fill:#f7fbff;\"/>\n    <path clip-path=\"url(#p04a59e5fec)\" d=\"M 95.988894 157.735385 \nL 106.290433 157.735385 \nL 106.290433 166.098462 \nL 95.988894 166.098462 \nL 95.988894 157.735385 \n\" style=\"fill:#e9f2fa;\"/>\n    <path clip-path=\"url(#p04a59e5fec)\" d=\"M 106.290433 157.735385 \nL 116.591971 157.735385 \nL 116.591971 166.098462 \nL 106.290433 166.098462 \nL 106.290433 157.735385 \n\" style=\"fill:#e0ecf8;\"/>\n    <path clip-path=\"url(#p04a59e5fec)\" d=\"M 116.591971 157.735385 \nL 126.89351 157.735385 \nL 126.89351 166.098462 \nL 116.591971 166.098462 \nL 116.591971 157.735385 \n\" style=\"fill:#f7fbff;\"/>\n    <path clip-path=\"url(#p04a59e5fec)\" d=\"M 126.89351 157.735385 \nL 137.195048 157.735385 \nL 137.195048 166.098462 \nL 126.89351 166.098462 \nL 126.89351 157.735385 \n\" style=\"fill:#f5fafe;\"/>\n    <path clip-path=\"url(#p04a59e5fec)\" d=\"M 137.195048 157.735385 \nL 147.496587 157.735385 \nL 147.496587 166.098462 \nL 137.195048 166.098462 \nL 137.195048 157.735385 \n\" style=\"fill:#f5f9fe;\"/>\n    <path clip-path=\"url(#p04a59e5fec)\" d=\"M 147.496587 157.735385 \nL 157.798125 157.735385 \nL 157.798125 166.098462 \nL 147.496587 166.098462 \nL 147.496587 157.735385 \n\" style=\"fill:#f5f9fe;\"/>\n    <path clip-path=\"url(#p04a59e5fec)\" d=\"M 157.798125 157.735385 \nL 168.099663 157.735385 \nL 168.099663 166.098462 \nL 157.798125 166.098462 \nL 157.798125 157.735385 \n\" style=\"fill:#f6faff;\"/>\n    <path clip-path=\"url(#p04a59e5fec)\" d=\"M 168.099663 157.735385 \nL 178.401202 157.735385 \nL 178.401202 166.098462 \nL 168.099663 166.098462 \nL 168.099663 157.735385 \n\" style=\"fill:#e7f1fa;\"/>\n    <path clip-path=\"url(#p04a59e5fec)\" d=\"M 178.401202 157.735385 \nL 188.70274 157.735385 \nL 188.70274 166.098462 \nL 178.401202 166.098462 \nL 178.401202 157.735385 \n\" style=\"fill:#eff6fc;\"/>\n    <path clip-path=\"url(#p04a59e5fec)\" d=\"M 188.70274 157.735385 \nL 199.004279 157.735385 \nL 199.004279 166.098462 \nL 188.70274 166.098462 \nL 188.70274 157.735385 \n\" style=\"fill:#f7fbff;\"/>\n    <path clip-path=\"url(#p04a59e5fec)\" d=\"M 199.004279 157.735385 \nL 209.305817 157.735385 \nL 209.305817 166.098462 \nL 199.004279 166.098462 \nL 199.004279 157.735385 \n\" style=\"fill:#f6faff;\"/>\n    <path clip-path=\"url(#p04a59e5fec)\" d=\"M 209.305817 157.735385 \nL 219.607356 157.735385 \nL 219.607356 166.098462 \nL 209.305817 166.098462 \nL 209.305817 157.735385 \n\" style=\"fill:#e8f1fa;\"/>\n    <path clip-path=\"url(#p04a59e5fec)\" d=\"M 219.607356 157.735385 \nL 229.908894 157.735385 \nL 229.908894 166.098462 \nL 219.607356 166.098462 \nL 219.607356 157.735385 \n\" style=\"fill:#c4daee;\"/>\n    <path clip-path=\"url(#p04a59e5fec)\" d=\"M 229.908894 157.735385 \nL 240.210433 157.735385 \nL 240.210433 166.098462 \nL 229.908894 166.098462 \nL 229.908894 157.735385 \n\" style=\"fill:#ecf4fb;\"/>\n    <path clip-path=\"url(#p04a59e5fec)\" d=\"M 240.210433 157.735385 \nL 250.511971 157.735385 \nL 250.511971 166.098462 \nL 240.210433 166.098462 \nL 240.210433 157.735385 \n\" style=\"fill:#f7fbff;\"/>\n    <path clip-path=\"url(#p04a59e5fec)\" d=\"M 250.511971 157.735385 \nL 260.81351 157.735385 \nL 260.81351 166.098462 \nL 250.511971 166.098462 \nL 250.511971 157.735385 \n\" style=\"fill:#f6faff;\"/>\n    <path clip-path=\"url(#p04a59e5fec)\" d=\"M 260.81351 157.735385 \nL 271.115048 157.735385 \nL 271.115048 166.098462 \nL 260.81351 166.098462 \nL 260.81351 157.735385 \n\" style=\"fill:#f7fbff;\"/>\n    <path clip-path=\"url(#p04a59e5fec)\" d=\"M 271.115048 157.735385 \nL 281.416587 157.735385 \nL 281.416587 166.098462 \nL 271.115048 166.098462 \nL 271.115048 157.735385 \n\" style=\"fill:#f5fafe;\"/>\n    <path clip-path=\"url(#p04a59e5fec)\" d=\"M 281.416587 157.735385 \nL 291.718125 157.735385 \nL 291.718125 166.098462 \nL 281.416587 166.098462 \nL 281.416587 157.735385 \n\" style=\"fill:#f7fbff;\"/>\n    <path clip-path=\"url(#p04a59e5fec)\" d=\"M 23.878125 166.098462 \nL 34.179663 166.098462 \nL 34.179663 174.461538 \nL 23.878125 174.461538 \nL 23.878125 166.098462 \n\" style=\"fill:#eaf2fb;\"/>\n    <path clip-path=\"url(#p04a59e5fec)\" d=\"M 34.179663 166.098462 \nL 44.481202 166.098462 \nL 44.481202 174.461538 \nL 34.179663 174.461538 \nL 34.179663 166.098462 \n\" style=\"fill:#f7fbff;\"/>\n    <path clip-path=\"url(#p04a59e5fec)\" d=\"M 44.481202 166.098462 \nL 54.78274 166.098462 \nL 54.78274 174.461538 \nL 44.481202 174.461538 \nL 44.481202 166.098462 \n\" style=\"fill:#f6faff;\"/>\n    <path clip-path=\"url(#p04a59e5fec)\" d=\"M 54.78274 166.098462 \nL 65.084279 166.098462 \nL 65.084279 174.461538 \nL 54.78274 174.461538 \nL 54.78274 166.098462 \n\" style=\"fill:#f7fbff;\"/>\n    <path clip-path=\"url(#p04a59e5fec)\" d=\"M 65.084279 166.098462 \nL 75.385817 166.098462 \nL 75.385817 174.461538 \nL 65.084279 174.461538 \nL 65.084279 166.098462 \n\" style=\"fill:#dae8f6;\"/>\n    <path clip-path=\"url(#p04a59e5fec)\" d=\"M 75.385817 166.098462 \nL 85.687356 166.098462 \nL 85.687356 174.461538 \nL 75.385817 174.461538 \nL 75.385817 166.098462 \n\" style=\"fill:#f7fbff;\"/>\n    <path clip-path=\"url(#p04a59e5fec)\" d=\"M 85.687356 166.098462 \nL 95.988894 166.098462 \nL 95.988894 174.461538 \nL 85.687356 174.461538 \nL 85.687356 166.098462 \n\" style=\"fill:#f7fbff;\"/>\n    <path clip-path=\"url(#p04a59e5fec)\" d=\"M 95.988894 166.098462 \nL 106.290433 166.098462 \nL 106.290433 174.461538 \nL 95.988894 174.461538 \nL 95.988894 166.098462 \n\" style=\"fill:#9cc9e1;\"/>\n    <path clip-path=\"url(#p04a59e5fec)\" d=\"M 106.290433 166.098462 \nL 116.591971 166.098462 \nL 116.591971 174.461538 \nL 106.290433 174.461538 \nL 106.290433 166.098462 \n\" style=\"fill:#dceaf6;\"/>\n    <path clip-path=\"url(#p04a59e5fec)\" d=\"M 116.591971 166.098462 \nL 126.89351 166.098462 \nL 126.89351 174.461538 \nL 116.591971 174.461538 \nL 116.591971 166.098462 \n\" style=\"fill:#f7fbff;\"/>\n    <path clip-path=\"url(#p04a59e5fec)\" d=\"M 126.89351 166.098462 \nL 137.195048 166.098462 \nL 137.195048 174.461538 \nL 126.89351 174.461538 \nL 126.89351 166.098462 \n\" style=\"fill:#f7fbff;\"/>\n    <path clip-path=\"url(#p04a59e5fec)\" d=\"M 137.195048 166.098462 \nL 147.496587 166.098462 \nL 147.496587 174.461538 \nL 137.195048 174.461538 \nL 137.195048 166.098462 \n\" style=\"fill:#f5fafe;\"/>\n    <path clip-path=\"url(#p04a59e5fec)\" d=\"M 147.496587 166.098462 \nL 157.798125 166.098462 \nL 157.798125 174.461538 \nL 147.496587 174.461538 \nL 147.496587 166.098462 \n\" style=\"fill:#f6faff;\"/>\n    <path clip-path=\"url(#p04a59e5fec)\" d=\"M 157.798125 166.098462 \nL 168.099663 166.098462 \nL 168.099663 174.461538 \nL 157.798125 174.461538 \nL 157.798125 166.098462 \n\" style=\"fill:#f7fbff;\"/>\n    <path clip-path=\"url(#p04a59e5fec)\" d=\"M 168.099663 166.098462 \nL 178.401202 166.098462 \nL 178.401202 174.461538 \nL 168.099663 174.461538 \nL 168.099663 166.098462 \n\" style=\"fill:#dbe9f6;\"/>\n    <path clip-path=\"url(#p04a59e5fec)\" d=\"M 178.401202 166.098462 \nL 188.70274 166.098462 \nL 188.70274 174.461538 \nL 178.401202 174.461538 \nL 178.401202 166.098462 \n\" style=\"fill:#f7fbff;\"/>\n    <path clip-path=\"url(#p04a59e5fec)\" d=\"M 188.70274 166.098462 \nL 199.004279 166.098462 \nL 199.004279 174.461538 \nL 188.70274 174.461538 \nL 188.70274 166.098462 \n\" style=\"fill:#f7fbff;\"/>\n    <path clip-path=\"url(#p04a59e5fec)\" d=\"M 199.004279 166.098462 \nL 209.305817 166.098462 \nL 209.305817 174.461538 \nL 199.004279 174.461538 \nL 199.004279 166.098462 \n\" style=\"fill:#edf4fc;\"/>\n    <path clip-path=\"url(#p04a59e5fec)\" d=\"M 209.305817 166.098462 \nL 219.607356 166.098462 \nL 219.607356 174.461538 \nL 209.305817 174.461538 \nL 209.305817 166.098462 \n\" style=\"fill:#ecf4fb;\"/>\n    <path clip-path=\"url(#p04a59e5fec)\" d=\"M 219.607356 166.098462 \nL 229.908894 166.098462 \nL 229.908894 174.461538 \nL 219.607356 174.461538 \nL 219.607356 166.098462 \n\" style=\"fill:#f3f8fe;\"/>\n    <path clip-path=\"url(#p04a59e5fec)\" d=\"M 229.908894 166.098462 \nL 240.210433 166.098462 \nL 240.210433 174.461538 \nL 229.908894 174.461538 \nL 229.908894 166.098462 \n\" style=\"fill:#f2f8fd;\"/>\n    <path clip-path=\"url(#p04a59e5fec)\" d=\"M 240.210433 166.098462 \nL 250.511971 166.098462 \nL 250.511971 174.461538 \nL 240.210433 174.461538 \nL 240.210433 166.098462 \n\" style=\"fill:#f7fbff;\"/>\n    <path clip-path=\"url(#p04a59e5fec)\" d=\"M 250.511971 166.098462 \nL 260.81351 166.098462 \nL 260.81351 174.461538 \nL 250.511971 174.461538 \nL 250.511971 166.098462 \n\" style=\"fill:#f5fafe;\"/>\n    <path clip-path=\"url(#p04a59e5fec)\" d=\"M 260.81351 166.098462 \nL 271.115048 166.098462 \nL 271.115048 174.461538 \nL 260.81351 174.461538 \nL 260.81351 166.098462 \n\" style=\"fill:#f7fbff;\"/>\n    <path clip-path=\"url(#p04a59e5fec)\" d=\"M 271.115048 166.098462 \nL 281.416587 166.098462 \nL 281.416587 174.461538 \nL 271.115048 174.461538 \nL 271.115048 166.098462 \n\" style=\"fill:#f3f8fe;\"/>\n    <path clip-path=\"url(#p04a59e5fec)\" d=\"M 281.416587 166.098462 \nL 291.718125 166.098462 \nL 291.718125 174.461538 \nL 281.416587 174.461538 \nL 281.416587 166.098462 \n\" style=\"fill:#f7fbff;\"/>\n    <path clip-path=\"url(#p04a59e5fec)\" d=\"M 23.878125 174.461538 \nL 34.179663 174.461538 \nL 34.179663 182.824615 \nL 23.878125 182.824615 \nL 23.878125 174.461538 \n\" style=\"fill:#f0f6fd;\"/>\n    <path clip-path=\"url(#p04a59e5fec)\" d=\"M 34.179663 174.461538 \nL 44.481202 174.461538 \nL 44.481202 182.824615 \nL 34.179663 182.824615 \nL 34.179663 174.461538 \n\" style=\"fill:#f2f7fd;\"/>\n    <path clip-path=\"url(#p04a59e5fec)\" d=\"M 44.481202 174.461538 \nL 54.78274 174.461538 \nL 54.78274 182.824615 \nL 44.481202 182.824615 \nL 44.481202 174.461538 \n\" style=\"fill:#eef5fc;\"/>\n    <path clip-path=\"url(#p04a59e5fec)\" d=\"M 54.78274 174.461538 \nL 65.084279 174.461538 \nL 65.084279 182.824615 \nL 54.78274 182.824615 \nL 54.78274 174.461538 \n\" style=\"fill:#f2f7fd;\"/>\n    <path clip-path=\"url(#p04a59e5fec)\" d=\"M 65.084279 174.461538 \nL 75.385817 174.461538 \nL 75.385817 182.824615 \nL 65.084279 182.824615 \nL 65.084279 174.461538 \n\" style=\"fill:#eef5fc;\"/>\n    <path clip-path=\"url(#p04a59e5fec)\" d=\"M 75.385817 174.461538 \nL 85.687356 174.461538 \nL 85.687356 182.824615 \nL 75.385817 182.824615 \nL 75.385817 174.461538 \n\" style=\"fill:#f6faff;\"/>\n    <path clip-path=\"url(#p04a59e5fec)\" d=\"M 85.687356 174.461538 \nL 95.988894 174.461538 \nL 95.988894 182.824615 \nL 85.687356 182.824615 \nL 85.687356 174.461538 \n\" style=\"fill:#eef5fc;\"/>\n    <path clip-path=\"url(#p04a59e5fec)\" d=\"M 95.988894 174.461538 \nL 106.290433 174.461538 \nL 106.290433 182.824615 \nL 95.988894 182.824615 \nL 95.988894 174.461538 \n\" style=\"fill:#f7fbff;\"/>\n    <path clip-path=\"url(#p04a59e5fec)\" d=\"M 106.290433 174.461538 \nL 116.591971 174.461538 \nL 116.591971 182.824615 \nL 106.290433 182.824615 \nL 106.290433 174.461538 \n\" style=\"fill:#f2f7fd;\"/>\n    <path clip-path=\"url(#p04a59e5fec)\" d=\"M 116.591971 174.461538 \nL 126.89351 174.461538 \nL 126.89351 182.824615 \nL 116.591971 182.824615 \nL 116.591971 174.461538 \n\" style=\"fill:#f7fbff;\"/>\n    <path clip-path=\"url(#p04a59e5fec)\" d=\"M 126.89351 174.461538 \nL 137.195048 174.461538 \nL 137.195048 182.824615 \nL 126.89351 182.824615 \nL 126.89351 174.461538 \n\" style=\"fill:#f7fbff;\"/>\n    <path clip-path=\"url(#p04a59e5fec)\" d=\"M 137.195048 174.461538 \nL 147.496587 174.461538 \nL 147.496587 182.824615 \nL 137.195048 182.824615 \nL 137.195048 174.461538 \n\" style=\"fill:#e4eff9;\"/>\n    <path clip-path=\"url(#p04a59e5fec)\" d=\"M 147.496587 174.461538 \nL 157.798125 174.461538 \nL 157.798125 182.824615 \nL 147.496587 182.824615 \nL 147.496587 174.461538 \n\" style=\"fill:#f0f6fd;\"/>\n    <path clip-path=\"url(#p04a59e5fec)\" d=\"M 157.798125 174.461538 \nL 168.099663 174.461538 \nL 168.099663 182.824615 \nL 157.798125 182.824615 \nL 157.798125 174.461538 \n\" style=\"fill:#d9e7f5;\"/>\n    <path clip-path=\"url(#p04a59e5fec)\" d=\"M 168.099663 174.461538 \nL 178.401202 174.461538 \nL 178.401202 182.824615 \nL 168.099663 182.824615 \nL 168.099663 174.461538 \n\" style=\"fill:#f7fbff;\"/>\n    <path clip-path=\"url(#p04a59e5fec)\" d=\"M 178.401202 174.461538 \nL 188.70274 174.461538 \nL 188.70274 182.824615 \nL 178.401202 182.824615 \nL 178.401202 174.461538 \n\" style=\"fill:#eef5fc;\"/>\n    <path clip-path=\"url(#p04a59e5fec)\" d=\"M 188.70274 174.461538 \nL 199.004279 174.461538 \nL 199.004279 182.824615 \nL 188.70274 182.824615 \nL 188.70274 174.461538 \n\" style=\"fill:#f7fbff;\"/>\n    <path clip-path=\"url(#p04a59e5fec)\" d=\"M 199.004279 174.461538 \nL 209.305817 174.461538 \nL 209.305817 182.824615 \nL 199.004279 182.824615 \nL 199.004279 174.461538 \n\" style=\"fill:#d6e6f4;\"/>\n    <path clip-path=\"url(#p04a59e5fec)\" d=\"M 209.305817 174.461538 \nL 219.607356 174.461538 \nL 219.607356 182.824615 \nL 209.305817 182.824615 \nL 209.305817 174.461538 \n\" style=\"fill:#d9e8f5;\"/>\n    <path clip-path=\"url(#p04a59e5fec)\" d=\"M 219.607356 174.461538 \nL 229.908894 174.461538 \nL 229.908894 182.824615 \nL 219.607356 182.824615 \nL 219.607356 174.461538 \n\" style=\"fill:#d9e7f5;\"/>\n    <path clip-path=\"url(#p04a59e5fec)\" d=\"M 229.908894 174.461538 \nL 240.210433 174.461538 \nL 240.210433 182.824615 \nL 229.908894 182.824615 \nL 229.908894 174.461538 \n\" style=\"fill:#f7fbff;\"/>\n    <path clip-path=\"url(#p04a59e5fec)\" d=\"M 240.210433 174.461538 \nL 250.511971 174.461538 \nL 250.511971 182.824615 \nL 240.210433 182.824615 \nL 240.210433 174.461538 \n\" style=\"fill:#f7fbff;\"/>\n    <path clip-path=\"url(#p04a59e5fec)\" d=\"M 250.511971 174.461538 \nL 260.81351 174.461538 \nL 260.81351 182.824615 \nL 250.511971 182.824615 \nL 250.511971 174.461538 \n\" style=\"fill:#f7fbff;\"/>\n    <path clip-path=\"url(#p04a59e5fec)\" d=\"M 260.81351 174.461538 \nL 271.115048 174.461538 \nL 271.115048 182.824615 \nL 260.81351 182.824615 \nL 260.81351 174.461538 \n\" style=\"fill:#f7fbff;\"/>\n    <path clip-path=\"url(#p04a59e5fec)\" d=\"M 271.115048 174.461538 \nL 281.416587 174.461538 \nL 281.416587 182.824615 \nL 271.115048 182.824615 \nL 271.115048 174.461538 \n\" style=\"fill:#f6faff;\"/>\n    <path clip-path=\"url(#p04a59e5fec)\" d=\"M 281.416587 174.461538 \nL 291.718125 174.461538 \nL 291.718125 182.824615 \nL 281.416587 182.824615 \nL 281.416587 174.461538 \n\" style=\"fill:#f7fbff;\"/>\n    <path clip-path=\"url(#p04a59e5fec)\" d=\"M 23.878125 182.824615 \nL 34.179663 182.824615 \nL 34.179663 191.187692 \nL 23.878125 191.187692 \nL 23.878125 182.824615 \n\" style=\"fill:#e7f0fa;\"/>\n    <path clip-path=\"url(#p04a59e5fec)\" d=\"M 34.179663 182.824615 \nL 44.481202 182.824615 \nL 44.481202 191.187692 \nL 34.179663 191.187692 \nL 34.179663 182.824615 \n\" style=\"fill:#f7fbff;\"/>\n    <path clip-path=\"url(#p04a59e5fec)\" d=\"M 44.481202 182.824615 \nL 54.78274 182.824615 \nL 54.78274 191.187692 \nL 44.481202 191.187692 \nL 44.481202 182.824615 \n\" style=\"fill:#f7fbff;\"/>\n    <path clip-path=\"url(#p04a59e5fec)\" d=\"M 54.78274 182.824615 \nL 65.084279 182.824615 \nL 65.084279 191.187692 \nL 54.78274 191.187692 \nL 54.78274 182.824615 \n\" style=\"fill:#f7fbff;\"/>\n    <path clip-path=\"url(#p04a59e5fec)\" d=\"M 65.084279 182.824615 \nL 75.385817 182.824615 \nL 75.385817 191.187692 \nL 65.084279 191.187692 \nL 65.084279 182.824615 \n\" style=\"fill:#3181bd;\"/>\n    <path clip-path=\"url(#p04a59e5fec)\" d=\"M 75.385817 182.824615 \nL 85.687356 182.824615 \nL 85.687356 191.187692 \nL 75.385817 191.187692 \nL 75.385817 182.824615 \n\" style=\"fill:#f7fbff;\"/>\n    <path clip-path=\"url(#p04a59e5fec)\" d=\"M 85.687356 182.824615 \nL 95.988894 182.824615 \nL 95.988894 191.187692 \nL 85.687356 191.187692 \nL 85.687356 182.824615 \n\" style=\"fill:#f7fbff;\"/>\n    <path clip-path=\"url(#p04a59e5fec)\" d=\"M 95.988894 182.824615 \nL 106.290433 182.824615 \nL 106.290433 191.187692 \nL 95.988894 191.187692 \nL 95.988894 182.824615 \n\" style=\"fill:#f7fbff;\"/>\n    <path clip-path=\"url(#p04a59e5fec)\" d=\"M 106.290433 182.824615 \nL 116.591971 182.824615 \nL 116.591971 191.187692 \nL 106.290433 191.187692 \nL 106.290433 182.824615 \n\" style=\"fill:#c9ddf0;\"/>\n    <path clip-path=\"url(#p04a59e5fec)\" d=\"M 116.591971 182.824615 \nL 126.89351 182.824615 \nL 126.89351 191.187692 \nL 116.591971 191.187692 \nL 116.591971 182.824615 \n\" style=\"fill:#f7fbff;\"/>\n    <path clip-path=\"url(#p04a59e5fec)\" d=\"M 126.89351 182.824615 \nL 137.195048 182.824615 \nL 137.195048 191.187692 \nL 126.89351 191.187692 \nL 126.89351 182.824615 \n\" style=\"fill:#f7fbff;\"/>\n    <path clip-path=\"url(#p04a59e5fec)\" d=\"M 137.195048 182.824615 \nL 147.496587 182.824615 \nL 147.496587 191.187692 \nL 137.195048 191.187692 \nL 137.195048 182.824615 \n\" style=\"fill:#f7fbff;\"/>\n    <path clip-path=\"url(#p04a59e5fec)\" d=\"M 147.496587 182.824615 \nL 157.798125 182.824615 \nL 157.798125 191.187692 \nL 147.496587 191.187692 \nL 147.496587 182.824615 \n\" style=\"fill:#f7fbff;\"/>\n    <path clip-path=\"url(#p04a59e5fec)\" d=\"M 157.798125 182.824615 \nL 168.099663 182.824615 \nL 168.099663 191.187692 \nL 157.798125 191.187692 \nL 157.798125 182.824615 \n\" style=\"fill:#f7fbff;\"/>\n    <path clip-path=\"url(#p04a59e5fec)\" d=\"M 168.099663 182.824615 \nL 178.401202 182.824615 \nL 178.401202 191.187692 \nL 168.099663 191.187692 \nL 168.099663 182.824615 \n\" style=\"fill:#ebf3fb;\"/>\n    <path clip-path=\"url(#p04a59e5fec)\" d=\"M 178.401202 182.824615 \nL 188.70274 182.824615 \nL 188.70274 191.187692 \nL 178.401202 191.187692 \nL 178.401202 182.824615 \n\" style=\"fill:#f7fbff;\"/>\n    <path clip-path=\"url(#p04a59e5fec)\" d=\"M 188.70274 182.824615 \nL 199.004279 182.824615 \nL 199.004279 191.187692 \nL 188.70274 191.187692 \nL 188.70274 182.824615 \n\" style=\"fill:#f7fbff;\"/>\n    <path clip-path=\"url(#p04a59e5fec)\" d=\"M 199.004279 182.824615 \nL 209.305817 182.824615 \nL 209.305817 191.187692 \nL 199.004279 191.187692 \nL 199.004279 182.824615 \n\" style=\"fill:#f7fbff;\"/>\n    <path clip-path=\"url(#p04a59e5fec)\" d=\"M 209.305817 182.824615 \nL 219.607356 182.824615 \nL 219.607356 191.187692 \nL 209.305817 191.187692 \nL 209.305817 182.824615 \n\" style=\"fill:#f7fbff;\"/>\n    <path clip-path=\"url(#p04a59e5fec)\" d=\"M 219.607356 182.824615 \nL 229.908894 182.824615 \nL 229.908894 191.187692 \nL 219.607356 191.187692 \nL 219.607356 182.824615 \n\" style=\"fill:#f7fbff;\"/>\n    <path clip-path=\"url(#p04a59e5fec)\" d=\"M 229.908894 182.824615 \nL 240.210433 182.824615 \nL 240.210433 191.187692 \nL 229.908894 191.187692 \nL 229.908894 182.824615 \n\" style=\"fill:#f7fbff;\"/>\n    <path clip-path=\"url(#p04a59e5fec)\" d=\"M 240.210433 182.824615 \nL 250.511971 182.824615 \nL 250.511971 191.187692 \nL 240.210433 191.187692 \nL 240.210433 182.824615 \n\" style=\"fill:#f7fbff;\"/>\n    <path clip-path=\"url(#p04a59e5fec)\" d=\"M 250.511971 182.824615 \nL 260.81351 182.824615 \nL 260.81351 191.187692 \nL 250.511971 191.187692 \nL 250.511971 182.824615 \n\" style=\"fill:#f7fbff;\"/>\n    <path clip-path=\"url(#p04a59e5fec)\" d=\"M 260.81351 182.824615 \nL 271.115048 182.824615 \nL 271.115048 191.187692 \nL 260.81351 191.187692 \nL 260.81351 182.824615 \n\" style=\"fill:#f7fbff;\"/>\n    <path clip-path=\"url(#p04a59e5fec)\" d=\"M 271.115048 182.824615 \nL 281.416587 182.824615 \nL 281.416587 191.187692 \nL 271.115048 191.187692 \nL 271.115048 182.824615 \n\" style=\"fill:#f6faff;\"/>\n    <path clip-path=\"url(#p04a59e5fec)\" d=\"M 281.416587 182.824615 \nL 291.718125 182.824615 \nL 291.718125 191.187692 \nL 281.416587 191.187692 \nL 281.416587 182.824615 \n\" style=\"fill:#f7fbff;\"/>\n    <path clip-path=\"url(#p04a59e5fec)\" d=\"M 23.878125 191.187692 \nL 34.179663 191.187692 \nL 34.179663 199.550769 \nL 23.878125 199.550769 \nL 23.878125 191.187692 \n\" style=\"fill:#cddff1;\"/>\n    <path clip-path=\"url(#p04a59e5fec)\" d=\"M 34.179663 191.187692 \nL 44.481202 191.187692 \nL 44.481202 199.550769 \nL 34.179663 199.550769 \nL 34.179663 191.187692 \n\" style=\"fill:#f7fbff;\"/>\n    <path clip-path=\"url(#p04a59e5fec)\" d=\"M 44.481202 191.187692 \nL 54.78274 191.187692 \nL 54.78274 199.550769 \nL 44.481202 199.550769 \nL 44.481202 191.187692 \n\" style=\"fill:#f7fbff;\"/>\n    <path clip-path=\"url(#p04a59e5fec)\" d=\"M 54.78274 191.187692 \nL 65.084279 191.187692 \nL 65.084279 199.550769 \nL 54.78274 199.550769 \nL 54.78274 191.187692 \n\" style=\"fill:#f7fbff;\"/>\n    <path clip-path=\"url(#p04a59e5fec)\" d=\"M 65.084279 191.187692 \nL 75.385817 191.187692 \nL 75.385817 199.550769 \nL 65.084279 199.550769 \nL 65.084279 191.187692 \n\" style=\"fill:#cee0f2;\"/>\n    <path clip-path=\"url(#p04a59e5fec)\" d=\"M 75.385817 191.187692 \nL 85.687356 191.187692 \nL 85.687356 199.550769 \nL 75.385817 199.550769 \nL 75.385817 191.187692 \n\" style=\"fill:#f7fbff;\"/>\n    <path clip-path=\"url(#p04a59e5fec)\" d=\"M 85.687356 191.187692 \nL 95.988894 191.187692 \nL 95.988894 199.550769 \nL 85.687356 199.550769 \nL 85.687356 191.187692 \n\" style=\"fill:#f7fbff;\"/>\n    <path clip-path=\"url(#p04a59e5fec)\" d=\"M 95.988894 191.187692 \nL 106.290433 191.187692 \nL 106.290433 199.550769 \nL 95.988894 199.550769 \nL 95.988894 191.187692 \n\" style=\"fill:#d3e4f3;\"/>\n    <path clip-path=\"url(#p04a59e5fec)\" d=\"M 106.290433 191.187692 \nL 116.591971 191.187692 \nL 116.591971 199.550769 \nL 106.290433 199.550769 \nL 106.290433 191.187692 \n\" style=\"fill:#ccdff1;\"/>\n    <path clip-path=\"url(#p04a59e5fec)\" d=\"M 116.591971 191.187692 \nL 126.89351 191.187692 \nL 126.89351 199.550769 \nL 116.591971 199.550769 \nL 116.591971 191.187692 \n\" style=\"fill:#f7fbff;\"/>\n    <path clip-path=\"url(#p04a59e5fec)\" d=\"M 126.89351 191.187692 \nL 137.195048 191.187692 \nL 137.195048 199.550769 \nL 126.89351 199.550769 \nL 126.89351 191.187692 \n\" style=\"fill:#f7fbff;\"/>\n    <path clip-path=\"url(#p04a59e5fec)\" d=\"M 137.195048 191.187692 \nL 147.496587 191.187692 \nL 147.496587 199.550769 \nL 137.195048 199.550769 \nL 137.195048 191.187692 \n\" style=\"fill:#f6faff;\"/>\n    <path clip-path=\"url(#p04a59e5fec)\" d=\"M 147.496587 191.187692 \nL 157.798125 191.187692 \nL 157.798125 199.550769 \nL 147.496587 199.550769 \nL 147.496587 191.187692 \n\" style=\"fill:#f7fbff;\"/>\n    <path clip-path=\"url(#p04a59e5fec)\" d=\"M 157.798125 191.187692 \nL 168.099663 191.187692 \nL 168.099663 199.550769 \nL 157.798125 199.550769 \nL 157.798125 191.187692 \n\" style=\"fill:#eef5fc;\"/>\n    <path clip-path=\"url(#p04a59e5fec)\" d=\"M 168.099663 191.187692 \nL 178.401202 191.187692 \nL 178.401202 199.550769 \nL 168.099663 199.550769 \nL 168.099663 191.187692 \n\" style=\"fill:#dae8f6;\"/>\n    <path clip-path=\"url(#p04a59e5fec)\" d=\"M 178.401202 191.187692 \nL 188.70274 191.187692 \nL 188.70274 199.550769 \nL 178.401202 199.550769 \nL 178.401202 191.187692 \n\" style=\"fill:#f7fbff;\"/>\n    <path clip-path=\"url(#p04a59e5fec)\" d=\"M 188.70274 191.187692 \nL 199.004279 191.187692 \nL 199.004279 199.550769 \nL 188.70274 199.550769 \nL 188.70274 191.187692 \n\" style=\"fill:#f7fbff;\"/>\n    <path clip-path=\"url(#p04a59e5fec)\" d=\"M 199.004279 191.187692 \nL 209.305817 191.187692 \nL 209.305817 199.550769 \nL 199.004279 199.550769 \nL 199.004279 191.187692 \n\" style=\"fill:#f5f9fe;\"/>\n    <path clip-path=\"url(#p04a59e5fec)\" d=\"M 209.305817 191.187692 \nL 219.607356 191.187692 \nL 219.607356 199.550769 \nL 209.305817 199.550769 \nL 209.305817 191.187692 \n\" style=\"fill:#f2f7fd;\"/>\n    <path clip-path=\"url(#p04a59e5fec)\" d=\"M 219.607356 191.187692 \nL 229.908894 191.187692 \nL 229.908894 199.550769 \nL 219.607356 199.550769 \nL 219.607356 191.187692 \n\" style=\"fill:#f6faff;\"/>\n    <path clip-path=\"url(#p04a59e5fec)\" d=\"M 229.908894 191.187692 \nL 240.210433 191.187692 \nL 240.210433 199.550769 \nL 229.908894 199.550769 \nL 229.908894 191.187692 \n\" style=\"fill:#f7fbff;\"/>\n    <path clip-path=\"url(#p04a59e5fec)\" d=\"M 240.210433 191.187692 \nL 250.511971 191.187692 \nL 250.511971 199.550769 \nL 240.210433 199.550769 \nL 240.210433 191.187692 \n\" style=\"fill:#f7fbff;\"/>\n    <path clip-path=\"url(#p04a59e5fec)\" d=\"M 250.511971 191.187692 \nL 260.81351 191.187692 \nL 260.81351 199.550769 \nL 250.511971 199.550769 \nL 250.511971 191.187692 \n\" style=\"fill:#f6faff;\"/>\n    <path clip-path=\"url(#p04a59e5fec)\" d=\"M 260.81351 191.187692 \nL 271.115048 191.187692 \nL 271.115048 199.550769 \nL 260.81351 199.550769 \nL 260.81351 191.187692 \n\" style=\"fill:#f7fbff;\"/>\n    <path clip-path=\"url(#p04a59e5fec)\" d=\"M 271.115048 191.187692 \nL 281.416587 191.187692 \nL 281.416587 199.550769 \nL 271.115048 199.550769 \nL 271.115048 191.187692 \n\" style=\"fill:#f7fbff;\"/>\n    <path clip-path=\"url(#p04a59e5fec)\" d=\"M 281.416587 191.187692 \nL 291.718125 191.187692 \nL 291.718125 199.550769 \nL 281.416587 199.550769 \nL 281.416587 191.187692 \n\" style=\"fill:#f7fbff;\"/>\n    <path clip-path=\"url(#p04a59e5fec)\" d=\"M 23.878125 199.550769 \nL 34.179663 199.550769 \nL 34.179663 207.913846 \nL 23.878125 207.913846 \nL 23.878125 199.550769 \n\" style=\"fill:#e4eff9;\"/>\n    <path clip-path=\"url(#p04a59e5fec)\" d=\"M 34.179663 199.550769 \nL 44.481202 199.550769 \nL 44.481202 207.913846 \nL 34.179663 207.913846 \nL 34.179663 199.550769 \n\" style=\"fill:#f7fbff;\"/>\n    <path clip-path=\"url(#p04a59e5fec)\" d=\"M 44.481202 199.550769 \nL 54.78274 199.550769 \nL 54.78274 207.913846 \nL 44.481202 207.913846 \nL 44.481202 199.550769 \n\" style=\"fill:#e3eef9;\"/>\n    <path clip-path=\"url(#p04a59e5fec)\" d=\"M 54.78274 199.550769 \nL 65.084279 199.550769 \nL 65.084279 207.913846 \nL 54.78274 207.913846 \nL 54.78274 199.550769 \n\" style=\"fill:#f7fbff;\"/>\n    <path clip-path=\"url(#p04a59e5fec)\" d=\"M 65.084279 199.550769 \nL 75.385817 199.550769 \nL 75.385817 207.913846 \nL 65.084279 207.913846 \nL 65.084279 199.550769 \n\" style=\"fill:#dfecf7;\"/>\n    <path clip-path=\"url(#p04a59e5fec)\" d=\"M 75.385817 199.550769 \nL 85.687356 199.550769 \nL 85.687356 207.913846 \nL 75.385817 207.913846 \nL 75.385817 199.550769 \n\" style=\"fill:#f6faff;\"/>\n    <path clip-path=\"url(#p04a59e5fec)\" d=\"M 85.687356 199.550769 \nL 95.988894 199.550769 \nL 95.988894 207.913846 \nL 85.687356 207.913846 \nL 85.687356 199.550769 \n\" style=\"fill:#f7fbff;\"/>\n    <path clip-path=\"url(#p04a59e5fec)\" d=\"M 95.988894 199.550769 \nL 106.290433 199.550769 \nL 106.290433 207.913846 \nL 95.988894 207.913846 \nL 95.988894 199.550769 \n\" style=\"fill:#f4f9fe;\"/>\n    <path clip-path=\"url(#p04a59e5fec)\" d=\"M 106.290433 199.550769 \nL 116.591971 199.550769 \nL 116.591971 207.913846 \nL 106.290433 207.913846 \nL 106.290433 199.550769 \n\" style=\"fill:#dfecf7;\"/>\n    <path clip-path=\"url(#p04a59e5fec)\" d=\"M 116.591971 199.550769 \nL 126.89351 199.550769 \nL 126.89351 207.913846 \nL 116.591971 207.913846 \nL 116.591971 199.550769 \n\" style=\"fill:#f7fbff;\"/>\n    <path clip-path=\"url(#p04a59e5fec)\" d=\"M 126.89351 199.550769 \nL 137.195048 199.550769 \nL 137.195048 207.913846 \nL 126.89351 207.913846 \nL 126.89351 199.550769 \n\" style=\"fill:#f7fbff;\"/>\n    <path clip-path=\"url(#p04a59e5fec)\" d=\"M 137.195048 199.550769 \nL 147.496587 199.550769 \nL 147.496587 207.913846 \nL 137.195048 207.913846 \nL 137.195048 199.550769 \n\" style=\"fill:#f7fbff;\"/>\n    <path clip-path=\"url(#p04a59e5fec)\" d=\"M 147.496587 199.550769 \nL 157.798125 199.550769 \nL 157.798125 207.913846 \nL 147.496587 207.913846 \nL 147.496587 199.550769 \n\" style=\"fill:#f6faff;\"/>\n    <path clip-path=\"url(#p04a59e5fec)\" d=\"M 157.798125 199.550769 \nL 168.099663 199.550769 \nL 168.099663 207.913846 \nL 157.798125 207.913846 \nL 157.798125 199.550769 \n\" style=\"fill:#f5fafe;\"/>\n    <path clip-path=\"url(#p04a59e5fec)\" d=\"M 168.099663 199.550769 \nL 178.401202 199.550769 \nL 178.401202 207.913846 \nL 168.099663 207.913846 \nL 168.099663 199.550769 \n\" style=\"fill:#f5f9fe;\"/>\n    <path clip-path=\"url(#p04a59e5fec)\" d=\"M 178.401202 199.550769 \nL 188.70274 199.550769 \nL 188.70274 207.913846 \nL 178.401202 207.913846 \nL 178.401202 199.550769 \n\" style=\"fill:#a5cde3;\"/>\n    <path clip-path=\"url(#p04a59e5fec)\" d=\"M 188.70274 199.550769 \nL 199.004279 199.550769 \nL 199.004279 207.913846 \nL 188.70274 207.913846 \nL 188.70274 199.550769 \n\" style=\"fill:#f7fbff;\"/>\n    <path clip-path=\"url(#p04a59e5fec)\" d=\"M 199.004279 199.550769 \nL 209.305817 199.550769 \nL 209.305817 207.913846 \nL 199.004279 207.913846 \nL 199.004279 199.550769 \n\" style=\"fill:#f7fbff;\"/>\n    <path clip-path=\"url(#p04a59e5fec)\" d=\"M 209.305817 199.550769 \nL 219.607356 199.550769 \nL 219.607356 207.913846 \nL 209.305817 207.913846 \nL 209.305817 199.550769 \n\" style=\"fill:#f6faff;\"/>\n    <path clip-path=\"url(#p04a59e5fec)\" d=\"M 219.607356 199.550769 \nL 229.908894 199.550769 \nL 229.908894 207.913846 \nL 219.607356 207.913846 \nL 219.607356 199.550769 \n\" style=\"fill:#d0e2f2;\"/>\n    <path clip-path=\"url(#p04a59e5fec)\" d=\"M 229.908894 199.550769 \nL 240.210433 199.550769 \nL 240.210433 207.913846 \nL 229.908894 207.913846 \nL 229.908894 199.550769 \n\" style=\"fill:#f3f8fe;\"/>\n    <path clip-path=\"url(#p04a59e5fec)\" d=\"M 240.210433 199.550769 \nL 250.511971 199.550769 \nL 250.511971 207.913846 \nL 240.210433 207.913846 \nL 240.210433 199.550769 \n\" style=\"fill:#f7fbff;\"/>\n    <path clip-path=\"url(#p04a59e5fec)\" d=\"M 250.511971 199.550769 \nL 260.81351 199.550769 \nL 260.81351 207.913846 \nL 250.511971 207.913846 \nL 250.511971 199.550769 \n\" style=\"fill:#f7fbff;\"/>\n    <path clip-path=\"url(#p04a59e5fec)\" d=\"M 260.81351 199.550769 \nL 271.115048 199.550769 \nL 271.115048 207.913846 \nL 260.81351 207.913846 \nL 260.81351 199.550769 \n\" style=\"fill:#f6faff;\"/>\n    <path clip-path=\"url(#p04a59e5fec)\" d=\"M 271.115048 199.550769 \nL 281.416587 199.550769 \nL 281.416587 207.913846 \nL 271.115048 207.913846 \nL 271.115048 199.550769 \n\" style=\"fill:#f6faff;\"/>\n    <path clip-path=\"url(#p04a59e5fec)\" d=\"M 281.416587 199.550769 \nL 291.718125 199.550769 \nL 291.718125 207.913846 \nL 281.416587 207.913846 \nL 281.416587 199.550769 \n\" style=\"fill:#f7fbff;\"/>\n    <path clip-path=\"url(#p04a59e5fec)\" d=\"M 23.878125 207.913846 \nL 34.179663 207.913846 \nL 34.179663 216.276923 \nL 23.878125 216.276923 \nL 23.878125 207.913846 \n\" style=\"fill:#eaf3fb;\"/>\n    <path clip-path=\"url(#p04a59e5fec)\" d=\"M 34.179663 207.913846 \nL 44.481202 207.913846 \nL 44.481202 216.276923 \nL 34.179663 216.276923 \nL 34.179663 207.913846 \n\" style=\"fill:#f5f9fe;\"/>\n    <path clip-path=\"url(#p04a59e5fec)\" d=\"M 44.481202 207.913846 \nL 54.78274 207.913846 \nL 54.78274 216.276923 \nL 44.481202 216.276923 \nL 44.481202 207.913846 \n\" style=\"fill:#f5f9fe;\"/>\n    <path clip-path=\"url(#p04a59e5fec)\" d=\"M 54.78274 207.913846 \nL 65.084279 207.913846 \nL 65.084279 216.276923 \nL 54.78274 216.276923 \nL 54.78274 207.913846 \n\" style=\"fill:#f5fafe;\"/>\n    <path clip-path=\"url(#p04a59e5fec)\" d=\"M 65.084279 207.913846 \nL 75.385817 207.913846 \nL 75.385817 216.276923 \nL 65.084279 216.276923 \nL 65.084279 207.913846 \n\" style=\"fill:#b7d4ea;\"/>\n    <path clip-path=\"url(#p04a59e5fec)\" d=\"M 75.385817 207.913846 \nL 85.687356 207.913846 \nL 85.687356 216.276923 \nL 75.385817 216.276923 \nL 75.385817 207.913846 \n\" style=\"fill:#f7fbff;\"/>\n    <path clip-path=\"url(#p04a59e5fec)\" d=\"M 85.687356 207.913846 \nL 95.988894 207.913846 \nL 95.988894 216.276923 \nL 85.687356 216.276923 \nL 85.687356 207.913846 \n\" style=\"fill:#f6faff;\"/>\n    <path clip-path=\"url(#p04a59e5fec)\" d=\"M 95.988894 207.913846 \nL 106.290433 207.913846 \nL 106.290433 216.276923 \nL 95.988894 216.276923 \nL 95.988894 207.913846 \n\" style=\"fill:#f7fbff;\"/>\n    <path clip-path=\"url(#p04a59e5fec)\" d=\"M 106.290433 207.913846 \nL 116.591971 207.913846 \nL 116.591971 216.276923 \nL 106.290433 216.276923 \nL 106.290433 207.913846 \n\" style=\"fill:#e7f1fa;\"/>\n    <path clip-path=\"url(#p04a59e5fec)\" d=\"M 116.591971 207.913846 \nL 126.89351 207.913846 \nL 126.89351 216.276923 \nL 116.591971 216.276923 \nL 116.591971 207.913846 \n\" style=\"fill:#f7fbff;\"/>\n    <path clip-path=\"url(#p04a59e5fec)\" d=\"M 126.89351 207.913846 \nL 137.195048 207.913846 \nL 137.195048 216.276923 \nL 126.89351 216.276923 \nL 126.89351 207.913846 \n\" style=\"fill:#f7fbff;\"/>\n    <path clip-path=\"url(#p04a59e5fec)\" d=\"M 137.195048 207.913846 \nL 147.496587 207.913846 \nL 147.496587 216.276923 \nL 137.195048 216.276923 \nL 137.195048 207.913846 \n\" style=\"fill:#f2f8fd;\"/>\n    <path clip-path=\"url(#p04a59e5fec)\" d=\"M 147.496587 207.913846 \nL 157.798125 207.913846 \nL 157.798125 216.276923 \nL 147.496587 216.276923 \nL 147.496587 207.913846 \n\" style=\"fill:#f0f6fd;\"/>\n    <path clip-path=\"url(#p04a59e5fec)\" d=\"M 157.798125 207.913846 \nL 168.099663 207.913846 \nL 168.099663 216.276923 \nL 157.798125 216.276923 \nL 157.798125 207.913846 \n\" style=\"fill:#f4f9fe;\"/>\n    <path clip-path=\"url(#p04a59e5fec)\" d=\"M 168.099663 207.913846 \nL 178.401202 207.913846 \nL 178.401202 216.276923 \nL 168.099663 216.276923 \nL 168.099663 207.913846 \n\" style=\"fill:#d0e2f2;\"/>\n    <path clip-path=\"url(#p04a59e5fec)\" d=\"M 178.401202 207.913846 \nL 188.70274 207.913846 \nL 188.70274 216.276923 \nL 178.401202 216.276923 \nL 178.401202 207.913846 \n\" style=\"fill:#f3f8fe;\"/>\n    <path clip-path=\"url(#p04a59e5fec)\" d=\"M 188.70274 207.913846 \nL 199.004279 207.913846 \nL 199.004279 216.276923 \nL 188.70274 216.276923 \nL 188.70274 207.913846 \n\" style=\"fill:#f7fbff;\"/>\n    <path clip-path=\"url(#p04a59e5fec)\" d=\"M 199.004279 207.913846 \nL 209.305817 207.913846 \nL 209.305817 216.276923 \nL 199.004279 216.276923 \nL 199.004279 207.913846 \n\" style=\"fill:#f3f8fe;\"/>\n    <path clip-path=\"url(#p04a59e5fec)\" d=\"M 209.305817 207.913846 \nL 219.607356 207.913846 \nL 219.607356 216.276923 \nL 209.305817 216.276923 \nL 209.305817 207.913846 \n\" style=\"fill:#cde0f1;\"/>\n    <path clip-path=\"url(#p04a59e5fec)\" d=\"M 219.607356 207.913846 \nL 229.908894 207.913846 \nL 229.908894 216.276923 \nL 219.607356 216.276923 \nL 219.607356 207.913846 \n\" style=\"fill:#f2f8fd;\"/>\n    <path clip-path=\"url(#p04a59e5fec)\" d=\"M 229.908894 207.913846 \nL 240.210433 207.913846 \nL 240.210433 216.276923 \nL 229.908894 216.276923 \nL 229.908894 207.913846 \n\" style=\"fill:#f4f9fe;\"/>\n    <path clip-path=\"url(#p04a59e5fec)\" d=\"M 240.210433 207.913846 \nL 250.511971 207.913846 \nL 250.511971 216.276923 \nL 240.210433 216.276923 \nL 240.210433 207.913846 \n\" style=\"fill:#f7fbff;\"/>\n    <path clip-path=\"url(#p04a59e5fec)\" d=\"M 250.511971 207.913846 \nL 260.81351 207.913846 \nL 260.81351 216.276923 \nL 250.511971 216.276923 \nL 250.511971 207.913846 \n\" style=\"fill:#f5fafe;\"/>\n    <path clip-path=\"url(#p04a59e5fec)\" d=\"M 260.81351 207.913846 \nL 271.115048 207.913846 \nL 271.115048 216.276923 \nL 260.81351 216.276923 \nL 260.81351 207.913846 \n\" style=\"fill:#f7fbff;\"/>\n    <path clip-path=\"url(#p04a59e5fec)\" d=\"M 271.115048 207.913846 \nL 281.416587 207.913846 \nL 281.416587 216.276923 \nL 271.115048 216.276923 \nL 271.115048 207.913846 \n\" style=\"fill:#f7fbff;\"/>\n    <path clip-path=\"url(#p04a59e5fec)\" d=\"M 281.416587 207.913846 \nL 291.718125 207.913846 \nL 291.718125 216.276923 \nL 281.416587 216.276923 \nL 281.416587 207.913846 \n\" style=\"fill:#f7fbff;\"/>\n    <path clip-path=\"url(#p04a59e5fec)\" d=\"M 23.878125 216.276923 \nL 34.179663 216.276923 \nL 34.179663 224.64 \nL 23.878125 224.64 \nL 23.878125 216.276923 \n\" style=\"fill:#caddf0;\"/>\n    <path clip-path=\"url(#p04a59e5fec)\" d=\"M 34.179663 216.276923 \nL 44.481202 216.276923 \nL 44.481202 224.64 \nL 34.179663 224.64 \nL 34.179663 216.276923 \n\" style=\"fill:#f5f9fe;\"/>\n    <path clip-path=\"url(#p04a59e5fec)\" d=\"M 44.481202 216.276923 \nL 54.78274 216.276923 \nL 54.78274 224.64 \nL 44.481202 224.64 \nL 44.481202 216.276923 \n\" style=\"fill:#f7fbff;\"/>\n    <path clip-path=\"url(#p04a59e5fec)\" d=\"M 54.78274 216.276923 \nL 65.084279 216.276923 \nL 65.084279 224.64 \nL 54.78274 224.64 \nL 54.78274 216.276923 \n\" style=\"fill:#f6faff;\"/>\n    <path clip-path=\"url(#p04a59e5fec)\" d=\"M 65.084279 216.276923 \nL 75.385817 216.276923 \nL 75.385817 224.64 \nL 65.084279 224.64 \nL 65.084279 216.276923 \n\" style=\"fill:#91c3de;\"/>\n    <path clip-path=\"url(#p04a59e5fec)\" d=\"M 75.385817 216.276923 \nL 85.687356 216.276923 \nL 85.687356 224.64 \nL 75.385817 224.64 \nL 75.385817 216.276923 \n\" style=\"fill:#f7fbff;\"/>\n    <path clip-path=\"url(#p04a59e5fec)\" d=\"M 85.687356 216.276923 \nL 95.988894 216.276923 \nL 95.988894 224.64 \nL 85.687356 224.64 \nL 85.687356 216.276923 \n\" style=\"fill:#f7fbff;\"/>\n    <path clip-path=\"url(#p04a59e5fec)\" d=\"M 95.988894 216.276923 \nL 106.290433 216.276923 \nL 106.290433 224.64 \nL 95.988894 224.64 \nL 95.988894 216.276923 \n\" style=\"fill:#f0f6fd;\"/>\n    <path clip-path=\"url(#p04a59e5fec)\" d=\"M 106.290433 216.276923 \nL 116.591971 216.276923 \nL 116.591971 224.64 \nL 106.290433 224.64 \nL 106.290433 216.276923 \n\" style=\"fill:#d6e5f4;\"/>\n    <path clip-path=\"url(#p04a59e5fec)\" d=\"M 116.591971 216.276923 \nL 126.89351 216.276923 \nL 126.89351 224.64 \nL 116.591971 224.64 \nL 116.591971 216.276923 \n\" style=\"fill:#f7fbff;\"/>\n    <path clip-path=\"url(#p04a59e5fec)\" d=\"M 126.89351 216.276923 \nL 137.195048 216.276923 \nL 137.195048 224.64 \nL 126.89351 224.64 \nL 126.89351 216.276923 \n\" style=\"fill:#f6faff;\"/>\n    <path clip-path=\"url(#p04a59e5fec)\" d=\"M 137.195048 216.276923 \nL 147.496587 216.276923 \nL 147.496587 224.64 \nL 137.195048 224.64 \nL 137.195048 216.276923 \n\" style=\"fill:#f5f9fe;\"/>\n    <path clip-path=\"url(#p04a59e5fec)\" d=\"M 147.496587 216.276923 \nL 157.798125 216.276923 \nL 157.798125 224.64 \nL 147.496587 224.64 \nL 147.496587 216.276923 \n\" style=\"fill:#f6faff;\"/>\n    <path clip-path=\"url(#p04a59e5fec)\" d=\"M 157.798125 216.276923 \nL 168.099663 216.276923 \nL 168.099663 224.64 \nL 157.798125 224.64 \nL 157.798125 216.276923 \n\" style=\"fill:#f5fafe;\"/>\n    <path clip-path=\"url(#p04a59e5fec)\" d=\"M 168.099663 216.276923 \nL 178.401202 216.276923 \nL 178.401202 224.64 \nL 168.099663 224.64 \nL 168.099663 216.276923 \n\" style=\"fill:#e7f1fa;\"/>\n    <path clip-path=\"url(#p04a59e5fec)\" d=\"M 178.401202 216.276923 \nL 188.70274 216.276923 \nL 188.70274 224.64 \nL 178.401202 224.64 \nL 178.401202 216.276923 \n\" style=\"fill:#f7fbff;\"/>\n    <path clip-path=\"url(#p04a59e5fec)\" d=\"M 188.70274 216.276923 \nL 199.004279 216.276923 \nL 199.004279 224.64 \nL 188.70274 224.64 \nL 188.70274 216.276923 \n\" style=\"fill:#f7fbff;\"/>\n    <path clip-path=\"url(#p04a59e5fec)\" d=\"M 199.004279 216.276923 \nL 209.305817 216.276923 \nL 209.305817 224.64 \nL 199.004279 224.64 \nL 199.004279 216.276923 \n\" style=\"fill:#f7fbff;\"/>\n    <path clip-path=\"url(#p04a59e5fec)\" d=\"M 209.305817 216.276923 \nL 219.607356 216.276923 \nL 219.607356 224.64 \nL 209.305817 224.64 \nL 209.305817 216.276923 \n\" style=\"fill:#f5fafe;\"/>\n    <path clip-path=\"url(#p04a59e5fec)\" d=\"M 219.607356 216.276923 \nL 229.908894 216.276923 \nL 229.908894 224.64 \nL 219.607356 224.64 \nL 219.607356 216.276923 \n\" style=\"fill:#f7fbff;\"/>\n    <path clip-path=\"url(#p04a59e5fec)\" d=\"M 229.908894 216.276923 \nL 240.210433 216.276923 \nL 240.210433 224.64 \nL 229.908894 224.64 \nL 229.908894 216.276923 \n\" style=\"fill:#f2f7fd;\"/>\n    <path clip-path=\"url(#p04a59e5fec)\" d=\"M 240.210433 216.276923 \nL 250.511971 216.276923 \nL 250.511971 224.64 \nL 240.210433 224.64 \nL 240.210433 216.276923 \n\" style=\"fill:#f7fbff;\"/>\n    <path clip-path=\"url(#p04a59e5fec)\" d=\"M 250.511971 216.276923 \nL 260.81351 216.276923 \nL 260.81351 224.64 \nL 250.511971 224.64 \nL 250.511971 216.276923 \n\" style=\"fill:#f7fbff;\"/>\n    <path clip-path=\"url(#p04a59e5fec)\" d=\"M 260.81351 216.276923 \nL 271.115048 216.276923 \nL 271.115048 224.64 \nL 260.81351 224.64 \nL 260.81351 216.276923 \n\" style=\"fill:#f7fbff;\"/>\n    <path clip-path=\"url(#p04a59e5fec)\" d=\"M 271.115048 216.276923 \nL 281.416587 216.276923 \nL 281.416587 224.64 \nL 271.115048 224.64 \nL 271.115048 216.276923 \n\" style=\"fill:#f3f8fe;\"/>\n    <path clip-path=\"url(#p04a59e5fec)\" d=\"M 281.416587 216.276923 \nL 291.718125 216.276923 \nL 291.718125 224.64 \nL 281.416587 224.64 \nL 281.416587 216.276923 \n\" style=\"fill:#f0f6fd;\"/>\n   </g>\n   <g id=\"matplotlib.axis_1\">\n    <g id=\"xtick_1\">\n     <g id=\"line2d_1\">\n      <defs>\n       <path d=\"M 0 0 \nL 0 3.5 \n\" id=\"me4816933e4\" style=\"stroke:#000000;stroke-width:0.8;\"/>\n      </defs>\n      <g>\n       <use style=\"stroke:#000000;stroke-width:0.8;\" x=\"29.028894\" xlink:href=\"#me4816933e4\" y=\"224.64\"/>\n      </g>\n     </g>\n     <g id=\"text_1\">\n      <!-- a -->\n      <g transform=\"translate(25.964832 239.238437)scale(0.1 -0.1)\">\n       <defs>\n        <path d=\"M 34.28125 27.484375 \nQ 23.390625 27.484375 19.1875 25 \nQ 14.984375 22.515625 14.984375 16.5 \nQ 14.984375 11.71875 18.140625 8.90625 \nQ 21.296875 6.109375 26.703125 6.109375 \nQ 34.1875 6.109375 38.703125 11.40625 \nQ 43.21875 16.703125 43.21875 25.484375 \nL 43.21875 27.484375 \nz\nM 52.203125 31.203125 \nL 52.203125 0 \nL 43.21875 0 \nL 43.21875 8.296875 \nQ 40.140625 3.328125 35.546875 0.953125 \nQ 30.953125 -1.421875 24.3125 -1.421875 \nQ 15.921875 -1.421875 10.953125 3.296875 \nQ 6 8.015625 6 15.921875 \nQ 6 25.140625 12.171875 29.828125 \nQ 18.359375 34.515625 30.609375 34.515625 \nL 43.21875 34.515625 \nL 43.21875 35.40625 \nQ 43.21875 41.609375 39.140625 45 \nQ 35.0625 48.390625 27.6875 48.390625 \nQ 23 48.390625 18.546875 47.265625 \nQ 14.109375 46.140625 10.015625 43.890625 \nL 10.015625 52.203125 \nQ 14.9375 54.109375 19.578125 55.046875 \nQ 24.21875 56 28.609375 56 \nQ 40.484375 56 46.34375 49.84375 \nQ 52.203125 43.703125 52.203125 31.203125 \nz\n\" id=\"DejaVuSans-97\"/>\n       </defs>\n       <use xlink:href=\"#DejaVuSans-97\"/>\n      </g>\n     </g>\n    </g>\n    <g id=\"xtick_2\">\n     <g id=\"line2d_2\">\n      <g>\n       <use style=\"stroke:#000000;stroke-width:0.8;\" x=\"49.631971\" xlink:href=\"#me4816933e4\" y=\"224.64\"/>\n      </g>\n     </g>\n     <g id=\"text_2\">\n      <!-- c -->\n      <g transform=\"translate(46.882752 239.238437)scale(0.1 -0.1)\">\n       <defs>\n        <path d=\"M 48.78125 52.59375 \nL 48.78125 44.1875 \nQ 44.96875 46.296875 41.140625 47.34375 \nQ 37.3125 48.390625 33.40625 48.390625 \nQ 24.65625 48.390625 19.8125 42.84375 \nQ 14.984375 37.3125 14.984375 27.296875 \nQ 14.984375 17.28125 19.8125 11.734375 \nQ 24.65625 6.203125 33.40625 6.203125 \nQ 37.3125 6.203125 41.140625 7.25 \nQ 44.96875 8.296875 48.78125 10.40625 \nL 48.78125 2.09375 \nQ 45.015625 0.34375 40.984375 -0.53125 \nQ 36.96875 -1.421875 32.421875 -1.421875 \nQ 20.0625 -1.421875 12.78125 6.34375 \nQ 5.515625 14.109375 5.515625 27.296875 \nQ 5.515625 40.671875 12.859375 48.328125 \nQ 20.21875 56 33.015625 56 \nQ 37.15625 56 41.109375 55.140625 \nQ 45.0625 54.296875 48.78125 52.59375 \nz\n\" id=\"DejaVuSans-99\"/>\n       </defs>\n       <use xlink:href=\"#DejaVuSans-99\"/>\n      </g>\n     </g>\n    </g>\n    <g id=\"xtick_3\">\n     <g id=\"line2d_3\">\n      <g>\n       <use style=\"stroke:#000000;stroke-width:0.8;\" x=\"70.235048\" xlink:href=\"#me4816933e4\" y=\"224.64\"/>\n      </g>\n     </g>\n     <g id=\"text_3\">\n      <!-- e -->\n      <g transform=\"translate(67.158486 239.238437)scale(0.1 -0.1)\">\n       <defs>\n        <path d=\"M 56.203125 29.59375 \nL 56.203125 25.203125 \nL 14.890625 25.203125 \nQ 15.484375 15.921875 20.484375 11.0625 \nQ 25.484375 6.203125 34.421875 6.203125 \nQ 39.59375 6.203125 44.453125 7.46875 \nQ 49.3125 8.734375 54.109375 11.28125 \nL 54.109375 2.78125 \nQ 49.265625 0.734375 44.1875 -0.34375 \nQ 39.109375 -1.421875 33.890625 -1.421875 \nQ 20.796875 -1.421875 13.15625 6.1875 \nQ 5.515625 13.8125 5.515625 26.8125 \nQ 5.515625 40.234375 12.765625 48.109375 \nQ 20.015625 56 32.328125 56 \nQ 43.359375 56 49.78125 48.890625 \nQ 56.203125 41.796875 56.203125 29.59375 \nz\nM 47.21875 32.234375 \nQ 47.125 39.59375 43.09375 43.984375 \nQ 39.0625 48.390625 32.421875 48.390625 \nQ 24.90625 48.390625 20.390625 44.140625 \nQ 15.875 39.890625 15.1875 32.171875 \nz\n\" id=\"DejaVuSans-101\"/>\n       </defs>\n       <use xlink:href=\"#DejaVuSans-101\"/>\n      </g>\n     </g>\n    </g>\n    <g id=\"xtick_4\">\n     <g id=\"line2d_4\">\n      <g>\n       <use style=\"stroke:#000000;stroke-width:0.8;\" x=\"90.838125\" xlink:href=\"#me4816933e4\" y=\"224.64\"/>\n      </g>\n     </g>\n     <g id=\"text_4\">\n      <!-- g -->\n      <g transform=\"translate(87.663906 239.238437)scale(0.1 -0.1)\">\n       <defs>\n        <path d=\"M 45.40625 27.984375 \nQ 45.40625 37.75 41.375 43.109375 \nQ 37.359375 48.484375 30.078125 48.484375 \nQ 22.859375 48.484375 18.828125 43.109375 \nQ 14.796875 37.75 14.796875 27.984375 \nQ 14.796875 18.265625 18.828125 12.890625 \nQ 22.859375 7.515625 30.078125 7.515625 \nQ 37.359375 7.515625 41.375 12.890625 \nQ 45.40625 18.265625 45.40625 27.984375 \nz\nM 54.390625 6.78125 \nQ 54.390625 -7.171875 48.1875 -13.984375 \nQ 42 -20.796875 29.203125 -20.796875 \nQ 24.46875 -20.796875 20.265625 -20.09375 \nQ 16.0625 -19.390625 12.109375 -17.921875 \nL 12.109375 -9.1875 \nQ 16.0625 -11.328125 19.921875 -12.34375 \nQ 23.78125 -13.375 27.78125 -13.375 \nQ 36.625 -13.375 41.015625 -8.765625 \nQ 45.40625 -4.15625 45.40625 5.171875 \nL 45.40625 9.625 \nQ 42.625 4.78125 38.28125 2.390625 \nQ 33.9375 0 27.875 0 \nQ 17.828125 0 11.671875 7.65625 \nQ 5.515625 15.328125 5.515625 27.984375 \nQ 5.515625 40.671875 11.671875 48.328125 \nQ 17.828125 56 27.875 56 \nQ 33.9375 56 38.28125 53.609375 \nQ 42.625 51.21875 45.40625 46.390625 \nL 45.40625 54.6875 \nL 54.390625 54.6875 \nz\n\" id=\"DejaVuSans-103\"/>\n       </defs>\n       <use xlink:href=\"#DejaVuSans-103\"/>\n      </g>\n     </g>\n    </g>\n    <g id=\"xtick_5\">\n     <g id=\"line2d_5\">\n      <g>\n       <use style=\"stroke:#000000;stroke-width:0.8;\" x=\"111.441202\" xlink:href=\"#me4816933e4\" y=\"224.64\"/>\n      </g>\n     </g>\n     <g id=\"text_5\">\n      <!-- i -->\n      <g transform=\"translate(110.052139 239.238437)scale(0.1 -0.1)\">\n       <defs>\n        <path d=\"M 9.421875 54.6875 \nL 18.40625 54.6875 \nL 18.40625 0 \nL 9.421875 0 \nz\nM 9.421875 75.984375 \nL 18.40625 75.984375 \nL 18.40625 64.59375 \nL 9.421875 64.59375 \nz\n\" id=\"DejaVuSans-105\"/>\n       </defs>\n       <use xlink:href=\"#DejaVuSans-105\"/>\n      </g>\n     </g>\n    </g>\n    <g id=\"xtick_6\">\n     <g id=\"line2d_6\">\n      <g>\n       <use style=\"stroke:#000000;stroke-width:0.8;\" x=\"132.044279\" xlink:href=\"#me4816933e4\" y=\"224.64\"/>\n      </g>\n     </g>\n     <g id=\"text_6\">\n      <!-- k -->\n      <g transform=\"translate(129.148966 239.238437)scale(0.1 -0.1)\">\n       <defs>\n        <path d=\"M 9.078125 75.984375 \nL 18.109375 75.984375 \nL 18.109375 31.109375 \nL 44.921875 54.6875 \nL 56.390625 54.6875 \nL 27.390625 29.109375 \nL 57.625 0 \nL 45.90625 0 \nL 18.109375 26.703125 \nL 18.109375 0 \nL 9.078125 0 \nz\n\" id=\"DejaVuSans-107\"/>\n       </defs>\n       <use xlink:href=\"#DejaVuSans-107\"/>\n      </g>\n     </g>\n    </g>\n    <g id=\"xtick_7\">\n     <g id=\"line2d_7\">\n      <g>\n       <use style=\"stroke:#000000;stroke-width:0.8;\" x=\"152.647356\" xlink:href=\"#me4816933e4\" y=\"224.64\"/>\n      </g>\n     </g>\n     <g id=\"text_7\">\n      <!-- m -->\n      <g transform=\"translate(147.777043 239.238437)scale(0.1 -0.1)\">\n       <defs>\n        <path d=\"M 52 44.1875 \nQ 55.375 50.25 60.0625 53.125 \nQ 64.75 56 71.09375 56 \nQ 79.640625 56 84.28125 50.015625 \nQ 88.921875 44.046875 88.921875 33.015625 \nL 88.921875 0 \nL 79.890625 0 \nL 79.890625 32.71875 \nQ 79.890625 40.578125 77.09375 44.375 \nQ 74.3125 48.1875 68.609375 48.1875 \nQ 61.625 48.1875 57.5625 43.546875 \nQ 53.515625 38.921875 53.515625 30.90625 \nL 53.515625 0 \nL 44.484375 0 \nL 44.484375 32.71875 \nQ 44.484375 40.625 41.703125 44.40625 \nQ 38.921875 48.1875 33.109375 48.1875 \nQ 26.21875 48.1875 22.15625 43.53125 \nQ 18.109375 38.875 18.109375 30.90625 \nL 18.109375 0 \nL 9.078125 0 \nL 9.078125 54.6875 \nL 18.109375 54.6875 \nL 18.109375 46.1875 \nQ 21.1875 51.21875 25.484375 53.609375 \nQ 29.78125 56 35.6875 56 \nQ 41.65625 56 45.828125 52.96875 \nQ 50 49.953125 52 44.1875 \nz\n\" id=\"DejaVuSans-109\"/>\n       </defs>\n       <use xlink:href=\"#DejaVuSans-109\"/>\n      </g>\n     </g>\n    </g>\n    <g id=\"xtick_8\">\n     <g id=\"line2d_8\">\n      <g>\n       <use style=\"stroke:#000000;stroke-width:0.8;\" x=\"173.250433\" xlink:href=\"#me4816933e4\" y=\"224.64\"/>\n      </g>\n     </g>\n     <g id=\"text_8\">\n      <!-- o -->\n      <g transform=\"translate(170.191058 239.238437)scale(0.1 -0.1)\">\n       <defs>\n        <path d=\"M 30.609375 48.390625 \nQ 23.390625 48.390625 19.1875 42.75 \nQ 14.984375 37.109375 14.984375 27.296875 \nQ 14.984375 17.484375 19.15625 11.84375 \nQ 23.34375 6.203125 30.609375 6.203125 \nQ 37.796875 6.203125 41.984375 11.859375 \nQ 46.1875 17.53125 46.1875 27.296875 \nQ 46.1875 37.015625 41.984375 42.703125 \nQ 37.796875 48.390625 30.609375 48.390625 \nz\nM 30.609375 56 \nQ 42.328125 56 49.015625 48.375 \nQ 55.71875 40.765625 55.71875 27.296875 \nQ 55.71875 13.875 49.015625 6.21875 \nQ 42.328125 -1.421875 30.609375 -1.421875 \nQ 18.84375 -1.421875 12.171875 6.21875 \nQ 5.515625 13.875 5.515625 27.296875 \nQ 5.515625 40.765625 12.171875 48.375 \nQ 18.84375 56 30.609375 56 \nz\n\" id=\"DejaVuSans-111\"/>\n       </defs>\n       <use xlink:href=\"#DejaVuSans-111\"/>\n      </g>\n     </g>\n    </g>\n    <g id=\"xtick_9\">\n     <g id=\"line2d_9\">\n      <g>\n       <use style=\"stroke:#000000;stroke-width:0.8;\" x=\"193.85351\" xlink:href=\"#me4816933e4\" y=\"224.64\"/>\n      </g>\n     </g>\n     <g id=\"text_9\">\n      <!-- q -->\n      <g transform=\"translate(190.679291 239.238437)scale(0.1 -0.1)\">\n       <defs>\n        <path d=\"M 14.796875 27.296875 \nQ 14.796875 17.390625 18.875 11.75 \nQ 22.953125 6.109375 30.078125 6.109375 \nQ 37.203125 6.109375 41.296875 11.75 \nQ 45.40625 17.390625 45.40625 27.296875 \nQ 45.40625 37.203125 41.296875 42.84375 \nQ 37.203125 48.484375 30.078125 48.484375 \nQ 22.953125 48.484375 18.875 42.84375 \nQ 14.796875 37.203125 14.796875 27.296875 \nz\nM 45.40625 8.203125 \nQ 42.578125 3.328125 38.25 0.953125 \nQ 33.9375 -1.421875 27.875 -1.421875 \nQ 17.96875 -1.421875 11.734375 6.484375 \nQ 5.515625 14.40625 5.515625 27.296875 \nQ 5.515625 40.1875 11.734375 48.09375 \nQ 17.96875 56 27.875 56 \nQ 33.9375 56 38.25 53.625 \nQ 42.578125 51.265625 45.40625 46.390625 \nL 45.40625 54.6875 \nL 54.390625 54.6875 \nL 54.390625 -20.796875 \nL 45.40625 -20.796875 \nz\n\" id=\"DejaVuSans-113\"/>\n       </defs>\n       <use xlink:href=\"#DejaVuSans-113\"/>\n      </g>\n     </g>\n    </g>\n    <g id=\"xtick_10\">\n     <g id=\"line2d_10\">\n      <g>\n       <use style=\"stroke:#000000;stroke-width:0.8;\" x=\"214.456587\" xlink:href=\"#me4816933e4\" y=\"224.64\"/>\n      </g>\n     </g>\n     <g id=\"text_10\">\n      <!-- s -->\n      <g transform=\"translate(211.851899 239.238437)scale(0.1 -0.1)\">\n       <defs>\n        <path d=\"M 44.28125 53.078125 \nL 44.28125 44.578125 \nQ 40.484375 46.53125 36.375 47.5 \nQ 32.28125 48.484375 27.875 48.484375 \nQ 21.1875 48.484375 17.84375 46.4375 \nQ 14.5 44.390625 14.5 40.28125 \nQ 14.5 37.15625 16.890625 35.375 \nQ 19.28125 33.59375 26.515625 31.984375 \nL 29.59375 31.296875 \nQ 39.15625 29.25 43.1875 25.515625 \nQ 47.21875 21.78125 47.21875 15.09375 \nQ 47.21875 7.46875 41.1875 3.015625 \nQ 35.15625 -1.421875 24.609375 -1.421875 \nQ 20.21875 -1.421875 15.453125 -0.5625 \nQ 10.6875 0.296875 5.421875 2 \nL 5.421875 11.28125 \nQ 10.40625 8.6875 15.234375 7.390625 \nQ 20.0625 6.109375 24.8125 6.109375 \nQ 31.15625 6.109375 34.5625 8.28125 \nQ 37.984375 10.453125 37.984375 14.40625 \nQ 37.984375 18.0625 35.515625 20.015625 \nQ 33.0625 21.96875 24.703125 23.78125 \nL 21.578125 24.515625 \nQ 13.234375 26.265625 9.515625 29.90625 \nQ 5.8125 33.546875 5.8125 39.890625 \nQ 5.8125 47.609375 11.28125 51.796875 \nQ 16.75 56 26.8125 56 \nQ 31.78125 56 36.171875 55.265625 \nQ 40.578125 54.546875 44.28125 53.078125 \nz\n\" id=\"DejaVuSans-115\"/>\n       </defs>\n       <use xlink:href=\"#DejaVuSans-115\"/>\n      </g>\n     </g>\n    </g>\n    <g id=\"xtick_11\">\n     <g id=\"line2d_11\">\n      <g>\n       <use style=\"stroke:#000000;stroke-width:0.8;\" x=\"235.059663\" xlink:href=\"#me4816933e4\" y=\"224.64\"/>\n      </g>\n     </g>\n     <g id=\"text_11\">\n      <!-- u -->\n      <g transform=\"translate(231.890913 239.238437)scale(0.1 -0.1)\">\n       <defs>\n        <path d=\"M 8.5 21.578125 \nL 8.5 54.6875 \nL 17.484375 54.6875 \nL 17.484375 21.921875 \nQ 17.484375 14.15625 20.5 10.265625 \nQ 23.53125 6.390625 29.59375 6.390625 \nQ 36.859375 6.390625 41.078125 11.03125 \nQ 45.3125 15.671875 45.3125 23.6875 \nL 45.3125 54.6875 \nL 54.296875 54.6875 \nL 54.296875 0 \nL 45.3125 0 \nL 45.3125 8.40625 \nQ 42.046875 3.421875 37.71875 1 \nQ 33.40625 -1.421875 27.6875 -1.421875 \nQ 18.265625 -1.421875 13.375 4.4375 \nQ 8.5 10.296875 8.5 21.578125 \nz\nM 31.109375 56 \nz\n\" id=\"DejaVuSans-117\"/>\n       </defs>\n       <use xlink:href=\"#DejaVuSans-117\"/>\n      </g>\n     </g>\n    </g>\n    <g id=\"xtick_12\">\n     <g id=\"line2d_12\">\n      <g>\n       <use style=\"stroke:#000000;stroke-width:0.8;\" x=\"255.66274\" xlink:href=\"#me4816933e4\" y=\"224.64\"/>\n      </g>\n     </g>\n     <g id=\"text_12\">\n      <!-- w -->\n      <g transform=\"translate(251.573678 239.238437)scale(0.1 -0.1)\">\n       <defs>\n        <path d=\"M 4.203125 54.6875 \nL 13.1875 54.6875 \nL 24.421875 12.015625 \nL 35.59375 54.6875 \nL 46.1875 54.6875 \nL 57.421875 12.015625 \nL 68.609375 54.6875 \nL 77.59375 54.6875 \nL 63.28125 0 \nL 52.6875 0 \nL 40.921875 44.828125 \nL 29.109375 0 \nL 18.5 0 \nz\n\" id=\"DejaVuSans-119\"/>\n       </defs>\n       <use xlink:href=\"#DejaVuSans-119\"/>\n      </g>\n     </g>\n    </g>\n    <g id=\"xtick_13\">\n     <g id=\"line2d_13\">\n      <g>\n       <use style=\"stroke:#000000;stroke-width:0.8;\" x=\"276.265817\" xlink:href=\"#me4816933e4\" y=\"224.64\"/>\n      </g>\n     </g>\n     <g id=\"text_13\">\n      <!-- y -->\n      <g transform=\"translate(273.306442 239.238437)scale(0.1 -0.1)\">\n       <defs>\n        <path d=\"M 32.171875 -5.078125 \nQ 28.375 -14.84375 24.75 -17.8125 \nQ 21.140625 -20.796875 15.09375 -20.796875 \nL 7.90625 -20.796875 \nL 7.90625 -13.28125 \nL 13.1875 -13.28125 \nQ 16.890625 -13.28125 18.9375 -11.515625 \nQ 21 -9.765625 23.484375 -3.21875 \nL 25.09375 0.875 \nL 2.984375 54.6875 \nL 12.5 54.6875 \nL 29.59375 11.921875 \nL 46.6875 54.6875 \nL 56.203125 54.6875 \nz\n\" id=\"DejaVuSans-121\"/>\n       </defs>\n       <use xlink:href=\"#DejaVuSans-121\"/>\n      </g>\n     </g>\n    </g>\n   </g>\n   <g id=\"matplotlib.axis_2\">\n    <g id=\"ytick_1\">\n     <g id=\"line2d_14\">\n      <defs>\n       <path d=\"M 0 0 \nL -3.5 0 \n\" id=\"m72cfbb77b6\" style=\"stroke:#000000;stroke-width:0.8;\"/>\n      </defs>\n      <g>\n       <use style=\"stroke:#000000;stroke-width:0.8;\" x=\"23.878125\" xlink:href=\"#m72cfbb77b6\" y=\"11.381538\"/>\n      </g>\n     </g>\n     <g id=\"text_14\">\n      <!-- a -->\n      <g transform=\"translate(14.798438 13.710445)rotate(-90)scale(0.1 -0.1)\">\n       <use xlink:href=\"#DejaVuSans-97\"/>\n      </g>\n     </g>\n    </g>\n    <g id=\"ytick_2\">\n     <g id=\"line2d_15\">\n      <g>\n       <use style=\"stroke:#000000;stroke-width:0.8;\" x=\"23.878125\" xlink:href=\"#m72cfbb77b6\" y=\"28.107692\"/>\n      </g>\n     </g>\n     <g id=\"text_15\">\n      <!-- c -->\n      <g transform=\"translate(14.798438 29.806911)rotate(-90)scale(0.1 -0.1)\">\n       <use xlink:href=\"#DejaVuSans-99\"/>\n      </g>\n     </g>\n    </g>\n    <g id=\"ytick_3\">\n     <g id=\"line2d_16\">\n      <g>\n       <use style=\"stroke:#000000;stroke-width:0.8;\" x=\"23.878125\" xlink:href=\"#m72cfbb77b6\" y=\"44.833846\"/>\n      </g>\n     </g>\n     <g id=\"text_16\">\n      <!-- e -->\n      <g transform=\"translate(14.798438 47.187752)rotate(-90)scale(0.1 -0.1)\">\n       <use xlink:href=\"#DejaVuSans-101\"/>\n      </g>\n     </g>\n    </g>\n    <g id=\"ytick_4\">\n     <g id=\"line2d_17\">\n      <g>\n       <use style=\"stroke:#000000;stroke-width:0.8;\" x=\"23.878125\" xlink:href=\"#m72cfbb77b6\" y=\"61.56\"/>\n      </g>\n     </g>\n     <g id=\"text_17\">\n      <!-- g -->\n      <g transform=\"translate(14.798438 64.109219)rotate(-90)scale(0.1 -0.1)\">\n       <use xlink:href=\"#DejaVuSans-103\"/>\n      </g>\n     </g>\n    </g>\n    <g id=\"ytick_5\">\n     <g id=\"line2d_18\">\n      <g>\n       <use style=\"stroke:#000000;stroke-width:0.8;\" x=\"23.878125\" xlink:href=\"#m72cfbb77b6\" y=\"78.286154\"/>\n      </g>\n     </g>\n     <g id=\"text_18\">\n      <!-- i -->\n      <g transform=\"translate(14.798438 77.26506)rotate(-90)scale(0.1 -0.1)\">\n       <use xlink:href=\"#DejaVuSans-105\"/>\n      </g>\n     </g>\n    </g>\n    <g id=\"ytick_6\">\n     <g id=\"line2d_19\">\n      <g>\n       <use style=\"stroke:#000000;stroke-width:0.8;\" x=\"23.878125\" xlink:href=\"#m72cfbb77b6\" y=\"95.012308\"/>\n      </g>\n     </g>\n     <g id=\"text_19\">\n      <!-- k -->\n      <g transform=\"translate(14.798438 97.003714)rotate(-90)scale(0.1 -0.1)\">\n       <use xlink:href=\"#DejaVuSans-107\"/>\n      </g>\n     </g>\n    </g>\n    <g id=\"ytick_7\">\n     <g id=\"line2d_20\">\n      <g>\n       <use style=\"stroke:#000000;stroke-width:0.8;\" x=\"23.878125\" xlink:href=\"#m72cfbb77b6\" y=\"111.738462\"/>\n      </g>\n     </g>\n     <g id=\"text_20\">\n      <!-- m -->\n      <g transform=\"translate(14.798438 117.679868)rotate(-90)scale(0.1 -0.1)\">\n       <use xlink:href=\"#DejaVuSans-109\"/>\n      </g>\n     </g>\n    </g>\n    <g id=\"ytick_8\">\n     <g id=\"line2d_21\">\n      <g>\n       <use style=\"stroke:#000000;stroke-width:0.8;\" x=\"23.878125\" xlink:href=\"#m72cfbb77b6\" y=\"128.464615\"/>\n      </g>\n     </g>\n     <g id=\"text_21\">\n      <!-- o -->\n      <g transform=\"translate(14.798438 130.784147)rotate(-90)scale(0.1 -0.1)\">\n       <use xlink:href=\"#DejaVuSans-111\"/>\n      </g>\n     </g>\n    </g>\n    <g id=\"ytick_9\">\n     <g id=\"line2d_22\">\n      <g>\n       <use style=\"stroke:#000000;stroke-width:0.8;\" x=\"23.878125\" xlink:href=\"#m72cfbb77b6\" y=\"145.190769\"/>\n      </g>\n     </g>\n     <g id=\"text_22\">\n      <!-- q -->\n      <g transform=\"translate(14.798438 147.739988)rotate(-90)scale(0.1 -0.1)\">\n       <use xlink:href=\"#DejaVuSans-113\"/>\n      </g>\n     </g>\n    </g>\n    <g id=\"ytick_10\">\n     <g id=\"line2d_23\">\n      <g>\n       <use style=\"stroke:#000000;stroke-width:0.8;\" x=\"23.878125\" xlink:href=\"#m72cfbb77b6\" y=\"161.916923\"/>\n      </g>\n     </g>\n     <g id=\"text_23\">\n      <!-- s -->\n      <g transform=\"translate(14.798438 163.327079)rotate(-90)scale(0.1 -0.1)\">\n       <use xlink:href=\"#DejaVuSans-115\"/>\n      </g>\n     </g>\n    </g>\n    <g id=\"ytick_11\">\n     <g id=\"line2d_24\">\n      <g>\n       <use style=\"stroke:#000000;stroke-width:0.8;\" x=\"23.878125\" xlink:href=\"#m72cfbb77b6\" y=\"178.643077\"/>\n      </g>\n     </g>\n     <g id=\"text_24\">\n      <!-- u -->\n      <g transform=\"translate(14.798438 181.181358)rotate(-90)scale(0.1 -0.1)\">\n       <use xlink:href=\"#DejaVuSans-117\"/>\n      </g>\n     </g>\n    </g>\n    <g id=\"ytick_12\">\n     <g id=\"line2d_25\">\n      <g>\n       <use style=\"stroke:#000000;stroke-width:0.8;\" x=\"23.878125\" xlink:href=\"#m72cfbb77b6\" y=\"195.369231\"/>\n      </g>\n     </g>\n     <g id=\"text_25\">\n      <!-- w -->\n      <g transform=\"translate(14.798438 199.748137)rotate(-90)scale(0.1 -0.1)\">\n       <use xlink:href=\"#DejaVuSans-119\"/>\n      </g>\n     </g>\n    </g>\n    <g id=\"ytick_13\">\n     <g id=\"line2d_26\">\n      <g>\n       <use style=\"stroke:#000000;stroke-width:0.8;\" x=\"23.878125\" xlink:href=\"#m72cfbb77b6\" y=\"212.095385\"/>\n      </g>\n     </g>\n     <g id=\"text_26\">\n      <!-- y -->\n      <g transform=\"translate(14.798438 214.214916)rotate(-90)scale(0.1 -0.1)\">\n       <use xlink:href=\"#DejaVuSans-121\"/>\n      </g>\n     </g>\n    </g>\n   </g>\n  </g>\n  <g id=\"axes_2\">\n   <g id=\"patch_3\">\n    <path clip-path=\"url(#p3d41eba6fa)\" d=\"M 308.458125 224.64 \nL 308.458125 223.790625 \nL 308.458125 8.049375 \nL 308.458125 7.2 \nL 319.330125 7.2 \nL 319.330125 8.049375 \nL 319.330125 223.790625 \nL 319.330125 224.64 \nz\n\" style=\"fill:#ffffff;stroke:#ffffff;stroke-linejoin:miter;stroke-width:0.01;\"/>\n   </g>\n   <image height=\"217\" id=\"imageb42a3f7a53\" transform=\"scale(1 -1)translate(0 -217)\" width=\"11\" x=\"308\" xlink:href=\"data:image/png;base64,\niVBORw0KGgoAAAANSUhEUgAAAAsAAADZCAYAAAD2WsoCAAABG0lEQVR4nO2YMQ5DIQxDqcT9j9uh+oSu7cYbnmQQna3IcRyH39f7M2db/PXZlrGtA2zrANt6rVM2aQAWUDpWOYTGOhYPBXAuUtmj4Uk3iflNGqiytbBo3CHxlbKwG0p3fPJf8/+Difk9GhnSDTH5rQvrxRdTIyNFi+lscUY0Ql4ycNwWjdIqm+YHlU01AHiAlGGbwuIrY60eogbjrJ1jVBmBvTsYYiRm/vXC6k3RjPSADvcMc7bdEeYXD72WdV58ed8pW3rDM7/4jI/wRoj5QypXrSd0CmdmpDvuHzBUIyIYxVfBOLxBtN3sXzXRGxo4w/whOp/vjYxxh3gDHvoIzoxGDQBmDaJN8SoT8PlqeN5AOt9x51X2xm01+AXeLt0TcCgzLwAAAABJRU5ErkJggg==\" y=\"-7\"/>\n   <g id=\"matplotlib.axis_3\"/>\n   <g id=\"matplotlib.axis_4\">\n    <g id=\"ytick_14\">\n     <g id=\"line2d_27\">\n      <defs>\n       <path d=\"M 0 0 \nL 3.5 0 \n\" id=\"mbbad63bae1\" style=\"stroke:#000000;stroke-width:0.8;\"/>\n      </defs>\n      <g>\n       <use style=\"stroke:#000000;stroke-width:0.8;\" x=\"319.330125\" xlink:href=\"#mbbad63bae1\" y=\"177.231012\"/>\n      </g>\n     </g>\n     <g id=\"text_27\">\n      <!-- 0.2 -->\n      <g transform=\"translate(326.330125 181.030231)scale(0.1 -0.1)\">\n       <defs>\n        <path d=\"M 31.78125 66.40625 \nQ 24.171875 66.40625 20.328125 58.90625 \nQ 16.5 51.421875 16.5 36.375 \nQ 16.5 21.390625 20.328125 13.890625 \nQ 24.171875 6.390625 31.78125 6.390625 \nQ 39.453125 6.390625 43.28125 13.890625 \nQ 47.125 21.390625 47.125 36.375 \nQ 47.125 51.421875 43.28125 58.90625 \nQ 39.453125 66.40625 31.78125 66.40625 \nz\nM 31.78125 74.21875 \nQ 44.046875 74.21875 50.515625 64.515625 \nQ 56.984375 54.828125 56.984375 36.375 \nQ 56.984375 17.96875 50.515625 8.265625 \nQ 44.046875 -1.421875 31.78125 -1.421875 \nQ 19.53125 -1.421875 13.0625 8.265625 \nQ 6.59375 17.96875 6.59375 36.375 \nQ 6.59375 54.828125 13.0625 64.515625 \nQ 19.53125 74.21875 31.78125 74.21875 \nz\n\" id=\"DejaVuSans-48\"/>\n        <path d=\"M 10.6875 12.40625 \nL 21 12.40625 \nL 21 0 \nL 10.6875 0 \nz\n\" id=\"DejaVuSans-46\"/>\n        <path d=\"M 19.1875 8.296875 \nL 53.609375 8.296875 \nL 53.609375 0 \nL 7.328125 0 \nL 7.328125 8.296875 \nQ 12.9375 14.109375 22.625 23.890625 \nQ 32.328125 33.6875 34.8125 36.53125 \nQ 39.546875 41.84375 41.421875 45.53125 \nQ 43.3125 49.21875 43.3125 52.78125 \nQ 43.3125 58.59375 39.234375 62.25 \nQ 35.15625 65.921875 28.609375 65.921875 \nQ 23.96875 65.921875 18.8125 64.3125 \nQ 13.671875 62.703125 7.8125 59.421875 \nL 7.8125 69.390625 \nQ 13.765625 71.78125 18.9375 73 \nQ 24.125 74.21875 28.421875 74.21875 \nQ 39.75 74.21875 46.484375 68.546875 \nQ 53.21875 62.890625 53.21875 53.421875 \nQ 53.21875 48.921875 51.53125 44.890625 \nQ 49.859375 40.875 45.40625 35.40625 \nQ 44.1875 33.984375 37.640625 27.21875 \nQ 31.109375 20.453125 19.1875 8.296875 \nz\n\" id=\"DejaVuSans-50\"/>\n       </defs>\n       <use xlink:href=\"#DejaVuSans-48\"/>\n       <use x=\"63.623047\" xlink:href=\"#DejaVuSans-46\"/>\n       <use x=\"95.410156\" xlink:href=\"#DejaVuSans-50\"/>\n      </g>\n     </g>\n    </g>\n    <g id=\"ytick_15\">\n     <g id=\"line2d_28\">\n      <g>\n       <use style=\"stroke:#000000;stroke-width:0.8;\" x=\"319.330125\" xlink:href=\"#mbbad63bae1\" y=\"129.820865\"/>\n      </g>\n     </g>\n     <g id=\"text_28\">\n      <!-- 0.4 -->\n      <g transform=\"translate(326.330125 133.620084)scale(0.1 -0.1)\">\n       <defs>\n        <path d=\"M 37.796875 64.3125 \nL 12.890625 25.390625 \nL 37.796875 25.390625 \nz\nM 35.203125 72.90625 \nL 47.609375 72.90625 \nL 47.609375 25.390625 \nL 58.015625 25.390625 \nL 58.015625 17.1875 \nL 47.609375 17.1875 \nL 47.609375 0 \nL 37.796875 0 \nL 37.796875 17.1875 \nL 4.890625 17.1875 \nL 4.890625 26.703125 \nz\n\" id=\"DejaVuSans-52\"/>\n       </defs>\n       <use xlink:href=\"#DejaVuSans-48\"/>\n       <use x=\"63.623047\" xlink:href=\"#DejaVuSans-46\"/>\n       <use x=\"95.410156\" xlink:href=\"#DejaVuSans-52\"/>\n      </g>\n     </g>\n    </g>\n    <g id=\"ytick_16\">\n     <g id=\"line2d_29\">\n      <g>\n       <use style=\"stroke:#000000;stroke-width:0.8;\" x=\"319.330125\" xlink:href=\"#mbbad63bae1\" y=\"82.410718\"/>\n      </g>\n     </g>\n     <g id=\"text_29\">\n      <!-- 0.6 -->\n      <g transform=\"translate(326.330125 86.209937)scale(0.1 -0.1)\">\n       <defs>\n        <path d=\"M 33.015625 40.375 \nQ 26.375 40.375 22.484375 35.828125 \nQ 18.609375 31.296875 18.609375 23.390625 \nQ 18.609375 15.53125 22.484375 10.953125 \nQ 26.375 6.390625 33.015625 6.390625 \nQ 39.65625 6.390625 43.53125 10.953125 \nQ 47.40625 15.53125 47.40625 23.390625 \nQ 47.40625 31.296875 43.53125 35.828125 \nQ 39.65625 40.375 33.015625 40.375 \nz\nM 52.59375 71.296875 \nL 52.59375 62.3125 \nQ 48.875 64.0625 45.09375 64.984375 \nQ 41.3125 65.921875 37.59375 65.921875 \nQ 27.828125 65.921875 22.671875 59.328125 \nQ 17.53125 52.734375 16.796875 39.40625 \nQ 19.671875 43.65625 24.015625 45.921875 \nQ 28.375 48.1875 33.59375 48.1875 \nQ 44.578125 48.1875 50.953125 41.515625 \nQ 57.328125 34.859375 57.328125 23.390625 \nQ 57.328125 12.15625 50.6875 5.359375 \nQ 44.046875 -1.421875 33.015625 -1.421875 \nQ 20.359375 -1.421875 13.671875 8.265625 \nQ 6.984375 17.96875 6.984375 36.375 \nQ 6.984375 53.65625 15.1875 63.9375 \nQ 23.390625 74.21875 37.203125 74.21875 \nQ 40.921875 74.21875 44.703125 73.484375 \nQ 48.484375 72.75 52.59375 71.296875 \nz\n\" id=\"DejaVuSans-54\"/>\n       </defs>\n       <use xlink:href=\"#DejaVuSans-48\"/>\n       <use x=\"63.623047\" xlink:href=\"#DejaVuSans-46\"/>\n       <use x=\"95.410156\" xlink:href=\"#DejaVuSans-54\"/>\n      </g>\n     </g>\n    </g>\n    <g id=\"ytick_17\">\n     <g id=\"line2d_30\">\n      <g>\n       <use style=\"stroke:#000000;stroke-width:0.8;\" x=\"319.330125\" xlink:href=\"#mbbad63bae1\" y=\"35.000571\"/>\n      </g>\n     </g>\n     <g id=\"text_30\">\n      <!-- 0.8 -->\n      <g transform=\"translate(326.330125 38.79979)scale(0.1 -0.1)\">\n       <defs>\n        <path d=\"M 31.78125 34.625 \nQ 24.75 34.625 20.71875 30.859375 \nQ 16.703125 27.09375 16.703125 20.515625 \nQ 16.703125 13.921875 20.71875 10.15625 \nQ 24.75 6.390625 31.78125 6.390625 \nQ 38.8125 6.390625 42.859375 10.171875 \nQ 46.921875 13.96875 46.921875 20.515625 \nQ 46.921875 27.09375 42.890625 30.859375 \nQ 38.875 34.625 31.78125 34.625 \nz\nM 21.921875 38.8125 \nQ 15.578125 40.375 12.03125 44.71875 \nQ 8.5 49.078125 8.5 55.328125 \nQ 8.5 64.0625 14.71875 69.140625 \nQ 20.953125 74.21875 31.78125 74.21875 \nQ 42.671875 74.21875 48.875 69.140625 \nQ 55.078125 64.0625 55.078125 55.328125 \nQ 55.078125 49.078125 51.53125 44.71875 \nQ 48 40.375 41.703125 38.8125 \nQ 48.828125 37.15625 52.796875 32.3125 \nQ 56.78125 27.484375 56.78125 20.515625 \nQ 56.78125 9.90625 50.3125 4.234375 \nQ 43.84375 -1.421875 31.78125 -1.421875 \nQ 19.734375 -1.421875 13.25 4.234375 \nQ 6.78125 9.90625 6.78125 20.515625 \nQ 6.78125 27.484375 10.78125 32.3125 \nQ 14.796875 37.15625 21.921875 38.8125 \nz\nM 18.3125 54.390625 \nQ 18.3125 48.734375 21.84375 45.5625 \nQ 25.390625 42.390625 31.78125 42.390625 \nQ 38.140625 42.390625 41.71875 45.5625 \nQ 45.3125 48.734375 45.3125 54.390625 \nQ 45.3125 60.0625 41.71875 63.234375 \nQ 38.140625 66.40625 31.78125 66.40625 \nQ 25.390625 66.40625 21.84375 63.234375 \nQ 18.3125 60.0625 18.3125 54.390625 \nz\n\" id=\"DejaVuSans-56\"/>\n       </defs>\n       <use xlink:href=\"#DejaVuSans-48\"/>\n       <use x=\"63.623047\" xlink:href=\"#DejaVuSans-46\"/>\n       <use x=\"95.410156\" xlink:href=\"#DejaVuSans-56\"/>\n      </g>\n     </g>\n    </g>\n   </g>\n   <g id=\"patch_4\">\n    <path d=\"M 308.458125 224.64 \nL 308.458125 223.790625 \nL 308.458125 8.049375 \nL 308.458125 7.2 \nL 319.330125 7.2 \nL 319.330125 8.049375 \nL 319.330125 223.790625 \nL 319.330125 224.64 \nz\n\" style=\"fill:none;\"/>\n   </g>\n  </g>\n </g>\n <defs>\n  <clipPath id=\"p04a59e5fec\">\n   <rect height=\"217.44\" width=\"267.84\" x=\"23.878125\" y=\"7.2\"/>\n  </clipPath>\n  <clipPath id=\"p3d41eba6fa\">\n   <rect height=\"217.44\" width=\"10.872\" x=\"308.458125\" y=\"7.2\"/>\n  </clipPath>\n </defs>\n</svg>\n",
      "image/png": "[encoded data removed]"
     },
     "metadata": {
      "needs_background": "light"
     }
    }
   ],
   "source": [
    "sns.heatmap(char_transitions_table, cmap=\"Blues\")"
   ]
  },
  {
   "cell_type": "code",
   "execution_count": 47,
   "metadata": {},
   "outputs": [],
   "source": [
    "df = pd.DataFrame(mi[:300], index=feature_names[:300], columns=['mi'])\n",
    "df['rank'] = range(1, df.shape[0]+1, 1)"
   ]
  },
  {
   "cell_type": "code",
   "execution_count": 48,
   "metadata": {},
   "outputs": [
    {
     "output_type": "execute_result",
     "data": {
      "text/plain": [
       "                                   mi  rank\n",
       "log_char_transition_mean     0.069113    61\n",
       "char_transition_mean         0.068423    63\n",
       "log_char_transition_min      0.068004    64\n",
       "char_transition_min          0.067194    65\n",
       "char_transition_max          0.061158    69\n",
       "log_char_transition_max      0.055209    76\n",
       "log_phoneme_transition_std   0.054336    78\n",
       "phoneme_transition_std       0.053729    80\n",
       "phoneme_transition_max       0.051542    89\n",
       "log_phoneme_transition_max   0.050074    95\n",
       "log_phoneme_transition_min   0.049771    96\n",
       "phoneme_transition_min       0.049072    97\n",
       "phoneme_transition_mean      0.047770   100\n",
       "log_char_transition_std      0.046811   105\n",
       "log_phoneme_transition_mean  0.046713   107\n",
       "char_transition_std          0.045035   117"
      ],
      "text/html": "<div>\n<style scoped>\n    .dataframe tbody tr th:only-of-type {\n        vertical-align: middle;\n    }\n\n    .dataframe tbody tr th {\n        vertical-align: top;\n    }\n\n    .dataframe thead th {\n        text-align: right;\n    }\n</style>\n<table border=\"1\" class=\"dataframe\">\n  <thead>\n    <tr style=\"text-align: right;\">\n      <th></th>\n      <th>mi</th>\n      <th>rank</th>\n    </tr>\n  </thead>\n  <tbody>\n    <tr>\n      <th>log_char_transition_mean</th>\n      <td>0.069113</td>\n      <td>61</td>\n    </tr>\n    <tr>\n      <th>char_transition_mean</th>\n      <td>0.068423</td>\n      <td>63</td>\n    </tr>\n    <tr>\n      <th>log_char_transition_min</th>\n      <td>0.068004</td>\n      <td>64</td>\n    </tr>\n    <tr>\n      <th>char_transition_min</th>\n      <td>0.067194</td>\n      <td>65</td>\n    </tr>\n    <tr>\n      <th>char_transition_max</th>\n      <td>0.061158</td>\n      <td>69</td>\n    </tr>\n    <tr>\n      <th>log_char_transition_max</th>\n      <td>0.055209</td>\n      <td>76</td>\n    </tr>\n    <tr>\n      <th>log_phoneme_transition_std</th>\n      <td>0.054336</td>\n      <td>78</td>\n    </tr>\n    <tr>\n      <th>phoneme_transition_std</th>\n      <td>0.053729</td>\n      <td>80</td>\n    </tr>\n    <tr>\n      <th>phoneme_transition_max</th>\n      <td>0.051542</td>\n      <td>89</td>\n    </tr>\n    <tr>\n      <th>log_phoneme_transition_max</th>\n      <td>0.050074</td>\n      <td>95</td>\n    </tr>\n    <tr>\n      <th>log_phoneme_transition_min</th>\n      <td>0.049771</td>\n      <td>96</td>\n    </tr>\n    <tr>\n      <th>phoneme_transition_min</th>\n      <td>0.049072</td>\n      <td>97</td>\n    </tr>\n    <tr>\n      <th>phoneme_transition_mean</th>\n      <td>0.047770</td>\n      <td>100</td>\n    </tr>\n    <tr>\n      <th>log_char_transition_std</th>\n      <td>0.046811</td>\n      <td>105</td>\n    </tr>\n    <tr>\n      <th>log_phoneme_transition_mean</th>\n      <td>0.046713</td>\n      <td>107</td>\n    </tr>\n    <tr>\n      <th>char_transition_std</th>\n      <td>0.045035</td>\n      <td>117</td>\n    </tr>\n  </tbody>\n</table>\n</div>"
     },
     "metadata": {},
     "execution_count": 48
    }
   ],
   "source": [
    "df[df.index.str.contains('char') | df.index.str.contains('phoneme')]"
   ]
  },
  {
   "cell_type": "code",
   "execution_count": 53,
   "metadata": {},
   "outputs": [
    {
     "output_type": "execute_result",
     "data": {
      "text/plain": [
       "                             complexity  char_transition_min  \\\n",
       "complexity                     1.000000            -0.181083   \n",
       "char_transition_min           -0.181083             1.000000   \n",
       "char_transition_max           -0.069972            -0.062774   \n",
       "char_transition_mean          -0.188928             0.336165   \n",
       "char_transition_std           -0.067631            -0.198165   \n",
       "phoneme_transition_min        -0.191785             0.327063   \n",
       "phoneme_transition_max         0.004290            -0.022665   \n",
       "phoneme_transition_mean       -0.090849             0.150922   \n",
       "phoneme_transition_std        -0.010460            -0.002166   \n",
       "log_char_transition_min       -0.183602             0.999784   \n",
       "log_char_transition_max       -0.084443            -0.049643   \n",
       "log_char_transition_mean      -0.194512             0.338005   \n",
       "log_char_transition_std       -0.072694            -0.202335   \n",
       "log_phoneme_transition_min    -0.193443             0.327372   \n",
       "log_phoneme_transition_max     0.001394            -0.021950   \n",
       "log_phoneme_transition_mean   -0.091503             0.148933   \n",
       "log_phoneme_transition_std    -0.010782            -0.003810   \n",
       "\n",
       "                             char_transition_max  char_transition_mean  \\\n",
       "complexity                             -0.069972             -0.188928   \n",
       "char_transition_min                    -0.062774              0.336165   \n",
       "char_transition_max                     1.000000              0.778849   \n",
       "char_transition_mean                    0.778849              1.000000   \n",
       "char_transition_std                     0.955269              0.718651   \n",
       "phoneme_transition_min                 -0.069339              0.087088   \n",
       "phoneme_transition_max                  0.120593              0.177735   \n",
       "phoneme_transition_mean                 0.086732              0.248253   \n",
       "phoneme_transition_std                  0.097330              0.169865   \n",
       "log_char_transition_min                -0.063091              0.336147   \n",
       "log_char_transition_max                 0.994891              0.805870   \n",
       "log_char_transition_mean                0.773489              0.999393   \n",
       "log_char_transition_std                 0.954496              0.724641   \n",
       "log_phoneme_transition_min             -0.069422              0.087226   \n",
       "log_phoneme_transition_max              0.131196              0.190886   \n",
       "log_phoneme_transition_mean             0.091332              0.252612   \n",
       "log_phoneme_transition_std              0.102590              0.175609   \n",
       "\n",
       "                             char_transition_std  phoneme_transition_min  \\\n",
       "complexity                             -0.067631               -0.191785   \n",
       "char_transition_min                    -0.198165                0.327063   \n",
       "char_transition_max                     0.955269               -0.069339   \n",
       "char_transition_mean                    0.718651                0.087088   \n",
       "char_transition_std                     1.000000               -0.061696   \n",
       "phoneme_transition_min                 -0.061696                1.000000   \n",
       "phoneme_transition_max                  0.028881               -0.155454   \n",
       "phoneme_transition_mean                -0.002332                0.120296   \n",
       "phoneme_transition_std                  0.021682               -0.194951   \n",
       "log_char_transition_min                -0.198044                0.328718   \n",
       "log_char_transition_max                 0.948994               -0.073983   \n",
       "log_char_transition_mean                0.711408                0.085529   \n",
       "log_char_transition_std                 0.999074               -0.066040   \n",
       "log_phoneme_transition_min             -0.061251                0.999749   \n",
       "log_phoneme_transition_max              0.038245               -0.147018   \n",
       "log_phoneme_transition_mean             0.001641                0.124369   \n",
       "log_phoneme_transition_std              0.026069               -0.196058   \n",
       "\n",
       "                             phoneme_transition_max  phoneme_transition_mean  \\\n",
       "complexity                                 0.004290                -0.090849   \n",
       "char_transition_min                       -0.022665                 0.150922   \n",
       "char_transition_max                        0.120593                 0.086732   \n",
       "char_transition_mean                       0.177735                 0.248253   \n",
       "char_transition_std                        0.028881                -0.002332   \n",
       "phoneme_transition_min                    -0.155454                 0.120296   \n",
       "phoneme_transition_max                     1.000000                 0.874207   \n",
       "phoneme_transition_mean                    0.874207                 1.000000   \n",
       "phoneme_transition_std                     0.971116                 0.886536   \n",
       "log_char_transition_min                   -0.021407                 0.152762   \n",
       "log_char_transition_max                    0.142362                 0.109678   \n",
       "log_char_transition_mean                   0.185710                 0.255635   \n",
       "log_char_transition_std                    0.035683                 0.003592   \n",
       "log_phoneme_transition_min                -0.156472                 0.119790   \n",
       "log_phoneme_transition_max                 0.997506                 0.881113   \n",
       "log_phoneme_transition_mean                0.875488                 0.999491   \n",
       "log_phoneme_transition_std                 0.971924                 0.887741   \n",
       "\n",
       "                             phoneme_transition_std  log_char_transition_min  \\\n",
       "complexity                                -0.010460                -0.183602   \n",
       "char_transition_min                       -0.002166                 0.999784   \n",
       "char_transition_max                        0.097330                -0.063091   \n",
       "char_transition_mean                       0.169865                 0.336147   \n",
       "char_transition_std                        0.021682                -0.198044   \n",
       "phoneme_transition_min                    -0.194951                 0.328718   \n",
       "phoneme_transition_max                     0.971116                -0.021407   \n",
       "phoneme_transition_mean                    0.886536                 0.152762   \n",
       "phoneme_transition_std                     1.000000                -0.001011   \n",
       "log_char_transition_min                   -0.001011                 1.000000   \n",
       "log_char_transition_max                    0.118183                -0.049753   \n",
       "log_char_transition_mean                   0.177107                 0.338119   \n",
       "log_char_transition_std                    0.028232                -0.202104   \n",
       "log_phoneme_transition_min                -0.195271                 0.329114   \n",
       "log_phoneme_transition_max                 0.969686                -0.020723   \n",
       "log_phoneme_transition_mean                0.885921                 0.150793   \n",
       "log_phoneme_transition_std                 0.999519                -0.002685   \n",
       "\n",
       "                             log_char_transition_max  \\\n",
       "complexity                                 -0.084443   \n",
       "char_transition_min                        -0.049643   \n",
       "char_transition_max                         0.994891   \n",
       "char_transition_mean                        0.805870   \n",
       "char_transition_std                         0.948994   \n",
       "phoneme_transition_min                     -0.073983   \n",
       "phoneme_transition_max                      0.142362   \n",
       "phoneme_transition_mean                     0.109678   \n",
       "phoneme_transition_std                      0.118183   \n",
       "log_char_transition_min                    -0.049753   \n",
       "log_char_transition_max                     1.000000   \n",
       "log_char_transition_mean                    0.802839   \n",
       "log_char_transition_std                     0.952062   \n",
       "log_phoneme_transition_min                 -0.074121   \n",
       "log_phoneme_transition_max                  0.153967   \n",
       "log_phoneme_transition_mean                 0.114666   \n",
       "log_phoneme_transition_std                  0.123922   \n",
       "\n",
       "                             log_char_transition_mean  \\\n",
       "complexity                                  -0.194512   \n",
       "char_transition_min                          0.338005   \n",
       "char_transition_max                          0.773489   \n",
       "char_transition_mean                         0.999393   \n",
       "char_transition_std                          0.711408   \n",
       "phoneme_transition_min                       0.085529   \n",
       "phoneme_transition_max                       0.185710   \n",
       "phoneme_transition_mean                      0.255635   \n",
       "phoneme_transition_std                       0.177107   \n",
       "log_char_transition_min                      0.338119   \n",
       "log_char_transition_max                      0.802839   \n",
       "log_char_transition_mean                     1.000000   \n",
       "log_char_transition_std                      0.718352   \n",
       "log_phoneme_transition_min                   0.085657   \n",
       "log_phoneme_transition_max                   0.199164   \n",
       "log_phoneme_transition_mean                  0.260155   \n",
       "log_phoneme_transition_std                   0.182982   \n",
       "\n",
       "                             log_char_transition_std  \\\n",
       "complexity                                 -0.072694   \n",
       "char_transition_min                        -0.202335   \n",
       "char_transition_max                         0.954496   \n",
       "char_transition_mean                        0.724641   \n",
       "char_transition_std                         0.999074   \n",
       "phoneme_transition_min                     -0.066040   \n",
       "phoneme_transition_max                      0.035683   \n",
       "phoneme_transition_mean                     0.003592   \n",
       "phoneme_transition_std                      0.028232   \n",
       "log_char_transition_min                    -0.202104   \n",
       "log_char_transition_max                     0.952062   \n",
       "log_char_transition_mean                    0.718352   \n",
       "log_char_transition_std                     1.000000   \n",
       "log_phoneme_transition_min                 -0.065606   \n",
       "log_phoneme_transition_max                  0.045464   \n",
       "log_phoneme_transition_mean                 0.007729   \n",
       "log_phoneme_transition_std                  0.032825   \n",
       "\n",
       "                             log_phoneme_transition_min  \\\n",
       "complexity                                    -0.193443   \n",
       "char_transition_min                            0.327372   \n",
       "char_transition_max                           -0.069422   \n",
       "char_transition_mean                           0.087226   \n",
       "char_transition_std                           -0.061251   \n",
       "phoneme_transition_min                         0.999749   \n",
       "phoneme_transition_max                        -0.156472   \n",
       "phoneme_transition_mean                        0.119790   \n",
       "phoneme_transition_std                        -0.195271   \n",
       "log_char_transition_min                        0.329114   \n",
       "log_char_transition_max                       -0.074121   \n",
       "log_char_transition_mean                       0.085657   \n",
       "log_char_transition_std                       -0.065606   \n",
       "log_phoneme_transition_min                     1.000000   \n",
       "log_phoneme_transition_max                    -0.148010   \n",
       "log_phoneme_transition_mean                    0.123940   \n",
       "log_phoneme_transition_std                    -0.196360   \n",
       "\n",
       "                             log_phoneme_transition_max  \\\n",
       "complexity                                     0.001394   \n",
       "char_transition_min                           -0.021950   \n",
       "char_transition_max                            0.131196   \n",
       "char_transition_mean                           0.190886   \n",
       "char_transition_std                            0.038245   \n",
       "phoneme_transition_min                        -0.147018   \n",
       "phoneme_transition_max                         0.997506   \n",
       "phoneme_transition_mean                        0.881113   \n",
       "phoneme_transition_std                         0.969686   \n",
       "log_char_transition_min                       -0.020723   \n",
       "log_char_transition_max                        0.153967   \n",
       "log_char_transition_mean                       0.199164   \n",
       "log_char_transition_std                        0.045464   \n",
       "log_phoneme_transition_min                    -0.148010   \n",
       "log_phoneme_transition_max                     1.000000   \n",
       "log_phoneme_transition_mean                    0.883927   \n",
       "log_phoneme_transition_std                     0.972411   \n",
       "\n",
       "                             log_phoneme_transition_mean  \\\n",
       "complexity                                     -0.091503   \n",
       "char_transition_min                             0.148933   \n",
       "char_transition_max                             0.091332   \n",
       "char_transition_mean                            0.252612   \n",
       "char_transition_std                             0.001641   \n",
       "phoneme_transition_min                          0.124369   \n",
       "phoneme_transition_max                          0.875488   \n",
       "phoneme_transition_mean                         0.999491   \n",
       "phoneme_transition_std                          0.885921   \n",
       "log_char_transition_min                         0.150793   \n",
       "log_char_transition_max                         0.114666   \n",
       "log_char_transition_mean                        0.260155   \n",
       "log_char_transition_std                         0.007729   \n",
       "log_phoneme_transition_min                      0.123940   \n",
       "log_phoneme_transition_max                      0.883927   \n",
       "log_phoneme_transition_mean                     1.000000   \n",
       "log_phoneme_transition_std                      0.887855   \n",
       "\n",
       "                             log_phoneme_transition_std  \n",
       "complexity                                    -0.010782  \n",
       "char_transition_min                           -0.003810  \n",
       "char_transition_max                            0.102590  \n",
       "char_transition_mean                           0.175609  \n",
       "char_transition_std                            0.026069  \n",
       "phoneme_transition_min                        -0.196058  \n",
       "phoneme_transition_max                         0.971924  \n",
       "phoneme_transition_mean                        0.887741  \n",
       "phoneme_transition_std                         0.999519  \n",
       "log_char_transition_min                       -0.002685  \n",
       "log_char_transition_max                        0.123922  \n",
       "log_char_transition_mean                       0.182982  \n",
       "log_char_transition_std                        0.032825  \n",
       "log_phoneme_transition_min                    -0.196360  \n",
       "log_phoneme_transition_max                     0.972411  \n",
       "log_phoneme_transition_mean                    0.887855  \n",
       "log_phoneme_transition_std                     1.000000  "
      ],
      "text/html": "<div>\n<style scoped>\n    .dataframe tbody tr th:only-of-type {\n        vertical-align: middle;\n    }\n\n    .dataframe tbody tr th {\n        vertical-align: top;\n    }\n\n    .dataframe thead th {\n        text-align: right;\n    }\n</style>\n<table border=\"1\" class=\"dataframe\">\n  <thead>\n    <tr style=\"text-align: right;\">\n      <th></th>\n      <th>complexity</th>\n      <th>char_transition_min</th>\n      <th>char_transition_max</th>\n      <th>char_transition_mean</th>\n      <th>char_transition_std</th>\n      <th>phoneme_transition_min</th>\n      <th>phoneme_transition_max</th>\n      <th>phoneme_transition_mean</th>\n      <th>phoneme_transition_std</th>\n      <th>log_char_transition_min</th>\n      <th>log_char_transition_max</th>\n      <th>log_char_transition_mean</th>\n      <th>log_char_transition_std</th>\n      <th>log_phoneme_transition_min</th>\n      <th>log_phoneme_transition_max</th>\n      <th>log_phoneme_transition_mean</th>\n      <th>log_phoneme_transition_std</th>\n    </tr>\n  </thead>\n  <tbody>\n    <tr>\n      <th>complexity</th>\n      <td>1.000000</td>\n      <td>-0.181083</td>\n      <td>-0.069972</td>\n      <td>-0.188928</td>\n      <td>-0.067631</td>\n      <td>-0.191785</td>\n      <td>0.004290</td>\n      <td>-0.090849</td>\n      <td>-0.010460</td>\n      <td>-0.183602</td>\n      <td>-0.084443</td>\n      <td>-0.194512</td>\n      <td>-0.072694</td>\n      <td>-0.193443</td>\n      <td>0.001394</td>\n      <td>-0.091503</td>\n      <td>-0.010782</td>\n    </tr>\n    <tr>\n      <th>char_transition_min</th>\n      <td>-0.181083</td>\n      <td>1.000000</td>\n      <td>-0.062774</td>\n      <td>0.336165</td>\n      <td>-0.198165</td>\n      <td>0.327063</td>\n      <td>-0.022665</td>\n      <td>0.150922</td>\n      <td>-0.002166</td>\n      <td>0.999784</td>\n      <td>-0.049643</td>\n      <td>0.338005</td>\n      <td>-0.202335</td>\n      <td>0.327372</td>\n      <td>-0.021950</td>\n      <td>0.148933</td>\n      <td>-0.003810</td>\n    </tr>\n    <tr>\n      <th>char_transition_max</th>\n      <td>-0.069972</td>\n      <td>-0.062774</td>\n      <td>1.000000</td>\n      <td>0.778849</td>\n      <td>0.955269</td>\n      <td>-0.069339</td>\n      <td>0.120593</td>\n      <td>0.086732</td>\n      <td>0.097330</td>\n      <td>-0.063091</td>\n      <td>0.994891</td>\n      <td>0.773489</td>\n      <td>0.954496</td>\n      <td>-0.069422</td>\n      <td>0.131196</td>\n      <td>0.091332</td>\n      <td>0.102590</td>\n    </tr>\n    <tr>\n      <th>char_transition_mean</th>\n      <td>-0.188928</td>\n      <td>0.336165</td>\n      <td>0.778849</td>\n      <td>1.000000</td>\n      <td>0.718651</td>\n      <td>0.087088</td>\n      <td>0.177735</td>\n      <td>0.248253</td>\n      <td>0.169865</td>\n      <td>0.336147</td>\n      <td>0.805870</td>\n      <td>0.999393</td>\n      <td>0.724641</td>\n      <td>0.087226</td>\n      <td>0.190886</td>\n      <td>0.252612</td>\n      <td>0.175609</td>\n    </tr>\n    <tr>\n      <th>char_transition_std</th>\n      <td>-0.067631</td>\n      <td>-0.198165</td>\n      <td>0.955269</td>\n      <td>0.718651</td>\n      <td>1.000000</td>\n      <td>-0.061696</td>\n      <td>0.028881</td>\n      <td>-0.002332</td>\n      <td>0.021682</td>\n      <td>-0.198044</td>\n      <td>0.948994</td>\n      <td>0.711408</td>\n      <td>0.999074</td>\n      <td>-0.061251</td>\n      <td>0.038245</td>\n      <td>0.001641</td>\n      <td>0.026069</td>\n    </tr>\n    <tr>\n      <th>phoneme_transition_min</th>\n      <td>-0.191785</td>\n      <td>0.327063</td>\n      <td>-0.069339</td>\n      <td>0.087088</td>\n      <td>-0.061696</td>\n      <td>1.000000</td>\n      <td>-0.155454</td>\n      <td>0.120296</td>\n      <td>-0.194951</td>\n      <td>0.328718</td>\n      <td>-0.073983</td>\n      <td>0.085529</td>\n      <td>-0.066040</td>\n      <td>0.999749</td>\n      <td>-0.147018</td>\n      <td>0.124369</td>\n      <td>-0.196058</td>\n    </tr>\n    <tr>\n      <th>phoneme_transition_max</th>\n      <td>0.004290</td>\n      <td>-0.022665</td>\n      <td>0.120593</td>\n      <td>0.177735</td>\n      <td>0.028881</td>\n      <td>-0.155454</td>\n      <td>1.000000</td>\n      <td>0.874207</td>\n      <td>0.971116</td>\n      <td>-0.021407</td>\n      <td>0.142362</td>\n      <td>0.185710</td>\n      <td>0.035683</td>\n      <td>-0.156472</td>\n      <td>0.997506</td>\n      <td>0.875488</td>\n      <td>0.971924</td>\n    </tr>\n    <tr>\n      <th>phoneme_transition_mean</th>\n      <td>-0.090849</td>\n      <td>0.150922</td>\n      <td>0.086732</td>\n      <td>0.248253</td>\n      <td>-0.002332</td>\n      <td>0.120296</td>\n      <td>0.874207</td>\n      <td>1.000000</td>\n      <td>0.886536</td>\n      <td>0.152762</td>\n      <td>0.109678</td>\n      <td>0.255635</td>\n      <td>0.003592</td>\n      <td>0.119790</td>\n      <td>0.881113</td>\n      <td>0.999491</td>\n      <td>0.887741</td>\n    </tr>\n    <tr>\n      <th>phoneme_transition_std</th>\n      <td>-0.010460</td>\n      <td>-0.002166</td>\n      <td>0.097330</td>\n      <td>0.169865</td>\n      <td>0.021682</td>\n      <td>-0.194951</td>\n      <td>0.971116</td>\n      <td>0.886536</td>\n      <td>1.000000</td>\n      <td>-0.001011</td>\n      <td>0.118183</td>\n      <td>0.177107</td>\n      <td>0.028232</td>\n      <td>-0.195271</td>\n      <td>0.969686</td>\n      <td>0.885921</td>\n      <td>0.999519</td>\n    </tr>\n    <tr>\n      <th>log_char_transition_min</th>\n      <td>-0.183602</td>\n      <td>0.999784</td>\n      <td>-0.063091</td>\n      <td>0.336147</td>\n      <td>-0.198044</td>\n      <td>0.328718</td>\n      <td>-0.021407</td>\n      <td>0.152762</td>\n      <td>-0.001011</td>\n      <td>1.000000</td>\n      <td>-0.049753</td>\n      <td>0.338119</td>\n      <td>-0.202104</td>\n      <td>0.329114</td>\n      <td>-0.020723</td>\n      <td>0.150793</td>\n      <td>-0.002685</td>\n    </tr>\n    <tr>\n      <th>log_char_transition_max</th>\n      <td>-0.084443</td>\n      <td>-0.049643</td>\n      <td>0.994891</td>\n      <td>0.805870</td>\n      <td>0.948994</td>\n      <td>-0.073983</td>\n      <td>0.142362</td>\n      <td>0.109678</td>\n      <td>0.118183</td>\n      <td>-0.049753</td>\n      <td>1.000000</td>\n      <td>0.802839</td>\n      <td>0.952062</td>\n      <td>-0.074121</td>\n      <td>0.153967</td>\n      <td>0.114666</td>\n      <td>0.123922</td>\n    </tr>\n    <tr>\n      <th>log_char_transition_mean</th>\n      <td>-0.194512</td>\n      <td>0.338005</td>\n      <td>0.773489</td>\n      <td>0.999393</td>\n      <td>0.711408</td>\n      <td>0.085529</td>\n      <td>0.185710</td>\n      <td>0.255635</td>\n      <td>0.177107</td>\n      <td>0.338119</td>\n      <td>0.802839</td>\n      <td>1.000000</td>\n      <td>0.718352</td>\n      <td>0.085657</td>\n      <td>0.199164</td>\n      <td>0.260155</td>\n      <td>0.182982</td>\n    </tr>\n    <tr>\n      <th>log_char_transition_std</th>\n      <td>-0.072694</td>\n      <td>-0.202335</td>\n      <td>0.954496</td>\n      <td>0.724641</td>\n      <td>0.999074</td>\n      <td>-0.066040</td>\n      <td>0.035683</td>\n      <td>0.003592</td>\n      <td>0.028232</td>\n      <td>-0.202104</td>\n      <td>0.952062</td>\n      <td>0.718352</td>\n      <td>1.000000</td>\n      <td>-0.065606</td>\n      <td>0.045464</td>\n      <td>0.007729</td>\n      <td>0.032825</td>\n    </tr>\n    <tr>\n      <th>log_phoneme_transition_min</th>\n      <td>-0.193443</td>\n      <td>0.327372</td>\n      <td>-0.069422</td>\n      <td>0.087226</td>\n      <td>-0.061251</td>\n      <td>0.999749</td>\n      <td>-0.156472</td>\n      <td>0.119790</td>\n      <td>-0.195271</td>\n      <td>0.329114</td>\n      <td>-0.074121</td>\n      <td>0.085657</td>\n      <td>-0.065606</td>\n      <td>1.000000</td>\n      <td>-0.148010</td>\n      <td>0.123940</td>\n      <td>-0.196360</td>\n    </tr>\n    <tr>\n      <th>log_phoneme_transition_max</th>\n      <td>0.001394</td>\n      <td>-0.021950</td>\n      <td>0.131196</td>\n      <td>0.190886</td>\n      <td>0.038245</td>\n      <td>-0.147018</td>\n      <td>0.997506</td>\n      <td>0.881113</td>\n      <td>0.969686</td>\n      <td>-0.020723</td>\n      <td>0.153967</td>\n      <td>0.199164</td>\n      <td>0.045464</td>\n      <td>-0.148010</td>\n      <td>1.000000</td>\n      <td>0.883927</td>\n      <td>0.972411</td>\n    </tr>\n    <tr>\n      <th>log_phoneme_transition_mean</th>\n      <td>-0.091503</td>\n      <td>0.148933</td>\n      <td>0.091332</td>\n      <td>0.252612</td>\n      <td>0.001641</td>\n      <td>0.124369</td>\n      <td>0.875488</td>\n      <td>0.999491</td>\n      <td>0.885921</td>\n      <td>0.150793</td>\n      <td>0.114666</td>\n      <td>0.260155</td>\n      <td>0.007729</td>\n      <td>0.123940</td>\n      <td>0.883927</td>\n      <td>1.000000</td>\n      <td>0.887855</td>\n    </tr>\n    <tr>\n      <th>log_phoneme_transition_std</th>\n      <td>-0.010782</td>\n      <td>-0.003810</td>\n      <td>0.102590</td>\n      <td>0.175609</td>\n      <td>0.026069</td>\n      <td>-0.196058</td>\n      <td>0.971924</td>\n      <td>0.887741</td>\n      <td>0.999519</td>\n      <td>-0.002685</td>\n      <td>0.123922</td>\n      <td>0.182982</td>\n      <td>0.032825</td>\n      <td>-0.196360</td>\n      <td>0.972411</td>\n      <td>0.887855</td>\n      <td>1.000000</td>\n    </tr>\n  </tbody>\n</table>\n</div>"
     },
     "metadata": {},
     "execution_count": 53
    }
   ],
   "source": [
    "single_train[['complexity']+[column for column in single_train.columns if 'transition' in column]].corr()"
   ]
  },
  {
   "cell_type": "code",
   "execution_count": null,
   "metadata": {},
   "outputs": [],
   "source": []
  }
 ]
}