{
 "metadata": {
  "language_info": {
   "codemirror_mode": {
    "name": "ipython",
    "version": 3
   },
   "file_extension": ".py",
   "mimetype": "text/x-python",
   "name": "python",
   "nbconvert_exporter": "python",
   "pygments_lexer": "ipython3",
   "version": "3.9.1-final"
  },
  "orig_nbformat": 2,
  "kernelspec": {
   "name": "python3",
   "display_name": "Python 3",
   "language": "python"
  }
 },
 "nbformat": 4,
 "nbformat_minor": 2,
 "cells": [
  {
   "source": [
    "Imports"
   ],
   "cell_type": "markdown",
   "metadata": {}
  },
  {
   "cell_type": "code",
   "execution_count": 2,
   "metadata": {},
   "outputs": [
    {
     "output_type": "stream",
     "name": "stderr",
     "text": [
      "[nltk_data] Downloading package wordnet to /Users/pickle/nltk_data...\n[nltk_data]   Package wordnet is already up-to-date!\n[nltk_data] Downloading package punkt to /Users/pickle/nltk_data...\n[nltk_data]   Package punkt is already up-to-date!\n[nltk_data] Downloading package averaged_perceptron_tagger to\n[nltk_data]     /Users/pickle/nltk_data...\n[nltk_data]   Package averaged_perceptron_tagger is already up-to-\n[nltk_data]       date!\n[nltk_data] Downloading package stopwords to\n[nltk_data]     /Users/pickle/nltk_data...\n[nltk_data]   Package stopwords is already up-to-date!\n[nltk_data] Downloading package tagsets to /Users/pickle/nltk_data...\n[nltk_data]   Package tagsets is already up-to-date!\n"
     ]
    }
   ],
   "source": [
    "import numpy as np\n",
    "import pandas as pd\n",
    "pd.set_option('display.max_rows', 60)\n",
    "from sklearn.linear_model import LinearRegression\n",
    "from sklearn.metrics import mean_absolute_error, ndcg_score, make_scorer\n",
    "from sklearn.model_selection import cross_validate, cross_val_predict, cross_val_score\n",
    "from sklearn.model_selection import train_test_split, StratifiedShuffleSplit\n",
    "from sklearn.preprocessing import StandardScaler, LabelEncoder, MinMaxScaler\n",
    "from sklearn.preprocessing import KBinsDiscretizer, minmax_scale\n",
    "from sklearn.feature_extraction.text import TfidfVectorizer, CountVectorizer\n",
    "from sklearn.feature_selection import mutual_info_regression\n",
    "from sklearn.decomposition import PCA\n",
    "import nltk\n",
    "import ssl\n",
    "try:\n",
    "    _create_unverified_https_context = ssl._create_unverified_context\n",
    "except AttributeError:\n",
    "    pass\n",
    "else:\n",
    "    ssl._create_default_https_context = _create_unverified_https_context\n",
    "nltk.download('wordnet')\n",
    "nltk.download('punkt')\n",
    "nltk.download('averaged_perceptron_tagger')\n",
    "nltk.download('stopwords')\n",
    "nltk.download('tagsets')\n",
    "from nltk.corpus import wordnet as wn\n",
    "from nltk.stem import PorterStemmer, WordNetLemmatizer\n",
    "from nltk.tokenize import word_tokenize, sent_tokenize\n",
    "from nltk import pos_tag\n",
    "from nltk.wsd import lesk\n",
    "from nltk.parse import CoreNLPParser\n",
    "import syllables\n",
    "lemmatizer = WordNetLemmatizer() \n",
    "from lib.InferSent.models import InferSent\n",
    "import csv\n",
    "import torch\n",
    "import matplotlib.pyplot as plt\n",
    "import seaborn as sns\n",
    "from tqdm import tqdm\n",
    "from scipy.stats import rankdata, pearsonr, spearmanr, stats\n",
    "from itertools import combinations, chain\n",
    "import pickle as pkl\n",
    "from transformers import BertTokenizer\n",
    "import json\n",
    "import matplotlib.pyplot as plt\n",
    "import os\n",
    "import ast\n",
    "import textstat\n",
    "import inspect\n",
    "import stanfordnlp\n",
    "from lib.utils import *\n",
    "from bs4 import BeautifulSoup\n",
    "import re\n",
    "import readability\n",
    "import math\n",
    "import urllib \n",
    "import requests\n",
    "import time\n",
    "from mlxtend.feature_selection import SequentialFeatureSelector"
   ]
  },
  {
   "cell_type": "code",
   "execution_count": 7,
   "metadata": {},
   "outputs": [],
   "source": [
    "job = 'pickle'\n",
    "path = './data/'+job\n",
    "if not os.path.isdir(path): os.mkdir(path)\n",
    "if not os.path.isdir(path+'/discovery'): os.mkdir(path+'/discovery')\n",
    "if not os.path.isdir(path+'/colab'): os.mkdir(path+'/colab')"
   ]
  },
  {
   "source": [
    "# Unprocessed data goes here:"
   ],
   "cell_type": "markdown",
   "metadata": {}
  },
  {
   "source": [
    "Data"
   ],
   "cell_type": "markdown",
   "metadata": {}
  },
  {
   "cell_type": "code",
   "execution_count": 8,
   "metadata": {},
   "outputs": [],
   "source": [
    "single_train = pd.read_csv('./lib/CompLex/train/lcp_single_train.tsv', encoding='utf-8', sep='\\t', quoting=csv.QUOTE_NONE)\n",
    "single_trial = pd.read_csv('./lib/CompLex/trial/lcp_single_trial.tsv', encoding='utf-8', sep='\\t', quoting=csv.QUOTE_NONE)\n",
    "multi_train = pd.read_csv('./lib/CompLex/train/lcp_multi_train.tsv', encoding='utf-8', sep='\\t', quoting=csv.QUOTE_NONE)\n",
    "multi_trial = pd.read_csv('./lib/CompLex/trial/lcp_multi_trial.tsv', encoding='utf-8', sep='\\t', quoting=csv.QUOTE_NONE)"
   ]
  },
  {
   "cell_type": "code",
   "execution_count": 41,
   "metadata": {},
   "outputs": [],
   "source": [
    "single_test = pd.read_csv('./lib/CompLex/test-labels/lcp_single_test.tsv', encoding='utf-8', sep='\\t', quoting=csv.QUOTE_NONE)\n",
    "multi_test = pd.read_csv('./lib/CompLex/test-labels/lcp_multi_test.tsv', encoding='utf-8', sep='\\t', quoting=csv.QUOTE_NONE)"
   ]
  },
  {
   "cell_type": "code",
   "execution_count": 150,
   "metadata": {},
   "outputs": [],
   "source": [
    "single_train['task'] = 'single'\n",
    "single_trial['task'] = 'single'\n",
    "single_test['task'] = 'single'\n",
    "single_train['split'] = 'train'\n",
    "single_trial['split'] = 'trial'\n",
    "single_trial = single_trial.rename(columns={'subcorpus': 'corpus'})\n",
    "single_test['split'] = 'test'\n",
    "multi_train['task'] = 'multi'\n",
    "multi_trial['task'] = 'multi'\n",
    "multi_test['task'] = 'multi'\n",
    "multi_train['split'] = 'train'\n",
    "multi_trial['split'] = 'trial'\n",
    "multi_trial = multi_trial.rename(columns={'subcorpus': 'corpus'})\n",
    "multi_test['split'] = 'test'\n",
    "data = single_train.append(single_trial).append(single_test).append(multi_train).append(multi_trial).append(multi_test)"
   ]
  },
  {
   "cell_type": "code",
   "execution_count": 151,
   "metadata": {},
   "outputs": [],
   "source": [
    "data_reshaped = data.groupby(['corpus', 'task', 'split']).size().unstack()\n",
    "data_reshaped = data_reshaped[['train', 'trial', 'test']]\n",
    "data_reshaped = data_reshaped.reindex(['single', 'multi'], level='task')"
   ]
  },
  {
   "cell_type": "code",
   "execution_count": 160,
   "metadata": {},
   "outputs": [
    {
     "output_type": "stream",
     "name": "stdout",
     "text": [
      "\\begin{tabular}{llrrr}\n\\toprule\n         & split &  train &  trial &  test \\\\\ncorpus & task &        &        &       \\\\\n\\midrule\nbible & single &   2574 &    143 &   283 \\\\\n         & multi &    505 &     29 &    66 \\\\\nbiomed & single &   2576 &    135 &   289 \\\\\n         & multi &    514 &     33 &    53 \\\\\neuroparl & single &   2512 &    143 &   345 \\\\\n         & multi &    498 &     37 &    65 \\\\\n\\bottomrule\n\\end{tabular}\n\n"
     ]
    }
   ],
   "source": [
    "print(data_reshaped.to_latex())"
   ]
  },
  {
   "cell_type": "code",
   "execution_count": 152,
   "metadata": {},
   "outputs": [
    {
     "output_type": "execute_result",
     "data": {
      "text/plain": [
       "split            train  trial  test\n",
       "corpus   task                      \n",
       "bible    single   2574    143   283\n",
       "         multi     505     29    66\n",
       "biomed   single   2576    135   289\n",
       "         multi     514     33    53\n",
       "europarl single   2512    143   345\n",
       "         multi     498     37    65"
      ],
      "text/html": "<div>\n<style scoped>\n    .dataframe tbody tr th:only-of-type {\n        vertical-align: middle;\n    }\n\n    .dataframe tbody tr th {\n        vertical-align: top;\n    }\n\n    .dataframe thead th {\n        text-align: right;\n    }\n</style>\n<table border=\"1\" class=\"dataframe\">\n  <thead>\n    <tr style=\"text-align: right;\">\n      <th></th>\n      <th>split</th>\n      <th>train</th>\n      <th>trial</th>\n      <th>test</th>\n    </tr>\n    <tr>\n      <th>corpus</th>\n      <th>task</th>\n      <th></th>\n      <th></th>\n      <th></th>\n    </tr>\n  </thead>\n  <tbody>\n    <tr>\n      <th rowspan=\"2\" valign=\"top\">bible</th>\n      <th>single</th>\n      <td>2574</td>\n      <td>143</td>\n      <td>283</td>\n    </tr>\n    <tr>\n      <th>multi</th>\n      <td>505</td>\n      <td>29</td>\n      <td>66</td>\n    </tr>\n    <tr>\n      <th rowspan=\"2\" valign=\"top\">biomed</th>\n      <th>single</th>\n      <td>2576</td>\n      <td>135</td>\n      <td>289</td>\n    </tr>\n    <tr>\n      <th>multi</th>\n      <td>514</td>\n      <td>33</td>\n      <td>53</td>\n    </tr>\n    <tr>\n      <th rowspan=\"2\" valign=\"top\">europarl</th>\n      <th>single</th>\n      <td>2512</td>\n      <td>143</td>\n      <td>345</td>\n    </tr>\n    <tr>\n      <th>multi</th>\n      <td>498</td>\n      <td>37</td>\n      <td>65</td>\n    </tr>\n  </tbody>\n</table>\n</div>"
     },
     "metadata": {},
     "execution_count": 152
    }
   ],
   "source": [
    "data_reshaped.append()"
   ]
  },
  {
   "cell_type": "code",
   "execution_count": 158,
   "metadata": {},
   "outputs": [
    {
     "output_type": "execute_result",
     "data": {
      "text/plain": [
       "split   train  trial  test\n",
       "task                      \n",
       "single   7662    421   917\n",
       "multi    1517     99   184"
      ],
      "text/html": "<div>\n<style scoped>\n    .dataframe tbody tr th:only-of-type {\n        vertical-align: middle;\n    }\n\n    .dataframe tbody tr th {\n        vertical-align: top;\n    }\n\n    .dataframe thead th {\n        text-align: right;\n    }\n</style>\n<table border=\"1\" class=\"dataframe\">\n  <thead>\n    <tr style=\"text-align: right;\">\n      <th>split</th>\n      <th>train</th>\n      <th>trial</th>\n      <th>test</th>\n    </tr>\n    <tr>\n      <th>task</th>\n      <th></th>\n      <th></th>\n      <th></th>\n    </tr>\n  </thead>\n  <tbody>\n    <tr>\n      <th>single</th>\n      <td>7662</td>\n      <td>421</td>\n      <td>917</td>\n    </tr>\n    <tr>\n      <th>multi</th>\n      <td>1517</td>\n      <td>99</td>\n      <td>184</td>\n    </tr>\n  </tbody>\n</table>\n</div>"
     },
     "metadata": {},
     "execution_count": 158
    }
   ],
   "source": [
    "data_reshaped.groupby(level='task').sum().reindex(['single', 'multi'])"
   ]
  },
  {
   "source": [
    "Preprocess"
   ],
   "cell_type": "markdown",
   "metadata": {}
  },
  {
   "cell_type": "code",
   "execution_count": 4,
   "metadata": {},
   "outputs": [],
   "source": [
    "preprocess(single_train, './data/'+job+'/single_train_p.tsv')\n",
    "preprocess(single_trial, './data/'+job+'/single_trial_p.tsv')\n",
    "preprocess(multi_train, './data/'+job+'/multi_train_p.tsv')\n",
    "preprocess(multi_trial, './data/'+job+'/multi_trial_p.tsv')"
   ]
  },
  {
   "cell_type": "code",
   "execution_count": 10,
   "metadata": {},
   "outputs": [],
   "source": [
    "preprocess(single_test, './data/'+job+'/single_test_p.tsv')\n",
    "preprocess(multi_test, './data/'+job+'/multi_test_p.tsv')"
   ]
  },
  {
   "cell_type": "code",
   "execution_count": 7,
   "metadata": {},
   "outputs": [],
   "source": [
    "#preprocess_for_bert(single_train, job, 'single_train', do_round=False)\n",
    "#preprocess_for_bert(single_trial, job, 'single_trial', do_round=False)\n",
    "preprocess_for_bert(multi_train, job, 'multi_train', do_round=False, do_split_token=True)\n",
    "preprocess_for_bert(multi_trial, job, 'multi_trial', do_round=False, do_split_token=True)"
   ]
  },
  {
   "cell_type": "code",
   "execution_count": 34,
   "metadata": {},
   "outputs": [],
   "source": [
    "preprocess_for_bert(single_test, job, 'single_test', do_round=False)\n",
    "preprocess_for_bert(multi_test, job, 'multi_test', do_round=False)"
   ]
  },
  {
   "source": [
    "# Processed data goes here:"
   ],
   "cell_type": "markdown",
   "metadata": {}
  },
  {
   "cell_type": "code",
   "execution_count": 3,
   "metadata": {},
   "outputs": [],
   "source": [
    "single_train = pd.read_csv('./data/'+job+'/single_train_p.tsv', sep='\\t', index_col=0)\n",
    "single_trial = pd.read_csv('./data/'+job+'/single_trial_p.tsv', sep='\\t', index_col=0)\n",
    "multi_train = pd.read_csv('./data/'+job+'/multi_train_p.tsv', sep='\\t', index_col=0)\n",
    "multi_trial = pd.read_csv('./data/'+job+'/multi_trial_p.tsv', sep='\\t', index_col=0)"
   ]
  },
  {
   "cell_type": "code",
   "execution_count": null,
   "metadata": {},
   "outputs": [],
   "source": [
    "single_test = pd.read_csv('./data/'+job+'/single_test_p.tsv', sep='\\t', index_col=0)\n",
    "multi_test = pd.read_csv('./data/'+job+'/multi_test_p.tsv', sep='\\t', index_col=0)"
   ]
  },
  {
   "source": [
    "# Extract features"
   ],
   "cell_type": "markdown",
   "metadata": {}
  },
  {
   "source": [
    "Do once and forget about it."
   ],
   "cell_type": "markdown",
   "metadata": {}
  },
  {
   "source": [
    "config = {\n",
    "    'glove_path': './lib/glove/glove.6B.300d.txt',\n",
    "    'glove_lower': True,\n",
    "    'disambiguate': True,\n",
    "    'infersent_V': 1,\n",
    "    'infersent_MODEL_PATH': './lib/encoder/infersent%s.pkl',\n",
    "    'infersent_W2V_PATH': './lib/glove/glove.6B.300d.txt',\n",
    "    'infersent_lower': True,\n",
    "    'options_file': './lib/ELMo/elmo_2x4096_512_2048cnn_2xhighway_5.5B_options.json',\n",
    "    'weight_file': './lib/ELMo/elmo_2x4096_512_2048cnn_2xhighway_5.5B_weights.hdf5'\n",
    "}"
   ],
   "cell_type": "code",
   "metadata": {},
   "execution_count": 15,
   "outputs": []
  },
  {
   "cell_type": "code",
   "execution_count": 17,
   "metadata": {},
   "outputs": [
    {
     "output_type": "stream",
     "name": "stderr",
     "text": [
      "400000it [00:36, 11020.83it/s]\n"
     ]
    }
   ],
   "source": [
    "glove_embeddings = build_glove_embeddings(config)"
   ]
  },
  {
   "source": [
    "%%time\n",
    "save_embeddings(single_train, glove_embeddings, config, './data/'+job+'/single_train_d.tsv')\n",
    "save_embeddings(single_trial, glove_embeddings, config, './data/'+job+'/single_trial_d.tsv')\n",
    "save_embeddings(multi_train, glove_embeddings, config, './data/'+job+'/multi_train_d.tsv', multi=True)\n",
    "save_embeddings(multi_trial, glove_embeddings, config, './data/'+job+'/multi_trial_d.tsv', multi=True)"
   ],
   "cell_type": "code",
   "metadata": {},
   "execution_count": 7,
   "outputs": [
    {
     "output_type": "stream",
     "name": "stdout",
     "text": [
      "Found 6832(/7561) words with w2v vectors\n",
      "Vocab size : 6832\n",
      "100%|██████████| 16/16 [05:47<00:00, 21.74s/it]\n",
      "Found 6832(/7561) words with w2v vectors\n",
      "Vocab size : 6832\n",
      "100%|██████████| 16/16 [05:47<00:00, 21.71s/it]\n",
      "Found 1211(/1271) words with w2v vectors\n",
      "Vocab size : 1211\n",
      "100%|██████████| 1/1 [00:23<00:00, 23.79s/it]\n",
      "Found 1211(/1271) words with w2v vectors\n",
      "Vocab size : 1211\n",
      "100%|██████████| 1/1 [00:21<00:00, 21.89s/it]\n",
      "CPU times: user 15min 18s, sys: 2min 34s, total: 17min 53s\n",
      "Wall time: 18min 10s\n"
     ]
    }
   ]
  },
  {
   "cell_type": "code",
   "execution_count": 18,
   "metadata": {},
   "outputs": [
    {
     "output_type": "stream",
     "name": "stdout",
     "text": [
      "Found 5097(/5609) words with w2v vectors\n",
      "Vocab size : 5097\n",
      "100%|██████████| 10/10 [04:39<00:00, 27.97s/it]\n",
      "Found 1775(/1860) words with w2v vectors\n",
      "Vocab size : 1775\n",
      "100%|██████████| 2/2 [00:47<00:00, 23.74s/it]\n",
      "Found 1775(/1860) words with w2v vectors\n",
      "Vocab size : 1775\n",
      "100%|██████████| 2/2 [00:43<00:00, 21.50s/it]\n",
      "  4%|▍         | 8/184 [00:00<00:05, 33.88it/s]\n",
      "CPU times: user 5min 54s, sys: 1min 18s, total: 7min 12s\n",
      "Wall time: 8min 1s\n"
     ]
    }
   ],
   "source": [
    "%%time\n",
    "save_embeddings(single_test, glove_embeddings, config, './data/'+job+'/single_test_d.tsv')\n",
    "save_embeddings(multi_test, glove_embeddings, config, './data/'+job+'/multi_test_d.tsv', multi=True)"
   ]
  },
  {
   "source": [
    "Run the cells below for a dataset to obtain its parse_lst. \n",
    "\n",
    "Before running these cells:\n",
    "- Set `data = name_of_dataset`.\n",
    "- Open terminal and `cd` into `./lib/stanford-corenlp-4.2.0`.\n",
    "- Run the following: `java -mx4g -cp \"*\" edu.stanford.nlp.pipeline.StanfordCoreNLPServer -preload tokenize,ssplit,pos,lemma,ner,parse,depparse -status_port 9000 -port 9000 -timeout 15000000 & `\n",
    "\n",
    "While running these cells:\n",
    "- If error arises, assess situation, add to `exceptions` if need be, and resume by adjusting `idx`.\n",
    "\n",
    "After running these cells:\n",
    "- Run the following: `ps aux | grep StanfordCoreNLPServer`.\n"
   ],
   "cell_type": "markdown",
   "metadata": {}
  },
  {
   "source": [
    "single_train = pd.read_csv('./data/'+job+'/single_train_d.tsv', sep='\\t', index_col=0)\n",
    "single_trial = pd.read_csv('./data/'+job+'/single_trial_d.tsv', sep='\\t', index_col=0)\n",
    "multi_train = pd.read_csv('./data/'+job+'/multi_train_d.tsv', sep='\\t', index_col=0)\n",
    "multi_trial = pd.read_csv('./data/'+job+'/multi_trial_d.tsv', sep='\\t', index_col=0)"
   ],
   "cell_type": "code",
   "metadata": {},
   "execution_count": 39,
   "outputs": []
  },
  {
   "cell_type": "code",
   "execution_count": 19,
   "metadata": {},
   "outputs": [],
   "source": [
    "single_test = pd.read_csv('./data/'+job+'/single_test_d.tsv', sep='\\t', index_col=0)\n",
    "multi_test = pd.read_csv('./data/'+job+'/multi_test_d.tsv', sep='\\t', index_col=0)"
   ]
  },
  {
   "cell_type": "code",
   "execution_count": 47,
   "metadata": {},
   "outputs": [],
   "source": [
    "data, path = multi_test, './data/'+job+'/multi_test_parse_lst.pkl'"
   ]
  },
  {
   "cell_type": "code",
   "execution_count": null,
   "metadata": {},
   "outputs": [],
   "source": [
    "parser = CoreNLPParser(url='http://localhost:9000')"
   ]
  },
  {
   "cell_type": "code",
   "execution_count": null,
   "metadata": {},
   "outputs": [],
   "source": [
    "'foo'"
   ]
  },
  {
   "cell_type": "code",
   "execution_count": 49,
   "metadata": {},
   "outputs": [],
   "source": [
    "data['sentence'] = data['sentence'].apply(lambda x: clean_sentence(x))"
   ]
  },
  {
   "cell_type": "code",
   "execution_count": 50,
   "metadata": {},
   "outputs": [],
   "source": [
    "exceptions = {'3BFF0DJK8XCEIOT30ZLBPPSRM1VSTL': \"Welcomes the G8 leaders' statement on Zimbabwe of 8 July, in particular their recommendation to appoint a Special Envoy of the UN Secretary-General to report on the political, humanitarian, human rights and security situation and to support regional efforts to take forward mediation between political parties while respecting the results of the 29 March 2008 election, and their intention to take further steps, inter alia introducing financial and other measures against those individuals responsible for violence.\", '3LAZVA75NIR50X7XA3K64X90PYWO27': 'Τhe next item is the oral question to the Commission (B7-0240/2009) by Silvia-Adriana Ţicău, Brian Simpson, János Áder, Hannes Swoboda, Eva Lichtenberger, Michael Cramer, Saïd El Khadraoui, Mathieu Grosch, Iuliu Winkler, Victor Boştinaru, Ioan Mircea Paşcu, Marian-Jean Marinescu, Ivailo Kalfin, Norica Nicolai, Dirk Sterckx, Csaba Sándor Tabajdi, Michael Theurer, Ismail Ertug, Inés Ayala Sender, Jiří Havel, Edit Herczog, Stanimir Ilchev, Iliana Malinova Iotova, Jelko Kacin, Evgeni Kirilov, Ádám Kósa, Ioan Enciu, Eduard Kukan, Gesine Meissner, Alajos Mészáros, Nadezhda Neynsky, Katarína Neveďalová, Daciana Octavia Sârbu, Vilja Savisaar, Olga Sehnalová, Catherine Stihler, Peter van Dalen, Louis Grech, Corina Creţu, Adina-Ioana Vălean and Rovana Plumb, on the European Strategy for the Danube Region.'}"
   ]
  },
  {
   "cell_type": "code",
   "execution_count": 51,
   "metadata": {},
   "outputs": [
    {
     "output_type": "stream",
     "name": "stderr",
     "text": [
      "184it [02:21,  1.30it/s]\n"
     ]
    }
   ],
   "source": [
    "parse_lst = []\n",
    "skip = True\n",
    "for idx, row in tqdm(data.iterrows()):\n",
    "    if idx == 0:\n",
    "        skip = False\n",
    "    if skip:\n",
    "        continue\n",
    "    if row['id'] in exceptions:\n",
    "        sentence = exceptions[row['id']]\n",
    "    else:\n",
    "        sentence = row['sentence']\n",
    "    parse_lst.append(next(parser.raw_parse(sentence)))"
   ]
  },
  {
   "source": [
    "sentence, row['token'], row['id'], idx"
   ],
   "cell_type": "code",
   "metadata": {},
   "execution_count": null,
   "outputs": []
  },
  {
   "source": [
    "next(parser.raw_parse('...'))"
   ],
   "cell_type": "code",
   "metadata": {},
   "execution_count": null,
   "outputs": []
  },
  {
   "cell_type": "code",
   "execution_count": 53,
   "metadata": {},
   "outputs": [
    {
     "output_type": "execute_result",
     "data": {
      "text/plain": [
       "184"
      ]
     },
     "metadata": {},
     "execution_count": 53
    }
   ],
   "source": [
    "len(parse_lst)"
   ]
  },
  {
   "cell_type": "code",
   "execution_count": 54,
   "metadata": {},
   "outputs": [],
   "source": [
    "pkl.dump(parse_lst, open(path, 'wb'))"
   ]
  },
  {
   "source": [
    "Other features"
   ],
   "cell_type": "markdown",
   "metadata": {}
  },
  {
   "cell_type": "code",
   "execution_count": 3,
   "metadata": {},
   "outputs": [],
   "source": [
    "single_train = pd.read_csv('./data/'+job+'/single_train_d.tsv', sep='\\t', index_col=0)\n",
    "single_trial = pd.read_csv('./data/'+job+'/single_trial_d.tsv', sep='\\t', index_col=0)\n",
    "multi_train = pd.read_csv('./data/'+job+'/multi_train_d.tsv', sep='\\t', index_col=0)\n",
    "multi_trial = pd.read_csv('./data/'+job+'/multi_trial_d.tsv', sep='\\t', index_col=0)"
   ]
  },
  {
   "cell_type": "code",
   "execution_count": 55,
   "metadata": {},
   "outputs": [],
   "source": [
    "single_test = pd.read_csv('./data/'+job+'/single_test_d.tsv', sep='\\t', index_col=0)\n",
    "multi_test = pd.read_csv('./data/'+job+'/multi_test_d.tsv', sep='\\t', index_col=0)"
   ]
  },
  {
   "source": [
    "%%time\n",
    "save_other_features(single_train, './data/'+job+'/single_train_parse_lst.pkl', config, './data/'+job+'/single_train_o.tsv')\n",
    "save_other_features(single_trial, './data/'+job+'/single_trial_parse_lst.pkl', config, './data/'+job+'/single_trial_o.tsv')\n",
    "save_other_features(multi_train, './data/'+job+'/multi_train_parse_lst.pkl', config, './data/'+job+'/multi_train_o.tsv', multi=True)\n",
    "save_other_features(multi_trial, './data/'+job+'/multi_trial_parse_lst.pkl', config, './data/'+job+'/multi_trial_o.tsv', multi=True)"
   ],
   "cell_type": "code",
   "metadata": {},
   "execution_count": 6,
   "outputs": [
    {
     "output_type": "stream",
     "name": "stderr",
     "text": [
      "100%|██████████| 34/34 [00:11<00:00,  2.86it/s]\n",
      "7659it [00:29, 258.72it/s]\n",
      "100%|██████████| 34/34 [00:00<00:00, 46.87it/s]\n",
      "421it [00:01, 250.06it/s]\n",
      "100%|██████████| 34/34 [00:02<00:00, 13.86it/s]\n",
      "1517it [00:05, 252.92it/s]\n",
      "100%|██████████| 34/34 [00:02<00:00, 14.57it/s]\n",
      "1517it [00:06, 251.28it/s]\n",
      "  5%|▌         | 76/1517 [00:00<00:02, 520.47it/s]\n",
      "100%|██████████| 34/34 [00:00<00:00, 160.88it/s]\n",
      "99it [00:00, 248.10it/s]\n",
      "100%|██████████| 34/34 [00:00<00:00, 135.56it/s]\n",
      "99it [00:00, 236.36it/s]\n",
      " 77%|███████▋  | 76/99 [00:00<00:00, 868.69it/s]\n",
      "CPU times: user 1min 51s, sys: 3.03 s, total: 1min 54s\n",
      "Wall time: 2min 1s\n"
     ]
    }
   ]
  },
  {
   "cell_type": "code",
   "execution_count": 58,
   "metadata": {},
   "outputs": [
    {
     "output_type": "stream",
     "name": "stderr",
     "text": [
      "100%|██████████| 34/34 [00:02<00:00, 15.99it/s]\n",
      "917it [00:03, 232.72it/s]\n",
      "100%|██████████| 34/34 [00:00<00:00, 95.53it/s]\n",
      "184it [00:00, 230.32it/s]\n",
      "100%|██████████| 34/34 [00:00<00:00, 90.97it/s]\n",
      "184it [00:00, 245.48it/s]\n",
      " 40%|████      | 74/184 [00:00<00:00, 805.38it/s]\n"
     ]
    }
   ],
   "source": [
    "save_other_features(single_test, './data/'+job+'/single_test_parse_lst.pkl', config, './data/'+job+'/single_test_o.tsv')\n",
    "save_other_features(multi_test, './data/'+job+'/multi_test_parse_lst.pkl', config, './data/'+job+'/multi_test_o.tsv', multi=True)"
   ]
  },
  {
   "source": [
    "Create log-transformed features"
   ],
   "cell_type": "markdown",
   "metadata": {}
  },
  {
   "cell_type": "code",
   "execution_count": 3,
   "metadata": {},
   "outputs": [],
   "source": [
    "single_train = pd.read_csv('./data/'+job+'/single_train_o.tsv', sep='\\t', index_col=0)\n",
    "single_trial = pd.read_csv('./data/'+job+'/single_trial_o.tsv', sep='\\t', index_col=0)\n",
    "multi_train = pd.read_csv('./data/'+job+'/multi_train_o.tsv', sep='\\t', index_col=0)\n",
    "multi_trial = pd.read_csv('./data/'+job+'/multi_trial_o.tsv', sep='\\t', index_col=0)"
   ]
  },
  {
   "cell_type": "code",
   "execution_count": 3,
   "metadata": {},
   "outputs": [],
   "source": [
    "single_test = pd.read_csv('./data/'+job+'/single_test_o.tsv', sep='\\t', index_col=0)\n",
    "multi_test = pd.read_csv('./data/'+job+'/multi_test_o.tsv', sep='\\t', index_col=0)"
   ]
  },
  {
   "cell_type": "code",
   "execution_count": 7,
   "metadata": {},
   "outputs": [
    {
     "output_type": "stream",
     "name": "stdout",
     "text": [
      "CPU times: user 24.7 s, sys: 982 ms, total: 25.7 s\nWall time: 28.3 s\n"
     ]
    }
   ],
   "source": [
    "%%time\n",
    "log_transform(single_train, 'all', './data/'+job+'/single_train_o.tsv')\n",
    "log_transform(single_trial, 'all', './data/'+job+'/single_trial_o.tsv')\n",
    "log_transform(multi_train, 'all', './data/'+job+'/multi_train_o.tsv')\n",
    "log_transform(multi_trial, 'all', './data/'+job+'/multi_trial_o.tsv')"
   ]
  },
  {
   "cell_type": "code",
   "execution_count": 61,
   "metadata": {},
   "outputs": [
    {
     "output_type": "stream",
     "name": "stdout",
     "text": [
      "CPU times: user 3.71 s, sys: 294 ms, total: 4.01 s\nWall time: 7.5 s\n"
     ]
    }
   ],
   "source": [
    "%%time\n",
    "log_transform(single_test, 'all', './data/'+job+'/single_test_o.tsv')\n",
    "log_transform(multi_test, 'all', './data/'+job+'/multi_test_o.tsv')"
   ]
  },
  {
   "source": [
    "## Outgoing to discovery"
   ],
   "cell_type": "markdown",
   "metadata": {}
  },
  {
   "source": [
    "# Playground"
   ],
   "cell_type": "markdown",
   "metadata": {}
  },
  {
   "source": [
    "## Parse tree"
   ],
   "cell_type": "markdown",
   "metadata": {}
  },
  {
   "cell_type": "code",
   "execution_count": 73,
   "metadata": {},
   "outputs": [],
   "source": [
    "single_test = pd.read_csv('./data/'+job+'/single_test_p.tsv', sep='\\t', index_col=0)\n",
    "path = './data/pickle/parse_lst_dir/inputs/'"
   ]
  },
  {
   "source": [
    "import stanza\n",
    "stanza.download('en')       # This downloads the English models for the neural pipeline"
   ],
   "cell_type": "code",
   "metadata": {},
   "execution_count": 74,
   "outputs": [
    {
     "output_type": "stream",
     "name": "stderr",
     "text": [
      "Downloading https://raw.githubusercontent.com/stanfordnlp/stanza-resources/master/resources_1.2.0.json: 128kB [00:00, 5.78MB/s]                    \n",
      "2021-02-16 22:36:37 INFO: Downloading default packages for language: en (English)...\n",
      "2021-02-16 22:36:39 INFO: File exists: /Users/pickle/stanza_resources/en/default.zip.\n",
      "2021-02-16 22:36:43 INFO: Finished downloading models and saved to /Users/pickle/stanza_resources.\n"
     ]
    }
   ]
  },
  {
   "cell_type": "code",
   "execution_count": 75,
   "metadata": {},
   "outputs": [
    {
     "output_type": "stream",
     "name": "stderr",
     "text": [
      "917it [00:00, 33778.99it/s]\n"
     ]
    }
   ],
   "source": [
    "tokens_lst = pkl.load('./data/pickle/tokens_lst.pkl')"
   ]
  },
  {
   "cell_type": "code",
   "execution_count": 76,
   "metadata": {},
   "outputs": [
    {
     "output_type": "stream",
     "name": "stderr",
     "text": [
      "2021-02-16 22:36:55 WARNING: Can not find mwt: default from official model list. Ignoring it.\n",
      "2021-02-16 22:36:55 INFO: Loading these models for language: en (English):\n",
      "========================\n",
      "| Processor | Package  |\n",
      "------------------------\n",
      "| tokenize  | combined |\n",
      "| pos       | combined |\n",
      "| lemma     | combined |\n",
      "| depparse  | combined |\n",
      "========================\n",
      "\n",
      "2021-02-16 22:36:55 INFO: Use device: cpu\n",
      "2021-02-16 22:36:55 INFO: Loading: tokenize\n",
      "2021-02-16 22:36:55 INFO: Loading: pos\n",
      "2021-02-16 22:36:55 INFO: Loading: lemma\n",
      "2021-02-16 22:36:55 INFO: Loading: depparse\n",
      "2021-02-16 22:36:56 INFO: Done loading processors!\n",
      "917it [04:57,  3.08it/s]\n"
     ]
    }
   ],
   "source": [
    "results = []\n",
    "nlp = stanza.Pipeline('en',  processors='tokenize,mwt,pos,lemma,depparse') # This sets up a default neural pipeline in English\n",
    "with open('./data/pickle/sentences.txt', 'r') as file:\n",
    "    for line in tqdm(file):\n",
    "        sentence = line.rstrip('\\n')\n",
    "        doc = nlp(sentence)\n",
    "        results.append([(word.text, word.head, word.deprel) for sentence in doc.sentences for word in sentence.words])"
   ]
  },
  {
   "cell_type": "code",
   "execution_count": 77,
   "metadata": {},
   "outputs": [],
   "source": [
    "pkl.dump(results, open('./data/pickle/depparse.pkl', 'wb'))"
   ]
  },
  {
   "cell_type": "code",
   "execution_count": 6,
   "metadata": {},
   "outputs": [],
   "source": [
    "os.environ[\"CORENLP_HOME\"] = '/Users/pickle/cs99/Lexical_Complexity_Prediction/lib/stanford-corenlp-4.2.0'"
   ]
  },
  {
   "cell_type": "code",
   "execution_count": null,
   "metadata": {},
   "outputs": [],
   "source": [
    "anns = []"
   ]
  },
  {
   "cell_type": "code",
   "execution_count": 13,
   "metadata": {},
   "outputs": [
    {
     "output_type": "stream",
     "name": "stderr",
     "text": [
      "2021-02-15 00:31:32 INFO: Writing properties to tmp file: corenlp_server-c4aa2011b0b544bf.props\n",
      "2021-02-15 00:31:32 INFO: Starting server with command: java -Xmx16G -cp /Users/pickle/cs99/Lexical_Complexity_Prediction/lib/stanford-corenlp-4.2.0/* edu.stanford.nlp.pipeline.StanfordCoreNLPServer -port 9000 -timeout 300000 -threads 5 -maxCharLength 100000 -quiet False -serverProperties corenlp_server-c4aa2011b0b544bf.props -annotators tokenize,ssplit,pos,lemma,ner,parse,depparse,coref -preload -outputFormat serialized\n",
      "766it [17:02,  1.33s/it]\n"
     ]
    }
   ],
   "source": [
    "from stanza.server import CoreNLPClient\n",
    "with CoreNLPClient(\n",
    "    annotators=['tokenize','ssplit','pos','lemma','ner', 'parse', 'depparse','coref'],\n",
    "    timeout=300000,\n",
    "    memory='16G') as client:\n",
    "    for i, sentence in tqdm(enumerate(sentences)):\n",
    "        if i < 94:\n",
    "            continue\n",
    "        ann = client.annotate(sentence)\n",
    "        anns.append(ann)"
   ]
  },
  {
   "cell_type": "code",
   "execution_count": 60,
   "metadata": {},
   "outputs": [
    {
     "output_type": "stream",
     "name": "stdout",
     "text": [
      "___________________\ndependency parse:\n2 CLS -> 1 [ punct\n2 CLS -> 17 aspire parataxis\n2 CLS -> 3 ] punct\n2 CLS -> 35 . punct\n7 Council -> 6 the det\n12 view -> 10 in case\n12 view -> 11 the det\n12 view -> 15 House nmod\n15 House -> 13 of case\n15 House -> 14 this det\n17 aspire -> 16 , punct\n17 aspire -> 19 achieve xcomp\n17 aspire -> 4 Incidentally advmod\n17 aspire -> 5 , punct\n17 aspire -> 7 Council nsubj\n17 aspire -> 8 should aux\n17 aspire -> 9 , punct\n17 aspire -> 12 view obl\n19 achieve -> 32 relations obl\n19 achieve -> 18 to mark\n19 achieve -> 21 transparency obj\n19 achieve -> 28 area obl\n21 transparency -> 20 more amod\n25 important -> 27 comprehensive conj\n27 comprehensive -> 26 and cc\n28 area -> 22 in case\n28 area -> 23 such det:predet\n28 area -> 24 an det\n28 area -> 25 important amod\n28 area -> 30 policy nmod\n30 policy -> 29 of case\n32 relations -> 34 Russia nmod\n32 relations -> 31 as case\n34 Russia -> 33 with case\n"
     ]
    }
   ],
   "source": [
    "for i in range(len(anns)):\n",
    "    offset = 0\n",
    "    rules = []\n",
    "    for sentence in anns[i].sentence:\n",
    "        print('___________________')\n",
    "        print('dependency parse:')\n",
    "        dp = sentence.basicDependencies\n",
    "        token_dict = {sentence.token[i].tokenEndIndex-offset : sentence.token[i].word for i in range(0, len(sentence.token))}\n",
    "        \n",
    "        offset += len(sentence.token)\n",
    "        # build list of (source, target) pairs\n",
    "        out_parse = [(dp.edge[i].source, dp.edge[i].target, dp.edge[i].dep) for i in range(0, len(dp.edge))]\n",
    "        for source, target, dep in out_parse:\n",
    "            print(source, token_dict[source], '->', target, token_dict[target], dep)\n",
    "        break\n",
    "    break"
   ]
  },
  {
   "source": [
    "## Mutual information"
   ],
   "cell_type": "markdown",
   "metadata": {}
  },
  {
   "cell_type": "code",
   "execution_count": 57,
   "metadata": {},
   "outputs": [],
   "source": [
    "feature_names, mi = get_sorted_mi('./data/'+job+'/discovery/single_train_mi.txt')"
   ]
  },
  {
   "cell_type": "code",
   "execution_count": 58,
   "metadata": {},
   "outputs": [
    {
     "output_type": "execute_result",
     "data": {
      "text/plain": [
       "Text(0.5, 1.0, 'Top-20 Mutual Information Scores')"
      ]
     },
     "metadata": {},
     "execution_count": 58
    },
    {
     "output_type": "display_data",
     "data": {
      "text/plain": "<Figure size 432x288 with 1 Axes>",
      "image/svg+xml": "<?xml version=\"1.0\" encoding=\"utf-8\" standalone=\"no\"?>\n<!DOCTYPE svg PUBLIC \"-//W3C//DTD SVG 1.1//EN\"\n  \"http://www.w3.org/Graphics/SVG/1.1/DTD/svg11.dtd\">\n<!-- Created with matplotlib (https://matplotlib.org/) -->\n<svg height=\"277.314375pt\" version=\"1.1\" viewBox=\"0 0 463.460938 277.314375\" width=\"463.460938pt\" xmlns=\"http://www.w3.org/2000/svg\" xmlns:xlink=\"http://www.w3.org/1999/xlink\">\n <metadata>\n  <rdf:RDF xmlns:cc=\"http://creativecommons.org/ns#\" xmlns:dc=\"http://purl.org/dc/elements/1.1/\" xmlns:rdf=\"http://www.w3.org/1999/02/22-rdf-syntax-ns#\">\n   <cc:Work>\n    <dc:type rdf:resource=\"http://purl.org/dc/dcmitype/StillImage\"/>\n    <dc:date>2021-02-11T18:11:44.936838</dc:date>\n    <dc:format>image/svg+xml</dc:format>\n    <dc:creator>\n     <cc:Agent>\n      <dc:title>Matplotlib v3.3.4, https://matplotlib.org/</dc:title>\n     </cc:Agent>\n    </dc:creator>\n   </cc:Work>\n  </rdf:RDF>\n </metadata>\n <defs>\n  <style type=\"text/css\">*{stroke-linecap:butt;stroke-linejoin:round;}</style>\n </defs>\n <g id=\"figure_1\">\n  <g id=\"patch_1\">\n   <path d=\"M 0 277.314375 \nL 463.460938 277.314375 \nL 463.460938 0 \nL 0 0 \nz\n\" style=\"fill:none;\"/>\n  </g>\n  <g id=\"axes_1\">\n   <g id=\"patch_2\">\n    <path d=\"M 121.460938 239.758125 \nL 456.260938 239.758125 \nL 456.260938 22.318125 \nL 121.460938 22.318125 \nz\n\" style=\"fill:#ffffff;\"/>\n   </g>\n   <g id=\"patch_3\">\n    <path clip-path=\"url(#p4f3d04d420)\" d=\"M 121.460938 23.405325 \nL 440.31808 23.405325 \nL 440.31808 32.102925 \nL 121.460938 32.102925 \nz\n\" style=\"fill:#ea96a3;\"/>\n   </g>\n   <g id=\"patch_4\">\n    <path clip-path=\"url(#p4f3d04d420)\" d=\"M 121.460938 34.277325 \nL 439.677271 34.277325 \nL 439.677271 42.974925 \nL 121.460938 42.974925 \nz\n\" style=\"fill:#e79683;\"/>\n   </g>\n   <g id=\"patch_5\">\n    <path clip-path=\"url(#p4f3d04d420)\" d=\"M 121.460938 45.149325 \nL 416.722444 45.149325 \nL 416.722444 53.846925 \nL 121.460938 53.846925 \nz\n\" style=\"fill:#d7944e;\"/>\n   </g>\n   <g id=\"patch_6\">\n    <path clip-path=\"url(#p4f3d04d420)\" d=\"M 121.460938 56.021325 \nL 415.594191 56.021325 \nL 415.594191 64.718925 \nL 121.460938 64.718925 \nz\n\" style=\"fill:#bf9a4a;\"/>\n   </g>\n   <g id=\"patch_7\">\n    <path clip-path=\"url(#p4f3d04d420)\" d=\"M 121.460938 66.893325 \nL 287.724156 66.893325 \nL 287.724156 75.590925 \nL 121.460938 75.590925 \nz\n\" style=\"fill:#ab9e47;\"/>\n   </g>\n   <g id=\"patch_8\">\n    <path clip-path=\"url(#p4f3d04d420)\" d=\"M 121.460938 77.765325 \nL 287.357327 77.765325 \nL 287.357327 86.462925 \nL 121.460938 86.462925 \nz\n\" style=\"fill:#98a246;\"/>\n   </g>\n   <g id=\"patch_9\">\n    <path clip-path=\"url(#p4f3d04d420)\" d=\"M 121.460938 88.637325 \nL 287.288883 88.637325 \nL 287.288883 97.334925 \nL 121.460938 97.334925 \nz\n\" style=\"fill:#7fa946;\"/>\n   </g>\n   <g id=\"patch_10\">\n    <path clip-path=\"url(#p4f3d04d420)\" d=\"M 121.460938 99.509325 \nL 283.768969 99.509325 \nL 283.768969 108.206925 \nL 121.460938 108.206925 \nz\n\" style=\"fill:#48b052;\"/>\n   </g>\n   <g id=\"patch_11\">\n    <path clip-path=\"url(#p4f3d04d420)\" d=\"M 121.460938 110.381325 \nL 281.768261 110.381325 \nL 281.768261 119.078925 \nL 121.460938 119.078925 \nz\n\" style=\"fill:#49ae83;\"/>\n   </g>\n   <g id=\"patch_12\">\n    <path clip-path=\"url(#p4f3d04d420)\" d=\"M 121.460938 121.253325 \nL 279.91208 121.253325 \nL 279.91208 129.950925 \nL 121.460938 129.950925 \nz\n\" style=\"fill:#4aad96;\"/>\n   </g>\n   <g id=\"patch_13\">\n    <path clip-path=\"url(#p4f3d04d420)\" d=\"M 121.460938 132.125325 \nL 278.725284 132.125325 \nL 278.725284 140.822925 \nL 121.460938 140.822925 \nz\n\" style=\"fill:#4baba4;\"/>\n   </g>\n   <g id=\"patch_14\">\n    <path clip-path=\"url(#p4f3d04d420)\" d=\"M 121.460938 142.997325 \nL 278.283307 142.997325 \nL 278.283307 151.694925 \nL 121.460938 151.694925 \nz\n\" style=\"fill:#4dabb2;\"/>\n   </g>\n   <g id=\"patch_15\">\n    <path clip-path=\"url(#p4f3d04d420)\" d=\"M 121.460938 153.869325 \nL 276.408369 153.869325 \nL 276.408369 162.566925 \nL 121.460938 162.566925 \nz\n\" style=\"fill:#50acc3;\"/>\n   </g>\n   <g id=\"patch_16\">\n    <path clip-path=\"url(#p4f3d04d420)\" d=\"M 121.460938 164.741325 \nL 273.635245 164.741325 \nL 273.635245 173.438925 \nL 121.460938 173.438925 \nz\n\" style=\"fill:#56addb;\"/>\n   </g>\n   <g id=\"patch_17\">\n    <path clip-path=\"url(#p4f3d04d420)\" d=\"M 121.460938 175.613325 \nL 272.823524 175.613325 \nL 272.823524 184.310925 \nL 121.460938 184.310925 \nz\n\" style=\"fill:#94aee8;\"/>\n   </g>\n   <g id=\"patch_18\">\n    <path clip-path=\"url(#p4f3d04d420)\" d=\"M 121.460938 186.485325 \nL 272.509671 186.485325 \nL 272.509671 195.182925 \nL 121.460938 195.182925 \nz\n\" style=\"fill:#b6a8eb;\"/>\n   </g>\n   <g id=\"patch_19\">\n    <path clip-path=\"url(#p4f3d04d420)\" d=\"M 121.460938 197.357325 \nL 272.342346 197.357325 \nL 272.342346 206.054925 \nL 121.460938 206.054925 \nz\n\" style=\"fill:#ce9be9;\"/>\n   </g>\n   <g id=\"patch_20\">\n    <path clip-path=\"url(#p4f3d04d420)\" d=\"M 121.460938 208.229325 \nL 271.797863 208.229325 \nL 271.797863 216.926925 \nL 121.460938 216.926925 \nz\n\" style=\"fill:#e689e4;\"/>\n   </g>\n   <g id=\"patch_21\">\n    <path clip-path=\"url(#p4f3d04d420)\" d=\"M 121.460938 219.101325 \nL 270.290031 219.101325 \nL 270.290031 227.798925 \nL 121.460938 227.798925 \nz\n\" style=\"fill:#e88fcc;\"/>\n   </g>\n   <g id=\"patch_22\">\n    <path clip-path=\"url(#p4f3d04d420)\" d=\"M 121.460938 229.973325 \nL 270.070508 229.973325 \nL 270.070508 238.670925 \nL 121.460938 238.670925 \nz\n\" style=\"fill:#e993b9;\"/>\n   </g>\n   <g id=\"matplotlib.axis_1\">\n    <g id=\"xtick_1\">\n     <g id=\"line2d_1\">\n      <defs>\n       <path d=\"M 0 0 \nL 0 3.5 \n\" id=\"m09d17e79c0\" style=\"stroke:#000000;stroke-width:0.8;\"/>\n      </defs>\n      <g>\n       <use style=\"stroke:#000000;stroke-width:0.8;\" x=\"121.460938\" xlink:href=\"#m09d17e79c0\" y=\"239.758125\"/>\n      </g>\n     </g>\n     <g id=\"text_1\">\n      <!-- 0.0 -->\n      <g transform=\"translate(113.509375 254.356562)scale(0.1 -0.1)\">\n       <defs>\n        <path d=\"M 31.78125 66.40625 \nQ 24.171875 66.40625 20.328125 58.90625 \nQ 16.5 51.421875 16.5 36.375 \nQ 16.5 21.390625 20.328125 13.890625 \nQ 24.171875 6.390625 31.78125 6.390625 \nQ 39.453125 6.390625 43.28125 13.890625 \nQ 47.125 21.390625 47.125 36.375 \nQ 47.125 51.421875 43.28125 58.90625 \nQ 39.453125 66.40625 31.78125 66.40625 \nz\nM 31.78125 74.21875 \nQ 44.046875 74.21875 50.515625 64.515625 \nQ 56.984375 54.828125 56.984375 36.375 \nQ 56.984375 17.96875 50.515625 8.265625 \nQ 44.046875 -1.421875 31.78125 -1.421875 \nQ 19.53125 -1.421875 13.0625 8.265625 \nQ 6.59375 17.96875 6.59375 36.375 \nQ 6.59375 54.828125 13.0625 64.515625 \nQ 19.53125 74.21875 31.78125 74.21875 \nz\n\" id=\"DejaVuSans-48\"/>\n        <path d=\"M 10.6875 12.40625 \nL 21 12.40625 \nL 21 0 \nL 10.6875 0 \nz\n\" id=\"DejaVuSans-46\"/>\n       </defs>\n       <use xlink:href=\"#DejaVuSans-48\"/>\n       <use x=\"63.623047\" xlink:href=\"#DejaVuSans-46\"/>\n       <use x=\"95.410156\" xlink:href=\"#DejaVuSans-48\"/>\n      </g>\n     </g>\n    </g>\n    <g id=\"xtick_2\">\n     <g id=\"line2d_2\">\n      <g>\n       <use style=\"stroke:#000000;stroke-width:0.8;\" x=\"175.461876\" xlink:href=\"#m09d17e79c0\" y=\"239.758125\"/>\n      </g>\n     </g>\n     <g id=\"text_2\">\n      <!-- 0.1 -->\n      <g transform=\"translate(167.510313 254.356562)scale(0.1 -0.1)\">\n       <defs>\n        <path d=\"M 12.40625 8.296875 \nL 28.515625 8.296875 \nL 28.515625 63.921875 \nL 10.984375 60.40625 \nL 10.984375 69.390625 \nL 28.421875 72.90625 \nL 38.28125 72.90625 \nL 38.28125 8.296875 \nL 54.390625 8.296875 \nL 54.390625 0 \nL 12.40625 0 \nz\n\" id=\"DejaVuSans-49\"/>\n       </defs>\n       <use xlink:href=\"#DejaVuSans-48\"/>\n       <use x=\"63.623047\" xlink:href=\"#DejaVuSans-46\"/>\n       <use x=\"95.410156\" xlink:href=\"#DejaVuSans-49\"/>\n      </g>\n     </g>\n    </g>\n    <g id=\"xtick_3\">\n     <g id=\"line2d_3\">\n      <g>\n       <use style=\"stroke:#000000;stroke-width:0.8;\" x=\"229.462814\" xlink:href=\"#m09d17e79c0\" y=\"239.758125\"/>\n      </g>\n     </g>\n     <g id=\"text_3\">\n      <!-- 0.2 -->\n      <g transform=\"translate(221.511251 254.356562)scale(0.1 -0.1)\">\n       <defs>\n        <path d=\"M 19.1875 8.296875 \nL 53.609375 8.296875 \nL 53.609375 0 \nL 7.328125 0 \nL 7.328125 8.296875 \nQ 12.9375 14.109375 22.625 23.890625 \nQ 32.328125 33.6875 34.8125 36.53125 \nQ 39.546875 41.84375 41.421875 45.53125 \nQ 43.3125 49.21875 43.3125 52.78125 \nQ 43.3125 58.59375 39.234375 62.25 \nQ 35.15625 65.921875 28.609375 65.921875 \nQ 23.96875 65.921875 18.8125 64.3125 \nQ 13.671875 62.703125 7.8125 59.421875 \nL 7.8125 69.390625 \nQ 13.765625 71.78125 18.9375 73 \nQ 24.125 74.21875 28.421875 74.21875 \nQ 39.75 74.21875 46.484375 68.546875 \nQ 53.21875 62.890625 53.21875 53.421875 \nQ 53.21875 48.921875 51.53125 44.890625 \nQ 49.859375 40.875 45.40625 35.40625 \nQ 44.1875 33.984375 37.640625 27.21875 \nQ 31.109375 20.453125 19.1875 8.296875 \nz\n\" id=\"DejaVuSans-50\"/>\n       </defs>\n       <use xlink:href=\"#DejaVuSans-48\"/>\n       <use x=\"63.623047\" xlink:href=\"#DejaVuSans-46\"/>\n       <use x=\"95.410156\" xlink:href=\"#DejaVuSans-50\"/>\n      </g>\n     </g>\n    </g>\n    <g id=\"xtick_4\">\n     <g id=\"line2d_4\">\n      <g>\n       <use style=\"stroke:#000000;stroke-width:0.8;\" x=\"283.463752\" xlink:href=\"#m09d17e79c0\" y=\"239.758125\"/>\n      </g>\n     </g>\n     <g id=\"text_4\">\n      <!-- 0.3 -->\n      <g transform=\"translate(275.51219 254.356562)scale(0.1 -0.1)\">\n       <defs>\n        <path d=\"M 40.578125 39.3125 \nQ 47.65625 37.796875 51.625 33 \nQ 55.609375 28.21875 55.609375 21.1875 \nQ 55.609375 10.40625 48.1875 4.484375 \nQ 40.765625 -1.421875 27.09375 -1.421875 \nQ 22.515625 -1.421875 17.65625 -0.515625 \nQ 12.796875 0.390625 7.625 2.203125 \nL 7.625 11.71875 \nQ 11.71875 9.328125 16.59375 8.109375 \nQ 21.484375 6.890625 26.8125 6.890625 \nQ 36.078125 6.890625 40.9375 10.546875 \nQ 45.796875 14.203125 45.796875 21.1875 \nQ 45.796875 27.640625 41.28125 31.265625 \nQ 36.765625 34.90625 28.71875 34.90625 \nL 20.21875 34.90625 \nL 20.21875 43.015625 \nL 29.109375 43.015625 \nQ 36.375 43.015625 40.234375 45.921875 \nQ 44.09375 48.828125 44.09375 54.296875 \nQ 44.09375 59.90625 40.109375 62.90625 \nQ 36.140625 65.921875 28.71875 65.921875 \nQ 24.65625 65.921875 20.015625 65.03125 \nQ 15.375 64.15625 9.8125 62.3125 \nL 9.8125 71.09375 \nQ 15.4375 72.65625 20.34375 73.4375 \nQ 25.25 74.21875 29.59375 74.21875 \nQ 40.828125 74.21875 47.359375 69.109375 \nQ 53.90625 64.015625 53.90625 55.328125 \nQ 53.90625 49.265625 50.4375 45.09375 \nQ 46.96875 40.921875 40.578125 39.3125 \nz\n\" id=\"DejaVuSans-51\"/>\n       </defs>\n       <use xlink:href=\"#DejaVuSans-48\"/>\n       <use x=\"63.623047\" xlink:href=\"#DejaVuSans-46\"/>\n       <use x=\"95.410156\" xlink:href=\"#DejaVuSans-51\"/>\n      </g>\n     </g>\n    </g>\n    <g id=\"xtick_5\">\n     <g id=\"line2d_5\">\n      <g>\n       <use style=\"stroke:#000000;stroke-width:0.8;\" x=\"337.46469\" xlink:href=\"#m09d17e79c0\" y=\"239.758125\"/>\n      </g>\n     </g>\n     <g id=\"text_5\">\n      <!-- 0.4 -->\n      <g transform=\"translate(329.513128 254.356562)scale(0.1 -0.1)\">\n       <defs>\n        <path d=\"M 37.796875 64.3125 \nL 12.890625 25.390625 \nL 37.796875 25.390625 \nz\nM 35.203125 72.90625 \nL 47.609375 72.90625 \nL 47.609375 25.390625 \nL 58.015625 25.390625 \nL 58.015625 17.1875 \nL 47.609375 17.1875 \nL 47.609375 0 \nL 37.796875 0 \nL 37.796875 17.1875 \nL 4.890625 17.1875 \nL 4.890625 26.703125 \nz\n\" id=\"DejaVuSans-52\"/>\n       </defs>\n       <use xlink:href=\"#DejaVuSans-48\"/>\n       <use x=\"63.623047\" xlink:href=\"#DejaVuSans-46\"/>\n       <use x=\"95.410156\" xlink:href=\"#DejaVuSans-52\"/>\n      </g>\n     </g>\n    </g>\n    <g id=\"xtick_6\">\n     <g id=\"line2d_6\">\n      <g>\n       <use style=\"stroke:#000000;stroke-width:0.8;\" x=\"391.465629\" xlink:href=\"#m09d17e79c0\" y=\"239.758125\"/>\n      </g>\n     </g>\n     <g id=\"text_6\">\n      <!-- 0.5 -->\n      <g transform=\"translate(383.514066 254.356562)scale(0.1 -0.1)\">\n       <defs>\n        <path d=\"M 10.796875 72.90625 \nL 49.515625 72.90625 \nL 49.515625 64.59375 \nL 19.828125 64.59375 \nL 19.828125 46.734375 \nQ 21.96875 47.46875 24.109375 47.828125 \nQ 26.265625 48.1875 28.421875 48.1875 \nQ 40.625 48.1875 47.75 41.5 \nQ 54.890625 34.8125 54.890625 23.390625 \nQ 54.890625 11.625 47.5625 5.09375 \nQ 40.234375 -1.421875 26.90625 -1.421875 \nQ 22.3125 -1.421875 17.546875 -0.640625 \nQ 12.796875 0.140625 7.71875 1.703125 \nL 7.71875 11.625 \nQ 12.109375 9.234375 16.796875 8.0625 \nQ 21.484375 6.890625 26.703125 6.890625 \nQ 35.15625 6.890625 40.078125 11.328125 \nQ 45.015625 15.765625 45.015625 23.390625 \nQ 45.015625 31 40.078125 35.4375 \nQ 35.15625 39.890625 26.703125 39.890625 \nQ 22.75 39.890625 18.8125 39.015625 \nQ 14.890625 38.140625 10.796875 36.28125 \nz\n\" id=\"DejaVuSans-53\"/>\n       </defs>\n       <use xlink:href=\"#DejaVuSans-48\"/>\n       <use x=\"63.623047\" xlink:href=\"#DejaVuSans-46\"/>\n       <use x=\"95.410156\" xlink:href=\"#DejaVuSans-53\"/>\n      </g>\n     </g>\n    </g>\n    <g id=\"xtick_7\">\n     <g id=\"line2d_7\">\n      <g>\n       <use style=\"stroke:#000000;stroke-width:0.8;\" x=\"445.466567\" xlink:href=\"#m09d17e79c0\" y=\"239.758125\"/>\n      </g>\n     </g>\n     <g id=\"text_7\">\n      <!-- 0.6 -->\n      <g transform=\"translate(437.515004 254.356562)scale(0.1 -0.1)\">\n       <defs>\n        <path d=\"M 33.015625 40.375 \nQ 26.375 40.375 22.484375 35.828125 \nQ 18.609375 31.296875 18.609375 23.390625 \nQ 18.609375 15.53125 22.484375 10.953125 \nQ 26.375 6.390625 33.015625 6.390625 \nQ 39.65625 6.390625 43.53125 10.953125 \nQ 47.40625 15.53125 47.40625 23.390625 \nQ 47.40625 31.296875 43.53125 35.828125 \nQ 39.65625 40.375 33.015625 40.375 \nz\nM 52.59375 71.296875 \nL 52.59375 62.3125 \nQ 48.875 64.0625 45.09375 64.984375 \nQ 41.3125 65.921875 37.59375 65.921875 \nQ 27.828125 65.921875 22.671875 59.328125 \nQ 17.53125 52.734375 16.796875 39.40625 \nQ 19.671875 43.65625 24.015625 45.921875 \nQ 28.375 48.1875 33.59375 48.1875 \nQ 44.578125 48.1875 50.953125 41.515625 \nQ 57.328125 34.859375 57.328125 23.390625 \nQ 57.328125 12.15625 50.6875 5.359375 \nQ 44.046875 -1.421875 33.015625 -1.421875 \nQ 20.359375 -1.421875 13.671875 8.265625 \nQ 6.984375 17.96875 6.984375 36.375 \nQ 6.984375 53.65625 15.1875 63.9375 \nQ 23.390625 74.21875 37.203125 74.21875 \nQ 40.921875 74.21875 44.703125 73.484375 \nQ 48.484375 72.75 52.59375 71.296875 \nz\n\" id=\"DejaVuSans-54\"/>\n       </defs>\n       <use xlink:href=\"#DejaVuSans-48\"/>\n       <use x=\"63.623047\" xlink:href=\"#DejaVuSans-46\"/>\n       <use x=\"95.410156\" xlink:href=\"#DejaVuSans-54\"/>\n      </g>\n     </g>\n    </g>\n    <g id=\"text_8\">\n     <!-- mutual information -->\n     <g transform=\"translate(240.79375 268.034687)scale(0.1 -0.1)\">\n      <defs>\n       <path d=\"M 52 44.1875 \nQ 55.375 50.25 60.0625 53.125 \nQ 64.75 56 71.09375 56 \nQ 79.640625 56 84.28125 50.015625 \nQ 88.921875 44.046875 88.921875 33.015625 \nL 88.921875 0 \nL 79.890625 0 \nL 79.890625 32.71875 \nQ 79.890625 40.578125 77.09375 44.375 \nQ 74.3125 48.1875 68.609375 48.1875 \nQ 61.625 48.1875 57.5625 43.546875 \nQ 53.515625 38.921875 53.515625 30.90625 \nL 53.515625 0 \nL 44.484375 0 \nL 44.484375 32.71875 \nQ 44.484375 40.625 41.703125 44.40625 \nQ 38.921875 48.1875 33.109375 48.1875 \nQ 26.21875 48.1875 22.15625 43.53125 \nQ 18.109375 38.875 18.109375 30.90625 \nL 18.109375 0 \nL 9.078125 0 \nL 9.078125 54.6875 \nL 18.109375 54.6875 \nL 18.109375 46.1875 \nQ 21.1875 51.21875 25.484375 53.609375 \nQ 29.78125 56 35.6875 56 \nQ 41.65625 56 45.828125 52.96875 \nQ 50 49.953125 52 44.1875 \nz\n\" id=\"DejaVuSans-109\"/>\n       <path d=\"M 8.5 21.578125 \nL 8.5 54.6875 \nL 17.484375 54.6875 \nL 17.484375 21.921875 \nQ 17.484375 14.15625 20.5 10.265625 \nQ 23.53125 6.390625 29.59375 6.390625 \nQ 36.859375 6.390625 41.078125 11.03125 \nQ 45.3125 15.671875 45.3125 23.6875 \nL 45.3125 54.6875 \nL 54.296875 54.6875 \nL 54.296875 0 \nL 45.3125 0 \nL 45.3125 8.40625 \nQ 42.046875 3.421875 37.71875 1 \nQ 33.40625 -1.421875 27.6875 -1.421875 \nQ 18.265625 -1.421875 13.375 4.4375 \nQ 8.5 10.296875 8.5 21.578125 \nz\nM 31.109375 56 \nz\n\" id=\"DejaVuSans-117\"/>\n       <path d=\"M 18.3125 70.21875 \nL 18.3125 54.6875 \nL 36.8125 54.6875 \nL 36.8125 47.703125 \nL 18.3125 47.703125 \nL 18.3125 18.015625 \nQ 18.3125 11.328125 20.140625 9.421875 \nQ 21.96875 7.515625 27.59375 7.515625 \nL 36.8125 7.515625 \nL 36.8125 0 \nL 27.59375 0 \nQ 17.1875 0 13.234375 3.875 \nQ 9.28125 7.765625 9.28125 18.015625 \nL 9.28125 47.703125 \nL 2.6875 47.703125 \nL 2.6875 54.6875 \nL 9.28125 54.6875 \nL 9.28125 70.21875 \nz\n\" id=\"DejaVuSans-116\"/>\n       <path d=\"M 34.28125 27.484375 \nQ 23.390625 27.484375 19.1875 25 \nQ 14.984375 22.515625 14.984375 16.5 \nQ 14.984375 11.71875 18.140625 8.90625 \nQ 21.296875 6.109375 26.703125 6.109375 \nQ 34.1875 6.109375 38.703125 11.40625 \nQ 43.21875 16.703125 43.21875 25.484375 \nL 43.21875 27.484375 \nz\nM 52.203125 31.203125 \nL 52.203125 0 \nL 43.21875 0 \nL 43.21875 8.296875 \nQ 40.140625 3.328125 35.546875 0.953125 \nQ 30.953125 -1.421875 24.3125 -1.421875 \nQ 15.921875 -1.421875 10.953125 3.296875 \nQ 6 8.015625 6 15.921875 \nQ 6 25.140625 12.171875 29.828125 \nQ 18.359375 34.515625 30.609375 34.515625 \nL 43.21875 34.515625 \nL 43.21875 35.40625 \nQ 43.21875 41.609375 39.140625 45 \nQ 35.0625 48.390625 27.6875 48.390625 \nQ 23 48.390625 18.546875 47.265625 \nQ 14.109375 46.140625 10.015625 43.890625 \nL 10.015625 52.203125 \nQ 14.9375 54.109375 19.578125 55.046875 \nQ 24.21875 56 28.609375 56 \nQ 40.484375 56 46.34375 49.84375 \nQ 52.203125 43.703125 52.203125 31.203125 \nz\n\" id=\"DejaVuSans-97\"/>\n       <path d=\"M 9.421875 75.984375 \nL 18.40625 75.984375 \nL 18.40625 0 \nL 9.421875 0 \nz\n\" id=\"DejaVuSans-108\"/>\n       <path id=\"DejaVuSans-32\"/>\n       <path d=\"M 9.421875 54.6875 \nL 18.40625 54.6875 \nL 18.40625 0 \nL 9.421875 0 \nz\nM 9.421875 75.984375 \nL 18.40625 75.984375 \nL 18.40625 64.59375 \nL 9.421875 64.59375 \nz\n\" id=\"DejaVuSans-105\"/>\n       <path d=\"M 54.890625 33.015625 \nL 54.890625 0 \nL 45.90625 0 \nL 45.90625 32.71875 \nQ 45.90625 40.484375 42.875 44.328125 \nQ 39.84375 48.1875 33.796875 48.1875 \nQ 26.515625 48.1875 22.3125 43.546875 \nQ 18.109375 38.921875 18.109375 30.90625 \nL 18.109375 0 \nL 9.078125 0 \nL 9.078125 54.6875 \nL 18.109375 54.6875 \nL 18.109375 46.1875 \nQ 21.34375 51.125 25.703125 53.5625 \nQ 30.078125 56 35.796875 56 \nQ 45.21875 56 50.046875 50.171875 \nQ 54.890625 44.34375 54.890625 33.015625 \nz\n\" id=\"DejaVuSans-110\"/>\n       <path d=\"M 37.109375 75.984375 \nL 37.109375 68.5 \nL 28.515625 68.5 \nQ 23.6875 68.5 21.796875 66.546875 \nQ 19.921875 64.59375 19.921875 59.515625 \nL 19.921875 54.6875 \nL 34.71875 54.6875 \nL 34.71875 47.703125 \nL 19.921875 47.703125 \nL 19.921875 0 \nL 10.890625 0 \nL 10.890625 47.703125 \nL 2.296875 47.703125 \nL 2.296875 54.6875 \nL 10.890625 54.6875 \nL 10.890625 58.5 \nQ 10.890625 67.625 15.140625 71.796875 \nQ 19.390625 75.984375 28.609375 75.984375 \nz\n\" id=\"DejaVuSans-102\"/>\n       <path d=\"M 30.609375 48.390625 \nQ 23.390625 48.390625 19.1875 42.75 \nQ 14.984375 37.109375 14.984375 27.296875 \nQ 14.984375 17.484375 19.15625 11.84375 \nQ 23.34375 6.203125 30.609375 6.203125 \nQ 37.796875 6.203125 41.984375 11.859375 \nQ 46.1875 17.53125 46.1875 27.296875 \nQ 46.1875 37.015625 41.984375 42.703125 \nQ 37.796875 48.390625 30.609375 48.390625 \nz\nM 30.609375 56 \nQ 42.328125 56 49.015625 48.375 \nQ 55.71875 40.765625 55.71875 27.296875 \nQ 55.71875 13.875 49.015625 6.21875 \nQ 42.328125 -1.421875 30.609375 -1.421875 \nQ 18.84375 -1.421875 12.171875 6.21875 \nQ 5.515625 13.875 5.515625 27.296875 \nQ 5.515625 40.765625 12.171875 48.375 \nQ 18.84375 56 30.609375 56 \nz\n\" id=\"DejaVuSans-111\"/>\n       <path d=\"M 41.109375 46.296875 \nQ 39.59375 47.171875 37.8125 47.578125 \nQ 36.03125 48 33.890625 48 \nQ 26.265625 48 22.1875 43.046875 \nQ 18.109375 38.09375 18.109375 28.8125 \nL 18.109375 0 \nL 9.078125 0 \nL 9.078125 54.6875 \nL 18.109375 54.6875 \nL 18.109375 46.1875 \nQ 20.953125 51.171875 25.484375 53.578125 \nQ 30.03125 56 36.53125 56 \nQ 37.453125 56 38.578125 55.875 \nQ 39.703125 55.765625 41.0625 55.515625 \nz\n\" id=\"DejaVuSans-114\"/>\n      </defs>\n      <use xlink:href=\"#DejaVuSans-109\"/>\n      <use x=\"97.412109\" xlink:href=\"#DejaVuSans-117\"/>\n      <use x=\"160.791016\" xlink:href=\"#DejaVuSans-116\"/>\n      <use x=\"200\" xlink:href=\"#DejaVuSans-117\"/>\n      <use x=\"263.378906\" xlink:href=\"#DejaVuSans-97\"/>\n      <use x=\"324.658203\" xlink:href=\"#DejaVuSans-108\"/>\n      <use x=\"352.441406\" xlink:href=\"#DejaVuSans-32\"/>\n      <use x=\"384.228516\" xlink:href=\"#DejaVuSans-105\"/>\n      <use x=\"412.011719\" xlink:href=\"#DejaVuSans-110\"/>\n      <use x=\"475.390625\" xlink:href=\"#DejaVuSans-102\"/>\n      <use x=\"510.595703\" xlink:href=\"#DejaVuSans-111\"/>\n      <use x=\"571.777344\" xlink:href=\"#DejaVuSans-114\"/>\n      <use x=\"611.140625\" xlink:href=\"#DejaVuSans-109\"/>\n      <use x=\"708.552734\" xlink:href=\"#DejaVuSans-97\"/>\n      <use x=\"769.832031\" xlink:href=\"#DejaVuSans-116\"/>\n      <use x=\"809.041016\" xlink:href=\"#DejaVuSans-105\"/>\n      <use x=\"836.824219\" xlink:href=\"#DejaVuSans-111\"/>\n      <use x=\"898.005859\" xlink:href=\"#DejaVuSans-110\"/>\n     </g>\n    </g>\n   </g>\n   <g id=\"matplotlib.axis_2\">\n    <g id=\"ytick_1\">\n     <g id=\"line2d_8\">\n      <defs>\n       <path d=\"M 0 0 \nL -3.5 0 \n\" id=\"m2ba79b3d49\" style=\"stroke:#000000;stroke-width:0.8;\"/>\n      </defs>\n      <g>\n       <use style=\"stroke:#000000;stroke-width:0.8;\" x=\"121.460938\" xlink:href=\"#m2ba79b3d49\" y=\"27.754125\"/>\n      </g>\n     </g>\n     <g id=\"text_9\">\n      <!-- google_ngram_1 -->\n      <g transform=\"translate(31.567187 31.553344)scale(0.1 -0.1)\">\n       <defs>\n        <path d=\"M 45.40625 27.984375 \nQ 45.40625 37.75 41.375 43.109375 \nQ 37.359375 48.484375 30.078125 48.484375 \nQ 22.859375 48.484375 18.828125 43.109375 \nQ 14.796875 37.75 14.796875 27.984375 \nQ 14.796875 18.265625 18.828125 12.890625 \nQ 22.859375 7.515625 30.078125 7.515625 \nQ 37.359375 7.515625 41.375 12.890625 \nQ 45.40625 18.265625 45.40625 27.984375 \nz\nM 54.390625 6.78125 \nQ 54.390625 -7.171875 48.1875 -13.984375 \nQ 42 -20.796875 29.203125 -20.796875 \nQ 24.46875 -20.796875 20.265625 -20.09375 \nQ 16.0625 -19.390625 12.109375 -17.921875 \nL 12.109375 -9.1875 \nQ 16.0625 -11.328125 19.921875 -12.34375 \nQ 23.78125 -13.375 27.78125 -13.375 \nQ 36.625 -13.375 41.015625 -8.765625 \nQ 45.40625 -4.15625 45.40625 5.171875 \nL 45.40625 9.625 \nQ 42.625 4.78125 38.28125 2.390625 \nQ 33.9375 0 27.875 0 \nQ 17.828125 0 11.671875 7.65625 \nQ 5.515625 15.328125 5.515625 27.984375 \nQ 5.515625 40.671875 11.671875 48.328125 \nQ 17.828125 56 27.875 56 \nQ 33.9375 56 38.28125 53.609375 \nQ 42.625 51.21875 45.40625 46.390625 \nL 45.40625 54.6875 \nL 54.390625 54.6875 \nz\n\" id=\"DejaVuSans-103\"/>\n        <path d=\"M 56.203125 29.59375 \nL 56.203125 25.203125 \nL 14.890625 25.203125 \nQ 15.484375 15.921875 20.484375 11.0625 \nQ 25.484375 6.203125 34.421875 6.203125 \nQ 39.59375 6.203125 44.453125 7.46875 \nQ 49.3125 8.734375 54.109375 11.28125 \nL 54.109375 2.78125 \nQ 49.265625 0.734375 44.1875 -0.34375 \nQ 39.109375 -1.421875 33.890625 -1.421875 \nQ 20.796875 -1.421875 13.15625 6.1875 \nQ 5.515625 13.8125 5.515625 26.8125 \nQ 5.515625 40.234375 12.765625 48.109375 \nQ 20.015625 56 32.328125 56 \nQ 43.359375 56 49.78125 48.890625 \nQ 56.203125 41.796875 56.203125 29.59375 \nz\nM 47.21875 32.234375 \nQ 47.125 39.59375 43.09375 43.984375 \nQ 39.0625 48.390625 32.421875 48.390625 \nQ 24.90625 48.390625 20.390625 44.140625 \nQ 15.875 39.890625 15.1875 32.171875 \nz\n\" id=\"DejaVuSans-101\"/>\n        <path d=\"M 50.984375 -16.609375 \nL 50.984375 -23.578125 \nL -0.984375 -23.578125 \nL -0.984375 -16.609375 \nz\n\" id=\"DejaVuSans-95\"/>\n       </defs>\n       <use xlink:href=\"#DejaVuSans-103\"/>\n       <use x=\"63.476562\" xlink:href=\"#DejaVuSans-111\"/>\n       <use x=\"124.658203\" xlink:href=\"#DejaVuSans-111\"/>\n       <use x=\"185.839844\" xlink:href=\"#DejaVuSans-103\"/>\n       <use x=\"249.316406\" xlink:href=\"#DejaVuSans-108\"/>\n       <use x=\"277.099609\" xlink:href=\"#DejaVuSans-101\"/>\n       <use x=\"338.623047\" xlink:href=\"#DejaVuSans-95\"/>\n       <use x=\"388.623047\" xlink:href=\"#DejaVuSans-110\"/>\n       <use x=\"452.001953\" xlink:href=\"#DejaVuSans-103\"/>\n       <use x=\"515.478516\" xlink:href=\"#DejaVuSans-114\"/>\n       <use x=\"556.591797\" xlink:href=\"#DejaVuSans-97\"/>\n       <use x=\"617.871094\" xlink:href=\"#DejaVuSans-109\"/>\n       <use x=\"715.283203\" xlink:href=\"#DejaVuSans-95\"/>\n       <use x=\"765.283203\" xlink:href=\"#DejaVuSans-49\"/>\n      </g>\n     </g>\n    </g>\n    <g id=\"ytick_2\">\n     <g id=\"line2d_9\">\n      <g>\n       <use style=\"stroke:#000000;stroke-width:0.8;\" x=\"121.460938\" xlink:href=\"#m2ba79b3d49\" y=\"38.626125\"/>\n      </g>\n     </g>\n     <g id=\"text_10\">\n      <!-- tf_summed_bpe -->\n      <g transform=\"translate(34.640625 42.425344)scale(0.1 -0.1)\">\n       <defs>\n        <path d=\"M 44.28125 53.078125 \nL 44.28125 44.578125 \nQ 40.484375 46.53125 36.375 47.5 \nQ 32.28125 48.484375 27.875 48.484375 \nQ 21.1875 48.484375 17.84375 46.4375 \nQ 14.5 44.390625 14.5 40.28125 \nQ 14.5 37.15625 16.890625 35.375 \nQ 19.28125 33.59375 26.515625 31.984375 \nL 29.59375 31.296875 \nQ 39.15625 29.25 43.1875 25.515625 \nQ 47.21875 21.78125 47.21875 15.09375 \nQ 47.21875 7.46875 41.1875 3.015625 \nQ 35.15625 -1.421875 24.609375 -1.421875 \nQ 20.21875 -1.421875 15.453125 -0.5625 \nQ 10.6875 0.296875 5.421875 2 \nL 5.421875 11.28125 \nQ 10.40625 8.6875 15.234375 7.390625 \nQ 20.0625 6.109375 24.8125 6.109375 \nQ 31.15625 6.109375 34.5625 8.28125 \nQ 37.984375 10.453125 37.984375 14.40625 \nQ 37.984375 18.0625 35.515625 20.015625 \nQ 33.0625 21.96875 24.703125 23.78125 \nL 21.578125 24.515625 \nQ 13.234375 26.265625 9.515625 29.90625 \nQ 5.8125 33.546875 5.8125 39.890625 \nQ 5.8125 47.609375 11.28125 51.796875 \nQ 16.75 56 26.8125 56 \nQ 31.78125 56 36.171875 55.265625 \nQ 40.578125 54.546875 44.28125 53.078125 \nz\n\" id=\"DejaVuSans-115\"/>\n        <path d=\"M 45.40625 46.390625 \nL 45.40625 75.984375 \nL 54.390625 75.984375 \nL 54.390625 0 \nL 45.40625 0 \nL 45.40625 8.203125 \nQ 42.578125 3.328125 38.25 0.953125 \nQ 33.9375 -1.421875 27.875 -1.421875 \nQ 17.96875 -1.421875 11.734375 6.484375 \nQ 5.515625 14.40625 5.515625 27.296875 \nQ 5.515625 40.1875 11.734375 48.09375 \nQ 17.96875 56 27.875 56 \nQ 33.9375 56 38.25 53.625 \nQ 42.578125 51.265625 45.40625 46.390625 \nz\nM 14.796875 27.296875 \nQ 14.796875 17.390625 18.875 11.75 \nQ 22.953125 6.109375 30.078125 6.109375 \nQ 37.203125 6.109375 41.296875 11.75 \nQ 45.40625 17.390625 45.40625 27.296875 \nQ 45.40625 37.203125 41.296875 42.84375 \nQ 37.203125 48.484375 30.078125 48.484375 \nQ 22.953125 48.484375 18.875 42.84375 \nQ 14.796875 37.203125 14.796875 27.296875 \nz\n\" id=\"DejaVuSans-100\"/>\n        <path d=\"M 48.6875 27.296875 \nQ 48.6875 37.203125 44.609375 42.84375 \nQ 40.53125 48.484375 33.40625 48.484375 \nQ 26.265625 48.484375 22.1875 42.84375 \nQ 18.109375 37.203125 18.109375 27.296875 \nQ 18.109375 17.390625 22.1875 11.75 \nQ 26.265625 6.109375 33.40625 6.109375 \nQ 40.53125 6.109375 44.609375 11.75 \nQ 48.6875 17.390625 48.6875 27.296875 \nz\nM 18.109375 46.390625 \nQ 20.953125 51.265625 25.265625 53.625 \nQ 29.59375 56 35.59375 56 \nQ 45.5625 56 51.78125 48.09375 \nQ 58.015625 40.1875 58.015625 27.296875 \nQ 58.015625 14.40625 51.78125 6.484375 \nQ 45.5625 -1.421875 35.59375 -1.421875 \nQ 29.59375 -1.421875 25.265625 0.953125 \nQ 20.953125 3.328125 18.109375 8.203125 \nL 18.109375 0 \nL 9.078125 0 \nL 9.078125 75.984375 \nL 18.109375 75.984375 \nz\n\" id=\"DejaVuSans-98\"/>\n        <path d=\"M 18.109375 8.203125 \nL 18.109375 -20.796875 \nL 9.078125 -20.796875 \nL 9.078125 54.6875 \nL 18.109375 54.6875 \nL 18.109375 46.390625 \nQ 20.953125 51.265625 25.265625 53.625 \nQ 29.59375 56 35.59375 56 \nQ 45.5625 56 51.78125 48.09375 \nQ 58.015625 40.1875 58.015625 27.296875 \nQ 58.015625 14.40625 51.78125 6.484375 \nQ 45.5625 -1.421875 35.59375 -1.421875 \nQ 29.59375 -1.421875 25.265625 0.953125 \nQ 20.953125 3.328125 18.109375 8.203125 \nz\nM 48.6875 27.296875 \nQ 48.6875 37.203125 44.609375 42.84375 \nQ 40.53125 48.484375 33.40625 48.484375 \nQ 26.265625 48.484375 22.1875 42.84375 \nQ 18.109375 37.203125 18.109375 27.296875 \nQ 18.109375 17.390625 22.1875 11.75 \nQ 26.265625 6.109375 33.40625 6.109375 \nQ 40.53125 6.109375 44.609375 11.75 \nQ 48.6875 17.390625 48.6875 27.296875 \nz\n\" id=\"DejaVuSans-112\"/>\n       </defs>\n       <use xlink:href=\"#DejaVuSans-116\"/>\n       <use x=\"39.208984\" xlink:href=\"#DejaVuSans-102\"/>\n       <use x=\"74.414062\" xlink:href=\"#DejaVuSans-95\"/>\n       <use x=\"124.414062\" xlink:href=\"#DejaVuSans-115\"/>\n       <use x=\"176.513672\" xlink:href=\"#DejaVuSans-117\"/>\n       <use x=\"239.892578\" xlink:href=\"#DejaVuSans-109\"/>\n       <use x=\"337.304688\" xlink:href=\"#DejaVuSans-109\"/>\n       <use x=\"434.716797\" xlink:href=\"#DejaVuSans-101\"/>\n       <use x=\"496.240234\" xlink:href=\"#DejaVuSans-100\"/>\n       <use x=\"559.716797\" xlink:href=\"#DejaVuSans-95\"/>\n       <use x=\"609.716797\" xlink:href=\"#DejaVuSans-98\"/>\n       <use x=\"673.193359\" xlink:href=\"#DejaVuSans-112\"/>\n       <use x=\"736.669922\" xlink:href=\"#DejaVuSans-101\"/>\n      </g>\n     </g>\n    </g>\n    <g id=\"ytick_3\">\n     <g id=\"line2d_10\">\n      <g>\n       <use style=\"stroke:#000000;stroke-width:0.8;\" x=\"121.460938\" xlink:href=\"#m2ba79b3d49\" y=\"49.498125\"/>\n      </g>\n     </g>\n     <g id=\"text_11\">\n      <!-- tf_lemma -->\n      <g transform=\"translate(67.479687 53.297344)scale(0.1 -0.1)\">\n       <use xlink:href=\"#DejaVuSans-116\"/>\n       <use x=\"39.208984\" xlink:href=\"#DejaVuSans-102\"/>\n       <use x=\"74.414062\" xlink:href=\"#DejaVuSans-95\"/>\n       <use x=\"124.414062\" xlink:href=\"#DejaVuSans-108\"/>\n       <use x=\"152.197266\" xlink:href=\"#DejaVuSans-101\"/>\n       <use x=\"213.720703\" xlink:href=\"#DejaVuSans-109\"/>\n       <use x=\"311.132812\" xlink:href=\"#DejaVuSans-109\"/>\n       <use x=\"408.544922\" xlink:href=\"#DejaVuSans-97\"/>\n      </g>\n     </g>\n    </g>\n    <g id=\"ytick_4\">\n     <g id=\"line2d_11\">\n      <g>\n       <use style=\"stroke:#000000;stroke-width:0.8;\" x=\"121.460938\" xlink:href=\"#m2ba79b3d49\" y=\"60.370125\"/>\n      </g>\n     </g>\n     <g id=\"text_12\">\n      <!-- tf -->\n      <g transform=\"translate(107.020313 64.169344)scale(0.1 -0.1)\">\n       <use xlink:href=\"#DejaVuSans-116\"/>\n       <use x=\"39.208984\" xlink:href=\"#DejaVuSans-102\"/>\n      </g>\n     </g>\n    </g>\n    <g id=\"ytick_5\">\n     <g id=\"line2d_12\">\n      <g>\n       <use style=\"stroke:#000000;stroke-width:0.8;\" x=\"121.460938\" xlink:href=\"#m2ba79b3d49\" y=\"71.242125\"/>\n      </g>\n     </g>\n     <g id=\"text_13\">\n      <!-- CDcount -->\n      <g transform=\"translate(71.565625 75.041344)scale(0.1 -0.1)\">\n       <defs>\n        <path d=\"M 64.40625 67.28125 \nL 64.40625 56.890625 \nQ 59.421875 61.53125 53.78125 63.8125 \nQ 48.140625 66.109375 41.796875 66.109375 \nQ 29.296875 66.109375 22.65625 58.46875 \nQ 16.015625 50.828125 16.015625 36.375 \nQ 16.015625 21.96875 22.65625 14.328125 \nQ 29.296875 6.6875 41.796875 6.6875 \nQ 48.140625 6.6875 53.78125 8.984375 \nQ 59.421875 11.28125 64.40625 15.921875 \nL 64.40625 5.609375 \nQ 59.234375 2.09375 53.4375 0.328125 \nQ 47.65625 -1.421875 41.21875 -1.421875 \nQ 24.65625 -1.421875 15.125 8.703125 \nQ 5.609375 18.84375 5.609375 36.375 \nQ 5.609375 53.953125 15.125 64.078125 \nQ 24.65625 74.21875 41.21875 74.21875 \nQ 47.75 74.21875 53.53125 72.484375 \nQ 59.328125 70.75 64.40625 67.28125 \nz\n\" id=\"DejaVuSans-67\"/>\n        <path d=\"M 19.671875 64.796875 \nL 19.671875 8.109375 \nL 31.59375 8.109375 \nQ 46.6875 8.109375 53.6875 14.9375 \nQ 60.6875 21.78125 60.6875 36.53125 \nQ 60.6875 51.171875 53.6875 57.984375 \nQ 46.6875 64.796875 31.59375 64.796875 \nz\nM 9.8125 72.90625 \nL 30.078125 72.90625 \nQ 51.265625 72.90625 61.171875 64.09375 \nQ 71.09375 55.28125 71.09375 36.53125 \nQ 71.09375 17.671875 61.125 8.828125 \nQ 51.171875 0 30.078125 0 \nL 9.8125 0 \nz\n\" id=\"DejaVuSans-68\"/>\n        <path d=\"M 48.78125 52.59375 \nL 48.78125 44.1875 \nQ 44.96875 46.296875 41.140625 47.34375 \nQ 37.3125 48.390625 33.40625 48.390625 \nQ 24.65625 48.390625 19.8125 42.84375 \nQ 14.984375 37.3125 14.984375 27.296875 \nQ 14.984375 17.28125 19.8125 11.734375 \nQ 24.65625 6.203125 33.40625 6.203125 \nQ 37.3125 6.203125 41.140625 7.25 \nQ 44.96875 8.296875 48.78125 10.40625 \nL 48.78125 2.09375 \nQ 45.015625 0.34375 40.984375 -0.53125 \nQ 36.96875 -1.421875 32.421875 -1.421875 \nQ 20.0625 -1.421875 12.78125 6.34375 \nQ 5.515625 14.109375 5.515625 27.296875 \nQ 5.515625 40.671875 12.859375 48.328125 \nQ 20.21875 56 33.015625 56 \nQ 37.15625 56 41.109375 55.140625 \nQ 45.0625 54.296875 48.78125 52.59375 \nz\n\" id=\"DejaVuSans-99\"/>\n       </defs>\n       <use xlink:href=\"#DejaVuSans-67\"/>\n       <use x=\"69.824219\" xlink:href=\"#DejaVuSans-68\"/>\n       <use x=\"146.826172\" xlink:href=\"#DejaVuSans-99\"/>\n       <use x=\"201.806641\" xlink:href=\"#DejaVuSans-111\"/>\n       <use x=\"262.988281\" xlink:href=\"#DejaVuSans-117\"/>\n       <use x=\"326.367188\" xlink:href=\"#DejaVuSans-110\"/>\n       <use x=\"389.746094\" xlink:href=\"#DejaVuSans-116\"/>\n      </g>\n     </g>\n    </g>\n    <g id=\"ytick_6\">\n     <g id=\"line2d_13\">\n      <g>\n       <use style=\"stroke:#000000;stroke-width:0.8;\" x=\"121.460938\" xlink:href=\"#m2ba79b3d49\" y=\"82.114125\"/>\n      </g>\n     </g>\n     <g id=\"text_14\">\n      <!-- Lg10CD -->\n      <g transform=\"translate(75.132812 85.913344)scale(0.1 -0.1)\">\n       <defs>\n        <path d=\"M 9.8125 72.90625 \nL 19.671875 72.90625 \nL 19.671875 8.296875 \nL 55.171875 8.296875 \nL 55.171875 0 \nL 9.8125 0 \nz\n\" id=\"DejaVuSans-76\"/>\n       </defs>\n       <use xlink:href=\"#DejaVuSans-76\"/>\n       <use x=\"55.712891\" xlink:href=\"#DejaVuSans-103\"/>\n       <use x=\"119.189453\" xlink:href=\"#DejaVuSans-49\"/>\n       <use x=\"182.8125\" xlink:href=\"#DejaVuSans-48\"/>\n       <use x=\"246.435547\" xlink:href=\"#DejaVuSans-67\"/>\n       <use x=\"316.259766\" xlink:href=\"#DejaVuSans-68\"/>\n      </g>\n     </g>\n    </g>\n    <g id=\"ytick_7\">\n     <g id=\"line2d_14\">\n      <g>\n       <use style=\"stroke:#000000;stroke-width:0.8;\" x=\"121.460938\" xlink:href=\"#m2ba79b3d49\" y=\"92.986125\"/>\n      </g>\n     </g>\n     <g id=\"text_15\">\n      <!-- SUBTLCD -->\n      <g transform=\"translate(67.570312 96.785344)scale(0.1 -0.1)\">\n       <defs>\n        <path d=\"M 53.515625 70.515625 \nL 53.515625 60.890625 \nQ 47.90625 63.578125 42.921875 64.890625 \nQ 37.9375 66.21875 33.296875 66.21875 \nQ 25.25 66.21875 20.875 63.09375 \nQ 16.5 59.96875 16.5 54.203125 \nQ 16.5 49.359375 19.40625 46.890625 \nQ 22.3125 44.4375 30.421875 42.921875 \nL 36.375 41.703125 \nQ 47.40625 39.59375 52.65625 34.296875 \nQ 57.90625 29 57.90625 20.125 \nQ 57.90625 9.515625 50.796875 4.046875 \nQ 43.703125 -1.421875 29.984375 -1.421875 \nQ 24.8125 -1.421875 18.96875 -0.25 \nQ 13.140625 0.921875 6.890625 3.21875 \nL 6.890625 13.375 \nQ 12.890625 10.015625 18.65625 8.296875 \nQ 24.421875 6.59375 29.984375 6.59375 \nQ 38.421875 6.59375 43.015625 9.90625 \nQ 47.609375 13.234375 47.609375 19.390625 \nQ 47.609375 24.75 44.3125 27.78125 \nQ 41.015625 30.8125 33.5 32.328125 \nL 27.484375 33.5 \nQ 16.453125 35.6875 11.515625 40.375 \nQ 6.59375 45.0625 6.59375 53.421875 \nQ 6.59375 63.09375 13.40625 68.65625 \nQ 20.21875 74.21875 32.171875 74.21875 \nQ 37.3125 74.21875 42.625 73.28125 \nQ 47.953125 72.359375 53.515625 70.515625 \nz\n\" id=\"DejaVuSans-83\"/>\n        <path d=\"M 8.6875 72.90625 \nL 18.609375 72.90625 \nL 18.609375 28.609375 \nQ 18.609375 16.890625 22.84375 11.734375 \nQ 27.09375 6.59375 36.625 6.59375 \nQ 46.09375 6.59375 50.34375 11.734375 \nQ 54.59375 16.890625 54.59375 28.609375 \nL 54.59375 72.90625 \nL 64.5 72.90625 \nL 64.5 27.390625 \nQ 64.5 13.140625 57.4375 5.859375 \nQ 50.390625 -1.421875 36.625 -1.421875 \nQ 22.796875 -1.421875 15.734375 5.859375 \nQ 8.6875 13.140625 8.6875 27.390625 \nz\n\" id=\"DejaVuSans-85\"/>\n        <path d=\"M 19.671875 34.8125 \nL 19.671875 8.109375 \nL 35.5 8.109375 \nQ 43.453125 8.109375 47.28125 11.40625 \nQ 51.125 14.703125 51.125 21.484375 \nQ 51.125 28.328125 47.28125 31.5625 \nQ 43.453125 34.8125 35.5 34.8125 \nz\nM 19.671875 64.796875 \nL 19.671875 42.828125 \nL 34.28125 42.828125 \nQ 41.5 42.828125 45.03125 45.53125 \nQ 48.578125 48.25 48.578125 53.8125 \nQ 48.578125 59.328125 45.03125 62.0625 \nQ 41.5 64.796875 34.28125 64.796875 \nz\nM 9.8125 72.90625 \nL 35.015625 72.90625 \nQ 46.296875 72.90625 52.390625 68.21875 \nQ 58.5 63.53125 58.5 54.890625 \nQ 58.5 48.1875 55.375 44.234375 \nQ 52.25 40.28125 46.1875 39.3125 \nQ 53.46875 37.75 57.5 32.78125 \nQ 61.53125 27.828125 61.53125 20.40625 \nQ 61.53125 10.640625 54.890625 5.3125 \nQ 48.25 0 35.984375 0 \nL 9.8125 0 \nz\n\" id=\"DejaVuSans-66\"/>\n        <path d=\"M -0.296875 72.90625 \nL 61.375 72.90625 \nL 61.375 64.59375 \nL 35.5 64.59375 \nL 35.5 0 \nL 25.59375 0 \nL 25.59375 64.59375 \nL -0.296875 64.59375 \nz\n\" id=\"DejaVuSans-84\"/>\n       </defs>\n       <use xlink:href=\"#DejaVuSans-83\"/>\n       <use x=\"63.476562\" xlink:href=\"#DejaVuSans-85\"/>\n       <use x=\"136.669922\" xlink:href=\"#DejaVuSans-66\"/>\n       <use x=\"205.273438\" xlink:href=\"#DejaVuSans-84\"/>\n       <use x=\"266.357422\" xlink:href=\"#DejaVuSans-76\"/>\n       <use x=\"322.070312\" xlink:href=\"#DejaVuSans-67\"/>\n       <use x=\"391.894531\" xlink:href=\"#DejaVuSans-68\"/>\n      </g>\n     </g>\n    </g>\n    <g id=\"ytick_8\">\n     <g id=\"line2d_15\">\n      <g>\n       <use style=\"stroke:#000000;stroke-width:0.8;\" x=\"121.460938\" xlink:href=\"#m2ba79b3d49\" y=\"103.858125\"/>\n      </g>\n     </g>\n     <g id=\"text_16\">\n      <!-- log_SUBTLCD -->\n      <g transform=\"translate(47.325 107.657344)scale(0.1 -0.1)\">\n       <use xlink:href=\"#DejaVuSans-108\"/>\n       <use x=\"27.783203\" xlink:href=\"#DejaVuSans-111\"/>\n       <use x=\"88.964844\" xlink:href=\"#DejaVuSans-103\"/>\n       <use x=\"152.441406\" xlink:href=\"#DejaVuSans-95\"/>\n       <use x=\"202.441406\" xlink:href=\"#DejaVuSans-83\"/>\n       <use x=\"265.917969\" xlink:href=\"#DejaVuSans-85\"/>\n       <use x=\"339.111328\" xlink:href=\"#DejaVuSans-66\"/>\n       <use x=\"407.714844\" xlink:href=\"#DejaVuSans-84\"/>\n       <use x=\"468.798828\" xlink:href=\"#DejaVuSans-76\"/>\n       <use x=\"524.511719\" xlink:href=\"#DejaVuSans-67\"/>\n       <use x=\"594.335938\" xlink:href=\"#DejaVuSans-68\"/>\n      </g>\n     </g>\n    </g>\n    <g id=\"ytick_9\">\n     <g id=\"line2d_16\">\n      <g>\n       <use style=\"stroke:#000000;stroke-width:0.8;\" x=\"121.460938\" xlink:href=\"#m2ba79b3d49\" y=\"114.730125\"/>\n      </g>\n     </g>\n     <g id=\"text_17\">\n      <!-- FREQcount -->\n      <g transform=\"translate(59.357812 118.529344)scale(0.1 -0.1)\">\n       <defs>\n        <path d=\"M 9.8125 72.90625 \nL 51.703125 72.90625 \nL 51.703125 64.59375 \nL 19.671875 64.59375 \nL 19.671875 43.109375 \nL 48.578125 43.109375 \nL 48.578125 34.8125 \nL 19.671875 34.8125 \nL 19.671875 0 \nL 9.8125 0 \nz\n\" id=\"DejaVuSans-70\"/>\n        <path d=\"M 44.390625 34.1875 \nQ 47.5625 33.109375 50.5625 29.59375 \nQ 53.5625 26.078125 56.59375 19.921875 \nL 66.609375 0 \nL 56 0 \nL 46.6875 18.703125 \nQ 43.0625 26.03125 39.671875 28.421875 \nQ 36.28125 30.8125 30.421875 30.8125 \nL 19.671875 30.8125 \nL 19.671875 0 \nL 9.8125 0 \nL 9.8125 72.90625 \nL 32.078125 72.90625 \nQ 44.578125 72.90625 50.734375 67.671875 \nQ 56.890625 62.453125 56.890625 51.90625 \nQ 56.890625 45.015625 53.6875 40.46875 \nQ 50.484375 35.9375 44.390625 34.1875 \nz\nM 19.671875 64.796875 \nL 19.671875 38.921875 \nL 32.078125 38.921875 \nQ 39.203125 38.921875 42.84375 42.21875 \nQ 46.484375 45.515625 46.484375 51.90625 \nQ 46.484375 58.296875 42.84375 61.546875 \nQ 39.203125 64.796875 32.078125 64.796875 \nz\n\" id=\"DejaVuSans-82\"/>\n        <path d=\"M 9.8125 72.90625 \nL 55.90625 72.90625 \nL 55.90625 64.59375 \nL 19.671875 64.59375 \nL 19.671875 43.015625 \nL 54.390625 43.015625 \nL 54.390625 34.71875 \nL 19.671875 34.71875 \nL 19.671875 8.296875 \nL 56.78125 8.296875 \nL 56.78125 0 \nL 9.8125 0 \nz\n\" id=\"DejaVuSans-69\"/>\n        <path d=\"M 39.40625 66.21875 \nQ 28.65625 66.21875 22.328125 58.203125 \nQ 16.015625 50.203125 16.015625 36.375 \nQ 16.015625 22.609375 22.328125 14.59375 \nQ 28.65625 6.59375 39.40625 6.59375 \nQ 50.140625 6.59375 56.421875 14.59375 \nQ 62.703125 22.609375 62.703125 36.375 \nQ 62.703125 50.203125 56.421875 58.203125 \nQ 50.140625 66.21875 39.40625 66.21875 \nz\nM 53.21875 1.3125 \nL 66.21875 -12.890625 \nL 54.296875 -12.890625 \nL 43.5 -1.21875 \nQ 41.890625 -1.3125 41.03125 -1.359375 \nQ 40.1875 -1.421875 39.40625 -1.421875 \nQ 24.03125 -1.421875 14.8125 8.859375 \nQ 5.609375 19.140625 5.609375 36.375 \nQ 5.609375 53.65625 14.8125 63.9375 \nQ 24.03125 74.21875 39.40625 74.21875 \nQ 54.734375 74.21875 63.90625 63.9375 \nQ 73.09375 53.65625 73.09375 36.375 \nQ 73.09375 23.6875 67.984375 14.640625 \nQ 62.890625 5.609375 53.21875 1.3125 \nz\n\" id=\"DejaVuSans-81\"/>\n       </defs>\n       <use xlink:href=\"#DejaVuSans-70\"/>\n       <use x=\"57.519531\" xlink:href=\"#DejaVuSans-82\"/>\n       <use x=\"127.001953\" xlink:href=\"#DejaVuSans-69\"/>\n       <use x=\"190.185547\" xlink:href=\"#DejaVuSans-81\"/>\n       <use x=\"268.896484\" xlink:href=\"#DejaVuSans-99\"/>\n       <use x=\"323.876953\" xlink:href=\"#DejaVuSans-111\"/>\n       <use x=\"385.058594\" xlink:href=\"#DejaVuSans-117\"/>\n       <use x=\"448.4375\" xlink:href=\"#DejaVuSans-110\"/>\n       <use x=\"511.816406\" xlink:href=\"#DejaVuSans-116\"/>\n      </g>\n     </g>\n    </g>\n    <g id=\"ytick_10\">\n     <g id=\"line2d_17\">\n      <g>\n       <use style=\"stroke:#000000;stroke-width:0.8;\" x=\"121.460938\" xlink:href=\"#m2ba79b3d49\" y=\"125.602125\"/>\n      </g>\n     </g>\n     <g id=\"text_18\">\n      <!-- SUBTLWF -->\n      <g transform=\"translate(67.526562 129.401344)scale(0.1 -0.1)\">\n       <defs>\n        <path d=\"M 3.328125 72.90625 \nL 13.28125 72.90625 \nL 28.609375 11.28125 \nL 43.890625 72.90625 \nL 54.984375 72.90625 \nL 70.3125 11.28125 \nL 85.59375 72.90625 \nL 95.609375 72.90625 \nL 77.296875 0 \nL 64.890625 0 \nL 49.515625 63.28125 \nL 33.984375 0 \nL 21.578125 0 \nz\n\" id=\"DejaVuSans-87\"/>\n       </defs>\n       <use xlink:href=\"#DejaVuSans-83\"/>\n       <use x=\"63.476562\" xlink:href=\"#DejaVuSans-85\"/>\n       <use x=\"136.669922\" xlink:href=\"#DejaVuSans-66\"/>\n       <use x=\"205.273438\" xlink:href=\"#DejaVuSans-84\"/>\n       <use x=\"266.357422\" xlink:href=\"#DejaVuSans-76\"/>\n       <use x=\"312.945312\" xlink:href=\"#DejaVuSans-87\"/>\n       <use x=\"411.822266\" xlink:href=\"#DejaVuSans-70\"/>\n      </g>\n     </g>\n    </g>\n    <g id=\"ytick_11\">\n     <g id=\"line2d_18\">\n      <g>\n       <use style=\"stroke:#000000;stroke-width:0.8;\" x=\"121.460938\" xlink:href=\"#m2ba79b3d49\" y=\"136.474125\"/>\n      </g>\n     </g>\n     <g id=\"text_19\">\n      <!-- Lg10WF -->\n      <g transform=\"translate(74.176562 140.273344)scale(0.1 -0.1)\">\n       <use xlink:href=\"#DejaVuSans-76\"/>\n       <use x=\"55.712891\" xlink:href=\"#DejaVuSans-103\"/>\n       <use x=\"119.189453\" xlink:href=\"#DejaVuSans-49\"/>\n       <use x=\"182.8125\" xlink:href=\"#DejaVuSans-48\"/>\n       <use x=\"246.435547\" xlink:href=\"#DejaVuSans-87\"/>\n       <use x=\"345.3125\" xlink:href=\"#DejaVuSans-70\"/>\n      </g>\n     </g>\n    </g>\n    <g id=\"ytick_12\">\n     <g id=\"line2d_19\">\n      <g>\n       <use style=\"stroke:#000000;stroke-width:0.8;\" x=\"121.460938\" xlink:href=\"#m2ba79b3d49\" y=\"147.346125\"/>\n      </g>\n     </g>\n     <g id=\"text_20\">\n      <!-- Cdlow -->\n      <g transform=\"translate(84.054688 151.145344)scale(0.1 -0.1)\">\n       <defs>\n        <path d=\"M 4.203125 54.6875 \nL 13.1875 54.6875 \nL 24.421875 12.015625 \nL 35.59375 54.6875 \nL 46.1875 54.6875 \nL 57.421875 12.015625 \nL 68.609375 54.6875 \nL 77.59375 54.6875 \nL 63.28125 0 \nL 52.6875 0 \nL 40.921875 44.828125 \nL 29.109375 0 \nL 18.5 0 \nz\n\" id=\"DejaVuSans-119\"/>\n       </defs>\n       <use xlink:href=\"#DejaVuSans-67\"/>\n       <use x=\"69.824219\" xlink:href=\"#DejaVuSans-100\"/>\n       <use x=\"133.300781\" xlink:href=\"#DejaVuSans-108\"/>\n       <use x=\"161.083984\" xlink:href=\"#DejaVuSans-111\"/>\n       <use x=\"222.265625\" xlink:href=\"#DejaVuSans-119\"/>\n      </g>\n     </g>\n    </g>\n    <g id=\"ytick_13\">\n     <g id=\"line2d_20\">\n      <g>\n       <use style=\"stroke:#000000;stroke-width:0.8;\" x=\"121.460938\" xlink:href=\"#m2ba79b3d49\" y=\"158.218125\"/>\n      </g>\n     </g>\n     <g id=\"text_21\">\n      <!-- log_SUBTLWF -->\n      <g transform=\"translate(47.28125 162.017344)scale(0.1 -0.1)\">\n       <use xlink:href=\"#DejaVuSans-108\"/>\n       <use x=\"27.783203\" xlink:href=\"#DejaVuSans-111\"/>\n       <use x=\"88.964844\" xlink:href=\"#DejaVuSans-103\"/>\n       <use x=\"152.441406\" xlink:href=\"#DejaVuSans-95\"/>\n       <use x=\"202.441406\" xlink:href=\"#DejaVuSans-83\"/>\n       <use x=\"265.917969\" xlink:href=\"#DejaVuSans-85\"/>\n       <use x=\"339.111328\" xlink:href=\"#DejaVuSans-66\"/>\n       <use x=\"407.714844\" xlink:href=\"#DejaVuSans-84\"/>\n       <use x=\"468.798828\" xlink:href=\"#DejaVuSans-76\"/>\n       <use x=\"515.386719\" xlink:href=\"#DejaVuSans-87\"/>\n       <use x=\"614.263672\" xlink:href=\"#DejaVuSans-70\"/>\n      </g>\n     </g>\n    </g>\n    <g id=\"ytick_14\">\n     <g id=\"line2d_21\">\n      <g>\n       <use style=\"stroke:#000000;stroke-width:0.8;\" x=\"121.460938\" xlink:href=\"#m2ba79b3d49\" y=\"169.090125\"/>\n      </g>\n     </g>\n     <g id=\"text_22\">\n      <!-- log_tf_lemma -->\n      <g transform=\"translate(47.234375 172.889344)scale(0.1 -0.1)\">\n       <use xlink:href=\"#DejaVuSans-108\"/>\n       <use x=\"27.783203\" xlink:href=\"#DejaVuSans-111\"/>\n       <use x=\"88.964844\" xlink:href=\"#DejaVuSans-103\"/>\n       <use x=\"152.441406\" xlink:href=\"#DejaVuSans-95\"/>\n       <use x=\"202.441406\" xlink:href=\"#DejaVuSans-116\"/>\n       <use x=\"241.650391\" xlink:href=\"#DejaVuSans-102\"/>\n       <use x=\"276.855469\" xlink:href=\"#DejaVuSans-95\"/>\n       <use x=\"326.855469\" xlink:href=\"#DejaVuSans-108\"/>\n       <use x=\"354.638672\" xlink:href=\"#DejaVuSans-101\"/>\n       <use x=\"416.162109\" xlink:href=\"#DejaVuSans-109\"/>\n       <use x=\"513.574219\" xlink:href=\"#DejaVuSans-109\"/>\n       <use x=\"610.986328\" xlink:href=\"#DejaVuSans-97\"/>\n      </g>\n     </g>\n    </g>\n    <g id=\"ytick_15\">\n     <g id=\"line2d_22\">\n      <g>\n       <use style=\"stroke:#000000;stroke-width:0.8;\" x=\"121.460938\" xlink:href=\"#m2ba79b3d49\" y=\"179.962125\"/>\n      </g>\n     </g>\n     <g id=\"text_23\">\n      <!-- bnc_frequency -->\n      <g transform=\"translate(41.123437 183.761344)scale(0.1 -0.1)\">\n       <defs>\n        <path d=\"M 14.796875 27.296875 \nQ 14.796875 17.390625 18.875 11.75 \nQ 22.953125 6.109375 30.078125 6.109375 \nQ 37.203125 6.109375 41.296875 11.75 \nQ 45.40625 17.390625 45.40625 27.296875 \nQ 45.40625 37.203125 41.296875 42.84375 \nQ 37.203125 48.484375 30.078125 48.484375 \nQ 22.953125 48.484375 18.875 42.84375 \nQ 14.796875 37.203125 14.796875 27.296875 \nz\nM 45.40625 8.203125 \nQ 42.578125 3.328125 38.25 0.953125 \nQ 33.9375 -1.421875 27.875 -1.421875 \nQ 17.96875 -1.421875 11.734375 6.484375 \nQ 5.515625 14.40625 5.515625 27.296875 \nQ 5.515625 40.1875 11.734375 48.09375 \nQ 17.96875 56 27.875 56 \nQ 33.9375 56 38.25 53.625 \nQ 42.578125 51.265625 45.40625 46.390625 \nL 45.40625 54.6875 \nL 54.390625 54.6875 \nL 54.390625 -20.796875 \nL 45.40625 -20.796875 \nz\n\" id=\"DejaVuSans-113\"/>\n        <path d=\"M 32.171875 -5.078125 \nQ 28.375 -14.84375 24.75 -17.8125 \nQ 21.140625 -20.796875 15.09375 -20.796875 \nL 7.90625 -20.796875 \nL 7.90625 -13.28125 \nL 13.1875 -13.28125 \nQ 16.890625 -13.28125 18.9375 -11.515625 \nQ 21 -9.765625 23.484375 -3.21875 \nL 25.09375 0.875 \nL 2.984375 54.6875 \nL 12.5 54.6875 \nL 29.59375 11.921875 \nL 46.6875 54.6875 \nL 56.203125 54.6875 \nz\n\" id=\"DejaVuSans-121\"/>\n       </defs>\n       <use xlink:href=\"#DejaVuSans-98\"/>\n       <use x=\"63.476562\" xlink:href=\"#DejaVuSans-110\"/>\n       <use x=\"126.855469\" xlink:href=\"#DejaVuSans-99\"/>\n       <use x=\"181.835938\" xlink:href=\"#DejaVuSans-95\"/>\n       <use x=\"231.835938\" xlink:href=\"#DejaVuSans-102\"/>\n       <use x=\"267.041016\" xlink:href=\"#DejaVuSans-114\"/>\n       <use x=\"305.904297\" xlink:href=\"#DejaVuSans-101\"/>\n       <use x=\"367.427734\" xlink:href=\"#DejaVuSans-113\"/>\n       <use x=\"430.904297\" xlink:href=\"#DejaVuSans-117\"/>\n       <use x=\"494.283203\" xlink:href=\"#DejaVuSans-101\"/>\n       <use x=\"555.806641\" xlink:href=\"#DejaVuSans-110\"/>\n       <use x=\"619.185547\" xlink:href=\"#DejaVuSans-99\"/>\n       <use x=\"674.166016\" xlink:href=\"#DejaVuSans-121\"/>\n      </g>\n     </g>\n    </g>\n    <g id=\"ytick_16\">\n     <g id=\"line2d_23\">\n      <g>\n       <use style=\"stroke:#000000;stroke-width:0.8;\" x=\"121.460938\" xlink:href=\"#m2ba79b3d49\" y=\"190.834125\"/>\n      </g>\n     </g>\n     <g id=\"text_24\">\n      <!-- log_Cdlow -->\n      <g transform=\"translate(63.809375 194.633344)scale(0.1 -0.1)\">\n       <use xlink:href=\"#DejaVuSans-108\"/>\n       <use x=\"27.783203\" xlink:href=\"#DejaVuSans-111\"/>\n       <use x=\"88.964844\" xlink:href=\"#DejaVuSans-103\"/>\n       <use x=\"152.441406\" xlink:href=\"#DejaVuSans-95\"/>\n       <use x=\"202.441406\" xlink:href=\"#DejaVuSans-67\"/>\n       <use x=\"272.265625\" xlink:href=\"#DejaVuSans-100\"/>\n       <use x=\"335.742188\" xlink:href=\"#DejaVuSans-108\"/>\n       <use x=\"363.525391\" xlink:href=\"#DejaVuSans-111\"/>\n       <use x=\"424.707031\" xlink:href=\"#DejaVuSans-119\"/>\n      </g>\n     </g>\n    </g>\n    <g id=\"ytick_17\">\n     <g id=\"line2d_24\">\n      <g>\n       <use style=\"stroke:#000000;stroke-width:0.8;\" x=\"121.460938\" xlink:href=\"#m2ba79b3d49\" y=\"201.706125\"/>\n      </g>\n     </g>\n     <g id=\"text_25\">\n      <!-- FREQlow -->\n      <g transform=\"translate(70.495312 205.505344)scale(0.1 -0.1)\">\n       <use xlink:href=\"#DejaVuSans-70\"/>\n       <use x=\"57.519531\" xlink:href=\"#DejaVuSans-82\"/>\n       <use x=\"127.001953\" xlink:href=\"#DejaVuSans-69\"/>\n       <use x=\"190.185547\" xlink:href=\"#DejaVuSans-81\"/>\n       <use x=\"268.896484\" xlink:href=\"#DejaVuSans-108\"/>\n       <use x=\"296.679688\" xlink:href=\"#DejaVuSans-111\"/>\n       <use x=\"357.861328\" xlink:href=\"#DejaVuSans-119\"/>\n      </g>\n     </g>\n    </g>\n    <g id=\"ytick_18\">\n     <g id=\"line2d_25\">\n      <g>\n       <use style=\"stroke:#000000;stroke-width:0.8;\" x=\"121.460938\" xlink:href=\"#m2ba79b3d49\" y=\"212.578125\"/>\n      </g>\n     </g>\n     <g id=\"text_26\">\n      <!-- log_tf -->\n      <g transform=\"translate(86.775 216.377344)scale(0.1 -0.1)\">\n       <use xlink:href=\"#DejaVuSans-108\"/>\n       <use x=\"27.783203\" xlink:href=\"#DejaVuSans-111\"/>\n       <use x=\"88.964844\" xlink:href=\"#DejaVuSans-103\"/>\n       <use x=\"152.441406\" xlink:href=\"#DejaVuSans-95\"/>\n       <use x=\"202.441406\" xlink:href=\"#DejaVuSans-116\"/>\n       <use x=\"241.650391\" xlink:href=\"#DejaVuSans-102\"/>\n      </g>\n     </g>\n    </g>\n    <g id=\"ytick_19\">\n     <g id=\"line2d_26\">\n      <g>\n       <use style=\"stroke:#000000;stroke-width:0.8;\" x=\"121.460938\" xlink:href=\"#m2ba79b3d49\" y=\"223.450125\"/>\n      </g>\n     </g>\n     <g id=\"text_27\">\n      <!-- log_bnc_frequency -->\n      <g transform=\"translate(20.878125 227.249344)scale(0.1 -0.1)\">\n       <use xlink:href=\"#DejaVuSans-108\"/>\n       <use x=\"27.783203\" xlink:href=\"#DejaVuSans-111\"/>\n       <use x=\"88.964844\" xlink:href=\"#DejaVuSans-103\"/>\n       <use x=\"152.441406\" xlink:href=\"#DejaVuSans-95\"/>\n       <use x=\"202.441406\" xlink:href=\"#DejaVuSans-98\"/>\n       <use x=\"265.917969\" xlink:href=\"#DejaVuSans-110\"/>\n       <use x=\"329.296875\" xlink:href=\"#DejaVuSans-99\"/>\n       <use x=\"384.277344\" xlink:href=\"#DejaVuSans-95\"/>\n       <use x=\"434.277344\" xlink:href=\"#DejaVuSans-102\"/>\n       <use x=\"469.482422\" xlink:href=\"#DejaVuSans-114\"/>\n       <use x=\"508.345703\" xlink:href=\"#DejaVuSans-101\"/>\n       <use x=\"569.869141\" xlink:href=\"#DejaVuSans-113\"/>\n       <use x=\"633.345703\" xlink:href=\"#DejaVuSans-117\"/>\n       <use x=\"696.724609\" xlink:href=\"#DejaVuSans-101\"/>\n       <use x=\"758.248047\" xlink:href=\"#DejaVuSans-110\"/>\n       <use x=\"821.626953\" xlink:href=\"#DejaVuSans-99\"/>\n       <use x=\"876.607422\" xlink:href=\"#DejaVuSans-121\"/>\n      </g>\n     </g>\n    </g>\n    <g id=\"ytick_20\">\n     <g id=\"line2d_27\">\n      <g>\n       <use style=\"stroke:#000000;stroke-width:0.8;\" x=\"121.460938\" xlink:href=\"#m2ba79b3d49\" y=\"234.322125\"/>\n      </g>\n     </g>\n     <g id=\"text_28\">\n      <!-- log_FREQlow -->\n      <g transform=\"translate(50.25 238.121344)scale(0.1 -0.1)\">\n       <use xlink:href=\"#DejaVuSans-108\"/>\n       <use x=\"27.783203\" xlink:href=\"#DejaVuSans-111\"/>\n       <use x=\"88.964844\" xlink:href=\"#DejaVuSans-103\"/>\n       <use x=\"152.441406\" xlink:href=\"#DejaVuSans-95\"/>\n       <use x=\"202.441406\" xlink:href=\"#DejaVuSans-70\"/>\n       <use x=\"259.960938\" xlink:href=\"#DejaVuSans-82\"/>\n       <use x=\"329.443359\" xlink:href=\"#DejaVuSans-69\"/>\n       <use x=\"392.626953\" xlink:href=\"#DejaVuSans-81\"/>\n       <use x=\"471.337891\" xlink:href=\"#DejaVuSans-108\"/>\n       <use x=\"499.121094\" xlink:href=\"#DejaVuSans-111\"/>\n       <use x=\"560.302734\" xlink:href=\"#DejaVuSans-119\"/>\n      </g>\n     </g>\n    </g>\n    <g id=\"text_29\">\n     <!-- feature name -->\n     <g transform=\"translate(14.798437 164.856094)rotate(-90)scale(0.1 -0.1)\">\n      <use xlink:href=\"#DejaVuSans-102\"/>\n      <use x=\"35.205078\" xlink:href=\"#DejaVuSans-101\"/>\n      <use x=\"96.728516\" xlink:href=\"#DejaVuSans-97\"/>\n      <use x=\"158.007812\" xlink:href=\"#DejaVuSans-116\"/>\n      <use x=\"197.216797\" xlink:href=\"#DejaVuSans-117\"/>\n      <use x=\"260.595703\" xlink:href=\"#DejaVuSans-114\"/>\n      <use x=\"299.458984\" xlink:href=\"#DejaVuSans-101\"/>\n      <use x=\"360.982422\" xlink:href=\"#DejaVuSans-32\"/>\n      <use x=\"392.769531\" xlink:href=\"#DejaVuSans-110\"/>\n      <use x=\"456.148438\" xlink:href=\"#DejaVuSans-97\"/>\n      <use x=\"517.427734\" xlink:href=\"#DejaVuSans-109\"/>\n      <use x=\"614.839844\" xlink:href=\"#DejaVuSans-101\"/>\n     </g>\n    </g>\n   </g>\n   <g id=\"line2d_28\">\n    <path clip-path=\"url(#p4f3d04d420)\" d=\"M 0 0 \n\" style=\"fill:none;stroke:#424242;stroke-linecap:square;stroke-width:2.7;\"/>\n   </g>\n   <g id=\"line2d_29\">\n    <path clip-path=\"url(#p4f3d04d420)\" d=\"M 0 0 \n\" style=\"fill:none;stroke:#424242;stroke-linecap:square;stroke-width:2.7;\"/>\n   </g>\n   <g id=\"line2d_30\">\n    <path clip-path=\"url(#p4f3d04d420)\" d=\"M 0 0 \n\" style=\"fill:none;stroke:#424242;stroke-linecap:square;stroke-width:2.7;\"/>\n   </g>\n   <g id=\"line2d_31\">\n    <path clip-path=\"url(#p4f3d04d420)\" d=\"M 0 0 \n\" style=\"fill:none;stroke:#424242;stroke-linecap:square;stroke-width:2.7;\"/>\n   </g>\n   <g id=\"line2d_32\">\n    <path clip-path=\"url(#p4f3d04d420)\" d=\"M 0 0 \n\" style=\"fill:none;stroke:#424242;stroke-linecap:square;stroke-width:2.7;\"/>\n   </g>\n   <g id=\"line2d_33\">\n    <path clip-path=\"url(#p4f3d04d420)\" d=\"M 0 0 \n\" style=\"fill:none;stroke:#424242;stroke-linecap:square;stroke-width:2.7;\"/>\n   </g>\n   <g id=\"line2d_34\">\n    <path clip-path=\"url(#p4f3d04d420)\" d=\"M 0 0 \n\" style=\"fill:none;stroke:#424242;stroke-linecap:square;stroke-width:2.7;\"/>\n   </g>\n   <g id=\"line2d_35\">\n    <path clip-path=\"url(#p4f3d04d420)\" d=\"M 0 0 \n\" style=\"fill:none;stroke:#424242;stroke-linecap:square;stroke-width:2.7;\"/>\n   </g>\n   <g id=\"line2d_36\">\n    <path clip-path=\"url(#p4f3d04d420)\" d=\"M 0 0 \n\" style=\"fill:none;stroke:#424242;stroke-linecap:square;stroke-width:2.7;\"/>\n   </g>\n   <g id=\"line2d_37\">\n    <path clip-path=\"url(#p4f3d04d420)\" d=\"M 0 0 \n\" style=\"fill:none;stroke:#424242;stroke-linecap:square;stroke-width:2.7;\"/>\n   </g>\n   <g id=\"line2d_38\">\n    <path clip-path=\"url(#p4f3d04d420)\" d=\"M 0 0 \n\" style=\"fill:none;stroke:#424242;stroke-linecap:square;stroke-width:2.7;\"/>\n   </g>\n   <g id=\"line2d_39\">\n    <path clip-path=\"url(#p4f3d04d420)\" d=\"M 0 0 \n\" style=\"fill:none;stroke:#424242;stroke-linecap:square;stroke-width:2.7;\"/>\n   </g>\n   <g id=\"line2d_40\">\n    <path clip-path=\"url(#p4f3d04d420)\" d=\"M 0 0 \n\" style=\"fill:none;stroke:#424242;stroke-linecap:square;stroke-width:2.7;\"/>\n   </g>\n   <g id=\"line2d_41\">\n    <path clip-path=\"url(#p4f3d04d420)\" d=\"M 0 0 \n\" style=\"fill:none;stroke:#424242;stroke-linecap:square;stroke-width:2.7;\"/>\n   </g>\n   <g id=\"line2d_42\">\n    <path clip-path=\"url(#p4f3d04d420)\" d=\"M 0 0 \n\" style=\"fill:none;stroke:#424242;stroke-linecap:square;stroke-width:2.7;\"/>\n   </g>\n   <g id=\"line2d_43\">\n    <path clip-path=\"url(#p4f3d04d420)\" d=\"M 0 0 \n\" style=\"fill:none;stroke:#424242;stroke-linecap:square;stroke-width:2.7;\"/>\n   </g>\n   <g id=\"line2d_44\">\n    <path clip-path=\"url(#p4f3d04d420)\" d=\"M 0 0 \n\" style=\"fill:none;stroke:#424242;stroke-linecap:square;stroke-width:2.7;\"/>\n   </g>\n   <g id=\"line2d_45\">\n    <path clip-path=\"url(#p4f3d04d420)\" d=\"M 0 0 \n\" style=\"fill:none;stroke:#424242;stroke-linecap:square;stroke-width:2.7;\"/>\n   </g>\n   <g id=\"line2d_46\">\n    <path clip-path=\"url(#p4f3d04d420)\" d=\"M 0 0 \n\" style=\"fill:none;stroke:#424242;stroke-linecap:square;stroke-width:2.7;\"/>\n   </g>\n   <g id=\"line2d_47\">\n    <path clip-path=\"url(#p4f3d04d420)\" d=\"M 0 0 \n\" style=\"fill:none;stroke:#424242;stroke-linecap:square;stroke-width:2.7;\"/>\n   </g>\n   <g id=\"patch_23\">\n    <path d=\"M 121.460938 239.758125 \nL 121.460938 22.318125 \n\" style=\"fill:none;stroke:#000000;stroke-linecap:square;stroke-linejoin:miter;stroke-width:0.8;\"/>\n   </g>\n   <g id=\"patch_24\">\n    <path d=\"M 456.260938 239.758125 \nL 456.260938 22.318125 \n\" style=\"fill:none;stroke:#000000;stroke-linecap:square;stroke-linejoin:miter;stroke-width:0.8;\"/>\n   </g>\n   <g id=\"patch_25\">\n    <path d=\"M 121.460938 239.758125 \nL 456.260938 239.758125 \n\" style=\"fill:none;stroke:#000000;stroke-linecap:square;stroke-linejoin:miter;stroke-width:0.8;\"/>\n   </g>\n   <g id=\"patch_26\">\n    <path d=\"M 121.460938 22.318125 \nL 456.260938 22.318125 \n\" style=\"fill:none;stroke:#000000;stroke-linecap:square;stroke-linejoin:miter;stroke-width:0.8;\"/>\n   </g>\n   <g id=\"text_30\">\n    <!-- Top-20 Mutual Information Scores -->\n    <g transform=\"translate(188.077812 16.318125)scale(0.12 -0.12)\">\n     <defs>\n      <path d=\"M 4.890625 31.390625 \nL 31.203125 31.390625 \nL 31.203125 23.390625 \nL 4.890625 23.390625 \nz\n\" id=\"DejaVuSans-45\"/>\n      <path d=\"M 9.8125 72.90625 \nL 24.515625 72.90625 \nL 43.109375 23.296875 \nL 61.8125 72.90625 \nL 76.515625 72.90625 \nL 76.515625 0 \nL 66.890625 0 \nL 66.890625 64.015625 \nL 48.09375 14.015625 \nL 38.1875 14.015625 \nL 19.390625 64.015625 \nL 19.390625 0 \nL 9.8125 0 \nz\n\" id=\"DejaVuSans-77\"/>\n      <path d=\"M 9.8125 72.90625 \nL 19.671875 72.90625 \nL 19.671875 0 \nL 9.8125 0 \nz\n\" id=\"DejaVuSans-73\"/>\n     </defs>\n     <use xlink:href=\"#DejaVuSans-84\"/>\n     <use x=\"44.083984\" xlink:href=\"#DejaVuSans-111\"/>\n     <use x=\"105.265625\" xlink:href=\"#DejaVuSans-112\"/>\n     <use x=\"168.742188\" xlink:href=\"#DejaVuSans-45\"/>\n     <use x=\"204.826172\" xlink:href=\"#DejaVuSans-50\"/>\n     <use x=\"268.449219\" xlink:href=\"#DejaVuSans-48\"/>\n     <use x=\"332.072266\" xlink:href=\"#DejaVuSans-32\"/>\n     <use x=\"363.859375\" xlink:href=\"#DejaVuSans-77\"/>\n     <use x=\"450.138672\" xlink:href=\"#DejaVuSans-117\"/>\n     <use x=\"513.517578\" xlink:href=\"#DejaVuSans-116\"/>\n     <use x=\"552.726562\" xlink:href=\"#DejaVuSans-117\"/>\n     <use x=\"616.105469\" xlink:href=\"#DejaVuSans-97\"/>\n     <use x=\"677.384766\" xlink:href=\"#DejaVuSans-108\"/>\n     <use x=\"705.167969\" xlink:href=\"#DejaVuSans-32\"/>\n     <use x=\"736.955078\" xlink:href=\"#DejaVuSans-73\"/>\n     <use x=\"766.447266\" xlink:href=\"#DejaVuSans-110\"/>\n     <use x=\"829.826172\" xlink:href=\"#DejaVuSans-102\"/>\n     <use x=\"865.03125\" xlink:href=\"#DejaVuSans-111\"/>\n     <use x=\"926.212891\" xlink:href=\"#DejaVuSans-114\"/>\n     <use x=\"965.576172\" xlink:href=\"#DejaVuSans-109\"/>\n     <use x=\"1062.988281\" xlink:href=\"#DejaVuSans-97\"/>\n     <use x=\"1124.267578\" xlink:href=\"#DejaVuSans-116\"/>\n     <use x=\"1163.476562\" xlink:href=\"#DejaVuSans-105\"/>\n     <use x=\"1191.259766\" xlink:href=\"#DejaVuSans-111\"/>\n     <use x=\"1252.441406\" xlink:href=\"#DejaVuSans-110\"/>\n     <use x=\"1315.820312\" xlink:href=\"#DejaVuSans-32\"/>\n     <use x=\"1347.607422\" xlink:href=\"#DejaVuSans-83\"/>\n     <use x=\"1411.083984\" xlink:href=\"#DejaVuSans-99\"/>\n     <use x=\"1466.064453\" xlink:href=\"#DejaVuSans-111\"/>\n     <use x=\"1527.246094\" xlink:href=\"#DejaVuSans-114\"/>\n     <use x=\"1566.109375\" xlink:href=\"#DejaVuSans-101\"/>\n     <use x=\"1627.632812\" xlink:href=\"#DejaVuSans-115\"/>\n    </g>\n   </g>\n  </g>\n </g>\n <defs>\n  <clipPath id=\"p4f3d04d420\">\n   <rect height=\"217.44\" width=\"334.8\" x=\"121.460938\" y=\"22.318125\"/>\n  </clipPath>\n </defs>\n</svg>\n",
      "image/png": "[encoded data removed]"
     },
     "metadata": {
      "needs_background": "light"
     }
    }
   ],
   "source": [
    "i = 20\n",
    "idx = [j for j in range(len(feature_names)) if feature_names[j] not in ['log_FREQcount', 'log_CDcount']]\n",
    "sns.reset_orig()\n",
    "ax = sns.barplot(x=np.array(mi)[idx][:i], y=np.array(feature_names)[idx][:i])\n",
    "ax.set_xlabel('mutual information')\n",
    "ax.set_ylabel('feature name')\n",
    "ax.set_title('Top-20 Mutual Information Scores')\n",
    "#sns.set(rc={'figure.figsize':(11.7,8.27)})"
   ]
  },
  {
   "source": [
    "## Context"
   ],
   "cell_type": "markdown",
   "metadata": {}
  },
  {
   "cell_type": "code",
   "execution_count": 107,
   "metadata": {},
   "outputs": [],
   "source": [
    "single_train = pd.read_csv('./data/'+job+'/single_train_o.tsv', sep='\\t', index_col=0)\n",
    "single_trial = pd.read_csv('./data/'+job+'/single_trial_o.tsv', sep='\\t', index_col=0)\n",
    "single_trial['bert_pred_complexity'] = json.load(open('./data/pickle/colab/single_trial_bert_scores.json', 'r'))['scores']"
   ]
  },
  {
   "cell_type": "code",
   "execution_count": 108,
   "metadata": {},
   "outputs": [],
   "source": [
    "single_train.sort_values('complexity', inplace=True)\n",
    "single_trial.sort_values('complexity', inplace=True)"
   ]
  },
  {
   "cell_type": "code",
   "execution_count": 132,
   "metadata": {},
   "outputs": [
    {
     "output_type": "execute_result",
     "data": {
      "text/plain": [
       "token\n",
       "byword       0.552273\n",
       "search       0.475000\n",
       "activity     0.400000\n",
       "disease      0.388889\n",
       "thrombus     0.356061\n",
       "               ...   \n",
       "conceit      0.000000\n",
       "LAG          0.000000\n",
       "Technical    0.000000\n",
       "LN           0.000000\n",
       "doctrines    0.000000\n",
       "Length: 3486, dtype: float64"
      ]
     },
     "metadata": {},
     "execution_count": 132
    }
   ],
   "source": [
    "single_train.groupby('token').apply(lambda x: x['complexity'].max()-x['complexity'].min()).sort_values(ascending=False)"
   ]
  },
  {
   "cell_type": "code",
   "execution_count": 142,
   "metadata": {},
   "outputs": [
    {
     "output_type": "execute_result",
     "data": {
      "text/plain": [
       "                                                                                                                                                                                                                                                                                                                                                              sentence  \\\n",
       "2683  BMP2 and BMP7 are thus secondary signals produced in response to SHH activity.                                                                                                                                                                                                                                                                                     \n",
       "2684  Because synapsis occurs in TRIP13-deficient spermatocytes and is dependent on DSB formation (activity of SPO11 and MEI1), we suggest that TRIP13 functions after homology recognition and strand exchange, and that recombination events entering the CO repair pathway are either completed or nearly so (because OA treated resulted in bivalent chromosomes).   \n",
       "2685  However, again we were unable to generate ES cells or mice exhibiting robust widespread reporter activity (A.-K.H. and V.E. Papaioannou, unpublished observations).                                                                                                                                                                                                \n",
       "2686  Previous studies have shown that the alpha-crystallin possesses molecular chaperone activity, binding to partially denatured proteins, both in vitro [5] and probably in vivo [6], to inhibit further denaturation.                                                                                                                                                \n",
       "2687  Initial studies targeted Capn4 based on the prediction that loss of this calpain subunit would abolish activity of both μ- and m-calpain.                                                                                                                                                                                                                          \n",
       "\n",
       "         token  complexity  \n",
       "2683  activity  0.050000    \n",
       "2684  activity  0.140625    \n",
       "2685  activity  0.176471    \n",
       "2686  activity  0.235294    \n",
       "2687  activity  0.450000    "
      ],
      "text/html": "<div>\n<style scoped>\n    .dataframe tbody tr th:only-of-type {\n        vertical-align: middle;\n    }\n\n    .dataframe tbody tr th {\n        vertical-align: top;\n    }\n\n    .dataframe thead th {\n        text-align: right;\n    }\n</style>\n<table border=\"1\" class=\"dataframe\">\n  <thead>\n    <tr style=\"text-align: right;\">\n      <th></th>\n      <th>sentence</th>\n      <th>token</th>\n      <th>complexity</th>\n    </tr>\n  </thead>\n  <tbody>\n    <tr>\n      <th>2683</th>\n      <td>BMP2 and BMP7 are thus secondary signals produced in response to SHH activity.</td>\n      <td>activity</td>\n      <td>0.050000</td>\n    </tr>\n    <tr>\n      <th>2684</th>\n      <td>Because synapsis occurs in TRIP13-deficient spermatocytes and is dependent on DSB formation (activity of SPO11 and MEI1), we suggest that TRIP13 functions after homology recognition and strand exchange, and that recombination events entering the CO repair pathway are either completed or nearly so (because OA treated resulted in bivalent chromosomes).</td>\n      <td>activity</td>\n      <td>0.140625</td>\n    </tr>\n    <tr>\n      <th>2685</th>\n      <td>However, again we were unable to generate ES cells or mice exhibiting robust widespread reporter activity (A.-K.H. and V.E. Papaioannou, unpublished observations).</td>\n      <td>activity</td>\n      <td>0.176471</td>\n    </tr>\n    <tr>\n      <th>2686</th>\n      <td>Previous studies have shown that the alpha-crystallin possesses molecular chaperone activity, binding to partially denatured proteins, both in vitro [5] and probably in vivo [6], to inhibit further denaturation.</td>\n      <td>activity</td>\n      <td>0.235294</td>\n    </tr>\n    <tr>\n      <th>2687</th>\n      <td>Initial studies targeted Capn4 based on the prediction that loss of this calpain subunit would abolish activity of both μ- and m-calpain.</td>\n      <td>activity</td>\n      <td>0.450000</td>\n    </tr>\n  </tbody>\n</table>\n</div>"
     },
     "metadata": {},
     "execution_count": 142
    }
   ],
   "source": [
    "single_train[single_train['token']=='activity'][['sentence', 'token', 'complexity']]"
   ]
  },
  {
   "cell_type": "code",
   "execution_count": 109,
   "metadata": {},
   "outputs": [
    {
     "output_type": "execute_result",
     "data": {
      "text/plain": [
       "token\n",
       "microscopy      0.257292\n",
       "peptide         0.251736\n",
       "antigen         0.233696\n",
       "condensation    0.225564\n",
       "sea             0.220588\n",
       "                  ...   \n",
       "creature        0.000000\n",
       "cyclone         0.000000\n",
       "derangement     0.000000\n",
       "detection       0.000000\n",
       "wrongdoing      0.000000\n",
       "Length: 213, dtype: float64"
      ]
     },
     "metadata": {},
     "execution_count": 109
    }
   ],
   "source": [
    "single_trial.groupby('token').apply(lambda x: x['complexity'].max()-x['complexity'].min()).sort_values(ascending=False)"
   ]
  },
  {
   "cell_type": "code",
   "execution_count": 124,
   "metadata": {},
   "outputs": [
    {
     "output_type": "execute_result",
     "data": {
      "text/plain": [
       "token\n",
       "microscopy       5\n",
       "peptide          5\n",
       "Lord             5\n",
       "epithelium       5\n",
       "dwellings        5\n",
       "observation      5\n",
       "hyperactivity    5\n",
       "organisations    5\n",
       "Estonia          5\n",
       "position         5\n",
       "priests          5\n",
       "covenant         5\n",
       "signals          5\n",
       "land             5\n",
       "anger            5\n",
       "faithfulness     5\n",
       "controls         5\n",
       "authorities      5\n",
       "sea              5\n",
       "proteins         5\n",
       "dtype: int64"
      ]
     },
     "metadata": {},
     "execution_count": 124
    }
   ],
   "source": [
    "single_trial.groupby('token').size().sort_values(ascending=False).head(20)"
   ]
  },
  {
   "cell_type": "code",
   "execution_count": 125,
   "metadata": {},
   "outputs": [
    {
     "output_type": "execute_result",
     "data": {
      "text/plain": [
       "token\n",
       "consequences     0.998852\n",
       "room             0.997786\n",
       "peptide          0.989644\n",
       "bone             0.976555\n",
       "command          0.976015\n",
       "wings            0.954484\n",
       "wording          0.953453\n",
       "programme        0.931271\n",
       "possibility      0.924323\n",
       "authorisation    0.907891\n",
       "Dagon            0.893489\n",
       "partnership      0.888797\n",
       "Lord             0.874990\n",
       "controls         0.850894\n",
       "Estonia          0.818223\n",
       "Enoch            0.812330\n",
       "virginity        0.788772\n",
       "sea              0.784655\n",
       "hyperactivity    0.772267\n",
       "land             0.761802\n",
       "dtype: float64"
      ]
     },
     "metadata": {},
     "execution_count": 125
    }
   ],
   "source": [
    "single_trial.groupby('token').apply(lambda x: np.abs(pearson(x['complexity'], x['bert_pred_complexity'])) if x.shape[0] >= 3 else 0).sort_values(ascending=False).head(20)"
   ]
  },
  {
   "cell_type": "code",
   "execution_count": 131,
   "metadata": {},
   "outputs": [
    {
     "output_type": "execute_result",
     "data": {
      "text/plain": [
       "                                                                                                                                                                               sentence  \\\n",
       "14  He shall tear it by its wings, but shall not divide it apart.                                                                                                                         \n",
       "15  Don't curse the king, no, not in your thoughts; and don't curse the rich in your bedroom: for a bird of the sky may carry your voice, and that which has wings may tell the matter.   \n",
       "16  How often I would have gathered your children together, even as a hen gathers her chicks under her wings, and you would not!                                                          \n",
       "\n",
       "    token  complexity  bert_pred_complexity  \n",
       "14  wings  0.075000    0.209142              \n",
       "15  wings  0.152778    0.278196              \n",
       "16  wings  0.223684    0.480439              "
      ],
      "text/html": "<div>\n<style scoped>\n    .dataframe tbody tr th:only-of-type {\n        vertical-align: middle;\n    }\n\n    .dataframe tbody tr th {\n        vertical-align: top;\n    }\n\n    .dataframe thead th {\n        text-align: right;\n    }\n</style>\n<table border=\"1\" class=\"dataframe\">\n  <thead>\n    <tr style=\"text-align: right;\">\n      <th></th>\n      <th>sentence</th>\n      <th>token</th>\n      <th>complexity</th>\n      <th>bert_pred_complexity</th>\n    </tr>\n  </thead>\n  <tbody>\n    <tr>\n      <th>14</th>\n      <td>He shall tear it by its wings, but shall not divide it apart.</td>\n      <td>wings</td>\n      <td>0.075000</td>\n      <td>0.209142</td>\n    </tr>\n    <tr>\n      <th>15</th>\n      <td>Don't curse the king, no, not in your thoughts; and don't curse the rich in your bedroom: for a bird of the sky may carry your voice, and that which has wings may tell the matter.</td>\n      <td>wings</td>\n      <td>0.152778</td>\n      <td>0.278196</td>\n    </tr>\n    <tr>\n      <th>16</th>\n      <td>How often I would have gathered your children together, even as a hen gathers her chicks under her wings, and you would not!</td>\n      <td>wings</td>\n      <td>0.223684</td>\n      <td>0.480439</td>\n    </tr>\n  </tbody>\n</table>\n</div>"
     },
     "metadata": {},
     "execution_count": 131
    }
   ],
   "source": [
    "single_trial[single_trial['token']=='wings'][['sentence', 'token', 'complexity', 'bert_pred_complexity']]"
   ]
  },
  {
   "cell_type": "code",
   "execution_count": 80,
   "metadata": {},
   "outputs": [],
   "source": [
    "pd.set_option('display.max_colwidth', -1)"
   ]
  },
  {
   "source": [
    "## Mutual information"
   ],
   "cell_type": "markdown",
   "metadata": {}
  },
  {
   "cell_type": "code",
   "execution_count": 69,
   "metadata": {},
   "outputs": [
    {
     "output_type": "execute_result",
     "data": {
      "text/plain": [
       "Text(0, 0.5, 'Pearson')"
      ]
     },
     "metadata": {},
     "execution_count": 69
    },
    {
     "output_type": "display_data",
     "data": {
      "text/plain": "<Figure size 432x288 with 1 Axes>",
      "image/svg+xml": "<?xml version=\"1.0\" encoding=\"utf-8\" standalone=\"no\"?>\n<!DOCTYPE svg PUBLIC \"-//W3C//DTD SVG 1.1//EN\"\n  \"http://www.w3.org/Graphics/SVG/1.1/DTD/svg11.dtd\">\n<!-- Created with matplotlib (https://matplotlib.org/) -->\n<svg height=\"277.314375pt\" version=\"1.1\" viewBox=\"0 0 385.78125 277.314375\" width=\"385.78125pt\" xmlns=\"http://www.w3.org/2000/svg\" xmlns:xlink=\"http://www.w3.org/1999/xlink\">\n <metadata>\n  <rdf:RDF xmlns:cc=\"http://creativecommons.org/ns#\" xmlns:dc=\"http://purl.org/dc/elements/1.1/\" xmlns:rdf=\"http://www.w3.org/1999/02/22-rdf-syntax-ns#\">\n   <cc:Work>\n    <dc:type rdf:resource=\"http://purl.org/dc/dcmitype/StillImage\"/>\n    <dc:date>2021-02-08T18:58:32.852733</dc:date>\n    <dc:format>image/svg+xml</dc:format>\n    <dc:creator>\n     <cc:Agent>\n      <dc:title>Matplotlib v3.3.4, https://matplotlib.org/</dc:title>\n     </cc:Agent>\n    </dc:creator>\n   </cc:Work>\n  </rdf:RDF>\n </metadata>\n <defs>\n  <style type=\"text/css\">*{stroke-linecap:butt;stroke-linejoin:round;}</style>\n </defs>\n <g id=\"figure_1\">\n  <g id=\"patch_1\">\n   <path d=\"M 0 277.314375 \nL 385.78125 277.314375 \nL 385.78125 0 \nL 0 0 \nz\n\" style=\"fill:none;\"/>\n  </g>\n  <g id=\"axes_1\">\n   <g id=\"patch_2\">\n    <path d=\"M 43.78125 239.758125 \nL 378.58125 239.758125 \nL 378.58125 22.318125 \nL 43.78125 22.318125 \nz\n\" style=\"fill:#ffffff;\"/>\n   </g>\n   <g id=\"matplotlib.axis_1\">\n    <g id=\"xtick_1\">\n     <g id=\"line2d_1\">\n      <defs>\n       <path d=\"M 0 0 \nL 0 3.5 \n\" id=\"m3c3204c77b\" style=\"stroke:#000000;stroke-width:0.8;\"/>\n      </defs>\n      <g>\n       <use style=\"stroke:#000000;stroke-width:0.8;\" x=\"58.389485\" xlink:href=\"#m3c3204c77b\" y=\"239.758125\"/>\n      </g>\n     </g>\n     <g id=\"text_1\">\n      <!-- 0 -->\n      <g transform=\"translate(55.208235 254.356562)scale(0.1 -0.1)\">\n       <defs>\n        <path d=\"M 31.78125 66.40625 \nQ 24.171875 66.40625 20.328125 58.90625 \nQ 16.5 51.421875 16.5 36.375 \nQ 16.5 21.390625 20.328125 13.890625 \nQ 24.171875 6.390625 31.78125 6.390625 \nQ 39.453125 6.390625 43.28125 13.890625 \nQ 47.125 21.390625 47.125 36.375 \nQ 47.125 51.421875 43.28125 58.90625 \nQ 39.453125 66.40625 31.78125 66.40625 \nz\nM 31.78125 74.21875 \nQ 44.046875 74.21875 50.515625 64.515625 \nQ 56.984375 54.828125 56.984375 36.375 \nQ 56.984375 17.96875 50.515625 8.265625 \nQ 44.046875 -1.421875 31.78125 -1.421875 \nQ 19.53125 -1.421875 13.0625 8.265625 \nQ 6.59375 17.96875 6.59375 36.375 \nQ 6.59375 54.828125 13.0625 64.515625 \nQ 19.53125 74.21875 31.78125 74.21875 \nz\n\" id=\"DejaVuSans-48\"/>\n       </defs>\n       <use xlink:href=\"#DejaVuSans-48\"/>\n      </g>\n     </g>\n    </g>\n    <g id=\"xtick_2\">\n     <g id=\"line2d_2\">\n      <g>\n       <use style=\"stroke:#000000;stroke-width:0.8;\" x=\"119.384201\" xlink:href=\"#m3c3204c77b\" y=\"239.758125\"/>\n      </g>\n     </g>\n     <g id=\"text_2\">\n      <!-- 100 -->\n      <g transform=\"translate(109.840451 254.356562)scale(0.1 -0.1)\">\n       <defs>\n        <path d=\"M 12.40625 8.296875 \nL 28.515625 8.296875 \nL 28.515625 63.921875 \nL 10.984375 60.40625 \nL 10.984375 69.390625 \nL 28.421875 72.90625 \nL 38.28125 72.90625 \nL 38.28125 8.296875 \nL 54.390625 8.296875 \nL 54.390625 0 \nL 12.40625 0 \nz\n\" id=\"DejaVuSans-49\"/>\n       </defs>\n       <use xlink:href=\"#DejaVuSans-49\"/>\n       <use x=\"63.623047\" xlink:href=\"#DejaVuSans-48\"/>\n       <use x=\"127.246094\" xlink:href=\"#DejaVuSans-48\"/>\n      </g>\n     </g>\n    </g>\n    <g id=\"xtick_3\">\n     <g id=\"line2d_3\">\n      <g>\n       <use style=\"stroke:#000000;stroke-width:0.8;\" x=\"180.378918\" xlink:href=\"#m3c3204c77b\" y=\"239.758125\"/>\n      </g>\n     </g>\n     <g id=\"text_3\">\n      <!-- 200 -->\n      <g transform=\"translate(170.835168 254.356562)scale(0.1 -0.1)\">\n       <defs>\n        <path d=\"M 19.1875 8.296875 \nL 53.609375 8.296875 \nL 53.609375 0 \nL 7.328125 0 \nL 7.328125 8.296875 \nQ 12.9375 14.109375 22.625 23.890625 \nQ 32.328125 33.6875 34.8125 36.53125 \nQ 39.546875 41.84375 41.421875 45.53125 \nQ 43.3125 49.21875 43.3125 52.78125 \nQ 43.3125 58.59375 39.234375 62.25 \nQ 35.15625 65.921875 28.609375 65.921875 \nQ 23.96875 65.921875 18.8125 64.3125 \nQ 13.671875 62.703125 7.8125 59.421875 \nL 7.8125 69.390625 \nQ 13.765625 71.78125 18.9375 73 \nQ 24.125 74.21875 28.421875 74.21875 \nQ 39.75 74.21875 46.484375 68.546875 \nQ 53.21875 62.890625 53.21875 53.421875 \nQ 53.21875 48.921875 51.53125 44.890625 \nQ 49.859375 40.875 45.40625 35.40625 \nQ 44.1875 33.984375 37.640625 27.21875 \nQ 31.109375 20.453125 19.1875 8.296875 \nz\n\" id=\"DejaVuSans-50\"/>\n       </defs>\n       <use xlink:href=\"#DejaVuSans-50\"/>\n       <use x=\"63.623047\" xlink:href=\"#DejaVuSans-48\"/>\n       <use x=\"127.246094\" xlink:href=\"#DejaVuSans-48\"/>\n      </g>\n     </g>\n    </g>\n    <g id=\"xtick_4\">\n     <g id=\"line2d_4\">\n      <g>\n       <use style=\"stroke:#000000;stroke-width:0.8;\" x=\"241.373635\" xlink:href=\"#m3c3204c77b\" y=\"239.758125\"/>\n      </g>\n     </g>\n     <g id=\"text_4\">\n      <!-- 300 -->\n      <g transform=\"translate(231.829885 254.356562)scale(0.1 -0.1)\">\n       <defs>\n        <path d=\"M 40.578125 39.3125 \nQ 47.65625 37.796875 51.625 33 \nQ 55.609375 28.21875 55.609375 21.1875 \nQ 55.609375 10.40625 48.1875 4.484375 \nQ 40.765625 -1.421875 27.09375 -1.421875 \nQ 22.515625 -1.421875 17.65625 -0.515625 \nQ 12.796875 0.390625 7.625 2.203125 \nL 7.625 11.71875 \nQ 11.71875 9.328125 16.59375 8.109375 \nQ 21.484375 6.890625 26.8125 6.890625 \nQ 36.078125 6.890625 40.9375 10.546875 \nQ 45.796875 14.203125 45.796875 21.1875 \nQ 45.796875 27.640625 41.28125 31.265625 \nQ 36.765625 34.90625 28.71875 34.90625 \nL 20.21875 34.90625 \nL 20.21875 43.015625 \nL 29.109375 43.015625 \nQ 36.375 43.015625 40.234375 45.921875 \nQ 44.09375 48.828125 44.09375 54.296875 \nQ 44.09375 59.90625 40.109375 62.90625 \nQ 36.140625 65.921875 28.71875 65.921875 \nQ 24.65625 65.921875 20.015625 65.03125 \nQ 15.375 64.15625 9.8125 62.3125 \nL 9.8125 71.09375 \nQ 15.4375 72.65625 20.34375 73.4375 \nQ 25.25 74.21875 29.59375 74.21875 \nQ 40.828125 74.21875 47.359375 69.109375 \nQ 53.90625 64.015625 53.90625 55.328125 \nQ 53.90625 49.265625 50.4375 45.09375 \nQ 46.96875 40.921875 40.578125 39.3125 \nz\n\" id=\"DejaVuSans-51\"/>\n       </defs>\n       <use xlink:href=\"#DejaVuSans-51\"/>\n       <use x=\"63.623047\" xlink:href=\"#DejaVuSans-48\"/>\n       <use x=\"127.246094\" xlink:href=\"#DejaVuSans-48\"/>\n      </g>\n     </g>\n    </g>\n    <g id=\"xtick_5\">\n     <g id=\"line2d_5\">\n      <g>\n       <use style=\"stroke:#000000;stroke-width:0.8;\" x=\"302.368351\" xlink:href=\"#m3c3204c77b\" y=\"239.758125\"/>\n      </g>\n     </g>\n     <g id=\"text_5\">\n      <!-- 400 -->\n      <g transform=\"translate(292.824601 254.356562)scale(0.1 -0.1)\">\n       <defs>\n        <path d=\"M 37.796875 64.3125 \nL 12.890625 25.390625 \nL 37.796875 25.390625 \nz\nM 35.203125 72.90625 \nL 47.609375 72.90625 \nL 47.609375 25.390625 \nL 58.015625 25.390625 \nL 58.015625 17.1875 \nL 47.609375 17.1875 \nL 47.609375 0 \nL 37.796875 0 \nL 37.796875 17.1875 \nL 4.890625 17.1875 \nL 4.890625 26.703125 \nz\n\" id=\"DejaVuSans-52\"/>\n       </defs>\n       <use xlink:href=\"#DejaVuSans-52\"/>\n       <use x=\"63.623047\" xlink:href=\"#DejaVuSans-48\"/>\n       <use x=\"127.246094\" xlink:href=\"#DejaVuSans-48\"/>\n      </g>\n     </g>\n    </g>\n    <g id=\"xtick_6\">\n     <g id=\"line2d_6\">\n      <g>\n       <use style=\"stroke:#000000;stroke-width:0.8;\" x=\"363.363068\" xlink:href=\"#m3c3204c77b\" y=\"239.758125\"/>\n      </g>\n     </g>\n     <g id=\"text_6\">\n      <!-- 500 -->\n      <g transform=\"translate(353.819318 254.356562)scale(0.1 -0.1)\">\n       <defs>\n        <path d=\"M 10.796875 72.90625 \nL 49.515625 72.90625 \nL 49.515625 64.59375 \nL 19.828125 64.59375 \nL 19.828125 46.734375 \nQ 21.96875 47.46875 24.109375 47.828125 \nQ 26.265625 48.1875 28.421875 48.1875 \nQ 40.625 48.1875 47.75 41.5 \nQ 54.890625 34.8125 54.890625 23.390625 \nQ 54.890625 11.625 47.5625 5.09375 \nQ 40.234375 -1.421875 26.90625 -1.421875 \nQ 22.3125 -1.421875 17.546875 -0.640625 \nQ 12.796875 0.140625 7.71875 1.703125 \nL 7.71875 11.625 \nQ 12.109375 9.234375 16.796875 8.0625 \nQ 21.484375 6.890625 26.703125 6.890625 \nQ 35.15625 6.890625 40.078125 11.328125 \nQ 45.015625 15.765625 45.015625 23.390625 \nQ 45.015625 31 40.078125 35.4375 \nQ 35.15625 39.890625 26.703125 39.890625 \nQ 22.75 39.890625 18.8125 39.015625 \nQ 14.890625 38.140625 10.796875 36.28125 \nz\n\" id=\"DejaVuSans-53\"/>\n       </defs>\n       <use xlink:href=\"#DejaVuSans-53\"/>\n       <use x=\"63.623047\" xlink:href=\"#DejaVuSans-48\"/>\n       <use x=\"127.246094\" xlink:href=\"#DejaVuSans-48\"/>\n      </g>\n     </g>\n    </g>\n    <g id=\"text_7\">\n     <!-- k -->\n     <g transform=\"translate(208.285938 268.034687)scale(0.1 -0.1)\">\n      <defs>\n       <path d=\"M 9.078125 75.984375 \nL 18.109375 75.984375 \nL 18.109375 31.109375 \nL 44.921875 54.6875 \nL 56.390625 54.6875 \nL 27.390625 29.109375 \nL 57.625 0 \nL 45.90625 0 \nL 18.109375 26.703125 \nL 18.109375 0 \nL 9.078125 0 \nz\n\" id=\"DejaVuSans-107\"/>\n      </defs>\n      <use xlink:href=\"#DejaVuSans-107\"/>\n     </g>\n    </g>\n   </g>\n   <g id=\"matplotlib.axis_2\">\n    <g id=\"ytick_1\">\n     <g id=\"line2d_7\">\n      <defs>\n       <path d=\"M 0 0 \nL -3.5 0 \n\" id=\"maea266788e\" style=\"stroke:#000000;stroke-width:0.8;\"/>\n      </defs>\n      <g>\n       <use style=\"stroke:#000000;stroke-width:0.8;\" x=\"43.78125\" xlink:href=\"#maea266788e\" y=\"214.330528\"/>\n      </g>\n     </g>\n     <g id=\"text_8\">\n      <!-- 0.4 -->\n      <g transform=\"translate(20.878125 218.129746)scale(0.1 -0.1)\">\n       <defs>\n        <path d=\"M 10.6875 12.40625 \nL 21 12.40625 \nL 21 0 \nL 10.6875 0 \nz\n\" id=\"DejaVuSans-46\"/>\n       </defs>\n       <use xlink:href=\"#DejaVuSans-48\"/>\n       <use x=\"63.623047\" xlink:href=\"#DejaVuSans-46\"/>\n       <use x=\"95.410156\" xlink:href=\"#DejaVuSans-52\"/>\n      </g>\n     </g>\n    </g>\n    <g id=\"ytick_2\">\n     <g id=\"line2d_8\">\n      <g>\n       <use style=\"stroke:#000000;stroke-width:0.8;\" x=\"43.78125\" xlink:href=\"#maea266788e\" y=\"167.635022\"/>\n      </g>\n     </g>\n     <g id=\"text_9\">\n      <!-- 0.5 -->\n      <g transform=\"translate(20.878125 171.434241)scale(0.1 -0.1)\">\n       <use xlink:href=\"#DejaVuSans-48\"/>\n       <use x=\"63.623047\" xlink:href=\"#DejaVuSans-46\"/>\n       <use x=\"95.410156\" xlink:href=\"#DejaVuSans-53\"/>\n      </g>\n     </g>\n    </g>\n    <g id=\"ytick_3\">\n     <g id=\"line2d_9\">\n      <g>\n       <use style=\"stroke:#000000;stroke-width:0.8;\" x=\"43.78125\" xlink:href=\"#maea266788e\" y=\"120.939517\"/>\n      </g>\n     </g>\n     <g id=\"text_10\">\n      <!-- 0.6 -->\n      <g transform=\"translate(20.878125 124.738736)scale(0.1 -0.1)\">\n       <defs>\n        <path d=\"M 33.015625 40.375 \nQ 26.375 40.375 22.484375 35.828125 \nQ 18.609375 31.296875 18.609375 23.390625 \nQ 18.609375 15.53125 22.484375 10.953125 \nQ 26.375 6.390625 33.015625 6.390625 \nQ 39.65625 6.390625 43.53125 10.953125 \nQ 47.40625 15.53125 47.40625 23.390625 \nQ 47.40625 31.296875 43.53125 35.828125 \nQ 39.65625 40.375 33.015625 40.375 \nz\nM 52.59375 71.296875 \nL 52.59375 62.3125 \nQ 48.875 64.0625 45.09375 64.984375 \nQ 41.3125 65.921875 37.59375 65.921875 \nQ 27.828125 65.921875 22.671875 59.328125 \nQ 17.53125 52.734375 16.796875 39.40625 \nQ 19.671875 43.65625 24.015625 45.921875 \nQ 28.375 48.1875 33.59375 48.1875 \nQ 44.578125 48.1875 50.953125 41.515625 \nQ 57.328125 34.859375 57.328125 23.390625 \nQ 57.328125 12.15625 50.6875 5.359375 \nQ 44.046875 -1.421875 33.015625 -1.421875 \nQ 20.359375 -1.421875 13.671875 8.265625 \nQ 6.984375 17.96875 6.984375 36.375 \nQ 6.984375 53.65625 15.1875 63.9375 \nQ 23.390625 74.21875 37.203125 74.21875 \nQ 40.921875 74.21875 44.703125 73.484375 \nQ 48.484375 72.75 52.59375 71.296875 \nz\n\" id=\"DejaVuSans-54\"/>\n       </defs>\n       <use xlink:href=\"#DejaVuSans-48\"/>\n       <use x=\"63.623047\" xlink:href=\"#DejaVuSans-46\"/>\n       <use x=\"95.410156\" xlink:href=\"#DejaVuSans-54\"/>\n      </g>\n     </g>\n    </g>\n    <g id=\"ytick_4\">\n     <g id=\"line2d_10\">\n      <g>\n       <use style=\"stroke:#000000;stroke-width:0.8;\" x=\"43.78125\" xlink:href=\"#maea266788e\" y=\"74.244012\"/>\n      </g>\n     </g>\n     <g id=\"text_11\">\n      <!-- 0.7 -->\n      <g transform=\"translate(20.878125 78.04323)scale(0.1 -0.1)\">\n       <defs>\n        <path d=\"M 8.203125 72.90625 \nL 55.078125 72.90625 \nL 55.078125 68.703125 \nL 28.609375 0 \nL 18.3125 0 \nL 43.21875 64.59375 \nL 8.203125 64.59375 \nz\n\" id=\"DejaVuSans-55\"/>\n       </defs>\n       <use xlink:href=\"#DejaVuSans-48\"/>\n       <use x=\"63.623047\" xlink:href=\"#DejaVuSans-46\"/>\n       <use x=\"95.410156\" xlink:href=\"#DejaVuSans-55\"/>\n      </g>\n     </g>\n    </g>\n    <g id=\"ytick_5\">\n     <g id=\"line2d_11\">\n      <g>\n       <use style=\"stroke:#000000;stroke-width:0.8;\" x=\"43.78125\" xlink:href=\"#maea266788e\" y=\"27.548506\"/>\n      </g>\n     </g>\n     <g id=\"text_12\">\n      <!-- 0.8 -->\n      <g transform=\"translate(20.878125 31.347725)scale(0.1 -0.1)\">\n       <defs>\n        <path d=\"M 31.78125 34.625 \nQ 24.75 34.625 20.71875 30.859375 \nQ 16.703125 27.09375 16.703125 20.515625 \nQ 16.703125 13.921875 20.71875 10.15625 \nQ 24.75 6.390625 31.78125 6.390625 \nQ 38.8125 6.390625 42.859375 10.171875 \nQ 46.921875 13.96875 46.921875 20.515625 \nQ 46.921875 27.09375 42.890625 30.859375 \nQ 38.875 34.625 31.78125 34.625 \nz\nM 21.921875 38.8125 \nQ 15.578125 40.375 12.03125 44.71875 \nQ 8.5 49.078125 8.5 55.328125 \nQ 8.5 64.0625 14.71875 69.140625 \nQ 20.953125 74.21875 31.78125 74.21875 \nQ 42.671875 74.21875 48.875 69.140625 \nQ 55.078125 64.0625 55.078125 55.328125 \nQ 55.078125 49.078125 51.53125 44.71875 \nQ 48 40.375 41.703125 38.8125 \nQ 48.828125 37.15625 52.796875 32.3125 \nQ 56.78125 27.484375 56.78125 20.515625 \nQ 56.78125 9.90625 50.3125 4.234375 \nQ 43.84375 -1.421875 31.78125 -1.421875 \nQ 19.734375 -1.421875 13.25 4.234375 \nQ 6.78125 9.90625 6.78125 20.515625 \nQ 6.78125 27.484375 10.78125 32.3125 \nQ 14.796875 37.15625 21.921875 38.8125 \nz\nM 18.3125 54.390625 \nQ 18.3125 48.734375 21.84375 45.5625 \nQ 25.390625 42.390625 31.78125 42.390625 \nQ 38.140625 42.390625 41.71875 45.5625 \nQ 45.3125 48.734375 45.3125 54.390625 \nQ 45.3125 60.0625 41.71875 63.234375 \nQ 38.140625 66.40625 31.78125 66.40625 \nQ 25.390625 66.40625 21.84375 63.234375 \nQ 18.3125 60.0625 18.3125 54.390625 \nz\n\" id=\"DejaVuSans-56\"/>\n       </defs>\n       <use xlink:href=\"#DejaVuSans-48\"/>\n       <use x=\"63.623047\" xlink:href=\"#DejaVuSans-46\"/>\n       <use x=\"95.410156\" xlink:href=\"#DejaVuSans-56\"/>\n      </g>\n     </g>\n    </g>\n    <g id=\"text_13\">\n     <!-- Pearson -->\n     <g transform=\"translate(14.798438 150.900625)rotate(-90)scale(0.1 -0.1)\">\n      <defs>\n       <path d=\"M 19.671875 64.796875 \nL 19.671875 37.40625 \nL 32.078125 37.40625 \nQ 38.96875 37.40625 42.71875 40.96875 \nQ 46.484375 44.53125 46.484375 51.125 \nQ 46.484375 57.671875 42.71875 61.234375 \nQ 38.96875 64.796875 32.078125 64.796875 \nz\nM 9.8125 72.90625 \nL 32.078125 72.90625 \nQ 44.34375 72.90625 50.609375 67.359375 \nQ 56.890625 61.8125 56.890625 51.125 \nQ 56.890625 40.328125 50.609375 34.8125 \nQ 44.34375 29.296875 32.078125 29.296875 \nL 19.671875 29.296875 \nL 19.671875 0 \nL 9.8125 0 \nz\n\" id=\"DejaVuSans-80\"/>\n       <path d=\"M 56.203125 29.59375 \nL 56.203125 25.203125 \nL 14.890625 25.203125 \nQ 15.484375 15.921875 20.484375 11.0625 \nQ 25.484375 6.203125 34.421875 6.203125 \nQ 39.59375 6.203125 44.453125 7.46875 \nQ 49.3125 8.734375 54.109375 11.28125 \nL 54.109375 2.78125 \nQ 49.265625 0.734375 44.1875 -0.34375 \nQ 39.109375 -1.421875 33.890625 -1.421875 \nQ 20.796875 -1.421875 13.15625 6.1875 \nQ 5.515625 13.8125 5.515625 26.8125 \nQ 5.515625 40.234375 12.765625 48.109375 \nQ 20.015625 56 32.328125 56 \nQ 43.359375 56 49.78125 48.890625 \nQ 56.203125 41.796875 56.203125 29.59375 \nz\nM 47.21875 32.234375 \nQ 47.125 39.59375 43.09375 43.984375 \nQ 39.0625 48.390625 32.421875 48.390625 \nQ 24.90625 48.390625 20.390625 44.140625 \nQ 15.875 39.890625 15.1875 32.171875 \nz\n\" id=\"DejaVuSans-101\"/>\n       <path d=\"M 34.28125 27.484375 \nQ 23.390625 27.484375 19.1875 25 \nQ 14.984375 22.515625 14.984375 16.5 \nQ 14.984375 11.71875 18.140625 8.90625 \nQ 21.296875 6.109375 26.703125 6.109375 \nQ 34.1875 6.109375 38.703125 11.40625 \nQ 43.21875 16.703125 43.21875 25.484375 \nL 43.21875 27.484375 \nz\nM 52.203125 31.203125 \nL 52.203125 0 \nL 43.21875 0 \nL 43.21875 8.296875 \nQ 40.140625 3.328125 35.546875 0.953125 \nQ 30.953125 -1.421875 24.3125 -1.421875 \nQ 15.921875 -1.421875 10.953125 3.296875 \nQ 6 8.015625 6 15.921875 \nQ 6 25.140625 12.171875 29.828125 \nQ 18.359375 34.515625 30.609375 34.515625 \nL 43.21875 34.515625 \nL 43.21875 35.40625 \nQ 43.21875 41.609375 39.140625 45 \nQ 35.0625 48.390625 27.6875 48.390625 \nQ 23 48.390625 18.546875 47.265625 \nQ 14.109375 46.140625 10.015625 43.890625 \nL 10.015625 52.203125 \nQ 14.9375 54.109375 19.578125 55.046875 \nQ 24.21875 56 28.609375 56 \nQ 40.484375 56 46.34375 49.84375 \nQ 52.203125 43.703125 52.203125 31.203125 \nz\n\" id=\"DejaVuSans-97\"/>\n       <path d=\"M 41.109375 46.296875 \nQ 39.59375 47.171875 37.8125 47.578125 \nQ 36.03125 48 33.890625 48 \nQ 26.265625 48 22.1875 43.046875 \nQ 18.109375 38.09375 18.109375 28.8125 \nL 18.109375 0 \nL 9.078125 0 \nL 9.078125 54.6875 \nL 18.109375 54.6875 \nL 18.109375 46.1875 \nQ 20.953125 51.171875 25.484375 53.578125 \nQ 30.03125 56 36.53125 56 \nQ 37.453125 56 38.578125 55.875 \nQ 39.703125 55.765625 41.0625 55.515625 \nz\n\" id=\"DejaVuSans-114\"/>\n       <path d=\"M 44.28125 53.078125 \nL 44.28125 44.578125 \nQ 40.484375 46.53125 36.375 47.5 \nQ 32.28125 48.484375 27.875 48.484375 \nQ 21.1875 48.484375 17.84375 46.4375 \nQ 14.5 44.390625 14.5 40.28125 \nQ 14.5 37.15625 16.890625 35.375 \nQ 19.28125 33.59375 26.515625 31.984375 \nL 29.59375 31.296875 \nQ 39.15625 29.25 43.1875 25.515625 \nQ 47.21875 21.78125 47.21875 15.09375 \nQ 47.21875 7.46875 41.1875 3.015625 \nQ 35.15625 -1.421875 24.609375 -1.421875 \nQ 20.21875 -1.421875 15.453125 -0.5625 \nQ 10.6875 0.296875 5.421875 2 \nL 5.421875 11.28125 \nQ 10.40625 8.6875 15.234375 7.390625 \nQ 20.0625 6.109375 24.8125 6.109375 \nQ 31.15625 6.109375 34.5625 8.28125 \nQ 37.984375 10.453125 37.984375 14.40625 \nQ 37.984375 18.0625 35.515625 20.015625 \nQ 33.0625 21.96875 24.703125 23.78125 \nL 21.578125 24.515625 \nQ 13.234375 26.265625 9.515625 29.90625 \nQ 5.8125 33.546875 5.8125 39.890625 \nQ 5.8125 47.609375 11.28125 51.796875 \nQ 16.75 56 26.8125 56 \nQ 31.78125 56 36.171875 55.265625 \nQ 40.578125 54.546875 44.28125 53.078125 \nz\n\" id=\"DejaVuSans-115\"/>\n       <path d=\"M 30.609375 48.390625 \nQ 23.390625 48.390625 19.1875 42.75 \nQ 14.984375 37.109375 14.984375 27.296875 \nQ 14.984375 17.484375 19.15625 11.84375 \nQ 23.34375 6.203125 30.609375 6.203125 \nQ 37.796875 6.203125 41.984375 11.859375 \nQ 46.1875 17.53125 46.1875 27.296875 \nQ 46.1875 37.015625 41.984375 42.703125 \nQ 37.796875 48.390625 30.609375 48.390625 \nz\nM 30.609375 56 \nQ 42.328125 56 49.015625 48.375 \nQ 55.71875 40.765625 55.71875 27.296875 \nQ 55.71875 13.875 49.015625 6.21875 \nQ 42.328125 -1.421875 30.609375 -1.421875 \nQ 18.84375 -1.421875 12.171875 6.21875 \nQ 5.515625 13.875 5.515625 27.296875 \nQ 5.515625 40.765625 12.171875 48.375 \nQ 18.84375 56 30.609375 56 \nz\n\" id=\"DejaVuSans-111\"/>\n       <path d=\"M 54.890625 33.015625 \nL 54.890625 0 \nL 45.90625 0 \nL 45.90625 32.71875 \nQ 45.90625 40.484375 42.875 44.328125 \nQ 39.84375 48.1875 33.796875 48.1875 \nQ 26.515625 48.1875 22.3125 43.546875 \nQ 18.109375 38.921875 18.109375 30.90625 \nL 18.109375 0 \nL 9.078125 0 \nL 9.078125 54.6875 \nL 18.109375 54.6875 \nL 18.109375 46.1875 \nQ 21.34375 51.125 25.703125 53.5625 \nQ 30.078125 56 35.796875 56 \nQ 45.21875 56 50.046875 50.171875 \nQ 54.890625 44.34375 54.890625 33.015625 \nz\n\" id=\"DejaVuSans-110\"/>\n      </defs>\n      <use xlink:href=\"#DejaVuSans-80\"/>\n      <use x=\"56.677734\" xlink:href=\"#DejaVuSans-101\"/>\n      <use x=\"118.201172\" xlink:href=\"#DejaVuSans-97\"/>\n      <use x=\"179.480469\" xlink:href=\"#DejaVuSans-114\"/>\n      <use x=\"220.59375\" xlink:href=\"#DejaVuSans-115\"/>\n      <use x=\"272.693359\" xlink:href=\"#DejaVuSans-111\"/>\n      <use x=\"333.875\" xlink:href=\"#DejaVuSans-110\"/>\n     </g>\n    </g>\n   </g>\n   <g id=\"line2d_12\">\n    <path clip-path=\"url(#pf460e2bb54)\" d=\"M 58.999432 229.874489 \nL 59.609379 215.940914 \nL 60.219326 228.062948 \nL 60.829273 221.773219 \nL 61.43922 92.112071 \nL 62.049168 97.807108 \nL 62.659115 89.239105 \nL 63.269062 90.487205 \nL 63.879009 87.350403 \nL 64.488956 88.001209 \nL 65.098903 87.095192 \nL 65.708851 80.125973 \nL 66.318798 86.269912 \nL 66.928745 86.083814 \nL 67.538692 82.559538 \nL 68.148639 59.759651 \nL 68.758586 68.731049 \nL 69.368534 69.784935 \nL 69.978481 71.749919 \nL 70.588428 65.728675 \nL 71.198375 64.717291 \nL 71.808322 61.057478 \nL 72.418269 63.947914 \nL 73.028217 62.189411 \nL 74.248111 63.142822 \nL 74.858058 60.444752 \nL 75.468005 63.088424 \nL 76.077952 69.828293 \nL 76.6879 64.566155 \nL 77.297847 64.992338 \nL 77.907794 61.106976 \nL 78.517741 63.395398 \nL 79.127688 59.471911 \nL 79.737635 61.971718 \nL 80.347583 63.240467 \nL 80.95753 59.658923 \nL 81.567477 62.011356 \nL 82.177424 60.785418 \nL 82.787371 60.383346 \nL 83.397319 54.417537 \nL 84.617213 72.340033 \nL 85.22716 68.407031 \nL 85.837107 60.502758 \nL 86.447054 62.069685 \nL 87.057002 63.079643 \nL 87.666949 59.714999 \nL 88.276896 61.163125 \nL 89.49679 61.824422 \nL 90.106737 54.772737 \nL 90.716685 54.467949 \nL 91.326632 58.715846 \nL 91.936579 57.992076 \nL 92.546526 60.768643 \nL 93.156473 52.872005 \nL 93.76642 55.344277 \nL 94.376368 60.430613 \nL 94.986315 55.099847 \nL 95.596262 50.93425 \nL 96.206209 51.04693 \nL 96.816156 50.812961 \nL 97.426103 49.807741 \nL 98.036051 47.263138 \nL 98.645998 47.665853 \nL 99.255945 46.430073 \nL 100.475839 51.179446 \nL 101.085786 53.473414 \nL 101.695734 57.806201 \nL 102.305681 46.605258 \nL 102.915628 47.817083 \nL 103.525575 52.315482 \nL 104.135522 48.556304 \nL 104.745469 54.028085 \nL 105.355417 50.961717 \nL 105.965364 48.775355 \nL 106.575311 47.4049 \nL 107.185258 50.597648 \nL 107.795205 52.831806 \nL 108.405152 47.491441 \nL 109.0151 43.584155 \nL 109.625047 51.28425 \nL 110.234994 48.231408 \nL 110.844941 56.658614 \nL 111.454888 42.331156 \nL 112.064835 55.321341 \nL 113.28473 47.202009 \nL 113.894677 51.506923 \nL 114.504624 48.456198 \nL 115.114571 51.489596 \nL 115.724518 51.690623 \nL 116.334466 44.14985 \nL 116.944413 54.683066 \nL 117.55436 49.892658 \nL 118.164307 48.152092 \nL 118.774254 45.635202 \nL 119.384201 51.046302 \nL 119.994149 42.246839 \nL 120.604096 46.548383 \nL 121.214043 51.806144 \nL 121.82399 51.917688 \nL 122.433937 53.547348 \nL 123.043884 48.128314 \nL 123.653832 46.561619 \nL 124.263779 46.442655 \nL 124.873726 43.244934 \nL 125.483673 45.933661 \nL 126.09362 50.178032 \nL 126.703567 48.925668 \nL 127.313515 51.578485 \nL 127.923462 50.127758 \nL 128.533409 52.353138 \nL 129.143356 49.298918 \nL 129.753303 50.225641 \nL 130.36325 47.246637 \nL 130.973198 48.277682 \nL 131.583145 49.04642 \nL 132.193092 55.132396 \nL 132.803039 46.673141 \nL 133.412986 51.5896 \nL 134.022933 53.32199 \nL 134.632881 47.299621 \nL 135.242828 43.009162 \nL 135.852775 45.083777 \nL 136.462722 51.526808 \nL 137.072669 44.783588 \nL 137.682616 51.358909 \nL 138.292564 49.20514 \nL 138.902511 48.004098 \nL 139.512458 47.798016 \nL 140.122405 49.561132 \nL 140.732352 54.668039 \nL 141.342299 44.686655 \nL 141.952247 50.474979 \nL 142.562194 42.161426 \nL 143.172141 47.894611 \nL 143.782088 43.370966 \nL 144.392035 45.775594 \nL 145.001982 50.024293 \nL 145.61193 46.467777 \nL 146.221877 49.45823 \nL 146.831824 46.582503 \nL 147.441771 47.443976 \nL 148.051718 48.038646 \nL 148.661665 48.189594 \nL 149.271613 48.071038 \nL 149.88156 42.772608 \nL 150.491507 42.648554 \nL 151.101454 47.680606 \nL 151.711401 44.34962 \nL 152.321348 47.350821 \nL 152.931296 46.554801 \nL 153.541243 47.919403 \nL 154.15119 45.809981 \nL 154.761137 49.181923 \nL 155.371084 44.979244 \nL 155.981031 46.80614 \nL 156.590979 43.16862 \nL 157.200926 42.985591 \nL 157.810873 40.663653 \nL 158.42082 42.892617 \nL 159.640714 52.72924 \nL 160.250662 46.586387 \nL 160.860609 52.113907 \nL 161.470556 42.594824 \nL 162.080503 48.549449 \nL 162.69045 43.920148 \nL 163.300397 42.892731 \nL 163.910345 44.629303 \nL 164.520292 43.183283 \nL 165.130239 47.499556 \nL 165.740186 47.88363 \nL 166.350133 43.666394 \nL 166.96008 43.898955 \nL 168.179975 47.31138 \nL 168.789922 48.766189 \nL 169.399869 46.536482 \nL 170.009816 45.835287 \nL 170.619763 48.663778 \nL 171.229711 43.950092 \nL 171.839658 48.30919 \nL 172.449605 45.113764 \nL 173.059552 45.913127 \nL 173.669499 46.325974 \nL 174.279446 48.063571 \nL 174.889394 42.208545 \nL 175.499341 48.760879 \nL 176.109288 42.329648 \nL 176.719235 46.060143 \nL 177.329182 46.781235 \nL 177.939129 44.544912 \nL 178.549077 44.35847 \nL 179.159024 49.156745 \nL 179.768971 46.83608 \nL 180.378918 46.546791 \nL 180.988865 49.380849 \nL 181.598812 48.454161 \nL 182.20876 46.654412 \nL 182.818707 48.838726 \nL 183.428654 48.088357 \nL 184.038601 46.327619 \nL 184.648548 38.584559 \nL 185.258495 43.832789 \nL 185.868443 43.454012 \nL 186.47839 45.296939 \nL 187.088337 48.422103 \nL 187.698284 49.345745 \nL 188.308231 42.341257 \nL 188.918178 45.012506 \nL 189.528126 45.141627 \nL 190.138073 47.088562 \nL 190.74802 43.262523 \nL 191.357967 45.948168 \nL 191.967914 43.205935 \nL 192.577861 45.28149 \nL 193.187809 42.663401 \nL 193.797756 43.876878 \nL 194.407703 41.150988 \nL 195.01765 41.863749 \nL 195.627597 42.400425 \nL 196.237544 41.30671 \nL 196.847492 42.594176 \nL 197.457439 45.576952 \nL 198.067386 43.378885 \nL 198.677333 46.782786 \nL 199.28728 39.318287 \nL 199.897227 44.555594 \nL 200.507175 37.951678 \nL 201.117122 34.224683 \nL 201.727069 39.28585 \nL 202.337016 33.510437 \nL 202.946963 45.304621 \nL 203.55691 38.512067 \nL 204.166858 42.703784 \nL 204.776805 45.993691 \nL 205.386752 41.389526 \nL 205.996699 41.369082 \nL 206.606646 43.534695 \nL 207.216593 46.487196 \nL 207.826541 41.039284 \nL 208.436488 40.886147 \nL 209.046435 45.953611 \nL 209.656382 39.885 \nL 210.266329 45.678622 \nL 210.876276 37.988914 \nL 211.486224 44.598838 \nL 212.096171 40.893726 \nL 212.706118 44.149596 \nL 213.316065 36.878734 \nL 213.926012 36.170443 \nL 215.145907 47.857408 \nL 215.755854 42.831666 \nL 216.365801 40.804677 \nL 216.975748 41.019529 \nL 217.585695 38.431813 \nL 218.80559 46.078435 \nL 219.415537 37.297528 \nL 220.025484 47.365336 \nL 220.635431 42.549596 \nL 221.245378 43.403757 \nL 221.855325 45.989005 \nL 222.465273 43.359218 \nL 223.07522 45.229568 \nL 224.295114 38.390898 \nL 224.905061 39.051749 \nL 225.515008 40.417378 \nL 226.124956 41.239128 \nL 227.34485 44.97715 \nL 227.954797 43.574065 \nL 228.564744 45.147468 \nL 229.174691 41.590564 \nL 229.784639 41.194773 \nL 230.394586 41.264761 \nL 231.004533 42.982175 \nL 231.61448 42.115054 \nL 232.224427 36.799664 \nL 232.834374 37.291881 \nL 234.054269 43.816168 \nL 234.664216 37.675173 \nL 235.274163 42.426269 \nL 235.88411 38.046349 \nL 236.494057 38.294736 \nL 237.104005 37.994222 \nL 237.713952 40.928484 \nL 238.323899 42.010646 \nL 238.933846 41.314018 \nL 239.543793 40.112626 \nL 240.15374 40.064084 \nL 240.763688 43.531937 \nL 241.373635 45.771532 \nL 241.983582 35.917054 \nL 242.593529 46.65864 \nL 243.203476 36.892091 \nL 243.813423 39.472721 \nL 244.423371 40.263912 \nL 245.033318 40.664361 \nL 245.643265 43.437592 \nL 246.253212 39.064438 \nL 246.863159 37.073403 \nL 247.473106 41.385286 \nL 248.083054 36.424554 \nL 248.693001 39.867348 \nL 249.302948 41.015297 \nL 249.912895 45.180803 \nL 250.522842 43.814885 \nL 251.132789 38.598064 \nL 251.742737 39.928394 \nL 252.352684 38.875815 \nL 252.962631 38.329149 \nL 253.572578 41.719037 \nL 254.182525 43.137704 \nL 254.792472 36.769617 \nL 255.40242 41.263371 \nL 256.012367 41.243729 \nL 256.622314 40.400692 \nL 257.232261 43.854149 \nL 257.842208 41.983724 \nL 258.452155 43.293788 \nL 259.062103 38.077026 \nL 259.67205 40.378281 \nL 260.281997 42.12541 \nL 260.891944 44.81174 \nL 261.501891 41.592738 \nL 262.111838 41.171799 \nL 262.721786 40.991226 \nL 263.331733 39.799584 \nL 263.94168 39.847273 \nL 264.551627 40.245876 \nL 265.161574 35.829459 \nL 265.771521 38.804984 \nL 266.381469 44.978758 \nL 266.991416 42.845224 \nL 267.601363 39.926215 \nL 268.21131 38.371811 \nL 268.821257 41.471371 \nL 269.431204 39.255767 \nL 270.041152 42.843674 \nL 270.651099 43.343401 \nL 271.261046 41.400665 \nL 271.870993 41.289046 \nL 272.48094 40.965753 \nL 273.090887 39.281737 \nL 273.700835 35.218596 \nL 274.310782 41.90385 \nL 274.920729 37.748713 \nL 275.530676 41.083977 \nL 276.140623 41.898147 \nL 276.75057 42.060108 \nL 277.360518 35.797268 \nL 277.970465 39.636338 \nL 278.580412 39.221978 \nL 279.190359 38.30393 \nL 279.800306 35.433683 \nL 280.410253 35.168234 \nL 281.020201 41.674947 \nL 281.630148 46.362283 \nL 282.240095 39.096571 \nL 282.850042 38.338187 \nL 283.459989 37.294265 \nL 284.069936 37.772632 \nL 284.679884 36.847266 \nL 285.289831 40.707476 \nL 285.899778 38.861533 \nL 286.509725 34.175573 \nL 287.119672 38.234458 \nL 287.729619 38.813099 \nL 288.339567 40.736662 \nL 288.949514 41.553619 \nL 289.559461 46.832925 \nL 290.169408 44.212038 \nL 290.779355 40.152127 \nL 291.389302 42.417654 \nL 291.99925 42.746424 \nL 292.609197 36.934016 \nL 293.219144 40.603677 \nL 293.829091 39.290023 \nL 294.439038 40.681929 \nL 295.048985 42.722198 \nL 295.658933 36.979788 \nL 296.26888 40.303706 \nL 296.878827 39.239014 \nL 297.488774 39.797154 \nL 298.098721 43.25302 \nL 298.708668 38.962596 \nL 299.318616 38.350339 \nL 299.928563 46.259909 \nL 300.53851 47.008573 \nL 301.148457 38.004955 \nL 301.758404 39.912545 \nL 302.368351 40.286271 \nL 302.978299 44.830407 \nL 303.588246 41.695112 \nL 304.198193 39.635686 \nL 304.80814 39.395956 \nL 305.418087 42.517342 \nL 306.028034 32.962097 \nL 306.637982 35.977649 \nL 307.247929 42.592889 \nL 307.857876 40.159225 \nL 309.07777 43.605226 \nL 309.687717 48.621411 \nL 310.297665 40.624239 \nL 310.907612 35.648755 \nL 311.517559 37.939236 \nL 312.127506 37.217948 \nL 312.737453 38.78348 \nL 313.3474 37.721175 \nL 313.957348 39.86121 \nL 314.567295 41.584523 \nL 315.177242 37.891307 \nL 315.787189 37.830164 \nL 316.397136 36.921831 \nL 317.007083 41.416335 \nL 317.617031 36.286719 \nL 318.226978 38.685069 \nL 318.836925 42.656255 \nL 319.446872 41.329651 \nL 320.056819 44.232808 \nL 320.666766 39.846247 \nL 321.276714 39.579006 \nL 321.886661 34.130659 \nL 322.496608 38.656763 \nL 323.106555 40.918378 \nL 323.716502 47.75429 \nL 324.326449 33.425577 \nL 324.936397 40.731273 \nL 325.546344 36.575005 \nL 326.156291 40.385812 \nL 326.766238 41.270527 \nL 327.376185 39.94158 \nL 327.986132 40.146695 \nL 328.59608 43.402461 \nL 329.206027 45.894141 \nL 329.815974 39.064886 \nL 330.425921 39.299251 \nL 331.035868 46.628466 \nL 331.645815 37.957641 \nL 332.255763 36.027688 \nL 332.86571 44.75053 \nL 333.475657 37.558272 \nL 334.085604 40.468504 \nL 334.695551 38.74651 \nL 335.305498 36.391474 \nL 335.915446 43.027994 \nL 336.525393 39.369543 \nL 337.13534 34.48894 \nL 337.745287 42.945099 \nL 338.355234 49.131095 \nL 338.965181 42.20435 \nL 339.575129 39.1681 \nL 340.185076 32.201761 \nL 341.40497 43.022979 \nL 342.014917 35.387103 \nL 342.624865 40.375406 \nL 343.234812 36.450282 \nL 343.844759 42.348028 \nL 344.454706 37.807354 \nL 345.064653 39.710879 \nL 345.6746 39.085853 \nL 346.894495 36.18189 \nL 347.504442 39.669404 \nL 348.114389 44.611828 \nL 348.724336 41.651888 \nL 349.334283 34.307736 \nL 349.944231 42.077952 \nL 350.554178 35.812149 \nL 351.164125 35.806903 \nL 351.774072 43.659583 \nL 352.384019 43.441213 \nL 352.993966 38.016137 \nL 353.603914 42.069162 \nL 354.213861 40.071361 \nL 354.823808 41.454429 \nL 355.433755 37.371336 \nL 356.043702 43.333944 \nL 357.263597 34.960233 \nL 357.873544 42.001584 \nL 359.093438 37.247645 \nL 359.703385 41.27788 \nL 360.313332 42.20818 \nL 360.92328 44.45527 \nL 361.533227 45.015397 \nL 362.143174 38.84527 \nL 362.753121 42.919587 \nL 363.363068 33.665776 \nL 363.363068 33.665776 \n\" style=\"fill:none;stroke:#1f77b4;stroke-linecap:square;stroke-width:1.5;\"/>\n   </g>\n   <g id=\"patch_3\">\n    <path d=\"M 43.78125 239.758125 \nL 43.78125 22.318125 \n\" style=\"fill:none;stroke:#000000;stroke-linecap:square;stroke-linejoin:miter;stroke-width:0.8;\"/>\n   </g>\n   <g id=\"patch_4\">\n    <path d=\"M 378.58125 239.758125 \nL 378.58125 22.318125 \n\" style=\"fill:none;stroke:#000000;stroke-linecap:square;stroke-linejoin:miter;stroke-width:0.8;\"/>\n   </g>\n   <g id=\"patch_5\">\n    <path d=\"M 43.78125 239.758125 \nL 378.58125 239.758125 \n\" style=\"fill:none;stroke:#000000;stroke-linecap:square;stroke-linejoin:miter;stroke-width:0.8;\"/>\n   </g>\n   <g id=\"patch_6\">\n    <path d=\"M 43.78125 22.318125 \nL 378.58125 22.318125 \n\" style=\"fill:none;stroke:#000000;stroke-linecap:square;stroke-linejoin:miter;stroke-width:0.8;\"/>\n   </g>\n   <g id=\"text_14\">\n    <!-- Pearson vs. top-k features by mutual information -->\n    <g transform=\"translate(63.930937 16.318125)scale(0.12 -0.12)\">\n     <defs>\n      <path id=\"DejaVuSans-32\"/>\n      <path d=\"M 2.984375 54.6875 \nL 12.5 54.6875 \nL 29.59375 8.796875 \nL 46.6875 54.6875 \nL 56.203125 54.6875 \nL 35.6875 0 \nL 23.484375 0 \nz\n\" id=\"DejaVuSans-118\"/>\n      <path d=\"M 18.3125 70.21875 \nL 18.3125 54.6875 \nL 36.8125 54.6875 \nL 36.8125 47.703125 \nL 18.3125 47.703125 \nL 18.3125 18.015625 \nQ 18.3125 11.328125 20.140625 9.421875 \nQ 21.96875 7.515625 27.59375 7.515625 \nL 36.8125 7.515625 \nL 36.8125 0 \nL 27.59375 0 \nQ 17.1875 0 13.234375 3.875 \nQ 9.28125 7.765625 9.28125 18.015625 \nL 9.28125 47.703125 \nL 2.6875 47.703125 \nL 2.6875 54.6875 \nL 9.28125 54.6875 \nL 9.28125 70.21875 \nz\n\" id=\"DejaVuSans-116\"/>\n      <path d=\"M 18.109375 8.203125 \nL 18.109375 -20.796875 \nL 9.078125 -20.796875 \nL 9.078125 54.6875 \nL 18.109375 54.6875 \nL 18.109375 46.390625 \nQ 20.953125 51.265625 25.265625 53.625 \nQ 29.59375 56 35.59375 56 \nQ 45.5625 56 51.78125 48.09375 \nQ 58.015625 40.1875 58.015625 27.296875 \nQ 58.015625 14.40625 51.78125 6.484375 \nQ 45.5625 -1.421875 35.59375 -1.421875 \nQ 29.59375 -1.421875 25.265625 0.953125 \nQ 20.953125 3.328125 18.109375 8.203125 \nz\nM 48.6875 27.296875 \nQ 48.6875 37.203125 44.609375 42.84375 \nQ 40.53125 48.484375 33.40625 48.484375 \nQ 26.265625 48.484375 22.1875 42.84375 \nQ 18.109375 37.203125 18.109375 27.296875 \nQ 18.109375 17.390625 22.1875 11.75 \nQ 26.265625 6.109375 33.40625 6.109375 \nQ 40.53125 6.109375 44.609375 11.75 \nQ 48.6875 17.390625 48.6875 27.296875 \nz\n\" id=\"DejaVuSans-112\"/>\n      <path d=\"M 4.890625 31.390625 \nL 31.203125 31.390625 \nL 31.203125 23.390625 \nL 4.890625 23.390625 \nz\n\" id=\"DejaVuSans-45\"/>\n      <path d=\"M 37.109375 75.984375 \nL 37.109375 68.5 \nL 28.515625 68.5 \nQ 23.6875 68.5 21.796875 66.546875 \nQ 19.921875 64.59375 19.921875 59.515625 \nL 19.921875 54.6875 \nL 34.71875 54.6875 \nL 34.71875 47.703125 \nL 19.921875 47.703125 \nL 19.921875 0 \nL 10.890625 0 \nL 10.890625 47.703125 \nL 2.296875 47.703125 \nL 2.296875 54.6875 \nL 10.890625 54.6875 \nL 10.890625 58.5 \nQ 10.890625 67.625 15.140625 71.796875 \nQ 19.390625 75.984375 28.609375 75.984375 \nz\n\" id=\"DejaVuSans-102\"/>\n      <path d=\"M 8.5 21.578125 \nL 8.5 54.6875 \nL 17.484375 54.6875 \nL 17.484375 21.921875 \nQ 17.484375 14.15625 20.5 10.265625 \nQ 23.53125 6.390625 29.59375 6.390625 \nQ 36.859375 6.390625 41.078125 11.03125 \nQ 45.3125 15.671875 45.3125 23.6875 \nL 45.3125 54.6875 \nL 54.296875 54.6875 \nL 54.296875 0 \nL 45.3125 0 \nL 45.3125 8.40625 \nQ 42.046875 3.421875 37.71875 1 \nQ 33.40625 -1.421875 27.6875 -1.421875 \nQ 18.265625 -1.421875 13.375 4.4375 \nQ 8.5 10.296875 8.5 21.578125 \nz\nM 31.109375 56 \nz\n\" id=\"DejaVuSans-117\"/>\n      <path d=\"M 48.6875 27.296875 \nQ 48.6875 37.203125 44.609375 42.84375 \nQ 40.53125 48.484375 33.40625 48.484375 \nQ 26.265625 48.484375 22.1875 42.84375 \nQ 18.109375 37.203125 18.109375 27.296875 \nQ 18.109375 17.390625 22.1875 11.75 \nQ 26.265625 6.109375 33.40625 6.109375 \nQ 40.53125 6.109375 44.609375 11.75 \nQ 48.6875 17.390625 48.6875 27.296875 \nz\nM 18.109375 46.390625 \nQ 20.953125 51.265625 25.265625 53.625 \nQ 29.59375 56 35.59375 56 \nQ 45.5625 56 51.78125 48.09375 \nQ 58.015625 40.1875 58.015625 27.296875 \nQ 58.015625 14.40625 51.78125 6.484375 \nQ 45.5625 -1.421875 35.59375 -1.421875 \nQ 29.59375 -1.421875 25.265625 0.953125 \nQ 20.953125 3.328125 18.109375 8.203125 \nL 18.109375 0 \nL 9.078125 0 \nL 9.078125 75.984375 \nL 18.109375 75.984375 \nz\n\" id=\"DejaVuSans-98\"/>\n      <path d=\"M 32.171875 -5.078125 \nQ 28.375 -14.84375 24.75 -17.8125 \nQ 21.140625 -20.796875 15.09375 -20.796875 \nL 7.90625 -20.796875 \nL 7.90625 -13.28125 \nL 13.1875 -13.28125 \nQ 16.890625 -13.28125 18.9375 -11.515625 \nQ 21 -9.765625 23.484375 -3.21875 \nL 25.09375 0.875 \nL 2.984375 54.6875 \nL 12.5 54.6875 \nL 29.59375 11.921875 \nL 46.6875 54.6875 \nL 56.203125 54.6875 \nz\n\" id=\"DejaVuSans-121\"/>\n      <path d=\"M 52 44.1875 \nQ 55.375 50.25 60.0625 53.125 \nQ 64.75 56 71.09375 56 \nQ 79.640625 56 84.28125 50.015625 \nQ 88.921875 44.046875 88.921875 33.015625 \nL 88.921875 0 \nL 79.890625 0 \nL 79.890625 32.71875 \nQ 79.890625 40.578125 77.09375 44.375 \nQ 74.3125 48.1875 68.609375 48.1875 \nQ 61.625 48.1875 57.5625 43.546875 \nQ 53.515625 38.921875 53.515625 30.90625 \nL 53.515625 0 \nL 44.484375 0 \nL 44.484375 32.71875 \nQ 44.484375 40.625 41.703125 44.40625 \nQ 38.921875 48.1875 33.109375 48.1875 \nQ 26.21875 48.1875 22.15625 43.53125 \nQ 18.109375 38.875 18.109375 30.90625 \nL 18.109375 0 \nL 9.078125 0 \nL 9.078125 54.6875 \nL 18.109375 54.6875 \nL 18.109375 46.1875 \nQ 21.1875 51.21875 25.484375 53.609375 \nQ 29.78125 56 35.6875 56 \nQ 41.65625 56 45.828125 52.96875 \nQ 50 49.953125 52 44.1875 \nz\n\" id=\"DejaVuSans-109\"/>\n      <path d=\"M 9.421875 75.984375 \nL 18.40625 75.984375 \nL 18.40625 0 \nL 9.421875 0 \nz\n\" id=\"DejaVuSans-108\"/>\n      <path d=\"M 9.421875 54.6875 \nL 18.40625 54.6875 \nL 18.40625 0 \nL 9.421875 0 \nz\nM 9.421875 75.984375 \nL 18.40625 75.984375 \nL 18.40625 64.59375 \nL 9.421875 64.59375 \nz\n\" id=\"DejaVuSans-105\"/>\n     </defs>\n     <use xlink:href=\"#DejaVuSans-80\"/>\n     <use x=\"56.677734\" xlink:href=\"#DejaVuSans-101\"/>\n     <use x=\"118.201172\" xlink:href=\"#DejaVuSans-97\"/>\n     <use x=\"179.480469\" xlink:href=\"#DejaVuSans-114\"/>\n     <use x=\"220.59375\" xlink:href=\"#DejaVuSans-115\"/>\n     <use x=\"272.693359\" xlink:href=\"#DejaVuSans-111\"/>\n     <use x=\"333.875\" xlink:href=\"#DejaVuSans-110\"/>\n     <use x=\"397.253906\" xlink:href=\"#DejaVuSans-32\"/>\n     <use x=\"429.041016\" xlink:href=\"#DejaVuSans-118\"/>\n     <use x=\"488.220703\" xlink:href=\"#DejaVuSans-115\"/>\n     <use x=\"540.320312\" xlink:href=\"#DejaVuSans-46\"/>\n     <use x=\"572.107422\" xlink:href=\"#DejaVuSans-32\"/>\n     <use x=\"603.894531\" xlink:href=\"#DejaVuSans-116\"/>\n     <use x=\"643.103516\" xlink:href=\"#DejaVuSans-111\"/>\n     <use x=\"704.285156\" xlink:href=\"#DejaVuSans-112\"/>\n     <use x=\"767.761719\" xlink:href=\"#DejaVuSans-45\"/>\n     <use x=\"803.845703\" xlink:href=\"#DejaVuSans-107\"/>\n     <use x=\"861.755859\" xlink:href=\"#DejaVuSans-32\"/>\n     <use x=\"893.542969\" xlink:href=\"#DejaVuSans-102\"/>\n     <use x=\"928.748047\" xlink:href=\"#DejaVuSans-101\"/>\n     <use x=\"990.271484\" xlink:href=\"#DejaVuSans-97\"/>\n     <use x=\"1051.550781\" xlink:href=\"#DejaVuSans-116\"/>\n     <use x=\"1090.759766\" xlink:href=\"#DejaVuSans-117\"/>\n     <use x=\"1154.138672\" xlink:href=\"#DejaVuSans-114\"/>\n     <use x=\"1193.001953\" xlink:href=\"#DejaVuSans-101\"/>\n     <use x=\"1254.525391\" xlink:href=\"#DejaVuSans-115\"/>\n     <use x=\"1306.625\" xlink:href=\"#DejaVuSans-32\"/>\n     <use x=\"1338.412109\" xlink:href=\"#DejaVuSans-98\"/>\n     <use x=\"1401.888672\" xlink:href=\"#DejaVuSans-121\"/>\n     <use x=\"1461.068359\" xlink:href=\"#DejaVuSans-32\"/>\n     <use x=\"1492.855469\" xlink:href=\"#DejaVuSans-109\"/>\n     <use x=\"1590.267578\" xlink:href=\"#DejaVuSans-117\"/>\n     <use x=\"1653.646484\" xlink:href=\"#DejaVuSans-116\"/>\n     <use x=\"1692.855469\" xlink:href=\"#DejaVuSans-117\"/>\n     <use x=\"1756.234375\" xlink:href=\"#DejaVuSans-97\"/>\n     <use x=\"1817.513672\" xlink:href=\"#DejaVuSans-108\"/>\n     <use x=\"1845.296875\" xlink:href=\"#DejaVuSans-32\"/>\n     <use x=\"1877.083984\" xlink:href=\"#DejaVuSans-105\"/>\n     <use x=\"1904.867188\" xlink:href=\"#DejaVuSans-110\"/>\n     <use x=\"1968.246094\" xlink:href=\"#DejaVuSans-102\"/>\n     <use x=\"2003.451172\" xlink:href=\"#DejaVuSans-111\"/>\n     <use x=\"2064.632812\" xlink:href=\"#DejaVuSans-114\"/>\n     <use x=\"2103.996094\" xlink:href=\"#DejaVuSans-109\"/>\n     <use x=\"2201.408203\" xlink:href=\"#DejaVuSans-97\"/>\n     <use x=\"2262.6875\" xlink:href=\"#DejaVuSans-116\"/>\n     <use x=\"2301.896484\" xlink:href=\"#DejaVuSans-105\"/>\n     <use x=\"2329.679688\" xlink:href=\"#DejaVuSans-111\"/>\n     <use x=\"2390.861328\" xlink:href=\"#DejaVuSans-110\"/>\n    </g>\n   </g>\n  </g>\n </g>\n <defs>\n  <clipPath id=\"pf460e2bb54\">\n   <rect height=\"217.44\" width=\"334.8\" x=\"43.78125\" y=\"22.318125\"/>\n  </clipPath>\n </defs>\n</svg>\n",
      "image/png": "[encoded data removed]"
     },
     "metadata": {
      "needs_background": "light"
     }
    }
   ],
   "source": [
    "(feature_names, mi, k_lst, pearson_lst, single_train_feature_name_2_idx, X_train_mini, X_dev_mini, y_train_mini, y_dev_mini) = pkl.load(open('stuff.pkl', 'rb'))\n",
    "X = np.vstack((X_train_mini, X_dev_mini))\n",
    "y = np.hstack((y_train_mini, y_dev_mini))\n",
    "\n",
    "k_lst, pearson_lst = [], []\n",
    "\n",
    "for k in tqdm(np.arange(101, 500+1, 1)):\n",
    "    k_lst.append(k)\n",
    "    picks = feature_names[:k]\n",
    "    col_idx = [single_train_feature_name_2_idx[pick] for pick in picks]\n",
    "    X_picks = X[:, col_idx]\n",
    "    model = LinearRegression()\n",
    "    p_s = cross_val_score(model, X_picks, y, scoring=make_scorer(pearson), cv=custom_cv_folds(single_train, n_splits=5))\n",
    "    p = np.mean(p_s)\n",
    "    pearson_lst.append(p)\n",
    "\n",
    "plt.plot(k_lst, pearson_lst)\n",
    "plt.title('Pearson vs. top-k features by mutual information')\n",
    "plt.xlabel('k')\n",
    "plt.ylabel('Pearson')"
   ]
  },
  {
   "source": [
    "## Foreign data"
   ],
   "cell_type": "markdown",
   "metadata": {}
  },
  {
   "source": [
    "df = pd.read_csv('./lib/lexical_simplification-master/word_complexity_lexicon/lexicon.tsv', sep='\\t', names=['token', 'complexity'])"
   ],
   "cell_type": "code",
   "metadata": {},
   "execution_count": 117,
   "outputs": []
  },
  {
   "cell_type": "code",
   "execution_count": 118,
   "metadata": {},
   "outputs": [],
   "source": [
    "df['complexity'] = df['complexity']/6"
   ]
  },
  {
   "cell_type": "code",
   "execution_count": 119,
   "metadata": {},
   "outputs": [
    {
     "output_type": "execute_result",
     "data": {
      "text/plain": [
       "           token  complexity\n",
       "0            wet    0.261900\n",
       "1          cargo    0.476183\n",
       "2        Arsenal    0.619050\n",
       "3  Manufacturing    0.638883\n",
       "4           East    0.214283"
      ],
      "text/html": "<div>\n<style scoped>\n    .dataframe tbody tr th:only-of-type {\n        vertical-align: middle;\n    }\n\n    .dataframe tbody tr th {\n        vertical-align: top;\n    }\n\n    .dataframe thead th {\n        text-align: right;\n    }\n</style>\n<table border=\"1\" class=\"dataframe\">\n  <thead>\n    <tr style=\"text-align: right;\">\n      <th></th>\n      <th>token</th>\n      <th>complexity</th>\n    </tr>\n  </thead>\n  <tbody>\n    <tr>\n      <th>0</th>\n      <td>wet</td>\n      <td>0.261900</td>\n    </tr>\n    <tr>\n      <th>1</th>\n      <td>cargo</td>\n      <td>0.476183</td>\n    </tr>\n    <tr>\n      <th>2</th>\n      <td>Arsenal</td>\n      <td>0.619050</td>\n    </tr>\n    <tr>\n      <th>3</th>\n      <td>Manufacturing</td>\n      <td>0.638883</td>\n    </tr>\n    <tr>\n      <th>4</th>\n      <td>East</td>\n      <td>0.214283</td>\n    </tr>\n  </tbody>\n</table>\n</div>"
     },
     "metadata": {},
     "execution_count": 119
    }
   ],
   "source": [
    "df.head()"
   ]
  },
  {
   "cell_type": "code",
   "execution_count": 120,
   "metadata": {},
   "outputs": [],
   "source": [
    "single_train['found'] = single_train['token'].isin(df['token'])"
   ]
  },
  {
   "cell_type": "code",
   "execution_count": 121,
   "metadata": {},
   "outputs": [],
   "source": [
    "single_train = pd.merge(single_train, df, on='token', how='left')"
   ]
  },
  {
   "cell_type": "code",
   "execution_count": 122,
   "metadata": {},
   "outputs": [
    {
     "output_type": "execute_result",
     "data": {
      "text/plain": [
       "              found  complexity_x  complexity_y\n",
       "found           NaN           NaN           NaN\n",
       "complexity_x    NaN      1.000000      0.541476\n",
       "complexity_y    NaN      0.541476      1.000000"
      ],
      "text/html": "<div>\n<style scoped>\n    .dataframe tbody tr th:only-of-type {\n        vertical-align: middle;\n    }\n\n    .dataframe tbody tr th {\n        vertical-align: top;\n    }\n\n    .dataframe thead th {\n        text-align: right;\n    }\n</style>\n<table border=\"1\" class=\"dataframe\">\n  <thead>\n    <tr style=\"text-align: right;\">\n      <th></th>\n      <th>found</th>\n      <th>complexity_x</th>\n      <th>complexity_y</th>\n    </tr>\n  </thead>\n  <tbody>\n    <tr>\n      <th>found</th>\n      <td>NaN</td>\n      <td>NaN</td>\n      <td>NaN</td>\n    </tr>\n    <tr>\n      <th>complexity_x</th>\n      <td>NaN</td>\n      <td>1.000000</td>\n      <td>0.541476</td>\n    </tr>\n    <tr>\n      <th>complexity_y</th>\n      <td>NaN</td>\n      <td>0.541476</td>\n      <td>1.000000</td>\n    </tr>\n  </tbody>\n</table>\n</div>"
     },
     "metadata": {},
     "execution_count": 122
    }
   ],
   "source": [
    "single_train[single_train['found']][['token', 'found', 'complexity_x', 'complexity_y']].corr()"
   ]
  },
  {
   "source": [
    "# Mo' features\n",
    "- Google N-grams\n",
    "    - Eg. \"the **happy** man\"\n",
    "    - Decision: \"the **happy**\" TF correlates better with complexity than \"**happy** man\". \n",
    "    - Special thanks to PhraseFinder API.\n",
    "    - google_tf\n",
    "    - google_tf_ngram_2_head\n",
    "    - google_tf_ngram_2_tail\n",
    "    - google_tf_ngram_2_min\n",
    "    - google_tf_ngram_2_max\n",
    "    - google_tf_ngram_2_mean\n",
    "    - google_tf_ngram_2_std\n",
    "    - google_tf_ngram_3_head\n",
    "    - google_tf_ngram_3_mid\n",
    "    - google_tf_ngram_3_tail\n",
    "    - google_tf_ngram_3_min\n",
    "    - google_tf_ngram_3_max\n",
    "    - google_tf_ngram_3_mean\n",
    "    - google_tf_ngram_3_std\n",
    "- SUBTLEX\n",
    "    - FREQcount\n",
    "    - CDcount\n",
    "    - FREQlow\n",
    "    - CDlow\n",
    "    - SUBTLWF\n",
    "    - Lg10WF\n",
    "    - SUBTLCD\n",
    "    - Lg10CD\n",
    "- BNC\n",
    "    - frequency\n",
    "    - variance (omitted, too many NaN's)\n",
    "- Phoneme transition probability\n",
    "    - phoneme_transition_min\n",
    "    - phoneme_transition_max\n",
    "    - phoneme_transition_mean\n",
    "    - phoneme_transition_std\n",
    "- Char transition probability\n",
    "    - char_transition_min\n",
    "    - char_transition_max\n",
    "    - char_transition_mean\n",
    "    - char_transition_std\n"
   ],
   "cell_type": "markdown",
   "metadata": {}
  },
  {
   "cell_type": "code",
   "execution_count": 9,
   "metadata": {},
   "outputs": [],
   "source": [
    "multi_train = pd.read_csv('./data/pickle/multi_train_o.tsv', sep='\\t', index_col=0)"
   ]
  },
  {
   "cell_type": "code",
   "execution_count": 17,
   "metadata": {},
   "outputs": [],
   "source": [
    "multi_train_head = multi_train.copy()\n",
    "multi_train_head['token'] = multi_train_head['token'].apply(lambda x: x.split(' ')[0])\n",
    "multi_train_tail = multi_train.copy()\n",
    "multi_train_tail['token'] = multi_train_tail['token'].apply(lambda x: x.split(' ')[1])"
   ]
  },
  {
   "source": [
    "N = 1\n",
    "data = multi_train\n",
    "google_ngram = np.zeros((len(data), N))\n",
    "go = False\n",
    "for j, (idx, row) in tqdm(enumerate(data.iterrows())):\n",
    "    if j == 1066:\n",
    "        go = True\n",
    "    if not go:\n",
    "        continue\n",
    "    token = row['token']\n",
    "    sentence = row['sentence']\n",
    "    ngrams_lst = get_ngrams(sentence, token, N)\n",
    "    for i in range(len(ngrams_lst)):\n",
    "        if i >= google_ngram.shape[1]:\n",
    "            continue\n",
    "        google_ngram[j, i] = get_tf(ngrams_lst[i])"
   ],
   "cell_type": "code",
   "metadata": {},
   "execution_count": 21,
   "outputs": [
    {
     "output_type": "stream",
     "name": "stderr",
     "text": [
      "1517it [11:38,  2.17it/s]\n"
     ]
    }
   ]
  },
  {
   "cell_type": "code",
   "execution_count": 323,
   "metadata": {},
   "outputs": [],
   "source": [
    "single_trial = pd.read_csv('./data/'+job+'/single_trial_p.tsv', sep='\\t', index_col=0)"
   ]
  },
  {
   "cell_type": "code",
   "execution_count": 30,
   "metadata": {},
   "outputs": [],
   "source": [
    "np.save('./data/pickle/multi_train_google_ngram_3_tail.npy', google_ngram)"
   ]
  },
  {
   "cell_type": "code",
   "execution_count": 324,
   "metadata": {},
   "outputs": [
    {
     "output_type": "stream",
     "name": "stderr",
     "text": [
      "100%|██████████| 213/213 [02:40<00:00,  1.32it/s]\n"
     ]
    }
   ],
   "source": [
    "tokens = set(single_trial['token'])\n",
    "token_2_mc = {}\n",
    "for token in tqdm(tokens):\n",
    "    token_2_mc[token] = get_tf(token)\n",
    "    time.sleep(0.001)"
   ]
  },
  {
   "cell_type": "code",
   "execution_count": 325,
   "metadata": {},
   "outputs": [],
   "source": [
    "google_ngram = single_trial['token'].apply(lambda x: token_2_mc[x]).to_numpy()"
   ]
  },
  {
   "source": [
    "# SFS"
   ],
   "cell_type": "markdown",
   "metadata": {}
  },
  {
   "cell_type": "code",
   "execution_count": 53,
   "metadata": {},
   "outputs": [],
   "source": [
    "multi_train = pd.read_csv('./data/'+job+'/multi_train_p.tsv', sep='\\t', index_col=0)\n",
    "multi_trial = pd.read_csv('./data/'+job+'/multi_trial_p.tsv', sep='\\t', index_col=0)\n",
    "multi_X = pkl.load(open('./data/pickle/discovery/multi_X.pkl', 'rb'))\n",
    "multi_train_feature_names = pkl.load(open('./data/pickle/discovery/multi_train_feature_names.pkl', 'rb'))\n",
    "multi_train_feature_name_2_idx = json.load(open('./data/pickle/discovery/multi_train_feature_name_2_idx.json', 'r'))\n",
    "multi_y = multi_train['complexity']"
   ]
  },
  {
   "cell_type": "code",
   "execution_count": 72,
   "metadata": {},
   "outputs": [],
   "source": [
    "picks = multi_train_feature_names[:20]\n",
    "col_idx = [multi_train_feature_name_2_idx[pick] for pick in picks]\n",
    "multi_X_picks = multi_X[:, col_idx]"
   ]
  },
  {
   "cell_type": "code",
   "execution_count": 70,
   "metadata": {},
   "outputs": [],
   "source": [
    "model = LinearRegression()\n",
    "sfs = SequentialFeatureSelector(model,\n",
    "    k_features=100,#should be 200, but got away with it\n",
    "    forward=True,\n",
    "    floating=False,\n",
    "    scoring='neg_mean_absolute_error',\n",
    "    verbose=2,\n",
    "    cv=list(custom_cv_folds(multi_train, n_splits=10)),\n",
    ")"
   ]
  },
  {
   "source": [
    "sfs.fit(multi_X_picks, multi_y)"
   ],
   "cell_type": "code",
   "metadata": {},
   "execution_count": 71,
   "outputs": [
    {
     "output_type": "stream",
     "name": "stderr",
     "text": [
      "[Parallel(n_jobs=1)]: Using backend SequentialBackend with 1 concurrent workers.\n",
      "[Parallel(n_jobs=1)]: Done   1 out of   1 | elapsed:    0.0s remaining:    0.0s\n",
      "[Parallel(n_jobs=1)]: Done 100 out of 100 | elapsed:    1.5s finished\n",
      "\n",
      "[2021-02-04 19:11:04] Features: 1/100 -- score: -0.0891318521863746[Parallel(n_jobs=1)]: Using backend SequentialBackend with 1 concurrent workers.\n",
      "[Parallel(n_jobs=1)]: Done   1 out of   1 | elapsed:    0.0s remaining:    0.0s\n",
      "[Parallel(n_jobs=1)]: Done  99 out of  99 | elapsed:    1.4s finished\n",
      "\n",
      "[2021-02-04 19:11:05] Features: 2/100 -- score: -0.08506158141729067[Parallel(n_jobs=1)]: Using backend SequentialBackend with 1 concurrent workers.\n",
      "[Parallel(n_jobs=1)]: Done   1 out of   1 | elapsed:    0.0s remaining:    0.0s\n",
      "[Parallel(n_jobs=1)]: Done  98 out of  98 | elapsed:    1.4s finished\n",
      "\n",
      "[2021-02-04 19:11:07] Features: 3/100 -- score: -0.08182291052913444[Parallel(n_jobs=1)]: Using backend SequentialBackend with 1 concurrent workers.\n",
      "[Parallel(n_jobs=1)]: Done   1 out of   1 | elapsed:    0.0s remaining:    0.0s\n",
      "[Parallel(n_jobs=1)]: Done  97 out of  97 | elapsed:    1.6s finished\n",
      "\n",
      "[2021-02-04 19:11:08] Features: 4/100 -- score: -0.08087952179190835[Parallel(n_jobs=1)]: Using backend SequentialBackend with 1 concurrent workers.\n",
      "[Parallel(n_jobs=1)]: Done   1 out of   1 | elapsed:    0.0s remaining:    0.0s\n",
      "[Parallel(n_jobs=1)]: Done  96 out of  96 | elapsed:    1.7s finished\n",
      "\n",
      "[2021-02-04 19:11:10] Features: 5/100 -- score: -0.08016308853609629[Parallel(n_jobs=1)]: Using backend SequentialBackend with 1 concurrent workers.\n",
      "[Parallel(n_jobs=1)]: Done   1 out of   1 | elapsed:    0.0s remaining:    0.0s\n",
      "[Parallel(n_jobs=1)]: Done  95 out of  95 | elapsed:    1.7s finished\n",
      "\n",
      "[2021-02-04 19:11:12] Features: 6/100 -- score: -0.07956679835298876[Parallel(n_jobs=1)]: Using backend SequentialBackend with 1 concurrent workers.\n",
      "[Parallel(n_jobs=1)]: Done   1 out of   1 | elapsed:    0.0s remaining:    0.0s\n",
      "[Parallel(n_jobs=1)]: Done  94 out of  94 | elapsed:    1.9s finished\n",
      "\n",
      "[2021-02-04 19:11:14] Features: 7/100 -- score: -0.07921381766813507[Parallel(n_jobs=1)]: Using backend SequentialBackend with 1 concurrent workers.\n",
      "[Parallel(n_jobs=1)]: Done   1 out of   1 | elapsed:    0.0s remaining:    0.0s\n",
      "[Parallel(n_jobs=1)]: Done  93 out of  93 | elapsed:    1.9s finished\n",
      "\n",
      "[2021-02-04 19:11:16] Features: 8/100 -- score: -0.0789149244638848[Parallel(n_jobs=1)]: Using backend SequentialBackend with 1 concurrent workers.\n",
      "[Parallel(n_jobs=1)]: Done   1 out of   1 | elapsed:    0.0s remaining:    0.0s\n",
      "[Parallel(n_jobs=1)]: Done  92 out of  92 | elapsed:    2.3s finished\n",
      "\n",
      "[2021-02-04 19:11:18] Features: 9/100 -- score: -0.07854933614722295[Parallel(n_jobs=1)]: Using backend SequentialBackend with 1 concurrent workers.\n",
      "[Parallel(n_jobs=1)]: Done   1 out of   1 | elapsed:    0.0s remaining:    0.0s\n",
      "[Parallel(n_jobs=1)]: Done  91 out of  91 | elapsed:    1.6s finished\n",
      "\n",
      "[2021-02-04 19:11:19] Features: 10/100 -- score: -0.07827034737385423[Parallel(n_jobs=1)]: Using backend SequentialBackend with 1 concurrent workers.\n",
      "[Parallel(n_jobs=1)]: Done   1 out of   1 | elapsed:    0.0s remaining:    0.0s\n",
      "[Parallel(n_jobs=1)]: Done  90 out of  90 | elapsed:    2.2s finished\n",
      "\n",
      "[2021-02-04 19:11:22] Features: 11/100 -- score: -0.07808317483756907[Parallel(n_jobs=1)]: Using backend SequentialBackend with 1 concurrent workers.\n",
      "[Parallel(n_jobs=1)]: Done   1 out of   1 | elapsed:    0.0s remaining:    0.0s\n",
      "[Parallel(n_jobs=1)]: Done  89 out of  89 | elapsed:    2.8s finished\n",
      "\n",
      "[2021-02-04 19:11:25] Features: 12/100 -- score: -0.07786283534801668[Parallel(n_jobs=1)]: Using backend SequentialBackend with 1 concurrent workers.\n",
      "[Parallel(n_jobs=1)]: Done   1 out of   1 | elapsed:    0.0s remaining:    0.0s\n",
      "[Parallel(n_jobs=1)]: Done  88 out of  88 | elapsed:    1.5s finished\n",
      "\n",
      "[2021-02-04 19:11:26] Features: 13/100 -- score: -0.07775494454907048[Parallel(n_jobs=1)]: Using backend SequentialBackend with 1 concurrent workers.\n",
      "[Parallel(n_jobs=1)]: Done   1 out of   1 | elapsed:    0.0s remaining:    0.0s\n",
      "[Parallel(n_jobs=1)]: Done  87 out of  87 | elapsed:    1.5s finished\n",
      "\n",
      "[2021-02-04 19:11:27] Features: 14/100 -- score: -0.07770042103018993[Parallel(n_jobs=1)]: Using backend SequentialBackend with 1 concurrent workers.\n",
      "[Parallel(n_jobs=1)]: Done   1 out of   1 | elapsed:    0.0s remaining:    0.0s\n",
      "[Parallel(n_jobs=1)]: Done  86 out of  86 | elapsed:    2.6s finished\n",
      "\n",
      "[2021-02-04 19:11:30] Features: 15/100 -- score: -0.0776498609096693[Parallel(n_jobs=1)]: Using backend SequentialBackend with 1 concurrent workers.\n",
      "[Parallel(n_jobs=1)]: Done   1 out of   1 | elapsed:    0.1s remaining:    0.0s\n",
      "[Parallel(n_jobs=1)]: Done  85 out of  85 | elapsed:    2.7s finished\n",
      "\n",
      "[2021-02-04 19:11:33] Features: 16/100 -- score: -0.07761731153645908[Parallel(n_jobs=1)]: Using backend SequentialBackend with 1 concurrent workers.\n",
      "[Parallel(n_jobs=1)]: Done   1 out of   1 | elapsed:    0.0s remaining:    0.0s\n",
      "[Parallel(n_jobs=1)]: Done  84 out of  84 | elapsed:    1.8s finished\n",
      "\n",
      "[2021-02-04 19:11:35] Features: 17/100 -- score: -0.07758576847571547[Parallel(n_jobs=1)]: Using backend SequentialBackend with 1 concurrent workers.\n",
      "[Parallel(n_jobs=1)]: Done   1 out of   1 | elapsed:    0.0s remaining:    0.0s\n",
      "[Parallel(n_jobs=1)]: Done  83 out of  83 | elapsed:    1.9s finished\n",
      "\n",
      "[2021-02-04 19:11:37] Features: 18/100 -- score: -0.07754920755784797[Parallel(n_jobs=1)]: Using backend SequentialBackend with 1 concurrent workers.\n",
      "[Parallel(n_jobs=1)]: Done   1 out of   1 | elapsed:    0.0s remaining:    0.0s\n",
      "[Parallel(n_jobs=1)]: Done  82 out of  82 | elapsed:    1.6s finished\n",
      "\n",
      "[2021-02-04 19:11:38] Features: 19/100 -- score: -0.07754920755751896[Parallel(n_jobs=1)]: Using backend SequentialBackend with 1 concurrent workers.\n",
      "[Parallel(n_jobs=1)]: Done   1 out of   1 | elapsed:    0.0s remaining:    0.0s\n",
      "[Parallel(n_jobs=1)]: Done  81 out of  81 | elapsed:    1.8s finished\n",
      "\n",
      "[2021-02-04 19:11:40] Features: 20/100 -- score: -0.07755216862944939[Parallel(n_jobs=1)]: Using backend SequentialBackend with 1 concurrent workers.\n",
      "[Parallel(n_jobs=1)]: Done   1 out of   1 | elapsed:    0.0s remaining:    0.0s\n",
      "[Parallel(n_jobs=1)]: Done  80 out of  80 | elapsed:    1.7s finished\n",
      "\n",
      "[2021-02-04 19:11:42] Features: 21/100 -- score: -0.07754256139443863[Parallel(n_jobs=1)]: Using backend SequentialBackend with 1 concurrent workers.\n",
      "[Parallel(n_jobs=1)]: Done   1 out of   1 | elapsed:    0.0s remaining:    0.0s\n",
      "[Parallel(n_jobs=1)]: Done  79 out of  79 | elapsed:    1.6s finished\n",
      "\n",
      "[2021-02-04 19:11:43] Features: 22/100 -- score: -0.07753614192873479[Parallel(n_jobs=1)]: Using backend SequentialBackend with 1 concurrent workers.\n",
      "[Parallel(n_jobs=1)]: Done   1 out of   1 | elapsed:    0.0s remaining:    0.0s\n",
      "[Parallel(n_jobs=1)]: Done  78 out of  78 | elapsed:    1.6s finished\n",
      "\n",
      "[2021-02-04 19:11:45] Features: 23/100 -- score: -0.07751661230219788[Parallel(n_jobs=1)]: Using backend SequentialBackend with 1 concurrent workers.\n",
      "[Parallel(n_jobs=1)]: Done   1 out of   1 | elapsed:    0.0s remaining:    0.0s\n",
      "[Parallel(n_jobs=1)]: Done  77 out of  77 | elapsed:    1.7s finished\n",
      "\n",
      "[2021-02-04 19:11:47] Features: 24/100 -- score: -0.07751791404680483[Parallel(n_jobs=1)]: Using backend SequentialBackend with 1 concurrent workers.\n",
      "[Parallel(n_jobs=1)]: Done   1 out of   1 | elapsed:    0.0s remaining:    0.0s\n",
      "[Parallel(n_jobs=1)]: Done  76 out of  76 | elapsed:    1.7s finished\n",
      "\n",
      "[2021-02-04 19:11:48] Features: 25/100 -- score: -0.07747584922154024[Parallel(n_jobs=1)]: Using backend SequentialBackend with 1 concurrent workers.\n",
      "[Parallel(n_jobs=1)]: Done   1 out of   1 | elapsed:    0.0s remaining:    0.0s\n",
      "[Parallel(n_jobs=1)]: Done  75 out of  75 | elapsed:    1.7s finished\n",
      "\n",
      "[2021-02-04 19:11:50] Features: 26/100 -- score: -0.07745282553963047[Parallel(n_jobs=1)]: Using backend SequentialBackend with 1 concurrent workers.\n",
      "[Parallel(n_jobs=1)]: Done   1 out of   1 | elapsed:    0.0s remaining:    0.0s\n",
      "[Parallel(n_jobs=1)]: Done  74 out of  74 | elapsed:    1.7s finished\n",
      "\n",
      "[2021-02-04 19:11:52] Features: 27/100 -- score: -0.07745885772516801[Parallel(n_jobs=1)]: Using backend SequentialBackend with 1 concurrent workers.\n",
      "[Parallel(n_jobs=1)]: Done   1 out of   1 | elapsed:    0.0s remaining:    0.0s\n",
      "[Parallel(n_jobs=1)]: Done  73 out of  73 | elapsed:    1.8s finished\n",
      "\n",
      "[2021-02-04 19:11:54] Features: 28/100 -- score: -0.07744178982762646[Parallel(n_jobs=1)]: Using backend SequentialBackend with 1 concurrent workers.\n",
      "[Parallel(n_jobs=1)]: Done   1 out of   1 | elapsed:    0.0s remaining:    0.0s\n",
      "[Parallel(n_jobs=1)]: Done  72 out of  72 | elapsed:    1.7s finished\n",
      "\n",
      "[2021-02-04 19:11:55] Features: 29/100 -- score: -0.07743277378859521[Parallel(n_jobs=1)]: Using backend SequentialBackend with 1 concurrent workers.\n",
      "[Parallel(n_jobs=1)]: Done   1 out of   1 | elapsed:    0.0s remaining:    0.0s\n",
      "[Parallel(n_jobs=1)]: Done  71 out of  71 | elapsed:    1.7s finished\n",
      "\n",
      "[2021-02-04 19:11:57] Features: 30/100 -- score: -0.07744846772542974[Parallel(n_jobs=1)]: Using backend SequentialBackend with 1 concurrent workers.\n",
      "[Parallel(n_jobs=1)]: Done   1 out of   1 | elapsed:    0.0s remaining:    0.0s\n",
      "[Parallel(n_jobs=1)]: Done  70 out of  70 | elapsed:    2.4s finished\n",
      "\n",
      "[2021-02-04 19:11:59] Features: 31/100 -- score: -0.07745075988843857[Parallel(n_jobs=1)]: Using backend SequentialBackend with 1 concurrent workers.\n",
      "[Parallel(n_jobs=1)]: Done   1 out of   1 | elapsed:    0.0s remaining:    0.0s\n",
      "[Parallel(n_jobs=1)]: Done  69 out of  69 | elapsed:    2.3s finished\n",
      "\n",
      "[2021-02-04 19:12:02] Features: 32/100 -- score: -0.07746527812854925[Parallel(n_jobs=1)]: Using backend SequentialBackend with 1 concurrent workers.\n",
      "[Parallel(n_jobs=1)]: Done   1 out of   1 | elapsed:    0.0s remaining:    0.0s\n",
      "[Parallel(n_jobs=1)]: Done  68 out of  68 | elapsed:    1.7s finished\n",
      "\n",
      "[2021-02-04 19:12:03] Features: 33/100 -- score: -0.07747575199535164[Parallel(n_jobs=1)]: Using backend SequentialBackend with 1 concurrent workers.\n",
      "[Parallel(n_jobs=1)]: Done   1 out of   1 | elapsed:    0.0s remaining:    0.0s\n",
      "[Parallel(n_jobs=1)]: Done  67 out of  67 | elapsed:    2.1s finished\n",
      "\n",
      "[2021-02-04 19:12:05] Features: 34/100 -- score: -0.07747052194698505[Parallel(n_jobs=1)]: Using backend SequentialBackend with 1 concurrent workers.\n",
      "[Parallel(n_jobs=1)]: Done   1 out of   1 | elapsed:    0.1s remaining:    0.0s\n",
      "[Parallel(n_jobs=1)]: Done  66 out of  66 | elapsed:    2.9s finished\n",
      "\n",
      "[2021-02-04 19:12:08] Features: 35/100 -- score: -0.07746230658302172[Parallel(n_jobs=1)]: Using backend SequentialBackend with 1 concurrent workers.\n",
      "[Parallel(n_jobs=1)]: Done   1 out of   1 | elapsed:    0.0s remaining:    0.0s\n",
      "[Parallel(n_jobs=1)]: Done  65 out of  65 | elapsed:    1.8s finished\n",
      "\n",
      "[2021-02-04 19:12:10] Features: 36/100 -- score: -0.07745866230822145[Parallel(n_jobs=1)]: Using backend SequentialBackend with 1 concurrent workers.\n",
      "[Parallel(n_jobs=1)]: Done   1 out of   1 | elapsed:    0.0s remaining:    0.0s\n",
      "[Parallel(n_jobs=1)]: Done  64 out of  64 | elapsed:    1.7s finished\n",
      "\n",
      "[2021-02-04 19:12:12] Features: 37/100 -- score: -0.07725257588997841[Parallel(n_jobs=1)]: Using backend SequentialBackend with 1 concurrent workers.\n",
      "[Parallel(n_jobs=1)]: Done   1 out of   1 | elapsed:    0.0s remaining:    0.0s\n",
      "[Parallel(n_jobs=1)]: Done  63 out of  63 | elapsed:    1.9s finished\n",
      "\n",
      "[2021-02-04 19:12:14] Features: 38/100 -- score: -0.07721169447104377[Parallel(n_jobs=1)]: Using backend SequentialBackend with 1 concurrent workers.\n",
      "[Parallel(n_jobs=1)]: Done   1 out of   1 | elapsed:    0.0s remaining:    0.0s\n",
      "[Parallel(n_jobs=1)]: Done  62 out of  62 | elapsed:    1.9s finished\n",
      "\n",
      "[2021-02-04 19:12:16] Features: 39/100 -- score: -0.07717205088695525[Parallel(n_jobs=1)]: Using backend SequentialBackend with 1 concurrent workers.\n",
      "[Parallel(n_jobs=1)]: Done   1 out of   1 | elapsed:    0.0s remaining:    0.0s\n",
      "[Parallel(n_jobs=1)]: Done  61 out of  61 | elapsed:    2.2s finished\n",
      "\n",
      "[2021-02-04 19:12:18] Features: 40/100 -- score: -0.07711846154193831[Parallel(n_jobs=1)]: Using backend SequentialBackend with 1 concurrent workers.\n",
      "[Parallel(n_jobs=1)]: Done   1 out of   1 | elapsed:    0.0s remaining:    0.0s\n",
      "[Parallel(n_jobs=1)]: Done  60 out of  60 | elapsed:    1.8s finished\n",
      "\n",
      "[2021-02-04 19:12:20] Features: 41/100 -- score: -0.07711846154202845[Parallel(n_jobs=1)]: Using backend SequentialBackend with 1 concurrent workers.\n",
      "[Parallel(n_jobs=1)]: Done   1 out of   1 | elapsed:    0.0s remaining:    0.0s\n",
      "[Parallel(n_jobs=1)]: Done  59 out of  59 | elapsed:    2.1s finished\n",
      "\n",
      "[2021-02-04 19:12:22] Features: 42/100 -- score: -0.07713711514299892[Parallel(n_jobs=1)]: Using backend SequentialBackend with 1 concurrent workers.\n",
      "[Parallel(n_jobs=1)]: Done   1 out of   1 | elapsed:    0.0s remaining:    0.0s\n",
      "[Parallel(n_jobs=1)]: Done  58 out of  58 | elapsed:    1.9s finished\n",
      "\n",
      "[2021-02-04 19:12:24] Features: 43/100 -- score: -0.07715511172294251[Parallel(n_jobs=1)]: Using backend SequentialBackend with 1 concurrent workers.\n",
      "[Parallel(n_jobs=1)]: Done   1 out of   1 | elapsed:    0.0s remaining:    0.0s\n",
      "[Parallel(n_jobs=1)]: Done  57 out of  57 | elapsed:    1.9s finished\n",
      "\n",
      "[2021-02-04 19:12:26] Features: 44/100 -- score: -0.07718067052671675[Parallel(n_jobs=1)]: Using backend SequentialBackend with 1 concurrent workers.\n",
      "[Parallel(n_jobs=1)]: Done   1 out of   1 | elapsed:    0.0s remaining:    0.0s\n",
      "[Parallel(n_jobs=1)]: Done  56 out of  56 | elapsed:    2.5s finished\n",
      "\n",
      "[2021-02-04 19:12:28] Features: 45/100 -- score: -0.0771758405098456[Parallel(n_jobs=1)]: Using backend SequentialBackend with 1 concurrent workers.\n",
      "[Parallel(n_jobs=1)]: Done   1 out of   1 | elapsed:    0.0s remaining:    0.0s\n",
      "[Parallel(n_jobs=1)]: Done  55 out of  55 | elapsed:    2.2s finished\n",
      "\n",
      "[2021-02-04 19:12:30] Features: 46/100 -- score: -0.07717079756650917[Parallel(n_jobs=1)]: Using backend SequentialBackend with 1 concurrent workers.\n",
      "[Parallel(n_jobs=1)]: Done   1 out of   1 | elapsed:    0.0s remaining:    0.0s\n",
      "[Parallel(n_jobs=1)]: Done  54 out of  54 | elapsed:    2.0s finished\n",
      "\n",
      "[2021-02-04 19:12:32] Features: 47/100 -- score: -0.077170797566778[Parallel(n_jobs=1)]: Using backend SequentialBackend with 1 concurrent workers.\n",
      "[Parallel(n_jobs=1)]: Done   1 out of   1 | elapsed:    0.0s remaining:    0.0s\n",
      "[Parallel(n_jobs=1)]: Done  53 out of  53 | elapsed:    2.3s finished\n",
      "\n",
      "[2021-02-04 19:12:35] Features: 48/100 -- score: -0.07719981733514057[Parallel(n_jobs=1)]: Using backend SequentialBackend with 1 concurrent workers.\n",
      "[Parallel(n_jobs=1)]: Done   1 out of   1 | elapsed:    0.0s remaining:    0.0s\n",
      "[Parallel(n_jobs=1)]: Done  52 out of  52 | elapsed:    2.1s finished\n",
      "\n",
      "[2021-02-04 19:12:37] Features: 49/100 -- score: -0.07716562266251056[Parallel(n_jobs=1)]: Using backend SequentialBackend with 1 concurrent workers.\n",
      "[Parallel(n_jobs=1)]: Done   1 out of   1 | elapsed:    0.0s remaining:    0.0s\n",
      "[Parallel(n_jobs=1)]: Done  51 out of  51 | elapsed:    2.4s finished\n",
      "\n",
      "[2021-02-04 19:12:39] Features: 50/100 -- score: -0.07717857078314709[Parallel(n_jobs=1)]: Using backend SequentialBackend with 1 concurrent workers.\n",
      "[Parallel(n_jobs=1)]: Done   1 out of   1 | elapsed:    0.0s remaining:    0.0s\n",
      "[Parallel(n_jobs=1)]: Done  50 out of  50 | elapsed:    2.4s finished\n",
      "\n",
      "[2021-02-04 19:12:41] Features: 51/100 -- score: -0.07705347023871746[Parallel(n_jobs=1)]: Using backend SequentialBackend with 1 concurrent workers.\n",
      "[Parallel(n_jobs=1)]: Done   1 out of   1 | elapsed:    0.0s remaining:    0.0s\n",
      "[Parallel(n_jobs=1)]: Done  49 out of  49 | elapsed:    2.4s finished\n",
      "\n",
      "[2021-02-04 19:12:44] Features: 52/100 -- score: -0.07707474524888779[Parallel(n_jobs=1)]: Using backend SequentialBackend with 1 concurrent workers.\n",
      "[Parallel(n_jobs=1)]: Done   1 out of   1 | elapsed:    0.0s remaining:    0.0s\n",
      "[Parallel(n_jobs=1)]: Done  48 out of  48 | elapsed:    2.4s finished\n",
      "\n",
      "[2021-02-04 19:12:46] Features: 53/100 -- score: -0.07707474524251792[Parallel(n_jobs=1)]: Using backend SequentialBackend with 1 concurrent workers.\n",
      "[Parallel(n_jobs=1)]: Done   1 out of   1 | elapsed:    0.1s remaining:    0.0s\n",
      "[Parallel(n_jobs=1)]: Done  47 out of  47 | elapsed:    2.4s finished\n",
      "\n",
      "[2021-02-04 19:12:49] Features: 54/100 -- score: -0.07709891301267588[Parallel(n_jobs=1)]: Using backend SequentialBackend with 1 concurrent workers.\n",
      "[Parallel(n_jobs=1)]: Done   1 out of   1 | elapsed:    0.0s remaining:    0.0s\n",
      "[Parallel(n_jobs=1)]: Done  46 out of  46 | elapsed:    1.9s finished\n",
      "\n",
      "[2021-02-04 19:12:51] Features: 55/100 -- score: -0.07711563332866786[Parallel(n_jobs=1)]: Using backend SequentialBackend with 1 concurrent workers.\n",
      "[Parallel(n_jobs=1)]: Done   1 out of   1 | elapsed:    0.0s remaining:    0.0s\n",
      "[Parallel(n_jobs=1)]: Done  45 out of  45 | elapsed:    2.3s finished\n",
      "\n",
      "[2021-02-04 19:12:53] Features: 56/100 -- score: -0.07716961050268707[Parallel(n_jobs=1)]: Using backend SequentialBackend with 1 concurrent workers.\n",
      "[Parallel(n_jobs=1)]: Done   1 out of   1 | elapsed:    0.0s remaining:    0.0s\n",
      "[Parallel(n_jobs=1)]: Done  44 out of  44 | elapsed:    3.0s finished\n",
      "\n",
      "[2021-02-04 19:12:56] Features: 57/100 -- score: -0.07722415816216203[Parallel(n_jobs=1)]: Using backend SequentialBackend with 1 concurrent workers.\n",
      "[Parallel(n_jobs=1)]: Done   1 out of   1 | elapsed:    0.1s remaining:    0.0s\n",
      "\n",
      "STOPPING EARLY DUE TO KEYBOARD INTERRUPT..."
     ]
    },
    {
     "output_type": "execute_result",
     "data": {
      "text/plain": [
       "SequentialFeatureSelector(cv=[(array([1151,  976,  734, ..., 1058,   97,  305]),\n",
       "                               array([1009,  914, 1005,   96,  839,  104, 1051,  624, 1348,  217,  614,\n",
       "       1318,  891,  953,  236,  853, 1512,  724,  364,  819, 1450,  306,\n",
       "        801,  100,   73, 1260,  232,  324, 1496,  440,  945, 1233, 1213,\n",
       "       1337, 1131,  688, 1157,   75,  782,   49,  283,  122,  477, 1340,\n",
       "        521, 1182,  412,  442, 1489,  396,  239,  203,  654,  353, 1219,\n",
       "        739, 1176,  555,  632,   27,  866,  823,  727, 1349, 104...\n",
       "       1026,  714, 1440,  527,  903,  258,  715, 1488,   32,  664,  859,\n",
       "        221,  782,  600,  459,  851,  755,  158,  434,   13,  213, 1371,\n",
       "       1118,  135, 1017,  216, 1162, 1494, 1019, 1054, 1140,  259, 1358,\n",
       "       1286,  712,  117,   28,  684,  431,  370,  871, 1369,  408, 1335,\n",
       "        240,    2, 1350, 1239,   42,  980,  497,  647,  289,  533,  596,\n",
       "       1070,  738,  299,  246,  550, 1205, 1020,  869,  311]))],\n",
       "                          estimator=LinearRegression(), k_features=100,\n",
       "                          scoring='neg_mean_absolute_error', verbose=2)"
      ]
     },
     "metadata": {},
     "execution_count": 71
    }
   ]
  },
  {
   "cell_type": "code",
   "execution_count": 45,
   "metadata": {},
   "outputs": [],
   "source": [
    "result = []\n",
    "for item in sfs.subsets_.values():\n",
    "    result.append(item['avg_score'])"
   ]
  },
  {
   "cell_type": "code",
   "execution_count": 39,
   "metadata": {},
   "outputs": [
    {
     "output_type": "execute_result",
     "data": {
      "text/plain": [
       "[<matplotlib.lines.Line2D at 0x130cf52e0>]"
      ]
     },
     "metadata": {},
     "execution_count": 39
    },
    {
     "output_type": "display_data",
     "data": {
      "text/plain": "<Figure size 432x288 with 1 Axes>",
      "image/svg+xml": "<?xml version=\"1.0\" encoding=\"utf-8\" standalone=\"no\"?>\n<!DOCTYPE svg PUBLIC \"-//W3C//DTD SVG 1.1//EN\"\n  \"http://www.w3.org/Graphics/SVG/1.1/DTD/svg11.dtd\">\n<!-- Created with matplotlib (https://matplotlib.org/) -->\n<svg height=\"248.518125pt\" version=\"1.1\" viewBox=\"0 0 378.465625 248.518125\" width=\"378.465625pt\" xmlns=\"http://www.w3.org/2000/svg\" xmlns:xlink=\"http://www.w3.org/1999/xlink\">\n <metadata>\n  <rdf:RDF xmlns:cc=\"http://creativecommons.org/ns#\" xmlns:dc=\"http://purl.org/dc/elements/1.1/\" xmlns:rdf=\"http://www.w3.org/1999/02/22-rdf-syntax-ns#\">\n   <cc:Work>\n    <dc:type rdf:resource=\"http://purl.org/dc/dcmitype/StillImage\"/>\n    <dc:date>2021-02-03T01:02:14.981560</dc:date>\n    <dc:format>image/svg+xml</dc:format>\n    <dc:creator>\n     <cc:Agent>\n      <dc:title>Matplotlib v3.3.4, https://matplotlib.org/</dc:title>\n     </cc:Agent>\n    </dc:creator>\n   </cc:Work>\n  </rdf:RDF>\n </metadata>\n <defs>\n  <style type=\"text/css\">*{stroke-linecap:butt;stroke-linejoin:round;}</style>\n </defs>\n <g id=\"figure_1\">\n  <g id=\"patch_1\">\n   <path d=\"M 0 248.518125 \nL 378.465625 248.518125 \nL 378.465625 0 \nL 0 0 \nz\n\" style=\"fill:none;\"/>\n  </g>\n  <g id=\"axes_1\">\n   <g id=\"patch_2\">\n    <path d=\"M 36.465625 224.64 \nL 371.265625 224.64 \nL 371.265625 7.2 \nL 36.465625 7.2 \nz\n\" style=\"fill:#ffffff;\"/>\n   </g>\n   <g id=\"matplotlib.axis_1\">\n    <g id=\"xtick_1\">\n     <g id=\"line2d_1\">\n      <defs>\n       <path d=\"M 0 0 \nL 0 3.5 \n\" id=\"m691cf91178\" style=\"stroke:#000000;stroke-width:0.8;\"/>\n      </defs>\n      <g>\n       <use style=\"stroke:#000000;stroke-width:0.8;\" x=\"48.103058\" xlink:href=\"#m691cf91178\" y=\"224.64\"/>\n      </g>\n     </g>\n     <g id=\"text_1\">\n      <!-- 0 -->\n      <g transform=\"translate(44.921808 239.238437)scale(0.1 -0.1)\">\n       <defs>\n        <path d=\"M 31.78125 66.40625 \nQ 24.171875 66.40625 20.328125 58.90625 \nQ 16.5 51.421875 16.5 36.375 \nQ 16.5 21.390625 20.328125 13.890625 \nQ 24.171875 6.390625 31.78125 6.390625 \nQ 39.453125 6.390625 43.28125 13.890625 \nQ 47.125 21.390625 47.125 36.375 \nQ 47.125 51.421875 43.28125 58.90625 \nQ 39.453125 66.40625 31.78125 66.40625 \nz\nM 31.78125 74.21875 \nQ 44.046875 74.21875 50.515625 64.515625 \nQ 56.984375 54.828125 56.984375 36.375 \nQ 56.984375 17.96875 50.515625 8.265625 \nQ 44.046875 -1.421875 31.78125 -1.421875 \nQ 19.53125 -1.421875 13.0625 8.265625 \nQ 6.59375 17.96875 6.59375 36.375 \nQ 6.59375 54.828125 13.0625 64.515625 \nQ 19.53125 74.21875 31.78125 74.21875 \nz\n\" id=\"DejaVuSans-48\"/>\n       </defs>\n       <use xlink:href=\"#DejaVuSans-48\"/>\n      </g>\n     </g>\n    </g>\n    <g id=\"xtick_2\">\n     <g id=\"line2d_2\">\n      <g>\n       <use style=\"stroke:#000000;stroke-width:0.8;\" x=\"119.718031\" xlink:href=\"#m691cf91178\" y=\"224.64\"/>\n      </g>\n     </g>\n     <g id=\"text_2\">\n      <!-- 20 -->\n      <g transform=\"translate(113.355531 239.238437)scale(0.1 -0.1)\">\n       <defs>\n        <path d=\"M 19.1875 8.296875 \nL 53.609375 8.296875 \nL 53.609375 0 \nL 7.328125 0 \nL 7.328125 8.296875 \nQ 12.9375 14.109375 22.625 23.890625 \nQ 32.328125 33.6875 34.8125 36.53125 \nQ 39.546875 41.84375 41.421875 45.53125 \nQ 43.3125 49.21875 43.3125 52.78125 \nQ 43.3125 58.59375 39.234375 62.25 \nQ 35.15625 65.921875 28.609375 65.921875 \nQ 23.96875 65.921875 18.8125 64.3125 \nQ 13.671875 62.703125 7.8125 59.421875 \nL 7.8125 69.390625 \nQ 13.765625 71.78125 18.9375 73 \nQ 24.125 74.21875 28.421875 74.21875 \nQ 39.75 74.21875 46.484375 68.546875 \nQ 53.21875 62.890625 53.21875 53.421875 \nQ 53.21875 48.921875 51.53125 44.890625 \nQ 49.859375 40.875 45.40625 35.40625 \nQ 44.1875 33.984375 37.640625 27.21875 \nQ 31.109375 20.453125 19.1875 8.296875 \nz\n\" id=\"DejaVuSans-50\"/>\n       </defs>\n       <use xlink:href=\"#DejaVuSans-50\"/>\n       <use x=\"63.623047\" xlink:href=\"#DejaVuSans-48\"/>\n      </g>\n     </g>\n    </g>\n    <g id=\"xtick_3\">\n     <g id=\"line2d_3\">\n      <g>\n       <use style=\"stroke:#000000;stroke-width:0.8;\" x=\"191.333005\" xlink:href=\"#m691cf91178\" y=\"224.64\"/>\n      </g>\n     </g>\n     <g id=\"text_3\">\n      <!-- 40 -->\n      <g transform=\"translate(184.970505 239.238437)scale(0.1 -0.1)\">\n       <defs>\n        <path d=\"M 37.796875 64.3125 \nL 12.890625 25.390625 \nL 37.796875 25.390625 \nz\nM 35.203125 72.90625 \nL 47.609375 72.90625 \nL 47.609375 25.390625 \nL 58.015625 25.390625 \nL 58.015625 17.1875 \nL 47.609375 17.1875 \nL 47.609375 0 \nL 37.796875 0 \nL 37.796875 17.1875 \nL 4.890625 17.1875 \nL 4.890625 26.703125 \nz\n\" id=\"DejaVuSans-52\"/>\n       </defs>\n       <use xlink:href=\"#DejaVuSans-52\"/>\n       <use x=\"63.623047\" xlink:href=\"#DejaVuSans-48\"/>\n      </g>\n     </g>\n    </g>\n    <g id=\"xtick_4\">\n     <g id=\"line2d_4\">\n      <g>\n       <use style=\"stroke:#000000;stroke-width:0.8;\" x=\"262.947978\" xlink:href=\"#m691cf91178\" y=\"224.64\"/>\n      </g>\n     </g>\n     <g id=\"text_4\">\n      <!-- 60 -->\n      <g transform=\"translate(256.585478 239.238437)scale(0.1 -0.1)\">\n       <defs>\n        <path d=\"M 33.015625 40.375 \nQ 26.375 40.375 22.484375 35.828125 \nQ 18.609375 31.296875 18.609375 23.390625 \nQ 18.609375 15.53125 22.484375 10.953125 \nQ 26.375 6.390625 33.015625 6.390625 \nQ 39.65625 6.390625 43.53125 10.953125 \nQ 47.40625 15.53125 47.40625 23.390625 \nQ 47.40625 31.296875 43.53125 35.828125 \nQ 39.65625 40.375 33.015625 40.375 \nz\nM 52.59375 71.296875 \nL 52.59375 62.3125 \nQ 48.875 64.0625 45.09375 64.984375 \nQ 41.3125 65.921875 37.59375 65.921875 \nQ 27.828125 65.921875 22.671875 59.328125 \nQ 17.53125 52.734375 16.796875 39.40625 \nQ 19.671875 43.65625 24.015625 45.921875 \nQ 28.375 48.1875 33.59375 48.1875 \nQ 44.578125 48.1875 50.953125 41.515625 \nQ 57.328125 34.859375 57.328125 23.390625 \nQ 57.328125 12.15625 50.6875 5.359375 \nQ 44.046875 -1.421875 33.015625 -1.421875 \nQ 20.359375 -1.421875 13.671875 8.265625 \nQ 6.984375 17.96875 6.984375 36.375 \nQ 6.984375 53.65625 15.1875 63.9375 \nQ 23.390625 74.21875 37.203125 74.21875 \nQ 40.921875 74.21875 44.703125 73.484375 \nQ 48.484375 72.75 52.59375 71.296875 \nz\n\" id=\"DejaVuSans-54\"/>\n       </defs>\n       <use xlink:href=\"#DejaVuSans-54\"/>\n       <use x=\"63.623047\" xlink:href=\"#DejaVuSans-48\"/>\n      </g>\n     </g>\n    </g>\n    <g id=\"xtick_5\">\n     <g id=\"line2d_5\">\n      <g>\n       <use style=\"stroke:#000000;stroke-width:0.8;\" x=\"334.562951\" xlink:href=\"#m691cf91178\" y=\"224.64\"/>\n      </g>\n     </g>\n     <g id=\"text_5\">\n      <!-- 80 -->\n      <g transform=\"translate(328.200451 239.238437)scale(0.1 -0.1)\">\n       <defs>\n        <path d=\"M 31.78125 34.625 \nQ 24.75 34.625 20.71875 30.859375 \nQ 16.703125 27.09375 16.703125 20.515625 \nQ 16.703125 13.921875 20.71875 10.15625 \nQ 24.75 6.390625 31.78125 6.390625 \nQ 38.8125 6.390625 42.859375 10.171875 \nQ 46.921875 13.96875 46.921875 20.515625 \nQ 46.921875 27.09375 42.890625 30.859375 \nQ 38.875 34.625 31.78125 34.625 \nz\nM 21.921875 38.8125 \nQ 15.578125 40.375 12.03125 44.71875 \nQ 8.5 49.078125 8.5 55.328125 \nQ 8.5 64.0625 14.71875 69.140625 \nQ 20.953125 74.21875 31.78125 74.21875 \nQ 42.671875 74.21875 48.875 69.140625 \nQ 55.078125 64.0625 55.078125 55.328125 \nQ 55.078125 49.078125 51.53125 44.71875 \nQ 48 40.375 41.703125 38.8125 \nQ 48.828125 37.15625 52.796875 32.3125 \nQ 56.78125 27.484375 56.78125 20.515625 \nQ 56.78125 9.90625 50.3125 4.234375 \nQ 43.84375 -1.421875 31.78125 -1.421875 \nQ 19.734375 -1.421875 13.25 4.234375 \nQ 6.78125 9.90625 6.78125 20.515625 \nQ 6.78125 27.484375 10.78125 32.3125 \nQ 14.796875 37.15625 21.921875 38.8125 \nz\nM 18.3125 54.390625 \nQ 18.3125 48.734375 21.84375 45.5625 \nQ 25.390625 42.390625 31.78125 42.390625 \nQ 38.140625 42.390625 41.71875 45.5625 \nQ 45.3125 48.734375 45.3125 54.390625 \nQ 45.3125 60.0625 41.71875 63.234375 \nQ 38.140625 66.40625 31.78125 66.40625 \nQ 25.390625 66.40625 21.84375 63.234375 \nQ 18.3125 60.0625 18.3125 54.390625 \nz\n\" id=\"DejaVuSans-56\"/>\n       </defs>\n       <use xlink:href=\"#DejaVuSans-56\"/>\n       <use x=\"63.623047\" xlink:href=\"#DejaVuSans-48\"/>\n      </g>\n     </g>\n    </g>\n   </g>\n   <g id=\"matplotlib.axis_2\">\n    <g id=\"ytick_1\">\n     <g id=\"line2d_6\">\n      <defs>\n       <path d=\"M 0 0 \nL -3.5 0 \n\" id=\"ma35f3d6fbb\" style=\"stroke:#000000;stroke-width:0.8;\"/>\n      </defs>\n      <g>\n       <use style=\"stroke:#000000;stroke-width:0.8;\" x=\"36.465625\" xlink:href=\"#ma35f3d6fbb\" y=\"207.026127\"/>\n      </g>\n     </g>\n     <g id=\"text_6\">\n      <!-- 0.66 -->\n      <g transform=\"translate(7.2 210.825346)scale(0.1 -0.1)\">\n       <defs>\n        <path d=\"M 10.6875 12.40625 \nL 21 12.40625 \nL 21 0 \nL 10.6875 0 \nz\n\" id=\"DejaVuSans-46\"/>\n       </defs>\n       <use xlink:href=\"#DejaVuSans-48\"/>\n       <use x=\"63.623047\" xlink:href=\"#DejaVuSans-46\"/>\n       <use x=\"95.410156\" xlink:href=\"#DejaVuSans-54\"/>\n       <use x=\"159.033203\" xlink:href=\"#DejaVuSans-54\"/>\n      </g>\n     </g>\n    </g>\n    <g id=\"ytick_2\">\n     <g id=\"line2d_7\">\n      <g>\n       <use style=\"stroke:#000000;stroke-width:0.8;\" x=\"36.465625\" xlink:href=\"#ma35f3d6fbb\" y=\"178.281041\"/>\n      </g>\n     </g>\n     <g id=\"text_7\">\n      <!-- 0.68 -->\n      <g transform=\"translate(7.2 182.08026)scale(0.1 -0.1)\">\n       <use xlink:href=\"#DejaVuSans-48\"/>\n       <use x=\"63.623047\" xlink:href=\"#DejaVuSans-46\"/>\n       <use x=\"95.410156\" xlink:href=\"#DejaVuSans-54\"/>\n       <use x=\"159.033203\" xlink:href=\"#DejaVuSans-56\"/>\n      </g>\n     </g>\n    </g>\n    <g id=\"ytick_3\">\n     <g id=\"line2d_8\">\n      <g>\n       <use style=\"stroke:#000000;stroke-width:0.8;\" x=\"36.465625\" xlink:href=\"#ma35f3d6fbb\" y=\"149.535955\"/>\n      </g>\n     </g>\n     <g id=\"text_8\">\n      <!-- 0.70 -->\n      <g transform=\"translate(7.2 153.335174)scale(0.1 -0.1)\">\n       <defs>\n        <path d=\"M 8.203125 72.90625 \nL 55.078125 72.90625 \nL 55.078125 68.703125 \nL 28.609375 0 \nL 18.3125 0 \nL 43.21875 64.59375 \nL 8.203125 64.59375 \nz\n\" id=\"DejaVuSans-55\"/>\n       </defs>\n       <use xlink:href=\"#DejaVuSans-48\"/>\n       <use x=\"63.623047\" xlink:href=\"#DejaVuSans-46\"/>\n       <use x=\"95.410156\" xlink:href=\"#DejaVuSans-55\"/>\n       <use x=\"159.033203\" xlink:href=\"#DejaVuSans-48\"/>\n      </g>\n     </g>\n    </g>\n    <g id=\"ytick_4\">\n     <g id=\"line2d_9\">\n      <g>\n       <use style=\"stroke:#000000;stroke-width:0.8;\" x=\"36.465625\" xlink:href=\"#ma35f3d6fbb\" y=\"120.790869\"/>\n      </g>\n     </g>\n     <g id=\"text_9\">\n      <!-- 0.72 -->\n      <g transform=\"translate(7.2 124.590088)scale(0.1 -0.1)\">\n       <use xlink:href=\"#DejaVuSans-48\"/>\n       <use x=\"63.623047\" xlink:href=\"#DejaVuSans-46\"/>\n       <use x=\"95.410156\" xlink:href=\"#DejaVuSans-55\"/>\n       <use x=\"159.033203\" xlink:href=\"#DejaVuSans-50\"/>\n      </g>\n     </g>\n    </g>\n    <g id=\"ytick_5\">\n     <g id=\"line2d_10\">\n      <g>\n       <use style=\"stroke:#000000;stroke-width:0.8;\" x=\"36.465625\" xlink:href=\"#ma35f3d6fbb\" y=\"92.045784\"/>\n      </g>\n     </g>\n     <g id=\"text_10\">\n      <!-- 0.74 -->\n      <g transform=\"translate(7.2 95.845002)scale(0.1 -0.1)\">\n       <use xlink:href=\"#DejaVuSans-48\"/>\n       <use x=\"63.623047\" xlink:href=\"#DejaVuSans-46\"/>\n       <use x=\"95.410156\" xlink:href=\"#DejaVuSans-55\"/>\n       <use x=\"159.033203\" xlink:href=\"#DejaVuSans-52\"/>\n      </g>\n     </g>\n    </g>\n    <g id=\"ytick_6\">\n     <g id=\"line2d_11\">\n      <g>\n       <use style=\"stroke:#000000;stroke-width:0.8;\" x=\"36.465625\" xlink:href=\"#ma35f3d6fbb\" y=\"63.300698\"/>\n      </g>\n     </g>\n     <g id=\"text_11\">\n      <!-- 0.76 -->\n      <g transform=\"translate(7.2 67.099916)scale(0.1 -0.1)\">\n       <use xlink:href=\"#DejaVuSans-48\"/>\n       <use x=\"63.623047\" xlink:href=\"#DejaVuSans-46\"/>\n       <use x=\"95.410156\" xlink:href=\"#DejaVuSans-55\"/>\n       <use x=\"159.033203\" xlink:href=\"#DejaVuSans-54\"/>\n      </g>\n     </g>\n    </g>\n    <g id=\"ytick_7\">\n     <g id=\"line2d_12\">\n      <g>\n       <use style=\"stroke:#000000;stroke-width:0.8;\" x=\"36.465625\" xlink:href=\"#ma35f3d6fbb\" y=\"34.555612\"/>\n      </g>\n     </g>\n     <g id=\"text_12\">\n      <!-- 0.78 -->\n      <g transform=\"translate(7.2 38.354831)scale(0.1 -0.1)\">\n       <use xlink:href=\"#DejaVuSans-48\"/>\n       <use x=\"63.623047\" xlink:href=\"#DejaVuSans-46\"/>\n       <use x=\"95.410156\" xlink:href=\"#DejaVuSans-55\"/>\n       <use x=\"159.033203\" xlink:href=\"#DejaVuSans-56\"/>\n      </g>\n     </g>\n    </g>\n   </g>\n   <g id=\"line2d_13\">\n    <path clip-path=\"url(#pc23b79c647)\" d=\"M 51.683807 214.756364 \nL 55.264555 147.062057 \nL 58.845304 106.530511 \nL 62.426053 91.351567 \nL 66.006801 82.506565 \nL 69.58755 76.325212 \nL 73.168299 71.474169 \nL 76.749047 67.024987 \nL 80.329796 62.761909 \nL 83.910545 60.437846 \nL 87.491293 58.499547 \nL 91.072042 56.34891 \nL 94.652791 54.594748 \nL 98.233539 52.887498 \nL 101.814288 51.428902 \nL 105.395037 49.984719 \nL 108.975785 48.486533 \nL 112.556534 47.412761 \nL 116.137283 46.132258 \nL 119.718031 44.982241 \nL 123.29878 43.660038 \nL 126.879529 42.712936 \nL 130.460277 41.636347 \nL 134.041026 40.822556 \nL 137.621775 39.944089 \nL 141.202523 39.033686 \nL 144.783272 38.28289 \nL 148.364021 37.465478 \nL 151.944769 36.572053 \nL 155.525518 35.776141 \nL 159.106267 34.947849 \nL 162.687015 34.097604 \nL 166.267764 33.423403 \nL 169.848513 32.824613 \nL 173.429261 32.246185 \nL 177.01001 31.729933 \nL 180.590759 31.228408 \nL 184.171507 30.679534 \nL 187.752256 30.138395 \nL 191.333005 29.606538 \nL 194.913753 29.073918 \nL 198.494502 28.601819 \nL 202.075251 28.175224 \nL 205.655999 27.72632 \nL 209.236748 27.325382 \nL 212.817497 26.929791 \nL 216.398245 26.559142 \nL 219.978994 26.184317 \nL 223.559743 25.789668 \nL 227.140491 25.368413 \nL 230.72124 24.935499 \nL 234.301989 24.514137 \nL 237.882737 24.122192 \nL 241.463486 23.810233 \nL 245.044235 23.490922 \nL 248.624983 23.155247 \nL 252.205732 22.759577 \nL 255.786481 22.3973 \nL 259.367229 22.116459 \nL 262.947978 21.862805 \nL 266.528727 21.555921 \nL 270.109475 21.300039 \nL 273.690224 21.104897 \nL 277.270973 20.89256 \nL 280.851721 20.66816 \nL 284.43247 20.430286 \nL 288.013219 20.231008 \nL 291.593967 20.042202 \nL 295.174716 19.856856 \nL 298.755465 19.666308 \nL 302.336213 19.393264 \nL 305.916962 19.169154 \nL 309.497711 18.958858 \nL 313.078459 18.785417 \nL 316.659208 18.615783 \nL 320.239957 18.473548 \nL 323.820705 18.341202 \nL 327.401454 18.18014 \nL 330.982203 18.02177 \nL 334.562951 17.902567 \nL 338.1437 17.757239 \nL 341.724449 17.630357 \nL 345.305197 17.507107 \nL 348.885946 17.368484 \nL 352.466695 17.207788 \nL 356.047443 17.083636 \n\" style=\"fill:none;stroke:#1f77b4;stroke-linecap:square;stroke-width:1.5;\"/>\n   </g>\n   <g id=\"patch_3\">\n    <path d=\"M 36.465625 224.64 \nL 36.465625 7.2 \n\" style=\"fill:none;stroke:#000000;stroke-linecap:square;stroke-linejoin:miter;stroke-width:0.8;\"/>\n   </g>\n   <g id=\"patch_4\">\n    <path d=\"M 371.265625 224.64 \nL 371.265625 7.2 \n\" style=\"fill:none;stroke:#000000;stroke-linecap:square;stroke-linejoin:miter;stroke-width:0.8;\"/>\n   </g>\n   <g id=\"patch_5\">\n    <path d=\"M 36.465625 224.64 \nL 371.265625 224.64 \n\" style=\"fill:none;stroke:#000000;stroke-linecap:square;stroke-linejoin:miter;stroke-width:0.8;\"/>\n   </g>\n   <g id=\"patch_6\">\n    <path d=\"M 36.465625 7.2 \nL 371.265625 7.2 \n\" style=\"fill:none;stroke:#000000;stroke-linecap:square;stroke-linejoin:miter;stroke-width:0.8;\"/>\n   </g>\n  </g>\n </g>\n <defs>\n  <clipPath id=\"pc23b79c647\">\n   <rect height=\"217.44\" width=\"334.8\" x=\"36.465625\" y=\"7.2\"/>\n  </clipPath>\n </defs>\n</svg>\n",
      "image/png": "[encoded data removed]"
     },
     "metadata": {
      "needs_background": "light"
     }
    }
   ],
   "source": [
    "plt.plot(range(1, len(sfs.subsets_)+1), result)"
   ]
  },
  {
   "cell_type": "code",
   "execution_count": 31,
   "metadata": {},
   "outputs": [],
   "source": [
    "prev_features = None\n",
    "for key, value in sfs.subsets_.items():\n",
    "    if prev_features is None:\n",
    "        prev_features = [value['feature_idx'][0]]\n",
    "    else:\n",
    "        prev_features += [next(iter(set(value['feature_idx']) - set(prev_features)))]"
   ]
  },
  {
   "cell_type": "code",
   "execution_count": 51,
   "metadata": {},
   "outputs": [
    {
     "output_type": "execute_result",
     "data": {
      "text/plain": [
       "array(['tf_lemma', 'log_CDcount', 'log_SUBTLWF', 'log_tf_lemma',\n",
       "       'glove_word_277', 'log_tf_summed_bpe', 'log_google_ngram_2_head',\n",
       "       'glove_word_151', 'glove_word_279', 'tfidf', 'glove_word_268',\n",
       "       'elmo_word_541', 'elmo_word_726', 'is_acronym', 'elmo_word_646',\n",
       "       'glove_word_284', 'glove_word_285', 'elmo_word_209',\n",
       "       'glove_word_33', 'elmo_word_99'], dtype='<U26')"
      ]
     },
     "metadata": {},
     "execution_count": 51
    }
   ],
   "source": [
    "i = 20\n",
    "np.array(picks)[np.array(sfs.subsets_[i]['feature_idx'])]"
   ]
  },
  {
   "cell_type": "code",
   "execution_count": 3,
   "metadata": {},
   "outputs": [],
   "source": [
    "from sklearn.svm import LinearSVR, SVR\n",
    "from sklearn.model_selection import GridSearchCV"
   ]
  },
  {
   "cell_type": "code",
   "execution_count": 7,
   "metadata": {},
   "outputs": [
    {
     "output_type": "execute_result",
     "data": {
      "text/plain": [
       "SVR(kernel='sigmoid')"
      ]
     },
     "metadata": {},
     "execution_count": 7
    }
   ],
   "source": [
    "model = LinearRegression()\n",
    "model.fit(X_picks, y)"
   ]
  },
  {
   "source": [
    "model = SVR()\n",
    "param_grid = {'C': [0.1, 1, 10, 100, 1000],  \n",
    "              'gamma': [1, 0.1, 0.01, 0.001, 0.0001], \n",
    "              'kernel': ['rbf']}  \n",
    "grid = GridSearchCV(estimator=model, param_grid=param_grid, cv=custom_cv_folds(single_train, n_splits=5), scoring=make_scorer(pearson), verbose=3)\n",
    "grid.fit(X_picks, y)"
   ],
   "cell_type": "code",
   "metadata": {},
   "execution_count": null,
   "outputs": []
  },
  {
   "cell_type": "code",
   "execution_count": null,
   "metadata": {},
   "outputs": [],
   "source": [
    "X_picks.shape"
   ]
  },
  {
   "source": [
    "np.array(picks)[np.array(sfs.subsets_[150]['feature_idx'])]\n",
    "#np.array(sfs.subsets_[150]['feature_idx'])"
   ],
   "cell_type": "code",
   "metadata": {},
   "execution_count": 88,
   "outputs": [
    {
     "output_type": "execute_result",
     "data": {
      "text/plain": [
       "array(['tf_summed_bpe_sum', 'Lg10CD_sum', 'log_tf_lemma_sum',\n",
       "       'log_Cdlow_head', 'log_CDcount_tail', 'log_tf_head',\n",
       "       'log_FREQcount_head', 'glove_word_head_277', 'log_FREQlow_tail',\n",
       "       'FREQlow_tail', 'SUBTLWF_tail', 'glove_word_sum_201',\n",
       "       'glove_word_head_173', 'log_google_ngram_2_head_sum',\n",
       "       'log_tf_ngram_2_head', 'log_tf_ngram_3_sum',\n",
       "       'log_google_ngram_2_min_tail', 'glove_word_tail_151',\n",
       "       'glove_word_tail_221', 'glove_word_head_210',\n",
       "       'glove_word_tail_173', 'log_word_len_sum',\n",
       "       'log_google_ngram_3_mid_sum', 'log_google_ngram_3_tail_head',\n",
       "       'elmo_word_head_21', 'log_google_ngram_3_std_sum',\n",
       "       'tfidf_ngram_3_tail', 'glove_word_head_236', 'log_tf_ngram_2_tail',\n",
       "       'log_google_ngram_2_tail_sum', 'elmo_word_sum_488',\n",
       "       'log_google_ngram_3_std_tail', 'glove_word_head_68',\n",
       "       'glove_word_tail_207', 'log_tfidf_ngram_3_tail',\n",
       "       'google_ngram_3_head_head', 'glove_word_sum_215',\n",
       "       'log_google_ngram_3_head_tail', 'glove_word_tail_161',\n",
       "       'glove_word_tail_132', 'glove_word_sum_44',\n",
       "       'log_google_ngram_3_mean_sum', 'glove_word_tail_175',\n",
       "       'glove_word_tail_41', 'glove_word_sum_99',\n",
       "       'log_google_ngram_3_max_sum', 'glove_word_head_196',\n",
       "       'glove_word_head_279', 'DaleChallIndex', 'glove_context_277',\n",
       "       'glove_word_head_149', 'glove_word_head_248',\n",
       "       'glove_word_tail_208', 'elmo_word_tail_417', 'glove_word_tail_246',\n",
       "       'glove_word_sum_174', 'glove_word_sum_66', 'glove_word_head_150',\n",
       "       'glove_word_head_237', 'glove_word_tail_200',\n",
       "       'glove_word_head_117', 'glove_word_tail_125',\n",
       "       'glove_word_tail_253', 'glove_word_sum_140',\n",
       "       'log_google_ngram_3_tail_sum', 'glove_word_head_36',\n",
       "       'glove_word_head_18', 'glove_word_sum_237', 'glove_word_head_52',\n",
       "       'glove_word_head_104', 'glove_word_head_252', 'elmo_word_tail_726',\n",
       "       'glove_word_tail_131', 'glove_word_tail_63', 'glove_word_head_156',\n",
       "       'glove_word_sum_243', 'glove_word_tail_176', 'glove_word_sum_132',\n",
       "       'glove_word_tail_2', 'glove_word_tail_87', 'tfidf_head',\n",
       "       'glove_word_tail_238', 'glove_word_head_298', 'glove_word_sum_14',\n",
       "       'glove_word_tail_211', 'glove_word_tail_152', 'glove_word_tail_44',\n",
       "       'glove_word_head_198', 'glove_word_sum_11', 'glove_word_head_283',\n",
       "       'glove_word_head_15', 'glove_word_head_161', 'glove_word_sum_216',\n",
       "       'glove_word_sum_27', 'glove_word_head_213', 'glove_word_tail_235',\n",
       "       'glove_word_tail_51', 'glove_word_head_129', 'glove_word_sum_65',\n",
       "       'glove_word_head_136', 'glove_word_sum_103', 'glove_word_head_76',\n",
       "       'glove_word_head_26', 'google_ngram_3_min_tail',\n",
       "       'glove_word_head_131', 'glove_word_head_292',\n",
       "       'glove_word_tail_187', 'glove_word_sum_278', 'glove_word_tail_61',\n",
       "       'glove_word_head_128', 'glove_word_sum_183', 'glove_word_tail_188',\n",
       "       'glove_word_tail_251', 'glove_word_head_59', 'glove_word_tail_105',\n",
       "       'elmo_word_tail_573', 'glove_word_tail_189', 'glove_word_head_251',\n",
       "       'glove_word_sum_143', 'glove_word_head_158',\n",
       "       'log_phoneme_transition_max_tail', 'glove_word_sum_102',\n",
       "       'glove_word_sum_139', 'glove_word_tail_13', 'glove_word_tail_118',\n",
       "       'glove_word_sum_125', 'glove_word_tail_30', 'glove_word_sum_108',\n",
       "       'phoneme_transition_max_tail', 'glove_word_tail_116',\n",
       "       'glove_word_sum_29', 'glove_word_head_67', 'glove_word_sum_83',\n",
       "       'is_acronym_sum', 'glove_word_tail_56', 'glove_word_tail_264',\n",
       "       'log_is_pronoun_sum', 'glove_word_tail_192', 'glove_word_head_170',\n",
       "       'glove_word_tail_55', 'glove_word_sum_16', 'glove_word_sum_87',\n",
       "       'glove_word_sum_93', 'glove_word_sum_193', 'glove_word_tail_5',\n",
       "       'glove_word_tail_6', 'glove_word_tail_26', 'elmo_word_sum_573',\n",
       "       'elmo_word_sum_848', 'log_tfidf_ngram_2_sum'], dtype='<U31')"
      ]
     },
     "metadata": {},
     "execution_count": 88
    }
   ]
  },
  {
   "cell_type": "code",
   "execution_count": null,
   "metadata": {},
   "outputs": [],
   "source": []
  }
 ]
}